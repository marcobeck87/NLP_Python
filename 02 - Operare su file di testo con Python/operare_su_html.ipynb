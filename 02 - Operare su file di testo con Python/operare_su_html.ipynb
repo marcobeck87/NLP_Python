{
  "nbformat": 4,
  "nbformat_minor": 0,
  "metadata": {
    "colab": {
      "name": "operare_su_html.ipynb",
      "version": "0.3.2",
      "provenance": [],
      "include_colab_link": true
    },
    "kernelspec": {
      "name": "python3",
      "display_name": "Python 3"
    }
  },
  "cells": [
    {
      "cell_type": "markdown",
      "metadata": {
        "id": "view-in-github",
        "colab_type": "text"
      },
      "source": [
        "<a href=\"https://colab.research.google.com/github/ProfAI/nlp00/blob/master/2%20-%20Operare%20su%20file%20di%20testo%20con%20Python/operare_su_html.ipynb\" target=\"_parent\"><img src=\"https://colab.research.google.com/assets/colab-badge.svg\" alt=\"Open In Colab\"/></a>"
      ]
    },
    {
      "metadata": {
        "id": "3iCaJ0UMITXX",
        "colab_type": "text"
      },
      "cell_type": "markdown",
      "source": [
        "# Operare su file HTML e pagine Web.\n",
        "In questo notebook vedremo come estrarre testo da file HTML, un linguaggio di markup per l'impaginazione e la formattazione di documenti ipertestuali (in parole povere che contengono link), oggi utilizzato prevalentemente per creare pagine web.\n",
        "<br><br>\n",
        "Per farlo potremmo impazzire un po' usando il metodo *find(pattern)* delle stringhe in combinazione con lo slicing, ma la cosa migliore e più intelligente da fare è usare *BeautifulSoup*, una popolarissima libreria python per lo scraping delle pagine web.\n",
        "<br><br>\n",
        "Installiamo *BeautifulSoup* tramite pip."
      ]
    },
    {
      "metadata": {
        "id": "1DNGtA85IQvH",
        "colab_type": "code",
        "outputId": "89970162-92f4-4c4f-90a7-5d6f0834278c",
        "colab": {
          "base_uri": "https://localhost:8080/",
          "height": 34
        }
      },
      "cell_type": "code",
      "source": [
        "!pip install beautifulsoup4"
      ],
      "execution_count": 0,
      "outputs": [
        {
          "output_type": "stream",
          "text": [
            "Requirement already satisfied: beautifulsoup4 in /usr/local/lib/python3.6/dist-packages (4.6.3)\n"
          ],
          "name": "stdout"
        }
      ]
    },
    {
      "metadata": {
        "id": "TPwKxcKKma0e",
        "colab_type": "text"
      },
      "cell_type": "markdown",
      "source": [
        "## Estarre testo da file HTML\n",
        "\n",
        "#### SOLO PER CHI USA GOOGLE COLABORATORY\n",
        "Se usi Google Colaboratory devi caricare i file che useremo all'interno del tuo ambiente virtuale, per farlo esegui il codice qui sotto, premi sul tasto upload che comparirà e carica il file:\n",
        " - articolo_dl.html\n",
        "\n",
        "che puoi trovare all'interno della cartella data della directory Operare su file di testo della repository del corso."
      ]
    },
    {
      "metadata": {
        "id": "PtVop2fhrfQ1",
        "colab_type": "code",
        "colab": {
          "resources": {
            "http://localhost:8080/nbextensions/google.colab/files.js": {
              "data": "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",
              "ok": true,
              "headers": [
                [
                  "content-type",
                  "application/javascript"
                ]
              ],
              "status": 200,
              "status_text": ""
            }
          },
          "base_uri": "https://localhost:8080/",
          "height": 71
        },
        "outputId": "3234be76-2b59-416c-8b7d-ef815daa69c9"
      },
      "cell_type": "code",
      "source": [
        "from google.colab import files\n",
        "uploaded = files.upload()"
      ],
      "execution_count": 1,
      "outputs": [
        {
          "output_type": "display_data",
          "data": {
            "text/html": [
              "\n",
              "     <input type=\"file\" id=\"files-5dedad1c-73dc-4d80-b8ec-55ce120ed493\" name=\"files[]\" multiple disabled />\n",
              "     <output id=\"result-5dedad1c-73dc-4d80-b8ec-55ce120ed493\">\n",
              "      Upload widget is only available when the cell has been executed in the\n",
              "      current browser session. Please rerun this cell to enable.\n",
              "      </output>\n",
              "      <script src=\"/nbextensions/google.colab/files.js\"></script> "
            ],
            "text/plain": [
              "<IPython.core.display.HTML object>"
            ]
          },
          "metadata": {
            "tags": []
          }
        },
        {
          "output_type": "stream",
          "text": [
            "Saving articolo_dl.html to articolo_dl.html\n"
          ],
          "name": "stdout"
        }
      ]
    },
    {
      "metadata": {
        "id": "GG07_LMdqvbl",
        "colab_type": "text"
      },
      "cell_type": "markdown",
      "source": [
        "Per caricare un file HTML dobbiamo prima aprire il file come fosse un normale file di testo e leggerne il contenuto."
      ]
    },
    {
      "metadata": {
        "id": "p_RTpHuZrXGZ",
        "colab_type": "code",
        "colab": {
          "base_uri": "https://localhost:8080/",
          "height": 2300
        },
        "outputId": "4c22c2ea-07b8-40a1-e1ac-0c315007ba97"
      },
      "cell_type": "code",
      "source": [
        "html_file = open(\"articolo_dl.html\")\n",
        "html_code = html_file.read()\n",
        "\n",
        "print(html_code)"
      ],
      "execution_count": 3,
      "outputs": [
        {
          "output_type": "stream",
          "text": [
            "<html>\n",
            "\n",
            "\t<head>\n",
            "\t\t<title>\n",
            "\t\tDeep Learning svelato | Giuseppe Gullo\n",
            "\t\t</title>\n",
            "\t</head>\n",
            "\t<body>\n",
            "\n",
            "\t\t<h1>\n",
            "\t\t\tDeep Learning svelato: ecco come funzionano le Reti Neurali Artificiali\n",
            "\t\t</h1>\n",
            "\n",
            "\t\t<h3>\n",
            "\t\t\tdi Giuseppe Gullo\n",
            "\t\t</h3>\n",
            "\n",
            "\t\t<p>\n",
            "\t\t\tC’è tanto rumore intorno ai termini Reti Neurali Artificiali (dall’inglese Artificial Neural Network — ANN) e l’apprendimento profondo (dall’inglese Deep Learning, meglio chiamarlo così).\n",
            "\t\t\tScrivo questo breve post giusto per farti capire che, in fondo, tutto questo rumore è ben giustificato!\n",
            "\t\t\tL’intelligenza artificiale sta avanzato in maniera esponenziale, trainata dai progressi nel machine learning che a loro volta derivano per gran parte da un’ unica tipologia di modelli: le reti neurali artificiali.\n",
            "\t\t</p>\n",
            "\n",
            "\t\t<p>\n",
            "\t\t\tUna rete neurale artificiale è un modello di machine learning che si ispira al funzionamento del cervello animale, quello che abbiamo anche noi mammiferi intelligenti all’interno della nostra scatola cranica, che può essere utilizzato per risolvere essenzialmente tre tipi di problemi:\n",
            "\t\t\t<ul>\n",
            "\t\t\t\t<li>\n",
            "\t\t\t\t\t<b>Classificazione</b>: in cui la variabile da prevedere è di tipo categorico, cioè una classe (es. abbiamo un insieme di immagini di gatti e le vogliamo usare per riconoscere i gatti in altre foto)\n",
            "\t\t\t\t</li>\n",
            "\t\t\t\t<li>\n",
            "\t\t\t\t\t<b>Regressione</b>: in cui la variabile da prevedere è di tipo continuo, cioè un numero (es. abbiamo lo storico del valore di FIAT in borsa e vogliamo utilizzarlo per prevedere il valore futuro)\n",
            "\t\t\t\t</li>\n",
            "\t\t\t\t<li>\n",
            "\t\t\t\t\t<b>Clustering</b>: problema molto simile alla classificazione ma in cui non abbiamo a disposizione delle classi (es. abbiamo un insieme di immagini di tumori, vogliamo riconoscere quali sono maligni e quali benigni)\n",
            "\t\t\t\t</li>\n",
            "\t\t\t</ul>\n",
            "\n",
            "\t\t</p>\n",
            "\n",
            "\t\t\t<h2>\n",
            "\t\t\t\tCome il cervello apprende\n",
            "\t\t\t</h2>\n",
            "\n",
            "\t\t\t<p>\n",
            "\t\t\t\tIl cervello è composto da centinaia di miliardi di cellule nervose, i <b>neuroni</b>.\n",
            "\t\t\t\tOgni volta che il cervello riceve uno stimolo sensoriale un gruppo di neuroni riceve un segnale, chiamato <b>potenziale d’azione</b>, se il potenziale di azione è abbastanza forte viene propagato ai neuroni vicini tramite dei canali chiamati sinapsi.\n",
            "\t\t\t</p>\n",
            "\n",
            "\t\t\t<p>\n",
            "\t\t\t\tQuesto processo si ripete a cascata, neuroni attivano altri neuroni, fino a quando il segnale si esaurisce.\n",
            "\t\t\t\tI neuroni che si attivano insieme si legano insieme, questo è il concetto alla base dell’apprendimento (apprendimento hebbiano), così i neuroni si uniscono in complessi reticoli che sono proprio le reti neurali, la sede di tutta la nostra conoscenza.\n",
            "\t\t\t</p>\n",
            "\n",
            "\t\t<h2>\n",
            "\t\t\tUn'approccio biologico al Machine Learning\n",
            "\t\t</h2>\n",
            "\n",
            "\t\t<p>\n",
            "\t\t\tLe reti neurali artificiali utilizzano lo stesso approccio per permettere alle macchine di apprendere dai dati, cercando relazioni tra di essi e raggiungendo livelli di astrazione sempre più profondi.\n",
            "\n",
            "\t\t\tAll’interno di una rete neurale artificiale i neuroni sono disposti su più strati:\n",
            "\n",
            "\t\t\t<ul>\n",
            "\t\t\t\t<li>\n",
            "\t\t\t\t\t<b>Uno strato di input</b>: che prende in ingresso i dati, ogni neurone di questo strato rappresenta una proprietà del dataset\n",
            "\t\t\t\t</li>\n",
            "\t\t\t\t<li>\n",
            "\t\t\t\t\t<b>Uno strato di output</b>: che fornisce il risultato della rete neurale\n",
            "\t\t\t\t</li>\n",
            "\t\t\t\t<li>\n",
            "\t\t\t\t\t<b>Uno o più strati nascosti</b>: che si trovano tra lo strato di input e quello di output.\n",
            "\t\t\t\t</li>\n",
            "\t\t\t</ul>\n",
            "\n",
            "\t\t\tIl compito degli strati nascosti è di utilizzare le proprietà (features) del dataset per apprendere nuove proprietà.\n",
            "\n",
            "\t\t\tSolitamente prima della fase di creazione di un modello di machine learning, il dataset viene analizzato e manipolato per estrarre proprietà significative da quelle di cui già si dispone. Questo processo prende il nome di <b>feature extraction</b> e ha un ruolo fondamentale per la creazione di un modello di machine learning robusto.\n",
            "\n",
            "\t\t\tUna rete neurale artificiale automatizza il processo di feature extraction all’interno di ogni strato nascosto, per questo motivo le reti neurali artificiali sono definite modelli end-to-end, appunto perché prendono come input i dati grezzi del dataset per svolgere attività come classificazione, regressione o clustering.\n",
            "\n",
            "\t\t\tUna rete è definita “profonda” (dall’inglese deep) quando contiene due o più strati nascosti, in questi casi la rete utilizzerà le proprietà apprese in uno strato nascosto per apprendere ulteriori nuove proprietà ancora più significative nello strato successivo, fino a utilizzarle per eseguire classificazione, regressione o clustering nello strato di output.\n",
            "\n",
            "\t\t\tLa performance di un modello di machine learning, intesa come precisione o errore, tende a convergere a un valore massimo, al contrario i modelli basati sul deep learning non hanno questa limitazione e migliorano gradualmente all’aumentare del numero di dati disponibili per l’addestramento, proprio grazie alla loro capacità di astrazione e di apprendere nuove proprietà dai dati.\n",
            "\n",
            "\t\t</p>\n",
            "\n",
            "\t\t<h2>\n",
            "\t\t\tIstruire una rete neurale artificiale\n",
            "\t\t</h2>\n",
            "\n",
            "\t\t<p>\n",
            "\t\t\tLe reti neurali artificiali non sono una novità, infatti sono conosciute da più di mezzo secolo, ma sono rimaste chiuse in un cassetto a causa dell’assenza di un metodo efficace ed efficiente per addestrarle.\n",
            "\n",
            "\t\t\tQuesto è durato fino al 1986, anno in cui Jeff Hinton insieme a David Rumelhart e Ronald J. Williams proposero in questo paper l’utilizzo dell’algoritmo della <b>Retropropagazione</b> (dall’inglese Backpropagation) che ha stabilito la nascita di quello che oggi è il <b>Deep Learning</b>, ovvero l’insieme di metodi utilizzati per addestrare una rete neurale artificiale profonda.\n",
            "\n",
            "\t\t\tAncora oggi, a più di 30 anni di distanza, la Retropropagazione è l’algoritmo più importante del deep learning, grazie Jeff!\n",
            "\n",
            "\t\t</p>\n",
            "\n",
            "\t\t<h2>\n",
            "\t\t\tQuando usare il Deep Learning\n",
            "\t\t</h2>\n",
            "\n",
            "\t\t<p>\n",
            "\t\t\tA differenza di quanto potresti pensare, le reti neurali non sono sempre la soluzione migliore, per due motivi in particolare:\n",
            "\t\t\t<ul>\n",
            "\t\t\t\t<li>\n",
            "\t\t\t\t\tPer essere addestrate richiedono molti, molti (molti) dati, almeno nell’ordine di migliaia.\n",
            "\t\t\t\t</li>\n",
            "\t\t\t\t<li>\n",
            "\t\t\t\t\tSono computazionalmente davvero dispendiose e spesso per completare l’addestramento in tempi umani è necessario parallelizzare il lavoro su di un <b>cluster di GPU</b>.\n",
            "\t\t\t\t</li>\n",
            "\t\t\t</ul>\n",
            "\t\t\tInoltre per molti tipi di problemi relativamente semplici l’intervento di un modello basato sulle reti neurali non è neanche necessario, ma è possibile ottenere ottimi risultati con modelli meno complessi.\n",
            "\t\t</p>\n",
            "\n",
            "\t\t<h2>\n",
            "\t\t\tDeep Learning nella vita reale\n",
            "\t\t</h2>\n",
            "\n",
            "\t\t<p>\n",
            "\t\t\tI sistemi di computer vision odierni sono in grado di riconoscere persone, animali e oggetti con una precisione che è addirittura maggiore di quella dell’uomo, questi sistemi usano il Deep Learning.\n",
            "\n",
            "\t\t\tLe tecnologie di riconoscimento del parlato di Siri, Alexa e Cortana stanno pian piano raggiungendo lo stato dell’arte, queste tecnologie usano il Deep Learning.\n",
            "\n",
            "\t\t\tNel 2015 <b>AlphaGo</b> è riuscito a battere il campione mondiale di Go Lee Sedolin una partita ufficiale, secondo gli esperti un risultato del genere non sarebbe dovuto arrivare prima di un altro decennio. AlphaGo usa il Deep Learning.\n",
            "\n",
            "\t\t\tGoogle è in assoluto la società che più si serve del Deep Learning e che sta maggiormente contribuendo al suo sviluppo, infatti la maggior parte dei servizi di Google, partendo da Search e passando per Gmail e Translate, utilizzano in un modo o nell’altro le reti neurali artificial e questo ha fortemente inciso sul suo successo su scala globale.\n",
            "\t\t</p>\n",
            "\n",
            "\t</body>\n",
            "</html>\n"
          ],
          "name": "stdout"
        }
      ]
    },
    {
      "metadata": {
        "id": "iDkP7tayrypV",
        "colab_type": "text"
      },
      "cell_type": "markdown",
      "source": [
        "Adesso che abbiamo il codice HTML all'interno di una variabile stringa, passiamo questa variabile a BeautifulSoup"
      ]
    },
    {
      "metadata": {
        "id": "nzcCFCFqq-yA",
        "colab_type": "code",
        "colab": {
          "base_uri": "https://localhost:8080/",
          "height": 34
        },
        "outputId": "a854bb75-a5fa-4d23-dcf9-fde905ef1c8b"
      },
      "cell_type": "code",
      "source": [
        "from bs4 import BeautifulSoup\n",
        "\n",
        "article_soup = BeautifulSoup(html_code)\n",
        "print(type(article_soup))"
      ],
      "execution_count": 12,
      "outputs": [
        {
          "output_type": "stream",
          "text": [
            "<class 'bs4.BeautifulSoup'>\n"
          ],
          "name": "stdout"
        }
      ]
    },
    {
      "metadata": {
        "id": "kged1Cn_sNn3",
        "colab_type": "text"
      },
      "cell_type": "markdown",
      "source": [
        "Se il codice HTML non fosse già ben indentato e formattato, possiamo usare il metodo *prettify()* per stamparlo in maniera leggibile."
      ]
    },
    {
      "metadata": {
        "id": "8TP76pD6sDKg",
        "colab_type": "code",
        "colab": {
          "base_uri": "https://localhost:8080/",
          "height": 2711
        },
        "outputId": "4d3964bf-c238-4b48-ef37-d1c6668a1e9e"
      },
      "cell_type": "code",
      "source": [
        "print(article_soup.prettify())"
      ],
      "execution_count": 5,
      "outputs": [
        {
          "output_type": "stream",
          "text": [
            "<html>\n",
            " <head>\n",
            "  <title>\n",
            "   Deep Learning svelato | Giuseppe Gullo\n",
            "  </title>\n",
            " </head>\n",
            " <body>\n",
            "  <h1>\n",
            "   Deep Learning svelato: ecco come funzionano le Reti Neurali Artificiali\n",
            "  </h1>\n",
            "  <h3>\n",
            "   di Giuseppe Gullo\n",
            "  </h3>\n",
            "  <p>\n",
            "   C’è tanto rumore intorno ai termini Reti Neurali Artificiali (dall’inglese Artificial Neural Network — ANN) e l’apprendimento profondo (dall’inglese Deep Learning, meglio chiamarlo così).\n",
            "\t\t\tScrivo questo breve post giusto per farti capire che, in fondo, tutto questo rumore è ben giustificato!\n",
            "\t\t\tL’intelligenza artificiale sta avanzato in maniera esponenziale, trainata dai progressi nel machine learning che a loro volta derivano per gran parte da un’ unica tipologia di modelli: le reti neurali artificiali.\n",
            "  </p>\n",
            "  <p>\n",
            "   Una rete neurale artificiale è un modello di machine learning che si ispira al funzionamento del cervello animale, quello che abbiamo anche noi mammiferi intelligenti all’interno della nostra scatola cranica, che può essere utilizzato per risolvere essenzialmente tre tipi di problemi:\n",
            "  </p>\n",
            "  <ul>\n",
            "   <li>\n",
            "    <b>\n",
            "     Classificazione\n",
            "    </b>\n",
            "    : in cui la variabile da prevedere è di tipo categorico, cioè una classe (es. abbiamo un insieme di immagini di gatti e le vogliamo usare per riconoscere i gatti in altre foto)\n",
            "   </li>\n",
            "   <li>\n",
            "    <b>\n",
            "     Regressione\n",
            "    </b>\n",
            "    : in cui la variabile da prevedere è di tipo continuo, cioè un numero (es. abbiamo lo storico del valore di FIAT in borsa e vogliamo utilizzarlo per prevedere il valore futuro)\n",
            "   </li>\n",
            "   <li>\n",
            "    <b>\n",
            "     Clustering\n",
            "    </b>\n",
            "    : problema molto simile alla classificazione ma in cui non abbiamo a disposizione delle classi (es. abbiamo un insieme di immagini di tumori, vogliamo riconoscere quali sono maligni e quali benigni)\n",
            "   </li>\n",
            "  </ul>\n",
            "  <h2>\n",
            "   Come il cervello apprende\n",
            "  </h2>\n",
            "  <p>\n",
            "   Il cervello è composto da centinaia di miliardi di cellule nervose, i\n",
            "   <b>\n",
            "    neuroni\n",
            "   </b>\n",
            "   .\n",
            "\t\t\t\tOgni volta che il cervello riceve uno stimolo sensoriale un gruppo di neuroni riceve un segnale, chiamato\n",
            "   <b>\n",
            "    potenziale d’azione\n",
            "   </b>\n",
            "   , se il potenziale di azione è abbastanza forte viene propagato ai neuroni vicini tramite dei canali chiamati sinapsi.\n",
            "  </p>\n",
            "  <p>\n",
            "   Questo processo si ripete a cascata, neuroni attivano altri neuroni, fino a quando il segnale si esaurisce.\n",
            "\t\t\t\tI neuroni che si attivano insieme si legano insieme, questo è il concetto alla base dell’apprendimento (apprendimento hebbiano), così i neuroni si uniscono in complessi reticoli che sono proprio le reti neurali, la sede di tutta la nostra conoscenza.\n",
            "  </p>\n",
            "  <h2>\n",
            "   Un'approccio biologico al Machine Learning\n",
            "  </h2>\n",
            "  <p>\n",
            "   Le reti neurali artificiali utilizzano lo stesso approccio per permettere alle macchine di apprendere dai dati, cercando relazioni tra di essi e raggiungendo livelli di astrazione sempre più profondi.\n",
            "\n",
            "\t\t\tAll’interno di una rete neurale artificiale i neuroni sono disposti su più strati:\n",
            "  </p>\n",
            "  <ul>\n",
            "   <li>\n",
            "    <b>\n",
            "     Uno strato di input\n",
            "    </b>\n",
            "    : che prende in ingresso i dati, ogni neurone di questo strato rappresenta una proprietà del dataset\n",
            "   </li>\n",
            "   <li>\n",
            "    <b>\n",
            "     Uno strato di output\n",
            "    </b>\n",
            "    : che fornisce il risultato della rete neurale\n",
            "   </li>\n",
            "   <li>\n",
            "    <b>\n",
            "     Uno o più strati nascosti\n",
            "    </b>\n",
            "    : che si trovano tra lo strato di input e quello di output.\n",
            "   </li>\n",
            "  </ul>\n",
            "  Il compito degli strati nascosti è di utilizzare le proprietà (features) del dataset per apprendere nuove proprietà.\n",
            "\n",
            "\t\t\tSolitamente prima della fase di creazione di un modello di machine learning, il dataset viene analizzato e manipolato per estrarre proprietà significative da quelle di cui già si dispone. Questo processo prende il nome di\n",
            "  <b>\n",
            "   feature extraction\n",
            "  </b>\n",
            "  e ha un ruolo fondamentale per la creazione di un modello di machine learning robusto.\n",
            "\n",
            "\t\t\tUna rete neurale artificiale automatizza il processo di feature extraction all’interno di ogni strato nascosto, per questo motivo le reti neurali artificiali sono definite modelli end-to-end, appunto perché prendono come input i dati grezzi del dataset per svolgere attività come classificazione, regressione o clustering.\n",
            "\n",
            "\t\t\tUna rete è definita “profonda” (dall’inglese deep) quando contiene due o più strati nascosti, in questi casi la rete utilizzerà le proprietà apprese in uno strato nascosto per apprendere ulteriori nuove proprietà ancora più significative nello strato successivo, fino a utilizzarle per eseguire classificazione, regressione o clustering nello strato di output.\n",
            "\n",
            "\t\t\tLa performance di un modello di machine learning, intesa come precisione o errore, tende a convergere a un valore massimo, al contrario i modelli basati sul deep learning non hanno questa limitazione e migliorano gradualmente all’aumentare del numero di dati disponibili per l’addestramento, proprio grazie alla loro capacità di astrazione e di apprendere nuove proprietà dai dati.\n",
            "  <h2>\n",
            "   Istruire una rete neurale artificiale\n",
            "  </h2>\n",
            "  <p>\n",
            "   Le reti neurali artificiali non sono una novità, infatti sono conosciute da più di mezzo secolo, ma sono rimaste chiuse in un cassetto a causa dell’assenza di un metodo efficace ed efficiente per addestrarle.\n",
            "\n",
            "\t\t\tQuesto è durato fino al 1986, anno in cui Jeff Hinton insieme a David Rumelhart e Ronald J. Williams proposero in questo paper l’utilizzo dell’algoritmo della\n",
            "   <b>\n",
            "    Retropropagazione\n",
            "   </b>\n",
            "   (dall’inglese Backpropagation) che ha stabilito la nascita di quello che oggi è il\n",
            "   <b>\n",
            "    Deep Learning\n",
            "   </b>\n",
            "   , ovvero l’insieme di metodi utilizzati per addestrare una rete neurale artificiale profonda.\n",
            "\n",
            "\t\t\tAncora oggi, a più di 30 anni di distanza, la Retropropagazione è l’algoritmo più importante del deep learning, grazie Jeff!\n",
            "  </p>\n",
            "  <h2>\n",
            "   Quando usare il Deep Learning\n",
            "  </h2>\n",
            "  <p>\n",
            "   A differenza di quanto potresti pensare, le reti neurali non sono sempre la soluzione migliore, per due motivi in particolare:\n",
            "  </p>\n",
            "  <ul>\n",
            "   <li>\n",
            "    Per essere addestrate richiedono molti, molti (molti) dati, almeno nell’ordine di migliaia.\n",
            "   </li>\n",
            "   <li>\n",
            "    Sono computazionalmente davvero dispendiose e spesso per completare l’addestramento in tempi umani è necessario parallelizzare il lavoro su di un\n",
            "    <b>\n",
            "     cluster di GPU\n",
            "    </b>\n",
            "    .\n",
            "   </li>\n",
            "  </ul>\n",
            "  Inoltre per molti tipi di problemi relativamente semplici l’intervento di un modello basato sulle reti neurali non è neanche necessario, ma è possibile ottenere ottimi risultati con modelli meno complessi.\n",
            "  <h2>\n",
            "   Deep Learning nella vita reale\n",
            "  </h2>\n",
            "  <p>\n",
            "   I sistemi di computer vision odierni sono in grado di riconoscere persone, animali e oggetti con una precisione che è addirittura maggiore di quella dell’uomo, questi sistemi usano il Deep Learning.\n",
            "\n",
            "\t\t\tLe tecnologie di riconoscimento del parlato di Siri, Alexa e Cortana stanno pian piano raggiungendo lo stato dell’arte, queste tecnologie usano il Deep Learning.\n",
            "\n",
            "\t\t\tNel 2015\n",
            "   <b>\n",
            "    AlphaGo\n",
            "   </b>\n",
            "   è riuscito a battere il campione mondiale di Go Lee Sedolin una partita ufficiale, secondo gli esperti un risultato del genere non sarebbe dovuto arrivare prima di un altro decennio. AlphaGo usa il Deep Learning.\n",
            "\n",
            "\t\t\tGoogle è in assoluto la società che più si serve del Deep Learning e che sta maggiormente contribuendo al suo sviluppo, infatti la maggior parte dei servizi di Google, partendo da Search e passando per Gmail e Translate, utilizzano in un modo o nell’altro le reti neurali artificial e questo ha fortemente inciso sul suo successo su scala globale.\n",
            "  </p>\n",
            " </body>\n",
            "</html>\n"
          ],
          "name": "stdout"
        }
      ]
    },
    {
      "metadata": {
        "id": "_9_FC1YBvyL9",
        "colab_type": "text"
      },
      "cell_type": "markdown",
      "source": [
        "Possiamo estrarre solo il testo, ignorando i tag, usando il metodo *get_text()*."
      ]
    },
    {
      "metadata": {
        "id": "wtkdoIECvtDZ",
        "colab_type": "code",
        "colab": {
          "base_uri": "https://localhost:8080/",
          "height": 2008
        },
        "outputId": "f25b0526-01c6-4fbe-a896-ef77ff8e1254"
      },
      "cell_type": "code",
      "source": [
        "print(article_soup.get_text())"
      ],
      "execution_count": 33,
      "outputs": [
        {
          "output_type": "stream",
          "text": [
            "\n",
            "\n",
            "\n",
            "\t\tDeep Learning svelato | Giuseppe Gullo\n",
            "\t\t\n",
            "\n",
            "\n",
            "\n",
            "\t\t\tDeep Learning svelato: ecco come funzionano le Reti Neurali Artificiali\n",
            "\t\t\n",
            "\n",
            "\t\t\tdi Giuseppe Gullo\n",
            "\t\t\n",
            "\n",
            "\t\t\tC’è tanto rumore intorno ai termini Reti Neurali Artificiali (dall’inglese Artificial Neural Network — ANN) e l’apprendimento profondo (dall’inglese Deep Learning, meglio chiamarlo così).\n",
            "\t\t\tScrivo questo breve post giusto per farti capire che, in fondo, tutto questo rumore è ben giustificato!\n",
            "\t\t\tL’intelligenza artificiale sta avanzato in maniera esponenziale, trainata dai progressi nel machine learning che a loro volta derivano per gran parte da un’ unica tipologia di modelli: le reti neurali artificiali.\n",
            "\t\t\n",
            "\n",
            "\t\t\tUna rete neurale artificiale è un modello di machine learning che si ispira al funzionamento del cervello animale, quello che abbiamo anche noi mammiferi intelligenti all’interno della nostra scatola cranica, che può essere utilizzato per risolvere essenzialmente tre tipi di problemi:\n",
            "\t\t\t\n",
            "\n",
            "Classificazione: in cui la variabile da prevedere è di tipo categorico, cioè una classe (es. abbiamo un insieme di immagini di gatti e le vogliamo usare per riconoscere i gatti in altre foto)\n",
            "\t\t\t\t\n",
            "\n",
            "Regressione: in cui la variabile da prevedere è di tipo continuo, cioè un numero (es. abbiamo lo storico del valore di FIAT in borsa e vogliamo utilizzarlo per prevedere il valore futuro)\n",
            "\t\t\t\t\n",
            "\n",
            "Clustering: problema molto simile alla classificazione ma in cui non abbiamo a disposizione delle classi (es. abbiamo un insieme di immagini di tumori, vogliamo riconoscere quali sono maligni e quali benigni)\n",
            "\t\t\t\t\n",
            "\n",
            "\n",
            "\t\t\t\tCome il cervello apprende\n",
            "\t\t\t\n",
            "\n",
            "\t\t\t\tIl cervello è composto da centinaia di miliardi di cellule nervose, i neuroni.\n",
            "\t\t\t\tOgni volta che il cervello riceve uno stimolo sensoriale un gruppo di neuroni riceve un segnale, chiamato potenziale d’azione, se il potenziale di azione è abbastanza forte viene propagato ai neuroni vicini tramite dei canali chiamati sinapsi.\n",
            "\t\t\t\n",
            "\n",
            "\t\t\t\tQuesto processo si ripete a cascata, neuroni attivano altri neuroni, fino a quando il segnale si esaurisce.\n",
            "\t\t\t\tI neuroni che si attivano insieme si legano insieme, questo è il concetto alla base dell’apprendimento (apprendimento hebbiano), così i neuroni si uniscono in complessi reticoli che sono proprio le reti neurali, la sede di tutta la nostra conoscenza.\n",
            "\t\t\t\n",
            "\n",
            "\t\t\tUn'approccio biologico al Machine Learning\n",
            "\t\t\n",
            "\n",
            "\t\t\tLe reti neurali artificiali utilizzano lo stesso approccio per permettere alle macchine di apprendere dai dati, cercando relazioni tra di essi e raggiungendo livelli di astrazione sempre più profondi.\n",
            "\n",
            "\t\t\tAll’interno di una rete neurale artificiale i neuroni sono disposti su più strati:\n",
            "\n",
            "\t\t\t\n",
            "\n",
            "Uno strato di input: che prende in ingresso i dati, ogni neurone di questo strato rappresenta una proprietà del dataset\n",
            "\t\t\t\t\n",
            "\n",
            "Uno strato di output: che fornisce il risultato della rete neurale\n",
            "\t\t\t\t\n",
            "\n",
            "Uno o più strati nascosti: che si trovano tra lo strato di input e quello di output.\n",
            "\t\t\t\t\n",
            "\n",
            "\n",
            "\t\t\tIl compito degli strati nascosti è di utilizzare le proprietà (features) del dataset per apprendere nuove proprietà.\n",
            "\n",
            "\t\t\tSolitamente prima della fase di creazione di un modello di machine learning, il dataset viene analizzato e manipolato per estrarre proprietà significative da quelle di cui già si dispone. Questo processo prende il nome di feature extraction e ha un ruolo fondamentale per la creazione di un modello di machine learning robusto.\n",
            "\n",
            "\t\t\tUna rete neurale artificiale automatizza il processo di feature extraction all’interno di ogni strato nascosto, per questo motivo le reti neurali artificiali sono definite modelli end-to-end, appunto perché prendono come input i dati grezzi del dataset per svolgere attività come classificazione, regressione o clustering.\n",
            "\n",
            "\t\t\tUna rete è definita “profonda” (dall’inglese deep) quando contiene due o più strati nascosti, in questi casi la rete utilizzerà le proprietà apprese in uno strato nascosto per apprendere ulteriori nuove proprietà ancora più significative nello strato successivo, fino a utilizzarle per eseguire classificazione, regressione o clustering nello strato di output.\n",
            "\n",
            "\t\t\tLa performance di un modello di machine learning, intesa come precisione o errore, tende a convergere a un valore massimo, al contrario i modelli basati sul deep learning non hanno questa limitazione e migliorano gradualmente all’aumentare del numero di dati disponibili per l’addestramento, proprio grazie alla loro capacità di astrazione e di apprendere nuove proprietà dai dati.\n",
            "\n",
            "\t\t\n",
            "\n",
            "\t\t\n",
            "\t\t\tIstruire una rete neurale artificiale\n",
            "\t\t\n",
            "\n",
            "\t\t\tLe reti neurali artificiali non sono una novità, infatti sono conosciute da più di mezzo secolo, ma sono rimaste chiuse in un cassetto a causa dell’assenza di un metodo efficace ed efficiente per addestrarle.\n",
            "\n",
            "\t\t\tQuesto è durato fino al 1986, anno in cui Jeff Hinton insieme a David Rumelhart e Ronald J. Williams proposero in questo paper l’utilizzo dell’algoritmo della Retropropagazione (dall’inglese Backpropagation) che ha stabilito la nascita di quello che oggi è il Deep Learning, ovvero l’insieme di metodi utilizzati per addestrare una rete neurale artificiale profonda.\n",
            "\n",
            "\t\t\tAncora oggi, a più di 30 anni di distanza, la Retropropagazione è l’algoritmo più importante del deep learning, grazie Jeff!\n",
            "\n",
            "\t\t\n",
            "\n",
            "\t\t\tQuando usare il Deep Learning\n",
            "\t\t\n",
            "\n",
            "\t\t\tA differenza di quanto potresti pensare, le reti neurali non sono sempre la soluzione migliore, per due motivi in particolare:\n",
            "\t\t\t\n",
            "\n",
            "\t\t\t\t\tPer essere addestrate richiedono molti, molti (molti) dati, almeno nell’ordine di migliaia.\n",
            "\t\t\t\t\n",
            "\n",
            "\t\t\t\t\tSono computazionalmente davvero dispendiose e spesso per completare l’addestramento in tempi umani è necessario parallelizzare il lavoro su di un cluster di GPU.\n",
            "\t\t\t\t\n",
            "\n",
            "\t\t\tInoltre per molti tipi di problemi relativamente semplici l’intervento di un modello basato sulle reti neurali non è neanche necessario, ma è possibile ottenere ottimi risultati con modelli meno complessi.\n",
            "\t\t\n",
            "\n",
            "\t\t\n",
            "\t\t\tDeep Learning nella vita reale\n",
            "\t\t\n",
            "\n",
            "\t\t\tI sistemi di computer vision odierni sono in grado di riconoscere persone, animali e oggetti con una precisione che è addirittura maggiore di quella dell’uomo, questi sistemi usano il Deep Learning.\n",
            "\n",
            "\t\t\tLe tecnologie di riconoscimento del parlato di Siri, Alexa e Cortana stanno pian piano raggiungendo lo stato dell’arte, queste tecnologie usano il Deep Learning.\n",
            "\n",
            "\t\t\tNel 2015 AlphaGo è riuscito a battere il campione mondiale di Go Lee Sedolin una partita ufficiale, secondo gli esperti un risultato del genere non sarebbe dovuto arrivare prima di un altro decennio. AlphaGo usa il Deep Learning.\n",
            "\n",
            "\t\t\tGoogle è in assoluto la società che più si serve del Deep Learning e che sta maggiormente contribuendo al suo sviluppo, infatti la maggior parte dei servizi di Google, partendo da Search e passando per Gmail e Translate, utilizzano in un modo o nell’altro le reti neurali artificial e questo ha fortemente inciso sul suo successo su scala globale.\n",
            "\t\t\n",
            "\n",
            "\n"
          ],
          "name": "stdout"
        }
      ]
    },
    {
      "metadata": {
        "id": "SRaE2XjEsX4k",
        "colab_type": "text"
      },
      "cell_type": "markdown",
      "source": [
        "Ogni TAG è un'attributo della classe BeautifulSoup, che è a sua volta una classe di tipo tag."
      ]
    },
    {
      "metadata": {
        "id": "vjaLgckWs5Wg",
        "colab_type": "code",
        "colab": {
          "base_uri": "https://localhost:8080/",
          "height": 34
        },
        "outputId": "a306cbcc-10f3-4754-d883-bac642349f6c"
      },
      "cell_type": "code",
      "source": [
        "body_tag = article_soup.body\n",
        "print(type(body_tag))"
      ],
      "execution_count": 25,
      "outputs": [
        {
          "output_type": "stream",
          "text": [
            "<class 'bs4.element.Tag'>\n"
          ],
          "name": "stdout"
        }
      ]
    },
    {
      "metadata": {
        "id": "6I8_kpc4u9dH",
        "colab_type": "text"
      },
      "cell_type": "markdown",
      "source": [
        "Anche per la classe *Tag* abbiamo a disposizione i metodi *prettify()* e *get_text()*."
      ]
    },
    {
      "metadata": {
        "id": "sdeJrnTJu88G",
        "colab_type": "code",
        "colab": {
          "base_uri": "https://localhost:8080/",
          "height": 2608
        },
        "outputId": "143a74f9-b723-48ad-b30a-5d1ad052c466"
      },
      "cell_type": "code",
      "source": [
        "print(body_tag.prettify())"
      ],
      "execution_count": 35,
      "outputs": [
        {
          "output_type": "stream",
          "text": [
            "<body>\n",
            " <h1>\n",
            "  Deep Learning svelato: ecco come funzionano le Reti Neurali Artificiali\n",
            " </h1>\n",
            " <h3>\n",
            "  di Giuseppe Gullo\n",
            " </h3>\n",
            " <p>\n",
            "  C’è tanto rumore intorno ai termini Reti Neurali Artificiali (dall’inglese Artificial Neural Network — ANN) e l’apprendimento profondo (dall’inglese Deep Learning, meglio chiamarlo così).\n",
            "\t\t\tScrivo questo breve post giusto per farti capire che, in fondo, tutto questo rumore è ben giustificato!\n",
            "\t\t\tL’intelligenza artificiale sta avanzato in maniera esponenziale, trainata dai progressi nel machine learning che a loro volta derivano per gran parte da un’ unica tipologia di modelli: le reti neurali artificiali.\n",
            " </p>\n",
            " <p>\n",
            "  Una rete neurale artificiale è un modello di machine learning che si ispira al funzionamento del cervello animale, quello che abbiamo anche noi mammiferi intelligenti all’interno della nostra scatola cranica, che può essere utilizzato per risolvere essenzialmente tre tipi di problemi:\n",
            " </p>\n",
            " <ul>\n",
            "  <li>\n",
            "   <b>\n",
            "    Classificazione\n",
            "   </b>\n",
            "   : in cui la variabile da prevedere è di tipo categorico, cioè una classe (es. abbiamo un insieme di immagini di gatti e le vogliamo usare per riconoscere i gatti in altre foto)\n",
            "  </li>\n",
            "  <li>\n",
            "   <b>\n",
            "    Regressione\n",
            "   </b>\n",
            "   : in cui la variabile da prevedere è di tipo continuo, cioè un numero (es. abbiamo lo storico del valore di FIAT in borsa e vogliamo utilizzarlo per prevedere il valore futuro)\n",
            "  </li>\n",
            "  <li>\n",
            "   <b>\n",
            "    Clustering\n",
            "   </b>\n",
            "   : problema molto simile alla classificazione ma in cui non abbiamo a disposizione delle classi (es. abbiamo un insieme di immagini di tumori, vogliamo riconoscere quali sono maligni e quali benigni)\n",
            "  </li>\n",
            " </ul>\n",
            " <h2>\n",
            "  Come il cervello apprende\n",
            " </h2>\n",
            " <p>\n",
            "  Il cervello è composto da centinaia di miliardi di cellule nervose, i\n",
            "  <b>\n",
            "   neuroni\n",
            "  </b>\n",
            "  .\n",
            "\t\t\t\tOgni volta che il cervello riceve uno stimolo sensoriale un gruppo di neuroni riceve un segnale, chiamato\n",
            "  <b>\n",
            "   potenziale d’azione\n",
            "  </b>\n",
            "  , se il potenziale di azione è abbastanza forte viene propagato ai neuroni vicini tramite dei canali chiamati sinapsi.\n",
            " </p>\n",
            " <p>\n",
            "  Questo processo si ripete a cascata, neuroni attivano altri neuroni, fino a quando il segnale si esaurisce.\n",
            "\t\t\t\tI neuroni che si attivano insieme si legano insieme, questo è il concetto alla base dell’apprendimento (apprendimento hebbiano), così i neuroni si uniscono in complessi reticoli che sono proprio le reti neurali, la sede di tutta la nostra conoscenza.\n",
            " </p>\n",
            " <h2>\n",
            "  Un'approccio biologico al Machine Learning\n",
            " </h2>\n",
            " <p>\n",
            "  Le reti neurali artificiali utilizzano lo stesso approccio per permettere alle macchine di apprendere dai dati, cercando relazioni tra di essi e raggiungendo livelli di astrazione sempre più profondi.\n",
            "\n",
            "\t\t\tAll’interno di una rete neurale artificiale i neuroni sono disposti su più strati:\n",
            " </p>\n",
            " <ul>\n",
            "  <li>\n",
            "   <b>\n",
            "    Uno strato di input\n",
            "   </b>\n",
            "   : che prende in ingresso i dati, ogni neurone di questo strato rappresenta una proprietà del dataset\n",
            "  </li>\n",
            "  <li>\n",
            "   <b>\n",
            "    Uno strato di output\n",
            "   </b>\n",
            "   : che fornisce il risultato della rete neurale\n",
            "  </li>\n",
            "  <li>\n",
            "   <b>\n",
            "    Uno o più strati nascosti\n",
            "   </b>\n",
            "   : che si trovano tra lo strato di input e quello di output.\n",
            "  </li>\n",
            " </ul>\n",
            " Il compito degli strati nascosti è di utilizzare le proprietà (features) del dataset per apprendere nuove proprietà.\n",
            "\n",
            "\t\t\tSolitamente prima della fase di creazione di un modello di machine learning, il dataset viene analizzato e manipolato per estrarre proprietà significative da quelle di cui già si dispone. Questo processo prende il nome di\n",
            " <b>\n",
            "  feature extraction\n",
            " </b>\n",
            " e ha un ruolo fondamentale per la creazione di un modello di machine learning robusto.\n",
            "\n",
            "\t\t\tUna rete neurale artificiale automatizza il processo di feature extraction all’interno di ogni strato nascosto, per questo motivo le reti neurali artificiali sono definite modelli end-to-end, appunto perché prendono come input i dati grezzi del dataset per svolgere attività come classificazione, regressione o clustering.\n",
            "\n",
            "\t\t\tUna rete è definita “profonda” (dall’inglese deep) quando contiene due o più strati nascosti, in questi casi la rete utilizzerà le proprietà apprese in uno strato nascosto per apprendere ulteriori nuove proprietà ancora più significative nello strato successivo, fino a utilizzarle per eseguire classificazione, regressione o clustering nello strato di output.\n",
            "\n",
            "\t\t\tLa performance di un modello di machine learning, intesa come precisione o errore, tende a convergere a un valore massimo, al contrario i modelli basati sul deep learning non hanno questa limitazione e migliorano gradualmente all’aumentare del numero di dati disponibili per l’addestramento, proprio grazie alla loro capacità di astrazione e di apprendere nuove proprietà dai dati.\n",
            " <h2>\n",
            "  Istruire una rete neurale artificiale\n",
            " </h2>\n",
            " <p>\n",
            "  Le reti neurali artificiali non sono una novità, infatti sono conosciute da più di mezzo secolo, ma sono rimaste chiuse in un cassetto a causa dell’assenza di un metodo efficace ed efficiente per addestrarle.\n",
            "\n",
            "\t\t\tQuesto è durato fino al 1986, anno in cui Jeff Hinton insieme a David Rumelhart e Ronald J. Williams proposero in questo paper l’utilizzo dell’algoritmo della\n",
            "  <b>\n",
            "   Retropropagazione\n",
            "  </b>\n",
            "  (dall’inglese Backpropagation) che ha stabilito la nascita di quello che oggi è il\n",
            "  <b>\n",
            "   Deep Learning\n",
            "  </b>\n",
            "  , ovvero l’insieme di metodi utilizzati per addestrare una rete neurale artificiale profonda.\n",
            "\n",
            "\t\t\tAncora oggi, a più di 30 anni di distanza, la Retropropagazione è l’algoritmo più importante del deep learning, grazie Jeff!\n",
            " </p>\n",
            " <h2>\n",
            "  Quando usare il Deep Learning\n",
            " </h2>\n",
            " <p>\n",
            "  A differenza di quanto potresti pensare, le reti neurali non sono sempre la soluzione migliore, per due motivi in particolare:\n",
            " </p>\n",
            " <ul>\n",
            "  <li>\n",
            "   Per essere addestrate richiedono molti, molti (molti) dati, almeno nell’ordine di migliaia.\n",
            "  </li>\n",
            "  <li>\n",
            "   Sono computazionalmente davvero dispendiose e spesso per completare l’addestramento in tempi umani è necessario parallelizzare il lavoro su di un\n",
            "   <b>\n",
            "    cluster di GPU\n",
            "   </b>\n",
            "   .\n",
            "  </li>\n",
            " </ul>\n",
            " Inoltre per molti tipi di problemi relativamente semplici l’intervento di un modello basato sulle reti neurali non è neanche necessario, ma è possibile ottenere ottimi risultati con modelli meno complessi.\n",
            " <h2>\n",
            "  Deep Learning nella vita reale\n",
            " </h2>\n",
            " <p>\n",
            "  I sistemi di computer vision odierni sono in grado di riconoscere persone, animali e oggetti con una precisione che è addirittura maggiore di quella dell’uomo, questi sistemi usano il Deep Learning.\n",
            "\n",
            "\t\t\tLe tecnologie di riconoscimento del parlato di Siri, Alexa e Cortana stanno pian piano raggiungendo lo stato dell’arte, queste tecnologie usano il Deep Learning.\n",
            "\n",
            "\t\t\tNel 2015\n",
            "  <b>\n",
            "   AlphaGo\n",
            "  </b>\n",
            "  è riuscito a battere il campione mondiale di Go Lee Sedolin una partita ufficiale, secondo gli esperti un risultato del genere non sarebbe dovuto arrivare prima di un altro decennio. AlphaGo usa il Deep Learning.\n",
            "\n",
            "\t\t\tGoogle è in assoluto la società che più si serve del Deep Learning e che sta maggiormente contribuendo al suo sviluppo, infatti la maggior parte dei servizi di Google, partendo da Search e passando per Gmail e Translate, utilizzano in un modo o nell’altro le reti neurali artificial e questo ha fortemente inciso sul suo successo su scala globale.\n",
            " </p>\n",
            "</body>\n",
            "\n"
          ],
          "name": "stdout"
        }
      ]
    },
    {
      "metadata": {
        "id": "-7xYiQcztZmV",
        "colab_type": "code",
        "colab": {
          "base_uri": "https://localhost:8080/",
          "height": 34
        },
        "outputId": "b5b696cd-04e9-4850-8244-deb849592a5b"
      },
      "cell_type": "code",
      "source": [
        "article_soup.title.get_text()"
      ],
      "execution_count": 36,
      "outputs": [
        {
          "output_type": "execute_result",
          "data": {
            "text/plain": [
              "'\\n\\t\\tDeep Learning svelato | Giuseppe Gullo\\n\\t\\t'"
            ]
          },
          "metadata": {
            "tags": []
          },
          "execution_count": 36
        }
      ]
    },
    {
      "metadata": {
        "id": "H4bISVG0s_Mu",
        "colab_type": "text"
      },
      "cell_type": "markdown",
      "source": [
        "Nel caso di più tag, l'attributo corrispondente contiene solo la prima occorrenza."
      ]
    },
    {
      "metadata": {
        "id": "NuKNKX2ttBJ6",
        "colab_type": "code",
        "colab": {
          "base_uri": "https://localhost:8080/",
          "height": 123
        },
        "outputId": "5afdab31-ffe3-4e54-ad68-a33492e8fb28"
      },
      "cell_type": "code",
      "source": [
        "article_soup.p"
      ],
      "execution_count": 28,
      "outputs": [
        {
          "output_type": "execute_result",
          "data": {
            "text/plain": [
              "<p>\n",
              "\t\t\tC’è tanto rumore intorno ai termini Reti Neurali Artificiali (dall’inglese Artificial Neural Network — ANN) e l’apprendimento profondo (dall’inglese Deep Learning, meglio chiamarlo così).\n",
              "\t\t\tScrivo questo breve post giusto per farti capire che, in fondo, tutto questo rumore è ben giustificato!\n",
              "\t\t\tL’intelligenza artificiale sta avanzato in maniera esponenziale, trainata dai progressi nel machine learning che a loro volta derivano per gran parte da un’ unica tipologia di modelli: le reti neurali artificiali.\n",
              "\t\t</p>"
            ]
          },
          "metadata": {
            "tags": []
          },
          "execution_count": 28
        }
      ]
    },
    {
      "metadata": {
        "id": "mITdx02FvY4g",
        "colab_type": "text"
      },
      "cell_type": "markdown",
      "source": [
        "Possiamo cercare tutte le occorrenze di un Tag utilizzando il metodo *find_all*, il risultato sarà un'oggetto di tipo *ResultSet* che possiamo considerare come una lista di Tag."
      ]
    },
    {
      "metadata": {
        "id": "9qGFTNQ1tLaP",
        "colab_type": "code",
        "colab": {
          "base_uri": "https://localhost:8080/",
          "height": 157
        },
        "outputId": "01260a52-5e40-4836-d79b-56ac7e67568f"
      },
      "cell_type": "code",
      "source": [
        "paragraphs = article_soup.find_all('p')\n",
        "\n",
        "print(type(paragraphs))\n",
        "print(type(paragraphs[0]))\n",
        "\n",
        "print(paragraphs[0].get_text())"
      ],
      "execution_count": 37,
      "outputs": [
        {
          "output_type": "stream",
          "text": [
            "<class 'bs4.element.ResultSet'>\n",
            "<class 'bs4.element.Tag'>\n",
            "\n",
            "\t\t\tC’è tanto rumore intorno ai termini Reti Neurali Artificiali (dall’inglese Artificial Neural Network — ANN) e l’apprendimento profondo (dall’inglese Deep Learning, meglio chiamarlo così).\n",
            "\t\t\tScrivo questo breve post giusto per farti capire che, in fondo, tutto questo rumore è ben giustificato!\n",
            "\t\t\tL’intelligenza artificiale sta avanzato in maniera esponenziale, trainata dai progressi nel machine learning che a loro volta derivano per gran parte da un’ unica tipologia di modelli: le reti neurali artificiali.\n",
            "\t\t\n"
          ],
          "name": "stdout"
        }
      ]
    },
    {
      "metadata": {
        "id": "VYJ9M91JwaU_",
        "colab_type": "text"
      },
      "cell_type": "markdown",
      "source": [
        "Usando queste informazioni, estraiamo tutto il testo da tutti i paragrafi e salviamolo dentro a una variabile stringa."
      ]
    },
    {
      "metadata": {
        "id": "XfC7FhQZwn5w",
        "colab_type": "code",
        "colab": {
          "base_uri": "https://localhost:8080/",
          "height": 51
        },
        "outputId": "420be9b7-a604-4de5-d382-d53d9b29733a"
      },
      "cell_type": "code",
      "source": [
        "text = \"\"\n",
        "\n",
        "paragraphs = article_soup.find_all('p')\n",
        "\n",
        "for p in paragraphs:\n",
        "  p_text = p.get_text()\n",
        "  text+=p_text\n",
        "  \n",
        "print(\"Lettere totali nel documento: %d \" % len(text))\n",
        "print(\"Parole totali nel documento: %d \" % len(text.split()))"
      ],
      "execution_count": 45,
      "outputs": [
        {
          "output_type": "stream",
          "text": [
            "Lettere totali nel documento: 3555 \n",
            "Parole totali nel documento: 534 \n"
          ],
          "name": "stdout"
        }
      ]
    },
    {
      "metadata": {
        "id": "P8sLZ6XAxAc5",
        "colab_type": "code",
        "colab": {
          "base_uri": "https://localhost:8080/",
          "height": 328
        },
        "outputId": "73ab2739-1814-4365-e119-25182518a78d"
      },
      "cell_type": "code",
      "source": [
        "print(text)"
      ],
      "execution_count": 46,
      "outputs": [
        {
          "output_type": "stream",
          "text": [
            "C’è tanto rumore intorno ai termini Reti Neurali Artificiali (dall’inglese Artificial Neural Network — ANN) e l’apprendimento profondo (dall’inglese Deep Learning, meglio chiamarlo così).\n",
            "\t\t\tScrivo questo breve post giusto per farti capire che, in fondo, tutto questo rumore è ben giustificato!\n",
            "\t\t\tL’intelligenza artificiale sta avanzato in maniera esponenziale, trainata dai progressi nel machine learning che a loro volta derivano per gran parte da un’ unica tipologia di modelli: le reti neurali artificiali.Una rete neurale artificiale è un modello di machine learning che si ispira al funzionamento del cervello animale, quello che abbiamo anche noi mammiferi intelligenti all’interno della nostra scatola cranica, che può essere utilizzato per risolvere essenzialmente tre tipi di problemi:Il cervello è composto da centinaia di miliardi di cellule nervose, i neuroni.\n",
            "\t\t\t\tOgni volta che il cervello riceve uno stimolo sensoriale un gruppo di neuroni riceve un segnale, chiamato potenziale d’azione, se il potenziale di azione è abbastanza forte viene propagato ai neuroni vicini tramite dei canali chiamati sinapsi.Questo processo si ripete a cascata, neuroni attivano altri neuroni, fino a quando il segnale si esaurisce.\n",
            "\t\t\t\tI neuroni che si attivano insieme si legano insieme, questo è il concetto alla base dell’apprendimento (apprendimento hebbiano), così i neuroni si uniscono in complessi reticoli che sono proprio le reti neurali, la sede di tutta la nostra conoscenza.Le reti neurali artificiali utilizzano lo stesso approccio per permettere alle macchine di apprendere dai dati, cercando relazioni tra di essi e raggiungendo livelli di astrazione sempre più profondi.\n",
            "\n",
            "\t\t\tAll’interno di una rete neurale artificiale i neuroni sono disposti su più strati:Le reti neurali artificiali non sono una novità, infatti sono conosciute da più di mezzo secolo, ma sono rimaste chiuse in un cassetto a causa dell’assenza di un metodo efficace ed efficiente per addestrarle.\n",
            "\n",
            "\t\t\tQuesto è durato fino al 1986, anno in cui Jeff Hinton insieme a David Rumelhart e Ronald J. Williams proposero in questo paper l’utilizzo dell’algoritmo della Retropropagazione (dall’inglese Backpropagation) che ha stabilito la nascita di quello che oggi è il Deep Learning, ovvero l’insieme di metodi utilizzati per addestrare una rete neurale artificiale profonda.\n",
            "\n",
            "\t\t\tAncora oggi, a più di 30 anni di distanza, la Retropropagazione è l’algoritmo più importante del deep learning, grazie Jeff!A differenza di quanto potresti pensare, le reti neurali non sono sempre la soluzione migliore, per due motivi in particolare:I sistemi di computer vision odierni sono in grado di riconoscere persone, animali e oggetti con una precisione che è addirittura maggiore di quella dell’uomo, questi sistemi usano il Deep Learning.\n",
            "\n",
            "\t\t\tLe tecnologie di riconoscimento del parlato di Siri, Alexa e Cortana stanno pian piano raggiungendo lo stato dell’arte, queste tecnologie usano il Deep Learning.\n",
            "\n",
            "\t\t\tNel 2015 AlphaGo è riuscito a battere il campione mondiale di Go Lee Sedolin una partita ufficiale, secondo gli esperti un risultato del genere non sarebbe dovuto arrivare prima di un altro decennio. AlphaGo usa il Deep Learning.\n",
            "\n",
            "\t\t\tGoogle è in assoluto la società che più si serve del Deep Learning e che sta maggiormente contribuendo al suo sviluppo, infatti la maggior parte dei servizi di Google, partendo da Search e passando per Gmail e Translate, utilizzano in un modo o nell’altro le reti neurali artificial e questo ha fortemente inciso sul suo successo su scala globale.\n"
          ],
          "name": "stdout"
        }
      ]
    },
    {
      "metadata": {
        "id": "FaU4Gjb_xmKM",
        "colab_type": "text"
      },
      "cell_type": "markdown",
      "source": [
        "Come vedi ci sono tanti spazi bianchi nel testo, presenti all'interno del file HTML, il modo migliore per rimuoverli sarebbe usare un'**espressione regolare**, ma ancora non le conosciamo (saranno l'argomento della prossima sezione). Quindi usiamo piuttosto un piccolo hack, dividiamo il testo in una lista di parole e poi uniamole con il metodo join."
      ]
    },
    {
      "metadata": {
        "id": "OD6o11W5xgZk",
        "colab_type": "code",
        "colab": {
          "base_uri": "https://localhost:8080/",
          "height": 54
        },
        "outputId": "b8d922e1-7193-4bb2-cdab-fb4b139c0030"
      },
      "cell_type": "code",
      "source": [
        "text=\" \".join(text.split())\n",
        "print(text)"
      ],
      "execution_count": 48,
      "outputs": [
        {
          "output_type": "stream",
          "text": [
            "C’è tanto rumore intorno ai termini Reti Neurali Artificiali (dall’inglese Artificial Neural Network — ANN) e l’apprendimento profondo (dall’inglese Deep Learning, meglio chiamarlo così). Scrivo questo breve post giusto per farti capire che, in fondo, tutto questo rumore è ben giustificato! L’intelligenza artificiale sta avanzato in maniera esponenziale, trainata dai progressi nel machine learning che a loro volta derivano per gran parte da un’ unica tipologia di modelli: le reti neurali artificiali.Una rete neurale artificiale è un modello di machine learning che si ispira al funzionamento del cervello animale, quello che abbiamo anche noi mammiferi intelligenti all’interno della nostra scatola cranica, che può essere utilizzato per risolvere essenzialmente tre tipi di problemi:Il cervello è composto da centinaia di miliardi di cellule nervose, i neuroni. Ogni volta che il cervello riceve uno stimolo sensoriale un gruppo di neuroni riceve un segnale, chiamato potenziale d’azione, se il potenziale di azione è abbastanza forte viene propagato ai neuroni vicini tramite dei canali chiamati sinapsi.Questo processo si ripete a cascata, neuroni attivano altri neuroni, fino a quando il segnale si esaurisce. I neuroni che si attivano insieme si legano insieme, questo è il concetto alla base dell’apprendimento (apprendimento hebbiano), così i neuroni si uniscono in complessi reticoli che sono proprio le reti neurali, la sede di tutta la nostra conoscenza.Le reti neurali artificiali utilizzano lo stesso approccio per permettere alle macchine di apprendere dai dati, cercando relazioni tra di essi e raggiungendo livelli di astrazione sempre più profondi. All’interno di una rete neurale artificiale i neuroni sono disposti su più strati:Le reti neurali artificiali non sono una novità, infatti sono conosciute da più di mezzo secolo, ma sono rimaste chiuse in un cassetto a causa dell’assenza di un metodo efficace ed efficiente per addestrarle. Questo è durato fino al 1986, anno in cui Jeff Hinton insieme a David Rumelhart e Ronald J. Williams proposero in questo paper l’utilizzo dell’algoritmo della Retropropagazione (dall’inglese Backpropagation) che ha stabilito la nascita di quello che oggi è il Deep Learning, ovvero l’insieme di metodi utilizzati per addestrare una rete neurale artificiale profonda. Ancora oggi, a più di 30 anni di distanza, la Retropropagazione è l’algoritmo più importante del deep learning, grazie Jeff!A differenza di quanto potresti pensare, le reti neurali non sono sempre la soluzione migliore, per due motivi in particolare:I sistemi di computer vision odierni sono in grado di riconoscere persone, animali e oggetti con una precisione che è addirittura maggiore di quella dell’uomo, questi sistemi usano il Deep Learning. Le tecnologie di riconoscimento del parlato di Siri, Alexa e Cortana stanno pian piano raggiungendo lo stato dell’arte, queste tecnologie usano il Deep Learning. Nel 2015 AlphaGo è riuscito a battere il campione mondiale di Go Lee Sedolin una partita ufficiale, secondo gli esperti un risultato del genere non sarebbe dovuto arrivare prima di un altro decennio. AlphaGo usa il Deep Learning. Google è in assoluto la società che più si serve del Deep Learning e che sta maggiormente contribuendo al suo sviluppo, infatti la maggior parte dei servizi di Google, partendo da Search e passando per Gmail e Translate, utilizzano in un modo o nell’altro le reti neurali artificial e questo ha fortemente inciso sul suo successo su scala globale.\n"
          ],
          "name": "stdout"
        }
      ]
    },
    {
      "metadata": {
        "id": "BAzm1nmoyE09",
        "colab_type": "text"
      },
      "cell_type": "markdown",
      "source": [
        "Abbiamo rimosso gli spazi di troppo ! La stringa è tutta su un'unica linea, se preferiamo aggingiamo un a capo dopo ogni punto."
      ]
    },
    {
      "metadata": {
        "id": "FWBDrR3wyMnV",
        "colab_type": "code",
        "colab": {
          "base_uri": "https://localhost:8080/",
          "height": 311
        },
        "outputId": "84f1d686-d112-4ff7-9f89-cb1645f43c04"
      },
      "cell_type": "code",
      "source": [
        "text = text.replace(\".\",\".\\n\")\n",
        "print(text)"
      ],
      "execution_count": 49,
      "outputs": [
        {
          "output_type": "stream",
          "text": [
            "C’è tanto rumore intorno ai termini Reti Neurali Artificiali (dall’inglese Artificial Neural Network — ANN) e l’apprendimento profondo (dall’inglese Deep Learning, meglio chiamarlo così).\n",
            " Scrivo questo breve post giusto per farti capire che, in fondo, tutto questo rumore è ben giustificato! L’intelligenza artificiale sta avanzato in maniera esponenziale, trainata dai progressi nel machine learning che a loro volta derivano per gran parte da un’ unica tipologia di modelli: le reti neurali artificiali.\n",
            "Una rete neurale artificiale è un modello di machine learning che si ispira al funzionamento del cervello animale, quello che abbiamo anche noi mammiferi intelligenti all’interno della nostra scatola cranica, che può essere utilizzato per risolvere essenzialmente tre tipi di problemi:Il cervello è composto da centinaia di miliardi di cellule nervose, i neuroni.\n",
            " Ogni volta che il cervello riceve uno stimolo sensoriale un gruppo di neuroni riceve un segnale, chiamato potenziale d’azione, se il potenziale di azione è abbastanza forte viene propagato ai neuroni vicini tramite dei canali chiamati sinapsi.\n",
            "Questo processo si ripete a cascata, neuroni attivano altri neuroni, fino a quando il segnale si esaurisce.\n",
            " I neuroni che si attivano insieme si legano insieme, questo è il concetto alla base dell’apprendimento (apprendimento hebbiano), così i neuroni si uniscono in complessi reticoli che sono proprio le reti neurali, la sede di tutta la nostra conoscenza.\n",
            "Le reti neurali artificiali utilizzano lo stesso approccio per permettere alle macchine di apprendere dai dati, cercando relazioni tra di essi e raggiungendo livelli di astrazione sempre più profondi.\n",
            " All’interno di una rete neurale artificiale i neuroni sono disposti su più strati:Le reti neurali artificiali non sono una novità, infatti sono conosciute da più di mezzo secolo, ma sono rimaste chiuse in un cassetto a causa dell’assenza di un metodo efficace ed efficiente per addestrarle.\n",
            " Questo è durato fino al 1986, anno in cui Jeff Hinton insieme a David Rumelhart e Ronald J.\n",
            " Williams proposero in questo paper l’utilizzo dell’algoritmo della Retropropagazione (dall’inglese Backpropagation) che ha stabilito la nascita di quello che oggi è il Deep Learning, ovvero l’insieme di metodi utilizzati per addestrare una rete neurale artificiale profonda.\n",
            " Ancora oggi, a più di 30 anni di distanza, la Retropropagazione è l’algoritmo più importante del deep learning, grazie Jeff!A differenza di quanto potresti pensare, le reti neurali non sono sempre la soluzione migliore, per due motivi in particolare:I sistemi di computer vision odierni sono in grado di riconoscere persone, animali e oggetti con una precisione che è addirittura maggiore di quella dell’uomo, questi sistemi usano il Deep Learning.\n",
            " Le tecnologie di riconoscimento del parlato di Siri, Alexa e Cortana stanno pian piano raggiungendo lo stato dell’arte, queste tecnologie usano il Deep Learning.\n",
            " Nel 2015 AlphaGo è riuscito a battere il campione mondiale di Go Lee Sedolin una partita ufficiale, secondo gli esperti un risultato del genere non sarebbe dovuto arrivare prima di un altro decennio.\n",
            " AlphaGo usa il Deep Learning.\n",
            " Google è in assoluto la società che più si serve del Deep Learning e che sta maggiormente contribuendo al suo sviluppo, infatti la maggior parte dei servizi di Google, partendo da Search e passando per Gmail e Translate, utilizzano in un modo o nell’altro le reti neurali artificial e questo ha fortemente inciso sul suo successo su scala globale.\n",
            "\n"
          ],
          "name": "stdout"
        }
      ]
    },
    {
      "metadata": {
        "id": "1A_ygXz_mdmW",
        "colab_type": "text"
      },
      "cell_type": "markdown",
      "source": [
        "### Estarre testo da pagine Web\n",
        "Per estrarre testo da una pagina web (che in sostanza è un file html che si trova su di un server remoto) il procedimento è esattamente lo stesso, l'unica cosa che dobbiamo fare in più è scaricare il codice della pagina, per farlo possiamo usare il modulo *urllib* di Python. Ad esempio proviamo con la landing page di [Profession.ai](https://profession.ai)"
      ]
    },
    {
      "metadata": {
        "id": "pK-osYD5JLID",
        "colab_type": "code",
        "outputId": "b30272b9-b193-4ddc-fc1c-97d1d129bd20",
        "colab": {
          "base_uri": "https://localhost:8080/",
          "height": 54
        }
      },
      "cell_type": "code",
      "source": [
        "import urllib.request\n",
        "\n",
        "html_page = urllib.request.urlopen(\"https://profession.ai\") # apriamo la pagina\n",
        "html_code = html_page.read() # leggiamo il contenuto\n",
        "print(html_code) "
      ],
      "execution_count": 3,
      "outputs": [
        {
          "output_type": "stream",
          "text": [
            "b'<!DOCTYPE html><html lang=\"en\"><head><!--Start of Tawk.to Script-->\\n<script type=\"text/javascript\">\\nvar Tawk_API=Tawk_API||{}, Tawk_LoadStart=new Date();\\n(function(){\\nvar s1=document.createElement(\"script\"),s0=document.getElementsByTagName(\"script\")[0];\\ns1.async=true;\\ns1.src=\\'https://embed.tawk.to/5c79803c3341d22d9ce6dc63/default\\';\\ns1.charset=\\'UTF-8\\';\\ns1.setAttribute(\\'crossorigin\\',\\'*\\');\\ns0.parentNode.insertBefore(s1,s0);\\n})();\\n</script>\\n<!--End of Tawk.to Script--><meta charSet=\"utf-8\"/><meta http-equiv=\"x-ua-compatible\" content=\"ie=edge\"/><meta name=\"viewport\" content=\"width=device-width, initial-scale=1, shrink-to-fit=no\"/><style data-href=\"/styles.b08f62e3242e41e0a9da.css\">:root{--white:#fff;--black:#000;--grey:#707070;--green:#032b35;--bg-light:#fafafa;--bg-dark:#f0f0f0;--bg-footer:#111;--headline:56px;--subheadline:24px;--quote:22px;--header:36px;--paragraph:18px;--footer:16px;--light:100;--normal:300;--semibold:400;--bold:600;--black:900}body{margin:0;padding:0;font-family:Lato}.index-module--hero--3KsId{height:900px;background-image:url(/static/bg.png);padding:50px 100px 0}.index-module--hero--3KsId h1{font-weight:var(--black);color:var(--white);font-size:var(--headline);line-height:125%;margin-bottom:10px}.index-module--heroTitle--2VgYy{padding:250px 0 0;margin-bottom:30px}.index-module--heroTitle--2VgYy span{font-weight:var(--normal);color:var(--white);font-size:var(--subheadline)}.index-module--quote--_yaf9{text-align:center;margin:10% 15%;-webkit-align-content:center;align-content:center}.index-module--quote--_yaf9 p{font-weight:var(--light);color:var(--paragraph);font-size:var(--quote);line-height:150%}.index-module--quote--_yaf9 h3{text-align:center;font-weight:var(--black);color:var(--black);font-size:var(--quote)}.index-module--block_left--VvYyd{-webkit-align-items:center;align-items:center;-webkit-align-content:center;align-content:center;padding:100px 10%;background-color:var(--bg-light)}.index-module--block_left--VvYyd h3{height:5px;font-weight:var(--black);font-size:var(--header);color:var(--grey)}.index-module--block_left--VvYyd p{font-weight:var(--normal);font-size:var(--paragraph);color:var(--grey);line-height:175%}.index-module--block_right--4UwEp{-webkit-align-items:center;align-items:center;-webkit-align-content:center;align-content:center;padding:100px 10%;background-color:var(--white)}.index-module--block_right--4UwEp h3{height:5px;text-align:right;font-weight:var(--black);font-size:var(--header);color:var(--grey)}.index-module--block_right--4UwEp p{text-align:right;font-weight:var(--normal);font-size:var(--paragraph);color:var(--grey);line-height:175%}#index-module--form--27BQq{display:inline-block;text-align:center;-webkit-align-items:center;align-items:center;-webkit-align-content:center;align-content:center}#index-module--button--2HMS_{background:linear-gradient(270deg,#84ffbe,#44e6b8),#c4c4c4}#index-module--button--2HMS_,#index-module--menu--3FdTV{font-weight:var(--bold);color:var(--green);padding:10px 30px}#index-module--menu--3FdTV{background:var(--white);border-radius:30px;float:right}#index-module--menu_icon--1VW8u{background:transparent;font-weight:var(--bold);color:var(--white);padding:5px 0 10px 30px;float:right}#index-module--line--3y6To{display:inline-block;height:5px;width:100px;background:linear-gradient(270deg,#84ffbe,#44e6b8),#c4c4c4;border-radius:4px}.index-module--catalog--H0_c7{padding:20px 100px;background-color:var(--bg-dark)}.index-module--catalog--H0_c7 h3{font-size:var(--header);font-weight:var(--bold)}.index-module--catalog--H0_c7 ul{padding-left:20px}.index-module--catalog--H0_c7 li{text-align:left;font-weight:var(--normal);font-size:var(--paragraph);color:var(--grey);margin:0 0 10px}.index-module--cta--5CvVF{text-align:center;padding:5% 15%;-webkit-align-content:center;align-content:center;background-color:var(--green)}.index-module--cta--5CvVF p{font-weight:var(--semibold);color:var(--white);font-size:var(--quote);line-height:200%}.index-module--footer--2_iT4{width:100%;display:inline-block;background-color:var(--bg-footer)}.index-module--footer--2_iT4 img{display:inline-block;text-align:\"center\";padding:50px}.index-module--footer--2_iT4 span{color:var(--white);line-height:200%;font-size:var(--footer)}.index-module--footer--2_iT4 a{color:var(--white);text-decoration:none}@media screen and (orientation:portrait){:root{--headline:36px;--subheadline:22px;--header:26px}.index-module--hero--3KsId{height:600px;padding:50px 25px 0 50px}.index-module--heroTitle--2VgYy{padding:140px 0 0;margin-bottom:30px}.index-module--myTypist--2MSi9{min-height:60px;height:60px}.index-module--block_left--VvYyd,.index-module--block_right--4UwEp{padding:50px 10%}.index-module--catalog--H0_c7{padding:10px 50px}.index-module--cta--5CvVF{padding:5% 15% 10%}.index-module--footer--2_iT4{display:block;padding-bottom:30px}.index-module--footer--2_iT4 div,.index-module--footer--2_iT4 span{display:block;text-align:center}}</style><meta name=\"generator\" content=\"Gatsby 2.1.18\"/><title data-react-helmet=\"true\">Home | ProfessionAI</title><meta data-react-helmet=\"true\" name=\"description\" content=\"Impara Machine Learning, Deep Learning, Data Science, Computer Vision e tutto ci\\xc3\\xb2 che riguarda l&#x27;intelligenza artificiale.\"/><meta data-react-helmet=\"true\" property=\"og:title\" content=\"Home\"/><meta data-react-helmet=\"true\" property=\"og:description\" content=\"Impara Machine Learning, Deep Learning, Data Science, Computer Vision e tutto ci\\xc3\\xb2 che riguarda l&#x27;intelligenza artificiale.\"/><meta data-react-helmet=\"true\" property=\"og:type\" content=\"website\"/><meta data-react-helmet=\"true\" name=\"twitter:card\" content=\"summary\"/><meta data-react-helmet=\"true\" name=\"twitter:creator\" content=\"@professio.ai\"/><meta data-react-helmet=\"true\" name=\"twitter:title\" content=\"Home\"/><meta data-react-helmet=\"true\" name=\"twitter:description\" content=\"Impara Machine Learning, Deep Learning, Data Science, Computer Vision e tutto ci\\xc3\\xb2 che riguarda l&#x27;intelligenza artificiale.\"/><meta data-react-helmet=\"true\" name=\"keywords\" content=\"artificial intelligence, deep learning, machine learning\"/><link rel=\"shortcut icon\" href=\"/icons/icon-48x48.png\"/><link rel=\"manifest\" href=\"/manifest.webmanifest\"/><meta name=\"theme-color\" content=\"#663399\"/><link rel=\"apple-touch-icon\" sizes=\"48x48\" href=\"/icons/icon-48x48.png\"/><link rel=\"apple-touch-icon\" sizes=\"72x72\" href=\"/icons/icon-72x72.png\"/><link rel=\"apple-touch-icon\" sizes=\"96x96\" href=\"/icons/icon-96x96.png\"/><link rel=\"apple-touch-icon\" sizes=\"144x144\" href=\"/icons/icon-144x144.png\"/><link rel=\"apple-touch-icon\" sizes=\"192x192\" href=\"/icons/icon-192x192.png\"/><link rel=\"apple-touch-icon\" sizes=\"256x256\" href=\"/icons/icon-256x256.png\"/><link rel=\"apple-touch-icon\" sizes=\"384x384\" href=\"/icons/icon-384x384.png\"/><link rel=\"apple-touch-icon\" sizes=\"512x512\" href=\"/icons/icon-512x512.png\"/><link rel=\"shortcut icon\" href=\"/icons-6cc676c34171efc746c40c71f85c5bb5/favicon.ico\"/><link rel=\"icon\" type=\"image/png\" sizes=\"16x16\" href=\"/icons-6cc676c34171efc746c40c71f85c5bb5/favicon-16x16.png\"/><link rel=\"icon\" type=\"image/png\" sizes=\"32x32\" href=\"/icons-6cc676c34171efc746c40c71f85c5bb5/favicon-32x32.png\"/><link rel=\"manifest\" href=\"/icons-6cc676c34171efc746c40c71f85c5bb5/manifest.json\"/><meta name=\"mobile-web-app-capable\" content=\"yes\"/><meta name=\"theme-color\" content=\"#fff\"/><meta name=\"application-name\" content=\"gatsby-starter-default\"/><link rel=\"apple-touch-icon\" sizes=\"57x57\" href=\"/icons-6cc676c34171efc746c40c71f85c5bb5/apple-touch-icon-57x57.png\"/><link rel=\"apple-touch-icon\" sizes=\"60x60\" href=\"/icons-6cc676c34171efc746c40c71f85c5bb5/apple-touch-icon-60x60.png\"/><link rel=\"apple-touch-icon\" sizes=\"72x72\" href=\"/icons-6cc676c34171efc746c40c71f85c5bb5/apple-touch-icon-72x72.png\"/><link rel=\"apple-touch-icon\" sizes=\"76x76\" href=\"/icons-6cc676c34171efc746c40c71f85c5bb5/apple-touch-icon-76x76.png\"/><link rel=\"apple-touch-icon\" sizes=\"114x114\" href=\"/icons-6cc676c34171efc746c40c71f85c5bb5/apple-touch-icon-114x114.png\"/><link rel=\"apple-touch-icon\" sizes=\"120x120\" href=\"/icons-6cc676c34171efc746c40c71f85c5bb5/apple-touch-icon-120x120.png\"/><link rel=\"apple-touch-icon\" sizes=\"144x144\" href=\"/icons-6cc676c34171efc746c40c71f85c5bb5/apple-touch-icon-144x144.png\"/><link rel=\"apple-touch-icon\" sizes=\"152x152\" href=\"/icons-6cc676c34171efc746c40c71f85c5bb5/apple-touch-icon-152x152.png\"/><link rel=\"apple-touch-icon\" sizes=\"167x167\" href=\"/icons-6cc676c34171efc746c40c71f85c5bb5/apple-touch-icon-167x167.png\"/><link rel=\"apple-touch-icon\" sizes=\"180x180\" href=\"/icons-6cc676c34171efc746c40c71f85c5bb5/apple-touch-icon-180x180.png\"/><link rel=\"apple-touch-icon\" sizes=\"1024x1024\" href=\"/icons-6cc676c34171efc746c40c71f85c5bb5/apple-touch-icon-1024x1024.png\"/><meta name=\"apple-mobile-web-app-capable\" content=\"yes\"/><meta name=\"apple-mobile-web-app-status-bar-style\" content=\"black-translucent\"/><meta name=\"apple-mobile-web-app-title\" content=\"gatsby-starter-default\"/><link rel=\"apple-touch-startup-image\" media=\"(device-width: 320px) and (device-height: 480px) and (-webkit-device-pixel-ratio: 1)\" href=\"/icons-6cc676c34171efc746c40c71f85c5bb5/apple-touch-startup-image-320x460.png\"/><link rel=\"apple-touch-startup-image\" media=\"(device-width: 320px) and (device-height: 480px) and (-webkit-device-pixel-ratio: 2)\" href=\"/icons-6cc676c34171efc746c40c71f85c5bb5/apple-touch-startup-image-640x920.png\"/><link rel=\"apple-touch-startup-image\" media=\"(device-width: 320px) and (device-height: 568px) and (-webkit-device-pixel-ratio: 2)\" href=\"/icons-6cc676c34171efc746c40c71f85c5bb5/apple-touch-startup-image-640x1096.png\"/><link rel=\"apple-touch-startup-image\" media=\"(device-width: 375px) and (device-height: 667px) and (-webkit-device-pixel-ratio: 2)\" href=\"/icons-6cc676c34171efc746c40c71f85c5bb5/apple-touch-startup-image-750x1294.png\"/><link rel=\"apple-touch-startup-image\" media=\"(device-width: 414px) and (device-height: 736px) and (orientation: landscape) and (-webkit-device-pixel-ratio: 3)\" href=\"/icons-6cc676c34171efc746c40c71f85c5bb5/apple-touch-startup-image-1182x2208.png\"/><link rel=\"apple-touch-startup-image\" media=\"(device-width: 414px) and (device-height: 736px) and (orientation: portrait) and (-webkit-device-pixel-ratio: 3)\" href=\"/icons-6cc676c34171efc746c40c71f85c5bb5/apple-touch-startup-image-1242x2148.png\"/><link rel=\"apple-touch-startup-image\" media=\"(device-width: 768px) and (device-height: 1024px) and (orientation: landscape) and (-webkit-device-pixel-ratio: 1)\" href=\"/icons-6cc676c34171efc746c40c71f85c5bb5/apple-touch-startup-image-748x1024.png\"/><link rel=\"apple-touch-startup-image\" media=\"(device-width: 768px) and (device-height: 1024px) and (orientation: portrait) and (-webkit-device-pixel-ratio: 1)\" href=\"/icons-6cc676c34171efc746c40c71f85c5bb5/apple-touch-startup-image-768x1004.png\"/><link rel=\"apple-touch-startup-image\" media=\"(device-width: 768px) and (device-height: 1024px) and (orientation: landscape) and (-webkit-device-pixel-ratio: 2)\" href=\"/icons-6cc676c34171efc746c40c71f85c5bb5/apple-touch-startup-image-1496x2048.png\"/><link rel=\"apple-touch-startup-image\" media=\"(device-width: 768px) and (device-height: 1024px) and (orientation: portrait) and (-webkit-device-pixel-ratio: 2)\" href=\"/icons-6cc676c34171efc746c40c71f85c5bb5/apple-touch-startup-image-1536x2008.png\"/><link as=\"script\" rel=\"preload\" href=\"/component---src-pages-index-js-e90b88725585f66733c2.js\"/><link as=\"script\" rel=\"preload\" href=\"/app-4686dbac1a86c743a8d5.js\"/><link as=\"script\" rel=\"preload\" href=\"/7-4a7ac3407dbce935083f.js\"/><link as=\"script\" rel=\"preload\" href=\"/0-35ae190e2268f18748c6.js\"/><link as=\"script\" rel=\"preload\" href=\"/styles-e23d57e2803a031cffd9.js\"/><link as=\"script\" rel=\"preload\" href=\"/webpack-runtime-e747dc801e9a0589774c.js\"/><link as=\"fetch\" rel=\"preload\" href=\"/static/d/173/path---index-6a9-NZuapzHg3X9TaN1iIixfv1W23E.json\" crossorigin=\"use-credentials\"/></head><body><noscript id=\"gatsby-noscript\">This app works best with JavaScript enabled.</noscript><div id=\"___gatsby\"><div style=\"outline:none\" tabindex=\"-1\" role=\"group\"><html><body><div class=\"index-module--hero--3KsId\"><div><img src=\"/static/logo.svg\" width=\"200px\"/><button class=\"jss55 jss29 jss40 jss43\" tabindex=\"0\" type=\"button\" id=\"index-module--menu--3FdTV\"><span class=\"jss30\">MENU</span></button></div><div class=\"index-module--heroTitle--2VgYy\"><h1 class=\"jss58 jss70\">Impara oggi<br/>le professioni di domani</h1><div class=\"Typist index-module--myTypist--2MSi9\"><span class=\"Cursor Cursor--blinking\">|</span></div></div><button class=\"jss55 jss29 jss40 jss43\" tabindex=\"0\" type=\"button\" id=\"index-module--button--2HMS_\"><span class=\"jss30\">ISCRIVITI</span></button></div><div class=\"index-module--quote--_yaf9\"><p>La maggior parte delle persone non riesce a capire quanto velocemente l\\xe2\\x80\\x99Intelligenza Artificiale stia avanzando, <br/>\\xc3\\xa8 molto pi\\xc3\\xb9 veloce di qualsiasi cosa sia mai stata realizzata nella storia dell\\xe2\\x80\\x99uomo</p><h3>ELON MUSK</h3></div><div class=\"jss94 jss117 index-module--block_left--VvYyd\"><div class=\"jss95 jss150\" style=\"text-align:left\"><h3>Cavalca la rivoluzione</h3><div id=\"index-module--line--3y6To\"></div><p>L&#x27;era delle macchine intelligenti \\xc3\\xa8 gi\\xc3\\xa0 iniziata, ci troviamo agli albori di una <b>nuova rivoluzione industriale</b>. L&#x27;intelligenza artificiale sta facendo progressi esponenziali, giorno dopo giorno. Noi vogliamo permetterti di apprendere <b>i segreti dell&#x27;AI</b> per utilizzarla all&#x27;interno della tua professione attuale, avviare una nuova carriera o lanciare una tua attivit\\xc3\\xa0.</p></div><div class=\"jss95 jss150\" style=\"text-align:center\"><img src=\"/static/ai_stats.svg\" width=\"500px\"/></div></div><div class=\"jss94 jss117 index-module--block_right--4UwEp\"><div class=\"jss95 jss150\" style=\"text-align:center\"><img src=\"/static/frameworks.svg\" width=\"500px\"/></div><div class=\"jss95 jss150\" style=\"text-align:right\"><h3>AI alla portata di tutti</h3><div id=\"index-module--line--3y6To\"></div><p>Il nostro obiettivo \\xc3\\xa8 <b>rendere le complessit\\xc3\\xa0 dell&#x27;intelligenza artificiale accessibili a chiunque</b>, indipendentemente dalla base di partenza e dalle aspirazioni di carriera. Non devi avere un dottorato in matematica per seguire i nostri corsi e neanche una laurea in informatica, ogni nostro contenuto viene creato con in mente gli studenti delle prime classi superiori e lavoratori che vogliono aggiungere AI e Data Science al proprio bagaglio di skills.</p></div></div><div class=\"jss94 jss117 index-module--block_left--VvYyd\"><div class=\"jss95 jss150\" style=\"text-align:left\"><h3>Un&#x27;approccio pratico</h3><div id=\"index-module--line--3y6To\"></div><p>La teoria \\xc3\\xa8 fondamentale, ma \\xc3\\xa8 la pratica a fare la differenza. La nostra idea \\xc3\\xa8 quella di mettere ogni studente nella condizione di poter sperimentare ci\\xc3\\xb2 che sta apprendendo a partire dal <b>giorno zero</b>. Ogni lezione di teoria \\xc3\\xa8 seguita da un laboratorio di coding interattivo, in cui mettere subito all&#x27;opera quanto appreso osservando problemi comuni e studiando le best practices.</p></div><div class=\"jss95 jss150\" style=\"text-align:center\"><img src=\"/static/ai_image.svg\" width=\"500px\"/></div></div><div class=\"index-module--catalog--H0_c7\"><h3>I CORSI</h3><ul><li>I nostri corsi possono essere <b>seguiti online</b> in qualsiasi momento e in qualisasi luogo, tramite il sito web e le app di Udemy per Android e iOS.</li><li>Ogni singolo corso ha un costo di <b>soli 9,99 \\xe2\\x82\\xac</b>  se acquistato tramite i nostri canali nel quale sono anche <b>inclusi tutti gli  aggiornamenti futuri</b>.</li><li>Se per qualche motivo uno dei nostri corsi non dovesse soddisfarti hai fino a 30 giorni di tempo per richiedere un <b>rimborso totale e immediato</b>.09</li></ul><div class=\"jss94\" style=\"margin:30px auto;max-width:1400px\"><div class=\"jss95 jss150\"><div class=\"jss196 jss199 jss197 jss195 jss191\"><button class=\"jss55 jss223\" tabindex=\"0\" type=\"button\"><div class=\"jss226 jss192\" style=\"background-image:url(&quot;/static/courses/ml00.jpg&quot;)\" title=\"Machine Learning con Python\"></div><div class=\"jss228\"><h2 class=\"jss58 jss74 jss85 jss193\">Machine Learning con Python</h2><p class=\"jss58 jss67 jss194\">Impara a creare i tuoi algoritmi di Machine Learning con Python e Scikit-learn.</p></div><span class=\"jss225\"></span></button><div class=\"jss229\"><button class=\"jss55 jss29 jss31 jss32 jss34 jss35 jss52 jss231\" tabindex=\"0\" type=\"button\"><span class=\"jss30\">VAI AL CORSO</span></button></div></div></div><div class=\"jss95 jss150\"><div class=\"jss196 jss199 jss197 jss195 jss191\"><button class=\"jss55 jss223\" tabindex=\"0\" type=\"button\"><div class=\"jss226 jss192\" style=\"background-image:url(&quot;/static/courses/dl00.jpg&quot;)\" title=\"Deep Learning con Python\"></div><div class=\"jss228\"><h2 class=\"jss58 jss74 jss85 jss193\">Deep Learning con Python</h2><p class=\"jss58 jss67 jss194\">Scopri il funzionamento del Deep Learning e impara a creare le tue reti neurali con Keras e Tensorflow.</p></div><span class=\"jss225\"></span></button><div class=\"jss229\"><button class=\"jss55 jss29 jss31 jss32 jss34 jss35 jss52 jss231\" tabindex=\"0\" type=\"button\"><span class=\"jss30\">VAI AL CORSO</span></button></div></div></div><div class=\"jss95 jss150\"><div class=\"jss196 jss199 jss197 jss195 jss191\"><button class=\"jss55 jss223\" tabindex=\"0\" type=\"button\"><div class=\"jss226 jss192\" style=\"background-image:url(&quot;/static/courses/cv00.jpg&quot;)\" title=\"Computer Vision con Python\"></div><div class=\"jss228\"><h2 class=\"jss58 jss74 jss85 jss193\">Computer Vision con Python</h2><p class=\"jss58 jss67 jss194\">Impara le basi della computer vision per il riconoscimento di persone e oggetti utilizzando OpenCV.</p></div><span class=\"jss225\"></span></button><div class=\"jss229\"><button class=\"jss55 jss29 jss31 jss33 jss34 jss36 jss52 jss231\" tabindex=\"0\" type=\"button\"><span class=\"jss30\">IN ARRIVO</span></button></div></div></div><div class=\"jss95 jss150\"><div class=\"jss196 jss199 jss197 jss195 jss191\"><button class=\"jss55 jss223\" tabindex=\"0\" type=\"button\"><div class=\"jss226 jss192\" style=\"background-image:url(&quot;/static/courses/nlp00.jpg&quot;)\" title=\"NLP con Python\"></div><div class=\"jss228\"><h2 class=\"jss58 jss74 jss85 jss193\">NLP con Python</h2><p class=\"jss58 jss67 jss194\">Scopri come processare il linguaggio naturale, classificare testi e creare  chatbot con NLTK.</p></div><span class=\"jss225\"></span></button><div class=\"jss229\"><button class=\"jss55 jss29 jss31 jss33 jss34 jss36 jss52 jss231\" tabindex=\"0\" type=\"button\"><span class=\"jss30\">IN ARRIVO</span></button></div></div></div></div></div><div class=\"index-module--cta--5CvVF\"><p>Nel 2020 le nuove posizioni lavorative nel settore dell\\xe2\\x80\\x99AI saranno <b>oltre 2 milioni</b>.<br/>Riserva il tuo posto adesso e investi nel tuo futuro.</p><div id=\"index-module--form--27BQq\"><button class=\"jss55 jss29 jss40 jss43\" tabindex=\"0\" type=\"button\" id=\"index-module--button--2HMS_\"><span class=\"jss30\">ISCRIVITI</span></button></div></div><div class=\"jss94 jss117 index-module--footer--2_iT4\"><div class=\"jss95 jss150\" style=\"display:flex;align-items:center;justify-content:center\"><span>2017 All right Reserved</span></div><div class=\"jss95 jss150\" style=\"display:flex;align-items:center;justify-content:center\"><img src=\"/static/logo_white.svg\" width=\"200px\"/></div><div class=\"jss95 jss150\" style=\"display:flex;align-items:center;justify-content:center\"><span><a href=\"mailto:support@profession.ai\">support@profession.ai</a><br/><a href=\"https://www.iubenda.com/privacy-policy/47767621\">Privacy Policy</a></span></div></div></body></html></div></div><script id=\"gatsby-script-loader\">/*<![CDATA[*/window.page={\"componentChunkName\":\"component---src-pages-index-js\",\"jsonName\":\"index\",\"path\":\"/\"};window.dataPath=\"173/path---index-6a9-NZuapzHg3X9TaN1iIixfv1W23E\";/*]]>*/</script><script id=\"gatsby-chunk-mapping\">/*<![CDATA[*/window.___chunkMapping={\"app\":[\"/app-4686dbac1a86c743a8d5.js\"],\"component---src-pages-404-js\":[\"/component---src-pages-404-js-6c50ddd722d5abcced20.js\"],\"component---src-pages-index-js\":[\"/component---src-pages-index-js-e90b88725585f66733c2.js\"],\"pages-manifest\":[\"/pages-manifest-3734e866600ac1d30820.js\"]};/*]]>*/</script><script src=\"/webpack-runtime-e747dc801e9a0589774c.js\" async=\"\"></script><script src=\"/styles-e23d57e2803a031cffd9.js\" async=\"\"></script><script src=\"/0-35ae190e2268f18748c6.js\" async=\"\"></script><script src=\"/7-4a7ac3407dbce935083f.js\" async=\"\"></script><script src=\"/app-4686dbac1a86c743a8d5.js\" async=\"\"></script><script src=\"/component---src-pages-index-js-e90b88725585f66733c2.js\" async=\"\"></script></body></html>\\n'\n"
          ],
          "name": "stdout"
        }
      ]
    },
    {
      "metadata": {
        "id": "gw1MduZs2ZyM",
        "colab_type": "text"
      },
      "cell_type": "markdown",
      "source": [
        "**NOTA BENE**\n",
        "<br>\n",
        "Se non sei pratico del web, quando puntiamo ad un indirizzo veniamo reindirizzati al file index.html presente sul suo server, quindi in questo caso stiamo scaricando il file *https://profession.ai/index.html*"
      ]
    },
    {
      "metadata": {
        "id": "Ya9duoRtIoB7",
        "colab_type": "code",
        "outputId": "d7648d51-44ca-4ed2-ca6c-0921a1164207",
        "colab": {
          "base_uri": "https://localhost:8080/",
          "height": 6637
        }
      },
      "cell_type": "code",
      "source": [
        "from bs4 import BeautifulSoup\n",
        "\n",
        "soup = BeautifulSoup(html_code)\n",
        "print(soup.prettify())"
      ],
      "execution_count": 4,
      "outputs": [
        {
          "output_type": "stream",
          "text": [
            "<!DOCTYPE html>\n",
            "<html lang=\"en\">\n",
            " <head>\n",
            "  <!--Start of Tawk.to Script-->\n",
            "  <script type=\"text/javascript\">\n",
            "   var Tawk_API=Tawk_API||{}, Tawk_LoadStart=new Date();\n",
            "(function(){\n",
            "var s1=document.createElement(\"script\"),s0=document.getElementsByTagName(\"script\")[0];\n",
            "s1.async=true;\n",
            "s1.src='https://embed.tawk.to/5c79803c3341d22d9ce6dc63/default';\n",
            "s1.charset='UTF-8';\n",
            "s1.setAttribute('crossorigin','*');\n",
            "s0.parentNode.insertBefore(s1,s0);\n",
            "})();\n",
            "  </script>\n",
            "  <!--End of Tawk.to Script-->\n",
            "  <meta charset=\"utf-8\"/>\n",
            "  <meta content=\"ie=edge\" http-equiv=\"x-ua-compatible\"/>\n",
            "  <meta content=\"width=device-width, initial-scale=1, shrink-to-fit=no\" name=\"viewport\"/>\n",
            "  <style data-href=\"/styles.b08f62e3242e41e0a9da.css\">\n",
            "   :root{--white:#fff;--black:#000;--grey:#707070;--green:#032b35;--bg-light:#fafafa;--bg-dark:#f0f0f0;--bg-footer:#111;--headline:56px;--subheadline:24px;--quote:22px;--header:36px;--paragraph:18px;--footer:16px;--light:100;--normal:300;--semibold:400;--bold:600;--black:900}body{margin:0;padding:0;font-family:Lato}.index-module--hero--3KsId{height:900px;background-image:url(/static/bg.png);padding:50px 100px 0}.index-module--hero--3KsId h1{font-weight:var(--black);color:var(--white);font-size:var(--headline);line-height:125%;margin-bottom:10px}.index-module--heroTitle--2VgYy{padding:250px 0 0;margin-bottom:30px}.index-module--heroTitle--2VgYy span{font-weight:var(--normal);color:var(--white);font-size:var(--subheadline)}.index-module--quote--_yaf9{text-align:center;margin:10% 15%;-webkit-align-content:center;align-content:center}.index-module--quote--_yaf9 p{font-weight:var(--light);color:var(--paragraph);font-size:var(--quote);line-height:150%}.index-module--quote--_yaf9 h3{text-align:center;font-weight:var(--black);color:var(--black);font-size:var(--quote)}.index-module--block_left--VvYyd{-webkit-align-items:center;align-items:center;-webkit-align-content:center;align-content:center;padding:100px 10%;background-color:var(--bg-light)}.index-module--block_left--VvYyd h3{height:5px;font-weight:var(--black);font-size:var(--header);color:var(--grey)}.index-module--block_left--VvYyd p{font-weight:var(--normal);font-size:var(--paragraph);color:var(--grey);line-height:175%}.index-module--block_right--4UwEp{-webkit-align-items:center;align-items:center;-webkit-align-content:center;align-content:center;padding:100px 10%;background-color:var(--white)}.index-module--block_right--4UwEp h3{height:5px;text-align:right;font-weight:var(--black);font-size:var(--header);color:var(--grey)}.index-module--block_right--4UwEp p{text-align:right;font-weight:var(--normal);font-size:var(--paragraph);color:var(--grey);line-height:175%}#index-module--form--27BQq{display:inline-block;text-align:center;-webkit-align-items:center;align-items:center;-webkit-align-content:center;align-content:center}#index-module--button--2HMS_{background:linear-gradient(270deg,#84ffbe,#44e6b8),#c4c4c4}#index-module--button--2HMS_,#index-module--menu--3FdTV{font-weight:var(--bold);color:var(--green);padding:10px 30px}#index-module--menu--3FdTV{background:var(--white);border-radius:30px;float:right}#index-module--menu_icon--1VW8u{background:transparent;font-weight:var(--bold);color:var(--white);padding:5px 0 10px 30px;float:right}#index-module--line--3y6To{display:inline-block;height:5px;width:100px;background:linear-gradient(270deg,#84ffbe,#44e6b8),#c4c4c4;border-radius:4px}.index-module--catalog--H0_c7{padding:20px 100px;background-color:var(--bg-dark)}.index-module--catalog--H0_c7 h3{font-size:var(--header);font-weight:var(--bold)}.index-module--catalog--H0_c7 ul{padding-left:20px}.index-module--catalog--H0_c7 li{text-align:left;font-weight:var(--normal);font-size:var(--paragraph);color:var(--grey);margin:0 0 10px}.index-module--cta--5CvVF{text-align:center;padding:5% 15%;-webkit-align-content:center;align-content:center;background-color:var(--green)}.index-module--cta--5CvVF p{font-weight:var(--semibold);color:var(--white);font-size:var(--quote);line-height:200%}.index-module--footer--2_iT4{width:100%;display:inline-block;background-color:var(--bg-footer)}.index-module--footer--2_iT4 img{display:inline-block;text-align:\"center\";padding:50px}.index-module--footer--2_iT4 span{color:var(--white);line-height:200%;font-size:var(--footer)}.index-module--footer--2_iT4 a{color:var(--white);text-decoration:none}@media screen and (orientation:portrait){:root{--headline:36px;--subheadline:22px;--header:26px}.index-module--hero--3KsId{height:600px;padding:50px 25px 0 50px}.index-module--heroTitle--2VgYy{padding:140px 0 0;margin-bottom:30px}.index-module--myTypist--2MSi9{min-height:60px;height:60px}.index-module--block_left--VvYyd,.index-module--block_right--4UwEp{padding:50px 10%}.index-module--catalog--H0_c7{padding:10px 50px}.index-module--cta--5CvVF{padding:5% 15% 10%}.index-module--footer--2_iT4{display:block;padding-bottom:30px}.index-module--footer--2_iT4 div,.index-module--footer--2_iT4 span{display:block;text-align:center}}\n",
            "  </style>\n",
            "  <meta content=\"Gatsby 2.1.18\" name=\"generator\"/>\n",
            "  <title data-react-helmet=\"true\">\n",
            "   Home | ProfessionAI\n",
            "  </title>\n",
            "  <meta content=\"Impara Machine Learning, Deep Learning, Data Science, Computer Vision e tutto ciò che riguarda l'intelligenza artificiale.\" data-react-helmet=\"true\" name=\"description\"/>\n",
            "  <meta content=\"Home\" data-react-helmet=\"true\" property=\"og:title\"/>\n",
            "  <meta content=\"Impara Machine Learning, Deep Learning, Data Science, Computer Vision e tutto ciò che riguarda l'intelligenza artificiale.\" data-react-helmet=\"true\" property=\"og:description\"/>\n",
            "  <meta content=\"website\" data-react-helmet=\"true\" property=\"og:type\"/>\n",
            "  <meta content=\"summary\" data-react-helmet=\"true\" name=\"twitter:card\"/>\n",
            "  <meta content=\"@professio.ai\" data-react-helmet=\"true\" name=\"twitter:creator\"/>\n",
            "  <meta content=\"Home\" data-react-helmet=\"true\" name=\"twitter:title\"/>\n",
            "  <meta content=\"Impara Machine Learning, Deep Learning, Data Science, Computer Vision e tutto ciò che riguarda l'intelligenza artificiale.\" data-react-helmet=\"true\" name=\"twitter:description\"/>\n",
            "  <meta content=\"artificial intelligence, deep learning, machine learning\" data-react-helmet=\"true\" name=\"keywords\"/>\n",
            "  <link href=\"/icons/icon-48x48.png\" rel=\"shortcut icon\"/>\n",
            "  <link href=\"/manifest.webmanifest\" rel=\"manifest\"/>\n",
            "  <meta content=\"#663399\" name=\"theme-color\"/>\n",
            "  <link href=\"/icons/icon-48x48.png\" rel=\"apple-touch-icon\" sizes=\"48x48\"/>\n",
            "  <link href=\"/icons/icon-72x72.png\" rel=\"apple-touch-icon\" sizes=\"72x72\"/>\n",
            "  <link href=\"/icons/icon-96x96.png\" rel=\"apple-touch-icon\" sizes=\"96x96\"/>\n",
            "  <link href=\"/icons/icon-144x144.png\" rel=\"apple-touch-icon\" sizes=\"144x144\"/>\n",
            "  <link href=\"/icons/icon-192x192.png\" rel=\"apple-touch-icon\" sizes=\"192x192\"/>\n",
            "  <link href=\"/icons/icon-256x256.png\" rel=\"apple-touch-icon\" sizes=\"256x256\"/>\n",
            "  <link href=\"/icons/icon-384x384.png\" rel=\"apple-touch-icon\" sizes=\"384x384\"/>\n",
            "  <link href=\"/icons/icon-512x512.png\" rel=\"apple-touch-icon\" sizes=\"512x512\"/>\n",
            "  <link href=\"/icons-6cc676c34171efc746c40c71f85c5bb5/favicon.ico\" rel=\"shortcut icon\"/>\n",
            "  <link href=\"/icons-6cc676c34171efc746c40c71f85c5bb5/favicon-16x16.png\" rel=\"icon\" sizes=\"16x16\" type=\"image/png\"/>\n",
            "  <link href=\"/icons-6cc676c34171efc746c40c71f85c5bb5/favicon-32x32.png\" rel=\"icon\" sizes=\"32x32\" type=\"image/png\"/>\n",
            "  <link href=\"/icons-6cc676c34171efc746c40c71f85c5bb5/manifest.json\" rel=\"manifest\"/>\n",
            "  <meta content=\"yes\" name=\"mobile-web-app-capable\"/>\n",
            "  <meta content=\"#fff\" name=\"theme-color\"/>\n",
            "  <meta content=\"gatsby-starter-default\" name=\"application-name\"/>\n",
            "  <link href=\"/icons-6cc676c34171efc746c40c71f85c5bb5/apple-touch-icon-57x57.png\" rel=\"apple-touch-icon\" sizes=\"57x57\"/>\n",
            "  <link href=\"/icons-6cc676c34171efc746c40c71f85c5bb5/apple-touch-icon-60x60.png\" rel=\"apple-touch-icon\" sizes=\"60x60\"/>\n",
            "  <link href=\"/icons-6cc676c34171efc746c40c71f85c5bb5/apple-touch-icon-72x72.png\" rel=\"apple-touch-icon\" sizes=\"72x72\"/>\n",
            "  <link href=\"/icons-6cc676c34171efc746c40c71f85c5bb5/apple-touch-icon-76x76.png\" rel=\"apple-touch-icon\" sizes=\"76x76\"/>\n",
            "  <link href=\"/icons-6cc676c34171efc746c40c71f85c5bb5/apple-touch-icon-114x114.png\" rel=\"apple-touch-icon\" sizes=\"114x114\"/>\n",
            "  <link href=\"/icons-6cc676c34171efc746c40c71f85c5bb5/apple-touch-icon-120x120.png\" rel=\"apple-touch-icon\" sizes=\"120x120\"/>\n",
            "  <link href=\"/icons-6cc676c34171efc746c40c71f85c5bb5/apple-touch-icon-144x144.png\" rel=\"apple-touch-icon\" sizes=\"144x144\"/>\n",
            "  <link href=\"/icons-6cc676c34171efc746c40c71f85c5bb5/apple-touch-icon-152x152.png\" rel=\"apple-touch-icon\" sizes=\"152x152\"/>\n",
            "  <link href=\"/icons-6cc676c34171efc746c40c71f85c5bb5/apple-touch-icon-167x167.png\" rel=\"apple-touch-icon\" sizes=\"167x167\"/>\n",
            "  <link href=\"/icons-6cc676c34171efc746c40c71f85c5bb5/apple-touch-icon-180x180.png\" rel=\"apple-touch-icon\" sizes=\"180x180\"/>\n",
            "  <link href=\"/icons-6cc676c34171efc746c40c71f85c5bb5/apple-touch-icon-1024x1024.png\" rel=\"apple-touch-icon\" sizes=\"1024x1024\"/>\n",
            "  <meta content=\"yes\" name=\"apple-mobile-web-app-capable\"/>\n",
            "  <meta content=\"black-translucent\" name=\"apple-mobile-web-app-status-bar-style\"/>\n",
            "  <meta content=\"gatsby-starter-default\" name=\"apple-mobile-web-app-title\"/>\n",
            "  <link href=\"/icons-6cc676c34171efc746c40c71f85c5bb5/apple-touch-startup-image-320x460.png\" media=\"(device-width: 320px) and (device-height: 480px) and (-webkit-device-pixel-ratio: 1)\" rel=\"apple-touch-startup-image\"/>\n",
            "  <link href=\"/icons-6cc676c34171efc746c40c71f85c5bb5/apple-touch-startup-image-640x920.png\" media=\"(device-width: 320px) and (device-height: 480px) and (-webkit-device-pixel-ratio: 2)\" rel=\"apple-touch-startup-image\"/>\n",
            "  <link href=\"/icons-6cc676c34171efc746c40c71f85c5bb5/apple-touch-startup-image-640x1096.png\" media=\"(device-width: 320px) and (device-height: 568px) and (-webkit-device-pixel-ratio: 2)\" rel=\"apple-touch-startup-image\"/>\n",
            "  <link href=\"/icons-6cc676c34171efc746c40c71f85c5bb5/apple-touch-startup-image-750x1294.png\" media=\"(device-width: 375px) and (device-height: 667px) and (-webkit-device-pixel-ratio: 2)\" rel=\"apple-touch-startup-image\"/>\n",
            "  <link href=\"/icons-6cc676c34171efc746c40c71f85c5bb5/apple-touch-startup-image-1182x2208.png\" media=\"(device-width: 414px) and (device-height: 736px) and (orientation: landscape) and (-webkit-device-pixel-ratio: 3)\" rel=\"apple-touch-startup-image\"/>\n",
            "  <link href=\"/icons-6cc676c34171efc746c40c71f85c5bb5/apple-touch-startup-image-1242x2148.png\" media=\"(device-width: 414px) and (device-height: 736px) and (orientation: portrait) and (-webkit-device-pixel-ratio: 3)\" rel=\"apple-touch-startup-image\"/>\n",
            "  <link href=\"/icons-6cc676c34171efc746c40c71f85c5bb5/apple-touch-startup-image-748x1024.png\" media=\"(device-width: 768px) and (device-height: 1024px) and (orientation: landscape) and (-webkit-device-pixel-ratio: 1)\" rel=\"apple-touch-startup-image\"/>\n",
            "  <link href=\"/icons-6cc676c34171efc746c40c71f85c5bb5/apple-touch-startup-image-768x1004.png\" media=\"(device-width: 768px) and (device-height: 1024px) and (orientation: portrait) and (-webkit-device-pixel-ratio: 1)\" rel=\"apple-touch-startup-image\"/>\n",
            "  <link href=\"/icons-6cc676c34171efc746c40c71f85c5bb5/apple-touch-startup-image-1496x2048.png\" media=\"(device-width: 768px) and (device-height: 1024px) and (orientation: landscape) and (-webkit-device-pixel-ratio: 2)\" rel=\"apple-touch-startup-image\"/>\n",
            "  <link href=\"/icons-6cc676c34171efc746c40c71f85c5bb5/apple-touch-startup-image-1536x2008.png\" media=\"(device-width: 768px) and (device-height: 1024px) and (orientation: portrait) and (-webkit-device-pixel-ratio: 2)\" rel=\"apple-touch-startup-image\"/>\n",
            "  <link as=\"script\" href=\"/component---src-pages-index-js-e90b88725585f66733c2.js\" rel=\"preload\"/>\n",
            "  <link as=\"script\" href=\"/app-4686dbac1a86c743a8d5.js\" rel=\"preload\"/>\n",
            "  <link as=\"script\" href=\"/7-4a7ac3407dbce935083f.js\" rel=\"preload\"/>\n",
            "  <link as=\"script\" href=\"/0-35ae190e2268f18748c6.js\" rel=\"preload\"/>\n",
            "  <link as=\"script\" href=\"/styles-e23d57e2803a031cffd9.js\" rel=\"preload\"/>\n",
            "  <link as=\"script\" href=\"/webpack-runtime-e747dc801e9a0589774c.js\" rel=\"preload\"/>\n",
            "  <link as=\"fetch\" crossorigin=\"use-credentials\" href=\"/static/d/173/path---index-6a9-NZuapzHg3X9TaN1iIixfv1W23E.json\" rel=\"preload\"/>\n",
            " </head>\n",
            " <body>\n",
            "  <noscript id=\"gatsby-noscript\">\n",
            "   This app works best with JavaScript enabled.\n",
            "  </noscript>\n",
            "  <div id=\"___gatsby\">\n",
            "   <div role=\"group\" style=\"outline:none\" tabindex=\"-1\">\n",
            "    <div class=\"index-module--hero--3KsId\">\n",
            "     <div>\n",
            "      <img src=\"/static/logo.svg\" width=\"200px\"/>\n",
            "      <button class=\"jss55 jss29 jss40 jss43\" id=\"index-module--menu--3FdTV\" tabindex=\"0\" type=\"button\">\n",
            "       <span class=\"jss30\">\n",
            "        MENU\n",
            "       </span>\n",
            "      </button>\n",
            "     </div>\n",
            "     <div class=\"index-module--heroTitle--2VgYy\">\n",
            "      <h1 class=\"jss58 jss70\">\n",
            "       Impara oggi\n",
            "       <br/>\n",
            "       le professioni di domani\n",
            "      </h1>\n",
            "      <div class=\"Typist index-module--myTypist--2MSi9\">\n",
            "       <span class=\"Cursor Cursor--blinking\">\n",
            "        |\n",
            "       </span>\n",
            "      </div>\n",
            "     </div>\n",
            "     <button class=\"jss55 jss29 jss40 jss43\" id=\"index-module--button--2HMS_\" tabindex=\"0\" type=\"button\">\n",
            "      <span class=\"jss30\">\n",
            "       ISCRIVITI\n",
            "      </span>\n",
            "     </button>\n",
            "    </div>\n",
            "    <div class=\"index-module--quote--_yaf9\">\n",
            "     <p>\n",
            "      La maggior parte delle persone non riesce a capire quanto velocemente l’Intelligenza Artificiale stia avanzando,\n",
            "      <br/>\n",
            "      è molto più veloce di qualsiasi cosa sia mai stata realizzata nella storia dell’uomo\n",
            "     </p>\n",
            "     <h3>\n",
            "      ELON MUSK\n",
            "     </h3>\n",
            "    </div>\n",
            "    <div class=\"jss94 jss117 index-module--block_left--VvYyd\">\n",
            "     <div class=\"jss95 jss150\" style=\"text-align:left\">\n",
            "      <h3>\n",
            "       Cavalca la rivoluzione\n",
            "      </h3>\n",
            "      <div id=\"index-module--line--3y6To\">\n",
            "      </div>\n",
            "      <p>\n",
            "       L'era delle macchine intelligenti è già iniziata, ci troviamo agli albori di una\n",
            "       <b>\n",
            "        nuova rivoluzione industriale\n",
            "       </b>\n",
            "       . L'intelligenza artificiale sta facendo progressi esponenziali, giorno dopo giorno. Noi vogliamo permetterti di apprendere\n",
            "       <b>\n",
            "        i segreti dell'AI\n",
            "       </b>\n",
            "       per utilizzarla all'interno della tua professione attuale, avviare una nuova carriera o lanciare una tua attività.\n",
            "      </p>\n",
            "     </div>\n",
            "     <div class=\"jss95 jss150\" style=\"text-align:center\">\n",
            "      <img src=\"/static/ai_stats.svg\" width=\"500px\"/>\n",
            "     </div>\n",
            "    </div>\n",
            "    <div class=\"jss94 jss117 index-module--block_right--4UwEp\">\n",
            "     <div class=\"jss95 jss150\" style=\"text-align:center\">\n",
            "      <img src=\"/static/frameworks.svg\" width=\"500px\"/>\n",
            "     </div>\n",
            "     <div class=\"jss95 jss150\" style=\"text-align:right\">\n",
            "      <h3>\n",
            "       AI alla portata di tutti\n",
            "      </h3>\n",
            "      <div id=\"index-module--line--3y6To\">\n",
            "      </div>\n",
            "      <p>\n",
            "       Il nostro obiettivo è\n",
            "       <b>\n",
            "        rendere le complessità dell'intelligenza artificiale accessibili a chiunque\n",
            "       </b>\n",
            "       , indipendentemente dalla base di partenza e dalle aspirazioni di carriera. Non devi avere un dottorato in matematica per seguire i nostri corsi e neanche una laurea in informatica, ogni nostro contenuto viene creato con in mente gli studenti delle prime classi superiori e lavoratori che vogliono aggiungere AI e Data Science al proprio bagaglio di skills.\n",
            "      </p>\n",
            "     </div>\n",
            "    </div>\n",
            "    <div class=\"jss94 jss117 index-module--block_left--VvYyd\">\n",
            "     <div class=\"jss95 jss150\" style=\"text-align:left\">\n",
            "      <h3>\n",
            "       Un'approccio pratico\n",
            "      </h3>\n",
            "      <div id=\"index-module--line--3y6To\">\n",
            "      </div>\n",
            "      <p>\n",
            "       La teoria è fondamentale, ma è la pratica a fare la differenza. La nostra idea è quella di mettere ogni studente nella condizione di poter sperimentare ciò che sta apprendendo a partire dal\n",
            "       <b>\n",
            "        giorno zero\n",
            "       </b>\n",
            "       . Ogni lezione di teoria è seguita da un laboratorio di coding interattivo, in cui mettere subito all'opera quanto appreso osservando problemi comuni e studiando le best practices.\n",
            "      </p>\n",
            "     </div>\n",
            "     <div class=\"jss95 jss150\" style=\"text-align:center\">\n",
            "      <img src=\"/static/ai_image.svg\" width=\"500px\"/>\n",
            "     </div>\n",
            "    </div>\n",
            "    <div class=\"index-module--catalog--H0_c7\">\n",
            "     <h3>\n",
            "      I CORSI\n",
            "     </h3>\n",
            "     <ul>\n",
            "      <li>\n",
            "       I nostri corsi possono essere\n",
            "       <b>\n",
            "        seguiti online\n",
            "       </b>\n",
            "       in qualsiasi momento e in qualisasi luogo, tramite il sito web e le app di Udemy per Android e iOS.\n",
            "      </li>\n",
            "      <li>\n",
            "       Ogni singolo corso ha un costo di\n",
            "       <b>\n",
            "        soli 9,99 €\n",
            "       </b>\n",
            "       se acquistato tramite i nostri canali nel quale sono anche\n",
            "       <b>\n",
            "        inclusi tutti gli  aggiornamenti futuri\n",
            "       </b>\n",
            "       .\n",
            "      </li>\n",
            "      <li>\n",
            "       Se per qualche motivo uno dei nostri corsi non dovesse soddisfarti hai fino a 30 giorni di tempo per richiedere un\n",
            "       <b>\n",
            "        rimborso totale e immediato\n",
            "       </b>\n",
            "       .09\n",
            "      </li>\n",
            "     </ul>\n",
            "     <div class=\"jss94\" style=\"margin:30px auto;max-width:1400px\">\n",
            "      <div class=\"jss95 jss150\">\n",
            "       <div class=\"jss196 jss199 jss197 jss195 jss191\">\n",
            "        <button class=\"jss55 jss223\" tabindex=\"0\" type=\"button\">\n",
            "         <div class=\"jss226 jss192\" style='background-image:url(\"/static/courses/ml00.jpg\")' title=\"Machine Learning con Python\">\n",
            "         </div>\n",
            "         <div class=\"jss228\">\n",
            "          <h2 class=\"jss58 jss74 jss85 jss193\">\n",
            "           Machine Learning con Python\n",
            "          </h2>\n",
            "          <p class=\"jss58 jss67 jss194\">\n",
            "           Impara a creare i tuoi algoritmi di Machine Learning con Python e Scikit-learn.\n",
            "          </p>\n",
            "         </div>\n",
            "         <span class=\"jss225\">\n",
            "         </span>\n",
            "        </button>\n",
            "        <div class=\"jss229\">\n",
            "         <button class=\"jss55 jss29 jss31 jss32 jss34 jss35 jss52 jss231\" tabindex=\"0\" type=\"button\">\n",
            "          <span class=\"jss30\">\n",
            "           VAI AL CORSO\n",
            "          </span>\n",
            "         </button>\n",
            "        </div>\n",
            "       </div>\n",
            "      </div>\n",
            "      <div class=\"jss95 jss150\">\n",
            "       <div class=\"jss196 jss199 jss197 jss195 jss191\">\n",
            "        <button class=\"jss55 jss223\" tabindex=\"0\" type=\"button\">\n",
            "         <div class=\"jss226 jss192\" style='background-image:url(\"/static/courses/dl00.jpg\")' title=\"Deep Learning con Python\">\n",
            "         </div>\n",
            "         <div class=\"jss228\">\n",
            "          <h2 class=\"jss58 jss74 jss85 jss193\">\n",
            "           Deep Learning con Python\n",
            "          </h2>\n",
            "          <p class=\"jss58 jss67 jss194\">\n",
            "           Scopri il funzionamento del Deep Learning e impara a creare le tue reti neurali con Keras e Tensorflow.\n",
            "          </p>\n",
            "         </div>\n",
            "         <span class=\"jss225\">\n",
            "         </span>\n",
            "        </button>\n",
            "        <div class=\"jss229\">\n",
            "         <button class=\"jss55 jss29 jss31 jss32 jss34 jss35 jss52 jss231\" tabindex=\"0\" type=\"button\">\n",
            "          <span class=\"jss30\">\n",
            "           VAI AL CORSO\n",
            "          </span>\n",
            "         </button>\n",
            "        </div>\n",
            "       </div>\n",
            "      </div>\n",
            "      <div class=\"jss95 jss150\">\n",
            "       <div class=\"jss196 jss199 jss197 jss195 jss191\">\n",
            "        <button class=\"jss55 jss223\" tabindex=\"0\" type=\"button\">\n",
            "         <div class=\"jss226 jss192\" style='background-image:url(\"/static/courses/cv00.jpg\")' title=\"Computer Vision con Python\">\n",
            "         </div>\n",
            "         <div class=\"jss228\">\n",
            "          <h2 class=\"jss58 jss74 jss85 jss193\">\n",
            "           Computer Vision con Python\n",
            "          </h2>\n",
            "          <p class=\"jss58 jss67 jss194\">\n",
            "           Impara le basi della computer vision per il riconoscimento di persone e oggetti utilizzando OpenCV.\n",
            "          </p>\n",
            "         </div>\n",
            "         <span class=\"jss225\">\n",
            "         </span>\n",
            "        </button>\n",
            "        <div class=\"jss229\">\n",
            "         <button class=\"jss55 jss29 jss31 jss33 jss34 jss36 jss52 jss231\" tabindex=\"0\" type=\"button\">\n",
            "          <span class=\"jss30\">\n",
            "           IN ARRIVO\n",
            "          </span>\n",
            "         </button>\n",
            "        </div>\n",
            "       </div>\n",
            "      </div>\n",
            "      <div class=\"jss95 jss150\">\n",
            "       <div class=\"jss196 jss199 jss197 jss195 jss191\">\n",
            "        <button class=\"jss55 jss223\" tabindex=\"0\" type=\"button\">\n",
            "         <div class=\"jss226 jss192\" style='background-image:url(\"/static/courses/nlp00.jpg\")' title=\"NLP con Python\">\n",
            "         </div>\n",
            "         <div class=\"jss228\">\n",
            "          <h2 class=\"jss58 jss74 jss85 jss193\">\n",
            "           NLP con Python\n",
            "          </h2>\n",
            "          <p class=\"jss58 jss67 jss194\">\n",
            "           Scopri come processare il linguaggio naturale, classificare testi e creare  chatbot con NLTK.\n",
            "          </p>\n",
            "         </div>\n",
            "         <span class=\"jss225\">\n",
            "         </span>\n",
            "        </button>\n",
            "        <div class=\"jss229\">\n",
            "         <button class=\"jss55 jss29 jss31 jss33 jss34 jss36 jss52 jss231\" tabindex=\"0\" type=\"button\">\n",
            "          <span class=\"jss30\">\n",
            "           IN ARRIVO\n",
            "          </span>\n",
            "         </button>\n",
            "        </div>\n",
            "       </div>\n",
            "      </div>\n",
            "     </div>\n",
            "    </div>\n",
            "    <div class=\"index-module--cta--5CvVF\">\n",
            "     <p>\n",
            "      Nel 2020 le nuove posizioni lavorative nel settore dell’AI saranno\n",
            "      <b>\n",
            "       oltre 2 milioni\n",
            "      </b>\n",
            "      .\n",
            "      <br/>\n",
            "      Riserva il tuo posto adesso e investi nel tuo futuro.\n",
            "     </p>\n",
            "     <div id=\"index-module--form--27BQq\">\n",
            "      <button class=\"jss55 jss29 jss40 jss43\" id=\"index-module--button--2HMS_\" tabindex=\"0\" type=\"button\">\n",
            "       <span class=\"jss30\">\n",
            "        ISCRIVITI\n",
            "       </span>\n",
            "      </button>\n",
            "     </div>\n",
            "    </div>\n",
            "    <div class=\"jss94 jss117 index-module--footer--2_iT4\">\n",
            "     <div class=\"jss95 jss150\" style=\"display:flex;align-items:center;justify-content:center\">\n",
            "      <span>\n",
            "       2017 All right Reserved\n",
            "      </span>\n",
            "     </div>\n",
            "     <div class=\"jss95 jss150\" style=\"display:flex;align-items:center;justify-content:center\">\n",
            "      <img src=\"/static/logo_white.svg\" width=\"200px\"/>\n",
            "     </div>\n",
            "     <div class=\"jss95 jss150\" style=\"display:flex;align-items:center;justify-content:center\">\n",
            "      <span>\n",
            "       <a href=\"mailto:support@profession.ai\">\n",
            "        support@profession.ai\n",
            "       </a>\n",
            "       <br/>\n",
            "       <a href=\"https://www.iubenda.com/privacy-policy/47767621\">\n",
            "        Privacy Policy\n",
            "       </a>\n",
            "      </span>\n",
            "     </div>\n",
            "    </div>\n",
            "   </div>\n",
            "  </div>\n",
            "  <script id=\"gatsby-script-loader\">\n",
            "   /*<![CDATA[*/window.page={\"componentChunkName\":\"component---src-pages-index-js\",\"jsonName\":\"index\",\"path\":\"/\"};window.dataPath=\"173/path---index-6a9-NZuapzHg3X9TaN1iIixfv1W23E\";/*]]>*/\n",
            "  </script>\n",
            "  <script id=\"gatsby-chunk-mapping\">\n",
            "   /*<![CDATA[*/window.___chunkMapping={\"app\":[\"/app-4686dbac1a86c743a8d5.js\"],\"component---src-pages-404-js\":[\"/component---src-pages-404-js-6c50ddd722d5abcced20.js\"],\"component---src-pages-index-js\":[\"/component---src-pages-index-js-e90b88725585f66733c2.js\"],\"pages-manifest\":[\"/pages-manifest-3734e866600ac1d30820.js\"]};/*]]>*/\n",
            "  </script>\n",
            "  <script async=\"\" src=\"/webpack-runtime-e747dc801e9a0589774c.js\">\n",
            "  </script>\n",
            "  <script async=\"\" src=\"/styles-e23d57e2803a031cffd9.js\">\n",
            "  </script>\n",
            "  <script async=\"\" src=\"/0-35ae190e2268f18748c6.js\">\n",
            "  </script>\n",
            "  <script async=\"\" src=\"/7-4a7ac3407dbce935083f.js\">\n",
            "  </script>\n",
            "  <script async=\"\" src=\"/app-4686dbac1a86c743a8d5.js\">\n",
            "  </script>\n",
            "  <script async=\"\" src=\"/component---src-pages-index-js-e90b88725585f66733c2.js\">\n",
            "  </script>\n",
            " </body>\n",
            "</html>\n",
            "\n"
          ],
          "name": "stdout"
        }
      ]
    },
    {
      "metadata": {
        "id": "mU2_vjCMsCnq",
        "colab_type": "text"
      },
      "cell_type": "markdown",
      "source": [
        "Ovviamente questa volta il codice HTML è notevolmente più complesso rispetto al nostro piccolo esempio di prima, ma grazie a *BeautifulSoup* possiamo usare esattamente lo stesso metodo di prima per estrarre il testo da tutti i paragrafi."
      ]
    },
    {
      "metadata": {
        "id": "2cPzhKqtOGD3",
        "colab_type": "code",
        "outputId": "bf0375e4-3104-4d17-8ea1-41c45144c12a",
        "colab": {
          "base_uri": "https://localhost:8080/",
          "height": 294
        }
      },
      "cell_type": "code",
      "source": [
        "text = \" \".join(text.split())\n",
        "text = text.replace(\".\",\".\\n\")\n",
        "print(text)"
      ],
      "execution_count": 13,
      "outputs": [
        {
          "output_type": "stream",
          "text": [
            "La maggior parte delle persone non riesce a capire quanto velocemente l’Intelligenza Artificiale stia avanzando, è molto più veloce di qualsiasi cosa sia mai stata realizzata nella storia dell’uomoL'era delle macchine intelligenti è già iniziata, ci troviamo agli albori di una nuova rivoluzione industriale.\n",
            " L'intelligenza artificiale sta facendo progressi esponenziali, giorno dopo giorno.\n",
            " Noi vogliamo permetterti di apprendere i segreti dell'AI per utilizzarla all'interno della tua professione attuale, avviare una nuova carriera o lanciare una tua attività.\n",
            " Il nostro obiettivo è rendere le complessità dell'intelligenza artificiale accessibili a chiunque, indipendentemente dalla base di partenza e dalle aspirazioni di carriera.\n",
            " Non devi avere un dottorato in matematica per seguire i nostri corsi e neanche una laurea in informatica, ogni nostro contenuto viene creato con in mente gli studenti delle prime classi superiori e lavoratori che vogliono aggiungere AI e Data Science al proprio bagaglio di skills.\n",
            " La teoria è fondamentale, ma è la pratica a fare la differenza.\n",
            " La nostra idea è quella di mettere ogni studente nella condizione di poter sperimentare ciò che sta apprendendo a partire dal giorno zero.\n",
            " Ogni lezione di teoria è seguita da un laboratorio di coding interattivo, in cui mettere subito all'opera quanto appreso osservando problemi comuni e studiando le best practices.\n",
            " Impara a creare i tuoi algoritmi di Machine Learning con Python e Scikit-learn.\n",
            " Scopri il funzionamento del Deep Learning e impara a creare le tue reti neurali con Keras e Tensorflow.\n",
            " Impara le basi della computer vision per il riconoscimento di persone e oggetti utilizzando OpenCV.\n",
            " Scopri come processare il linguaggio naturale, classificare testi e creare chatbot con NLTK.\n",
            " Nel 2020 le nuove posizioni lavorative nel settore dell’AI saranno oltre 2 milioni.\n",
            " Riserva il tuo posto adesso e investi nel tuo futuro.\n",
            "\n"
          ],
          "name": "stdout"
        }
      ]
    },
    {
      "metadata": {
        "id": "c-Ul8YK2rGKL",
        "colab_type": "text"
      },
      "cell_type": "markdown",
      "source": [
        "## Link utili\n",
        "\n",
        "- https://www.crummy.com/software/BeautifulSoup/bs4/doc/"
      ]
    },
    {
      "metadata": {
        "id": "hYVJIcMlrMN7",
        "colab_type": "code",
        "colab": {}
      },
      "cell_type": "code",
      "source": [
        ""
      ],
      "execution_count": 0,
      "outputs": []
    }
  ]
}
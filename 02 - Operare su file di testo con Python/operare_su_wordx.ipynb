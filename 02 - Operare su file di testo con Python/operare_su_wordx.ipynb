{
  "nbformat": 4,
  "nbformat_minor": 0,
  "metadata": {
    "colab": {
      "name": "operare_su_wordx.ipynb",
      "version": "0.3.2",
      "provenance": [],
      "include_colab_link": true
    },
    "kernelspec": {
      "name": "python3",
      "display_name": "Python 3"
    }
  },
  "cells": [
    {
      "cell_type": "markdown",
      "metadata": {
        "id": "view-in-github",
        "colab_type": "text"
      },
      "source": [
        "<a href=\"https://colab.research.google.com/github/ProfAI/nlp00/blob/master/2%20-%20Operare%20su%20file%20di%20testo%20con%20Python/operare_su_wordx.ipynb\" target=\"_parent\"><img src=\"https://colab.research.google.com/assets/colab-badge.svg\" alt=\"Open In Colab\"/></a>"
      ]
    },
    {
      "metadata": {
        "id": "wMXSjXsCCJuv",
        "colab_type": "text"
      },
      "cell_type": "markdown",
      "source": [
        "# Operare su file Word con Python"
      ]
    },
    {
      "metadata": {
        "id": "vukTDBVvCsRJ",
        "colab_type": "text"
      },
      "cell_type": "markdown",
      "source": [
        "#### SOLO PER CHI USA GOOGLE COLABORATORY\n",
        "Se usi Google Colaboratory devi caricare i file che useremo all'interno del tuo ambiente virtuale, per farlo esegui il codice qui sotto, premi sul tasto upload che comparirà e carica il file:\n",
        " - articolo_ml.docx\n",
        "\n",
        "che puoi trovare all'interno della cartella data della directory Operare su file di testo della repository del corso."
      ]
    },
    {
      "metadata": {
        "id": "F3HNyASrCxj3",
        "colab_type": "code",
        "colab": {
          "resources": {
            "http://localhost:8080/nbextensions/google.colab/files.js": {
              "data": "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",
              "ok": true,
              "headers": [
                [
                  "content-type",
                  "application/javascript"
                ]
              ],
              "status": 200,
              "status_text": ""
            }
          },
          "base_uri": "https://localhost:8080/",
          "height": 71
        },
        "outputId": "b115693a-948a-43d1-8ce9-6d263a00ab3e"
      },
      "cell_type": "code",
      "source": [
        "from google.colab import files\n",
        "uploaded = files.upload()"
      ],
      "execution_count": 2,
      "outputs": [
        {
          "output_type": "display_data",
          "data": {
            "text/html": [
              "\n",
              "     <input type=\"file\" id=\"files-b2e81c32-6ad7-4d9b-81bc-947d2621da41\" name=\"files[]\" multiple disabled />\n",
              "     <output id=\"result-b2e81c32-6ad7-4d9b-81bc-947d2621da41\">\n",
              "      Upload widget is only available when the cell has been executed in the\n",
              "      current browser session. Please rerun this cell to enable.\n",
              "      </output>\n",
              "      <script src=\"/nbextensions/google.colab/files.js\"></script> "
            ],
            "text/plain": [
              "<IPython.core.display.HTML object>"
            ]
          },
          "metadata": {
            "tags": []
          }
        },
        {
          "output_type": "stream",
          "text": [
            "Saving articolo_ml.docx to articolo_ml.docx\n"
          ],
          "name": "stdout"
        }
      ]
    },
    {
      "metadata": {
        "id": "O4YmyQKLCwrF",
        "colab_type": "text"
      },
      "cell_type": "markdown",
      "source": [
        "In questo notebook vedremo come possiamo estrarre il testo da un file docx, cioè il formato da Microsoft Word, Google Docs, OpenOffice Writer e tutti i vari programmi di scrittura. Per farlo avremo bisogno di un modulo apposito, chiamato **python-docx**, installiamolo tramite pip."
      ]
    },
    {
      "metadata": {
        "id": "sOgUV4ZgCGJW",
        "colab_type": "code",
        "colab": {
          "base_uri": "https://localhost:8080/",
          "height": 188
        },
        "outputId": "5563d070-9909-4737-b8ed-bb210c91d8ae"
      },
      "cell_type": "code",
      "source": [
        "!pip install python-docx"
      ],
      "execution_count": 1,
      "outputs": [
        {
          "output_type": "stream",
          "text": [
            "Collecting python-docx\n",
            "\u001b[?25l  Downloading https://files.pythonhosted.org/packages/e4/83/c66a1934ed5ed8ab1dbb9931f1779079f8bca0f6bbc5793c06c4b5e7d671/python-docx-0.8.10.tar.gz (5.5MB)\n",
            "\u001b[K    100% |████████████████████████████████| 5.5MB 1.2MB/s \n",
            "\u001b[?25hRequirement already satisfied: lxml>=2.3.2 in /usr/local/lib/python3.6/dist-packages (from python-docx) (4.2.6)\n",
            "Building wheels for collected packages: python-docx\n",
            "  Building wheel for python-docx (setup.py) ... \u001b[?25ldone\n",
            "\u001b[?25h  Stored in directory: /root/.cache/pip/wheels/18/0b/a0/1dd62ff812c857c9e487f27d80d53d2b40531bec1acecfa47b\n",
            "Successfully built python-docx\n",
            "Installing collected packages: python-docx\n",
            "Successfully installed python-docx-0.8.10\n"
          ],
          "name": "stdout"
        }
      ]
    },
    {
      "metadata": {
        "id": "vtgRCJa5FpcQ",
        "colab_type": "text"
      },
      "cell_type": "markdown",
      "source": [
        "Importiamo la classe *Document* dal modulo *docx* e instanziamola passando come unico argomento la path al file da aprire."
      ]
    },
    {
      "metadata": {
        "id": "oBa8drQKCUou",
        "colab_type": "code",
        "colab": {
          "base_uri": "https://localhost:8080/",
          "height": 34
        },
        "outputId": "4c36a20a-a851-4557-cd93-2852d91f017d"
      },
      "cell_type": "code",
      "source": [
        "from docx import Document\n",
        "\n",
        "document = Document('articolo_ml.docx')"
      ],
      "execution_count": 15,
      "outputs": [
        {
          "output_type": "execute_result",
          "data": {
            "text/plain": [
              "list"
            ]
          },
          "metadata": {
            "tags": []
          },
          "execution_count": 15
        }
      ]
    },
    {
      "metadata": {
        "id": "8-aZ-q2yGB3r",
        "colab_type": "text"
      },
      "cell_type": "markdown",
      "source": [
        "L'oggetto *document* ha un'attributo *paragraphs* che è sempre una lista di oggetti *Paragraph*, ognuno dei quali rappresenta uno dei paragrafi del file di testo, questo oggetto contiene un'attributo *text* che ci permette di ottenere il testo raw, cioè senza stile e formattazione."
      ]
    },
    {
      "metadata": {
        "id": "MV2KloAzGoE0",
        "colab_type": "code",
        "colab": {
          "base_uri": "https://localhost:8080/",
          "height": 34
        },
        "outputId": "8a8ba4d8-89f6-48fe-d3e0-d788e41256ab"
      },
      "cell_type": "code",
      "source": [
        "first_paragraph = document.paragraphs[0]\n",
        "print(first_paragraph.text)"
      ],
      "execution_count": 17,
      "outputs": [
        {
          "output_type": "stream",
          "text": [
            "Cosa è il Machine Learning ?\n"
          ],
          "name": "stdout"
        }
      ]
    },
    {
      "metadata": {
        "id": "WCyMVofcG08g",
        "colab_type": "text"
      },
      "cell_type": "markdown",
      "source": [
        "Come vedi il primo paragrafo contiene proprio il titolo, adesso iteriamo sui paragrafi per salvare il testo all'interno di un'unica stringa."
      ]
    },
    {
      "metadata": {
        "id": "LxrArYAeEcPx",
        "colab_type": "code",
        "colab": {
          "base_uri": "https://localhost:8080/",
          "height": 51
        },
        "outputId": "3599d21a-7489-4ab6-bd55-250065e5aae7"
      },
      "cell_type": "code",
      "source": [
        "text = \"\"\n",
        "\n",
        "for paragraph in document.paragraphs:\n",
        "  text+=paragraph.text\n",
        "  \n",
        "  \n",
        "print(\"Lettere totali nel documento: %d \" % len(text))\n",
        "print(\"Parole totali nel documento: %d \" % len(text.split()))"
      ],
      "execution_count": 18,
      "outputs": [
        {
          "output_type": "stream",
          "text": [
            "Lettere totali nel documento: 5440 \n",
            "Parole totali nel documento: 817 \n"
          ],
          "name": "stdout"
        }
      ]
    },
    {
      "metadata": {
        "id": "wYc_55JnG76f",
        "colab_type": "text"
      },
      "cell_type": "markdown",
      "source": [
        "Stampiamo la stringa."
      ]
    },
    {
      "metadata": {
        "id": "qlFU6A38EyD2",
        "colab_type": "code",
        "colab": {
          "base_uri": "https://localhost:8080/",
          "height": 54
        },
        "outputId": "037a0f85-8727-440f-fa6c-df075368f961"
      },
      "cell_type": "code",
      "source": [
        "print(text)"
      ],
      "execution_count": 13,
      "outputs": [
        {
          "output_type": "stream",
          "text": [
            "Cosa è il Machine Learning ?Negli ultimi anni avrai sicuramente sentito parlare almeno una volta di Machine Learning, a meno che tu non viva su di una montagna isolato dal mondo, ma in tal caso non staresti neanche leggendo questo articolo adesso.Abbiamo già detto in  che lo scopo finale dell’Intelligenza Artificiale è creare macchine che sono in grado di riflettere e agire come l’essere umano e cosa rappresenta l’essere umano meglio della sua capacità di imparare ?Questo è proprio quello che il machine learning vuole fare, fornire alla macchina la capacità di apprendere direttamente dall’esperienza, senza essere esplicitamente programmata per farlo.Il machine learning è il settore più in crescita dell’intelligenza artificiale, i suoi progressi stanno trascinando così tanto l’AI che ormai i due sembrano essere diventati termini equivalenti.Ma come siamo arrivati a questo punto e perché il machine learning è così importante ?Dagli Algoritmi al Machine LearningC’era una volta l’algoritmo, un insieme di istruzioni sequenziali che indicano come risolvere un determinato problema.Abbiamo utilizzato gli algoritmi per risolvere innumerevoli problemi fin da prima dell’avvento dell’informatica, per diversi tipi di problemi esistono diversi tipi di algoritmi, ma ci sono alcune tipologie di problemi che non possono essere affrontati in questo modo.Ti faccio un esempio.Immagina di dover creare un algoritmo in grado di riconoscere i gatti nelle foto, alcune istruzioni potrebbero essere quelle di valutare la forma degli occhi, le orecchie, il naso e i baffi, magari con alcune dozzine di regole si potrebbero ottenere risultati discreti.Ma se gli mostrassimo una tigre ? Il nostro algoritmo potrebbe confondersi.E se decidessimo di voler distinguere anche i cani ? Servirebbe tutto un altro set di regole.Facciamo un altro esempio, metti caso di dover scrivere un algoritmo per far sì che la tua auto si guidi da sola, in questo caso non sapremmo neanche da dove partire dato l’incredibile numero di variabili che entrano in gioco in un problema del genere.Come vedi il problema della complessità è uno dei più grandi limiti degli algoritmi, problemi troppo complessi richiedono un numero eccessivo di istruzioni, impossibili da gestire per i nostri piccoli cervelli biologici.Bene, in tutti questi casi la soluzione è il Machine Learning.Il machine learning utilizza un approccio totalmente differente rispetto alla programmazione classica, piuttosto che partire dall’input (punto di partenza), scrivere l’algoritmo e ottenere un output (punto di arrivo), il machine learning parte dall’input e dall’output, lascia che sia la macchina a comprendere le relazioni tra questi e infine darà come risultato l’algoritmo.In questo caso si parla di apprendimento supervisionato.In altri casi invece utilizza addirittura solamente l’input, inducendo l’output dalla struttura dell’input, in questo secondo caso si parla di apprendimento non supervisionato.Tutto questo avviene in due fasi: apprendimento e predizione.Machine Learning: un esempioFacciamo un esempio focalizzandoci sull’apprendimento supervisionato.Durante la fase di apprendimento la macchina studia coppie di input e output in cerca di relazioni, nel nostro esempio l’input è l’immagine e l’output è un’etichetta che indica se questa rappresenta o meno un gatto.Una volta che la macchina ha imparato a distinguere un gatto sarà possibile mostrargli delle nuove immagini e questa userà l’algoritmo che ha appreso per dire se sono raffigurati o meno dei gatti.Immaginando di poter rappresentare gatti e cani utilizzando due caratteristiche quantitative, il machine learning ci permette di trovare la retta che li separa (P.S si, i gatti sono esseri malvagi)Come hai capito, in un certo senso il machine learning da alla macchina la capacità di programmarsi da sola accumulando esperienza, questo potrebbe sembrare fantascientifico (e anche un po’ terrificante) ma la verità è che il machine learning è già tra di noi più di quanto pensiamo, sta alla base delle auto che si guidano da sole, etichetta lo spam nelle nostre email, è utilizzato per riconoscere i nostri gusti e consigliarci prodotti da acquistare e cose da fare, aiuta negozi e supermercati a capire come disporre la merce per massimizzare le vendite e potrei continuare per ore.Perchè oggi ? Big Data e SupercomputerNel machine learning i dati rivestono un ruolo importantissimo, certe volte ancora più importante della tecnologia stessa, perché essi sono la reale fonte di conoscenza che la macchina utilizza per apprendere, questo è uno dei motivi per il quale il machine learning si è diffuso solo nell’ultimo decennio, sebbene le metodologie alla base abbiamo mezzo secolo.Infatti la quantità di dati generati dall’uomo è cresciuta in maniera esponenziale dopo l’inizio del nuovo millennio grazie alla nascita del web 2.0 e la crescente diffusione dei social media.Un altro fattore che ha inciso sulla diffusione del machine learning è la maggiore potenza di calcolo oggi disponibile, basta pensare che uno smartphone odierno di fascia media è milioni di volte più potente di un computer della NASA degli anni 60.Questi due fattori uniti agli sforzi congiunti delle maggiori compagnie tecnologiche, che hanno già avviato da tempo la loro corsa verso l’intelligenza,stanno facendo avanzare il machine learning, e quindi l’intelligenza artificiale, come niente mai prima in tutta la storia del genere umano.\n"
          ],
          "name": "stdout"
        }
      ]
    },
    {
      "metadata": {
        "id": "3ji1epTkG-AE",
        "colab_type": "text"
      },
      "cell_type": "markdown",
      "source": [
        "Il testo si trova su di un'unica riga, senza caratteri a capo, aggiungiamo un a capo dopo ogni punto."
      ]
    },
    {
      "metadata": {
        "id": "UqN48AgyE5Wh",
        "colab_type": "code",
        "colab": {
          "base_uri": "https://localhost:8080/",
          "height": 500
        },
        "outputId": "402e1f7e-3124-466c-8842-c53db88613d6"
      },
      "cell_type": "code",
      "source": [
        "text = text.replace(\".\",\".\\n\")\n",
        "print(text)"
      ],
      "execution_count": 14,
      "outputs": [
        {
          "output_type": "stream",
          "text": [
            "Cosa è il Machine Learning ?Negli ultimi anni avrai sicuramente sentito parlare almeno una volta di Machine Learning, a meno che tu non viva su di una montagna isolato dal mondo, ma in tal caso non staresti neanche leggendo questo articolo adesso.\n",
            "Abbiamo già detto in  che lo scopo finale dell’Intelligenza Artificiale è creare macchine che sono in grado di riflettere e agire come l’essere umano e cosa rappresenta l’essere umano meglio della sua capacità di imparare ?Questo è proprio quello che il machine learning vuole fare, fornire alla macchina la capacità di apprendere direttamente dall’esperienza, senza essere esplicitamente programmata per farlo.\n",
            "Il machine learning è il settore più in crescita dell’intelligenza artificiale, i suoi progressi stanno trascinando così tanto l’AI che ormai i due sembrano essere diventati termini equivalenti.\n",
            "Ma come siamo arrivati a questo punto e perché il machine learning è così importante ?Dagli Algoritmi al Machine LearningC’era una volta l’algoritmo, un insieme di istruzioni sequenziali che indicano come risolvere un determinato problema.\n",
            "Abbiamo utilizzato gli algoritmi per risolvere innumerevoli problemi fin da prima dell’avvento dell’informatica, per diversi tipi di problemi esistono diversi tipi di algoritmi, ma ci sono alcune tipologie di problemi che non possono essere affrontati in questo modo.\n",
            "Ti faccio un esempio.\n",
            "Immagina di dover creare un algoritmo in grado di riconoscere i gatti nelle foto, alcune istruzioni potrebbero essere quelle di valutare la forma degli occhi, le orecchie, il naso e i baffi, magari con alcune dozzine di regole si potrebbero ottenere risultati discreti.\n",
            "Ma se gli mostrassimo una tigre ? Il nostro algoritmo potrebbe confondersi.\n",
            "E se decidessimo di voler distinguere anche i cani ? Servirebbe tutto un altro set di regole.\n",
            "Facciamo un altro esempio, metti caso di dover scrivere un algoritmo per far sì che la tua auto si guidi da sola, in questo caso non sapremmo neanche da dove partire dato l’incredibile numero di variabili che entrano in gioco in un problema del genere.\n",
            "Come vedi il problema della complessità è uno dei più grandi limiti degli algoritmi, problemi troppo complessi richiedono un numero eccessivo di istruzioni, impossibili da gestire per i nostri piccoli cervelli biologici.\n",
            "Bene, in tutti questi casi la soluzione è il Machine Learning.\n",
            "Il machine learning utilizza un approccio totalmente differente rispetto alla programmazione classica, piuttosto che partire dall’input (punto di partenza), scrivere l’algoritmo e ottenere un output (punto di arrivo), il machine learning parte dall’input e dall’output, lascia che sia la macchina a comprendere le relazioni tra questi e infine darà come risultato l’algoritmo.\n",
            "In questo caso si parla di apprendimento supervisionato.\n",
            "In altri casi invece utilizza addirittura solamente l’input, inducendo l’output dalla struttura dell’input, in questo secondo caso si parla di apprendimento non supervisionato.\n",
            "Tutto questo avviene in due fasi: apprendimento e predizione.\n",
            "Machine Learning: un esempioFacciamo un esempio focalizzandoci sull’apprendimento supervisionato.\n",
            "Durante la fase di apprendimento la macchina studia coppie di input e output in cerca di relazioni, nel nostro esempio l’input è l’immagine e l’output è un’etichetta che indica se questa rappresenta o meno un gatto.\n",
            "Una volta che la macchina ha imparato a distinguere un gatto sarà possibile mostrargli delle nuove immagini e questa userà l’algoritmo che ha appreso per dire se sono raffigurati o meno dei gatti.\n",
            "Immaginando di poter rappresentare gatti e cani utilizzando due caratteristiche quantitative, il machine learning ci permette di trovare la retta che li separa (P.\n",
            "S si, i gatti sono esseri malvagi)Come hai capito, in un certo senso il machine learning da alla macchina la capacità di programmarsi da sola accumulando esperienza, questo potrebbe sembrare fantascientifico (e anche un po’ terrificante) ma la verità è che il machine learning è già tra di noi più di quanto pensiamo, sta alla base delle auto che si guidano da sole, etichetta lo spam nelle nostre email, è utilizzato per riconoscere i nostri gusti e consigliarci prodotti da acquistare e cose da fare, aiuta negozi e supermercati a capire come disporre la merce per massimizzare le vendite e potrei continuare per ore.\n",
            "Perchè oggi ? Big Data e SupercomputerNel machine learning i dati rivestono un ruolo importantissimo, certe volte ancora più importante della tecnologia stessa, perché essi sono la reale fonte di conoscenza che la macchina utilizza per apprendere, questo è uno dei motivi per il quale il machine learning si è diffuso solo nell’ultimo decennio, sebbene le metodologie alla base abbiamo mezzo secolo.\n",
            "Infatti la quantità di dati generati dall’uomo è cresciuta in maniera esponenziale dopo l’inizio del nuovo millennio grazie alla nascita del web 2.\n",
            "0 e la crescente diffusione dei social media.\n",
            "Un altro fattore che ha inciso sulla diffusione del machine learning è la maggiore potenza di calcolo oggi disponibile, basta pensare che uno smartphone odierno di fascia media è milioni di volte più potente di un computer della NASA degli anni 60.\n",
            "Questi due fattori uniti agli sforzi congiunti delle maggiori compagnie tecnologiche, che hanno già avviato da tempo la loro corsa verso l’intelligenza,stanno facendo avanzare il machine learning, e quindi l’intelligenza artificiale, come niente mai prima in tutta la storia del genere umano.\n",
            "\n"
          ],
          "name": "stdout"
        }
      ]
    },
    {
      "metadata": {
        "id": "_vs-Gpk-HKO6",
        "colab_type": "text"
      },
      "cell_type": "markdown",
      "source": [
        "Perfetto, il nostro testo è pronto per essere processato :)"
      ]
    },
    {
      "metadata": {
        "id": "0JApS2jCCbwK",
        "colab_type": "text"
      },
      "cell_type": "markdown",
      "source": [
        "## Link utili\n",
        "- https://python-docx.readthedocs.io/en/latest/"
      ]
    }
  ]
}
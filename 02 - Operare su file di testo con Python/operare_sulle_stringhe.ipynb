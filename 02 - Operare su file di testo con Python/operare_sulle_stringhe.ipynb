{
 "cells": [
  {
   "cell_type": "markdown",
   "metadata": {
    "colab_type": "text",
    "id": "view-in-github"
   },
   "source": [
    "<a href=\"https://colab.research.google.com/github/ProfAI/nlp00/blob/master/2%20-%20Operare%20su%20file%20di%20testo%20con%20Python/operare_sulle_stringhe.ipynb\" target=\"_parent\"><img src=\"https://colab.research.google.com/assets/colab-badge.svg\" alt=\"Open In Colab\"/></a>"
   ]
  },
  {
   "cell_type": "markdown",
   "metadata": {
    "colab_type": "text",
    "id": "I1PPWriTtctt"
   },
   "source": [
    "# Operare sulle stringhe in Python\n",
    "\n",
    "In questo notebook vederemo alcune funzioni utili che Python ci mette a disposizione per operare sulle stringhe.\n",
    "<br>\n",
    "\n",
    "## Il tipo String\n",
    "In Python una stringa è una sequenza di caratteri immutabile, cosa vuol dire questo ? Che possiamo accedere a elementi e sotto-sequenze di una stringa utilizzando **l'indexing** e lo **slicing** ma non possiamo modificarne i valori."
   ]
  },
  {
   "cell_type": "code",
   "execution_count": 1,
   "metadata": {},
   "outputs": [],
   "source": [
    "import time"
   ]
  },
  {
   "cell_type": "code",
   "execution_count": null,
   "metadata": {},
   "outputs": [],
   "source": [
    "time."
   ]
  },
  {
   "cell_type": "code",
   "execution_count": 0,
   "metadata": {
    "colab": {
     "base_uri": "https://localhost:8080/",
     "height": 120
    },
    "colab_type": "code",
    "id": "kAlcRiXLtakM",
    "outputId": "fdc063c0-5cdf-4c21-a26f-8244132aae93"
   },
   "outputs": [
    {
     "name": "stdout",
     "output_type": "stream",
     "text": [
      "ProfessionAI spacca\n",
      "P\n",
      "a\n",
      "Pro\n",
      "fe\n",
      "ProfessionAI spac\n"
     ]
    }
   ],
   "source": [
    "# Definiamo una stringa\n",
    "my_string =\"ProfessionAI spacca\"\n",
    "print(my_string)\n",
    "\n",
    "# Stampiamo solo il primo carattere\n",
    "print(my_string[0]) # indexing\n",
    "\n",
    "# Stampiamo solo l'ultimo carattere\n",
    "print(my_string[-1])\n",
    "\n",
    "# Stampiamo i primi 3 caratteri\n",
    "print(my_string[:3]) # slicing\n",
    "\n",
    "# Stampiamo 4 e 5 carattere\n",
    "print(my_string[3:5])\n",
    "\n",
    "# Stampiam tutto tranne gli ultimi due caratteri\n",
    "print(my_string[:-2])\n"
   ]
  },
  {
   "cell_type": "markdown",
   "metadata": {
    "colab_type": "text",
    "id": "9TRFu4i4vkiI"
   },
   "source": [
    "Il tenativo di modificare uno o più caratteri di una stringa genererà un'eccezione."
   ]
  },
  {
   "cell_type": "code",
   "execution_count": 0,
   "metadata": {
    "colab": {
     "base_uri": "https://localhost:8080/",
     "height": 164
    },
    "colab_type": "code",
    "id": "JrdcLVJUvbJR",
    "outputId": "ebc36961-ad41-475c-9177-43ed760697eb"
   },
   "outputs": [
    {
     "ename": "TypeError",
     "evalue": "ignored",
     "output_type": "error",
     "traceback": [
      "\u001b[0;31m---------------------------------------------------------------------------\u001b[0m",
      "\u001b[0;31mTypeError\u001b[0m                                 Traceback (most recent call last)",
      "\u001b[0;32m<ipython-input-2-b9d0b2494000>\u001b[0m in \u001b[0;36m<module>\u001b[0;34m()\u001b[0m\n\u001b[0;32m----> 1\u001b[0;31m \u001b[0mmy_string\u001b[0m\u001b[0;34m[\u001b[0m\u001b[0;36m0\u001b[0m\u001b[0;34m]\u001b[0m \u001b[0;34m=\u001b[0m \u001b[0;34m\"F\"\u001b[0m\u001b[0;34m\u001b[0m\u001b[0;34m\u001b[0m\u001b[0m\n\u001b[0m",
      "\u001b[0;31mTypeError\u001b[0m: 'str' object does not support item assignment"
     ]
    }
   ],
   "source": [
    "my_string[0] = \"F\""
   ]
  },
  {
   "cell_type": "markdown",
   "metadata": {
    "colab_type": "text",
    "id": "hw5z5MS_wSeL"
   },
   "source": [
    "Trattandosi di una sequenza possiamo conoscere il numero di elementi, e quindi di caratteri, che compongono una stringa utilizzando la funzione *len*."
   ]
  },
  {
   "cell_type": "code",
   "execution_count": 0,
   "metadata": {
    "colab": {
     "base_uri": "https://localhost:8080/",
     "height": 34
    },
    "colab_type": "code",
    "id": "8a34C420wX_M",
    "outputId": "dcb7db29-e43e-4fa6-fcc3-d02bb1cc2b2f"
   },
   "outputs": [
    {
     "data": {
      "text/plain": [
       "19"
      ]
     },
     "execution_count": 3,
     "metadata": {
      "tags": []
     },
     "output_type": "execute_result"
    }
   ],
   "source": [
    "len(my_string)"
   ]
  },
  {
   "cell_type": "markdown",
   "metadata": {
    "colab_type": "text",
    "id": "0rfqOZD7wCUx"
   },
   "source": [
    "## Metodi utili"
   ]
  },
  {
   "cell_type": "markdown",
   "metadata": {
    "colab_type": "text",
    "id": "4a46K1ravujC"
   },
   "source": [
    "Come tutte i tipi buil-in di Python, le stringhe sono oggetti e quindi hanno dei metodi, puoi trovare la lista completa dei metodi [a questo link](https://www.w3schools.com/python/python_ref_string.asp), vediamo insieme i più utili. \n",
    "<br><br>\n",
    "Possiamo convertire i caratteri di una stringa in minuscolo/maiuscolo utilizzando i metodi *lower/upper*."
   ]
  },
  {
   "cell_type": "code",
   "execution_count": 0,
   "metadata": {
    "colab": {
     "base_uri": "https://localhost:8080/",
     "height": 51
    },
    "colab_type": "code",
    "id": "m6VLxFjYvtVS",
    "outputId": "336c4941-bcb1-4ffd-c8dd-59d9ea65ad7e"
   },
   "outputs": [
    {
     "name": "stdout",
     "output_type": "stream",
     "text": [
      "Tutto minuscolo: professionai spacca\n",
      "Tutto maiuscolo: PROFESSIONAI SPACCA\n"
     ]
    }
   ],
   "source": [
    "my_string =\"ProfessionAI spacca\"\n",
    "\n",
    "my_string_lower = my_string.lower()\n",
    "print(\"Tutto minuscolo: %s\" % my_string_lower)\n",
    "\n",
    "my_string_upper = my_string.upper()\n",
    "print(\"Tutto maiuscolo: %s\" % my_string_upper)"
   ]
  },
  {
   "cell_type": "markdown",
   "metadata": {
    "colab_type": "text",
    "id": "ZgjxCGIiwxAs"
   },
   "source": [
    "Possiamo dividere le parole in una stringa utilizzando il metodo *split()*, il risultato sarà una lista con le singole parole."
   ]
  },
  {
   "cell_type": "code",
   "execution_count": 3,
   "metadata": {
    "colab": {
     "base_uri": "https://localhost:8080/",
     "height": 71
    },
    "colab_type": "code",
    "id": "RDeS4Q9Twnpo",
    "outputId": "3ec1cf8a-b4d2-439e-a95b-107de45a6cdb"
   },
   "outputs": [
    {
     "name": "stdout",
     "output_type": "stream",
     "text": [
      "['Oggi', 'è', 'una', 'stupenda', 'giornata', 'per', 'studiare', 'Natural', 'Language', 'Processing']\n",
      "<class 'list'>\n"
     ]
    }
   ],
   "source": [
    "my_string = \"Oggi è una stupenda giornata per studiare Natural Language Processing\"\n",
    "\n",
    "words_list = my_string.split()\n",
    "print(words_list)\n",
    "print(type(words_list))"
   ]
  },
  {
   "cell_type": "markdown",
   "metadata": {
    "colab_type": "text",
    "id": "nyZtTQ2Dy0S4"
   },
   "source": [
    "Come possiamo fare la trasformazione inversa ? Cioè passare da una lista di parole ad una stringa ? Lo possiamo fare usando il metodo *join()* che prende in input una lista di stringhe e genera un'unica stringa i cui elementi della lista sono separati dalla stringa (più facile a farsi che a dirsi)."
   ]
  },
  {
   "cell_type": "code",
   "execution_count": 5,
   "metadata": {
    "colab": {
     "base_uri": "https://localhost:8080/",
     "height": 34
    },
    "colab_type": "code",
    "id": "2xdMaC04yzqd",
    "outputId": "c9039186-227a-44e3-e349-4bdd50fd8e11"
   },
   "outputs": [
    {
     "name": "stdout",
     "output_type": "stream",
     "text": [
      "Oggi è una stupenda giornata per studiare Natural Language Processing\n"
     ]
    }
   ],
   "source": [
    "my_string = \" \".join(words_list)\n",
    "print(my_string)"
   ]
  },
  {
   "cell_type": "code",
   "execution_count": 6,
   "metadata": {
    "colab": {
     "base_uri": "https://localhost:8080/",
     "height": 71
    },
    "colab_type": "code",
    "id": "OINRIKJIzo5d",
    "outputId": "3c62408a-ef23-4a17-8ac7-dca414dfd458"
   },
   "outputs": [
    {
     "name": "stdout",
     "output_type": "stream",
     "text": [
      "Oggi_è_una_stupenda_giornata_per_studiare_Natural_Language_Processing\n",
      "Oggi-PASSO-è-PASSO-una-PASSO-stupenda-PASSO-giornata-PASSO-per-PASSO-studiare-PASSO-Natural-PASSO-Language-PASSO-Processing\n"
     ]
    }
   ],
   "source": [
    "my_string = \"_\".join(words_list)\n",
    "print(my_string)\n",
    "\n",
    "my_string = \"-PASSO-\".join(words_list)\n",
    "print(my_string)"
   ]
  },
  {
   "cell_type": "markdown",
   "metadata": {
    "colab_type": "text",
    "id": "k0KOn9j_zhGN"
   },
   "source": [
    "In questo caso abbiamo (ovviamente) usato uno spazio per separare le stringhe, ma avremmo potuto fare la stessa cosa con qualsiasi carattere o stringa."
   ]
  },
  {
   "cell_type": "markdown",
   "metadata": {
    "colab_type": "text",
    "id": "tculJJpnxRdO"
   },
   "source": [
    "Possiamo anche dividere le stringhe per un **pattern** definito da noi, semplicemente passano tale pattern come argomento del metdo *split(pattern)*, ad esempio possiamo dividerla per frasi passando un punto."
   ]
  },
  {
   "cell_type": "code",
   "execution_count": 0,
   "metadata": {
    "colab": {
     "base_uri": "https://localhost:8080/",
     "height": 51
    },
    "colab_type": "code",
    "id": "yqCmMOMAxKs9",
    "outputId": "51ae56c6-36c2-4064-a441-dd41f0385e7f"
   },
   "outputs": [
    {
     "name": "stdout",
     "output_type": "stream",
     "text": [
      "['Oggi è una stupenda giornata per studiare Natural Language Processing', \" Poi c'è Giuseppe che è davvero bravo\", ' Peccato che è antipatico']\n",
      "<class 'list'>\n"
     ]
    }
   ],
   "source": [
    "my_string = \"Oggi è una stupenda giornata per studiare Natural Language Processing. Poi c'è Giuseppe che è davvero bravo. Peccato che è antipatico\"\n",
    "sentences_list = my_string.split(\".\")\n",
    "\n",
    "print(sentences_list)\n",
    "print(type(sentences_list))"
   ]
  },
  {
   "cell_type": "markdown",
   "metadata": {
    "colab_type": "text",
    "id": "MscgTf7I00tL"
   },
   "source": [
    "Possiamo contare il numero di volte che una sotto-stringa compare in una stringa usando il metodo *count(substring)*"
   ]
  },
  {
   "cell_type": "code",
   "execution_count": 0,
   "metadata": {
    "colab": {
     "base_uri": "https://localhost:8080/",
     "height": 34
    },
    "colab_type": "code",
    "id": "Y3O4h2c806li",
    "outputId": "c0e05fd9-730d-4b08-8bc2-799d90596f11"
   },
   "outputs": [
    {
     "name": "stdout",
     "output_type": "stream",
     "text": [
      "La parola 'è' compare 4 volte\n"
     ]
    }
   ],
   "source": [
    "sub_count = my_string.count('è')\n",
    "print(\"La parola 'è' compare %d volte\" % sub_count)"
   ]
  },
  {
   "cell_type": "markdown",
   "metadata": {
    "colab_type": "text",
    "id": "nZFWfvTfyh8p"
   },
   "source": [
    "Possiamo sostituire una parola o una sotto-stringa della stringa utilizzando il metodo *replace(old, new)*, passandogli la sotto-stringa da sostituire e quella con la quale effettuare la sostituzione. Possiamo utilizzare questo stesso metodo per rimuovere una sotto-stringa dalla stringa passando una stringa vuota come secondo argomento."
   ]
  },
  {
   "cell_type": "code",
   "execution_count": 0,
   "metadata": {
    "colab": {
     "base_uri": "https://localhost:8080/",
     "height": 51
    },
    "colab_type": "code",
    "id": "zj061ESBzGkA",
    "outputId": "270ebe9d-2e7c-4ba0-9740-5ad4ad735bc2"
   },
   "outputs": [
    {
     "name": "stdout",
     "output_type": "stream",
     "text": [
      "Oggi è una stupenda giornata per studiare Natural Language Processing. E c'è Giuseppe è davvero bravo. Peccato è antipatico\n",
      "Oggi è una stupenda giornata per studiare Natural Language Processing. E c'è Giuseppe è davvero bravo. Peccato è antipatico\n"
     ]
    }
   ],
   "source": [
    "# sostuiamo la parola 'Poi' con 'E'\n",
    "# per tutte le occorrenze di 'Poi' nella stringa\n",
    "my_string = my_string.replace(\"Poi\",\"E\")\n",
    "print(my_string)\n",
    "\n",
    "# Rimuoviamo tutte le occorrenze di 'che'\n",
    "my_string = my_string.replace(\" che\",\"\") # rimuoviamo anche lo spazio prima della parola\n",
    "print(my_string)"
   ]
  },
  {
   "cell_type": "markdown",
   "metadata": {
    "colab_type": "text",
    "id": "vgfBKkEiyBFz"
   },
   "source": [
    "Possiamo effettuare la ricerca di una parola o di una sotto-stringa utilizzando il metodo *find()* questo ritornerà l'indice della prima occorrenza del risultato, oppure -1 se non trova nulla. Possiamo utilizzare tale metodo in combinazione con lo slicing per estrarre una sottostringa dalla stringa."
   ]
  },
  {
   "cell_type": "code",
   "execution_count": 0,
   "metadata": {
    "colab": {
     "base_uri": "https://localhost:8080/",
     "height": 68
    },
    "colab_type": "code",
    "id": "b6BcHQ-9x0Y_",
    "outputId": "38ffcf6e-5499-4080-d53f-bd6eedbddbea"
   },
   "outputs": [
    {
     "name": "stdout",
     "output_type": "stream",
     "text": [
      "Occorrenza di 'E' trovata in posizione 71\n",
      "E c'è Giuseppe è davvero bravo. Peccato è antipatico\n",
      "E c'è Giuseppe è davvero bravo\n"
     ]
    }
   ],
   "source": [
    "start_index = my_string.find(\"E\")\n",
    "print(\"Occorrenza di 'E' trovata in posizione %d\" % start_index)\n",
    "\n",
    "my_substring = my_string[start_index:]\n",
    "print(my_substring)\n",
    "\n",
    "end_index = my_substring.find(\".\")\n",
    "my_substring = my_substring[:end_index]\n",
    "print(my_substring)"
   ]
  },
  {
   "cell_type": "markdown",
   "metadata": {
    "colab_type": "text",
    "id": "Y-8uEfS13dmg"
   },
   "source": [
    "Se invece vogliamo conoscere l'indice dell'ultima occorrenza possiamo usare il metodo *rfind()*."
   ]
  },
  {
   "cell_type": "code",
   "execution_count": 0,
   "metadata": {
    "colab": {
     "base_uri": "https://localhost:8080/",
     "height": 51
    },
    "colab_type": "code",
    "id": "bGzU1pfY3lTw",
    "outputId": "c2e5fa4b-fcca-4414-8502-57b4662b05be"
   },
   "outputs": [
    {
     "name": "stdout",
     "output_type": "stream",
     "text": [
      "18\n",
      "28\n"
     ]
    }
   ],
   "source": [
    "my_string = \"Occhio per occhio dente per dente\"\n",
    "print(my_string.find('dente')) # prima occorrenza\n",
    "print(my_string.rfind('dente')) # ultima occorrenza b"
   ]
  },
  {
   "cell_type": "markdown",
   "metadata": {
    "colab_type": "text",
    "id": "iOqyBSP72sWa"
   },
   "source": [
    "Gli ultimi metodi, che potrebbero sembrare inutili ma che in realtà sono davvero utili quando operiamo su corpus di testo, sono *lstrip() e strip()*, che rispettivamente rimuovo gli spazi dall'inizio della stringa e dall'inizio e la fine della stringa."
   ]
  },
  {
   "cell_type": "code",
   "execution_count": 0,
   "metadata": {
    "colab": {
     "base_uri": "https://localhost:8080/",
     "height": 51
    },
    "colab_type": "code",
    "id": "n6XSw21W0Nvi",
    "outputId": "e4122a46-4023-47c6-bb8b-4b7598cf354a"
   },
   "outputs": [
    {
     "name": "stdout",
     "output_type": "stream",
     "text": [
      "\"Questo è un test  \"\n",
      "\"Questo è un test\"\n"
     ]
    }
   ],
   "source": [
    "string = \"   Questo è un test  \"\n",
    "print('\"'+string.lstrip()+'\"')\n",
    "print('\"'+string.strip()+'\"')\n",
    "\n",
    "# ricorda di effettuare l'assegnazione\n",
    "# per modificare la stringa\n",
    "# string = string.strip()"
   ]
  },
  {
   "cell_type": "code",
   "execution_count": 1,
   "metadata": {
    "colab": {
     "base_uri": "https://localhost:8080/",
     "height": 34
    },
    "colab_type": "code",
    "id": "atq3UqNRyf-U",
    "outputId": "0844075f-fb08-4090-a51e-bc841b84c3a7"
   },
   "outputs": [
    {
     "data": {
      "text/plain": [
       "'-'"
      ]
     },
     "execution_count": 1,
     "metadata": {
      "tags": []
     },
     "output_type": "execute_result"
    }
   ],
   "source": []
  },
  {
   "cell_type": "code",
   "execution_count": 0,
   "metadata": {
    "colab": {},
    "colab_type": "code",
    "id": "Taq9u48Vyi1w"
   },
   "outputs": [],
   "source": []
  },
  {
   "cell_type": "markdown",
   "metadata": {
    "colab_type": "text",
    "id": "yIkfxX7-2JNp"
   },
   "source": [
    "## Link utili\n",
    "- https://www.w3schools.com/python/python_ref_string.asp"
   ]
  },
  {
   "cell_type": "code",
   "execution_count": 0,
   "metadata": {
    "colab": {},
    "colab_type": "code",
    "id": "6ERzMkmm2MtZ"
   },
   "outputs": [],
   "source": []
  }
 ],
 "metadata": {
  "colab": {
   "include_colab_link": true,
   "name": "operare_sulle_stringhe.ipynb",
   "provenance": [],
   "version": "0.3.2"
  },
  "kernelspec": {
   "display_name": "Python 3",
   "language": "python",
   "name": "python3"
  },
  "language_info": {
   "codemirror_mode": {
    "name": "ipython",
    "version": 3
   },
   "file_extension": ".py",
   "mimetype": "text/x-python",
   "name": "python",
   "nbconvert_exporter": "python",
   "pygments_lexer": "ipython3",
   "version": "3.6.5"
  }
 },
 "nbformat": 4,
 "nbformat_minor": 1
}

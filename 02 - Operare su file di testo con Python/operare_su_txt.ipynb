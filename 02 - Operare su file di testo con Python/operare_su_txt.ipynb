{
  "nbformat": 4,
  "nbformat_minor": 0,
  "metadata": {
    "colab": {
      "name": "operare_su_txt.ipynb",
      "version": "0.3.2",
      "provenance": [],
      "toc_visible": true,
      "include_colab_link": true
    },
    "kernelspec": {
      "name": "python3",
      "display_name": "Python 3"
    }
  },
  "cells": [
    {
      "cell_type": "markdown",
      "metadata": {
        "id": "view-in-github",
        "colab_type": "text"
      },
      "source": [
        "<a href=\"https://colab.research.google.com/github/ProfAI/nlp00/blob/master/2%20-%20Operare%20su%20file%20di%20testo%20con%20Python/operare_su_txt.ipynb\" target=\"_parent\"><img src=\"https://colab.research.google.com/assets/colab-badge.svg\" alt=\"Open In Colab\"/></a>"
      ]
    },
    {
      "metadata": {
        "id": "6zFZdNJyk-HR",
        "colab_type": "text"
      },
      "cell_type": "markdown",
      "source": [
        "# Operare su file di testo\n",
        "\n",
        "## SOLO PER CHI USA GOOGLE COLABORATORY !\n",
        "Se usi Google Colaboratory devi caricare i file che useremo all'interno del tuo ambiente virtuale, per farlo esegui il codice qui sotto, premi sul tasto upload che comparirà e carica il file *proverbi.txt* che puoi trovare all'interno della [cartella *data* della directory *Operare su file di testo* della repository del corso](). "
      ]
    },
    {
      "metadata": {
        "id": "bCdgKFg2k9a-",
        "colab_type": "code",
        "colab": {
          "resources": {
            "http://localhost:8080/nbextensions/google.colab/files.js": {
              "data": "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",
              "ok": true,
              "headers": [
                [
                  "content-type",
                  "application/javascript"
                ]
              ],
              "status": 200,
              "status_text": ""
            }
          },
          "base_uri": "https://localhost:8080/",
          "height": 71
        },
        "outputId": "72418e01-2301-43b5-d010-c4a279f0d813"
      },
      "cell_type": "code",
      "source": [
        "from google.colab import files\n",
        "uploaded = files.upload()"
      ],
      "execution_count": 2,
      "outputs": [
        {
          "output_type": "display_data",
          "data": {
            "text/html": [
              "\n",
              "     <input type=\"file\" id=\"files-7bc04049-b8b7-4441-8826-e10713a404f1\" name=\"files[]\" multiple disabled />\n",
              "     <output id=\"result-7bc04049-b8b7-4441-8826-e10713a404f1\">\n",
              "      Upload widget is only available when the cell has been executed in the\n",
              "      current browser session. Please rerun this cell to enable.\n",
              "      </output>\n",
              "      <script src=\"/nbextensions/google.colab/files.js\"></script> "
            ],
            "text/plain": [
              "<IPython.core.display.HTML object>"
            ]
          },
          "metadata": {
            "tags": []
          }
        },
        {
          "output_type": "stream",
          "text": [
            "Saving proverbi.txt to proverbi.txt\n"
          ],
          "name": "stdout"
        }
      ]
    },
    {
      "metadata": {
        "id": "fANtylmdoYze",
        "colab_type": "text"
      },
      "cell_type": "markdown",
      "source": [
        "## Leggere il contenuto di un file\n",
        "Utilizzando python possiamo aprire un file con la funzione *open* "
      ]
    },
    {
      "metadata": {
        "id": "cQiJM-HJoXfc",
        "colab_type": "code",
        "colab": {
          "base_uri": "https://localhost:8080/",
          "height": 34
        },
        "outputId": "45070d39-428e-45c0-bf38-17b8d8644db8"
      },
      "cell_type": "code",
      "source": [
        "proverbs_file = open(\"proverbi.txt\")\n",
        "type(proverbs_file)"
      ],
      "execution_count": 5,
      "outputs": [
        {
          "output_type": "execute_result",
          "data": {
            "text/plain": [
              "_io.TextIOWrapper"
            ]
          },
          "metadata": {
            "tags": []
          },
          "execution_count": 5
        }
      ]
    },
    {
      "metadata": {
        "id": "qK6ORnjYoxV6",
        "colab_type": "text"
      },
      "cell_type": "markdown",
      "source": [
        "Possiamo leggere il contenuto di un file con il metodo **read()**."
      ]
    },
    {
      "metadata": {
        "id": "JLAYxvteo2Pq",
        "colab_type": "code",
        "colab": {
          "base_uri": "https://localhost:8080/",
          "height": 34
        },
        "outputId": "4ed33b63-954f-4e2e-aacd-2a41de94f771"
      },
      "cell_type": "code",
      "source": [
        "proverbs = proverbs_file.read()\n",
        "print(proverbs)"
      ],
      "execution_count": 10,
      "outputs": [
        {
          "output_type": "stream",
          "text": [
            "\n"
          ],
          "name": "stdout"
        }
      ]
    },
    {
      "metadata": {
        "id": "UvhNzMNVphbf",
        "colab_type": "text"
      },
      "cell_type": "markdown",
      "source": [
        "Proviamo a leggere nuovamente il contenuto del file utilizzando la stessa istruzione."
      ]
    },
    {
      "metadata": {
        "id": "H8TyP_ueplZI",
        "colab_type": "code",
        "colab": {
          "base_uri": "https://localhost:8080/",
          "height": 34
        },
        "outputId": "4a881191-4c4f-451f-a6b2-d70048d9be19"
      },
      "cell_type": "code",
      "source": [
        "proverbs = proverbs_file.read()\n",
        "print(proverbs)"
      ],
      "execution_count": 12,
      "outputs": [
        {
          "output_type": "stream",
          "text": [
            "\n"
          ],
          "name": "stdout"
        }
      ]
    },
    {
      "metadata": {
        "id": "aEPhMnh6pnxt",
        "colab_type": "text"
      },
      "cell_type": "markdown",
      "source": [
        "Adesso il file risulta essere vuoto ! Come è possibile ? Questo accade perché l'oggetto file tiene al suo interno un **cursore** che viene posizionato fino a dove abbiamo letto, in questo caso alla file del file. Per posizionare manualmente il cursore possiamo usare il metodo seek passando al suo interno la posizione in cui vogliamo posizionare il cursore."
      ]
    },
    {
      "metadata": {
        "id": "BZf4BZfXqkvM",
        "colab_type": "code",
        "colab": {
          "base_uri": "https://localhost:8080/",
          "height": 223
        },
        "outputId": "a3c4c723-ab03-4c59-eab0-61838bcb1dc5"
      },
      "cell_type": "code",
      "source": [
        "proverbs_file.seek(0)\n",
        "proverbs = proverbs_file.read()\n",
        "print(proverbs)"
      ],
      "execution_count": 16,
      "outputs": [
        {
          "output_type": "stream",
          "text": [
            "A buon intenditor, poche parole. \n",
            "A caval donato non si guarda in bocca. \n",
            "Anno nuovo, vita nuova. \n",
            "Bacco, Tabacco e Venere, riducon l’uomo in cenere. \n",
            "Buon sangue non mente. \n",
            "Campa cavallo che l’erba cresce. \n",
            "Can che abbaia non morde. \n",
            "Chi ben comincia è alla metà dell’opera. \n",
            "Chi è causa del suo mal, pianga se stesso.\n",
            "Chi la dura, la vince. \n",
            "Chiodo scaccia chiodo. \n",
            "Tanto la va la gatta al lardo che ci lascia lo zampino. \n"
          ],
          "name": "stdout"
        }
      ]
    },
    {
      "metadata": {
        "id": "Xj9jdaB3pKdb",
        "colab_type": "text"
      },
      "cell_type": "markdown",
      "source": [
        "E' anche possibile leggere il contenuto di un file riga per riga usando il metodo *read_lines()*"
      ]
    },
    {
      "metadata": {
        "id": "G29SCclZpGdS",
        "colab_type": "code",
        "colab": {
          "base_uri": "https://localhost:8080/",
          "height": 223
        },
        "outputId": "468651a8-01fb-49b0-bf01-23d3401862da"
      },
      "cell_type": "code",
      "source": [
        "proverbs_file.seek(0)\n",
        "proverbs_file.readlines()"
      ],
      "execution_count": 18,
      "outputs": [
        {
          "output_type": "execute_result",
          "data": {
            "text/plain": [
              "['A buon intenditor, poche parole. \\n',\n",
              " 'A caval donato non si guarda in bocca. \\n',\n",
              " 'Anno nuovo, vita nuova. \\n',\n",
              " 'Bacco, Tabacco e Venere, riducon l’uomo in cenere. \\n',\n",
              " 'Buon sangue non mente. \\n',\n",
              " 'Campa cavallo che l’erba cresce. \\n',\n",
              " 'Can che abbaia non morde. \\n',\n",
              " 'Chi ben comincia è alla metà dell’opera. \\n',\n",
              " 'Chi è causa del suo mal, pianga se stesso.\\n',\n",
              " 'Chi la dura, la vince. \\n',\n",
              " 'Chiodo scaccia chiodo. \\n',\n",
              " 'Tanto la va la gatta al lardo che ci lascia lo zampino. ']"
            ]
          },
          "metadata": {
            "tags": []
          },
          "execution_count": 18
        }
      ]
    },
    {
      "metadata": {
        "id": "SmJShGMvq51h",
        "colab_type": "text"
      },
      "cell_type": "markdown",
      "source": [
        "La funzione ha ritornato una lista con ogni riga del file. Possiamo iterare sulla lista ritornata dal metodo readlines."
      ]
    },
    {
      "metadata": {
        "id": "M3bjhwBXpJ2w",
        "colab_type": "code",
        "colab": {
          "base_uri": "https://localhost:8080/",
          "height": 223
        },
        "outputId": "9f9ac788-cbd1-4fa6-d3cd-5a7a2ab8a1cf"
      },
      "cell_type": "code",
      "source": [
        "proverbs_file.seek(0)\n",
        "\n",
        "for proverb in proverbs_file.readlines():\n",
        "  print(\"Proverbio: %s\" % proverb[:-1]) # rimuoviamo l'ultimo carattere che rappresenta una nuova linea (\\n)"
      ],
      "execution_count": 21,
      "outputs": [
        {
          "output_type": "stream",
          "text": [
            "Proverbio: A buon intenditor, poche parole. \n",
            "Proverbio: A caval donato non si guarda in bocca. \n",
            "Proverbio: Anno nuovo, vita nuova. \n",
            "Proverbio: Bacco, Tabacco e Venere, riducon l’uomo in cenere. \n",
            "Proverbio: Buon sangue non mente. \n",
            "Proverbio: Campa cavallo che l’erba cresce. \n",
            "Proverbio: Can che abbaia non morde. \n",
            "Proverbio: Chi ben comincia è alla metà dell’opera. \n",
            "Proverbio: Chi è causa del suo mal, pianga se stesso.\n",
            "Proverbio: Chi la dura, la vince. \n",
            "Proverbio: Chiodo scaccia chiodo. \n",
            "Proverbio: Tanto la va la gatta al lardo che ci lascia lo zampino.\n"
          ],
          "name": "stdout"
        }
      ]
    },
    {
      "metadata": {
        "id": "KWXjHPO1sNdX",
        "colab_type": "text"
      },
      "cell_type": "markdown",
      "source": [
        "## Chiusura di un file"
      ]
    },
    {
      "metadata": {
        "id": "GT3BgeXDrmsj",
        "colab_type": "text"
      },
      "cell_type": "markdown",
      "source": [
        "Quando non abbiamo più bisogno del file, dobbiamo sempre ricordare di chiuderlo utilizzando il metodo **close()**. "
      ]
    },
    {
      "metadata": {
        "id": "dZ2l8Q0ZrTs3",
        "colab_type": "code",
        "colab": {}
      },
      "cell_type": "code",
      "source": [
        "proverbs_file.close()"
      ],
      "execution_count": 0,
      "outputs": []
    },
    {
      "metadata": {
        "id": "W3C4NX4br3th",
        "colab_type": "text"
      },
      "cell_type": "markdown",
      "source": [
        "Adesso non possiamo più operare sul file e un tentativo di lettura del contenuto scatenerà un'eccezione di tipo **ValueError**."
      ]
    },
    {
      "metadata": {
        "id": "sjVKGSpmr0vL",
        "colab_type": "code",
        "colab": {
          "base_uri": "https://localhost:8080/",
          "height": 164
        },
        "outputId": "780042ee-75c8-4b20-c3af-7523166406fc"
      },
      "cell_type": "code",
      "source": [
        "proverbs_file.read()"
      ],
      "execution_count": 23,
      "outputs": [
        {
          "output_type": "error",
          "ename": "ValueError",
          "evalue": "ignored",
          "traceback": [
            "\u001b[0;31m---------------------------------------------------------------------------\u001b[0m",
            "\u001b[0;31mValueError\u001b[0m                                Traceback (most recent call last)",
            "\u001b[0;32m<ipython-input-23-78da5aea3c4e>\u001b[0m in \u001b[0;36m<module>\u001b[0;34m()\u001b[0m\n\u001b[0;32m----> 1\u001b[0;31m \u001b[0mproverbs_file\u001b[0m\u001b[0;34m.\u001b[0m\u001b[0mread\u001b[0m\u001b[0;34m(\u001b[0m\u001b[0;34m)\u001b[0m\u001b[0;34m\u001b[0m\u001b[0;34m\u001b[0m\u001b[0m\n\u001b[0m",
            "\u001b[0;31mValueError\u001b[0m: I/O operation on closed file."
          ]
        }
      ]
    },
    {
      "metadata": {
        "id": "EWqZ_T7UsAJV",
        "colab_type": "text"
      },
      "cell_type": "markdown",
      "source": [
        "La non chiusura del file non causa nessun errore nel programma ma potrebbe causare problemi di sistema se un'altro programma tenta di accedere a quel file. Dato che capito spessissimo (parlo per esperienza diretta) di dimenticare di chiudere un file, conviene aprire un file all'interno di un contesto utilizzando il **with**, in questa maniera il file verrà chiuso in maniera automatica quando usciamo dal contesto."
      ]
    },
    {
      "metadata": {
        "id": "c-EKBpOxr2bc",
        "colab_type": "code",
        "colab": {
          "base_uri": "https://localhost:8080/",
          "height": 68
        },
        "outputId": "17f756c9-2c37-47cc-9c4d-cb72982e11ca"
      },
      "cell_type": "code",
      "source": [
        "with open(\"proverbi.txt\") as proverbs_file:\n",
        "  proverbs = proverbs_file.readlines()\n",
        "  \n",
        "# stampiamo il primo proverbio\n",
        "print(proverbs[0])\n",
        "\n",
        "# stampiamo l'ultimo proverbio\n",
        "print(proverbs[-1])"
      ],
      "execution_count": 24,
      "outputs": [
        {
          "output_type": "stream",
          "text": [
            "A buon intenditor, poche parole. \n",
            "\n",
            "Tanto la va la gatta al lardo che ci lascia lo zampino. \n"
          ],
          "name": "stdout"
        }
      ]
    },
    {
      "metadata": {
        "id": "fF7yHgtXtMgX",
        "colab_type": "text"
      },
      "cell_type": "markdown",
      "source": [
        "## Scrivere su di un file\n",
        "\n",
        "Per poter scrivere all'interno di un file dobbiamo aprire il file con i giusti permessi specificati nella funzione open:\n",
        "\n",
        " - **r**: apre il file in sola lettura (modalità di default)\n",
        " - **r+**: apre i file in lettura e scrittura, il puntatore viene posizionato all'inzio del file.\n",
        " - **w**: apre il file in sola scrittura, se il file esiste lo sovrascrive, se non esiste lo crea.\n",
        " - **w+**: apre il file in lettura e scrittura, se il file esiste lo sovrascrive, se non esiste lo crea.\n",
        " - **a**: apre il file in scrittura senza sovrascrivere il contenuto corrente.\n",
        " - **a+**: apre il file in lettura e scrittura senza sovrascrivere il contenuto corrente. Se il file non esiste lo crea.\n",
        "\n",
        "\n",
        "Quindi come puoi capire non definendo un permesso apriamo automaticamente il file in lettura. Proviamo ad aprire il file in scrittura per l'aggiunta di contenuti (append).\n"
      ]
    },
    {
      "metadata": {
        "id": "u6LBJtM4s2-G",
        "colab_type": "code",
        "colab": {}
      },
      "cell_type": "code",
      "source": [
        "proverbs_file = open(\"proverbi.txt\", 'a')"
      ],
      "execution_count": 0,
      "outputs": []
    },
    {
      "metadata": {
        "id": "HsdEr4Z0vBFR",
        "colab_type": "text"
      },
      "cell_type": "markdown",
      "source": [
        "Proviamo a leggere il contenuto del file"
      ]
    },
    {
      "metadata": {
        "id": "cW3pADqau_6l",
        "colab_type": "code",
        "colab": {
          "base_uri": "https://localhost:8080/",
          "height": 164
        },
        "outputId": "a7dad279-1173-42a3-acef-ee5dc48e307f"
      },
      "cell_type": "code",
      "source": [
        "proverbs_file.read()"
      ],
      "execution_count": 42,
      "outputs": [
        {
          "output_type": "error",
          "ename": "UnsupportedOperation",
          "evalue": "ignored",
          "traceback": [
            "\u001b[0;31m---------------------------------------------------------------------------\u001b[0m",
            "\u001b[0;31mUnsupportedOperation\u001b[0m                      Traceback (most recent call last)",
            "\u001b[0;32m<ipython-input-42-78da5aea3c4e>\u001b[0m in \u001b[0;36m<module>\u001b[0;34m()\u001b[0m\n\u001b[0;32m----> 1\u001b[0;31m \u001b[0mproverbs_file\u001b[0m\u001b[0;34m.\u001b[0m\u001b[0mread\u001b[0m\u001b[0;34m(\u001b[0m\u001b[0;34m)\u001b[0m\u001b[0;34m\u001b[0m\u001b[0;34m\u001b[0m\u001b[0m\n\u001b[0m",
            "\u001b[0;31mUnsupportedOperation\u001b[0m: not readable"
          ]
        }
      ]
    },
    {
      "metadata": {
        "id": "3_cDDnI1vGiz",
        "colab_type": "text"
      },
      "cell_type": "markdown",
      "source": [
        "Come vedi ci viene negato, avendo aperto il file in sola lettura. Proviamo ad aggiungere un proverbio al file, possiamo farlo usando il metodo *write*."
      ]
    },
    {
      "metadata": {
        "id": "_H4ZgVE3vE5y",
        "colab_type": "code",
        "colab": {
          "base_uri": "https://localhost:8080/",
          "height": 34
        },
        "outputId": "e40c0c66-1633-47b6-816c-105c6e719d7c"
      },
      "cell_type": "code",
      "source": [
        "proverb = \"\\nIl vino buono sta nelle botti piccole\"\n",
        "proverbs_file.write(proverb)"
      ],
      "execution_count": 43,
      "outputs": [
        {
          "output_type": "execute_result",
          "data": {
            "text/plain": [
              "38"
            ]
          },
          "metadata": {
            "tags": []
          },
          "execution_count": 43
        }
      ]
    },
    {
      "metadata": {
        "id": "jxZ0YYNXvjAL",
        "colab_type": "text"
      },
      "cell_type": "markdown",
      "source": [
        "Il carattere '\\n' all'inizio della stringa ci serve per andare ad una nuova riga. Cosa è quel numero che ci viene restituito dal metodo write ? Sono i numeri di byte scritti nel file, infatti un carattere occupa un singolo byte e la nostra stringa e composta da 38 caratteri, verifichiamolo con la funzione len."
      ]
    },
    {
      "metadata": {
        "id": "3iDlGyAevWhF",
        "colab_type": "code",
        "colab": {
          "base_uri": "https://localhost:8080/",
          "height": 34
        },
        "outputId": "fe12169d-fe8f-4cc4-c3cc-14354052fa17"
      },
      "cell_type": "code",
      "source": [
        "len(proverb)"
      ],
      "execution_count": 44,
      "outputs": [
        {
          "output_type": "execute_result",
          "data": {
            "text/plain": [
              "38"
            ]
          },
          "metadata": {
            "tags": []
          },
          "execution_count": 44
        }
      ]
    },
    {
      "metadata": {
        "id": "I_7oTkT7v-0q",
        "colab_type": "text"
      },
      "cell_type": "markdown",
      "source": [
        "Come volevasi dimostrare ! Adesso chiudiamo il file e riapriamolo in lettura e aggiunta."
      ]
    },
    {
      "metadata": {
        "id": "Dn2a9VaFvbQ0",
        "colab_type": "code",
        "colab": {}
      },
      "cell_type": "code",
      "source": [
        "proverbs_file.close()\n",
        "proverbs_file = open(\"proverbi.txt\",'a+')"
      ],
      "execution_count": 0,
      "outputs": []
    },
    {
      "metadata": {
        "id": "tfp-mAJfwatj",
        "colab_type": "text"
      },
      "cell_type": "markdown",
      "source": [
        "Proviamo a leggere il contenuto del file"
      ]
    },
    {
      "metadata": {
        "id": "xFwEGbNZwY54",
        "colab_type": "code",
        "colab": {
          "base_uri": "https://localhost:8080/",
          "height": 34
        },
        "outputId": "b82cbaa4-8d3b-4ed1-a19c-c793b117fd2c"
      },
      "cell_type": "code",
      "source": [
        "proverbs_file.read()"
      ],
      "execution_count": 52,
      "outputs": [
        {
          "output_type": "execute_result",
          "data": {
            "text/plain": [
              "''"
            ]
          },
          "metadata": {
            "tags": []
          },
          "execution_count": 52
        }
      ]
    },
    {
      "metadata": {
        "id": "owOcw_V7wmeF",
        "colab_type": "text"
      },
      "cell_type": "markdown",
      "source": [
        "Vuoto ? Come è possibile ? Perchè aprendo il file in modalità *append* il cursore viene posizionato alla fine del file ! Spostiamolo all'inzio e riproviamo."
      ]
    },
    {
      "metadata": {
        "id": "nfboHbT2weVx",
        "colab_type": "code",
        "colab": {
          "base_uri": "https://localhost:8080/",
          "height": 260
        },
        "outputId": "04469c9e-9884-4223-b2f8-cf17967dc179"
      },
      "cell_type": "code",
      "source": [
        "proverbs_file.seek(0)\n",
        "print(proverbs_file.read())"
      ],
      "execution_count": 53,
      "outputs": [
        {
          "output_type": "stream",
          "text": [
            "A buon intenditor, poche parole. \n",
            "A caval donato non si guarda in bocca. \n",
            "Anno nuovo, vita nuova. \n",
            "Bacco, Tabacco e Venere, riducon l’uomo in cenere. \n",
            "Buon sangue non mente. \n",
            "Campa cavallo che l’erba cresce. \n",
            "Can che abbaia non morde. \n",
            "Chi ben comincia è alla metà dell’opera. \n",
            "Chi è causa del suo mal, pianga se stesso.\n",
            "Chi la dura, la vince. \n",
            "Chiodo scaccia chiodo. \n",
            "Tanto la va la gatta al lardo che ci lascia lo zampino. Il vino buono sta nelle botti piccoleIl vino buono sta nelle botti piccoleIl vino buono sta nelle botti piccole\n",
            "Il vino buono sta nelle botti piccoleChi va a Roma perde la poltrona\n"
          ],
          "name": "stdout"
        }
      ]
    },
    {
      "metadata": {
        "id": "0NHjQF1zxefV",
        "colab_type": "text"
      },
      "cell_type": "markdown",
      "source": [
        "Aggiungiamo un'altro proverbio."
      ]
    },
    {
      "metadata": {
        "id": "VBfWpNxixI3j",
        "colab_type": "code",
        "colab": {
          "base_uri": "https://localhost:8080/",
          "height": 34
        },
        "outputId": "78640370-030e-4a8b-848c-ba73904dec54"
      },
      "cell_type": "code",
      "source": [
        "proverbs_file.write(\"\\nChi va a Roma perde la poltrona\") # non so se sia un proverbio."
      ],
      "execution_count": 50,
      "outputs": [
        {
          "output_type": "execute_result",
          "data": {
            "text/plain": [
              "31"
            ]
          },
          "metadata": {
            "tags": []
          },
          "execution_count": 50
        }
      ]
    },
    {
      "metadata": {
        "id": "77uvOX84x1i1",
        "colab_type": "text"
      },
      "cell_type": "markdown",
      "source": [
        "Verifichiamo il contenuto del file"
      ]
    },
    {
      "metadata": {
        "id": "ARv4V0-hxvd-",
        "colab_type": "code",
        "colab": {
          "base_uri": "https://localhost:8080/",
          "height": 260
        },
        "outputId": "df2eb78e-5f8b-4794-a683-5315add3cae3"
      },
      "cell_type": "code",
      "source": [
        "proverbs_file.seek(0)\n",
        "print(proverbs_file.read())"
      ],
      "execution_count": 51,
      "outputs": [
        {
          "output_type": "stream",
          "text": [
            "A buon intenditor, poche parole. \n",
            "A caval donato non si guarda in bocca. \n",
            "Anno nuovo, vita nuova. \n",
            "Bacco, Tabacco e Venere, riducon l’uomo in cenere. \n",
            "Buon sangue non mente. \n",
            "Campa cavallo che l’erba cresce. \n",
            "Can che abbaia non morde. \n",
            "Chi ben comincia è alla metà dell’opera. \n",
            "Chi è causa del suo mal, pianga se stesso.\n",
            "Chi la dura, la vince. \n",
            "Chiodo scaccia chiodo. \n",
            "Tanto la va la gatta al lardo che ci lascia lo zampino. Il vino buono sta nelle botti piccoleIl vino buono sta nelle botti piccoleIl vino buono sta nelle botti piccole\n",
            "Il vino buono sta nelle botti piccoleChi va a Roma perde la poltrona\n"
          ],
          "name": "stdout"
        }
      ]
    },
    {
      "metadata": {
        "id": "w1C9mtEnyE4_",
        "colab_type": "text"
      },
      "cell_type": "markdown",
      "source": [
        "Perfetto ! Ricordiamoci di chiudere il file."
      ]
    },
    {
      "metadata": {
        "id": "bHOkSVpxxzLS",
        "colab_type": "code",
        "colab": {}
      },
      "cell_type": "code",
      "source": [
        "proverbs_file.close()"
      ],
      "execution_count": 0,
      "outputs": []
    },
    {
      "metadata": {
        "id": "S9vZOq0RyUir",
        "colab_type": "text"
      },
      "cell_type": "markdown",
      "source": [
        "## Creazione di un nuovo file\n",
        "Possiamo creare un nuovo file con la funzione *open* utilizzando w (solo scrittura) o w+ (lettura e scrittura) come permessi."
      ]
    },
    {
      "metadata": {
        "id": "WgVrbI3PyWmk",
        "colab_type": "code",
        "colab": {}
      },
      "cell_type": "code",
      "source": [
        "proverbs_file = open('proverbi.txt')\n",
        "new_proverbs_file = open('nuovi_proverbi.txt','w+')"
      ],
      "execution_count": 0,
      "outputs": []
    },
    {
      "metadata": {
        "id": "Z19Ck540yyDB",
        "colab_type": "text"
      },
      "cell_type": "markdown",
      "source": [
        "Se dai uno sguardo alla tua directory corrente troverai al suo interno, oltre al file proverbi.txt, un nuovo file nuovi_proverbi.txt, per adesso vuoto. Scriviamoci dentro i primi 3 proverbi del file proverbi.txt."
      ]
    },
    {
      "metadata": {
        "id": "PhsWAXecytMB",
        "colab_type": "code",
        "colab": {
          "base_uri": "https://localhost:8080/",
          "height": 120
        },
        "outputId": "c1cfb5f6-f629-4bc1-9614-732b8ec80688"
      },
      "cell_type": "code",
      "source": [
        "for i,proverb in enumerate(proverbs_file.readlines()):\n",
        "  if(i>=3):\n",
        "    break\n",
        "  print(proverb)\n",
        "  new_proverbs_file.write(proverb)"
      ],
      "execution_count": 95,
      "outputs": [
        {
          "output_type": "stream",
          "text": [
            "A buon intenditor, poche parole. \n",
            "\n",
            "A caval donato non si guarda in bocca. \n",
            "\n",
            "Anno nuovo, vita nuova. \n",
            "\n"
          ],
          "name": "stdout"
        }
      ]
    },
    {
      "metadata": {
        "id": "FBXnwZDj0rnd",
        "colab_type": "text"
      },
      "cell_type": "markdown",
      "source": [
        "Leggiamo il file per verificare che i proverbi siano stati scritti."
      ]
    },
    {
      "metadata": {
        "id": "U8VJjwnfzJcp",
        "colab_type": "code",
        "colab": {
          "base_uri": "https://localhost:8080/",
          "height": 86
        },
        "outputId": "3321b65e-7c0d-41e6-8a56-6077e51dc755"
      },
      "cell_type": "code",
      "source": [
        "new_proverbs_file.seek(0)\n",
        "print(new_proverbs_file.read())"
      ],
      "execution_count": 96,
      "outputs": [
        {
          "output_type": "stream",
          "text": [
            "A buon intenditor, poche parole. \n",
            "A caval donato non si guarda in bocca. \n",
            "Anno nuovo, vita nuova. \n",
            "\n"
          ],
          "name": "stdout"
        }
      ]
    },
    {
      "metadata": {
        "id": "dHj_AWic0xG-",
        "colab_type": "text"
      },
      "cell_type": "markdown",
      "source": [
        "Perfetto ! Chiudiamo pure i files."
      ]
    },
    {
      "metadata": {
        "id": "IFbdF7KpzjGb",
        "colab_type": "code",
        "colab": {}
      },
      "cell_type": "code",
      "source": [
        "proverbs_file.close()\n",
        "new_proverbs_file.close()"
      ],
      "execution_count": 0,
      "outputs": []
    }
  ]
}
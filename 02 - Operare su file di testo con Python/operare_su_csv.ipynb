{
  "nbformat": 4,
  "nbformat_minor": 0,
  "metadata": {
    "colab": {
      "name": "operare_su_csv.ipynb",
      "version": "0.3.2",
      "provenance": [],
      "include_colab_link": true
    },
    "kernelspec": {
      "name": "python3",
      "display_name": "Python 3"
    }
  },
  "cells": [
    {
      "cell_type": "markdown",
      "metadata": {
        "id": "view-in-github",
        "colab_type": "text"
      },
      "source": [
        "<a href=\"https://colab.research.google.com/github/ProfAI/nlp00/blob/master/2%20-%20Operare%20su%20file%20di%20testo%20con%20Python/operare_su_csv.ipynb\" target=\"_parent\"><img src=\"https://colab.research.google.com/assets/colab-badge.svg\" alt=\"Open In Colab\"/></a>"
      ]
    },
    {
      "metadata": {
        "id": "tOrQR-cMYhpZ",
        "colab_type": "text"
      },
      "cell_type": "markdown",
      "source": [
        "# Operare su file CSV\n",
        "Può capitarci di dover lavorare su testi presenti in una o più colonne di un file **CSV (comma separated values)**.\n",
        "Nonostante sia possibile aprire un file CSV anche con la funzione open e un po' di operazioni sulle stringhe, il modo migliore di farlo rimane utilizzare [**Pandas**](https://pandas.pydata.org/), una popolare libreria Python per l'analisi dei dati.\n",
        "<br><br>\n",
        "Cominciamo importando Pandas."
      ]
    },
    {
      "metadata": {
        "id": "d5ulaSEf1QVn",
        "colab_type": "code",
        "colab": {}
      },
      "cell_type": "code",
      "source": [
        "import pandas as pd"
      ],
      "execution_count": 0,
      "outputs": []
    },
    {
      "metadata": {
        "id": "1hS-Wd6tdHSN",
        "colab_type": "text"
      },
      "cell_type": "markdown",
      "source": [
        "Carichiamo il file CSV utilizzando la funzione *read_csv* a cui possiamo passare sia il path del file in locale che una destinazione remota, in questo notebook optiamo per la seconda opzione caricando il file direttamente dalla repository Github.\n",
        "<br>\n",
        "Il file che carichiamo contiene le valutazioni lasciate su Google Play nel mese di Febbraio 2019 per il bellissimo gioco per smartphone e iPhone *il Signore degli Enigmi*, edito dalla fantasmagorica azienda Nigmatica (si, è la mia, mi sto facendo pubblicità subliminale con scarsi risultati)."
      ]
    },
    {
      "metadata": {
        "id": "_zVsUGd2WYBW",
        "colab_type": "code",
        "colab": {}
      },
      "cell_type": "code",
      "source": [
        "file_url=\"https://raw.githubusercontent.com/ProfAI/nlp00/master/2%20-%20Operare%20su%20file%20di%20testo%20con%20Python/data/riddles_reviews_feb2019.csv\"\n",
        "reviews = pd.read_csv(file_url)"
      ],
      "execution_count": 0,
      "outputs": []
    },
    {
      "metadata": {
        "id": "NSjFD4lUd1Yi",
        "colab_type": "text"
      },
      "cell_type": "markdown",
      "source": [
        "Il dataset verrà caricato all'intero di un [**DataFrame** ](https://pandas.pydata.org/pandas-docs/version/0.23.4/generated/pandas.DataFrame.html) un'oggeto che Pandas utilizza per immagazzinare dati in formato tabulare."
      ]
    },
    {
      "metadata": {
        "id": "TdJjTvE0WapO",
        "colab_type": "code",
        "colab": {
          "base_uri": "https://localhost:8080/",
          "height": 34
        },
        "outputId": "294ab9db-ced1-49d4-878f-3d76e43de12d"
      },
      "cell_type": "code",
      "source": [
        "[type(reviews)"
      ],
      "execution_count": 13,
      "outputs": [
        {
          "output_type": "execute_result",
          "data": {
            "text/plain": [
              "pandas.core.frame.DataFrame"
            ]
          },
          "metadata": {
            "tags": []
          },
          "execution_count": 13
        }
      ]
    },
    {
      "metadata": {
        "id": "cd1-BwWQd1Fh",
        "colab_type": "text"
      },
      "cell_type": "markdown",
      "source": [
        "Utilizzando il metodo *head()* del Dataframe possiamo visualizzare le prime righe."
      ]
    },
    {
      "metadata": {
        "id": "zgXLLGnEWcLp",
        "colab_type": "code",
        "colab": {
          "base_uri": "https://localhost:8080/",
          "height": 428
        },
        "outputId": "71bd2620-766a-4da4-d409-427f1197029f"
      },
      "cell_type": "code",
      "source": [
        "reviews.head()"
      ],
      "execution_count": 14,
      "outputs": [
        {
          "output_type": "execute_result",
          "data": {
            "text/html": [
              "<div>\n",
              "<style scoped>\n",
              "    .dataframe tbody tr th:only-of-type {\n",
              "        vertical-align: middle;\n",
              "    }\n",
              "\n",
              "    .dataframe tbody tr th {\n",
              "        vertical-align: top;\n",
              "    }\n",
              "\n",
              "    .dataframe thead th {\n",
              "        text-align: right;\n",
              "    }\n",
              "</style>\n",
              "<table border=\"1\" class=\"dataframe\">\n",
              "  <thead>\n",
              "    <tr style=\"text-align: right;\">\n",
              "      <th></th>\n",
              "      <th>Package Name</th>\n",
              "      <th>App Version Code</th>\n",
              "      <th>App Version Name</th>\n",
              "      <th>Reviewer Language</th>\n",
              "      <th>Device</th>\n",
              "      <th>Review Submit Date and Time</th>\n",
              "      <th>Review Submit Millis Since Epoch</th>\n",
              "      <th>Review Last Update Date and Time</th>\n",
              "      <th>Review Last Update Millis Since Epoch</th>\n",
              "      <th>Star Rating</th>\n",
              "      <th>Review Title</th>\n",
              "      <th>Review Text</th>\n",
              "      <th>Developer Reply Date and Time</th>\n",
              "      <th>Developer Reply Millis Since Epoch</th>\n",
              "      <th>Developer Reply Text</th>\n",
              "      <th>Review Link</th>\n",
              "    </tr>\n",
              "  </thead>\n",
              "  <tbody>\n",
              "    <tr>\n",
              "      <th>0</th>\n",
              "      <td>cat.app.lordofriddles</td>\n",
              "      <td>NaN</td>\n",
              "      <td>NaN</td>\n",
              "      <td>it</td>\n",
              "      <td>HWANE</td>\n",
              "      <td>2019-02-01T13:04:45Z</td>\n",
              "      <td>1549026285158</td>\n",
              "      <td>2019-02-01T13:04:45Z</td>\n",
              "      <td>1549026285158</td>\n",
              "      <td>5</td>\n",
              "      <td>NaN</td>\n",
              "      <td>NaN</td>\n",
              "      <td>NaN</td>\n",
              "      <td>NaN</td>\n",
              "      <td>NaN</td>\n",
              "      <td>NaN</td>\n",
              "    </tr>\n",
              "    <tr>\n",
              "      <th>1</th>\n",
              "      <td>cat.app.lordofriddles</td>\n",
              "      <td>93.0</td>\n",
              "      <td>4.1.14</td>\n",
              "      <td>it</td>\n",
              "      <td>HWVNS-H</td>\n",
              "      <td>2019-02-01T15:05:30Z</td>\n",
              "      <td>1549033530837</td>\n",
              "      <td>2019-02-01T15:05:30Z</td>\n",
              "      <td>1549033530837</td>\n",
              "      <td>5</td>\n",
              "      <td>NaN</td>\n",
              "      <td>NaN</td>\n",
              "      <td>NaN</td>\n",
              "      <td>NaN</td>\n",
              "      <td>NaN</td>\n",
              "      <td>NaN</td>\n",
              "    </tr>\n",
              "    <tr>\n",
              "      <th>2</th>\n",
              "      <td>cat.app.lordofriddles</td>\n",
              "      <td>93.0</td>\n",
              "      <td>4.1.14</td>\n",
              "      <td>it</td>\n",
              "      <td>v3720</td>\n",
              "      <td>2019-02-01T15:30:57Z</td>\n",
              "      <td>1549035057425</td>\n",
              "      <td>2019-02-01T15:30:57Z</td>\n",
              "      <td>1549035057425</td>\n",
              "      <td>5</td>\n",
              "      <td>NaN</td>\n",
              "      <td>NaN</td>\n",
              "      <td>NaN</td>\n",
              "      <td>NaN</td>\n",
              "      <td>NaN</td>\n",
              "      <td>NaN</td>\n",
              "    </tr>\n",
              "    <tr>\n",
              "      <th>3</th>\n",
              "      <td>cat.app.lordofriddles</td>\n",
              "      <td>93.0</td>\n",
              "      <td>4.1.14</td>\n",
              "      <td>it</td>\n",
              "      <td>HWDIG-L8940</td>\n",
              "      <td>2019-02-01T15:34:20Z</td>\n",
              "      <td>1549035260011</td>\n",
              "      <td>2019-02-01T15:34:20Z</td>\n",
              "      <td>1549035260011</td>\n",
              "      <td>5</td>\n",
              "      <td>NaN</td>\n",
              "      <td>NaN</td>\n",
              "      <td>NaN</td>\n",
              "      <td>NaN</td>\n",
              "      <td>NaN</td>\n",
              "      <td>NaN</td>\n",
              "    </tr>\n",
              "    <tr>\n",
              "      <th>4</th>\n",
              "      <td>cat.app.lordofriddles</td>\n",
              "      <td>NaN</td>\n",
              "      <td>NaN</td>\n",
              "      <td>it</td>\n",
              "      <td>HWPRA-H</td>\n",
              "      <td>2019-02-01T16:49:17Z</td>\n",
              "      <td>1549039757714</td>\n",
              "      <td>2019-02-01T16:49:17Z</td>\n",
              "      <td>1549039757714</td>\n",
              "      <td>4</td>\n",
              "      <td>NaN</td>\n",
              "      <td>Applicazione buona, ma indovinelli con soluzio...</td>\n",
              "      <td>NaN</td>\n",
              "      <td>NaN</td>\n",
              "      <td>NaN</td>\n",
              "      <td>https://play.google.com/apps/publish?account=4...</td>\n",
              "    </tr>\n",
              "  </tbody>\n",
              "</table>\n",
              "</div>"
            ],
            "text/plain": [
              "            Package Name  App Version Code App Version Name Reviewer Language  \\\n",
              "0  cat.app.lordofriddles               NaN              NaN                it   \n",
              "1  cat.app.lordofriddles              93.0           4.1.14                it   \n",
              "2  cat.app.lordofriddles              93.0           4.1.14                it   \n",
              "3  cat.app.lordofriddles              93.0           4.1.14                it   \n",
              "4  cat.app.lordofriddles               NaN              NaN                it   \n",
              "\n",
              "        Device Review Submit Date and Time  Review Submit Millis Since Epoch  \\\n",
              "0        HWANE        2019-02-01T13:04:45Z                     1549026285158   \n",
              "1      HWVNS-H        2019-02-01T15:05:30Z                     1549033530837   \n",
              "2        v3720        2019-02-01T15:30:57Z                     1549035057425   \n",
              "3  HWDIG-L8940        2019-02-01T15:34:20Z                     1549035260011   \n",
              "4      HWPRA-H        2019-02-01T16:49:17Z                     1549039757714   \n",
              "\n",
              "  Review Last Update Date and Time  Review Last Update Millis Since Epoch  \\\n",
              "0             2019-02-01T13:04:45Z                          1549026285158   \n",
              "1             2019-02-01T15:05:30Z                          1549033530837   \n",
              "2             2019-02-01T15:30:57Z                          1549035057425   \n",
              "3             2019-02-01T15:34:20Z                          1549035260011   \n",
              "4             2019-02-01T16:49:17Z                          1549039757714   \n",
              "\n",
              "   Star Rating  Review Title  \\\n",
              "0            5           NaN   \n",
              "1            5           NaN   \n",
              "2            5           NaN   \n",
              "3            5           NaN   \n",
              "4            4           NaN   \n",
              "\n",
              "                                         Review Text  \\\n",
              "0                                                NaN   \n",
              "1                                                NaN   \n",
              "2                                                NaN   \n",
              "3                                                NaN   \n",
              "4  Applicazione buona, ma indovinelli con soluzio...   \n",
              "\n",
              "   Developer Reply Date and Time  Developer Reply Millis Since Epoch  \\\n",
              "0                            NaN                                 NaN   \n",
              "1                            NaN                                 NaN   \n",
              "2                            NaN                                 NaN   \n",
              "3                            NaN                                 NaN   \n",
              "4                            NaN                                 NaN   \n",
              "\n",
              "   Developer Reply Text                                        Review Link  \n",
              "0                   NaN                                                NaN  \n",
              "1                   NaN                                                NaN  \n",
              "2                   NaN                                                NaN  \n",
              "3                   NaN                                                NaN  \n",
              "4                   NaN  https://play.google.com/apps/publish?account=4...  "
            ]
          },
          "metadata": {
            "tags": []
          },
          "execution_count": 14
        }
      ]
    },
    {
      "metadata": {
        "id": "jgXtNrtneSP-",
        "colab_type": "text"
      },
      "cell_type": "markdown",
      "source": [
        "Utilizzando il metodo *info()* possiamo ottenere alcune utili informazioni sul DataFrame, come il numero totale di righe, numero e nome delle colonne e il numero di valori mancanti per colonna."
      ]
    },
    {
      "metadata": {
        "id": "PJOxaTNIePNB",
        "colab_type": "code",
        "colab": {
          "base_uri": "https://localhost:8080/",
          "height": 377
        },
        "outputId": "848387eb-fa53-415e-8aec-4d151e8026a0"
      },
      "cell_type": "code",
      "source": [
        "reviews.info()"
      ],
      "execution_count": 15,
      "outputs": [
        {
          "output_type": "stream",
          "text": [
            "<class 'pandas.core.frame.DataFrame'>\n",
            "RangeIndex: 86 entries, 0 to 85\n",
            "Data columns (total 16 columns):\n",
            "Package Name                             86 non-null object\n",
            "App Version Code                         84 non-null float64\n",
            "App Version Name                         84 non-null object\n",
            "Reviewer Language                        86 non-null object\n",
            "Device                                   86 non-null object\n",
            "Review Submit Date and Time              86 non-null object\n",
            "Review Submit Millis Since Epoch         86 non-null int64\n",
            "Review Last Update Date and Time         86 non-null object\n",
            "Review Last Update Millis Since Epoch    86 non-null int64\n",
            "Star Rating                              86 non-null int64\n",
            "Review Title                             0 non-null float64\n",
            "Review Text                              19 non-null object\n",
            "Developer Reply Date and Time            0 non-null float64\n",
            "Developer Reply Millis Since Epoch       0 non-null float64\n",
            "Developer Reply Text                     0 non-null float64\n",
            "Review Link                              19 non-null object\n",
            "dtypes: float64(5), int64(3), object(8)\n",
            "memory usage: 10.8+ KB\n"
          ],
          "name": "stdout"
        }
      ]
    },
    {
      "metadata": {
        "id": "Tv7bMpdleqEi",
        "colab_type": "text"
      },
      "cell_type": "markdown",
      "source": [
        "Abbiamo un totale di 86 valutazioni e 16 informazioni legate ad esse, come numero e codice della versione dell'app, dispositivo, valutazione (da 1 a 5), testo e link alla recensione. Come vedi le valutazioni accompagnate da una recensione sono soltanto 19. Possiamo selezionare una colonna di un DataFrame passandone il nome tra parentesi quadre (come si fa con i dizionari Python).\n",
        "Selezioniamo solo le recensioni."
      ]
    },
    {
      "metadata": {
        "id": "IoyUGvoSeils",
        "colab_type": "code",
        "colab": {
          "base_uri": "https://localhost:8080/",
          "height": 34
        },
        "outputId": "aac320b1-5fd4-45dd-bb6a-2570d010de77"
      },
      "cell_type": "code",
      "source": [
        "reviews_text = reviews[\"Review Text\"]\n",
        "type(reviews_text)"
      ],
      "execution_count": 17,
      "outputs": [
        {
          "output_type": "execute_result",
          "data": {
            "text/plain": [
              "pandas.core.series.Series"
            ]
          },
          "metadata": {
            "tags": []
          },
          "execution_count": 17
        }
      ]
    },
    {
      "metadata": {
        "id": "_hQLGYEfgGRg",
        "colab_type": "text"
      },
      "cell_type": "markdown",
      "source": [
        "L'oggetto che contiene una singola colonna è una [**Series**](https://pandas.pydata.org/pandas-docs/stable/reference/api/pandas.Series.html), anch'esso ha un metodo *head* per visualizzare le prime 5 righe, se passiamo un valore n come parametro visualizzeremo le prime n righe.\n",
        "<br><br>\n",
        "**NOTA BENE**\n",
        "<br>\n",
        "La maggior parte dei metodi disponibili per il DataFrame sono disponibili anche per la Series, fai riferimento alla documentazione di Pandas"
      ]
    },
    {
      "metadata": {
        "id": "12dsZEAMf_V1",
        "colab_type": "code",
        "colab": {
          "base_uri": "https://localhost:8080/",
          "height": 206
        },
        "outputId": "a743703a-89c1-4ed7-cd5f-5a944636f09a"
      },
      "cell_type": "code",
      "source": [
        "reviews_text.head(10) # visualizziamo le prime 10 recensioni"
      ],
      "execution_count": 19,
      "outputs": [
        {
          "output_type": "execute_result",
          "data": {
            "text/plain": [
              "0                                                  NaN\n",
              "1                                                  NaN\n",
              "2                                                  NaN\n",
              "3                                                  NaN\n",
              "4    Applicazione buona, ma indovinelli con soluzio...\n",
              "5                                                  NaN\n",
              "6                                                  NaN\n",
              "7                                                  NaN\n",
              "8                                                  NaN\n",
              "9          ottimo gioco da fare da soli o in compagnia\n",
              "Name: Review Text, dtype: object"
            ]
          },
          "metadata": {
            "tags": []
          },
          "execution_count": 19
        }
      ]
    },
    {
      "metadata": {
        "id": "FFXD8QQNjk5S",
        "colab_type": "text"
      },
      "cell_type": "markdown",
      "source": [
        "Come avevamo già visto la maggior parte delle valutaziono non hanno una recensione e pandas rappresenta questa mancanza con un valore NaN (Not a Number). Eliminiamo tutte le righe che contengono un NaN e teniamo solo le recensioni. Possiamo farlo utilizzando il metodo *dropna()*."
      ]
    },
    {
      "metadata": {
        "id": "1HwXek_vi05f",
        "colab_type": "code",
        "colab": {
          "base_uri": "https://localhost:8080/",
          "height": 206
        },
        "outputId": "3511c046-dd06-4ca4-f428-e089d1c13382"
      },
      "cell_type": "code",
      "source": [
        "reviews_text = reviews_text.dropna()\n",
        "reviews_text.head(10)"
      ],
      "execution_count": 40,
      "outputs": [
        {
          "output_type": "execute_result",
          "data": {
            "text/plain": [
              "4     Applicazione buona, ma indovinelli con soluzio...\n",
              "9           ottimo gioco da fare da soli o in compagnia\n",
              "14                              bellissima sei un genio\n",
              "15                                         non mi piace\n",
              "22                                                bello\n",
              "23    i like the game its a really good game for you...\n",
              "26                                              Bellino\n",
              "31                                                bello\n",
              "38                              Insomma non molto bello\n",
              "43                                                bella\n",
              "Name: Review Text, dtype: object"
            ]
          },
          "metadata": {
            "tags": []
          },
          "execution_count": 40
        }
      ]
    },
    {
      "metadata": {
        "id": "SoU6SbSolMNS",
        "colab_type": "text"
      },
      "cell_type": "markdown",
      "source": [
        "La colonna di destra rappresenta gli id delle recensioni. Possiamo selezionare una recensione per id utilizzando l'attributo *loc*."
      ]
    },
    {
      "metadata": {
        "id": "NhkHZ-iMkTZb",
        "colab_type": "code",
        "colab": {
          "base_uri": "https://localhost:8080/",
          "height": 34
        },
        "outputId": "bcf70d79-c637-4b13-9d1c-68270cd3e389"
      },
      "cell_type": "code",
      "source": [
        "reviews_text.loc[4] # la prima recensione ha id 4."
      ],
      "execution_count": 34,
      "outputs": [
        {
          "output_type": "execute_result",
          "data": {
            "text/plain": [
              "'Applicazione buona, ma indovinelli con soluzioni veramente impensabili. Buon passatempo per tenere la mente impegnata'"
            ]
          },
          "metadata": {
            "tags": []
          },
          "execution_count": 34
        }
      ]
    },
    {
      "metadata": {
        "id": "9_zGiIezmQd_",
        "colab_type": "text"
      },
      "cell_type": "markdown",
      "source": [
        "Possiamo invece selezionare una recensione per indice (cioè la posizione che occupa nella lista) utilizzando l'attributo *iloc*."
      ]
    },
    {
      "metadata": {
        "id": "mOUCDn87ltuW",
        "colab_type": "code",
        "colab": {
          "base_uri": "https://localhost:8080/",
          "height": 34
        },
        "outputId": "882a908a-eef4-480a-91f9-9e7ad8e9cf57"
      },
      "cell_type": "code",
      "source": [
        "reviews_text.iloc[0] # selezioniamo la prima recensione (indice 0)"
      ],
      "execution_count": 39,
      "outputs": [
        {
          "output_type": "execute_result",
          "data": {
            "text/plain": [
              "'Applicazione buona, ma indovinelli con soluzioni veramente impensabili. Buon passatempo per tenere la mente impegnata'"
            ]
          },
          "metadata": {
            "tags": []
          },
          "execution_count": 39
        }
      ]
    },
    {
      "metadata": {
        "id": "b6QbtKYSmwlJ",
        "colab_type": "text"
      },
      "cell_type": "markdown",
      "source": [
        "Adesso creiamo di nuovo un DataFrame aggiungendo la valutazione in stelle, possiamo farlo usando la funzione *concat* di Pandas per unire la Series con le recensioni e quella con le valutazioni."
      ]
    },
    {
      "metadata": {
        "id": "pWs8juXBl6bf",
        "colab_type": "code",
        "colab": {
          "base_uri": "https://localhost:8080/",
          "height": 357
        },
        "outputId": "0fdfa3b3-8e89-418a-9e95-24bb09a61826"
      },
      "cell_type": "code",
      "source": [
        "new_reviews = pd.concat([reviews_text, reviews[\"Star Rating\"]], axis=1).dropna() # usiamo dropna per rimuovere le righe NaN che vengono con le valutazioni\n",
        "new_reviews.head(10)"
      ],
      "execution_count": 49,
      "outputs": [
        {
          "output_type": "execute_result",
          "data": {
            "text/html": [
              "<div>\n",
              "<style scoped>\n",
              "    .dataframe tbody tr th:only-of-type {\n",
              "        vertical-align: middle;\n",
              "    }\n",
              "\n",
              "    .dataframe tbody tr th {\n",
              "        vertical-align: top;\n",
              "    }\n",
              "\n",
              "    .dataframe thead th {\n",
              "        text-align: right;\n",
              "    }\n",
              "</style>\n",
              "<table border=\"1\" class=\"dataframe\">\n",
              "  <thead>\n",
              "    <tr style=\"text-align: right;\">\n",
              "      <th></th>\n",
              "      <th>Review Text</th>\n",
              "      <th>Star Rating</th>\n",
              "    </tr>\n",
              "  </thead>\n",
              "  <tbody>\n",
              "    <tr>\n",
              "      <th>4</th>\n",
              "      <td>Applicazione buona, ma indovinelli con soluzio...</td>\n",
              "      <td>4</td>\n",
              "    </tr>\n",
              "    <tr>\n",
              "      <th>9</th>\n",
              "      <td>ottimo gioco da fare da soli o in compagnia</td>\n",
              "      <td>4</td>\n",
              "    </tr>\n",
              "    <tr>\n",
              "      <th>14</th>\n",
              "      <td>bellissima sei un genio</td>\n",
              "      <td>5</td>\n",
              "    </tr>\n",
              "    <tr>\n",
              "      <th>15</th>\n",
              "      <td>non mi piace</td>\n",
              "      <td>5</td>\n",
              "    </tr>\n",
              "    <tr>\n",
              "      <th>22</th>\n",
              "      <td>bello</td>\n",
              "      <td>4</td>\n",
              "    </tr>\n",
              "    <tr>\n",
              "      <th>23</th>\n",
              "      <td>i like the game its a really good game for you...</td>\n",
              "      <td>4</td>\n",
              "    </tr>\n",
              "    <tr>\n",
              "      <th>26</th>\n",
              "      <td>Bellino</td>\n",
              "      <td>3</td>\n",
              "    </tr>\n",
              "    <tr>\n",
              "      <th>31</th>\n",
              "      <td>bello</td>\n",
              "      <td>3</td>\n",
              "    </tr>\n",
              "    <tr>\n",
              "      <th>38</th>\n",
              "      <td>Insomma non molto bello</td>\n",
              "      <td>3</td>\n",
              "    </tr>\n",
              "    <tr>\n",
              "      <th>43</th>\n",
              "      <td>bella</td>\n",
              "      <td>4</td>\n",
              "    </tr>\n",
              "  </tbody>\n",
              "</table>\n",
              "</div>"
            ],
            "text/plain": [
              "                                          Review Text  Star Rating\n",
              "4   Applicazione buona, ma indovinelli con soluzio...            4\n",
              "9         ottimo gioco da fare da soli o in compagnia            4\n",
              "14                            bellissima sei un genio            5\n",
              "15                                       non mi piace            5\n",
              "22                                              bello            4\n",
              "23  i like the game its a really good game for you...            4\n",
              "26                                            Bellino            3\n",
              "31                                              bello            3\n",
              "38                            Insomma non molto bello            3\n",
              "43                                              bella            4"
            ]
          },
          "metadata": {
            "tags": []
          },
          "execution_count": 49
        }
      ]
    },
    {
      "metadata": {
        "id": "DJUwjBxsongE",
        "colab_type": "text"
      },
      "cell_type": "markdown",
      "source": [
        "**NOTA BENE**\n",
        "<br>\n",
        "Abbiamo usato il parametro axis=1 per eseguire una concatenazione per colonna, con axis=0 avremmo eseguito una concatenazione per righe.\n",
        "Aggiungiamo una nuova colonna al DataFrame con la lunghezza di ogni recensione, possiamo farlo con il metodo *map* della Series alla quale passeremo una [funzione lambda](https://www.meccanismocomplesso.org/lessons-lezioni-di-python-le-funzioni-lambda-functions/) che calcola la lunghezza di ogni recensione."
      ]
    },
    {
      "metadata": {
        "id": "POrEkwegnE9X",
        "colab_type": "code",
        "colab": {
          "base_uri": "https://localhost:8080/",
          "height": 357
        },
        "outputId": "0b7dc85f-1b41-4349-f03f-630013503428"
      },
      "cell_type": "code",
      "source": [
        "Anew_reviews.head(10)"
      ],
      "execution_count": 53,
      "outputs": [
        {
          "output_type": "execute_result",
          "data": {
            "text/html": [
              "<div>\n",
              "<style scoped>\n",
              "    .dataframe tbody tr th:only-of-type {\n",
              "        vertical-align: middle;\n",
              "    }\n",
              "\n",
              "    .dataframe tbody tr th {\n",
              "        vertical-align: top;\n",
              "    }\n",
              "\n",
              "    .dataframe thead th {\n",
              "        text-align: right;\n",
              "    }\n",
              "</style>\n",
              "<table border=\"1\" class=\"dataframe\">\n",
              "  <thead>\n",
              "    <tr style=\"text-align: right;\">\n",
              "      <th></th>\n",
              "      <th>Review Text</th>\n",
              "      <th>Star Rating</th>\n",
              "      <th>Review Length</th>\n",
              "    </tr>\n",
              "  </thead>\n",
              "  <tbody>\n",
              "    <tr>\n",
              "      <th>4</th>\n",
              "      <td>Applicazione buona, ma indovinelli con soluzio...</td>\n",
              "      <td>4</td>\n",
              "      <td>117</td>\n",
              "    </tr>\n",
              "    <tr>\n",
              "      <th>9</th>\n",
              "      <td>ottimo gioco da fare da soli o in compagnia</td>\n",
              "      <td>4</td>\n",
              "      <td>43</td>\n",
              "    </tr>\n",
              "    <tr>\n",
              "      <th>14</th>\n",
              "      <td>bellissima sei un genio</td>\n",
              "      <td>5</td>\n",
              "      <td>23</td>\n",
              "    </tr>\n",
              "    <tr>\n",
              "      <th>15</th>\n",
              "      <td>non mi piace</td>\n",
              "      <td>5</td>\n",
              "      <td>12</td>\n",
              "    </tr>\n",
              "    <tr>\n",
              "      <th>22</th>\n",
              "      <td>bello</td>\n",
              "      <td>4</td>\n",
              "      <td>5</td>\n",
              "    </tr>\n",
              "    <tr>\n",
              "      <th>23</th>\n",
              "      <td>i like the game its a really good game for you...</td>\n",
              "      <td>4</td>\n",
              "      <td>67</td>\n",
              "    </tr>\n",
              "    <tr>\n",
              "      <th>26</th>\n",
              "      <td>Bellino</td>\n",
              "      <td>3</td>\n",
              "      <td>7</td>\n",
              "    </tr>\n",
              "    <tr>\n",
              "      <th>31</th>\n",
              "      <td>bello</td>\n",
              "      <td>3</td>\n",
              "      <td>5</td>\n",
              "    </tr>\n",
              "    <tr>\n",
              "      <th>38</th>\n",
              "      <td>Insomma non molto bello</td>\n",
              "      <td>3</td>\n",
              "      <td>23</td>\n",
              "    </tr>\n",
              "    <tr>\n",
              "      <th>43</th>\n",
              "      <td>bella</td>\n",
              "      <td>4</td>\n",
              "      <td>5</td>\n",
              "    </tr>\n",
              "  </tbody>\n",
              "</table>\n",
              "</div>"
            ],
            "text/plain": [
              "                                          Review Text  Star Rating  \\\n",
              "4   Applicazione buona, ma indovinelli con soluzio...            4   \n",
              "9         ottimo gioco da fare da soli o in compagnia            4   \n",
              "14                            bellissima sei un genio            5   \n",
              "15                                       non mi piace            5   \n",
              "22                                              bello            4   \n",
              "23  i like the game its a really good game for you...            4   \n",
              "26                                            Bellino            3   \n",
              "31                                              bello            3   \n",
              "38                            Insomma non molto bello            3   \n",
              "43                                              bella            4   \n",
              "\n",
              "    Review Length  \n",
              "4             117  \n",
              "9              43  \n",
              "14             23  \n",
              "15             12  \n",
              "22              5  \n",
              "23             67  \n",
              "26              7  \n",
              "31              5  \n",
              "38             23  \n",
              "43              5  "
            ]
          },
          "metadata": {
            "tags": []
          },
          "execution_count": 53
        }
      ]
    },
    {
      "metadata": {
        "id": "F015cNMA4KDp",
        "colab_type": "text"
      },
      "cell_type": "markdown",
      "source": [
        "Adesso possiamo eseguire alcune operazioni statistiche per ottenere informazioni sulle nostre recensioni, come lunghezza e valutazione media usando il metodo *mean()*."
      ]
    },
    {
      "metadata": {
        "id": "eyxDNhVj3mdX",
        "colab_type": "code",
        "colab": {
          "base_uri": "https://localhost:8080/",
          "height": 68
        },
        "outputId": "ea1e0838-bf55-43c9-f698-4c3b49dc97b8"
      },
      "cell_type": "code",
      "source": [
        "new_reviews.mean()"
      ],
      "execution_count": 55,
      "outputs": [
        {
          "output_type": "execute_result",
          "data": {
            "text/plain": [
              "Star Rating       4.210526\n",
              "Review Length    27.000000\n",
              "dtype: float64"
            ]
          },
          "metadata": {
            "tags": []
          },
          "execution_count": 55
        }
      ]
    },
    {
      "metadata": {
        "id": "r_CaGVAO4bci",
        "colab_type": "text"
      },
      "cell_type": "markdown",
      "source": [
        "Possiamo ottenere un elenco abbastanza esaustivo di informazioni su di un DataFrame/Series utilizzando il metodo *describe*."
      ]
    },
    {
      "metadata": {
        "id": "_yGPfOUL3yAK",
        "colab_type": "code",
        "colab": {
          "base_uri": "https://localhost:8080/",
          "height": 295
        },
        "outputId": "377af96c-90d4-40f8-87b3-51982a39965d"
      },
      "cell_type": "code",
      "source": [
        "new_reviews.describe()"
      ],
      "execution_count": 56,
      "outputs": [
        {
          "output_type": "execute_result",
          "data": {
            "text/html": [
              "<div>\n",
              "<style scoped>\n",
              "    .dataframe tbody tr th:only-of-type {\n",
              "        vertical-align: middle;\n",
              "    }\n",
              "\n",
              "    .dataframe tbody tr th {\n",
              "        vertical-align: top;\n",
              "    }\n",
              "\n",
              "    .dataframe thead th {\n",
              "        text-align: right;\n",
              "    }\n",
              "</style>\n",
              "<table border=\"1\" class=\"dataframe\">\n",
              "  <thead>\n",
              "    <tr style=\"text-align: right;\">\n",
              "      <th></th>\n",
              "      <th>Star Rating</th>\n",
              "      <th>Review Length</th>\n",
              "    </tr>\n",
              "  </thead>\n",
              "  <tbody>\n",
              "    <tr>\n",
              "      <th>count</th>\n",
              "      <td>19.000000</td>\n",
              "      <td>19.000000</td>\n",
              "    </tr>\n",
              "    <tr>\n",
              "      <th>mean</th>\n",
              "      <td>4.210526</td>\n",
              "      <td>27.000000</td>\n",
              "    </tr>\n",
              "    <tr>\n",
              "      <th>std</th>\n",
              "      <td>0.787327</td>\n",
              "      <td>31.439536</td>\n",
              "    </tr>\n",
              "    <tr>\n",
              "      <th>min</th>\n",
              "      <td>3.000000</td>\n",
              "      <td>5.000000</td>\n",
              "    </tr>\n",
              "    <tr>\n",
              "      <th>25%</th>\n",
              "      <td>4.000000</td>\n",
              "      <td>5.000000</td>\n",
              "    </tr>\n",
              "    <tr>\n",
              "      <th>50%</th>\n",
              "      <td>4.000000</td>\n",
              "      <td>11.000000</td>\n",
              "    </tr>\n",
              "    <tr>\n",
              "      <th>75%</th>\n",
              "      <td>5.000000</td>\n",
              "      <td>34.500000</td>\n",
              "    </tr>\n",
              "    <tr>\n",
              "      <th>max</th>\n",
              "      <td>5.000000</td>\n",
              "      <td>117.000000</td>\n",
              "    </tr>\n",
              "  </tbody>\n",
              "</table>\n",
              "</div>"
            ],
            "text/plain": [
              "       Star Rating  Review Length\n",
              "count    19.000000      19.000000\n",
              "mean      4.210526      27.000000\n",
              "std       0.787327      31.439536\n",
              "min       3.000000       5.000000\n",
              "25%       4.000000       5.000000\n",
              "50%       4.000000      11.000000\n",
              "75%       5.000000      34.500000\n",
              "max       5.000000     117.000000"
            ]
          },
          "metadata": {
            "tags": []
          },
          "execution_count": 56
        }
      ]
    }
  ]
}
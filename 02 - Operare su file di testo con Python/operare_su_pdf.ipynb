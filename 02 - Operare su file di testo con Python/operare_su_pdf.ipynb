{
  "nbformat": 4,
  "nbformat_minor": 0,
  "metadata": {
    "colab": {
      "name": "operare_su_pdf.ipynb",
      "version": "0.3.2",
      "provenance": [],
      "toc_visible": true,
      "include_colab_link": true
    },
    "kernelspec": {
      "name": "python3",
      "display_name": "Python 3"
    }
  },
  "cells": [
    {
      "cell_type": "markdown",
      "metadata": {
        "id": "view-in-github",
        "colab_type": "text"
      },
      "source": [
        "<a href=\"https://colab.research.google.com/github/ProfAI/nlp00/blob/master/02%20-%20Operare%20su%20file%20di%20testo%20con%20Python/operare_su_pdf.ipynb\" target=\"_parent\"><img src=\"https://colab.research.google.com/assets/colab-badge.svg\" alt=\"Open In Colab\"/></a>"
      ]
    },
    {
      "cell_type": "markdown",
      "metadata": {
        "id": "F6jvlNgn5IOj",
        "colab_type": "text"
      },
      "source": [
        "# Operare su file PDF\n",
        "\n",
        "#### SOLO PER CHI USA GOOGLE COLABORATORY\n",
        "Se usi Google Colaboratory devi caricare i file che useremo all'interno del tuo ambiente virtuale, per farlo esegui il codice qui sotto, premi sul tasto upload che comparirà e carica il file:\n",
        " - articolo_ai.pdf\n",
        "\n",
        "che puoi trovare all'interno della cartella data della directory Operare su file di testo della repository del corso."
      ]
    },
    {
      "cell_type": "code",
      "metadata": {
        "id": "lnH5L5RIFZdw",
        "colab_type": "code",
        "outputId": "5299ac18-73be-4ecc-e28f-09fedd3af076",
        "colab": {
          "resources": {
            "http://localhost:8080/nbextensions/google.colab/files.js": {
              "data": "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",
              "ok": true,
              "headers": [
                [
                  "content-type",
                  "application/javascript"
                ]
              ],
              "status": 200,
              "status_text": ""
            }
          },
          "base_uri": "https://localhost:8080/",
          "height": 71
        }
      },
      "source": [
        "from google.colab import files\n",
        "uploaded = files.upload()"
      ],
      "execution_count": 1,
      "outputs": [
        {
          "output_type": "display_data",
          "data": {
            "text/html": [
              "\n",
              "     <input type=\"file\" id=\"files-26acfc3f-05a8-465b-9c7c-e032589114de\" name=\"files[]\" multiple disabled />\n",
              "     <output id=\"result-26acfc3f-05a8-465b-9c7c-e032589114de\">\n",
              "      Upload widget is only available when the cell has been executed in the\n",
              "      current browser session. Please rerun this cell to enable.\n",
              "      </output>\n",
              "      <script src=\"/nbextensions/google.colab/files.js\"></script> "
            ],
            "text/plain": [
              "<IPython.core.display.HTML object>"
            ]
          },
          "metadata": {
            "tags": []
          }
        },
        {
          "output_type": "stream",
          "text": [
            "Saving articolo_ai.pdf to articolo_ai.pdf\n"
          ],
          "name": "stdout"
        }
      ]
    },
    {
      "cell_type": "markdown",
      "metadata": {
        "id": "I5F-qGmZFQeA",
        "colab_type": "text"
      },
      "source": [
        "Un'altro formato di file molto popolare per il testo è il PDF (Portable Document Format) sviluppato da Adobe Systems nel 1993. Un PDF può contenere sia testo che immagini, le tecniche descritte in questo notebook sono applicabili solo quando il documento contiene del testo non scannerizzato.\n",
        "<br><br>\n",
        "Per leggere il contenuto di un PDF con Python possiamo usare il modulo [PyPDF](https://pythonhosted.org/PyPDF2/), questo modulo non è contenuto in Anaconda quindi dobbiamo installarlo usando pip"
      ]
    },
    {
      "cell_type": "code",
      "metadata": {
        "id": "VXyTwP5l5FNV",
        "colab_type": "code",
        "outputId": "9b6824ee-772c-4af8-bfe9-5a15372ea650",
        "colab": {
          "base_uri": "https://localhost:8080/",
          "height": 191
        }
      },
      "source": [
        "!pip install PyPDF2"
      ],
      "execution_count": 2,
      "outputs": [
        {
          "output_type": "stream",
          "text": [
            "Collecting PyPDF2\n",
            "\u001b[?25l  Downloading https://files.pythonhosted.org/packages/b4/01/68fcc0d43daf4c6bdbc6b33cc3f77bda531c86b174cac56ef0ffdb96faab/PyPDF2-1.26.0.tar.gz (77kB)\n",
            "\r\u001b[K     |████▎                           | 10kB 12.8MB/s eta 0:00:01\r\u001b[K     |████████▌                       | 20kB 3.4MB/s eta 0:00:01\r\u001b[K     |████████████▊                   | 30kB 4.8MB/s eta 0:00:01\r\u001b[K     |█████████████████               | 40kB 3.1MB/s eta 0:00:01\r\u001b[K     |█████████████████████▏          | 51kB 3.8MB/s eta 0:00:01\r\u001b[K     |█████████████████████████▍      | 61kB 4.5MB/s eta 0:00:01\r\u001b[K     |█████████████████████████████▋  | 71kB 5.2MB/s eta 0:00:01\r\u001b[K     |████████████████████████████████| 81kB 5.3MB/s \n",
            "\u001b[?25hBuilding wheels for collected packages: PyPDF2\n",
            "  Building wheel for PyPDF2 (setup.py) ... \u001b[?25l\u001b[?25hdone\n",
            "  Stored in directory: /root/.cache/pip/wheels/53/84/19/35bc977c8bf5f0c23a8a011aa958acd4da4bbd7a229315c1b7\n",
            "Successfully built PyPDF2\n",
            "Installing collected packages: PyPDF2\n",
            "Successfully installed PyPDF2-1.26.0\n"
          ],
          "name": "stdout"
        }
      ]
    },
    {
      "cell_type": "markdown",
      "metadata": {
        "id": "Q_IWg1bS6ZBr",
        "colab_type": "text"
      },
      "source": [
        "Adesso importiamolo."
      ]
    },
    {
      "cell_type": "code",
      "metadata": {
        "id": "P1fmEgUy6Xbu",
        "colab_type": "code",
        "colab": {}
      },
      "source": [
        "import PyPDF2"
      ],
      "execution_count": 0,
      "outputs": []
    },
    {
      "cell_type": "markdown",
      "metadata": {
        "id": "dHttkwHLGTF0",
        "colab_type": "text"
      },
      "source": [
        "Per caricare un PDF dobbiamo prima aprire i file in modalità binaria, possiamo farlo aggiungendo una 'b' al carattere con il permesso di lettura/scrittura/aggiunta, dopodiché passiamo il file all'oggetto *PdfFileReader* di PyPDF2."
      ]
    },
    {
      "cell_type": "code",
      "metadata": {
        "id": "fKd6Dlqu6ee8",
        "colab_type": "code",
        "colab": {}
      },
      "source": [
        "article_file = open('articolo_ai.pdf', mode='ab+')\n",
        "article_pdf = PyPDF2.PdfFileReader(article_file)"
      ],
      "execution_count": 0,
      "outputs": []
    },
    {
      "cell_type": "markdown",
      "metadata": {
        "id": "DQIlqZshrH3Y",
        "colab_type": "text"
      },
      "source": [
        "Per poter estrarre il testo dobbiamo essere sicuri che il PDF non sia protetto, possiamo farlo usando il metodo *getIsEncrypted()* che ritorna *True* se il PDF è protetto, *False* altrimenti."
      ]
    },
    {
      "cell_type": "code",
      "metadata": {
        "id": "e3KD3uLCd8Dl",
        "colab_type": "code",
        "outputId": "08ed4d58-91ed-4f8b-d757-56ee186d5e83",
        "colab": {
          "base_uri": "https://localhost:8080/",
          "height": 34
        }
      },
      "source": [
        "article_pdf.getIsEncrypted()"
      ],
      "execution_count": 7,
      "outputs": [
        {
          "output_type": "execute_result",
          "data": {
            "text/plain": [
              "False"
            ]
          },
          "metadata": {
            "tags": []
          },
          "execution_count": 7
        }
      ]
    },
    {
      "cell_type": "markdown",
      "metadata": {
        "id": "hSY0uEzkG6gz",
        "colab_type": "text"
      },
      "source": [
        "Perfetto, il PDF non è protetto ! Possiamo vedere il numero di pagine che contiene con l'attributo *numPages."
      ]
    },
    {
      "cell_type": "code",
      "metadata": {
        "id": "tyDs2iwvGrhX",
        "colab_type": "code",
        "outputId": "9cd6e6dc-5bd3-4e53-9db9-a885f5db9252",
        "colab": {
          "base_uri": "https://localhost:8080/",
          "height": 34
        }
      },
      "source": [
        "article_pdf.numPages"
      ],
      "execution_count": 0,
      "outputs": [
        {
          "output_type": "execute_result",
          "data": {
            "text/plain": [
              "7"
            ]
          },
          "metadata": {
            "tags": []
          },
          "execution_count": 61
        }
      ]
    },
    {
      "cell_type": "markdown",
      "metadata": {
        "id": "IUjEx6eVHJun",
        "colab_type": "text"
      },
      "source": [
        "Possiamo ottenere un'oggetto rappresentante la singola pagina con il metodo *getPages(n_page)* alla quale passeremo il numero di pagina, su questo oggetto possiamo usare il metodo *extractText()* per ottenere il testo."
      ]
    },
    {
      "cell_type": "code",
      "metadata": {
        "id": "lVo1N1dBHFWP",
        "colab_type": "code",
        "outputId": "a0935b3f-4eea-4f76-c65a-4939f8756a5a",
        "colab": {
          "base_uri": "https://localhost:8080/",
          "height": 308
        }
      },
      "source": [
        "page_one = article_pdf.getPage(0) # carichiamo la prima pagina\n",
        "page_one_text = page_one.extractText() # estraiamo il testo\n",
        "print(page_one_text)"
      ],
      "execution_count": 0,
      "outputs": [
        {
          "output_type": "stream",
          "text": [
            "Cosa ‘ lÕintelligenza \n",
            "artificiale\n",
            "!\n",
            "?LÕintelligenza artificiale (AI) ‘ indubbiamente il \n",
            "futuro, eppure ad oggi non ‘ chiaro a tutti cosa sia \n",
            "esattamente e in cosa consista.\n",
            "FarŸ quindi chiarezza su quella che ‘ la domanda \n",
            "del momento: ÒCosa diamine ‘ lÕintelligenza \n",
            "artificiale ?Ó\n",
            "Dare una risposta precisa ‘ molto difficile per \n",
            "diversi motivi, primo perch” non esiste una \n",
            "definizione univoca, se chiedi a cinque esperti \n",
            "potresti finire con avere cinque risposte diverse, \n",
            "secondo perch” lÕintelligenza artificiale ‘ un campo \n",
            "fortemente interdisciplinare, che mette insieme \n",
            "informatica, psicologia, biologia, neuroscienze e \n",
            "\n"
          ],
          "name": "stdout"
        }
      ]
    },
    {
      "cell_type": "markdown",
      "metadata": {
        "id": "o_zKGxJMrd4T",
        "colab_type": "text"
      },
      "source": [
        "Come vedi il testo del documento ha alcuni errori, questo è dovuto ad un problema di codifica e al largo utilizzo di apostrofi ed accenti che fa la lingua italiana. Correggiamo il problema creando una funzione che sostituisce i caratteri sbagliati."
      ]
    },
    {
      "cell_type": "code",
      "metadata": {
        "id": "qu_xVMi6jrLI",
        "colab_type": "code",
        "colab": {}
      },
      "source": [
        "def fix_text(text):\n",
        "  fixes = {'‘':'è','Õ':\"'\", 'Ò':'\"', 'Ó':'\"', '”':'è','Ÿ':'ò','‹':'à','š':'ù','!Ñ!':'-','ﬁ':'ì'}\n",
        "  for char in fixes.keys():\n",
        "    text = text.replace(char, fixes[char])\n",
        "  return text"
      ],
      "execution_count": 0,
      "outputs": []
    },
    {
      "cell_type": "markdown",
      "metadata": {
        "id": "qcM402ZxrtbN",
        "colab_type": "text"
      },
      "source": [
        "Testiamo la funzione sulla prima pagina del documento."
      ]
    },
    {
      "cell_type": "code",
      "metadata": {
        "id": "UVSri4yjkKe3",
        "colab_type": "code",
        "outputId": "b56ee19f-182f-4211-a61a-38e7e77c3852",
        "colab": {
          "base_uri": "https://localhost:8080/",
          "height": 308
        }
      },
      "source": [
        "print(fix_text(page_one_text))"
      ],
      "execution_count": 0,
      "outputs": [
        {
          "output_type": "stream",
          "text": [
            "Cosa è l'intelligenza \n",
            "artificiale\n",
            "!\n",
            "?L'intelligenza artificiale (AI) è indubbiamente il \n",
            "futuro, eppure ad oggi non è chiaro a tutti cosa sia \n",
            "esattamente e in cosa consista.\n",
            "Farò quindi chiarezza su quella che è la domanda \n",
            "del momento: \"Cosa diamine è l'intelligenza \n",
            "artificiale ?\"\n",
            "Dare una risposta precisa è molto difficile per \n",
            "diversi motivi, primo perchè non esiste una \n",
            "definizione univoca, se chiedi a cinque esperti \n",
            "potresti finire con avere cinque risposte diverse, \n",
            "secondo perchè l'intelligenza artificiale è un campo \n",
            "fortemente interdisciplinare, che mette insieme \n",
            "informatica, psicologia, biologia, neuroscienze e \n",
            "\n"
          ],
          "name": "stdout"
        }
      ]
    },
    {
      "cell_type": "markdown",
      "metadata": {
        "id": "DiSZm8Hkrzz3",
        "colab_type": "text"
      },
      "source": [
        "Decisamente meglio, adesso utilizziamo questa funzione iterando sulle pagine del documento per estrarre tutto il contenuto all'interno di un unica variabile."
      ]
    },
    {
      "cell_type": "code",
      "metadata": {
        "id": "suNHwsV2kMQd",
        "colab_type": "code",
        "outputId": "abae9b8e-e535-417b-c40e-ea3cb01c17ff",
        "colab": {
          "base_uri": "https://localhost:8080/",
          "height": 51
        }
      },
      "source": [
        "text = \"\"\n",
        "\n",
        "for i in range(article_pdf.numPages):\n",
        "  page_text = fix_text(article_pdf.getPage(i).extractText())\n",
        "  text+=page_text+\"\\n\"\n",
        "  \n",
        "print(\"Lettere totali nel documento: %d \" % len(text))\n",
        "print(\"Parole totali nel documento: %d \" % len(text.split()))"
      ],
      "execution_count": 0,
      "outputs": [
        {
          "output_type": "stream",
          "text": [
            "Lettere totali nel documento: 5074 \n",
            "Parole totali nel documento: 714 \n"
          ],
          "name": "stdout"
        }
      ]
    },
    {
      "cell_type": "markdown",
      "metadata": {
        "id": "OLRq2K_4sKtv",
        "colab_type": "text"
      },
      "source": [
        "Adesso la variabile *text* contiene tutto il testo del nostro PDF, stampiamola"
      ]
    },
    {
      "cell_type": "code",
      "metadata": {
        "id": "_KG3NMJ2sPO5",
        "colab_type": "code",
        "outputId": "c50e8294-a036-43ea-b9d2-0098495cfac9",
        "colab": {
          "base_uri": "https://localhost:8080/",
          "height": 2383
        }
      },
      "source": [
        "print(text)"
      ],
      "execution_count": 0,
      "outputs": [
        {
          "output_type": "stream",
          "text": [
            "Cosa è l'intelligenza \n",
            "artificiale\n",
            "!\n",
            "?L'intelligenza artificiale (AI) è indubbiamente il \n",
            "futuro, eppure ad oggi non è chiaro a tutti cosa sia \n",
            "esattamente e in cosa consista.\n",
            "Farò quindi chiarezza su quella che è la domanda \n",
            "del momento: \"Cosa diamine è l'intelligenza \n",
            "artificiale ?\"\n",
            "Dare una risposta precisa è molto difficile per \n",
            "diversi motivi, primo perchè non esiste una \n",
            "definizione univoca, se chiedi a cinque esperti \n",
            "potresti finire con avere cinque risposte diverse, \n",
            "secondo perchè l'intelligenza artificiale è un campo \n",
            "fortemente interdisciplinare, che mette insieme \n",
            "informatica, psicologia, biologia, neuroscienze e \n",
            "\n",
            "ovviamente matematica, specialmente statistica e \n",
            "calcolo delle probabilità.\n",
            "Un fatto curioso è che generalmente si tende a \n",
            "riconoscere come \"intelligenza artificiale\" metodi e \n",
            "tecnologie informatiche che riescono a suscitare \n",
            "l'effetto WOW nell'utente medio. Poi, nel momento \n",
            "in cui ci abituiamo a tali nuove scoperte \n",
            "tecnologiche, ecco che in quel momento fuoriescono \n",
            "dal cerchio dell'AI.\n",
            "Data questa premessa proviamo a dare una \n",
            "definizione, cominciando riportandone una \n",
            "direttamente dal dizionario, più precisamente \n",
            "quella del \"English Oxford Living Dictionary\":\n",
            "\"L'intelligenza artificiale è la teoria e lo \n",
            "sviluppo di un sistema informatico in grado di \n",
            "eseguire compiti che normalmente richiedono \n",
            "l'intelligenza umana, come la percezione visiva, \n",
            "il riconoscimento del parlato, il processo \n",
            "\n",
            "decisionale e la traduzione tra diverse lingue\".\n",
            "Quindi l'intelligenza artificiale è semplicemente \n",
            "un software che replica digitalmente \n",
            "l'intelligenza naturale, ottimo, problema risolto, \n",
            "smetto di scrivere e vado a bermi un caffè.\n",
            "Ma aspetta un secondo, voglio farti una \n",
            "domanda, saresti in grado di dare un definizione \n",
            "chiara e concisa di cosa è l'intelligenza\n",
            "!\n",
            "? Non \n",
            "parlo dell'intelligenza artificiale, ma di quella \n",
            "naturale che abbiamo tutti nelle nostre teste, va \n",
            "bene quasi tutti.\n",
            "Ecco, siamo di nuovo al punto di partenza.\n",
            "Piuttosto che provare a dare una definizione \n",
            "formale di intelligenza, che potrebbe aprire non \n",
            "pochi dibattiti, vediamo insieme quali sono le \n",
            "caratteristiche dell'intelligenza naturale, quelle \n",
            "che ci permettono di identificare una data entità \n",
            "come \"intelligente\":\n",
            "un'entità intelligente è in grado di utilizzare \n",
            "i propri sensi per percepire l'ambiente \n",
            "\n",
            "intorno a se (\n",
            "Percezione\n",
            ")un'entità intelligente è in grado di esplorare \n",
            "e manipolare l'ambiente intorno a se \n",
            "(Esplorazione\n",
            ")un'entità intelligente è in grado di \n",
            "comprendere l'ambiente intorno a se e \n",
            "superare ostacoli (\n",
            "Ragionamento e \n",
            "Problem solving\n",
            ")un'entità intelligente è in grado di \n",
            "apprendere autonomamente dall'esperienza \n",
            "accumulata (Apprendimento\n",
            ")un'entità intelligente è in grado di \n",
            "comunicare con altre entità intelligenti \n",
            "(Comunicazione\n",
            ")un'entità intelligente non condivide un \n",
            "articolo prima di averne validato la \n",
            "veridicità (\n",
            "Buon senso\n",
            ")Quello che l'intelligenza artificiale vuol fare è \n",
            "dotare un computer di queste facoltà, per far sﬁ \n",
            "\n",
            "che possa sfruttare insieme la sua potenza di \n",
            "calcolo e la flessibilità della mente umana e lo \n",
            "sta già facendo con successo.\n",
            "Riuscire a dotare una macchina di tutte queste \n",
            "facoltà e renderla in grado di risolvere qualsiasi \n",
            "problema tipicamente umano vorrebbe dire \n",
            "creare un sistema di intelligenza artificiale \n",
            "generale (\n",
            "Artificial General Intelligence\n",
            "-AGI) e attualmente questo è stato fatto \n",
            "solamente a Hollywood o nella mente visionaria \n",
            "di qualche scrittore di fantascienza.\n",
            "Un altro approccio più realistico e più \n",
            "commerciale consiste nel dotare il computer \n",
            "solo di una o alcune di queste caratteristiche e \n",
            "istruirlo per risolvere un unico compito specifico \n",
            "(Narrow artificial intelligence\n",
            ") che quindi \n",
            "equivale a creare un sistema di intelligenza \n",
            "artificiale specializzato, viviamo già tra sistemi \n",
            "di questo tipo senza neanche saperlo, eccoti \n",
            "alcuni esempi:\n",
            "\n",
            "Siri, Alexa, Cortana e tutti gli altri assistenti \n",
            "virtuali\n",
            "Google Search, Google Translate e \n",
            "praticamente tutti gli altri servizi di Google\n",
            "I terrificanti sistemi di riconoscimento \n",
            "facciale che stanno superando la perfomance \n",
            "umanaAuto a guida autonoma\n",
            "Sistemi di raccomandazione come quelli \n",
            "usati da Amazon, Netflix e Spotify\n",
            "Qualsiasi videogioco a cui tu abbia mai \n",
            "giocato negli ultimi 20 anni\n",
            "E' possibile applicare l'intelligenza artificiale a \n",
            "qualsiasi settore e non solo a quello tecnologico, \n",
            "secondo molti l'AI potrebbe addirittura avere \n",
            "sulla nostra società lo stesso impatto che ha già \n",
            "avuto la diffusione dell'energia elettrica un \n",
            "centinaio di anni fa, aprendo la strada verso \n",
            "\n",
            "nuove frontiere dell'automazione che finiranno \n",
            "per trasformare radicalmente innumerevoli \n",
            "settori.\n",
            "L'intelligenza artificiale sta progredendo in \n",
            "maniera esponenziale, grazie soprattutto ai \n",
            "progressi nel\n",
            "!machine learning\n",
            ", e il suo utilizzo \n",
            "non è limitato alle grandi multinazionali, ma \n",
            "chiunque, dal piccolo imprenditore, passando \n",
            "per il singolo professionista, fino al panificio \n",
            "sotto casa tua, potrà trarne un diretto vantaggio \n",
            "se imparerà a sfruttarla nel modo corretto.\n",
            "\n",
            "\n"
          ],
          "name": "stdout"
        }
      ]
    },
    {
      "cell_type": "markdown",
      "metadata": {
        "id": "0kebpgYzsQdh",
        "colab_type": "text"
      },
      "source": [
        "C'è qualche problema con spazi e a capo, molto probabilmente dovuti alla formattazione del testo nel PDF. Formattiamolo noi in maniera migliore rimuovendo tutti i caratteri a capo e andando a capo dopo ogni punto."
      ]
    },
    {
      "cell_type": "code",
      "metadata": {
        "id": "-XtUsFa6lvdp",
        "colab_type": "code",
        "outputId": "882ce6cf-bc5e-49be-b9fd-7cf7d4196a4e",
        "colab": {
          "base_uri": "https://localhost:8080/",
          "height": 260
        }
      },
      "source": [
        "text = text.replace(\"\\n\",\"\")\n",
        "text = text.replace(\".\",\".\\n\")\n",
        "print(text)"
      ],
      "execution_count": 0,
      "outputs": [
        {
          "output_type": "stream",
          "text": [
            "Cosa è l'intelligenza artificiale!?L'intelligenza artificiale (AI) è indubbiamente il futuro, eppure ad oggi non è chiaro a tutti cosa sia esattamente e in cosa consista.\n",
            "Farò quindi chiarezza su quella che è la domanda del momento: \"Cosa diamine è l'intelligenza artificiale ?\"Dare una risposta precisa è molto difficile per diversi motivi, primo perchè non esiste una definizione univoca, se chiedi a cinque esperti potresti finire con avere cinque risposte diverse, secondo perchè l'intelligenza artificiale è un campo fortemente interdisciplinare, che mette insieme informatica, psicologia, biologia, neuroscienze e ovviamente matematica, specialmente statistica e calcolo delle probabilità.\n",
            "Un fatto curioso è che generalmente si tende a riconoscere come \"intelligenza artificiale\" metodi e tecnologie informatiche che riescono a suscitare l'effetto WOW nell'utente medio.\n",
            " Poi, nel momento in cui ci abituiamo a tali nuove scoperte tecnologiche, ecco che in quel momento fuoriescono dal cerchio dell'AI.\n",
            "Data questa premessa proviamo a dare una definizione, cominciando riportandone una direttamente dal dizionario, più precisamente quella del \"English Oxford Living Dictionary\":\"L'intelligenza artificiale è la teoria e lo sviluppo di un sistema informatico in grado di eseguire compiti che normalmente richiedono l'intelligenza umana, come la percezione visiva, il riconoscimento del parlato, il processo decisionale e la traduzione tra diverse lingue\".\n",
            "Quindi l'intelligenza artificiale è semplicemente un software che replica digitalmente l'intelligenza naturale, ottimo, problema risolto, smetto di scrivere e vado a bermi un caffè.\n",
            "Ma aspetta un secondo, voglio farti una domanda, saresti in grado di dare un definizione chiara e concisa di cosa è l'intelligenza!? Non parlo dell'intelligenza artificiale, ma di quella naturale che abbiamo tutti nelle nostre teste, va bene quasi tutti.\n",
            "Ecco, siamo di nuovo al punto di partenza.\n",
            "Piuttosto che provare a dare una definizione formale di intelligenza, che potrebbe aprire non pochi dibattiti, vediamo insieme quali sono le caratteristiche dell'intelligenza naturale, quelle che ci permettono di identificare una data entità come \"intelligente\":un'entità intelligente è in grado di utilizzare i propri sensi per percepire l'ambiente intorno a se (Percezione)un'entità intelligente è in grado di esplorare e manipolare l'ambiente intorno a se (Esplorazione)un'entità intelligente è in grado di comprendere l'ambiente intorno a se e superare ostacoli (Ragionamento e Problem solving)un'entità intelligente è in grado di apprendere autonomamente dall'esperienza accumulata (Apprendimento)un'entità intelligente è in grado di comunicare con altre entità intelligenti (Comunicazione)un'entità intelligente non condivide un articolo prima di averne validato la veridicità (Buon senso)Quello che l'intelligenza artificiale vuol fare è dotare un computer di queste facoltà, per far sﬁ che possa sfruttare insieme la sua potenza di calcolo e la flessibilità della mente umana e lo sta già facendo con successo.\n",
            "Riuscire a dotare una macchina di tutte queste facoltà e renderla in grado di risolvere qualsiasi problema tipicamente umano vorrebbe dire creare un sistema di intelligenza artificiale generale (Artificial General Intelligence-AGI) e attualmente questo è stato fatto solamente a Hollywood o nella mente visionaria di qualche scrittore di fantascienza.\n",
            "Un altro approccio più realistico e più commerciale consiste nel dotare il computer solo di una o alcune di queste caratteristiche e istruirlo per risolvere un unico compito specifico (Narrow artificial intelligence) che quindi equivale a creare un sistema di intelligenza artificiale specializzato, viviamo già tra sistemi di questo tipo senza neanche saperlo, eccoti alcuni esempi:Siri, Alexa, Cortana e tutti gli altri assistenti virtualiGoogle Search, Google Translate e praticamente tutti gli altri servizi di GoogleI terrificanti sistemi di riconoscimento facciale che stanno superando la perfomance umanaAuto a guida autonomaSistemi di raccomandazione come quelli usati da Amazon, Netflix e SpotifyQualsiasi videogioco a cui tu abbia mai giocato negli ultimi 20 anniE' possibile applicare l'intelligenza artificiale a qualsiasi settore e non solo a quello tecnologico, secondo molti l'AI potrebbe addirittura avere sulla nostra società lo stesso impatto che ha già avuto la diffusione dell'energia elettrica un centinaio di anni fa, aprendo la strada verso nuove frontiere dell'automazione che finiranno per trasformare radicalmente innumerevoli settori.\n",
            "L'intelligenza artificiale sta progredendo in maniera esponenziale, grazie soprattutto ai progressi nel!machine learning, e il suo utilizzo non è limitato alle grandi multinazionali, ma chiunque, dal piccolo imprenditore, passando per il singolo professionista, fino al panificio sotto casa tua, potrà trarne un diretto vantaggio se imparerà a sfruttarla nel modo corretto.\n",
            "\n"
          ],
          "name": "stdout"
        }
      ]
    },
    {
      "cell_type": "markdown",
      "metadata": {
        "id": "cSFnDWbpshCb",
        "colab_type": "text"
      },
      "source": [
        "Decisamente meglio, adesso il nostro testo è pronto :)."
      ]
    }
  ]
}
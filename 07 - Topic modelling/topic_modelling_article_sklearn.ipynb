{
  "nbformat": 4,
  "nbformat_minor": 0,
  "metadata": {
    "colab": {
      "name": "topic_modelling_article_sklearn.ipynb",
      "version": "0.3.2",
      "provenance": [],
      "collapsed_sections": [],
      "include_colab_link": true
    },
    "kernelspec": {
      "name": "python3",
      "display_name": "Python 3"
    }
  },
  "cells": [
    {
      "cell_type": "markdown",
      "metadata": {
        "id": "view-in-github",
        "colab_type": "text"
      },
      "source": [
        "<a href=\"https://colab.research.google.com/github/ProfAI/nlp00/blob/master/07%20-%20Topic%20modelling/topic_modelling_article_sklearn.ipynb\" target=\"_parent\"><img src=\"https://colab.research.google.com/assets/colab-badge.svg\" alt=\"Open In Colab\"/></a>"
      ]
    },
    {
      "cell_type": "markdown",
      "metadata": {
        "id": "DI0uzqz6Z1Dy",
        "colab_type": "text"
      },
      "source": [
        "# Topic modelling con Scikit-learn\n",
        "Latent Dirichlet allocation (LDA) è un modello statistico che ci permette di associare ogni documento del nostro corpus di testo a degli argomenti (topic) quantificando quanto il documento è inerente a tale argomento. Ad esempio, prendiamo la frase: \"Il calciatore e la velina si sono spostati a Parigi\", l'analisi LDA potrebbe stabilire che la frase riguarda al 80% gossip e al 20% sport. I topic del LDA non contengono il nome specifico dell'argomento (come in questo caso sport o gossip) ma le parole chiave del topic, quindi sta a noi utilizzando queste risalire al topic. \n",
        "\n",
        "In questo notebook cerchermo di identificare gli argomenti di quasi 10mila articoli tratti dal New York Times utilizzando LDA con scikit-learn.\n"
      ]
    },
    {
      "cell_type": "markdown",
      "metadata": {
        "id": "kJ1APi1SLZX7",
        "colab_type": "text"
      },
      "source": [
        "## Installare le API di Kaggle\n",
        "Il dataset contenente le notizie estratte dal New York Times è presente su Kaggle a [questo indirizzo](https://www.kaggle.com/nzalake52/new-york-times-articles), per scaricarlo devi creare un'account gratuito. per scaricare l'ultima versione aggiornata devi registrarti su Kaggle. Se utilizzi Google Colab può essere utile scaricare il dataset usando le API di Kaggle. Cominciamo installando il modulo kaggle usando pip (dovrebbe essere già installato, ma facciamolo comunque per sicurezza).\n",
        "\n"
      ]
    },
    {
      "cell_type": "code",
      "metadata": {
        "id": "pgzfnQ15FlNj",
        "colab_type": "code",
        "colab": {
          "base_uri": "https://localhost:8080/",
          "height": 226
        },
        "outputId": "a7a9533d-eb44-44e1-862d-10913dbfe82a"
      },
      "source": [
        "!pip install kaggle"
      ],
      "execution_count": 3,
      "outputs": [
        {
          "output_type": "stream",
          "text": [
            "Requirement already satisfied: kaggle in /usr/local/lib/python3.6/dist-packages (1.5.4)\n",
            "Requirement already satisfied: urllib3<1.25,>=1.21.1 in /usr/local/lib/python3.6/dist-packages (from kaggle) (1.24.3)\n",
            "Requirement already satisfied: tqdm in /usr/local/lib/python3.6/dist-packages (from kaggle) (4.28.1)\n",
            "Requirement already satisfied: python-slugify in /usr/local/lib/python3.6/dist-packages (from kaggle) (3.0.2)\n",
            "Requirement already satisfied: six>=1.10 in /usr/local/lib/python3.6/dist-packages (from kaggle) (1.12.0)\n",
            "Requirement already satisfied: python-dateutil in /usr/local/lib/python3.6/dist-packages (from kaggle) (2.5.3)\n",
            "Requirement already satisfied: certifi in /usr/local/lib/python3.6/dist-packages (from kaggle) (2019.3.9)\n",
            "Requirement already satisfied: requests in /usr/local/lib/python3.6/dist-packages (from kaggle) (2.21.0)\n",
            "Requirement already satisfied: text-unidecode==1.2 in /usr/local/lib/python3.6/dist-packages (from python-slugify->kaggle) (1.2)\n",
            "Requirement already satisfied: idna<2.9,>=2.5 in /usr/local/lib/python3.6/dist-packages (from requests->kaggle) (2.8)\n",
            "Requirement already satisfied: chardet<3.1.0,>=3.0.2 in /usr/local/lib/python3.6/dist-packages (from requests->kaggle) (3.0.4)\n"
          ],
          "name": "stdout"
        }
      ]
    },
    {
      "cell_type": "markdown",
      "metadata": {
        "id": "tPA4W0H7ah4k",
        "colab_type": "text"
      },
      "source": [
        "Per utilizzare le API di Kaggle dobbiamo creare un API Token, puoi farlo così:\n",
        "1. Recati su Kaggle ed effettua il login.\n",
        "2. Clicca sulla tua immagine di profilo in alto a destra.\n",
        "3. Seleziona \"My Account\" dal menu a tendina.\n",
        "4. Recati nella sezione API\n",
        "5. Clicca su \"Create new API Token\"\n",
        "\n",
        "Un file kaggle.json verrà scaricato sul tuo pc, aprilo ed incolla i valori per username nel codice qui sotto, ci servirà per generare il file .kaggle necessario per l'utilizzo delle API."
      ]
    },
    {
      "cell_type": "code",
      "metadata": {
        "id": "CbaNHZadE1cj",
        "colab_type": "code",
        "colab": {}
      },
      "source": [
        "from os import listdir\n",
        "\n",
        "user = \"INCOLLA QUI IL TUO USERNAME\"\n",
        "key = \"INCOLLA QUI LA TUA API TOKEN\"\n",
        "\n",
        "if '.kaggle' not in listdir('/root'):\n",
        "    !mkdir ~/.kaggle\n",
        "!touch /root/.kaggle/kaggle.json\n",
        "!chmod 666 /root/.kaggle/kaggle.json\n",
        "with open('/root/.kaggle/kaggle.json', 'w') as f:\n",
        "    f.write('{\"username\":\"%s\",\"key\":\"%s\"}' % (user, key))\n",
        "!chmod 600 /root/.kaggle/kaggle.json"
      ],
      "execution_count": 0,
      "outputs": []
    },
    {
      "cell_type": "markdown",
      "metadata": {
        "id": "W_PNbPkULhYE",
        "colab_type": "text"
      },
      "source": [
        "## Scarichiamo il dataset"
      ]
    },
    {
      "cell_type": "markdown",
      "metadata": {
        "id": "ZPi8a58YcFdT",
        "colab_type": "text"
      },
      "source": [
        "Scarichiamo il dataset usando le API di Kaggle."
      ]
    },
    {
      "cell_type": "code",
      "metadata": {
        "id": "xBRTqcXmFcMv",
        "colab_type": "code",
        "colab": {
          "base_uri": "https://localhost:8080/",
          "height": 68
        },
        "outputId": "32c0b892-47e2-41c5-d5a2-45c9341d426c"
      },
      "source": [
        "!kaggle datasets download nzalake52/new-york-times-articles"
      ],
      "execution_count": 5,
      "outputs": [
        {
          "output_type": "stream",
          "text": [
            "Downloading new-york-times-articles.zip to /content\n",
            " 30% 5.00M/16.9M [00:00<00:00, 21.2MB/s]\n",
            "100% 16.9M/16.9M [00:00<00:00, 56.3MB/s]\n"
          ],
          "name": "stdout"
        }
      ]
    },
    {
      "cell_type": "markdown",
      "metadata": {
        "id": "qTRvwMvHcRBw",
        "colab_type": "text"
      },
      "source": [
        "Estraimo il file zip usando unzip."
      ]
    },
    {
      "cell_type": "code",
      "metadata": {
        "id": "TAEVAOIXFt1T",
        "colab_type": "code",
        "colab": {
          "base_uri": "https://localhost:8080/",
          "height": 51
        },
        "outputId": "9ada79eb-24eb-4ba5-9031-76162b85245e"
      },
      "source": [
        "!unzip new-york-times-articles.zip"
      ],
      "execution_count": 6,
      "outputs": [
        {
          "output_type": "stream",
          "text": [
            "Archive:  new-york-times-articles.zip\n",
            "  inflating: nytimes_news_articles.txt  \n"
          ],
          "name": "stdout"
        }
      ]
    },
    {
      "cell_type": "markdown",
      "metadata": {
        "id": "PXP8uXV3cXd7",
        "colab_type": "text"
      },
      "source": [
        "Ora possiamo aprire il file txt usando python."
      ]
    },
    {
      "cell_type": "code",
      "metadata": {
        "id": "9dsXnZXgF7rw",
        "colab_type": "code",
        "colab": {
          "base_uri": "https://localhost:8080/",
          "height": 140
        },
        "outputId": "447aafe4-f4dd-46ae-bb61-2f99fe6358e3"
      },
      "source": [
        "news_file = open(\"nytimes_news_articles.txt\")\n",
        "news = news_file.read()\n",
        "\n",
        "print(news[:1000])"
      ],
      "execution_count": 116,
      "outputs": [
        {
          "output_type": "stream",
          "text": [
            "URL: http://www.nytimes.com/2016/06/30/sports/baseball/washington-nationals-max-scherzer-baffles-mets-completing-a-sweep.html\n",
            "\n",
            "WASHINGTON — Stellar pitching kept the Mets afloat in the first half of last season despite their offensive woes. But they cannot produce an encore of their pennant-winning season if their lineup keeps floundering while their pitching is nicked, bruised and stretched thin.\n",
            "“We were going to ride our pitching,” Manager Terry Collins said before Wednesday’s game. “But we’re not riding it right now. We’ve got as many problems with our pitching as we do anything.”\n",
            "Wednesday’s 4-2 loss to the Washington Nationals was cruel for the already-limping Mets. Pitching in Steven Matz’s place, the spot starter Logan Verrett allowed two runs over five innings. But even that was too large a deficit for the Mets’ lineup to overcome against Max Scherzer, the Nationals’ starter.\n",
            "“We’re not even giving ourselves chances,” Collins said, adding later, “We just can’t give our pitcher\n"
          ],
          "name": "stdout"
        }
      ]
    },
    {
      "cell_type": "markdown",
      "metadata": {
        "id": "Yk8oWGDELkm4",
        "colab_type": "text"
      },
      "source": [
        "## Preprocessiamo i dati\n",
        "Ogni articolo è introdotto dall'URL, usiamo questo pattern per dividere gli articoli."
      ]
    },
    {
      "cell_type": "code",
      "metadata": {
        "id": "0O9KBOAWGKjF",
        "colab_type": "code",
        "colab": {
          "base_uri": "https://localhost:8080/",
          "height": 34
        },
        "outputId": "3d934542-c6f5-4dce-b999-8b7b9305a89b"
      },
      "source": [
        "import re\n",
        "\n",
        "news_split = re.split(\"URL: http://www.nytimes.com/\\S+\", news)\n",
        "del news_split[0] # il primo elemento è vuoto, rimuoviamolo \n",
        "print(len(news_split))"
      ],
      "execution_count": 117,
      "outputs": [
        {
          "output_type": "stream",
          "text": [
            "8888\n"
          ],
          "name": "stdout"
        }
      ]
    },
    {
      "cell_type": "markdown",
      "metadata": {
        "id": "XvqAEqdbdmpC",
        "colab_type": "text"
      },
      "source": [
        "Abbiamo 8888 articoli, stampiamo il primo."
      ]
    },
    {
      "cell_type": "code",
      "metadata": {
        "id": "cSLthEQCdlq9",
        "colab_type": "code",
        "colab": {
          "base_uri": "https://localhost:8080/",
          "height": 54
        },
        "outputId": "bc46f45e-e413-47d2-f9a1-e0b4d61903cc"
      },
      "source": [
        "news_split[0]"
      ],
      "execution_count": 118,
      "outputs": [
        {
          "output_type": "execute_result",
          "data": {
            "text/plain": [
              "'\\n\\nWASHINGTON — Stellar pitching kept the Mets afloat in the first half of last season despite their offensive woes. But they cannot produce an encore of their pennant-winning season if their lineup keeps floundering while their pitching is nicked, bruised and stretched thin.\\n“We were going to ride our pitching,” Manager Terry Collins said before Wednesday’s game. “But we’re not riding it right now. We’ve got as many problems with our pitching as we do anything.”\\nWednesday’s 4-2 loss to the Washington Nationals was cruel for the already-limping Mets. Pitching in Steven Matz’s place, the spot starter Logan Verrett allowed two runs over five innings. But even that was too large a deficit for the Mets’ lineup to overcome against Max Scherzer, the Nationals’ starter.\\n“We’re not even giving ourselves chances,” Collins said, adding later, “We just can’t give our pitchers any room to work.”\\nThe Mets did not score until the ninth inning, when a last-gasp two-run homer by James Loney off Nationals reliever Shawn Kelley snapped a streak of 23 scoreless innings for the team.\\nThe Mets were swept in the three-game series and fell six games behind the Nationals in the National League East. Of late, the Mets have looked worse than their 40-37 record.\\n“I don’t think we’ve played half our games yet this year,” right fielder Curtis Granderson said. “There’s still a lot of things left that can and hopefully will happen.”\\nScherzer toyed with the Mets, who were initially without Granderson after he was scratched from the lineup with lingering calf tightness. Even though Granderson has been inconsistent this season, he had hit well against Scherzer in the past. Alejandro De Aza, who entered the game with a .165 average, started in right field instead because Collins said the team had few options.\\nAfter Scherzer gave up a single to Asdrubal Cabrera and walked Loney in the second inning, he retired the next 18 batters, until an eighth-inning single by Brandon Nimmo.\\nThe Mets struggled again with runners on base. After Nimmo and the pinch-hitting Granderson singled in the eighth, pinch-hitter Travis d’Arnaud grounded out, and De Aza struck out.\\n“If they keep adding pressure on themselves, they’re going to continue to struggle,” Collins said. “That’s one of the things we try to make sure they have to understand: They have to be themselves.”\\nGeneral Manager Sandy Alderson, Collins and the coaching staff have met about the offense and discussed the odd dynamics: Some players are performing at or better than their career averages, but the lineup as a whole has struggled immensely, especially with runners in scoring position.\\n“We’re just not driving in any runs,” Collins said. “That’s been the frustrating part. It’s not that we’re striking out. We’re popping up, or a double-play ball.”\\nThe Mets have a power-hitting team, so asking players to bunt or hit and run would go against their strengths.\\n“When you start to change a team that’s built one way and start to make them do something different, you’re going to get your butt beat,” Collins said.\\nEarlier in the season, the Mets appeared like an all-or-nothing, home-run-driven team. Although they hit only .211 as a team in May, they smashed 40 home runs. They have a higher average in June, but they have hit only 24 homers, and the inconsistent offense has put a strain on the pitching staff.\\nIn the second inning, Verrett gave up a solo home run to the ex-Met Daniel Murphy. Collins wanted to limit the workloads of Addison Reed and Jeurys Familia, so he turned to reliever Sean Gilmartin in the eighth. Gilmartin gave up a two-run homer to Murphy, who has hit .429 (15 for 35) with four home runs against the Mets this season, his first since leaving the team.\\n“I felt like I kept us in the game and gave us a chance to come back and win it,” Verrett said. “I wish that I wouldn’t have given up the two runs.”\\nVerrett was put in this position because of the effects of bone spurs on the Mets’ rotation. The team asked Verrett to start Wednesday and gave Matz an extra day of rest after he received anti-inflammatory medication for the large bone spur in his left elbow. He will try to pitch through it.\\nNoah Syndergaard has a smaller and less intrusive bone spur in the back of his right elbow.\\n“As long as I’m staying on my anti-inflammatories and my mechanics are on point, I’m able to go out there every five days and compete,” Syndergaard said.\\nFor the Mets, the immediate road ahead will be even tougher. Matz was expected to pitch Thursday against the Chicago Cubs, one of the best teams in baseball this season.\\n\\n'"
            ]
          },
          "metadata": {
            "tags": []
          },
          "execution_count": 118
        }
      ]
    },
    {
      "cell_type": "markdown",
      "metadata": {
        "id": "fXKEWj2Lcn4w",
        "colab_type": "text"
      },
      "source": [
        "Rimuoviamo i caratteri di a capo da ogni articolo."
      ]
    },
    {
      "cell_type": "code",
      "metadata": {
        "id": "xbR62TprMbor",
        "colab_type": "code",
        "colab": {
          "base_uri": "https://localhost:8080/",
          "height": 54
        },
        "outputId": "17ac4d11-20b8-4f49-b480-351b6b231124"
      },
      "source": [
        "import string\n",
        "\n",
        "#news_split = [news.replace(\"\\n\",\"\").lower().translate((str.maketrans('', '', string.punctuation))) for news in news_split]\n",
        "news_split = [news.replace(\"\\n\",\"\") for news in news_split]\n",
        "news_split[0]"
      ],
      "execution_count": 42,
      "outputs": [
        {
          "output_type": "execute_result",
          "data": {
            "text/plain": [
              "'WASHINGTON — Stellar pitching kept the Mets afloat in the first half of last season despite their offensive woes. But they cannot produce an encore of their pennant-winning season if their lineup keeps floundering while their pitching is nicked, bruised and stretched thin.“We were going to ride our pitching,” Manager Terry Collins said before Wednesday’s game. “But we’re not riding it right now. We’ve got as many problems with our pitching as we do anything.”Wednesday’s 4-2 loss to the Washington Nationals was cruel for the already-limping Mets. Pitching in Steven Matz’s place, the spot starter Logan Verrett allowed two runs over five innings. But even that was too large a deficit for the Mets’ lineup to overcome against Max Scherzer, the Nationals’ starter.“We’re not even giving ourselves chances,” Collins said, adding later, “We just can’t give our pitchers any room to work.”The Mets did not score until the ninth inning, when a last-gasp two-run homer by James Loney off Nationals reliever Shawn Kelley snapped a streak of 23 scoreless innings for the team.The Mets were swept in the three-game series and fell six games behind the Nationals in the National League East. Of late, the Mets have looked worse than their 40-37 record.“I don’t think we’ve played half our games yet this year,” right fielder Curtis Granderson said. “There’s still a lot of things left that can and hopefully will happen.”Scherzer toyed with the Mets, who were initially without Granderson after he was scratched from the lineup with lingering calf tightness. Even though Granderson has been inconsistent this season, he had hit well against Scherzer in the past. Alejandro De Aza, who entered the game with a .165 average, started in right field instead because Collins said the team had few options.After Scherzer gave up a single to Asdrubal Cabrera and walked Loney in the second inning, he retired the next 18 batters, until an eighth-inning single by Brandon Nimmo.The Mets struggled again with runners on base. After Nimmo and the pinch-hitting Granderson singled in the eighth, pinch-hitter Travis d’Arnaud grounded out, and De Aza struck out.“If they keep adding pressure on themselves, they’re going to continue to struggle,” Collins said. “That’s one of the things we try to make sure they have to understand: They have to be themselves.”General Manager Sandy Alderson, Collins and the coaching staff have met about the offense and discussed the odd dynamics: Some players are performing at or better than their career averages, but the lineup as a whole has struggled immensely, especially with runners in scoring position.“We’re just not driving in any runs,” Collins said. “That’s been the frustrating part. It’s not that we’re striking out. We’re popping up, or a double-play ball.”The Mets have a power-hitting team, so asking players to bunt or hit and run would go against their strengths.“When you start to change a team that’s built one way and start to make them do something different, you’re going to get your butt beat,” Collins said.Earlier in the season, the Mets appeared like an all-or-nothing, home-run-driven team. Although they hit only .211 as a team in May, they smashed 40 home runs. They have a higher average in June, but they have hit only 24 homers, and the inconsistent offense has put a strain on the pitching staff.In the second inning, Verrett gave up a solo home run to the ex-Met Daniel Murphy. Collins wanted to limit the workloads of Addison Reed and Jeurys Familia, so he turned to reliever Sean Gilmartin in the eighth. Gilmartin gave up a two-run homer to Murphy, who has hit .429 (15 for 35) with four home runs against the Mets this season, his first since leaving the team.“I felt like I kept us in the game and gave us a chance to come back and win it,” Verrett said. “I wish that I wouldn’t have given up the two runs.”Verrett was put in this position because of the effects of bone spurs on the Mets’ rotation. The team asked Verrett to start Wednesday and gave Matz an extra day of rest after he received anti-inflammatory medication for the large bone spur in his left elbow. He will try to pitch through it.Noah Syndergaard has a smaller and less intrusive bone spur in the back of his right elbow.“As long as I’m staying on my anti-inflammatories and my mechanics are on point, I’m able to go out there every five days and compete,” Syndergaard said.For the Mets, the immediate road ahead will be even tougher. Matz was expected to pitch Thursday against the Chicago Cubs, one of the best teams in baseball this season.'"
            ]
          },
          "metadata": {
            "tags": []
          },
          "execution_count": 42
        }
      ]
    },
    {
      "cell_type": "markdown",
      "metadata": {
        "id": "kxBqqt1hc1I6",
        "colab_type": "text"
      },
      "source": [
        "## LDA con Bag of Words"
      ]
    },
    {
      "cell_type": "markdown",
      "metadata": {
        "id": "uvU0r-yKc_P0",
        "colab_type": "text"
      },
      "source": [
        "Ora dobbiamo codificare gli articoli in numeri, facciamolo usando il modello  bag of words. Due note sui parametri: \n",
        " - Il parametro *lowercase* ci permette di convertire tutto in minuscolo, questo parametro è impostato a True di default, quindi avremmo ance potuto ometterlo.\n",
        " - Il parametro *stop_words* ci permette di rimuovere le stop words, come valore dobbiamo passargli la lingua."
      ]
    },
    {
      "cell_type": "code",
      "metadata": {
        "id": "7uQRE2oGN6Sy",
        "colab_type": "code",
        "colab": {
          "base_uri": "https://localhost:8080/",
          "height": 34
        },
        "outputId": "cd646133-be54-4ae4-f421-7691fb00f53d"
      },
      "source": [
        "from sklearn.feature_extraction.text import CountVectorizer\n",
        "\n",
        "bow = CountVectorizer(max_features=5000, stop_words=\"english\", lowercase=True)\n",
        "X = bow.fit_transform(news_split)\n",
        "X.shape"
      ],
      "execution_count": 43,
      "outputs": [
        {
          "output_type": "execute_result",
          "data": {
            "text/plain": [
              "(8888, 5000)"
            ]
          },
          "metadata": {
            "tags": []
          },
          "execution_count": 43
        }
      ]
    },
    {
      "cell_type": "markdown",
      "metadata": {
        "id": "nMxtGdzyd0zZ",
        "colab_type": "text"
      },
      "source": [
        "Adesso creiamo il modello LDA usando la classe *LatentDirichletAllocation* di sklearn, il mumero di topic va definito a priori all'interno del parametro n_components, impostiamolo a 25."
      ]
    },
    {
      "cell_type": "code",
      "metadata": {
        "id": "ZJfHR_qzP-B-",
        "colab_type": "code",
        "colab": {
          "base_uri": "https://localhost:8080/",
          "height": 411
        },
        "outputId": "b757c06b-9368-4400-ef80-2b1a5d6eaf32"
      },
      "source": [
        "from sklearn.decomposition import LatentDirichletAllocation as LDA\n",
        "\n",
        "n_topics = 25\n",
        "\n",
        "lda = LDA(n_components=n_topics, max_iter=10, verbose=True)\n",
        "lda.fit_transform(X)"
      ],
      "execution_count": 46,
      "outputs": [
        {
          "output_type": "stream",
          "text": [
            "iteration: 1 of max_iter: 10\n",
            "iteration: 2 of max_iter: 10\n",
            "iteration: 3 of max_iter: 10\n",
            "iteration: 4 of max_iter: 10\n",
            "iteration: 5 of max_iter: 10\n",
            "iteration: 6 of max_iter: 10\n",
            "iteration: 7 of max_iter: 10\n",
            "iteration: 8 of max_iter: 10\n",
            "iteration: 9 of max_iter: 10\n",
            "iteration: 10 of max_iter: 10\n"
          ],
          "name": "stdout"
        },
        {
          "output_type": "execute_result",
          "data": {
            "text/plain": [
              "array([[1.25000000e-04, 1.25000000e-04, 1.25000000e-04, ...,\n",
              "        1.25000000e-04, 1.25000000e-04, 1.25000000e-04],\n",
              "       [1.61943320e-04, 1.61943320e-04, 1.61943320e-04, ...,\n",
              "        1.61943320e-04, 7.32124844e-01, 1.20517011e-01],\n",
              "       [1.46937068e-01, 1.23456790e-04, 3.84998573e-02, ...,\n",
              "        1.23456790e-04, 6.80162086e-02, 5.84040454e-01],\n",
              "       ...,\n",
              "       [1.35160148e-01, 8.84955752e-05, 8.84955752e-05, ...,\n",
              "        1.95213549e-01, 2.59539277e-02, 8.84955752e-05],\n",
              "       [5.40540541e-04, 5.40540541e-04, 5.40540541e-04, ...,\n",
              "        5.40540541e-04, 5.40540541e-04, 3.30610734e-01],\n",
              "       [3.07517438e-01, 9.85221675e-05, 9.85221675e-05, ...,\n",
              "        9.85221675e-05, 9.85221675e-05, 1.20425170e-01]])"
            ]
          },
          "metadata": {
            "tags": []
          },
          "execution_count": 46
        }
      ]
    },
    {
      "cell_type": "markdown",
      "metadata": {
        "id": "aPQRdQlieBgr",
        "colab_type": "text"
      },
      "source": [
        "Il modello è pronto ! Cerchiamo di farci un'idea di cosa i nostri topic rappresentano visualizzando le 10 parole più comuni per ognuno."
      ]
    },
    {
      "cell_type": "code",
      "metadata": {
        "id": "__LCEDg0QBKt",
        "colab_type": "code",
        "colab": {
          "base_uri": "https://localhost:8080/",
          "height": 1303
        },
        "outputId": "6a2fd0d1-2182-4562-c4ba-b7c6f9f47db0"
      },
      "source": [
        "n_words = 10\n",
        "\n",
        "for index, topic in enumerate(lda.components_):\n",
        "  print(\"\\nTOPIC %d - %d parole più popolari\" % (index+1, n_words))\n",
        "  print([bow.get_feature_names()[i] for i in topic.argsort()[-n_words:]])"
      ],
      "execution_count": 48,
      "outputs": [
        {
          "output_type": "stream",
          "text": [
            "\n",
            "TOPIC 1 - 10 parole più popolari\n",
            "['area', 'mr', 'people', 'water', 'park', 'building', '000', 'new', 'city', 'said']\n",
            "\n",
            "TOPIC 2 - 10 parole più popolari\n",
            "['coach', 'play', 'points', 'league', 'year', 'games', 'said', 'players', 'game', 'team']\n",
            "\n",
            "TOPIC 3 - 10 parole più popolari\n",
            "['racing', 'world', 'year', 'horse', 'derby', 'muhammad', 'briefing', 'said', 'race', 'ali']\n",
            "\n",
            "TOPIC 4 - 10 parole più popolari\n",
            "['innings', 'inning', 'runs', 'home', 'second', 'hit', 'season', 'run', 'game', 'mets']\n",
            "\n",
            "TOPIC 5 - 10 parole più popolari\n",
            "['did', 've', 'team', 'think', 'time', 'like', 'going', 'game', 'just', 'said']\n",
            "\n",
            "TOPIC 6 - 10 parole più popolari\n",
            "['son', 'couple', 'bride', 'san', 'received', 'father', 'university', 'graduated', 'york', 'new']\n",
            "\n",
            "TOPIC 7 - 10 parole più popolari\n",
            "['way', 'time', 'work', 'just', 'art', 'new', 'people', 'said', 'mr', 'like']\n",
            "\n",
            "TOPIC 8 - 10 parole più popolari\n",
            "['team', 'right', 'baseball', 'miller', 'game', 'season', 'girardi', 'rodriguez', 'said', 'yankees']\n",
            "\n",
            "TOPIC 9 - 10 parole più popolari\n",
            "['festival', 'musical', 'year', 'broadway', 'film', 'theater', 'ms', 'said', 'new', 'mr']\n",
            "\n",
            "TOPIC 10 - 10 parole più popolari\n",
            "['newspaper', 'book', 'editor', 'nytimes', 'com', 'york', 'news', 'new', 'article', 'times']\n",
            "\n",
            "TOPIC 11 - 10 parole più popolari\n",
            "['like', 'years', 'home', 'family', 'children', 'new', 'mr', 'school', 'ms', 'said']\n",
            "\n",
            "TOPIC 12 - 10 parole più popolari\n",
            "['companies', 'bank', 'financial', 'market', 'billion', 'year', 'company', 'said', 'percent', 'million']\n",
            "\n",
            "TOPIC 13 - 10 parole più popolari\n",
            "['republicans', 'state', 'congress', 'senate', 'republican', 'house', 'president', 'obama', 'mr', 'said']\n",
            "\n",
            "TOPIC 14 - 10 parole più popolari\n",
            "['law', 'ms', 'percent', 'rights', 'gay', 'university', 'students', 'people', 'said', 'women']\n",
            "\n",
            "TOPIC 15 - 10 parole più popolari\n",
            "['trial', 'years', 'lawyer', 'redstone', 'judge', 'case', 'ms', 'court', 'said', 'mr']\n",
            "\n",
            "TOPIC 16 - 10 parole più popolari\n",
            "['donald', 'party', 'sanders', 'republican', 'campaign', 'said', 'mrs', 'clinton', 'trump', 'mr']\n",
            "\n",
            "TOPIC 17 - 10 parole più popolari\n",
            "['stock', 'afghanistan', 'said', 'cents', 'afghan', 'oil', 'fell', 'taliban', 'rose', 'percent']\n",
            "\n",
            "TOPIC 18 - 10 parole più popolari\n",
            "['city', 'new', 'fans', 'week', 'club', 'song', 'album', 'season', 'prince', 'music']\n",
            "\n",
            "TOPIC 19 - 10 parole più popolari\n",
            "['london', 'vote', 'party', 'british', 'europe', 'said', 'mr', 'britain', 'union', 'european']\n",
            "\n",
            "TOPIC 20 - 10 parole più popolari\n",
            "['technology', 'online', 'apple', 'people', 'new', 'companies', 'facebook', 'like', 'said', 'company']\n",
            "\n",
            "TOPIC 21 - 10 parole più popolari\n",
            "['united', 'health', 'department', 'justice', 'case', 'federal', 'law', 'states', 'court', 'said']\n",
            "\n",
            "TOPIC 22 - 10 parole più popolari\n",
            "['country', 'american', 'state', 'military', 'states', 'china', 'united', 'government', 'mr', 'said']\n",
            "\n",
            "TOPIC 23 - 10 parole più popolari\n",
            "['just', 'years', 'cancer', 'make', 'people', 'new', 'food', 'like', 'said', 'dr']\n",
            "\n",
            "TOPIC 24 - 10 parole più popolari\n",
            "['campaign', 'fund', 'money', 'mayor', 'york', 'city', 'state', 'new', 'said', 'mr']\n",
            "\n",
            "TOPIC 25 - 10 parole più popolari\n",
            "['death', 'shooting', 'year', 'officer', 'man', 'officers', 'people', 'mr', 'police', 'said']\n"
          ],
          "name": "stdout"
        }
      ]
    },
    {
      "cell_type": "markdown",
      "metadata": {
        "id": "bkGxfaTcePnr",
        "colab_type": "text"
      },
      "source": [
        "Alcuni topic sono molto chiari:\n",
        " - il Topic 10 ha a che fare con l'editoria e le notizie.\n",
        " - i Topic 2, 3, 4 e 8 hanno a che fare con lo sport. \n",
        " - il Topic 12 ha a che fare con la finanza\n",
        " - il Topic 20 ha a che fare con la tecnologia\n",
        " - il Topic 25 ha a che fare con la cronaca nera."
      ]
    },
    {
      "cell_type": "markdown",
      "metadata": {
        "id": "sGVQSrPZe9C4",
        "colab_type": "text"
      },
      "source": [
        "Definiamo una funzione per classificare nuovi articoli all'interno di questi topic."
      ]
    },
    {
      "cell_type": "code",
      "metadata": {
        "id": "YoIJ-ykmRyzK",
        "colab_type": "code",
        "colab": {}
      },
      "source": [
        "import numpy as np\n",
        "\n",
        "def classify(text, return_proba=False):\n",
        "  x = bow.transform([text])\n",
        "  y_proba = lda.transform(x)[0]\n",
        "  y = y_proba.argmax()\n",
        "  \n",
        "  if(return_proba):\n",
        "    topics_ordered = np.argsort(-y_proba)\n",
        "    y_proba = -np.sort(-y_proba)\n",
        "    y_dict = dict([\"TOPIC: \"+str(topic+1), proba] for topic, proba in zip(topics_ordered, y_proba))\n",
        "    return y, y_dict\n",
        "  \n",
        "  return y"
      ],
      "execution_count": 0,
      "outputs": []
    },
    {
      "cell_type": "markdown",
      "metadata": {
        "id": "EZUb0kqefD1F",
        "colab_type": "text"
      },
      "source": [
        "Testiamo con un semplice articolo che riguarda la tecnologia."
      ]
    },
    {
      "cell_type": "code",
      "metadata": {
        "id": "YCW5g6mPUdqp",
        "colab_type": "code",
        "colab": {
          "base_uri": "https://localhost:8080/",
          "height": 497
        },
        "outputId": "358636fc-c30b-473a-c098-1222bdaee27c"
      },
      "source": [
        "# Notiza dell'ultima ora ! Samsung ha appena svelato il suo nuovo smartphone, il Galaxy S10\n",
        "my_news = \"Breaking News! Samsung just unveil its new smartphone, the new Galaxy S10\"\n",
        "\n",
        "y, y_proba = classify(my_news, return_proba=True)\n",
        "\n",
        "print(\"Topic di appartenenza: %d\" % (y+1))\n",
        "print(\"\\n\")\n",
        "for topic in y_proba:\n",
        "  print(\"%s = %.4f\" % (topic, y_proba[topic]))"
      ],
      "execution_count": 108,
      "outputs": [
        {
          "output_type": "stream",
          "text": [
            "Topic di appartenenza: 20\n",
            "\n",
            "\n",
            "TOPIC: 20 = 0.6238\n",
            "TOPIC: 10 = 0.2448\n",
            "TOPIC: 5 = 0.0057\n",
            "TOPIC: 18 = 0.0057\n",
            "TOPIC: 7 = 0.0057\n",
            "TOPIC: 8 = 0.0057\n",
            "TOPIC: 9 = 0.0057\n",
            "TOPIC: 3 = 0.0057\n",
            "TOPIC: 24 = 0.0057\n",
            "TOPIC: 19 = 0.0057\n",
            "TOPIC: 23 = 0.0057\n",
            "TOPIC: 11 = 0.0057\n",
            "TOPIC: 6 = 0.0057\n",
            "TOPIC: 16 = 0.0057\n",
            "TOPIC: 4 = 0.0057\n",
            "TOPIC: 1 = 0.0057\n",
            "TOPIC: 14 = 0.0057\n",
            "TOPIC: 25 = 0.0057\n",
            "TOPIC: 17 = 0.0057\n",
            "TOPIC: 13 = 0.0057\n",
            "TOPIC: 2 = 0.0057\n",
            "TOPIC: 12 = 0.0057\n",
            "TOPIC: 15 = 0.0057\n",
            "TOPIC: 22 = 0.0057\n",
            "TOPIC: 21 = 0.0057\n"
          ],
          "name": "stdout"
        }
      ]
    },
    {
      "cell_type": "markdown",
      "metadata": {
        "id": "89sSLCEtfHFs",
        "colab_type": "text"
      },
      "source": [
        "Ottimo ! Facciamo un'altro testo con un'articolo che riguarda tecnologia e cronaca nera."
      ]
    },
    {
      "cell_type": "code",
      "metadata": {
        "id": "32P1kmBZWzIv",
        "colab_type": "code",
        "colab": {
          "base_uri": "https://localhost:8080/",
          "height": 497
        },
        "outputId": "69871d19-e915-40e2-9495-cbde9a259c96"
      },
      "source": [
        "# Un'auto a guida autonoma di Apple è andata a sbattere durante un test, due uomini feriti\n",
        "my_news = \"An Apple self driving car crashed during a test, two men injured\"\n",
        "y, y_proba = classify(my_news, return_proba=True)\n",
        "\n",
        "print(\"Topic di appartenenza: %d\" % (y+1))\n",
        "print(\"\\n\")\n",
        "for topic in y_proba:\n",
        "  print(\"%s = %.4f\" % (topic, y_proba[topic]))"
      ],
      "execution_count": 114,
      "outputs": [
        {
          "output_type": "stream",
          "text": [
            "Topic di appartenenza: 25\n",
            "\n",
            "\n",
            "TOPIC: 25 = 0.4052\n",
            "TOPIC: 21 = 0.2527\n",
            "TOPIC: 20 = 0.2322\n",
            "TOPIC: 7 = 0.0050\n",
            "TOPIC: 14 = 0.0050\n",
            "TOPIC: 23 = 0.0050\n",
            "TOPIC: 8 = 0.0050\n",
            "TOPIC: 2 = 0.0050\n",
            "TOPIC: 5 = 0.0050\n",
            "TOPIC: 3 = 0.0050\n",
            "TOPIC: 22 = 0.0050\n",
            "TOPIC: 4 = 0.0050\n",
            "TOPIC: 15 = 0.0050\n",
            "TOPIC: 17 = 0.0050\n",
            "TOPIC: 11 = 0.0050\n",
            "TOPIC: 10 = 0.0050\n",
            "TOPIC: 16 = 0.0050\n",
            "TOPIC: 1 = 0.0050\n",
            "TOPIC: 19 = 0.0050\n",
            "TOPIC: 18 = 0.0050\n",
            "TOPIC: 13 = 0.0050\n",
            "TOPIC: 12 = 0.0050\n",
            "TOPIC: 24 = 0.0050\n",
            "TOPIC: 6 = 0.0050\n",
            "TOPIC: 9 = 0.0050\n"
          ],
          "name": "stdout"
        }
      ]
    },
    {
      "cell_type": "markdown",
      "metadata": {
        "id": "SopoZFNJfocI",
        "colab_type": "text"
      },
      "source": [
        "Come vedi in questo caso la notizia è stata classificata come appartenente al 40% al Topic 25 (cronaca nera) al 25% al Topic 21 (Salute/Legge) e al 23% al Topic 20 (Tecnologia). Un'ottimo risultato :)"
      ]
    },
    {
      "cell_type": "markdown",
      "metadata": {
        "id": "CvZRK7MNf9Se",
        "colab_type": "text"
      },
      "source": [
        "## LDA con TF-IDF\n",
        "Proviamo a ricreare il nostro modello, questa volta usando come codifica il TF-IDF"
      ]
    },
    {
      "cell_type": "code",
      "metadata": {
        "id": "Q6QsYozQf7lk",
        "colab_type": "code",
        "colab": {
          "base_uri": "https://localhost:8080/",
          "height": 34
        },
        "outputId": "0c295df5-2273-4837-af1a-31cad355b594"
      },
      "source": [
        "from sklearn.feature_extraction.text import TfidfVectorizer\n",
        "\n",
        "tfidf = TfidfVectorizer(max_features=5000, stop_words=\"english\")\n",
        "X = tfidf.fit_transform(news_split)\n",
        "X.shape"
      ],
      "execution_count": 119,
      "outputs": [
        {
          "output_type": "execute_result",
          "data": {
            "text/plain": [
              "(8888, 5000)"
            ]
          },
          "metadata": {
            "tags": []
          },
          "execution_count": 119
        }
      ]
    },
    {
      "cell_type": "code",
      "metadata": {
        "id": "R-V7tG_lf8U-",
        "colab_type": "code",
        "colab": {
          "base_uri": "https://localhost:8080/",
          "height": 411
        },
        "outputId": "220f5df7-993b-4978-d54e-6ad804be230b"
      },
      "source": [
        "from sklearn.decomposition import LatentDirichletAllocation as LDA\n",
        "\n",
        "n_topics = 25\n",
        "\n",
        "lda = LDA(n_components=n_topics, max_iter=10, verbose=True)\n",
        "lda.fit_transform(X)"
      ],
      "execution_count": 120,
      "outputs": [
        {
          "output_type": "stream",
          "text": [
            "iteration: 1 of max_iter: 10\n",
            "iteration: 2 of max_iter: 10\n",
            "iteration: 3 of max_iter: 10\n",
            "iteration: 4 of max_iter: 10\n",
            "iteration: 5 of max_iter: 10\n",
            "iteration: 6 of max_iter: 10\n",
            "iteration: 7 of max_iter: 10\n",
            "iteration: 8 of max_iter: 10\n",
            "iteration: 9 of max_iter: 10\n",
            "iteration: 10 of max_iter: 10\n"
          ],
          "name": "stdout"
        },
        {
          "output_type": "execute_result",
          "data": {
            "text/plain": [
              "array([[0.00378589, 0.00378589, 0.00378589, ..., 0.00378589, 0.00378589,\n",
              "        0.00378589],\n",
              "       [0.00353439, 0.00353439, 0.00353439, ..., 0.00353439, 0.00353439,\n",
              "        0.00353439],\n",
              "       [0.00348255, 0.00348255, 0.00348255, ..., 0.00348255, 0.00348255,\n",
              "        0.00348255],\n",
              "       ...,\n",
              "       [0.00321652, 0.00321652, 0.00321652, ..., 0.00321652, 0.00321652,\n",
              "        0.00321652],\n",
              "       [0.00501441, 0.00501441, 0.00501441, ..., 0.00501441, 0.00501441,\n",
              "        0.00501441],\n",
              "       [0.00287467, 0.00287467, 0.00287467, ..., 0.00287467, 0.00287467,\n",
              "        0.00287467]])"
            ]
          },
          "metadata": {
            "tags": []
          },
          "execution_count": 120
        }
      ]
    },
    {
      "cell_type": "code",
      "metadata": {
        "id": "19jCtNN2gPlK",
        "colab_type": "code",
        "colab": {
          "base_uri": "https://localhost:8080/",
          "height": 1303
        },
        "outputId": "2e2f8de6-a25a-497a-ead2-897d3efa1063"
      },
      "source": [
        "n_words = 10\n",
        "\n",
        "for index, topic in enumerate(lda.components_):\n",
        "  print(\"\\nTOPIC %d - %d parole più popolari\" % (index+1, n_words))\n",
        "  print([bow.get_feature_names()[i] for i in topic.argsort()[-n_words:]])"
      ],
      "execution_count": 121,
      "outputs": [
        {
          "output_type": "stream",
          "text": [
            "\n",
            "TOPIC 1 - 10 parole più popolari\n",
            "['844', 'income', '212', 'mail', '698', '556', 'columbia', 'mississippi', 'nyquist', 'articles']\n",
            "\n",
            "TOPIC 2 - 10 parole più popolari\n",
            "['testing', 'owner', 'cheap', 'diego', 'carry', 'vehicle', 'emerging', 'theory', 'christie', 'voices']\n",
            "\n",
            "TOPIC 3 - 10 parole più popolari\n",
            "['pulling', 'twice', 'nation', 'center', 'telephone', 'children', 'searching', 'asia', 'behavior', 'performers']\n",
            "\n",
            "TOPIC 4 - 10 parole più popolari\n",
            "['revival', 'spurs', 'robust', 'equivalent', 'shelter', 'lemonade', 'criticized', 'detroit', 'pulling', 'twice']\n",
            "\n",
            "TOPIC 5 - 10 parole più popolari\n",
            "['revival', 'spurs', 'robust', 'equivalent', 'shelter', 'lemonade', 'criticized', 'detroit', 'pulling', 'twice']\n",
            "\n",
            "TOPIC 6 - 10 parole più popolari\n",
            "['publishing', 'global', 'jordan', 'performing', 'oversight', 'lighting', 'pitsiladis', 'shares', 'island', 'pending']\n",
            "\n",
            "TOPIC 7 - 10 parole più popolari\n",
            "['74', 'illegal', 'cnn', 'defeated', 'string', 'wrestling', 'wright', 'philippines', 'built', 'hasn']\n",
            "\n",
            "TOPIC 8 - 10 parole più popolari\n",
            "['warriors', 'rough', 'pointing', 'leads', 'clubs', 'search', 'gallery', 'player', 'teaching', 'galleries']\n",
            "\n",
            "TOPIC 9 - 10 parole più popolari\n",
            "['performance', 'oregon', 'thanks', 'museums', 'dance', 'orange', 'female', 'opens', 'damaged', 'ballot']\n",
            "\n",
            "TOPIC 10 - 10 parole più popolari\n",
            "['parts', 'voter', 'republic', 'sanctions', 'cameron', 'represents', 'mr', 'clinic', 'moving', 'truly']\n",
            "\n",
            "TOPIC 11 - 10 parole più popolari\n",
            "['aides', 'album', 'song', 'wings', 'notion', 'culture', '1980', 'technology', 'publishing', 'howard']\n",
            "\n",
            "TOPIC 12 - 10 parole più popolari\n",
            "['college', 'history', 'runners', 'rules', 'search', 'inning', 'inner', 'galleries', 'metropolitan', 'yankees']\n",
            "\n",
            "TOPIC 13 - 10 parole più popolari\n",
            "['barrier', 'crown', 'stewart', 'independent', 'ohio', 'stick', 'fees', 'centers', 'rooms', 'people']\n",
            "\n",
            "TOPIC 14 - 10 parole più popolari\n",
            "['review', 'louisville', 'readers', 'moderate', 'time', 'environmental', 'especially', 'book', 'revenue', 'pocket']\n",
            "\n",
            "TOPIC 15 - 10 parole più popolari\n",
            "['euro', 'militants', 'officially', 'unit', 'starting', 'course', 'gov', 'poland', 'safe', 'moving']\n",
            "\n",
            "TOPIC 16 - 10 parole più popolari\n",
            "['revival', 'spurs', 'robust', 'equivalent', 'shelter', 'lemonade', 'criticized', 'detroit', 'pulling', 'twice']\n",
            "\n",
            "TOPIC 17 - 10 parole più popolari\n",
            "['revival', 'spurs', 'robust', 'equivalent', 'shelter', 'lemonade', 'criticized', 'detroit', 'pulling', 'twice']\n",
            "\n",
            "TOPIC 18 - 10 parole più popolari\n",
            "['jury', 'years', 'year', 'community', 'pentagon', 'lights', 'mrs', 'nevada', 'moving', 'safe']\n",
            "\n",
            "TOPIC 19 - 10 parole più popolari\n",
            "['investigation', 'pleased', 'tested', 'pregnant', 'accounts', 'hospital', 'qualify', 'elected', 'senate', 'vacation']\n",
            "\n",
            "TOPIC 20 - 10 parole più popolari\n",
            "['fifth', 'entered', 'civil', 'girl', 'started', 'militant', 'away', 'yellow', 'happy', 'boko']\n",
            "\n",
            "TOPIC 21 - 10 parole più popolari\n",
            "['detroit', 'pulling', 'twice', 'include', 'committee', 'dining', 'williams', 'simply', 'guest', 'acts']\n",
            "\n",
            "TOPIC 22 - 10 parole più popolari\n",
            "['elementary', 'fears', 'properly', 'gang', 'sleep', 'leicester', 'alcohol', 'bedroom', 'beyoncé', 'bathroom']\n",
            "\n",
            "TOPIC 23 - 10 parole più popolari\n",
            "['dates', 'receive', 'somebody', 'counts', 'universities', 'marriage', 'fat', 'grill', 'brian', 'grade']\n",
            "\n",
            "TOPIC 24 - 10 parole più popolari\n",
            "['beijing', 'architect', 'lyrics', 'chile', 'main', 'children', 'aircraft', 'tactics', 'koch', 'honest']\n",
            "\n",
            "TOPIC 25 - 10 parole più popolari\n",
            "['vacation', 'published', 'urging', 'tall', 'newspaper', 'voters', 'pa', 'publishers', 'game', 'trials']\n"
          ],
          "name": "stdout"
        }
      ]
    },
    {
      "cell_type": "markdown",
      "metadata": {
        "id": "AjWBL_yMgZSY",
        "colab_type": "text"
      },
      "source": [
        "Lascio a te l'interpretazione dei topic."
      ]
    },
    {
      "cell_type": "markdown",
      "metadata": {
        "id": "iR4Pxsnng7e9",
        "colab_type": "text"
      },
      "source": [
        "## Visualizzare il modello\n",
        "[pyLDAvis](https://github.com/bmabey/pyLDAvis) è un fantastico modulo python che ci permette di esplorare i topic generati da un modello LDA in maniera visuale, installiamolo usando pip.\n",
        "\n"
      ]
    },
    {
      "cell_type": "code",
      "metadata": {
        "id": "1kdngzqwg47M",
        "colab_type": "code",
        "colab": {
          "base_uri": "https://localhost:8080/",
          "height": 551
        },
        "outputId": "15a5f2c1-f96b-4d36-d1bc-61ba414a7d7a"
      },
      "source": [
        "!pip install pyldavis"
      ],
      "execution_count": 122,
      "outputs": [
        {
          "output_type": "stream",
          "text": [
            "Collecting pyldavis\n",
            "\u001b[?25l  Downloading https://files.pythonhosted.org/packages/a5/3a/af82e070a8a96e13217c8f362f9a73e82d61ac8fff3a2561946a97f96266/pyLDAvis-2.1.2.tar.gz (1.6MB)\n",
            "\u001b[K     |████████████████████████████████| 1.6MB 2.8MB/s \n",
            "\u001b[?25hRequirement already satisfied: wheel>=0.23.0 in /usr/local/lib/python3.6/dist-packages (from pyldavis) (0.33.4)\n",
            "Requirement already satisfied: numpy>=1.9.2 in /usr/local/lib/python3.6/dist-packages (from pyldavis) (1.16.4)\n",
            "Requirement already satisfied: scipy>=0.18.0 in /usr/local/lib/python3.6/dist-packages (from pyldavis) (1.3.0)\n",
            "Requirement already satisfied: pandas>=0.17.0 in /usr/local/lib/python3.6/dist-packages (from pyldavis) (0.24.2)\n",
            "Requirement already satisfied: joblib>=0.8.4 in /usr/local/lib/python3.6/dist-packages (from pyldavis) (0.13.2)\n",
            "Requirement already satisfied: jinja2>=2.7.2 in /usr/local/lib/python3.6/dist-packages (from pyldavis) (2.10.1)\n",
            "Requirement already satisfied: numexpr in /usr/local/lib/python3.6/dist-packages (from pyldavis) (2.6.9)\n",
            "Requirement already satisfied: pytest in /usr/local/lib/python3.6/dist-packages (from pyldavis) (3.6.4)\n",
            "Requirement already satisfied: future in /usr/local/lib/python3.6/dist-packages (from pyldavis) (0.16.0)\n",
            "Collecting funcy (from pyldavis)\n",
            "  Downloading https://files.pythonhosted.org/packages/b3/23/d1f90f4e2af5f9d4921ab3797e33cf0503e3f130dd390a812f3bf59ce9ea/funcy-1.12-py2.py3-none-any.whl\n",
            "Requirement already satisfied: python-dateutil>=2.5.0 in /usr/local/lib/python3.6/dist-packages (from pandas>=0.17.0->pyldavis) (2.5.3)\n",
            "Requirement already satisfied: pytz>=2011k in /usr/local/lib/python3.6/dist-packages (from pandas>=0.17.0->pyldavis) (2018.9)\n",
            "Requirement already satisfied: MarkupSafe>=0.23 in /usr/local/lib/python3.6/dist-packages (from jinja2>=2.7.2->pyldavis) (1.1.1)\n",
            "Requirement already satisfied: more-itertools>=4.0.0 in /usr/local/lib/python3.6/dist-packages (from pytest->pyldavis) (7.0.0)\n",
            "Requirement already satisfied: pluggy<0.8,>=0.5 in /usr/local/lib/python3.6/dist-packages (from pytest->pyldavis) (0.7.1)\n",
            "Requirement already satisfied: py>=1.5.0 in /usr/local/lib/python3.6/dist-packages (from pytest->pyldavis) (1.8.0)\n",
            "Requirement already satisfied: setuptools in /usr/local/lib/python3.6/dist-packages (from pytest->pyldavis) (41.0.1)\n",
            "Requirement already satisfied: six>=1.10.0 in /usr/local/lib/python3.6/dist-packages (from pytest->pyldavis) (1.12.0)\n",
            "Requirement already satisfied: attrs>=17.4.0 in /usr/local/lib/python3.6/dist-packages (from pytest->pyldavis) (19.1.0)\n",
            "Requirement already satisfied: atomicwrites>=1.0 in /usr/local/lib/python3.6/dist-packages (from pytest->pyldavis) (1.3.0)\n",
            "Building wheels for collected packages: pyldavis\n",
            "  Building wheel for pyldavis (setup.py) ... \u001b[?25l\u001b[?25hdone\n",
            "  Stored in directory: /root/.cache/pip/wheels/98/71/24/513a99e58bb6b8465bae4d2d5e9dba8f0bef8179e3051ac414\n",
            "Successfully built pyldavis\n",
            "Installing collected packages: funcy, pyldavis\n",
            "Successfully installed funcy-1.12 pyldavis-2.1.2\n"
          ],
          "name": "stdout"
        }
      ]
    },
    {
      "cell_type": "markdown",
      "metadata": {
        "id": "TPEVFqmqhJv4",
        "colab_type": "text"
      },
      "source": [
        "Utilizziamo per creare la visualizzazione per un modello sklearn, passando come argomenti il modello stesso, il dataset codificato e l'oggetto che abbiamo usato per la codifica. Per poter visualizzare il grafico dobbiamo proiettare i dati in uno spazio bi-dimensionale, all'interno del parametro mds possiamo definire la tecnica per farlo, utilizziamo il t-distributed stochastic neighbor embedding."
      ]
    },
    {
      "cell_type": "code",
      "metadata": {
        "id": "xNrAZAkyhH43",
        "colab_type": "code",
        "colab": {
          "base_uri": "https://localhost:8080/",
          "height": 1018
        },
        "outputId": "df52e5c7-00d2-48f1-f8db-19f85895ee34"
      },
      "source": [
        "import pyLDAvis.sklearn\n",
        "\n",
        "lda_viz = pyLDAvis.sklearn.prepare(lda, X, tfidf, mds='tsne')\n",
        "pyLDAvis.display(lda_viz)"
      ],
      "execution_count": 123,
      "outputs": [
        {
          "output_type": "stream",
          "text": [
            "/usr/local/lib/python3.6/dist-packages/pyLDAvis/_prepare.py:257: FutureWarning: Sorting because non-concatenation axis is not aligned. A future version\n",
            "of pandas will change to not sort by default.\n",
            "\n",
            "To accept the future behavior, pass 'sort=False'.\n",
            "\n",
            "To retain the current behavior and silence the warning, pass 'sort=True'.\n",
            "\n",
            "  return pd.concat([default_term_info] + list(topic_dfs))\n"
          ],
          "name": "stderr"
        },
        {
          "output_type": "execute_result",
          "data": {
            "text/html": [
              "\n",
              "<link rel=\"stylesheet\" type=\"text/css\" href=\"https://cdn.rawgit.com/bmabey/pyLDAvis/files/ldavis.v1.0.0.css\">\n",
              "\n",
              "\n",
              "<div id=\"ldavis_el133140269258738808553384565\"></div>\n",
              "<script type=\"text/javascript\">\n",
              "\n",
              "var ldavis_el133140269258738808553384565_data = {\"mdsDat\": {\"x\": [39.26183319091797, -42.80095672607422, -18.303146362304688, 45.917930603027344, -4.180685997009277, -126.66284942626953, 88.70945739746094, -95.16253662109375, 54.780372619628906, -70.14125061035156, -153.57862854003906, 143.39942932128906, 112.31804656982422, 42.08324432373047, 1.0018428564071655, -87.60842895507812, -8.661760330200195, 34.62710189819336, -56.83821105957031, 90.91511535644531, 98.08704376220703, -7.779167175292969, -64.03203582763672, -117.1744613647461, -31.469568252563477], \"y\": [56.47001647949219, -12.018086433410645, 73.89765167236328, -69.86361694335938, 21.67799186706543, 42.78348922729492, -33.566490173339844, -15.656633377075195, -129.30728149414062, -126.01740264892578, -21.874032974243164, -5.000601768493652, -89.65099334716797, -4.2260003089904785, -39.11270523071289, 95.80499267578125, -153.37869262695312, 117.4558334350586, -65.03119659423828, 28.862335205078125, 89.33740997314453, -93.9090347290039, 39.06875228881836, -80.2053451538086, 131.74334716796875], \"topics\": [1, 2, 3, 4, 5, 6, 7, 8, 9, 10, 11, 12, 13, 14, 15, 16, 17, 18, 19, 20, 21, 22, 23, 24, 25], \"cluster\": [1, 1, 1, 1, 1, 1, 1, 1, 1, 1, 1, 1, 1, 1, 1, 1, 1, 1, 1, 1, 1, 1, 1, 1, 1], \"Freq\": [68.64393832512906, 11.765437045798114, 5.156737117786184, 3.126153734914018, 2.074998101067773, 1.263433864434968, 0.6440543635768768, 0.5705635383641398, 0.5299934174749743, 0.49692260293265395, 0.45713451984606013, 0.42788664634648543, 0.41544905147485217, 0.41277447889223084, 0.37649194365665983, 0.3728062548611531, 0.37179473570777327, 0.3659377315510475, 0.3657255199948923, 0.36184629481535835, 0.36168440861384626, 0.3595590756902192, 0.3595590756902192, 0.3595590756902192, 0.3595590756902192]}, \"tinfo\": {\"Category\": [\"Default\", \"Default\", \"Default\", \"Default\", \"Default\", \"Default\", \"Default\", \"Default\", \"Default\", \"Default\", \"Default\", \"Default\", \"Default\", \"Default\", \"Default\", \"Default\", \"Default\", \"Default\", \"Default\", \"Default\", \"Default\", \"Default\", \"Default\", \"Default\", \"Default\", \"Default\", \"Default\", \"Default\", \"Default\", \"Default\", \"Topic1\", \"Topic1\", \"Topic1\", \"Topic1\", \"Topic1\", \"Topic1\", \"Topic1\", \"Topic1\", \"Topic1\", \"Topic1\", \"Topic1\", \"Topic1\", \"Topic1\", \"Topic1\", \"Topic1\", \"Topic1\", \"Topic1\", \"Topic1\", \"Topic1\", \"Topic1\", \"Topic1\", \"Topic1\", \"Topic1\", \"Topic1\", \"Topic1\", \"Topic1\", \"Topic1\", \"Topic1\", \"Topic1\", \"Topic1\", \"Topic1\", \"Topic1\", \"Topic1\", \"Topic1\", \"Topic1\", \"Topic1\", \"Topic1\", \"Topic1\", \"Topic1\", \"Topic1\", \"Topic1\", \"Topic1\", \"Topic1\", \"Topic1\", \"Topic1\", \"Topic1\", \"Topic1\", \"Topic1\", \"Topic1\", \"Topic1\", \"Topic1\", \"Topic1\", \"Topic1\", \"Topic1\", \"Topic1\", \"Topic1\", \"Topic1\", \"Topic1\", \"Topic1\", \"Topic1\", \"Topic1\", \"Topic1\", \"Topic1\", \"Topic1\", \"Topic1\", \"Topic2\", \"Topic2\", \"Topic2\", \"Topic2\", \"Topic2\", \"Topic2\", \"Topic2\", \"Topic2\", \"Topic2\", \"Topic2\", \"Topic2\", \"Topic2\", \"Topic2\", \"Topic2\", \"Topic2\", \"Topic2\", \"Topic2\", \"Topic2\", \"Topic2\", \"Topic2\", \"Topic2\", \"Topic2\", \"Topic2\", \"Topic2\", \"Topic2\", \"Topic2\", \"Topic2\", \"Topic2\", \"Topic2\", \"Topic2\", \"Topic2\", \"Topic2\", \"Topic2\", \"Topic2\", \"Topic2\", \"Topic2\", \"Topic2\", \"Topic2\", \"Topic2\", \"Topic2\", \"Topic2\", \"Topic2\", \"Topic2\", \"Topic2\", \"Topic2\", \"Topic2\", \"Topic2\", \"Topic2\", \"Topic2\", \"Topic2\", \"Topic2\", \"Topic2\", \"Topic2\", \"Topic2\", \"Topic2\", \"Topic2\", \"Topic2\", \"Topic2\", \"Topic2\", \"Topic2\", \"Topic2\", \"Topic2\", \"Topic2\", \"Topic2\", \"Topic2\", \"Topic2\", \"Topic2\", \"Topic2\", \"Topic2\", \"Topic2\", \"Topic2\", \"Topic2\", \"Topic2\", \"Topic3\", \"Topic3\", \"Topic3\", \"Topic3\", \"Topic3\", \"Topic3\", \"Topic3\", \"Topic3\", \"Topic3\", \"Topic3\", \"Topic3\", \"Topic3\", \"Topic3\", \"Topic3\", \"Topic3\", \"Topic3\", \"Topic3\", \"Topic3\", \"Topic3\", \"Topic3\", \"Topic3\", \"Topic3\", \"Topic3\", \"Topic3\", \"Topic3\", \"Topic3\", \"Topic3\", \"Topic3\", \"Topic3\", \"Topic3\", \"Topic3\", \"Topic3\", \"Topic3\", \"Topic3\", \"Topic3\", \"Topic3\", \"Topic3\", \"Topic3\", \"Topic3\", \"Topic3\", \"Topic3\", \"Topic3\", \"Topic3\", \"Topic3\", \"Topic3\", \"Topic3\", \"Topic3\", \"Topic3\", \"Topic3\", \"Topic3\", \"Topic3\", \"Topic3\", \"Topic3\", \"Topic3\", \"Topic3\", \"Topic3\", \"Topic3\", \"Topic4\", \"Topic4\", \"Topic4\", \"Topic4\", \"Topic4\", \"Topic4\", \"Topic4\", \"Topic4\", \"Topic4\", \"Topic4\", \"Topic4\", \"Topic4\", \"Topic4\", \"Topic4\", \"Topic4\", \"Topic4\", \"Topic4\", \"Topic4\", \"Topic4\", \"Topic4\", \"Topic4\", \"Topic4\", \"Topic4\", \"Topic4\", \"Topic4\", \"Topic4\", \"Topic4\", \"Topic4\", \"Topic4\", \"Topic4\", \"Topic4\", \"Topic4\", \"Topic4\", \"Topic4\", \"Topic4\", \"Topic4\", \"Topic4\", \"Topic4\", \"Topic4\", \"Topic4\", \"Topic4\", \"Topic4\", \"Topic4\", \"Topic4\", \"Topic4\", \"Topic4\", \"Topic4\", \"Topic5\", \"Topic5\", \"Topic5\", \"Topic5\", \"Topic5\", \"Topic5\", \"Topic5\", \"Topic5\", \"Topic5\", \"Topic5\", \"Topic5\", \"Topic5\", \"Topic5\", \"Topic5\", \"Topic5\", \"Topic5\", \"Topic5\", \"Topic5\", \"Topic5\", \"Topic5\", \"Topic5\", \"Topic5\", \"Topic5\", \"Topic5\", \"Topic5\", \"Topic5\", \"Topic5\", \"Topic5\", \"Topic5\", \"Topic5\", \"Topic5\", \"Topic5\", \"Topic5\", \"Topic5\", \"Topic5\", \"Topic5\", \"Topic5\", \"Topic5\", \"Topic5\", \"Topic5\", \"Topic5\", \"Topic5\", \"Topic5\", \"Topic5\", \"Topic5\", \"Topic5\", \"Topic5\", \"Topic5\", \"Topic5\", \"Topic6\", \"Topic6\", \"Topic6\", \"Topic6\", \"Topic6\", \"Topic6\", \"Topic6\", \"Topic6\", \"Topic6\", \"Topic6\", \"Topic6\", \"Topic6\", \"Topic6\", \"Topic6\", \"Topic6\", \"Topic6\", \"Topic6\", \"Topic6\", \"Topic6\", \"Topic6\", \"Topic6\", \"Topic6\", \"Topic6\", \"Topic6\", \"Topic6\", \"Topic6\", \"Topic6\", \"Topic6\", \"Topic6\", \"Topic6\", \"Topic6\", \"Topic6\", \"Topic6\", \"Topic6\", \"Topic6\", \"Topic6\", \"Topic6\", \"Topic6\", \"Topic6\", \"Topic6\", \"Topic6\", \"Topic7\", \"Topic7\", \"Topic7\", \"Topic7\", \"Topic7\", \"Topic7\", \"Topic7\", \"Topic7\", \"Topic7\", \"Topic7\", \"Topic7\", \"Topic7\", \"Topic7\", \"Topic7\", \"Topic7\", \"Topic7\", \"Topic7\", \"Topic7\", \"Topic7\", \"Topic7\", \"Topic7\", \"Topic7\", \"Topic7\", \"Topic7\", \"Topic7\", \"Topic7\", \"Topic7\", \"Topic7\", \"Topic7\", \"Topic7\", \"Topic7\", \"Topic7\", \"Topic8\", \"Topic8\", \"Topic8\", \"Topic8\", \"Topic8\", \"Topic8\", \"Topic8\", \"Topic8\", \"Topic8\", \"Topic8\", \"Topic8\", \"Topic8\", \"Topic8\", \"Topic8\", \"Topic8\", \"Topic8\", \"Topic8\", \"Topic8\", \"Topic8\", \"Topic8\", \"Topic8\", \"Topic8\", \"Topic8\", \"Topic8\", \"Topic8\", \"Topic8\", \"Topic8\", \"Topic8\", \"Topic8\", \"Topic8\", \"Topic8\", \"Topic8\", \"Topic8\", \"Topic8\", \"Topic8\", \"Topic9\", \"Topic9\", \"Topic9\", \"Topic9\", \"Topic9\", \"Topic9\", \"Topic9\", \"Topic9\", \"Topic9\", \"Topic9\", \"Topic9\", \"Topic9\", \"Topic9\", \"Topic9\", \"Topic9\", \"Topic9\", \"Topic9\", \"Topic9\", \"Topic9\", \"Topic9\", \"Topic9\", \"Topic9\", \"Topic9\", \"Topic9\", \"Topic9\", \"Topic9\", \"Topic9\", \"Topic9\", \"Topic9\", \"Topic9\", \"Topic9\", \"Topic9\", \"Topic9\", \"Topic9\", \"Topic10\", \"Topic10\", \"Topic10\", \"Topic10\", \"Topic10\", \"Topic10\", \"Topic10\", \"Topic10\", \"Topic10\", \"Topic10\", \"Topic10\", \"Topic10\", \"Topic10\", \"Topic10\", \"Topic10\", \"Topic10\", \"Topic10\", \"Topic10\", \"Topic10\", \"Topic10\", \"Topic10\", \"Topic10\", \"Topic10\", \"Topic10\", \"Topic10\", \"Topic10\", \"Topic10\", \"Topic10\", \"Topic10\", \"Topic10\", \"Topic10\", \"Topic10\", \"Topic10\", \"Topic10\", \"Topic11\", \"Topic11\", \"Topic11\", \"Topic11\", \"Topic11\", \"Topic11\", \"Topic11\", \"Topic11\", \"Topic11\", \"Topic11\", \"Topic11\", \"Topic11\", \"Topic11\", \"Topic11\", \"Topic11\", \"Topic11\", \"Topic11\", \"Topic11\", \"Topic11\", \"Topic11\", \"Topic11\", \"Topic11\", \"Topic11\", \"Topic11\", \"Topic11\", \"Topic11\", \"Topic11\", \"Topic11\", \"Topic11\", \"Topic11\", \"Topic11\", \"Topic11\", \"Topic11\", \"Topic11\", \"Topic11\", \"Topic11\", \"Topic11\", \"Topic12\", \"Topic12\", \"Topic12\", \"Topic12\", \"Topic12\", \"Topic12\", \"Topic12\", \"Topic12\", \"Topic12\", \"Topic12\", \"Topic12\", \"Topic12\", \"Topic12\", \"Topic12\", \"Topic12\", \"Topic12\", \"Topic12\", \"Topic12\", \"Topic12\", \"Topic12\", \"Topic12\", \"Topic12\", \"Topic12\", \"Topic12\", \"Topic12\", \"Topic12\", \"Topic12\", \"Topic12\", \"Topic12\", \"Topic12\", \"Topic12\", \"Topic12\", \"Topic12\", \"Topic12\", \"Topic12\", \"Topic12\", \"Topic12\", \"Topic12\", \"Topic12\", \"Topic13\", \"Topic13\", \"Topic13\", \"Topic13\", \"Topic13\", \"Topic13\", \"Topic13\", \"Topic13\", \"Topic13\", \"Topic13\", \"Topic13\", \"Topic13\", \"Topic13\", \"Topic13\", \"Topic13\", \"Topic13\", \"Topic13\", \"Topic13\", \"Topic13\", \"Topic13\", \"Topic13\", \"Topic13\", \"Topic13\", \"Topic13\", \"Topic13\", \"Topic13\", \"Topic13\", \"Topic13\", \"Topic13\", \"Topic13\", \"Topic13\", \"Topic13\", \"Topic13\", \"Topic13\", \"Topic13\", \"Topic13\", \"Topic13\", \"Topic13\", \"Topic13\", \"Topic13\", \"Topic13\", \"Topic13\", \"Topic13\", \"Topic13\", \"Topic13\", \"Topic13\", \"Topic13\", \"Topic13\", \"Topic14\", \"Topic14\", \"Topic14\", \"Topic14\", \"Topic14\", \"Topic14\", \"Topic14\", \"Topic14\", \"Topic14\", \"Topic14\", \"Topic14\", \"Topic14\", \"Topic14\", \"Topic14\", \"Topic14\", \"Topic14\", \"Topic14\", \"Topic14\", \"Topic14\", \"Topic14\", \"Topic14\", \"Topic14\", \"Topic14\", \"Topic14\", \"Topic14\", \"Topic14\", \"Topic14\", \"Topic14\", \"Topic14\", \"Topic14\", \"Topic14\", \"Topic14\", \"Topic14\", \"Topic14\", \"Topic14\", \"Topic15\", \"Topic15\", \"Topic15\", \"Topic15\", \"Topic15\", \"Topic15\", \"Topic15\", \"Topic15\", \"Topic15\", \"Topic15\", \"Topic15\", \"Topic15\", \"Topic15\", \"Topic15\", \"Topic15\", \"Topic15\", \"Topic15\", \"Topic15\", \"Topic15\", \"Topic15\", \"Topic15\", \"Topic15\", \"Topic15\", \"Topic15\", \"Topic15\", \"Topic15\", \"Topic15\", \"Topic15\", \"Topic15\", \"Topic15\", \"Topic15\", \"Topic15\", \"Topic15\", \"Topic15\", \"Topic15\", \"Topic15\", \"Topic15\", \"Topic15\", \"Topic15\", \"Topic15\", \"Topic15\", \"Topic15\", \"Topic15\", \"Topic15\", \"Topic15\", \"Topic15\", \"Topic15\", \"Topic15\", \"Topic15\", \"Topic15\", \"Topic15\", \"Topic15\", \"Topic15\", \"Topic15\", \"Topic15\", \"Topic15\", \"Topic15\", \"Topic16\", \"Topic16\", \"Topic16\", \"Topic16\", \"Topic16\", \"Topic16\", \"Topic16\", \"Topic16\", \"Topic16\", \"Topic16\", \"Topic16\", \"Topic16\", \"Topic16\", \"Topic16\", \"Topic16\", \"Topic16\", \"Topic16\", \"Topic16\", \"Topic16\", \"Topic16\", \"Topic16\", \"Topic16\", \"Topic16\", \"Topic16\", \"Topic16\", \"Topic16\", \"Topic16\", \"Topic16\", \"Topic16\", \"Topic16\", \"Topic16\", \"Topic16\", \"Topic16\", \"Topic16\", \"Topic16\", \"Topic16\", \"Topic16\", \"Topic16\", \"Topic16\", \"Topic16\", \"Topic16\", \"Topic16\", \"Topic16\", \"Topic16\", \"Topic16\", \"Topic16\", \"Topic16\", \"Topic16\", \"Topic16\", \"Topic16\", \"Topic16\", \"Topic16\", \"Topic16\", \"Topic16\", \"Topic16\", \"Topic16\", \"Topic16\", \"Topic17\", \"Topic17\", \"Topic17\", \"Topic17\", \"Topic17\", \"Topic17\", \"Topic17\", \"Topic17\", \"Topic17\", \"Topic17\", \"Topic17\", \"Topic17\", \"Topic17\", \"Topic17\", \"Topic17\", \"Topic17\", \"Topic17\", \"Topic17\", \"Topic17\", \"Topic17\", \"Topic17\", \"Topic17\", \"Topic17\", \"Topic17\", \"Topic17\", \"Topic17\", \"Topic17\", \"Topic17\", \"Topic17\", \"Topic17\", \"Topic17\", \"Topic17\", \"Topic17\", \"Topic17\", \"Topic17\", \"Topic17\", \"Topic17\", \"Topic17\", \"Topic17\", \"Topic17\", \"Topic17\", \"Topic17\", \"Topic17\", \"Topic17\", \"Topic17\", \"Topic17\", \"Topic17\", \"Topic17\", \"Topic17\", \"Topic17\", \"Topic17\", \"Topic17\", \"Topic17\", \"Topic17\", \"Topic17\", \"Topic18\", \"Topic18\", \"Topic18\", \"Topic18\", \"Topic18\", \"Topic18\", \"Topic18\", \"Topic18\", \"Topic18\", \"Topic18\", \"Topic18\", \"Topic18\", \"Topic18\", \"Topic18\", \"Topic18\", \"Topic18\", \"Topic18\", \"Topic18\", \"Topic18\", \"Topic18\", \"Topic18\", \"Topic18\", \"Topic18\", \"Topic18\", \"Topic18\", \"Topic18\", \"Topic18\", \"Topic18\", \"Topic18\", \"Topic18\", \"Topic18\", \"Topic18\", \"Topic18\", \"Topic18\", \"Topic18\", \"Topic18\", \"Topic18\", \"Topic18\", \"Topic18\", \"Topic18\", \"Topic18\", \"Topic18\", \"Topic18\", \"Topic18\", \"Topic18\", \"Topic18\", \"Topic18\", \"Topic18\", \"Topic18\", \"Topic18\", \"Topic18\", \"Topic18\", \"Topic18\", \"Topic18\", \"Topic18\", \"Topic18\", \"Topic18\", \"Topic18\", \"Topic18\", \"Topic19\", \"Topic19\", \"Topic19\", \"Topic19\", \"Topic19\", \"Topic19\", \"Topic19\", \"Topic19\", \"Topic19\", \"Topic19\", \"Topic19\", \"Topic19\", \"Topic19\", \"Topic19\", \"Topic19\", \"Topic19\", \"Topic19\", \"Topic19\", \"Topic19\", \"Topic19\", \"Topic19\", \"Topic19\", \"Topic19\", \"Topic19\", \"Topic19\", \"Topic19\", \"Topic19\", \"Topic19\", \"Topic19\", \"Topic19\", \"Topic19\", \"Topic19\", \"Topic19\", \"Topic19\", \"Topic19\", \"Topic19\", \"Topic19\", \"Topic19\", \"Topic19\", \"Topic19\", \"Topic19\", \"Topic19\", \"Topic19\", \"Topic19\", \"Topic19\", \"Topic19\", \"Topic19\", \"Topic19\", \"Topic19\", \"Topic19\", \"Topic19\", \"Topic19\", \"Topic19\", \"Topic19\", \"Topic19\", \"Topic19\", \"Topic19\", \"Topic19\", \"Topic19\", \"Topic20\", \"Topic20\", \"Topic20\", \"Topic20\", \"Topic20\", \"Topic20\", \"Topic20\", \"Topic20\", \"Topic20\", \"Topic20\", \"Topic20\", \"Topic20\", \"Topic20\", \"Topic20\", \"Topic20\", \"Topic20\", \"Topic20\", \"Topic20\", \"Topic20\", \"Topic20\", \"Topic20\", \"Topic20\", \"Topic20\", \"Topic20\", \"Topic20\", \"Topic20\", \"Topic20\", \"Topic20\", \"Topic20\", \"Topic20\", \"Topic20\", \"Topic20\", \"Topic20\", \"Topic20\", \"Topic20\", \"Topic20\", \"Topic20\", \"Topic20\", \"Topic20\", \"Topic20\", \"Topic20\", \"Topic20\", \"Topic20\", \"Topic20\", \"Topic20\", \"Topic20\", \"Topic20\", \"Topic20\", \"Topic20\", \"Topic20\", \"Topic20\", \"Topic20\", \"Topic20\", \"Topic21\", \"Topic21\", \"Topic21\", \"Topic21\", \"Topic21\", \"Topic21\", \"Topic21\", \"Topic21\", \"Topic21\", \"Topic21\", \"Topic21\", \"Topic21\", \"Topic21\", \"Topic21\", \"Topic21\", \"Topic21\", \"Topic21\", \"Topic21\", \"Topic21\", \"Topic21\", \"Topic21\", \"Topic21\", \"Topic21\", \"Topic21\", \"Topic21\", \"Topic21\", \"Topic21\", \"Topic21\", \"Topic21\", \"Topic21\", \"Topic21\", \"Topic21\", \"Topic21\", \"Topic21\", \"Topic21\", \"Topic21\", \"Topic21\", \"Topic21\", \"Topic21\", \"Topic21\", \"Topic21\", \"Topic21\", \"Topic21\", \"Topic21\", \"Topic21\", \"Topic21\", \"Topic21\", \"Topic21\", \"Topic21\", \"Topic21\", \"Topic21\", \"Topic21\", \"Topic22\", \"Topic22\", \"Topic22\", \"Topic22\", \"Topic22\", \"Topic22\", \"Topic22\", \"Topic22\", \"Topic22\", \"Topic22\", \"Topic22\", \"Topic22\", \"Topic22\", \"Topic22\", \"Topic22\", \"Topic22\", \"Topic22\", \"Topic22\", \"Topic22\", \"Topic22\", \"Topic22\", \"Topic22\", \"Topic22\", \"Topic22\", \"Topic22\", \"Topic22\", \"Topic22\", \"Topic22\", \"Topic22\", \"Topic22\", \"Topic22\", \"Topic22\", \"Topic22\", \"Topic22\", \"Topic22\", \"Topic22\", \"Topic22\", \"Topic22\", \"Topic22\", \"Topic22\", \"Topic22\", \"Topic22\", \"Topic22\", \"Topic22\", \"Topic22\", \"Topic22\", \"Topic22\", \"Topic22\", \"Topic22\", \"Topic22\", \"Topic22\", \"Topic22\", \"Topic22\", \"Topic22\", \"Topic22\", \"Topic22\", \"Topic22\", \"Topic22\", \"Topic22\", \"Topic23\", \"Topic23\", \"Topic23\", \"Topic23\", \"Topic23\", \"Topic23\", \"Topic23\", \"Topic23\", \"Topic23\", \"Topic23\", \"Topic23\", \"Topic23\", \"Topic23\", \"Topic23\", \"Topic23\", \"Topic23\", \"Topic23\", \"Topic23\", \"Topic23\", \"Topic23\", \"Topic23\", \"Topic23\", \"Topic23\", \"Topic23\", \"Topic23\", \"Topic23\", \"Topic23\", \"Topic23\", \"Topic23\", \"Topic23\", \"Topic23\", \"Topic23\", \"Topic23\", \"Topic23\", \"Topic23\", \"Topic23\", \"Topic23\", \"Topic23\", \"Topic23\", \"Topic23\", \"Topic23\", \"Topic23\", \"Topic23\", \"Topic23\", \"Topic23\", \"Topic23\", \"Topic23\", \"Topic23\", \"Topic23\", \"Topic23\", \"Topic23\", \"Topic23\", \"Topic23\", \"Topic23\", \"Topic23\", \"Topic23\", \"Topic23\", \"Topic23\", \"Topic23\", \"Topic24\", \"Topic24\", \"Topic24\", \"Topic24\", \"Topic24\", \"Topic24\", \"Topic24\", \"Topic24\", \"Topic24\", \"Topic24\", \"Topic24\", \"Topic24\", \"Topic24\", \"Topic24\", \"Topic24\", \"Topic24\", \"Topic24\", \"Topic24\", \"Topic24\", \"Topic24\", \"Topic24\", \"Topic24\", \"Topic24\", \"Topic24\", \"Topic24\", \"Topic24\", \"Topic24\", \"Topic24\", \"Topic24\", \"Topic24\", \"Topic24\", \"Topic24\", \"Topic24\", \"Topic24\", \"Topic24\", \"Topic24\", \"Topic24\", \"Topic24\", \"Topic24\", \"Topic24\", \"Topic24\", \"Topic24\", \"Topic24\", \"Topic24\", \"Topic24\", \"Topic24\", \"Topic24\", \"Topic24\", \"Topic24\", \"Topic24\", \"Topic24\", \"Topic24\", \"Topic24\", \"Topic24\", \"Topic24\", \"Topic24\", \"Topic24\", \"Topic24\", \"Topic24\", \"Topic25\", \"Topic25\", \"Topic25\", \"Topic25\", \"Topic25\", \"Topic25\", \"Topic25\", \"Topic25\", \"Topic25\", \"Topic25\", \"Topic25\", \"Topic25\", \"Topic25\", \"Topic25\", \"Topic25\", \"Topic25\", \"Topic25\", \"Topic25\", \"Topic25\", \"Topic25\", \"Topic25\", \"Topic25\", \"Topic25\", \"Topic25\", \"Topic25\", \"Topic25\", \"Topic25\", \"Topic25\", \"Topic25\", \"Topic25\", \"Topic25\", \"Topic25\", \"Topic25\", \"Topic25\", \"Topic25\", \"Topic25\", \"Topic25\", \"Topic25\", \"Topic25\", \"Topic25\", \"Topic25\", \"Topic25\", \"Topic25\", \"Topic25\", \"Topic25\", \"Topic25\", \"Topic25\", \"Topic25\", \"Topic25\", \"Topic25\", \"Topic25\", \"Topic25\", \"Topic25\", \"Topic25\", \"Topic25\", \"Topic25\", \"Topic25\", \"Topic25\", \"Topic25\"], \"Freq\": [522.0, 191.0, 133.0, 216.0, 132.0, 535.0, 99.0, 123.0, 84.0, 89.0, 67.0, 69.0, 86.0, 132.0, 68.0, 91.0, 57.0, 58.0, 54.0, 50.0, 100.0, 85.0, 64.0, 80.0, 81.0, 83.0, 76.0, 55.0, 47.0, 53.0, 74.23541939209446, 65.71597148399695, 65.93578115490237, 55.14372513096387, 54.72809191929883, 54.70701083484833, 62.10604165889882, 54.16216528164335, 47.39817071325467, 51.00020196483595, 67.24352572939262, 42.53198381601792, 40.597534156055815, 40.5869302582514, 38.45411796655724, 39.318522481798425, 36.13500414663125, 36.163979648374685, 34.98040740649263, 34.89903790967148, 37.61596649168328, 35.73981030475667, 34.0949271996252, 33.84539039749897, 33.54853724941564, 33.24880685585945, 32.834861161919, 44.197628910646344, 32.086590798096495, 32.067165337710605, 163.7358871744254, 126.48739802522186, 49.77866773900915, 92.51482701559675, 103.51582102556543, 53.670818512093824, 71.92803256404699, 174.9301123747148, 55.620670306243504, 75.64786650430544, 56.59543830173819, 185.61292891462818, 52.81682810741265, 81.45066059276661, 80.00509565056123, 386.5142112313835, 78.23931250055344, 108.16109078270532, 105.57861258026554, 132.48587070794642, 124.6537129546064, 104.56220376199205, 76.80996841112263, 100.12462668691695, 294.36105654882266, 83.78064854797256, 100.21753945562764, 66.18094372147655, 73.0676222334985, 75.60887613278393, 95.65832975728276, 69.77784815879265, 70.15049265921452, 70.8694591836535, 68.4742849676541, 35.69662220695771, 14.744048988881428, 13.724074914153421, 21.91031505458939, 31.66856441424218, 28.3454630626298, 10.779590836499567, 10.997574999276189, 9.44444379282029, 21.789371499652542, 8.329964006698203, 10.48213675550184, 13.632391282474009, 7.640559138473835, 8.702487958833201, 7.380263721840522, 7.335695110435973, 17.5022692653871, 7.78823267854967, 10.262816381500201, 8.563531236782765, 7.594106505172335, 34.16001954272646, 6.572712547866069, 12.012203951412923, 11.178489258750044, 7.949123292257621, 8.640952339087345, 9.74543592648473, 13.465052156802795, 12.861313296209834, 14.92568648014981, 79.61626380567367, 37.287705078139325, 27.122324794238363, 34.55444590651705, 13.468382528636512, 23.58481080218862, 18.31270625824389, 14.485281440414788, 15.205494332359477, 22.255801868083996, 27.93368146459082, 25.64530672403414, 57.15144992665391, 35.60408073833883, 25.121304499482537, 55.43127476688015, 20.182539247480378, 22.749665953391535, 23.904489796300993, 19.604092158026653, 17.024730073654897, 29.511837644958028, 31.83714559003471, 36.582016883365306, 38.85361165247164, 131.92927008378746, 50.63849969723607, 25.92174596316408, 24.5027097665465, 30.063443114629827, 103.9996032269996, 42.55576793969268, 32.934777368818374, 32.12565661039796, 28.244520953001945, 33.561980658485226, 34.34897784427782, 29.961789864822105, 29.99402082896207, 30.25686426623735, 29.489702356837565, 27.932862160635185, 19.404227864170927, 13.27107065621191, 25.098675089011902, 11.819055561802497, 9.524939733919544, 11.958819363531763, 9.013126198973373, 19.97669875835966, 11.53166488199503, 10.049498621065782, 8.51304244351489, 8.088739713020452, 8.461121085215815, 7.7490306493692325, 7.58327805481834, 7.006619182580485, 24.17871259890009, 7.172727324029585, 9.261445692214602, 7.114801033600435, 7.832485635221079, 6.21003546979341, 8.501868407969015, 5.972038302752933, 5.929833385107509, 8.61051124114551, 5.268262245951456, 31.729485037937504, 10.539603708517006, 16.38064382244737, 22.230311780443643, 45.639433241318805, 18.801354367016177, 73.22281512167451, 25.79291269090003, 25.37160614667125, 22.09977766031638, 39.21094189471741, 28.23365817501623, 51.00568794748817, 19.287072383242776, 30.433043070450417, 30.61544527416956, 14.602738613637095, 13.100999756120407, 25.68678116015737, 36.18182192824401, 21.161716086556286, 27.044386301736065, 19.864333576105476, 24.42213735398012, 17.302785779974943, 20.656648819717585, 18.6438181534677, 16.42276935131082, 22.448871245752404, 177.02597120866525, 17.69598848240148, 88.4962219929474, 43.15454072031468, 8.91114122851962, 7.921209170994882, 21.735071966924146, 6.531629023036663, 32.309295374673, 6.3666225614606935, 6.663970715580004, 13.290890757292916, 7.2504934601383395, 19.650310429237738, 21.656704941912142, 5.277838970361076, 5.772388900883643, 15.276721921036424, 6.043264043785076, 27.07479551078424, 6.068163610287586, 4.747178567708142, 52.96605290264372, 61.402337668679536, 6.349965015722992, 6.681694867567482, 20.47865419939856, 16.68774518401454, 31.554926977501683, 29.05373072058083, 26.000858448939972, 26.578743413520773, 47.882312627143904, 17.002868753465048, 20.239214427693014, 23.523288635335767, 27.331658952547084, 22.56669117901393, 12.907823191459846, 11.385322808342515, 31.064568567719267, 95.03659717511147, 13.319051533237012, 19.13699230138261, 16.965113910437726, 15.347851667255291, 16.40571285834089, 43.837654539908314, 46.17243505127513, 23.476298354764527, 26.27034828004219, 17.355596900008802, 11.620505107139042, 9.526982040733035, 11.754637055743483, 8.971329654262744, 8.802314672876783, 8.095466873338387, 9.647863997049752, 8.059014249053053, 7.572175307388897, 11.970306831937672, 9.84223869696151, 7.3884459341521795, 8.11134808738818, 7.975421150127106, 6.6984560471882215, 8.335851314675502, 6.589900095119767, 6.841902822050211, 9.575505203864125, 10.448425740359324, 6.060304668125421, 11.639442240914732, 6.294657214167362, 8.892642402398726, 7.9740940940946725, 12.534949612600697, 18.9026088664749, 13.199272161165242, 12.836829210590048, 15.839836320634083, 20.545671915497785, 13.233006485378494, 19.913056044090357, 21.09263910492918, 27.533836870038346, 22.01916397510785, 12.974640443755828, 14.252870507557702, 12.974821907149444, 13.293030626036876, 10.433889659158286, 11.63211511788274, 11.409892233308788, 10.273883002410429, 34.38165799265552, 20.17677822484079, 36.514790593974396, 15.423804601211122, 52.4265096338379, 15.283314179318511, 14.917995663097244, 10.632765805038405, 8.880127971181382, 26.04749572847582, 19.052664239705877, 17.438417140870364, 9.566616636149702, 5.842966422275836, 14.497906477302113, 22.09954943388769, 7.581164456291264, 8.897586545927178, 23.90724681882675, 9.266858807806871, 28.505670810605217, 23.00967994309752, 22.45475992230963, 6.552254374645559, 17.130613637973493, 4.513192844220513, 21.51332353427997, 4.842680028412318, 8.658842239032214, 2.7435689764643154, 24.588141563776393, 12.216405920149304, 6.3086799433707474, 9.538318829521856, 20.949845669703148, 15.270141580007383, 10.87702717424621, 9.87942798905863, 10.566360479657755, 13.418575675921852, 10.916619765975765, 21.091357872822364, 11.653430048383408, 11.739782306981411, 9.772281737336648, 11.646147712895946, 10.113055514406327, 23.920300932719723, 7.86654284710166, 6.134850334819176, 5.667715288634259, 10.20549754912351, 8.001722693356683, 5.259944422025247, 7.267476207466962, 24.916550427014364, 4.84489064541794, 8.48702471360806, 4.816398956839326, 5.179107531927093, 6.5716144935421985, 4.620780313554915, 4.7054272602257425, 3.6924174951255693, 7.752774169618349, 4.447070067239584, 4.266694188183067, 14.344521498697873, 4.138769837573919, 4.158854361708472, 4.373277475229258, 4.307249700072881, 4.424053447486485, 16.854767993308073, 16.200909838795813, 8.101864879762418, 14.578877524728998, 6.743583189491003, 3.0873984930018024, 7.206056902826122, 6.66182040991087, 7.488890555012543, 5.645184800478284, 10.263198437092676, 9.620635390301457, 12.28188740065913, 4.35285757912938, 7.032961401200265, 9.04834167621308, 7.262163085277506, 4.166743610831271, 3.524190066740365, 6.036908264695305, 2.7507303814563704, 3.525098532955678, 9.19694685326359, 5.160252514791257, 1.7386555352105861, 3.838933109448546, 4.273005503506017, 8.55443881219322, 4.551962583225258, 2.315628539246372, 3.959336024127547, 3.1052581458057964, 4.5997911030036045, 3.8489171086096183, 3.162200253888255, 15.869435837277926, 8.135588100562176, 8.098748456654363, 6.851606583840448, 9.01800216424127, 10.523642617102626, 6.104945360726758, 4.272026871950457, 4.5467829710957925, 16.112145090525225, 13.292202264462833, 3.069201745094621, 2.9146685812858464, 4.538343268524199, 2.946032617994571, 3.1655420446525793, 2.945404550789239, 8.262016055572108, 9.818523578281447, 3.351103139639063, 3.2391734373250007, 3.5567118005970304, 26.641719817462114, 2.820155719511813, 1.6442172267207293, 1.4036779768353598, 2.469389782360921, 6.307184443466605, 2.5188270513741053, 2.3619008909795416, 4.757298791745557, 5.605312642291165, 2.7719557970492446, 2.6896292777710804, 25.281700605083525, 16.61078138949608, 8.826776405382068, 9.725857576875216, 4.689763139401013, 16.662588283416998, 15.038157769188633, 5.895374513892392, 4.625211343959682, 3.5091743281225605, 2.464152462373006, 3.319995038990335, 5.278343024794823, 2.7524072657701733, 2.7175437107930445, 3.342327058152269, 3.965429982267646, 1.7424792196551973, 2.111373290721456, 2.6530822637986917, 2.9595922661435035, 1.9805992060996103, 1.2971017546154164, 1.9243448283749476, 6.293308675572099, 7.345688122293613, 0.7653669599603597, 0.8340373720970798, 1.95183416755549, 0.7015853844086183, 2.5180848220912813, 2.6280292645262944, 1.5671941801109197, 1.803251529948641, 7.740637684159362, 11.435663593503989, 11.709556638475327, 4.2476845429603705, 4.627487861345736, 10.260770241522083, 4.088452114062341, 9.611111703512897, 4.236965699673608, 3.6689740328093383, 2.469098256604375, 3.5059400638386764, 4.138321925860967, 1.7149916070513571, 1.9674360906993127, 1.52643001214044, 1.6707526629745801, 2.2465574273164237, 1.0867178427497464, 1.3977034621456774, 2.251972069401913, 1.7919058239238748, 1.157528222907205, 0.7188430867910051, 0.8380216101340192, 1.7765216965445678, 1.251680609074701, 1.106008371364814, 0.7959021830847907, 0.5031692269785901, 2.0161665313715735, 2.9182722605886986, 2.4132888746302874, 3.3200822031665336, 1.5534901340871454, 1.6257713656577573, 1.4974690615726205, 23.3311204582148, 8.284805863220042, 8.499778698514774, 6.5944279517519755, 4.486860789949555, 8.113557608341845, 8.034478094407065, 7.2103293136571045, 2.1359507719206756, 1.5281033871237226, 2.7844390260756393, 1.1069550154556211, 3.158181156497338, 1.8719372472913833, 2.2896435727591244, 2.0562309348852312, 2.0302056199582172, 1.3318630318190583, 1.4584847113925314, 1.2252284240534628, 0.6965896741685285, 0.057114258154641336, 0.057114258154641336, 0.057114258154641336, 0.057114258154641336, 0.057114258154641336, 0.057114258154641336, 0.057114258154641336, 0.057114258154641336, 0.057114258154641336, 0.05899337835959221, 0.05711630346497177, 0.05711426004331276, 0.057114260028261116, 0.057114258319269036, 0.0571142582963962, 0.05711425823168399, 0.05711425822854478, 0.05711425822673806, 12.456233286446455, 9.317926657429167, 18.27950761293066, 17.191598176573404, 5.550519530895373, 3.0529313439966517, 3.0075993434361377, 1.0157123712208835, 7.516950043406983, 3.6822949711756423, 1.586582959961731, 0.13739593300167202, 0.0578761789822263, 0.0578761789822263, 0.0578761789822263, 0.0578761789822263, 0.0578761789822263, 0.0578761789822263, 0.057876178984055116, 0.0578761789822263, 0.0578761789822263, 0.0578761789822263, 0.0578761789822263, 0.0578761789822263, 0.057876178991170084, 0.0578761789822263, 0.0578761789822263, 0.0578761789822263, 0.05787617898222647, 0.05787617899016591, 0.05787618293672046, 0.05787618010945356, 0.05787617962573314, 0.05787617922795038, 0.05787617918103704, 0.057876179125409564, 0.05787617911950139, 0.05787617911144217, 0.05787617910571255, 0.05787617906677232, 0.05787617905869287, 0.05787617905056254, 0.057876179043317086, 0.05787617903776765, 0.05787617903623964, 0.057876179035466796, 0.0578761790345257, 0.057876179030048464, 12.616175870042566, 3.9357039695447043, 2.8056870677684818, 5.330730282213047, 3.8363453771239913, 2.7318573740054983, 1.1556325270260883, 2.951001151229316, 2.794996899040387, 2.114662743800708, 2.300105476973568, 3.1548820654210816, 0.7266017394237521, 0.9890038407515178, 4.993035137677132, 1.7258943313827089, 2.1550791564280636, 1.315623872179667, 2.002667740448632, 1.0865485051098343, 0.703658218144102, 1.2919106927646447, 0.7258532888699546, 2.8667968248688944, 1.6997434426590274, 1.1507500316604142, 0.781770046469669, 1.363660896830611, 0.3756124108603369, 3.475317881670655, 1.1761844453391284, 2.137789095551855, 1.4602683597743138, 1.1692857776067358, 0.8140531946520658, 8.731601428755216, 13.49100228664774, 4.5020417400208395, 0.06202176350069008, 0.06202176350069008, 0.06202176350069008, 0.06202176350069008, 0.06202176350069008, 0.0620217635041357, 0.06202176350069008, 0.06202176350069008, 0.06202176350069008, 0.06202176350069008, 0.06202176350069008, 0.06202176350069008, 0.06202176350069008, 0.06202176350069008, 0.06202176350069008, 0.06202176350069008, 0.06202176350069029, 0.06202176350069008, 0.06202176350123394, 0.06202176350069008, 0.06202176350069008, 0.06202176350069008, 0.06202176350069008, 0.06202176350307097, 0.06202176350069008, 0.06202176350069008, 0.06202176350069008, 0.062021764880102075, 0.06202176361121109, 0.062021763563560796, 0.06202176355881262, 0.06202176355830062, 0.06202176354880435, 0.062021763547747404, 0.06202176354518894, 0.06202176353990782, 0.06202176353776667, 0.062021763534430674, 0.0620217635307218, 0.062021763530493754, 0.06202176352606492, 0.062021763525886134, 0.06202176352344762, 0.062021763522660735, 0.06202176352200896, 0.062021763521283635, 0.06202176351995545, 0.06202176351948034, 0.06202176351898831, 0.06202176351813449, 0.062021763517405376, 0.062021763515081915, 0.06202176351492135, 0.062021763514401244, 10.538606123083227, 10.324025392628412, 0.06252283667464012, 0.06252283667464012, 0.06252283667464012, 0.06252283667464012, 0.06252283667464012, 0.06252283667464012, 0.06252283667464012, 0.06252283667464012, 0.06252283667464012, 0.06252283667464012, 0.06252283667464012, 0.06252283667464012, 0.06252283667464012, 0.06252283667464012, 0.06252283667464012, 0.06252283669903703, 0.06252283667464033, 0.06252283667464012, 0.06252283667464012, 0.06252283667464012, 0.06252283667464012, 0.06252283667464012, 0.06252283667464012, 0.06252283667464012, 0.06252283667464012, 0.06252283667783469, 0.06252283667464012, 0.06252283667464012, 0.06252286930699887, 0.06252285187407587, 0.06252284432926185, 0.06252283679217477, 0.06252283673276375, 0.06252283672123003, 0.0625228367182591, 0.06252283671288288, 0.06252283671231007, 0.06252283670150563, 0.06252283669764125, 0.06252283669540831, 0.0625228366951857, 0.06252283669330598, 0.06252283669225468, 0.06252283669020556, 0.06252283668998776, 0.06252283668974022, 0.0625228366895385, 0.06252283668865967, 0.06252283668853953, 0.06252283668840034, 0.06252283668793085, 0.06252283668767218, 0.06252283668685286, 0.06252283668674063, 0.06252283668660424, 10.42270274401111, 5.261503122593332, 1.364005761741148, 1.515482943656924, 1.3884731540420796, 0.06256158809771635, 0.06256158809771635, 0.06256158809771635, 0.06256158809771635, 0.06256158809771635, 0.06256158809771635, 0.06256158809771635, 0.06256158809771635, 0.06256158809771635, 0.06256158809771635, 0.06256158809771635, 0.06256158809771635, 0.06256158809771635, 0.06256158809771635, 0.06256158809771635, 0.06256158809771635, 0.06256158809771656, 0.06256158809771635, 0.06256158809771635, 0.06256158809932462, 0.06256158809771635, 0.06256158809771635, 0.06256158809771635, 0.06256158809951289, 0.06256158809771635, 0.06256158829076983, 0.06256158821405605, 0.06256158819120428, 0.0625615881461726, 0.06256158814566701, 0.06256158813701942, 0.06256158813629431, 0.06256158812847756, 0.0625615881270793, 0.06256158812167582, 0.06256158812163957, 0.0625615881193964, 0.06256158811808069, 0.06256158811422112, 0.06256158811392401, 0.06256158811326328, 0.06256158811306445, 0.0625615881121505, 0.06256158811111098, 0.06256158811102269, 0.06256158810989178, 0.06256158810982052, 0.06256158810937325, 0.06256158810937307, 0.0625615881092052, 10.255997166210694, 0.06340351109839062, 0.06340351109839062, 0.06340351109839062, 0.06340351109839062, 0.06340351109839062, 0.06340351109839062, 0.06340351109839062, 0.06340351109839062, 0.06340351109839062, 0.06340351109839062, 0.06340351109839062, 0.06340351109839062, 0.06340351109839062, 0.06340351109839062, 0.06340351109839062, 0.06340351109839062, 0.06340351109839085, 0.06340351109998936, 0.06340351109839062, 0.06340351109839062, 0.06340351109839062, 0.06340351109839062, 0.06340351109839062, 0.06340351109839062, 0.06340351109839062, 0.06340351109839062, 0.06340351109839062, 0.06340351109839062, 0.06340351109839062, 0.06340351115387957, 0.06340351113115875, 0.06340351112913487, 0.06340351112110859, 0.06340351111935334, 0.06340351111561439, 0.06340351111429314, 0.06340351111253394, 0.06340351111052056, 0.06340351110995672, 0.06340351110951524, 0.06340351110941668, 0.06340351110901832, 0.06340351110867996, 0.06340351110862777, 0.06340351110846892, 0.06340351110815069, 0.06340351110741194, 0.06340351110692087, 0.06340351110661262, 0.0634035111059554, 0.06340351110586599, 0.06340351110565805, 0.06340351110549579, 0.06340351110537495, 0.06340351110515013, 0.06340351110496951, 0.06340351110460618, 0.06340351110442367, 9.866819008912604, 0.0634434041125809, 0.0634434041125809, 0.0634434041125809, 0.0634434041125809, 0.0634434041125809, 0.0634434041125809, 0.0634434041125809, 0.0634434041125809, 0.0634434041125809, 0.0634434041125809, 0.06344340411410508, 0.0634434041125809, 0.0634434041125809, 0.0634434041125809, 0.0634434041125809, 0.0634434041125809, 0.06344340411258112, 0.0634434041125809, 0.0634434041125809, 0.0634434041125809, 0.0634434041125809, 0.0634434041125809, 0.0634434041125809, 0.0634434041125809, 0.0634434041125809, 0.0634434041125809, 0.06344340411383088, 0.0634434041125809, 0.06344340411389804, 0.06344340414200533, 0.06344340413439714, 0.06344340413235247, 0.06344340412818733, 0.06344340412797414, 0.06344340412629396, 0.06344340412603851, 0.06344340412569094, 0.06344340412379394, 0.06344340412376813, 0.06344340412309236, 0.0634434041230235, 0.06344340412141733, 0.06344340412121457, 0.06344340412092137, 0.06344340412020559, 0.06344340411951639, 0.06344340411886694, 0.06344340411873466, 0.06344340411847796, 0.0634434041183652, 0.06344340411825766, 0.06344340411817255, 0.06344340411798786, 0.06344340411785458, 0.06344340411764236, 0.06344340411755692, 0.06344340411752203, 0.06344340411726852, 0.7647747490394521, 0.704644454387948, 0.6746332977524788, 0.6807972833409611, 0.5483339197165004, 0.06382299378675775, 0.5370220494102793, 0.06382299378675775, 0.06382299378675775, 0.06382299378675775, 0.06382299378675775, 0.06382299378675775, 0.06382299378675775, 0.06382299378675775, 0.06382299378675775, 0.06382299378675775, 0.06382299378675775, 0.06382299378675775, 0.06382299378675775, 0.06382299378675775, 0.06382299378675775, 0.06382299378675775, 0.06382299378675799, 0.06382299378675775, 0.06382299378675775, 0.06382299378675775, 0.06382299378675775, 0.06382299378675775, 0.06382299378675775, 0.06382299378675775, 0.6131257916509388, 0.4239970195578225, 0.06382299378681988, 0.06382299378677213, 0.06382299378677016, 0.06382299378675935, 0.06382299378675828, 0.06382299378675807, 0.06382299378675813, 0.06382299378675792, 0.06382299378675783, 0.0638229937867579, 0.06382299378675775, 0.06382299378675775, 0.06382299378675775, 0.06382299378675775, 0.06382299378675775, 0.06382299378675775, 0.06382299378675775, 0.06382299378675775, 0.06382299378675776, 0.06382299378675775, 0.06382299378675775, 0.7505751237334847, 0.7122002773339389, 0.7122002773356865, 0.6590133466256857, 0.5770649014706072, 0.7010518304040088, 0.5237490925491184, 0.06384360206041036, 0.06384360206041036, 0.06384360206041036, 0.06384360206041036, 0.06384360206041036, 0.06384360206041036, 0.06384360206041036, 0.06384360206041036, 0.06384360206041036, 0.06384360206041036, 0.06384360206041036, 0.06384360206041036, 0.06384360206041036, 0.06384360206041036, 0.06384360206041036, 0.06384360206041036, 0.06384360206041059, 0.06384360206041036, 0.06384360206041036, 0.06384360206041036, 0.06384360206041036, 0.06384360206041036, 0.06384360206041036, 0.06384360206047257, 0.06384360206042476, 0.06384360206042276, 0.06384360206041195, 0.06384360206041087, 0.06384360206041072, 0.06384360206041068, 0.06384360206041052, 0.0638436020604105, 0.06384360206041036, 0.06384360206041036, 0.06384360206041036, 0.06384360206041036, 0.06384360206041036, 0.06384360206041036, 0.06384360206041036, 0.06384360206041036, 0.06384360206041036, 0.06384360206041036, 0.06384360206041036, 0.06384360206041036, 0.06384360206041036, 0.06430131065500905, 0.06430131065500905, 0.06430131065500905, 0.06430131065500905, 0.06430131065500905, 0.06430131065500905, 0.06430131065500905, 0.06430131065500905, 0.06430131065500905, 0.06430131065500905, 0.06430131065500905, 0.06430131065500905, 0.06430131065500905, 0.06430131065500905, 0.06430131065500905, 0.06430131065500905, 0.06430131065500928, 0.06430131065500905, 0.06430131065500905, 0.06430131065500905, 0.06430131065500905, 0.06430131065500905, 0.06430131065500905, 0.06430131065500905, 0.06430131065500905, 0.06430131065500905, 0.06430131065500905, 0.06430131065500905, 0.06430131065500905, 0.06430131065500905, 0.06430131065507252, 0.06430131065502373, 0.06430131065502172, 0.06430131065501067, 0.06430131065500956, 0.06430131065500941, 0.06430131065500938, 0.0643013106550092, 0.06430131065500921, 0.06430131065500908, 0.06430131065500912, 0.0643013106550091, 0.06430131065500909, 0.06430131065500908, 0.06430131065500905, 0.06430131065500905, 0.06430131065500905, 0.06430131065500905, 0.06430131065500905, 0.06430131065500905, 0.06430131065500905, 0.06430131065500905, 0.06430131065500905, 0.06430131065500905, 0.06430131065500905, 0.06430131065500905, 0.06430131065500905, 0.06430131065500905, 0.06430131065500905, 0.06430131065500905, 0.06430131065500905, 0.06430131065500905, 0.06430131065500905, 0.06430131065500905, 0.06430131065500905, 0.06430131065500905, 0.06430131065500905, 0.06430131065500905, 0.06430131065500905, 0.06430131065500905, 0.06430131065500905, 0.06430131065500905, 0.06430131065500905, 0.06430131065500905, 0.06430131065500905, 0.06430131065500928, 0.06430131065500905, 0.06430131065500905, 0.06430131065500905, 0.06430131065500905, 0.06430131065500905, 0.06430131065500905, 0.06430131065500905, 0.06430131065500905, 0.06430131065500905, 0.06430131065500905, 0.06430131065500905, 0.06430131065500905, 0.06430131065500905, 0.06430131065507252, 0.06430131065502373, 0.06430131065502172, 0.06430131065501067, 0.06430131065500956, 0.06430131065500941, 0.06430131065500938, 0.0643013106550092, 0.06430131065500921, 0.06430131065500908, 0.06430131065500912, 0.0643013106550091, 0.06430131065500909, 0.06430131065500908, 0.06430131065500905, 0.06430131065500905, 0.06430131065500905, 0.06430131065500905, 0.06430131065500905, 0.06430131065500905, 0.06430131065500905, 0.06430131065500905, 0.06430131065500905, 0.06430131065500905, 0.06430131065500905, 0.06430131065500905, 0.06430131065500905, 0.06430131065500905, 0.06430131065500905, 0.06430131065500905, 0.06430131065500905, 0.06430131065500905, 0.06430131065500905, 0.06430131065500905, 0.06430131065500905, 0.06430131065500905, 0.06430131065500905, 0.06430131065500905, 0.06430131065500905, 0.06430131065500905, 0.06430131065500905, 0.06430131065500905, 0.06430131065500905, 0.06430131065500905, 0.06430131065500905, 0.06430131065500928, 0.06430131065500905, 0.06430131065500905, 0.06430131065500905, 0.06430131065500905, 0.06430131065500905, 0.06430131065500905, 0.06430131065500905, 0.06430131065500905, 0.06430131065500905, 0.06430131065500905, 0.06430131065500905, 0.06430131065500905, 0.06430131065500905, 0.06430131065507252, 0.06430131065502373, 0.06430131065502172, 0.06430131065501067, 0.06430131065500956, 0.06430131065500941, 0.06430131065500938, 0.0643013106550092, 0.06430131065500921, 0.06430131065500908, 0.06430131065500912, 0.0643013106550091, 0.06430131065500909, 0.06430131065500908, 0.06430131065500905, 0.06430131065500905, 0.06430131065500905, 0.06430131065500905, 0.06430131065500905, 0.06430131065500905, 0.06430131065500905, 0.06430131065500905, 0.06430131065500905, 0.06430131065500905, 0.06430131065500905, 0.06430131065500905, 0.06430131065500905, 0.06430131065500905, 0.06430131065500905, 0.06430131065500905, 0.06430131065500905, 0.06430131065500905, 0.06430131065500905, 0.06430131065500905, 0.06430131065500905, 0.06430131065500905, 0.06430131065500905, 0.06430131065500905, 0.06430131065500905, 0.06430131065500905, 0.06430131065500905, 0.06430131065500905, 0.06430131065500905, 0.06430131065500905, 0.06430131065500905, 0.06430131065500928, 0.06430131065500905, 0.06430131065500905, 0.06430131065500905, 0.06430131065500905, 0.06430131065500905, 0.06430131065500905, 0.06430131065500905, 0.06430131065500905, 0.06430131065500905, 0.06430131065500905, 0.06430131065500905, 0.06430131065500905, 0.06430131065500905, 0.06430131065507252, 0.06430131065502373, 0.06430131065502172, 0.06430131065501067, 0.06430131065500956, 0.06430131065500941, 0.06430131065500938, 0.0643013106550092, 0.06430131065500921, 0.06430131065500908, 0.06430131065500912, 0.0643013106550091, 0.06430131065500909, 0.06430131065500908, 0.06430131065500905, 0.06430131065500905, 0.06430131065500905, 0.06430131065500905, 0.06430131065500905, 0.06430131065500905, 0.06430131065500905, 0.06430131065500905, 0.06430131065500905, 0.06430131065500905, 0.06430131065500905, 0.06430131065500905, 0.06430131065500905, 0.06430131065500905, 0.06430131065500905], \"Term\": [\"mr\", \"trump\", \"percent\", \"new\", \"york\", \"said\", \"clinton\", \"game\", \"university\", \"times\", \"music\", \"china\", \"dr\", \"company\", \"father\", \"week\", \"book\", \"graduated\", \"com\", \"article\", \"season\", \"school\", \"mother\", \"mrs\", \"public\", \"law\", \"campaign\", \"son\", \"theater\", \"couple\", \"art\", \"companies\", \"business\", \"museum\", \"market\", \"film\", \"billion\", \"park\", \"space\", \"story\", \"street\", \"industry\", \"sales\", \"fashion\", \"technology\", \"project\", \"price\", \"square\", \"design\", \"broadway\", \"shows\", \"restaurant\", \"apple\", \"artist\", \"investment\", \"artists\", \"collection\", \"facebook\", \"prices\", \"movie\", \"like\", \"company\", \"food\", \"work\", \"million\", \"look\", \"life\", \"ms\", \"says\", \"don\", \"black\", \"new\", \"room\", \"000\", \"make\", \"said\", \"way\", \"years\", \"just\", \"people\", \"year\", \"time\", \"times\", \"city\", \"mr\", \"world\", \"york\", \"want\", \"school\", \"day\", \"percent\", \"long\", \"dr\", \"american\", \"women\", \"islamic\", \"taliban\", \"mateen\", \"syria\", \"_____\", \"prosecutors\", \"militants\", \"afghan\", \"erdogan\", \"iran\", \"assad\", \"civilians\", \"syrian\", \"mcmurray\", \"detained\", \"hiroshima\", \"temer\", \"briefing\", \"detention\", \"rousseff\", \"prosecution\", \"qaeda\", \"officers\", \"falluja\", \"sentenced\", \"killings\", \"nato\", \"putin\", \"palestinian\", \"israeli\", \"afghanistan\", \"terrorism\", \"police\", \"military\", \"gun\", \"justice\", \"arrest\", \"prison\", \"arrested\", \"convicted\", \"saudi\", \"nations\", \"killed\", \"authorities\", \"government\", \"judge\", \"attacks\", \"court\", \"forces\", \"charges\", \"russia\", \"criminal\", \"turkey\", \"rights\", \"security\", \"european\", \"officials\", \"mr\", \"state\", \"minister\", \"attack\", \"union\", \"said\", \"united\", \"obama\", \"case\", \"britain\", \"law\", \"states\", \"country\", \"party\", \"president\", \"people\", \"warriors\", \"cavaliers\", \"djokovic\", \"tournament\", \"copa\", \"wimbledon\", \"leicester\", \"am\\u00e9rica\", \"finals\", \"kerr\", \"raptors\", \"nadal\", \"atl\\u00e9tico\", \"rebounds\", \"federer\", \"messi\", \"semifinals\", \"curry\", \"durant\", \"spurs\", \"seeded\", \"knicks\", \"semifinal\", \"assists\", \"spieth\", \"tournaments\", \"championships\", \"westbrook\", \"coach\", \"thunder\", \"championship\", \"cup\", \"players\", \"soccer\", \"game\", \"player\", \"scored\", \"teams\", \"games\", \"round\", \"team\", \"match\", \"points\", \"league\", \"playoff\", \"tennis\", \"win\", \"season\", \"goal\", \"play\", \"final\", \"second\", \"victory\", \"won\", \"series\", \"shot\", \"said\", \"trump\", \"delegates\", \"clinton\", \"sanders\", \"primaries\", \"kasich\", \"nominee\", \"duterte\", \"republicans\", \"wada\", \"romney\", \"presumptive\", \"delegate\", \"cruz\", \"hillary\", \"antidoping\", \"rubio\", \"nomination\", \"deutsche\", \"democrats\", \"pac\", \"rodchenkov\", \"republican\", \"mrs\", \"candidacy\", \"mcconnell\", \"candidate\", \"convention\", \"voters\", \"democratic\", \"senator\", \"presidential\", \"campaign\", \"candidates\", \"primary\", \"donald\", \"election\", \"senate\", \"polls\", \"bernie\", \"party\", \"mr\", \"supporters\", \"obama\", \"vote\", \"political\", \"state\", \"mets\", \"yankees\", \"innings\", \"inning\", \"girardi\", \"syndergaard\", \"beltran\", \"sox\", \"nyquist\", \"teixeira\", \"matz\", \"hitter\", \"pitchers\", \"fastball\", \"homer\", \"cubs\", \"degrom\", \"braves\", \"baseman\", \"cespedes\", \"batting\", \"bullpen\", \"reyes\", \"pitching\", \"pitcher\", \"fielder\", \"derby\", \"catcher\", \"pitches\", \"nationals\", \"harvey\", \"collins\", \"pitch\", \"rodriguez\", \"baseball\", \"runs\", \"hits\", \"hit\", \"run\", \"game\", \"season\", \"base\", \"league\", \"field\", \"games\", \"ball\", \"home\", \"team\", \"manager\", \"groom\", \"officiated\", \"bride\", \"laude\", \"graduated\", \"cum\", \"rev\", \"priest\", \"rabbi\", \"married\", \"degree\", \"retired\", \"associate\", \"va\", \"master\", \"daughter\", \"catholic\", \"columbia\", \"couple\", \"ceremony\", \"father\", \"son\", \"received\", \"harvard\", \"met\", \"yale\", \"mother\", \"universal\", \"calif\", \"clinical\", \"university\", \"firm\", \"performed\", \"church\", \"york\", \"dr\", \"college\", \"medical\", \"june\", \"new\", \"law\", \"misstated\", \"698\", \"556\", \"844\", \"mailed\", \"incorrectly\", \"nytimes\", \"editions\", \"editing\", \"errors\", \"212\", \"error\", \"warrant\", \"correction\", \"article\", \"suggestions\", \"800\", \"integrity\", \"mail\", \"referred\", \"toll\", \"delivery\", \"copies\", \"comments\", \"letters\", \"complaints\", \"com\", \"column\", \"messages\", \"coverage\", \"picture\", \"news\", \"penguins\", \"islanders\", \"puck\", \"sharks\", \"crosby\", \"pitsiladis\", \"mitsubishi\", \"capitals\", \"defenseman\", \"toni\", \"lightning\", \"overtime\", \"pittsburgh\", \"nate\", \"tampa\", \"jose\", \"blues\", \"saves\", \"nashville\", \"stanley\", \"couture\", \"postseason\", \"period\", \"ice\", \"assist\", \"playoffs\", \"playoff\", \"goal\", \"bay\", \"matt\", \"goals\", \"louis\", \"san\", \"series\", \"scored\", \"cents\", \"crude\", \"barrel\", \"yen\", \"index\", \"stocks\", \"ounce\", \"benchmark\", \"yahoo\", \"rose\", \"fell\", \"climbed\", \"yield\", \"gained\", \"euro\", \"gains\", \"jumped\", \"stock\", \"oil\", \"bond\", \"dollar\", \"industrial\", \"percent\", \"earnings\", \"strategist\", \"disappointing\", \"48\", \"investors\", \"pound\", \"49\", \"energy\", \"points\", \"quarter\", \"17\", \"ballet\", \"opera\", \"dancers\", \"orchestra\", \"dancer\", \"dance\", \"festival\", \"org\", \"premiere\", \"oct\", \"nov\", \"aug\", \"performances\", \"dancing\", \"composer\", \"perform\", \"lineup\", \"concerts\", \"performers\", \"sept\", \"concert\", \"performing\", \"staged\", \"artistic\", \"theater\", \"music\", \"classical\", \"presents\", \"performed\", \"sherman\", \"july\", \"june\", \"tv\", \"season\", \"lemonade\", \"beyonc\\u00e9\", \"bath\", \"garage\", \"slide\", \"bedroom\", \"elevator\", \"album\", \"properties\", \"uber\", \"acre\", \"streaming\", \"featured\", \"basement\", \"acres\", \"deck\", \"attached\", \"drivers\", \"updated\", \"op\", \"views\", \"pool\", \"heights\", \"ceiling\", \"floors\", \"region\", \"stone\", \"conn\", \"friendly\", \"midtown\", \"car\", \"building\", \"half\", \"week\", \"brooklyn\", \"york\", \"house\", \"volkswagen\", \"theranos\", \"chrysler\", \"diesel\", \"cheating\", \"emissions\", \"vehicles\", \"cars\", \"pollution\", \"dealers\", \"tests\", \"penalties\", \"owners\", \"regulators\", \"models\", \"settlement\", \"scandal\", \"compensation\", \"vehicle\", \"software\", \"german\", \"pitsiladis\", \"herzer\", \"mansour\", \"amusements\", \"mullah\", \"casino\", \"clouds\", \"rhodes\", \"electorate\", \"controls\", \"deutsche\", \"merkel\", \"misstated\", \"defeat\", \"mitsubishi\", \"admitted\", \"disclose\", \"worldwide\", \"taiwan\", \"airbnb\", \"hong\", \"kong\", \"mainland\", \"ma\", \"arbitration\", \"lin\", \"china\", \"chinese\", \"beijing\", \"lenders\", \"pitsiladis\", \"herzer\", \"mansour\", \"amusements\", \"mullah\", \"casino\", \"clouds\", \"rhodes\", \"electorate\", \"frazier\", \"filings\", \"turnout\", \"stated\", \"integration\", \"commanders\", \"trauma\", \"rodchenkov\", \"sue\", \"cheating\", \"producing\", \"ring\", \"rates\", \"ap\", \"92\", \"premier\", \"prosecution\", \"progressive\", \"quarters\", \"goals\", \"getting\", \"takeover\", \"guaranteed\", \"clubs\", \"jean\", \"1997\", \"democracy\", \"podcast\", \"essay\", \"reviews\", \"review\", \"episode\", \"writes\", \"hannah\", \"reading\", \"talks\", \"publishing\", \"hear\", \"modern\", \"sherman\", \"listen\", \"book\", \"follow\", \"host\", \"instagram\", \"paul\", \"actress\", \"childhood\", \"novel\", \"liberal\", \"love\", \"inside\", \"jones\", \"discuss\", \"talk\", \"warner\", \"times\", \"twitter\", \"york\", \"new\", \"week\", \"news\", \"gannett\", \"tribune\", \"publishing\", \"pitsiladis\", \"herzer\", \"mansour\", \"amusements\", \"mullah\", \"casino\", \"clouds\", \"rhodes\", \"electorate\", \"frazier\", \"filings\", \"turnout\", \"stated\", \"integration\", \"commanders\", \"trauma\", \"rodchenkov\", \"sue\", \"financially\", \"delivering\", \"wary\", \"blacks\", \"disputes\", \"aggressively\", \"credits\", \"fights\", \"genetic\", \"pac\", \"votes\", \"newspapers\", \"tampa\", \"usa\", \"publisher\", \"valeant\", \"bid\", \"shareholders\", \"shareholder\", \"takeover\", \"elections\", \"rejected\", \"acquire\", \"premium\", \"investor\", \"directors\", \"disclosed\", \"negotiate\", \"engage\", \"newspaper\", \"missed\", \"tactics\", \"offer\", \"counted\", \"chicago\", \"defense\", \"boko\", \"haram\", \"pitsiladis\", \"herzer\", \"mansour\", \"amusements\", \"mullah\", \"casino\", \"clouds\", \"rhodes\", \"electorate\", \"frazier\", \"filings\", \"turnout\", \"stated\", \"integration\", \"commanders\", \"trauma\", \"rodchenkov\", \"sue\", \"financially\", \"delivering\", \"wary\", \"blacks\", \"disputes\", \"aggressively\", \"credits\", \"fights\", \"genetic\", \"louisville\", \"yellow\", \"awareness\", \"militants\", \"starting\", \"girls\", \"civilians\", \"enterprise\", \"fighter\", \"hometown\", \"rodriguez\", \"fighters\", \"girl\", \"fled\", \"lake\", \"comfortable\", \"forest\", \"wrapped\", \"ali\", \"civilian\", \"calm\", \"baby\", \"mosque\", \"examples\", \"village\", \"look\", \"refugee\", \"sounded\", \"hastert\", \"bulls\", \"wrestling\", \"phillips\", \"wright\", \"pitsiladis\", \"herzer\", \"mansour\", \"amusements\", \"mullah\", \"casino\", \"clouds\", \"rhodes\", \"electorate\", \"frazier\", \"filings\", \"turnout\", \"stated\", \"integration\", \"commanders\", \"trauma\", \"rodchenkov\", \"sue\", \"financially\", \"delivering\", \"wary\", \"blacks\", \"disputes\", \"aggressively\", \"credits\", \"stroke\", \"defendant\", \"coaches\", \"illinois\", \"74\", \"19th\", \"coach\", \"middle\", \"recorded\", \"transactions\", \"banking\", \"speaker\", \"abuse\", \"trail\", \"letters\", \"feed\", \"orlando\", \"requirements\", \"sam\", \"aide\", \"prosecutors\", \"longest\", \"hat\", \"terrorists\", \"cards\", \"howe\", \"pitsiladis\", \"herzer\", \"mansour\", \"amusements\", \"mullah\", \"casino\", \"clouds\", \"rhodes\", \"electorate\", \"frazier\", \"filings\", \"turnout\", \"stated\", \"integration\", \"commanders\", \"trauma\", \"rodchenkov\", \"sue\", \"financially\", \"delivering\", \"wary\", \"blacks\", \"disputes\", \"aggressively\", \"credits\", \"fights\", \"genetic\", \"louisville\", \"costly\", \"puck\", \"ted\", \"1980\", \"cuomo\", \"nov\", \"wings\", \"sons\", \"albany\", \"aide\", \"tigers\", \"quit\", \"stick\", \"oct\", \"lobbying\", \"threatening\", \"1950s\", \"maintained\", \"buffalo\", \"ice\", \"birthday\", \"52\", \"todd\", \"detroit\", \"boards\", \"aides\", \"ambassador\", \"highlights\", \"hockey\", \"teenage\", \"valeant\", \"pitsiladis\", \"herzer\", \"mansour\", \"amusements\", \"mullah\", \"casino\", \"clouds\", \"rhodes\", \"electorate\", \"frazier\", \"filings\", \"turnout\", \"stated\", \"integration\", \"commanders\", \"trauma\", \"rodchenkov\", \"sue\", \"financially\", \"delivering\", \"wary\", \"blacks\", \"disputes\", \"aggressively\", \"credits\", \"fights\", \"genetic\", \"louisville\", \"costly\", \"senators\", \"elections\", \"qualifying\", \"hospitals\", \"accounting\", \"premier\", \"testified\", \"pledged\", \"investigations\", \"clinic\", \"drugs\", \"priorities\", \"practices\", \"file\", \"investigated\", \"senate\", \"prescription\", \"qualified\", \"negotiate\", \"mail\", \"congress\", \"cleveland\", \"prosecutors\", \"hedge\", \"joseph\", \"drug\", \"committees\", \"investor\", \"qualify\", \"performing\", \"behavior\", \"seasons\", \"arts\", \"television\", \"pitsiladis\", \"central\", \"herzer\", \"mansour\", \"amusements\", \"mullah\", \"casino\", \"clouds\", \"rhodes\", \"electorate\", \"frazier\", \"filings\", \"turnout\", \"stated\", \"integration\", \"commanders\", \"trauma\", \"rodchenkov\", \"sue\", \"financially\", \"delivering\", \"wary\", \"blacks\", \"disputes\", \"aggressively\", \"china\", \"national\", \"twins\", \"pulse\", \"deutsche\", \"crosby\", \"lenders\", \"erdogan\", \"sherman\", \"square\", \"airstrikes\", \"reyes\", \"essentially\", \"eventually\", \"events\", \"eric\", \"event\", \"evening\", \"euros\", \"error\", \"errors\", \"europeans\", \"escape\", \"actress\", \"singer\", \"guests\", \"dinner\", \"common\", \"williams\", \"included\", \"pitsiladis\", \"herzer\", \"mansour\", \"amusements\", \"mullah\", \"casino\", \"clouds\", \"rhodes\", \"electorate\", \"frazier\", \"filings\", \"turnout\", \"stated\", \"integration\", \"commanders\", \"trauma\", \"rodchenkov\", \"sue\", \"financially\", \"delivering\", \"wary\", \"blacks\", \"disputes\", \"twins\", \"pulse\", \"deutsche\", \"crosby\", \"lenders\", \"sherman\", \"erdogan\", \"square\", \"reyes\", \"estimates\", \"ethics\", \"zuckerberg\", \"ethnic\", \"euro\", \"estimated\", \"european\", \"europeans\", \"euros\", \"evening\", \"europe\", \"establish\", \"estimate\", \"pitsiladis\", \"herzer\", \"mansour\", \"amusements\", \"mullah\", \"casino\", \"clouds\", \"rhodes\", \"electorate\", \"frazier\", \"filings\", \"turnout\", \"stated\", \"integration\", \"commanders\", \"trauma\", \"rodchenkov\", \"sue\", \"financially\", \"delivering\", \"wary\", \"blacks\", \"disputes\", \"aggressively\", \"credits\", \"fights\", \"genetic\", \"louisville\", \"costly\", \"requirement\", \"twins\", \"pulse\", \"deutsche\", \"crosby\", \"lenders\", \"sherman\", \"erdogan\", \"reyes\", \"square\", \"defenseman\", \"airstrikes\", \"antidoping\", \"698\", \"mateen\", \"espn\", \"european\", \"equivalent\", \"everybody\", \"era\", \"eventually\", \"events\", \"eric\", \"event\", \"evening\", \"euros\", \"error\", \"errors\", \"europeans\", \"escape\", \"pitsiladis\", \"herzer\", \"mansour\", \"amusements\", \"mullah\", \"casino\", \"clouds\", \"rhodes\", \"electorate\", \"frazier\", \"filings\", \"turnout\", \"stated\", \"integration\", \"commanders\", \"trauma\", \"rodchenkov\", \"sue\", \"financially\", \"delivering\", \"wary\", \"blacks\", \"disputes\", \"aggressively\", \"credits\", \"fights\", \"genetic\", \"louisville\", \"costly\", \"requirement\", \"twins\", \"pulse\", \"deutsche\", \"crosby\", \"lenders\", \"sherman\", \"erdogan\", \"reyes\", \"square\", \"defenseman\", \"airstrikes\", \"antidoping\", \"698\", \"mateen\", \"espn\", \"european\", \"equivalent\", \"everybody\", \"era\", \"eventually\", \"events\", \"eric\", \"event\", \"evening\", \"euros\", \"error\", \"errors\", \"europeans\", \"escape\", \"pitsiladis\", \"herzer\", \"mansour\", \"amusements\", \"mullah\", \"casino\", \"clouds\", \"rhodes\", \"electorate\", \"frazier\", \"filings\", \"turnout\", \"stated\", \"integration\", \"commanders\", \"trauma\", \"rodchenkov\", \"sue\", \"financially\", \"delivering\", \"wary\", \"blacks\", \"disputes\", \"aggressively\", \"credits\", \"fights\", \"genetic\", \"louisville\", \"costly\", \"requirement\", \"twins\", \"pulse\", \"deutsche\", \"crosby\", \"lenders\", \"sherman\", \"erdogan\", \"reyes\", \"square\", \"defenseman\", \"airstrikes\", \"antidoping\", \"698\", \"mateen\", \"espn\", \"european\", \"equivalent\", \"everybody\", \"era\", \"eventually\", \"events\", \"eric\", \"event\", \"evening\", \"euros\", \"error\", \"errors\", \"europeans\", \"escape\", \"pitsiladis\", \"herzer\", \"mansour\", \"amusements\", \"mullah\", \"casino\", \"clouds\", \"rhodes\", \"electorate\", \"frazier\", \"filings\", \"turnout\", \"stated\", \"integration\", \"commanders\", \"trauma\", \"rodchenkov\", \"sue\", \"financially\", \"delivering\", \"wary\", \"blacks\", \"disputes\", \"aggressively\", \"credits\", \"fights\", \"genetic\", \"louisville\", \"costly\", \"requirement\", \"twins\", \"pulse\", \"deutsche\", \"crosby\", \"lenders\", \"sherman\", \"erdogan\", \"reyes\", \"square\", \"defenseman\", \"airstrikes\", \"antidoping\", \"698\", \"mateen\", \"espn\", \"european\", \"equivalent\", \"everybody\", \"era\", \"eventually\", \"events\", \"eric\", \"event\", \"evening\", \"euros\", \"error\", \"errors\", \"europeans\", \"escape\"], \"Total\": [522.0, 191.0, 133.0, 216.0, 132.0, 535.0, 99.0, 123.0, 84.0, 89.0, 67.0, 69.0, 86.0, 132.0, 68.0, 91.0, 57.0, 58.0, 54.0, 50.0, 100.0, 85.0, 64.0, 80.0, 81.0, 83.0, 76.0, 55.0, 47.0, 53.0, 75.78523725015819, 67.15030428278817, 67.49173751225841, 56.459576870463124, 56.04394365881491, 56.022862574363764, 63.676174665704494, 55.591264246892145, 48.74535322044127, 52.47505983743465, 69.29296254676606, 43.84783555551043, 41.91339449595061, 41.90335364248975, 39.76997771370453, 40.712633184121806, 37.451354294146725, 37.502630289261425, 36.296259145980365, 36.216372987083005, 39.03922180622257, 37.09730893939579, 35.41077893913158, 35.16124213700174, 34.8643889889826, 34.564658595349506, 34.150712901406074, 45.976926487693184, 33.40244253764754, 33.383017077656, 172.01862408551153, 132.95827650838953, 51.85407457288496, 97.02319578135045, 109.49751860647952, 56.166047293651545, 75.82111125368327, 193.8223427749664, 58.99622211492436, 81.92677878935424, 60.21352373521388, 216.33115855622168, 56.41736405656543, 91.07478501904076, 89.81591196301537, 535.4251986175673, 88.42863469412617, 128.95031704504407, 125.95487340740918, 165.48868370218577, 155.91469991978911, 131.52909120959566, 89.12668870841547, 126.33969495476435, 522.5692261898779, 100.38194404336933, 132.0154147705818, 74.07706585665144, 85.97503420915112, 92.06443981082509, 133.69424690990928, 81.26626507840626, 86.89186202925623, 95.29926373465555, 81.05029689704868, 38.71206974862914, 16.149832329596396, 15.040755559210996, 24.209837230962012, 35.34945952679597, 31.683162873286612, 12.239727946137807, 12.495624254238885, 10.761124940234875, 25.142556953125908, 9.646644595790535, 12.190607968187583, 15.882666769175046, 8.95723986023479, 10.21172901743583, 8.696944456384383, 8.652375699528339, 20.709236275303446, 9.249432136318118, 12.221574188147107, 10.217237272633877, 9.102013812710753, 40.97086004288337, 7.8893931369695185, 14.435233262162901, 13.518163081200214, 9.693399680292337, 10.559910207406606, 11.91932982346663, 16.48229102164636, 15.777924421605052, 18.51974971213071, 104.19766164614714, 47.69543499612406, 35.34336314043403, 46.90839007648903, 16.866515043942737, 31.762139461736027, 23.93516965629456, 18.418538854807224, 19.504437807113632, 30.43663406780714, 40.238074400120595, 36.658789444135884, 96.50504749842169, 54.45505982095457, 35.857677936122144, 94.1789183555133, 27.70397485681677, 32.51034695607659, 34.93319654132896, 27.13412943344525, 22.607744517913826, 49.176709494373874, 55.747154775139364, 68.42037773839647, 75.36283158630661, 522.5692261898779, 123.5590775692855, 42.05755582033185, 38.544016416581826, 55.6489820432903, 535.4251986175673, 108.02953806167953, 68.14378187178431, 70.95251499525168, 52.60045933544239, 83.60589861499206, 105.92033828408333, 78.41886316906634, 87.3377634560359, 92.83082231016887, 165.48868370218577, 30.43249939992243, 21.146586533861203, 14.587174102593558, 27.8319667492008, 13.153225757442952, 10.841043176003987, 13.703254759607104, 10.348110393523227, 22.956601084855787, 13.32866195732291, 11.642590901650713, 9.865475040349773, 9.404843155094328, 9.890965536250002, 9.065134318744118, 8.899381499267363, 8.32272262562383, 28.811018968146193, 8.556550594492247, 11.110438438176743, 8.577955336007067, 9.444410553262719, 7.526138912039166, 10.33460364957482, 7.395754229400904, 7.520420582326011, 10.933666217467486, 6.713718663372011, 40.64418662436078, 13.829691737038145, 21.51276248855844, 29.500142109015524, 61.99753536098724, 25.06790003516187, 123.91162295311383, 38.47303306050025, 38.475868168315316, 32.88820507768989, 66.35441018793131, 45.324454612350316, 94.95276802356727, 28.906288605528438, 52.32779198429154, 53.902883034059045, 21.03306243404336, 18.747562310341635, 55.4447239792213, 100.8812913221943, 44.33106837179783, 71.70256156919308, 46.004394393823944, 79.2065836479501, 35.97225123022334, 63.12909656595694, 72.59663990762816, 46.4246587178119, 535.4251986175673, 191.77393858535476, 19.833500394961156, 99.47136468020202, 49.78463859364481, 10.393513027505488, 9.31121489042739, 25.734396118458164, 7.854840510368349, 39.17885211686051, 7.7617761475793285, 8.153096343093202, 16.35583886539054, 9.071600984227487, 24.60717048031798, 27.144617491740544, 6.631128147013762, 7.258664622433625, 19.219144952632615, 7.604600023602579, 34.25077953063746, 7.681072475751307, 6.062231784687591, 69.21717889740216, 80.25526840641336, 8.484927186278247, 8.936692963150172, 28.39991864553284, 23.234502835989918, 44.35465121738325, 41.57296449721667, 37.49989784907045, 38.41864449033162, 76.47375710182965, 24.846736938037477, 30.56678317521636, 36.495744917751274, 44.41270852237958, 37.51652568459866, 19.09779015006574, 16.889765874505596, 87.3377634560359, 522.5692261898779, 25.63944378567319, 68.14378187178431, 49.81736372475217, 62.01722705114805, 123.5590775692855, 45.867288689314876, 48.91260107592476, 24.939357465318093, 27.99178880626072, 18.66895172971626, 12.933859874250816, 10.840336807840547, 13.388108842875146, 10.34021067789143, 10.199647833357194, 9.408821640449403, 11.218811398174122, 9.372369016228964, 8.885530193695116, 14.08201447346906, 11.585574832592412, 8.701800701410104, 9.5983903802552, 9.498220413396362, 8.011810956795523, 9.991996934691906, 7.903254862227055, 8.289497327801515, 11.672644191132784, 12.828760142431689, 7.504089112926674, 14.618635823699147, 7.94796958081216, 11.270118282285944, 10.218243993601373, 16.662061853673936, 29.371346089148766, 19.093789477610258, 18.48629929239501, 24.485557857039325, 37.52229103980926, 21.366222126883006, 52.01954808153917, 65.76855718917487, 123.91162295311383, 100.8812913221943, 30.79382272805498, 53.902883034059045, 40.987593887249005, 66.35441018793131, 34.094065740100206, 89.26458507495474, 94.95276802356727, 41.14330341726021, 36.589204041867845, 21.747027404897338, 39.72853373794787, 16.894805697565086, 58.18714355041554, 17.0697310323956, 20.62160226436182, 14.929459732719426, 13.089518073164196, 40.50172313261918, 35.02975615622601, 32.86000183314883, 18.74798564834696, 11.47177403585153, 28.73353140102001, 48.02261936899946, 16.65364256480619, 19.88112968073891, 53.52071816968207, 21.60169104319648, 68.87586869947816, 55.72355098499715, 56.212206550886194, 18.64271306131835, 49.33383173141882, 13.460722323687767, 64.87752188751439, 15.486680573147101, 27.83346124092549, 9.054604438990834, 84.1651718426439, 46.35039318881138, 21.340142361173044, 39.11912977996859, 132.0154147705818, 86.89186202925623, 52.198371724063236, 41.86851538371283, 57.6134304558273, 216.33115855622168, 83.60589861499206, 22.39609969577105, 12.958172298057148, 13.07961377501748, 11.201568095093004, 13.507905026967979, 11.996848276722758, 33.783864828611854, 11.437185061253043, 10.49136357959418, 9.990366749112177, 19.473671231642005, 15.427097330124376, 10.292558563417328, 14.272557182580252, 50.49577657168721, 11.305788794253575, 20.23731503052579, 11.679432777543509, 12.854482990198951, 16.63999002294512, 12.359217856083696, 12.993743538078608, 10.968845402769958, 27.260545938723098, 16.355810430906693, 15.78530340476855, 54.97937720200852, 16.079483657214812, 17.101897051354968, 17.989542486789357, 22.442046368631175, 78.19398612377691, 19.2559093579046, 18.519588594468303, 10.33851695504017, 18.762114616709162, 9.08022321421579, 4.391112059795652, 10.270865462617557, 9.54829507188043, 10.828270967261448, 8.375082627899772, 15.377198240633684, 15.601097838527076, 21.24680914555811, 7.736764397023712, 13.991823930690018, 18.342466868337436, 14.921431798873478, 8.584214035632746, 10.014263226961937, 17.546537335142535, 8.948286625613806, 13.209099275743174, 34.68649808345055, 22.269102296603936, 7.724366645954882, 18.21703474013875, 21.03306243404336, 44.33106837179783, 24.254283594375515, 13.719344961444785, 24.969394755349168, 19.323685270463187, 45.12313723750844, 72.59663990762816, 38.475868168315316, 22.02249878080702, 11.846711199649752, 12.331742033472214, 10.816798523831514, 14.83084055956496, 17.525841104316942, 10.633850532924727, 8.238549436368427, 9.460078616743798, 41.656931364080535, 35.695166886706964, 8.899068618199017, 8.793123775713118, 14.826722292985158, 10.085333957922945, 12.14801183885134, 11.404163740076784, 35.70450057315197, 42.69898546641702, 15.331329575328933, 14.821750425892331, 16.383846479810032, 133.69424690990928, 14.9961127355935, 8.977796837397477, 7.942959132556241, 14.424928114631204, 37.472448127778286, 15.130703673443334, 14.750094486454813, 39.80012641668736, 52.32779198429154, 40.52593526382823, 34.04594933328047, 28.72781152594686, 24.63551975247446, 14.033914120158048, 15.591063151017755, 9.58032193211707, 34.23118529203997, 39.78632363274654, 16.284970476329928, 14.340340951218884, 10.922785150716564, 8.426031799516524, 12.51831202940724, 20.16221271381084, 10.901022606299737, 10.932785153290913, 14.403887722552168, 17.597114096110996, 8.438014618158041, 11.350923437958715, 14.94766553105022, 18.38825661427479, 13.228048070240648, 9.359191551193216, 14.139648803953262, 47.61289832577424, 67.45459381439198, 8.045344198229932, 8.868455077964928, 21.340142361173044, 8.085057612152864, 34.14554507335395, 57.6134304558273, 26.8834924523135, 100.8812913221943, 10.941759724961846, 17.635851300810547, 18.335496922658578, 10.05305817891078, 11.88934193509012, 27.84899178020412, 11.22510624264844, 33.47732478693968, 16.511960288903012, 14.486034103014813, 10.072063707862291, 14.334034623038356, 17.336113822251892, 8.711989651565018, 10.400374030707745, 8.50144836464782, 9.85264185309606, 15.952446499222733, 7.792853843454704, 10.057163673235213, 20.61493871887419, 16.695822815950592, 12.381973154181138, 9.636669932660512, 11.70857244077574, 25.782581215955457, 18.358627475866893, 17.012322841453038, 12.76788207178424, 8.213847459744882, 35.010824327638424, 57.242193899239915, 51.4343209362621, 91.51276372635415, 51.05057933429005, 132.0154147705818, 84.43645396377148, 26.07801532282208, 9.580332078419076, 10.676440522974751, 9.665686988518917, 8.318439065683867, 15.128216604206148, 22.094507658869777, 25.699055302628306, 7.8083936250000345, 7.907509993714239, 17.52361229373447, 7.399984334683854, 21.568608639176453, 13.683889417581169, 17.005020098091535, 15.333938362744977, 16.340617221277036, 12.81791781113627, 15.313367194568672, 21.648419775820713, 23.889869895969653, 4.391112059795652, 4.858315694344031, 5.126524046091598, 5.259622133504945, 5.3285886266194975, 5.3705224843430415, 5.3938888403931236, 5.63243638107868, 5.747374926410139, 9.38084781485231, 7.604600023602579, 7.11707293943756, 22.39609969577105, 11.151210362473998, 10.270865462617557, 10.241848971192155, 7.104961478123758, 11.452272053910203, 16.378321592643395, 12.544970764998098, 27.85134142994043, 26.915362905754634, 10.029014758086173, 8.139672162269258, 8.244201186350152, 8.044573028940327, 69.61376929480048, 45.70873442252311, 22.126238035735387, 7.767562446111115, 4.391112059795652, 4.858315694344031, 5.126524046091598, 5.259622133504945, 5.3285886266194975, 5.3705224843430415, 5.3938888403931236, 5.63243638107868, 5.747374926410139, 5.789225527987462, 5.801576083624802, 5.976645279395682, 5.984184885663935, 6.005424481990543, 6.013323256639461, 6.021909741605774, 6.062231784687591, 6.0781419111837645, 8.318439065683867, 8.329637094411321, 12.962145233363445, 25.339789639277917, 12.184578234501831, 7.454584009582136, 10.1508567064003, 10.217237272633877, 8.181572714531287, 7.8298704863800594, 24.969394755349168, 37.465795790858635, 8.764981283803698, 6.78199155915746, 12.463127496490902, 11.148961948482144, 9.031325715322732, 13.083398994558605, 20.502828701088188, 10.159001127549981, 13.728214380511192, 33.131487255826265, 24.05596733474555, 18.41300334175976, 7.9729375224497945, 20.57923968384783, 19.835298169458344, 15.273794213714174, 22.6378899039502, 31.683827977156135, 8.085057612152864, 11.07932140487314, 57.252762436294525, 20.59807116120328, 26.925603322317293, 16.629555545216288, 28.835841658664688, 16.069355447168817, 11.639867544250738, 22.970258109549672, 13.051192269628185, 54.22470368646277, 35.65212240687681, 24.336301773060637, 17.94183212738175, 33.94418547963309, 9.59789792572464, 89.12668870841547, 41.5789376002321, 132.0154147705818, 216.33115855622168, 91.51276372635415, 78.19398612377691, 10.182806766019018, 17.188319210792695, 15.273794213714174, 4.391112059795652, 4.858315694344031, 5.126524046091598, 5.259622133504945, 5.3285886266194975, 5.3705224843430415, 5.3938888403931236, 5.63243638107868, 5.747374926410139, 5.789225527987462, 5.801576083624802, 5.976645279395682, 5.984184885663935, 6.005424481990543, 6.013323256639461, 6.021909741605774, 6.062231784687591, 6.0781419111837645, 6.0964163994489535, 6.10201717629872, 6.115335216870961, 6.117125050637857, 6.168106781064785, 6.201100782505012, 6.20252794184664, 6.204577555916727, 6.216022229856829, 7.681072475751307, 17.32743519737116, 7.839614442975192, 13.991823930690018, 8.4705294160433, 8.435220352170607, 12.664802152094468, 14.671250007042115, 17.999738691636225, 9.109281864542062, 8.764981283803698, 18.35691581704596, 13.245301877201655, 7.727419711512612, 10.159428637728034, 11.683858103034359, 14.83116270082055, 8.019362271897965, 6.643226019538344, 9.173023813146845, 21.786305800672604, 18.081235589545244, 6.61223243970277, 30.841107167877244, 6.765317904066743, 37.00784180241136, 28.893041903636348, 12.492804530378287, 12.366427728705423, 4.391112059795652, 4.858315694344031, 5.126524046091598, 5.259622133504945, 5.3285886266194975, 5.3705224843430415, 5.3938888403931236, 5.63243638107868, 5.747374926410139, 5.789225527987462, 5.801576083624802, 5.976645279395682, 5.984184885663935, 6.005424481990543, 6.013323256639461, 6.021909741605774, 6.062231784687591, 6.0781419111837645, 6.0964163994489535, 6.10201717629872, 6.115335216870961, 6.117125050637857, 6.168106781064785, 6.201100782505012, 6.20252794184664, 6.204577555916727, 6.216022229856829, 6.216738830902579, 11.650217549711957, 7.241398866159716, 12.239727946137807, 25.730015515114907, 22.595802891820735, 12.190607968187583, 7.442261486555744, 7.126780924870581, 8.316029871441783, 18.48629929239501, 13.644703849356253, 24.613186760339257, 10.016970159216223, 17.430930485030025, 14.067848542399997, 13.971525269583898, 7.943028745422722, 36.67832310440893, 8.403480673392075, 9.735798281547611, 18.879837777443633, 7.8008733997404445, 7.050111941268461, 25.637654470701904, 56.166047293651545, 10.714011015290843, 6.283601775056434, 11.712781624838772, 11.023276835447733, 7.651308125306969, 10.031234895296054, 18.822806609052513, 4.391112059795652, 4.858315694344031, 5.126524046091598, 5.259622133504945, 5.3285886266194975, 5.3705224843430415, 5.3938888403931236, 5.63243638107868, 5.747374926410139, 5.789225527987462, 5.801576083624802, 5.976645279395682, 5.984184885663935, 6.005424481990543, 6.013323256639461, 6.021909741605774, 6.062231784687591, 6.0781419111837645, 6.0964163994489535, 6.10201717629872, 6.115335216870961, 6.117125050637857, 6.168106781064785, 6.201100782505012, 6.20252794184664, 7.4706197238914065, 7.776616232383396, 11.902298685107716, 8.39188640380931, 7.166940139610092, 12.413253518269801, 40.64418662436078, 32.82862048053259, 12.572756507755974, 7.903899513017518, 14.597654135619969, 15.108643489188903, 15.79816256769302, 13.169340161196606, 16.355810430906693, 11.420317566179932, 27.75800487230456, 8.157117837201024, 12.959777850679004, 6.8399608627482795, 31.683162873286612, 7.591676921747155, 7.785574400037049, 8.319941708618114, 12.923817699395144, 12.59402838533578, 4.391112059795652, 4.858315694344031, 5.126524046091598, 5.259622133504945, 5.3285886266194975, 5.3705224843430415, 5.3938888403931236, 5.63243638107868, 5.747374926410139, 5.789225527987462, 5.801576083624802, 5.976645279395682, 5.984184885663935, 6.005424481990543, 6.013323256639461, 6.021909741605774, 6.062231784687591, 6.0781419111837645, 6.0964163994489535, 6.10201717629872, 6.115335216870961, 6.117125050637857, 6.168106781064785, 6.201100782505012, 6.20252794184664, 6.204577555916727, 6.216022229856829, 6.216738830902579, 6.240669685841208, 10.33851695504017, 10.496912610412434, 7.311574087221237, 15.754399401383129, 8.426031799516524, 8.922003118896304, 10.20101046345347, 7.974218650461667, 6.8399608627482795, 8.75180796558238, 7.993188429161295, 11.500589251032842, 10.922785150716564, 7.500666879103636, 8.08003056227367, 7.358468791652421, 7.83351836414622, 7.93086481554329, 22.269102296603936, 11.904771323771236, 10.879334594718863, 7.566732448070725, 16.60654647976082, 9.396659025235975, 10.553671783559908, 10.097681406868539, 8.652646949674745, 12.872740863042656, 9.118650315111967, 12.664802152094468, 4.391112059795652, 4.858315694344031, 5.126524046091598, 5.259622133504945, 5.3285886266194975, 5.3705224843430415, 5.3938888403931236, 5.63243638107868, 5.747374926410139, 5.789225527987462, 5.801576083624802, 5.976645279395682, 5.984184885663935, 6.005424481990543, 6.013323256639461, 6.021909741605774, 6.062231784687591, 6.0781419111837645, 6.0964163994489535, 6.10201717629872, 6.115335216870961, 6.117125050637857, 6.168106781064785, 6.201100782505012, 6.20252794184664, 6.204577555916727, 6.216022229856829, 6.216738830902579, 6.240669685841208, 9.193076777197165, 18.35691581704596, 7.6094608999041045, 12.379991578825129, 7.75238800851544, 10.1508567064003, 8.315812422265456, 9.508380332615982, 13.109545232114508, 9.04714034062546, 21.32226647361978, 7.996193255078473, 13.013323579979104, 9.462573937228118, 7.537094030428637, 37.51652568459866, 6.557888018590551, 7.275795751029907, 6.643226019538344, 12.854482990198951, 30.62771171659443, 25.803618909032732, 31.683162873286612, 14.227210355917185, 14.458587822558806, 35.87099795192732, 6.755008547760463, 11.683858103034359, 6.755073874303104, 13.228048070240648, 15.656852043811897, 21.80722405079816, 24.98661536920661, 37.62300117844146, 4.391112059795652, 37.49565834218319, 4.858315694344031, 5.126524046091598, 5.259622133504945, 5.3285886266194975, 5.3705224843430415, 5.3938888403931236, 5.63243638107868, 5.747374926410139, 5.789225527987462, 5.801576083624802, 5.976645279395682, 5.984184885663935, 6.005424481990543, 6.013323256639461, 6.021909741605774, 6.062231784687591, 6.0781419111837645, 6.0964163994489535, 6.10201717629872, 6.115335216870961, 6.117125050637857, 6.168106781064785, 6.201100782505012, 69.61376929480048, 70.8305688432603, 8.541292983927992, 7.572595578471492, 7.604600023602579, 9.08022321421579, 7.767562446111115, 10.761124940234875, 8.085057612152864, 37.502630289261425, 6.578549526398295, 8.289497327801515, 12.142103115580653, 23.132568122233067, 30.882239162195162, 15.468957082778077, 37.70033228170391, 26.86709369772216, 14.500302296920427, 15.427097330124376, 9.990366749112177, 6.352593382493928, 11.63040450299634, 16.069355447168817, 20.46707327562156, 20.912341488131826, 23.61466346373439, 24.606936850699448, 33.5272558825633, 32.044337322260844, 4.391112059795652, 4.858315694344031, 5.126524046091598, 5.259622133504945, 5.3285886266194975, 5.3705224843430415, 5.3938888403931236, 5.63243638107868, 5.747374926410139, 5.789225527987462, 5.801576083624802, 5.976645279395682, 5.984184885663935, 6.005424481990543, 6.013323256639461, 6.021909741605774, 6.062231784687591, 6.0781419111837645, 6.0964163994489535, 6.10201717629872, 6.115335216870961, 6.117125050637857, 6.168106781064785, 8.541292983927992, 7.572595578471492, 7.604600023602579, 9.08022321421579, 7.767562446111115, 8.085057612152864, 10.761124940234875, 37.502630289261425, 8.289497327801515, 10.77485653246824, 8.466347122700132, 7.518520771771569, 9.030160110612568, 10.085333957922945, 16.50587123467726, 68.42037773839647, 6.352593382493928, 14.500302296920427, 26.86709369772216, 44.457789458045205, 7.871913622647053, 10.168855285068064, 4.391112059795652, 4.858315694344031, 5.126524046091598, 5.259622133504945, 5.3285886266194975, 5.3705224843430415, 5.3938888403931236, 5.63243638107868, 5.747374926410139, 5.789225527987462, 5.801576083624802, 5.976645279395682, 5.984184885663935, 6.005424481990543, 6.013323256639461, 6.021909741605774, 6.062231784687591, 6.0781419111837645, 6.0964163994489535, 6.10201717629872, 6.115335216870961, 6.117125050637857, 6.168106781064785, 6.201100782505012, 6.20252794184664, 6.204577555916727, 6.216022229856829, 6.216738830902579, 6.240669685841208, 6.268055583441561, 8.541292983927992, 7.572595578471492, 7.604600023602579, 9.08022321421579, 7.767562446111115, 8.085057612152864, 10.761124940234875, 8.289497327801515, 37.502630289261425, 10.828270967261448, 6.578549526398295, 6.631128147013762, 12.958172298057148, 15.040755559210996, 12.614979558401428, 68.42037773839647, 10.209628936469374, 15.429366813406604, 21.95276911451031, 23.132568122233067, 30.882239162195162, 15.468957082778077, 37.70033228170391, 26.86709369772216, 14.500302296920427, 15.427097330124376, 9.990366749112177, 6.352593382493928, 11.63040450299634, 4.391112059795652, 4.858315694344031, 5.126524046091598, 5.259622133504945, 5.3285886266194975, 5.3705224843430415, 5.3938888403931236, 5.63243638107868, 5.747374926410139, 5.789225527987462, 5.801576083624802, 5.976645279395682, 5.984184885663935, 6.005424481990543, 6.013323256639461, 6.021909741605774, 6.062231784687591, 6.0781419111837645, 6.0964163994489535, 6.10201717629872, 6.115335216870961, 6.117125050637857, 6.168106781064785, 6.201100782505012, 6.20252794184664, 6.204577555916727, 6.216022229856829, 6.216738830902579, 6.240669685841208, 6.268055583441561, 8.541292983927992, 7.572595578471492, 7.604600023602579, 9.08022321421579, 7.767562446111115, 8.085057612152864, 10.761124940234875, 8.289497327801515, 37.502630289261425, 10.828270967261448, 6.578549526398295, 6.631128147013762, 12.958172298057148, 15.040755559210996, 12.614979558401428, 68.42037773839647, 10.209628936469374, 15.429366813406604, 21.95276911451031, 23.132568122233067, 30.882239162195162, 15.468957082778077, 37.70033228170391, 26.86709369772216, 14.500302296920427, 15.427097330124376, 9.990366749112177, 6.352593382493928, 11.63040450299634, 4.391112059795652, 4.858315694344031, 5.126524046091598, 5.259622133504945, 5.3285886266194975, 5.3705224843430415, 5.3938888403931236, 5.63243638107868, 5.747374926410139, 5.789225527987462, 5.801576083624802, 5.976645279395682, 5.984184885663935, 6.005424481990543, 6.013323256639461, 6.021909741605774, 6.062231784687591, 6.0781419111837645, 6.0964163994489535, 6.10201717629872, 6.115335216870961, 6.117125050637857, 6.168106781064785, 6.201100782505012, 6.20252794184664, 6.204577555916727, 6.216022229856829, 6.216738830902579, 6.240669685841208, 6.268055583441561, 8.541292983927992, 7.572595578471492, 7.604600023602579, 9.08022321421579, 7.767562446111115, 8.085057612152864, 10.761124940234875, 8.289497327801515, 37.502630289261425, 10.828270967261448, 6.578549526398295, 6.631128147013762, 12.958172298057148, 15.040755559210996, 12.614979558401428, 68.42037773839647, 10.209628936469374, 15.429366813406604, 21.95276911451031, 23.132568122233067, 30.882239162195162, 15.468957082778077, 37.70033228170391, 26.86709369772216, 14.500302296920427, 15.427097330124376, 9.990366749112177, 6.352593382493928, 11.63040450299634, 4.391112059795652, 4.858315694344031, 5.126524046091598, 5.259622133504945, 5.3285886266194975, 5.3705224843430415, 5.3938888403931236, 5.63243638107868, 5.747374926410139, 5.789225527987462, 5.801576083624802, 5.976645279395682, 5.984184885663935, 6.005424481990543, 6.013323256639461, 6.021909741605774, 6.062231784687591, 6.0781419111837645, 6.0964163994489535, 6.10201717629872, 6.115335216870961, 6.117125050637857, 6.168106781064785, 6.201100782505012, 6.20252794184664, 6.204577555916727, 6.216022229856829, 6.216738830902579, 6.240669685841208, 6.268055583441561, 8.541292983927992, 7.572595578471492, 7.604600023602579, 9.08022321421579, 7.767562446111115, 8.085057612152864, 10.761124940234875, 8.289497327801515, 37.502630289261425, 10.828270967261448, 6.578549526398295, 6.631128147013762, 12.958172298057148, 15.040755559210996, 12.614979558401428, 68.42037773839647, 10.209628936469374, 15.429366813406604, 21.95276911451031, 23.132568122233067, 30.882239162195162, 15.468957082778077, 37.70033228170391, 26.86709369772216, 14.500302296920427, 15.427097330124376, 9.990366749112177, 6.352593382493928, 11.63040450299634], \"loglift\": [30.0, 29.0, 28.0, 27.0, 26.0, 25.0, 24.0, 23.0, 22.0, 21.0, 20.0, 19.0, 18.0, 17.0, 16.0, 15.0, 14.0, 13.0, 12.0, 11.0, 10.0, 9.0, 8.0, 7.0, 6.0, 5.0, 4.0, 3.0, 2.0, 1.0, 0.3556, 0.3546, 0.3529, 0.3527, 0.3525, 0.3525, 0.3513, 0.3502, 0.3482, 0.3477, 0.3462, 0.3458, 0.3443, 0.3443, 0.3426, 0.3414, 0.3405, 0.3399, 0.3393, 0.3392, 0.3391, 0.339, 0.3384, 0.3381, 0.3378, 0.3374, 0.3369, 0.3368, 0.336, 0.336, 0.3269, 0.3263, 0.3354, 0.3287, 0.3201, 0.3308, 0.3235, 0.2737, 0.3173, 0.2965, 0.3143, 0.2231, 0.3103, 0.2646, 0.2606, 0.0503, 0.2538, 0.2004, 0.1998, 0.1538, 0.1525, 0.1468, 0.2275, 0.1437, -0.1977, 0.1955, 0.1007, 0.2635, 0.2136, 0.1793, 0.0415, 0.2238, 0.1622, 0.0801, 0.2076, 2.0589, 2.0489, 2.0484, 2.0402, 2.03, 2.0287, 2.013, 2.0123, 2.0095, 1.9969, 1.9933, 1.989, 1.9872, 1.981, 1.9801, 1.9758, 1.9749, 1.9718, 1.9681, 1.9653, 1.9634, 1.9589, 1.9582, 1.9574, 1.9563, 1.95, 1.9416, 1.9395, 1.9386, 1.9378, 1.9356, 1.9242, 1.8709, 1.8938, 1.8753, 1.8343, 1.915, 1.8423, 1.8723, 1.8998, 1.891, 1.827, 1.775, 1.7827, 1.6161, 1.7151, 1.7842, 1.61, 1.8232, 1.783, 1.7606, 1.815, 1.8564, 1.6294, 1.5798, 1.5139, 1.4775, 0.7635, 1.248, 1.656, 1.687, 1.5243, 0.5013, 1.2084, 1.4129, 1.3476, 1.5182, 1.2273, 1.0139, 1.1779, 1.0712, 1.0189, 0.4151, 2.8792, 2.8789, 2.8703, 2.8615, 2.8579, 2.8354, 2.8287, 2.8267, 2.8258, 2.82, 2.8177, 2.8174, 2.8141, 2.8087, 2.808, 2.8048, 2.7927, 2.7896, 2.7885, 2.7828, 2.7778, 2.7777, 2.7727, 2.7697, 2.751, 2.7272, 2.726, 2.7224, 2.7173, 2.6932, 2.6923, 2.6819, 2.6585, 2.6772, 2.4388, 2.565, 2.5485, 2.5673, 2.4388, 2.4915, 2.3434, 2.5602, 2.4229, 2.3992, 2.6, 2.6065, 2.1955, 1.9395, 2.2254, 1.9898, 2.1251, 1.7883, 2.233, 1.8477, 1.6055, 1.9257, -0.207, 3.3853, 3.3513, 3.3485, 3.3224, 3.3115, 3.3037, 3.2965, 3.2809, 3.2726, 3.2672, 3.2637, 3.2579, 3.2413, 3.2404, 3.2395, 3.2371, 3.2363, 3.2358, 3.2356, 3.2303, 3.2297, 3.2208, 3.1978, 3.1976, 3.1755, 3.1746, 3.1384, 3.1344, 3.1249, 3.1071, 3.0992, 3.0969, 2.9972, 3.086, 3.0531, 3.0262, 2.9799, 2.9571, 3.0736, 3.071, 2.4317, 1.7609, 2.8104, 2.1954, 2.3882, 2.0689, 1.4463, 3.83, 3.8176, 3.8148, 3.8117, 3.8023, 3.7681, 3.7461, 3.7451, 3.7332, 3.7279, 3.7249, 3.7244, 3.7242, 3.7153, 3.7127, 3.7121, 3.7116, 3.7069, 3.7005, 3.6962, 3.694, 3.6935, 3.6833, 3.6772, 3.67, 3.6615, 3.6473, 3.642, 3.6383, 3.6272, 3.5906, 3.4345, 3.506, 3.5105, 3.4397, 3.2729, 3.3961, 2.915, 2.738, 2.3711, 2.3532, 3.0109, 2.545, 2.725, 2.2674, 2.6911, 1.8374, 1.7563, 2.4878, 4.3091, 4.2964, 4.287, 4.2802, 4.2671, 4.2608, 4.0476, 4.0319, 3.9833, 3.9299, 3.7623, 3.7378, 3.6985, 3.6967, 3.6873, 3.5952, 3.5844, 3.5673, 3.5654, 3.525, 3.4891, 3.4868, 3.4537, 3.3257, 3.3136, 3.2786, 3.2675, 3.2088, 3.2037, 3.1773, 3.1408, 3.0379, 3.1527, 2.96, 2.5305, 2.6326, 2.8029, 2.9273, 2.6753, 1.5912, 2.3355, 4.9851, 4.939, 4.9371, 4.9086, 4.8968, 4.8743, 4.6999, 4.6709, 4.5086, 4.4783, 4.399, 4.3887, 4.3738, 4.3702, 4.3388, 4.1978, 4.1762, 4.1593, 4.1361, 4.1161, 4.0613, 4.0294, 3.9564, 3.7878, 3.7428, 3.7369, 3.7016, 3.688, 3.6312, 3.6309, 3.3945, 2.173, 5.0331, 5.0325, 4.9225, 4.914, 4.8688, 4.814, 4.8119, 4.8063, 4.7976, 4.7718, 4.762, 4.6829, 4.6182, 4.5911, 4.4784, 4.4597, 4.4462, 4.4435, 4.1219, 4.0993, 3.9867, 3.8453, 3.8388, 3.7041, 3.675, 3.6091, 3.5725, 3.5211, 3.4933, 3.3872, 3.3247, 3.3381, 2.8829, 2.2292, 2.6675, 4.9124, 4.8643, 4.8196, 4.7834, 4.7426, 4.73, 4.6851, 4.5833, 4.5074, 4.2902, 4.2522, 4.1755, 4.1358, 4.0562, 4.0094, 3.8952, 3.8863, 3.7765, 3.7702, 3.7195, 3.7193, 3.7126, 3.627, 3.5691, 3.5426, 3.5069, 3.4751, 3.4581, 3.4471, 3.4083, 3.1159, 3.0062, 2.5577, 2.7018, 5.1767, 4.9104, 4.8408, 4.8326, 4.5902, 4.5845, 4.3316, 4.2884, 4.1729, 4.169, 4.075, 3.9773, 3.9643, 3.9281, 3.9125, 3.8437, 3.8144, 3.7271, 3.6225, 3.5757, 3.4778, 3.4056, 3.3283, 3.3101, 3.2809, 3.0871, 2.952, 2.9405, 2.9127, 2.8601, 2.6974, 2.217, 2.4623, 1.2801, 5.0418, 4.9548, 4.9395, 4.5264, 4.4443, 4.3895, 4.378, 4.14, 4.0277, 4.0147, 3.982, 3.9798, 3.9554, 3.7627, 3.7228, 3.6706, 3.6135, 3.4277, 3.4179, 3.4145, 3.1737, 3.1561, 3.018, 2.7923, 2.7509, 2.7129, 2.7023, 2.6548, 2.6127, 2.5953, 2.5335, 2.4116, 2.3286, 2.0715, 1.8956, 0.991, 1.3557, 5.3428, 5.3088, 5.2261, 5.0717, 4.8367, 4.831, 4.4425, 4.1831, 4.1578, 3.8103, 3.6146, 3.5542, 3.5328, 3.4648, 3.449, 3.4449, 3.3686, 3.1898, 3.1027, 2.5823, 1.9191, 1.1118, 1.0107, 0.9569, 0.9313, 0.9183, 0.9104, 0.9061, 0.8628, 0.8426, 0.3851, 0.5626, 0.6289, -0.5175, 0.1798, 0.2621, 0.2649, 0.6306, 0.1532, 5.2098, 5.1862, 5.0625, 5.0353, 4.892, 4.5029, 4.4752, 3.4142, 3.2578, 2.9648, 2.8484, 1.4487, 1.1545, 1.0534, 0.9997, 0.9741, 0.961, 0.9532, 0.9488, 0.9056, 0.8854, 0.8781, 0.876, 0.8463, 0.845, 0.8415, 0.8401, 0.8387, 0.832, 0.8294, 0.5156, 0.5143, 0.0721, -0.5983, 0.1339, 0.6253, 0.3166, 0.31, 0.5322, 0.5762, -0.5835, -0.9893, 0.4634, 0.7198, 0.1113, 0.2228, 0.4334, 0.0628, 5.0044, 4.5418, 3.9022, 3.663, 3.6542, 3.5819, 3.5586, 3.5479, 3.5304, 3.5128, 3.2034, 3.1832, 3.0806, 3.0739, 3.0506, 3.0106, 2.9648, 2.9532, 2.8229, 2.7961, 2.6841, 2.6119, 2.6007, 2.5501, 2.4467, 2.4385, 2.3567, 2.2755, 2.2493, 2.2457, 1.9247, 1.3669, 0.4918, 1.1299, 0.9251, 5.4283, 5.3398, 4.3604, 1.3222, 1.2211, 1.1673, 1.1417, 1.1287, 1.1208, 1.1165, 1.0732, 1.053, 1.0458, 1.0436, 1.0139, 1.0126, 1.0091, 1.0078, 1.0064, 0.9997, 0.9971, 0.9941, 0.9931, 0.991, 0.9907, 0.9824, 0.977, 0.9768, 0.9765, 0.9746, 0.763, -0.0505, 0.7426, 0.1633, 0.6652, 0.6693, 0.2629, 0.1159, -0.0886, 0.5925, 0.631, -0.1082, 0.2181, 0.757, 0.4834, 0.3436, 0.105, 0.7199, 0.9082, 0.5855, -0.2795, -0.0931, 0.9128, -0.6271, 0.8899, -0.8094, -0.5618, 5.4218, 5.4114, 1.3401, 1.239, 1.1852, 1.1596, 1.1466, 1.1387, 1.1344, 1.0911, 1.0709, 1.0636, 1.0615, 1.0318, 1.0305, 1.027, 1.0257, 1.0242, 1.0176, 1.0149, 1.0119, 1.011, 1.0088, 1.0086, 1.0003, 0.9949, 0.9947, 0.9944, 0.9925, 0.9924, 0.3643, 0.8398, 0.315, -0.428, -0.2981, 0.319, 0.8125, 0.8558, 0.7015, -0.0974, 0.2063, -0.3836, 0.5154, -0.0386, 0.1758, 0.1826, 0.7473, -0.7825, 0.691, 0.5438, -0.1185, 0.7654, 0.8666, -0.4244, -1.2087, 0.4481, 0.9817, 5.4779, 4.855, 3.8701, 3.7046, 2.9877, 1.3434, 1.2423, 1.1886, 1.1629, 1.1499, 1.1421, 1.1377, 1.0944, 1.0742, 1.067, 1.0649, 1.0351, 1.0339, 1.0303, 1.029, 1.0276, 1.0209, 1.0183, 1.0153, 1.0144, 1.0122, 1.0119, 1.0036, 0.9983, 0.998, 0.812, 0.7719, 0.3462, 0.6957, 0.8535, 0.3042, -0.8819, -0.6683, 0.2914, 0.7556, 0.1421, 0.1077, 0.0631, 0.2451, 0.0284, 0.3876, -0.5005, 0.7241, 0.2611, 0.9002, -0.6328, 0.7959, 0.7707, 0.7043, 0.2639, 5.4051, 1.3726, 1.2715, 1.2178, 1.1922, 1.1791, 1.1713, 1.167, 1.1237, 1.1035, 1.0962, 1.0941, 1.0644, 1.0631, 1.0596, 1.0582, 1.0568, 1.0501, 1.0475, 1.0445, 1.0436, 1.0414, 1.0411, 1.0328, 1.0275, 1.0273, 1.0269, 1.0251, 1.025, 1.0211, 0.5163, 0.5011, 0.8628, 0.0951, 0.7209, 0.6637, 0.5297, 0.776, 0.9294, 0.683, 0.7736, 0.4098, 0.4614, 0.8372, 0.7628, 0.8564, 0.7938, 0.7815, -0.251, 0.3753, 0.4654, 0.8285, 0.0424, 0.6119, 0.4958, 0.5399, 0.6944, 0.2971, 0.6419, 5.3614, 1.3739, 1.2727, 1.219, 1.1934, 1.1803, 1.1725, 1.1682, 1.1249, 1.1047, 1.0974, 1.0953, 1.0656, 1.0643, 1.0608, 1.0595, 1.058, 1.0514, 1.0487, 1.0457, 1.0448, 1.0426, 1.0423, 1.034, 1.0287, 1.0285, 1.0281, 1.0263, 1.0262, 1.0223, 0.635, -0.0566, 0.824, 0.3374, 0.8054, 0.5359, 0.7353, 0.6013, 0.2801, 0.651, -0.2063, 0.7745, 0.2875, 0.6061, 0.8336, -0.7713, 0.9728, 0.8689, 0.9598, 0.2997, -0.5685, -0.3971, -0.6024, 0.1983, 0.1821, -0.7265, 0.9432, 0.3952, 0.9431, 2.7712, 2.5207, 2.1459, 2.0189, 1.3932, 1.3905, 1.3758, 1.2894, 1.2356, 1.21, 1.197, 1.1891, 1.1848, 1.1415, 1.1213, 1.1141, 1.1119, 1.0822, 1.0809, 1.0774, 1.0761, 1.0747, 1.068, 1.0654, 1.0624, 1.0614, 1.0593, 1.059, 1.0507, 1.0453, 0.8896, 0.5034, 0.7252, 0.8455, 0.8413, 0.664, 0.8201, 0.4941, 0.78, -0.7543, 0.9862, 0.7551, 0.3734, -0.2712, -0.5601, 0.1312, -0.7596, -0.4208, 0.1959, 0.1339, 0.5684, 1.0212, 0.4164, 2.5583, 2.2639, 2.2424, 2.0433, 1.8693, 1.7546, 1.5083, 1.3913, 1.2901, 1.2364, 1.2108, 1.1977, 1.1899, 1.1856, 1.1423, 1.1221, 1.1148, 1.1127, 1.083, 1.0817, 1.0782, 1.0769, 1.0754, 1.0688, 1.0661, 1.0631, 1.0622, 1.06, 1.0597, 1.0514, 0.7259, 0.8463, 0.8421, 0.6647, 0.8209, 0.7808, 0.4949, -0.7536, 0.7558, 0.4936, 0.7347, 0.8535, 0.6703, 0.5598, 0.0671, -1.3548, 1.022, 0.1967, -0.4201, -0.9237, 0.8075, 0.5515, 1.4043, 1.3032, 1.2494, 1.2238, 1.2108, 1.2029, 1.1986, 1.1553, 1.1351, 1.1279, 1.1257, 1.096, 1.0948, 1.0912, 1.0899, 1.0885, 1.0818, 1.0792, 1.0762, 1.0753, 1.0731, 1.0728, 1.0645, 1.0591, 1.0589, 1.0586, 1.0567, 1.0566, 1.0528, 1.0484, 0.739, 0.8593, 0.8551, 0.6778, 0.8339, 0.7939, 0.5079, 0.7689, -0.7405, 0.5017, 1.0001, 0.9921, 0.3221, 0.1731, 0.349, -1.3418, 0.5605, 0.1476, -0.205, -0.2574, -0.5463, 0.145, -0.7458, -0.407, 0.2097, 0.1477, 0.5823, 1.035, 0.4302, 1.4043, 1.3032, 1.2494, 1.2238, 1.2108, 1.2029, 1.1986, 1.1553, 1.1351, 1.1279, 1.1257, 1.096, 1.0948, 1.0912, 1.0899, 1.0885, 1.0818, 1.0792, 1.0762, 1.0753, 1.0731, 1.0728, 1.0645, 1.0591, 1.0589, 1.0586, 1.0567, 1.0566, 1.0528, 1.0484, 0.739, 0.8593, 0.8551, 0.6778, 0.8339, 0.7939, 0.5079, 0.7689, -0.7405, 0.5017, 1.0001, 0.9921, 0.3221, 0.1731, 0.349, -1.3418, 0.5605, 0.1476, -0.205, -0.2574, -0.5463, 0.145, -0.7458, -0.407, 0.2097, 0.1477, 0.5823, 1.035, 0.4302, 1.4043, 1.3032, 1.2494, 1.2238, 1.2108, 1.2029, 1.1986, 1.1553, 1.1351, 1.1279, 1.1257, 1.096, 1.0948, 1.0912, 1.0899, 1.0885, 1.0818, 1.0792, 1.0762, 1.0753, 1.0731, 1.0728, 1.0645, 1.0591, 1.0589, 1.0586, 1.0567, 1.0566, 1.0528, 1.0484, 0.739, 0.8593, 0.8551, 0.6778, 0.8339, 0.7939, 0.5079, 0.7689, -0.7405, 0.5017, 1.0001, 0.9921, 0.3221, 0.1731, 0.349, -1.3418, 0.5605, 0.1476, -0.205, -0.2574, -0.5463, 0.145, -0.7458, -0.407, 0.2097, 0.1477, 0.5823, 1.035, 0.4302, 1.4043, 1.3032, 1.2494, 1.2238, 1.2108, 1.2029, 1.1986, 1.1553, 1.1351, 1.1279, 1.1257, 1.096, 1.0948, 1.0912, 1.0899, 1.0885, 1.0818, 1.0792, 1.0762, 1.0753, 1.0731, 1.0728, 1.0645, 1.0591, 1.0589, 1.0586, 1.0567, 1.0566, 1.0528, 1.0484, 0.739, 0.8593, 0.8551, 0.6778, 0.8339, 0.7939, 0.5079, 0.7689, -0.7405, 0.5017, 1.0001, 0.9921, 0.3221, 0.1731, 0.349, -1.3418, 0.5605, 0.1476, -0.205, -0.2574, -0.5463, 0.145, -0.7458, -0.407, 0.2097, 0.1477, 0.5823, 1.035, 0.4302], \"logprob\": [30.0, 29.0, 28.0, 27.0, 26.0, 25.0, 24.0, 23.0, 22.0, 21.0, 20.0, 19.0, 18.0, 17.0, 16.0, 15.0, 14.0, 13.0, 12.0, 11.0, 10.0, 9.0, 8.0, 7.0, 6.0, 5.0, 4.0, 3.0, 2.0, 1.0, -6.7176, -6.8395, -6.8361, -7.0149, -7.0225, -7.0228, -6.896, -7.0328, -7.1662, -7.093, -6.8165, -7.2746, -7.3211, -7.3214, -7.3754, -7.3531, -7.4376, -7.4368, -7.47, -7.4724, -7.3974, -7.4486, -7.4957, -7.503, -7.5118, -7.5208, -7.5333, -7.2362, -7.5564, -7.557, -5.9266, -6.1847, -7.1172, -6.4975, -6.3851, -7.042, -6.7492, -5.8604, -7.0063, -6.6987, -6.9889, -5.8012, -7.058, -6.6248, -6.6427, -5.0677, -6.6651, -6.3412, -6.3654, -6.1384, -6.1993, -6.375, -6.6835, -6.4184, -5.34, -6.5966, -6.4175, -6.8324, -6.7334, -6.6993, -6.464, -6.7795, -6.7742, -6.764, -6.7984, -5.686, -6.5702, -6.6419, -6.1741, -5.8057, -5.9166, -6.8834, -6.8634, -7.0156, -6.1796, -7.1412, -6.9114, -6.6486, -7.2276, -7.0975, -7.2623, -7.2683, -6.3987, -7.2084, -6.9325, -7.1135, -7.2337, -5.73, -7.3781, -6.7751, -6.8471, -7.188, -7.1045, -6.9843, -6.661, -6.7068, -6.558, -4.8838, -5.6424, -5.9607, -5.7185, -6.6607, -6.1005, -6.3535, -6.5879, -6.5394, -6.1585, -5.9312, -6.0167, -5.2154, -5.6886, -6.0373, -5.2459, -6.2562, -6.1365, -6.087, -6.2853, -6.4264, -5.8763, -5.8004, -5.6615, -5.6013, -4.3788, -5.3363, -6.006, -6.0623, -5.8578, -4.6167, -5.5102, -5.7665, -5.7914, -5.9202, -5.7477, -5.7245, -5.8611, -5.8601, -5.8513, -5.877, -5.1064, -5.4707, -5.8506, -5.2134, -5.9665, -6.1823, -5.9547, -6.2375, -5.4416, -5.9911, -6.1287, -6.2946, -6.3457, -6.3007, -6.3886, -6.4103, -6.4893, -5.2507, -6.4659, -6.2103, -6.474, -6.3779, -6.61, -6.2959, -6.6491, -6.6562, -6.2832, -6.7745, -4.979, -6.0811, -5.6401, -5.3347, -4.6154, -5.5023, -4.1427, -5.1861, -5.2026, -5.3406, -4.7672, -5.0957, -4.5043, -5.4768, -5.0207, -5.0147, -5.755, -5.8635, -5.1902, -4.8476, -5.384, -5.1387, -5.4473, -5.2407, -5.5853, -5.4082, -5.5107, -5.6375, -5.325, -2.7594, -5.0624, -3.4527, -4.1709, -5.7484, -5.8662, -4.8568, -6.059, -4.4603, -6.0846, -6.039, -5.3486, -5.9546, -4.9576, -4.8604, -6.2722, -6.1826, -5.2094, -6.1368, -4.6371, -6.1326, -6.3781, -3.966, -3.8183, -6.0872, -6.0363, -4.9163, -5.121, -4.484, -4.5666, -4.6776, -4.6556, -4.067, -5.1023, -4.9281, -4.7777, -4.6277, -4.8192, -5.3779, -5.5034, -4.4996, -3.3814, -5.3465, -4.9841, -5.1045, -5.2047, -5.1381, -3.7454, -3.6935, -4.3699, -4.2574, -4.6719, -5.0731, -5.2717, -5.0616, -5.3318, -5.3508, -5.4346, -5.2591, -5.4391, -5.5014, -5.0434, -5.2392, -5.5259, -5.4326, -5.4495, -5.624, -5.4053, -5.6403, -5.6028, -5.2666, -5.1794, -5.7241, -5.0715, -5.6862, -5.3406, -5.4497, -4.9973, -4.5866, -4.9457, -4.9735, -4.7633, -4.5032, -4.9431, -4.5345, -4.4769, -4.2104, -4.4339, -4.9629, -4.8689, -4.9628, -4.9386, -5.1808, -5.0721, -5.0914, -5.1962, -3.4922, -4.0252, -3.432, -4.2938, -3.0703, -4.303, -4.3272, -4.6658, -4.8459, -3.7698, -4.0825, -4.1711, -4.7714, -5.2645, -4.3557, -3.9342, -5.0041, -4.8439, -3.8555, -4.8033, -3.6796, -3.8938, -3.9182, -5.1499, -4.1889, -5.5227, -3.9611, -5.4523, -4.8711, -6.0205, -3.8275, -4.5269, -5.1878, -4.7744, -3.9876, -4.3038, -4.6431, -4.7393, -4.6721, -4.4331, -4.6394, -3.3071, -3.9003, -3.8929, -4.0764, -3.9009, -4.0421, -3.1812, -4.2933, -4.5419, -4.6211, -4.033, -4.2763, -4.6958, -4.3725, -3.1404, -4.778, -4.2174, -4.7839, -4.7113, -4.4732, -4.8254, -4.8072, -5.0496, -4.3079, -4.8637, -4.9051, -3.6926, -4.9355, -4.9307, -4.8804, -4.8956, -4.8689, -3.4101, -3.4497, -4.1427, -3.5552, -4.3262, -5.1074, -4.2598, -4.3384, -4.2213, -4.504, -3.9062, -3.9709, -3.7266, -4.7639, -4.2842, -4.0322, -4.2521, -4.8076, -4.9751, -4.4369, -5.2229, -4.9749, -4.0159, -4.5938, -5.6817, -4.8896, -4.7824, -4.0883, -4.7192, -5.3951, -4.8587, -5.1017, -4.7088, -4.887, -5.0835, -3.3966, -4.0648, -4.0693, -4.2365, -3.9618, -3.8074, -4.3519, -4.7089, -4.6466, -3.3814, -3.5738, -5.0396, -5.0912, -4.6484, -5.0805, -5.0087, -5.0808, -4.0493, -3.8767, -4.9517, -4.9857, -4.8922, -2.8785, -5.1242, -5.6637, -5.8219, -5.257, -4.3193, -5.2372, -5.3015, -4.6013, -4.4373, -5.1415, -5.1716, -2.8665, -3.2865, -3.9188, -3.8218, -4.5512, -3.2834, -3.386, -4.3224, -4.5651, -4.8412, -5.1947, -4.8966, -4.433, -5.0841, -5.0968, -4.8899, -4.719, -5.5413, -5.3492, -5.1209, -5.0115, -5.4132, -5.8364, -5.442, -4.2571, -4.1025, -6.364, -6.2781, -5.4278, -6.451, -5.1731, -5.1303, -5.6473, -5.507, -3.9666, -3.5764, -3.5527, -4.5667, -4.4811, -3.6848, -4.605, -3.7502, -4.5693, -4.7132, -5.1093, -4.7587, -4.5928, -5.4737, -5.3364, -5.5902, -5.4998, -5.2037, -5.93, -5.6783, -5.2013, -5.4298, -5.8668, -6.3432, -6.1898, -5.4385, -5.7886, -5.9124, -6.2414, -6.6999, -5.3119, -4.9421, -5.1321, -4.8131, -5.5726, -5.5271, -5.6093, -2.7972, -3.8326, -3.807, -4.0608, -4.4458, -3.8535, -3.8633, -3.9715, -5.1881, -5.523, -4.923, -5.8454, -4.797, -5.32, -5.1186, -5.2261, -5.2389, -5.6604, -5.5696, -5.7439, -6.3086, -8.8097, -8.8097, -8.8097, -8.8097, -8.8097, -8.8097, -8.8097, -8.8097, -8.8097, -8.7773, -8.8097, -8.8097, -8.8097, -8.8097, -8.8097, -8.8097, -8.8097, -8.8097, -3.3953, -3.6856, -3.0117, -3.0731, -4.2036, -4.8014, -4.8164, -5.9019, -3.9003, -4.614, -5.4559, -7.9024, -8.7669, -8.7669, -8.7669, -8.7669, -8.7669, -8.7669, -8.7669, -8.7669, -8.7669, -8.7669, -8.7669, -8.7669, -8.7669, -8.7669, -8.7669, -8.7669, -8.7669, -8.7669, -8.7669, -8.7669, -8.7669, -8.7669, -8.7669, -8.7669, -8.7669, -8.7669, -8.7669, -8.7669, -8.7669, -8.7669, -8.7669, -8.7669, -8.7669, -8.7669, -8.7669, -8.7669, -3.3761, -4.541, -4.8794, -4.2376, -4.5665, -4.9061, -5.7664, -4.8289, -4.8832, -5.1621, -5.0781, -4.7621, -6.2304, -5.9221, -4.303, -5.3653, -5.1432, -5.6367, -5.2166, -5.828, -6.2625, -5.6549, -6.2314, -4.8578, -5.3806, -5.7706, -6.1572, -5.6009, -6.8902, -4.6654, -5.7488, -5.1513, -5.5324, -5.7546, -6.1168, -3.6521, -3.217, -4.3145, -8.5993, -8.5993, -8.5993, -8.5993, -8.5993, -8.5993, -8.5993, -8.5993, -8.5993, -8.5993, -8.5993, -8.5993, -8.5993, -8.5993, -8.5993, -8.5993, -8.5993, -8.5993, -8.5993, -8.5993, -8.5993, -8.5993, -8.5993, -8.5993, -8.5993, -8.5993, -8.5993, -8.5993, -8.5993, -8.5993, -8.5993, -8.5993, -8.5993, -8.5993, -8.5993, -8.5993, -8.5993, -8.5993, -8.5993, -8.5993, -8.5993, -8.5993, -8.5993, -8.5993, -8.5993, -8.5993, -8.5993, -8.5993, -8.5993, -8.5993, -8.5993, -8.5993, -8.5993, -8.5993, -3.4542, -3.4747, -8.5814, -8.5814, -8.5814, -8.5814, -8.5814, -8.5814, -8.5814, -8.5814, -8.5814, -8.5814, -8.5814, -8.5814, -8.5814, -8.5814, -8.5814, -8.5814, -8.5814, -8.5814, -8.5814, -8.5814, -8.5814, -8.5814, -8.5814, -8.5814, -8.5814, -8.5814, -8.5814, -8.5814, -8.5814, -8.5814, -8.5814, -8.5814, -8.5814, -8.5814, -8.5814, -8.5814, -8.5814, -8.5814, -8.5814, -8.5814, -8.5814, -8.5814, -8.5814, -8.5814, -8.5814, -8.5814, -8.5814, -8.5814, -8.5814, -8.5814, -8.5814, -8.5814, -8.5814, -8.5814, -8.5814, -3.4625, -4.1461, -5.4961, -5.3907, -5.4783, -8.5781, -8.5781, -8.5781, -8.5781, -8.5781, -8.5781, -8.5781, -8.5781, -8.5781, -8.5781, -8.5781, -8.5781, -8.5781, -8.5781, -8.5781, -8.5781, -8.5781, -8.5781, -8.5781, -8.5781, -8.5781, -8.5781, -8.5781, -8.5781, -8.5781, -8.5781, -8.5781, -8.5781, -8.5781, -8.5781, -8.5781, -8.5781, -8.5781, -8.5781, -8.5781, -8.5781, -8.5781, -8.5781, -8.5781, -8.5781, -8.5781, -8.5781, -8.5781, -8.5781, -8.5781, -8.5781, -8.5781, -8.5781, -8.5781, -8.5781, -3.4627, -8.5488, -8.5488, -8.5488, -8.5488, -8.5488, -8.5488, -8.5488, -8.5488, -8.5488, -8.5488, -8.5488, -8.5488, -8.5488, -8.5488, -8.5488, -8.5488, -8.5488, -8.5488, -8.5488, -8.5488, -8.5488, -8.5488, -8.5488, -8.5488, -8.5488, -8.5488, -8.5488, -8.5488, -8.5488, -8.5488, -8.5488, -8.5488, -8.5488, -8.5488, -8.5488, -8.5488, -8.5488, -8.5488, -8.5488, -8.5488, -8.5488, -8.5488, -8.5488, -8.5488, -8.5488, -8.5488, -8.5488, -8.5488, -8.5488, -8.5488, -8.5488, -8.5488, -8.5488, -8.5488, -8.5488, -8.5488, -8.5488, -8.5488, -3.5008, -8.5476, -8.5476, -8.5476, -8.5476, -8.5476, -8.5476, -8.5476, -8.5476, -8.5476, -8.5476, -8.5476, -8.5476, -8.5476, -8.5476, -8.5476, -8.5476, -8.5476, -8.5476, -8.5476, -8.5476, -8.5476, -8.5476, -8.5476, -8.5476, -8.5476, -8.5476, -8.5476, -8.5476, -8.5476, -8.5476, -8.5476, -8.5476, -8.5476, -8.5476, -8.5476, -8.5476, -8.5476, -8.5476, -8.5476, -8.5476, -8.5476, -8.5476, -8.5476, -8.5476, -8.5476, -8.5476, -8.5476, -8.5476, -8.5476, -8.5476, -8.5476, -8.5476, -8.5476, -8.5476, -8.5476, -8.5476, -8.5476, -8.5476, -6.0475, -6.1294, -6.1729, -6.1638, -6.3802, -8.531, -6.4011, -8.531, -8.531, -8.531, -8.531, -8.531, -8.531, -8.531, -8.531, -8.531, -8.531, -8.531, -8.531, -8.531, -8.531, -8.531, -8.531, -8.531, -8.531, -8.531, -8.531, -8.531, -8.531, -8.531, -6.2685, -6.6374, -8.531, -8.531, -8.531, -8.531, -8.531, -8.531, -8.531, -8.531, -8.531, -8.531, -8.531, -8.531, -8.531, -8.531, -8.531, -8.531, -8.531, -8.531, -8.531, -8.531, -8.531, -6.0658, -6.1183, -6.1183, -6.1959, -6.3287, -6.1341, -6.4257, -8.5302, -8.5302, -8.5302, -8.5302, -8.5302, -8.5302, -8.5302, -8.5302, -8.5302, -8.5302, -8.5302, -8.5302, -8.5302, -8.5302, -8.5302, -8.5302, -8.5302, -8.5302, -8.5302, -8.5302, -8.5302, -8.5302, -8.5302, -8.5302, -8.5302, -8.5302, -8.5302, -8.5302, -8.5302, -8.5302, -8.5302, -8.5302, -8.5302, -8.5302, -8.5302, -8.5302, -8.5302, -8.5302, -8.5302, -8.5302, -8.5302, -8.5302, -8.5302, -8.5302, -8.5302, -8.5172, -8.5172, -8.5172, -8.5172, -8.5172, -8.5172, -8.5172, -8.5172, -8.5172, -8.5172, -8.5172, -8.5172, -8.5172, -8.5172, -8.5172, -8.5172, -8.5172, -8.5172, -8.5172, -8.5172, -8.5172, -8.5172, -8.5172, -8.5172, -8.5172, -8.5172, -8.5172, -8.5172, -8.5172, -8.5172, -8.5172, -8.5172, -8.5172, -8.5172, -8.5172, -8.5172, -8.5172, -8.5172, -8.5172, -8.5172, -8.5172, -8.5172, -8.5172, -8.5172, -8.5172, -8.5172, -8.5172, -8.5172, -8.5172, -8.5172, -8.5172, -8.5172, -8.5172, -8.5172, -8.5172, -8.5172, -8.5172, -8.5172, -8.5172, -8.5172, -8.5172, -8.5172, -8.5172, -8.5172, -8.5172, -8.5172, -8.5172, -8.5172, -8.5172, -8.5172, -8.5172, -8.5172, -8.5172, -8.5172, -8.5172, -8.5172, -8.5172, -8.5172, -8.5172, -8.5172, -8.5172, -8.5172, -8.5172, -8.5172, -8.5172, -8.5172, -8.5172, -8.5172, -8.5172, -8.5172, -8.5172, -8.5172, -8.5172, -8.5172, -8.5172, -8.5172, -8.5172, -8.5172, -8.5172, -8.5172, -8.5172, -8.5172, -8.5172, -8.5172, -8.5172, -8.5172, -8.5172, -8.5172, -8.5172, -8.5172, -8.5172, -8.5172, -8.5172, -8.5172, -8.5172, -8.5172, -8.5172, -8.5172, -8.5172, -8.5172, -8.5172, -8.5172, -8.5172, -8.5172, -8.5172, -8.5172, -8.5172, -8.5172, -8.5172, -8.5172, -8.5172, -8.5172, -8.5172, -8.5172, -8.5172, -8.5172, -8.5172, -8.5172, -8.5172, -8.5172, -8.5172, -8.5172, -8.5172, -8.5172, -8.5172, -8.5172, -8.5172, -8.5172, -8.5172, -8.5172, -8.5172, -8.5172, -8.5172, -8.5172, -8.5172, -8.5172, -8.5172, -8.5172, -8.5172, -8.5172, -8.5172, -8.5172, -8.5172, -8.5172, -8.5172, -8.5172, -8.5172, -8.5172, -8.5172, -8.5172, -8.5172, -8.5172, -8.5172, -8.5172, -8.5172, -8.5172, -8.5172, -8.5172, -8.5172, -8.5172, -8.5172, -8.5172, -8.5172, -8.5172, -8.5172, -8.5172, -8.5172, -8.5172, -8.5172, -8.5172, -8.5172, -8.5172, -8.5172, -8.5172, -8.5172, -8.5172, -8.5172, -8.5172, -8.5172, -8.5172, -8.5172, -8.5172, -8.5172, -8.5172, -8.5172, -8.5172, -8.5172, -8.5172, -8.5172, -8.5172, -8.5172, -8.5172, -8.5172, -8.5172, -8.5172, -8.5172, -8.5172, -8.5172, -8.5172, -8.5172, -8.5172, -8.5172, -8.5172, -8.5172, -8.5172, -8.5172, -8.5172, -8.5172, -8.5172, -8.5172, -8.5172, -8.5172, -8.5172, -8.5172, -8.5172, -8.5172]}, \"token.table\": {\"Topic\": [1, 2, 1, 2, 3, 5, 9, 1, 1, 1, 1, 1, 7, 1, 2, 3, 9, 1, 2, 3, 9, 1, 2, 3, 7, 7, 1, 3, 1, 2, 7, 7, 1, 3, 1, 2, 4, 1, 2, 1, 1, 1, 11, 1, 11, 1, 14, 21, 1, 2, 2, 1, 2, 1, 1, 4, 1, 2, 4, 1, 13, 2, 1, 4, 1, 11, 1, 2, 1, 2, 1, 2, 3, 4, 1, 3, 4, 2, 3, 5, 1, 1, 2, 13, 1, 2, 1, 2, 1, 1, 2, 7, 1, 1, 10, 1, 1, 7, 10, 20, 2, 1, 2, 3, 8, 1, 3, 1, 6, 3, 1, 11, 1, 2, 3, 4, 1, 2, 4, 1, 2, 10, 1, 2, 1, 1, 1, 3, 5, 1, 10, 1, 1, 9, 1, 2, 5, 1, 3, 5, 5, 1, 11, 1, 11, 5, 1, 2, 3, 5, 8, 1, 11, 1, 2, 20, 1, 2, 13, 5, 1, 9, 1, 4, 1, 11, 1, 2, 4, 1, 1, 1, 2, 1, 1, 3, 8, 1, 2, 16, 1, 9, 1, 14, 5, 1, 6, 1, 2, 1, 2, 1, 1, 2, 6, 11, 1, 3, 1, 2, 11, 5, 1, 17, 1, 1, 2, 3, 6, 1, 2, 3, 1, 2, 4, 4, 1, 2, 4, 1, 2, 4, 1, 2, 8, 1, 2, 11, 1, 3, 1, 12, 1, 2, 4, 1, 4, 5, 1, 6, 3, 1, 11, 1, 2, 20, 1, 9, 1, 6, 5, 1, 3, 5, 1, 3, 1, 2, 1, 12, 1, 2, 3, 5, 6, 1, 14, 1, 2, 13, 20, 1, 2, 13, 1, 12, 1, 2, 6, 1, 2, 3, 11, 1, 2, 2, 1, 10, 1, 3, 4, 5, 1, 9, 1, 1, 6, 1, 2, 4, 1, 1, 3, 1, 3, 5, 1, 3, 1, 1, 3, 6, 1, 2, 5, 1, 6, 1, 7, 1, 7, 1, 3, 2, 1, 2, 4, 7, 1, 4, 1, 2, 21, 1, 1, 6, 1, 2, 12, 1, 2, 7, 1, 10, 1, 10, 1, 10, 1, 2, 4, 1, 11, 1, 2, 1, 2, 4, 1, 2, 3, 1, 7, 1, 2, 7, 1, 1, 2, 4, 1, 2, 3, 4, 1, 6, 1, 2, 3, 1, 8, 1, 2, 7, 1, 1, 2, 3, 8, 1, 2, 9, 1, 4, 5, 1, 6, 1, 2, 4, 1, 3, 1, 3, 1, 10, 1, 10, 1, 10, 1, 10, 1, 6, 1, 2, 3, 5, 1, 12, 1, 11, 1, 2, 3, 4, 5, 2, 1, 2, 3, 3, 8, 1, 2, 6, 5, 1, 4, 2, 4, 1, 1, 2, 7, 1, 2, 4, 1, 2, 4, 1, 2, 4, 1, 5, 1, 2, 2, 1, 3, 5, 4, 1, 12, 1, 21, 1, 1, 3, 9, 1, 1, 2, 1, 2, 4, 14, 1, 2, 3, 1, 9, 1, 2, 3, 4, 1, 2, 4, 1, 6, 1, 11, 1, 2, 1, 3, 4, 1, 9, 1, 7, 1, 7, 1, 2, 4, 1, 2, 4, 2, 4, 1, 11, 1, 12, 1, 3, 9, 1, 2, 1, 1, 2, 14, 1, 1, 2, 3, 2, 1, 2, 5, 1, 5, 7, 1, 3, 7, 1, 2, 1, 3, 1, 14, 1, 1, 2, 1, 1, 2, 1, 2, 1, 2, 4, 1, 2, 1, 2, 3, 9, 1, 2, 1, 2, 3, 1, 2, 1, 3, 1, 2, 1, 2, 3, 1, 2, 3, 4, 1, 2, 3, 1, 3, 1, 1, 2, 1, 5, 1, 2, 6, 1, 3, 11, 3, 1, 3, 1, 2, 3, 9, 1, 10, 1, 3, 4, 5, 5, 1, 2, 1, 2, 1, 1, 2, 4, 1, 1, 1, 2, 3, 5, 1, 3, 1, 1, 6, 1, 2, 1, 11, 1, 2, 14, 1, 2, 1, 2, 1, 1, 5, 1, 11, 1, 2, 9, 1, 2, 4, 9, 1, 3, 5, 8, 1, 3, 5, 8, 15, 1, 11, 1, 1, 2, 3, 12, 1, 3, 5, 5, 1, 2, 1, 2, 1, 2, 3, 8, 1, 3, 8, 1, 2, 1, 6, 1, 6, 1, 3, 1, 21, 1, 2, 1, 2, 3, 11, 1, 14, 2, 16, 1, 6, 1, 5, 17, 1, 3, 1, 2, 14, 1, 1, 2, 11, 1, 1, 1, 2, 4, 2, 1, 2, 3, 5, 1, 3, 5, 5, 1, 3, 8, 1, 2, 3, 5, 1, 5, 1, 1, 2, 13, 1, 2, 1, 3, 5, 14, 1, 2, 4, 11, 1, 18, 1, 8, 1, 4, 1, 2, 3, 21, 1, 7, 1, 9, 1, 9, 1, 5, 5, 1, 2, 3, 5, 14, 1, 14, 1, 2, 1, 2, 7, 1, 2, 1, 2, 1, 1, 1, 9, 1, 2, 1, 2, 4, 1, 8, 1, 2, 1, 1, 3, 14, 1, 3, 5, 8, 1, 2, 6, 1, 2, 4, 1, 2, 4, 10, 1, 3, 9, 1, 2, 3, 6, 10, 1, 2, 3, 5, 1, 2, 4, 1, 3, 1, 2, 1, 2, 3, 1, 13, 1, 3, 6, 1, 2, 6, 1, 3, 5, 3, 1, 11, 2, 4, 1, 7, 1, 2, 4, 14, 1, 2, 1, 8, 1, 2, 3, 1, 3, 13, 1, 3, 5, 10, 1, 14, 1, 2, 4, 1, 2, 3, 1, 3, 5, 1, 3, 1, 3, 5, 8, 1, 1, 3, 14, 1, 13, 1, 7, 1, 7, 1, 13, 1, 2, 1, 2, 3, 4, 1, 3, 4, 5, 6, 2, 1, 1, 6, 1, 6, 1, 3, 2, 1, 3, 5, 8, 5, 2, 4, 2, 1, 2, 6, 2, 1, 2, 7, 3, 1, 2, 6, 1, 5, 1, 2, 5, 1, 11, 2, 1, 2, 1, 2, 4, 1, 2, 6, 1, 3, 5, 7, 1, 8, 1, 12, 1, 14, 1, 2, 1, 2, 6, 1, 1, 2, 4, 1, 4, 6, 1, 2, 4, 2, 1, 1, 10, 3, 1, 3, 8, 1, 8, 1, 2, 3, 4, 1, 5, 1, 2, 2, 1, 2, 1, 2, 3, 4, 6, 11, 14, 1, 2, 3, 4, 7, 14, 1, 2, 7, 1, 2, 1, 4, 1, 2, 4, 1, 2, 10, 1, 14, 5, 1, 7, 1, 2, 4, 1, 2, 10, 1, 1, 2, 1, 2, 4, 6, 1, 2, 9, 1, 11, 1, 10, 1, 10, 1, 10, 1, 2, 3, 4, 1, 9, 1, 3, 8, 1, 12, 4, 1, 2, 1, 1, 2, 4, 1, 3, 4, 14, 1, 2, 3, 12, 3, 8, 1, 2, 4, 1, 2, 3, 4, 9, 1, 10, 1, 3, 10, 1, 6, 10, 1, 10, 1, 10, 20, 1, 2, 3, 8, 1, 6, 17, 1, 7, 1, 5, 1, 5, 5, 1, 5, 1, 5, 8, 1, 3, 4, 5, 8, 1, 3, 5, 1, 3, 5, 1, 3, 5, 3, 5, 8, 3, 5, 8, 1, 2, 4, 1, 14, 1, 3, 4, 9, 1, 2, 1, 2, 4, 1, 2, 4, 1, 12, 1, 11, 3, 5, 8, 1, 9, 1, 1, 3, 1, 10, 1, 1, 1, 10, 1, 2, 4, 1, 2, 4, 2, 4, 1, 1, 1, 2, 6, 4, 1, 4, 1, 2, 4, 1, 2, 1, 1, 4, 1, 1, 11, 2, 1, 2, 1, 2, 7, 1, 1, 14, 15, 1, 8, 2, 2, 2, 1, 3, 4, 1, 3, 1, 3, 1, 3, 9, 1, 3, 1, 2, 1, 2, 6, 3, 1, 1, 14, 3, 1, 2, 3, 6, 1, 2, 3, 1, 2, 7, 1, 2, 1, 2, 11, 1, 12, 1, 2, 1, 2, 4, 1, 2, 4, 1, 2, 1, 2, 1, 1, 2, 3, 5, 6, 1, 6, 1, 2, 7, 14, 1, 14, 5, 1, 2, 1, 2, 1, 4, 1, 3, 5, 4, 1, 3, 11, 1, 3, 9, 1, 2, 3, 1, 2, 4, 1, 2, 3, 4, 5, 1, 5, 1, 2, 3, 4, 1, 2, 3, 4, 5, 1, 1, 3, 1, 2, 3, 5, 8, 1, 4, 1, 2, 1, 3, 8, 1, 2, 1, 2, 12, 1, 2, 6, 1, 3, 5, 8, 1, 3, 5, 10, 1, 3, 5, 20, 1, 2, 3, 5, 1, 2, 3, 3, 3, 1, 2, 4, 1, 2, 4, 1, 2, 4, 1, 2, 1, 2, 10, 1, 2, 3, 5, 8, 1, 2, 12, 1, 1, 1, 3, 8, 2, 3, 10, 14, 1, 2, 3, 5, 1, 1, 21, 1, 5, 11, 1, 2, 3, 1, 12, 1, 2, 6, 1, 1, 3, 5, 1, 1, 2, 4, 3, 1, 3, 1, 1, 2, 10, 1, 3, 8, 1, 3, 5, 1, 2, 3, 4, 1, 2, 1, 2, 3, 4, 1, 8, 1, 9, 1, 9, 1, 11, 1, 1, 4, 9, 1, 11, 1, 2, 1, 3, 1, 2, 1, 2, 7, 1, 2, 4, 5, 1, 2, 1, 2, 1, 2, 4, 1, 13, 1, 2, 1, 14, 1, 2, 14, 1, 3, 5, 6, 8, 1, 2, 3, 4, 5, 1, 3, 5, 1, 1, 4, 1, 5, 1, 2, 3, 4, 20, 2, 1, 3, 1, 2, 4, 1, 2, 1, 2, 1, 2, 12, 1, 10, 12, 1, 2, 1, 3, 1, 5, 1, 2, 3, 5, 1, 2, 3, 7, 14, 1, 5, 1, 2, 7, 1, 8, 1, 3, 3, 1, 3, 4, 1, 1, 2, 1, 15, 1, 2, 4, 1, 2, 3, 1, 2, 4, 1, 10, 2, 3, 5, 1, 2, 4, 14, 1, 11, 1, 2, 1, 2, 3, 4, 1, 6, 1, 2, 6, 1, 11, 1, 4, 1, 6, 1, 19, 1, 2, 12, 1, 2, 12, 1, 2, 3, 4, 5, 1, 2, 4, 11, 1, 2, 1, 12, 1, 2, 4, 1, 2, 4, 1, 2, 4, 4, 1, 2, 3, 4, 1, 1, 2, 7, 1, 3, 1, 2, 1, 2, 3, 1, 2, 3, 4, 11, 14, 3, 1, 3, 21, 3, 1, 2, 3, 4, 5, 1, 3, 1, 2, 3, 4, 1, 2, 3, 4, 5, 1, 2, 1, 2, 3, 1, 1, 1, 17, 1, 5, 17, 1, 14, 1, 9, 1, 6, 1, 5, 1, 2, 3, 5, 1, 2, 3, 1, 3, 1, 9, 1, 9, 1, 2, 4, 6, 11, 14, 1], \"Freq\": [0.8893789865445804, 0.08783989990563756, 0.6755576052484201, 0.05874413958681914, 0.17623241876045742, 0.02937206979340957, 0.08811620938022871, 0.815387028182617, 0.8206167274549631, 0.8858057224563429, 0.8861496290082388, 0.410811084609517, 0.5135138557618962, 0.5545954847349014, 0.06932443559186267, 0.06932443559186267, 0.13864887118372535, 0.6101655828893033, 0.13559235175317852, 0.06779617587658926, 0.13559235175317852, 0.7353390899369366, 0.09191738624211708, 0.09191738624211708, 0.9174582832805369, 0.9260565243293756, 0.6976477970516465, 0.1395295594103293, 0.4447230270628529, 0.04941366967365032, 0.3953093573892026, 0.8927321527760594, 0.5365825906393157, 0.26829129531965784, 0.028288975655822106, 0.9052472209863074, 0.05657795131164421, 0.6329850042466226, 0.25319400169864903, 0.7739550695101216, 0.7764558188888027, 0.5957071136589791, 0.19856903788632635, 0.6730527170784502, 0.1923007763081286, 0.8089932444857586, 0.06223024957582759, 0.06223024957582759, 0.5858317201197313, 0.29291586005986564, 0.8803081603760993, 0.12675938523709473, 0.8239360040411158, 0.6450467651300049, 0.29239933387519484, 0.4385990008127923, 0.0947537521071823, 0.1895075042143646, 0.5685225126430938, 0.15942643769088952, 0.7174189696090029, 0.7600459614898516, 0.5016165439316641, 0.25080827196583205, 0.687032197058137, 0.2987096508948422, 0.8997139783643278, 0.054528119900868345, 0.3961305411437483, 0.4951631764296854, 0.7450214956296758, 0.2203584705383548, 0.02098652100365284, 0.01049326050182642, 0.7605109071465654, 0.8697240034888887, 0.7540195105793094, 0.6565676583984839, 0.16414191459962096, 0.08207095729981048, 0.9601596185851601, 0.2425947590060492, 0.2425947590060492, 0.3638921385090738, 0.11857814105577542, 0.7707579168625402, 0.1671180968190073, 0.7520314356855329, 0.9764434695339762, 0.4554836376730963, 0.0198036364205694, 0.4950909105142351, 0.9669738022201521, 0.7779542584483812, 0.14144622880879656, 0.9547324157409725, 0.7604071107371954, 0.12006428064271507, 0.04002142688090502, 0.04002142688090502, 0.8293039015338998, 0.3883813570101632, 0.12946045233672107, 0.12946045233672107, 0.25892090467344214, 0.09676229818848847, 0.8708606836963962, 0.42671250928258386, 0.5333906366032298, 0.8506255626035224, 0.7104693446053095, 0.20299124131580273, 0.2334992778834578, 0.6486091052318272, 0.025944364209273093, 0.07783309262781928, 0.16732818033249575, 0.6972007513853989, 0.11155212022166383, 0.5591808211487328, 0.07988297444981897, 0.23964892334945692, 0.27278587622864475, 0.7092432781944763, 0.8285691909665434, 0.953398022386887, 0.205314322244849, 0.43995926195324786, 0.2933061746354986, 0.06961894741594246, 0.8702368426992807, 0.8905540492481249, 0.2432746315854694, 0.648732350894585, 0.3896885458481027, 0.12989618194936756, 0.4221625913354446, 0.24504240561033683, 0.08168080187011227, 0.6534464149608982, 0.8422630400023924, 0.6887060522302345, 0.22956868407674486, 0.2726950908988519, 0.6544682181572445, 0.8006407580274816, 0.5772176261370404, 0.04122983043836003, 0.08245966087672006, 0.08245966087672006, 0.20614915219180016, 0.5745270825701226, 0.3590794266063267, 0.8303073928030141, 0.06386979944638571, 0.06386979944638571, 0.5423425338107264, 0.3615616892071509, 0.09039042230178773, 0.9224805628518155, 0.36414177315690266, 0.4855223642092036, 0.2368298074538638, 0.6512819704981255, 0.28351339069014486, 0.6237294595183187, 0.6816051798722029, 0.0681605179872203, 0.1363210359744406, 0.9736765803771301, 0.9239992689347502, 0.946631196185342, 0.03321512969071375, 0.8173774377031299, 0.2680707893127245, 0.13403539465636224, 0.4691238812972679, 0.8513664248660017, 0.08004607752953609, 0.8805068528248969, 0.6522591501843342, 0.19567774505530028, 0.8907867119381007, 0.08733203058216674, 0.8334730807007766, 0.050341651498948765, 0.9313205527305521, 0.09657526590611534, 0.8691773931550381, 0.43725853900485834, 0.5323147431363493, 0.9664137270864523, 0.8814787331859729, 0.01958841629302162, 0.05876524887906486, 0.03917683258604324, 0.630448269676815, 0.126089653935363, 0.8909511765005429, 0.0349392618235507, 0.05240889273532605, 0.8857110294463506, 0.45358563289651016, 0.45358563289651016, 0.9778974794953609, 0.5029917004865646, 0.035927978606183186, 0.10778393581854956, 0.3233518074556487, 0.7189959978184012, 0.1027137139740573, 0.1027137139740573, 0.18306933686229268, 0.16999295565784323, 0.627666297813575, 0.7071362980819859, 0.17605684235952818, 0.07042273694381126, 0.7042273694381127, 0.2012336675221759, 0.08049346700887035, 0.684194469575398, 0.10473073909759904, 0.10473073909759904, 0.7331151736831932, 0.7997526632897957, 0.0856877853524781, 0.057125190234985405, 0.851141687066262, 0.07737651700602381, 0.6615029151776396, 0.27238355330843983, 0.5214755248982526, 0.45100585937146165, 0.014093933105358177, 0.5586048673562122, 0.18620162245207075, 0.754909784064233, 0.48037538747866726, 0.48037538747866726, 0.8984901638652669, 0.8301622921509924, 0.10377028651887404, 0.7734228783329443, 0.18668828097691761, 0.026669754425273945, 0.22704053930326856, 0.7265297257704594, 0.5092193929634266, 0.41663404878825805, 0.8737100809976904, 0.139452104377369, 0.7437445566793013, 0.04648403479245633, 0.09146062995799274, 0.8231456696219347, 0.24607550361761674, 0.7074670729006481, 0.3606445844360305, 0.4808594459147073, 0.5674473024425779, 0.027021300116313235, 0.13510650058156617, 0.10808520046525294, 0.13510650058156617, 0.8591163054032591, 0.08591163054032591, 0.5745989680663312, 0.30166445823482385, 0.11491979361326622, 0.014364974201658278, 0.6563297010738809, 0.21877656702462694, 0.08751062680985078, 0.09366417560685032, 0.7493134048548026, 0.6390735208225808, 0.0766888224987097, 0.25562940832903236, 0.7915168707333414, 0.13455786802466804, 0.0554061809513339, 0.007915168707333414, 0.1189983102080901, 0.7139898612485406, 0.8203036326076468, 0.7457729404939653, 0.12429549008232754, 0.2712797776419494, 0.5425595552838988, 0.07750850789769982, 0.03875425394884991, 0.5618565508950861, 0.3371139305370517, 0.884257312122886, 0.5522052380851732, 0.3313231428511039, 0.07037201130702114, 0.030159433417294778, 0.8846767135739801, 0.7415799840080626, 0.6418934575011342, 0.3209467287505671, 0.14762258759051655, 0.7873204671494216, 0.04920752919683885, 0.16803476814965343, 0.7561564566734404, 0.9663048644188421, 0.7471497426426649, 0.019157685708786277, 0.21073454279664905, 0.1702339410942847, 0.13618715287542776, 0.6468889761582818, 0.5029895262786866, 0.452690573650818, 0.6841015690864137, 0.2487642069405141, 0.7093568895243004, 0.25464093470103094, 0.8530088992522507, 0.07108407493768755, 0.8314869809267902, 0.40351356222747925, 0.1467322044463561, 0.1467322044463561, 0.2934644088927122, 0.29607660536019226, 0.5921532107203845, 0.8534178848596947, 0.0812778937961614, 0.0406389468980807, 0.9828697085579251, 0.9476657137026707, 0.03760578228978852, 0.7021421211002582, 0.15603158246672405, 0.07801579123336203, 0.5701505868605102, 0.12670013041344674, 0.2534002608268935, 0.6402760048653208, 0.2744040020851375, 0.7613554832126831, 0.16314760354557495, 0.5925564515188603, 0.23702258060754414, 0.26120136149987044, 0.48975255281225716, 0.19590102112490285, 0.8817138106179295, 0.058780920707861964, 0.6396010380320261, 0.21320034601067533, 0.1721577615942811, 0.04303944039857027, 0.7316704867756946, 0.16287936972899467, 0.7601037254019751, 0.9123237311736718, 0.5470037893400177, 0.36466919289334515, 0.1401290584732085, 0.280258116946417, 0.4904517046562297, 0.8011960657594117, 0.4434381417902995, 0.14781271393009981, 0.14781271393009981, 0.5483374568602786, 0.3825610164141478, 0.012752033880471594, 0.05100813552188638, 0.52316188865831, 0.44842447599283713, 0.31854262635246944, 0.5839948149795273, 0.08494470036065851, 0.5587661872260408, 0.33525971233562446, 0.667054207121288, 0.05558785059344067, 0.2223514023737627, 0.8061229303404608, 0.22112373329377805, 0.7370791109792602, 0.11012945127102414, 0.770906158897169, 0.1688232258130113, 0.08441161290650565, 0.6752929032520452, 0.1625542442272831, 0.8127712211364155, 0.8631423252187806, 0.0585832312238641, 0.8787484683579615, 0.25389733356949346, 0.25389733356949346, 0.38084600035424016, 0.20338885073256455, 0.7457591193527366, 0.10412682742380044, 0.8330146193904036, 0.4674100491553998, 0.4966231772276123, 0.4175225037678954, 0.5219031297098693, 0.28502383339046344, 0.6413036251285428, 0.6421415910058453, 0.27520353900250516, 0.49976449255271094, 0.4581174515066517, 0.8255087431821183, 0.07603370002993196, 0.05430978573566568, 0.032585871441399406, 0.6323102979287477, 0.25292411917149904, 0.7057620940156772, 0.2352540313385591, 0.08967636404431893, 0.17935272808863786, 0.26902909213295684, 0.26902909213295684, 0.08967636404431893, 0.7715437949753509, 0.20766245451105883, 0.5537665453628235, 0.17305204542588237, 0.18470169485478025, 0.6464559319917308, 0.34256590158613426, 0.08564147539653356, 0.5423960108447127, 0.8044312022528474, 0.11023412534773841, 0.7716388774341689, 0.050419743367845306, 0.9075553806212155, 0.8194011677680714, 0.5387208066317657, 0.07696011523310937, 0.3848005761655469, 0.3057309497068463, 0.535029161986981, 0.07643273742671157, 0.09621637639692023, 0.16837865869461038, 0.6975687288776716, 0.05839283156200845, 0.1167856631240169, 0.7883032260871141, 0.1368116713570277, 0.8208700281421664, 0.9642867012612257, 0.8813394856672278, 0.8649179627566331, 0.481737729741098, 0.240868864870549, 0.18065164865291175, 0.7889961314701176, 0.2069175219904842, 0.7242113269666947, 0.9316245405650574, 0.04234657002568443, 0.9439583586542027, 0.5035906559817211, 0.1258976639954303, 0.1258976639954303, 0.8444802999247858, 0.7481891697330645, 0.12469819495551075, 0.6688280168270172, 0.2229426722756724, 0.0557356680689181, 0.0557356680689181, 0.3242486018788969, 0.3242486018788969, 0.8911938603439742, 0.6746841440894089, 0.20240524322682268, 0.9276576123590449, 0.01220602121525059, 0.03661806364575177, 0.01220602121525059, 0.24660409097780775, 0.0548009091061795, 0.657610909274154, 0.8055990326968849, 0.17262836414933247, 0.7522357151039302, 0.12537261918398837, 0.8642079052705696, 0.11151069745426703, 0.9379865890309688, 0.8180866720411634, 0.891170226914224, 0.7335234266338458, 0.2000518436274125, 0.2859494838054258, 0.5718989676108516, 0.1748682030839573, 0.6994728123358293, 0.13509646674614761, 0.22516077791024602, 0.6079341003576643, 0.10895076383925179, 0.43580305535700714, 0.43580305535700714, 0.17399247705327775, 0.695969908213111, 0.5345160990284191, 0.35634406601894614, 0.39660986862997455, 0.5288131581732994, 0.8291430950370999, 0.025125548334457574, 0.12562774167228785, 0.7631071435754423, 0.10901530622506318, 0.8062065557409999, 0.6235459082260456, 0.16627890886027882, 0.16627890886027882, 0.8815207737718547, 0.8199421178307016, 0.04555233987948342, 0.04555233987948342, 0.8363437884035536, 0.775747190698451, 0.12929119844974185, 0.06464559922487093, 0.2592840321418878, 0.06482100803547194, 0.5185680642837756, 0.20019285079576643, 0.10009642539788322, 0.6005785523872993, 0.6878522580997901, 0.17196306452494753, 0.7134375413241242, 0.23781251377470805, 0.4921743719902349, 0.3937394975921879, 0.8235805531224716, 0.6351695711720313, 0.2540678284688125, 0.8850553722812429, 0.8481830374750128, 0.12116900535357326, 0.83527794294801, 0.09280866032755668, 0.3543440821078955, 0.3543440821078955, 0.11811469403596515, 0.44296003071961665, 0.3322200230397125, 0.19830776138343129, 0.19830776138343129, 0.19830776138343129, 0.2974616420751469, 0.49485141452571296, 0.47235816841090783, 0.38000374828987826, 0.5407745648740575, 0.07307764390189966, 0.3148320504050318, 0.4722480756075478, 0.7586048742126003, 0.13792815894774552, 0.818845545689417, 0.11166075623037505, 0.8487988848716249, 0.02652496515223828, 0.07957489545671484, 0.8095267920405211, 0.09714321504486254, 0.03238107168162085, 0.03238107168162085, 0.8213528173613723, 0.08645819130119708, 0.04322909565059854, 0.8425491568911484, 0.06481147360701142, 0.8510503166451108, 0.9570017693935597, 0.8872672306312329, 0.9784419726832138, 0.9003401964326834, 0.5371983061504433, 0.029037746278402336, 0.4210473210368339, 0.6345136004979889, 0.05768305459072626, 0.23073221836290503, 0.8825020919390325, 0.7880691537556321, 0.08756323930618136, 0.5322849465952681, 0.02801499718922464, 0.05602999437844928, 0.3641949634599203, 0.5780880940974807, 0.37701397441140044, 0.39036202134757425, 0.2195786370080105, 0.02439762633422339, 0.31716914234490406, 0.7995640656324691, 0.56126321857896, 0.28063160928948, 0.14657701787308183, 0.8061735983019501, 0.8058566364815548, 0.52839745646042, 0.317038473876252, 0.10567949129208401, 0.6894678174246774, 0.9817420508813516, 0.4782151855248307, 0.04347410777498461, 0.4347410777498461, 0.021737053887492305, 0.04356045550051783, 0.8712091100103567, 0.8201539515004164, 0.7119680703801654, 0.258897480138242, 0.29949175771875663, 0.5989835154375133, 0.8540750847792902, 0.08540750847792901, 0.8253199955935538, 0.048548235034914934, 0.09709647006982987, 0.9642443802506028, 0.019284887605012055, 0.21657542035068858, 0.7219180678356286, 0.9304639077811415, 0.6909387068550671, 0.17273467671376677, 0.8615367794090858, 0.07832152540082599, 0.5395663209922649, 0.06744579012403311, 0.33722895062016556, 0.49390798095956845, 0.08231799682659474, 0.08231799682659474, 0.24695399047978422, 0.16140535910475226, 0.5891295607323457, 0.22596750274665314, 0.016140535910475224, 0.16577647165946335, 0.587752944974461, 0.1959176483248203, 0.03014117666535697, 0.8838427564032585, 0.49736109261646944, 0.3978888740931756, 0.8043729277517662, 0.6278811925438983, 0.2511524770175593, 0.04185874616959322, 0.04185874616959322, 0.854112379692406, 0.05338202373077538, 0.05338202373077538, 0.9106028150975554, 0.8532011805085961, 0.08125725528653295, 0.8851201303070152, 0.04425600651535076, 0.2932480645621036, 0.022557543427854123, 0.4737084119849366, 0.2030178908506871, 0.24029417047502227, 0.560686397775052, 0.16019611365001485, 0.393761787440408, 0.590642681160612, 0.06874370790403637, 0.8936682027524728, 0.02733046608108043, 0.9292358467567345, 0.5897972542591792, 0.1474493135647948, 0.908554406056485, 0.047818652950341316, 0.1980569866027197, 0.7639340911819189, 0.7388062933131744, 0.03888454175332497, 0.15553816701329987, 0.03888454175332497, 0.7525457189530839, 0.12542428649218065, 0.08086409607834945, 0.8086409607834945, 0.590042874329479, 0.3754818291187594, 0.180049745724507, 0.780215564806197, 0.8537681586066155, 0.6422133734893352, 0.12844267469786702, 0.7951271110678513, 0.04417372839265841, 0.08834745678531682, 0.913742024949622, 0.7268631491872428, 0.08076257213191587, 0.08076257213191587, 0.8233306050194993, 0.8090009959626437, 0.11051914807467182, 0.036839716024890605, 0.8104737525475934, 0.8048803847265387, 0.4229179378012977, 0.057670627881995146, 0.13456479839132202, 0.3844708525466343, 0.28081707493112656, 0.046802845821854434, 0.6084369956841076, 0.8913600242560022, 0.15536706761043828, 0.6991518042469722, 0.07768353380521914, 0.7169696688362998, 0.05601325537783591, 0.07841855752897028, 0.1344318129068062, 0.071012567263301, 0.8521508071596121, 0.8417478181552493, 0.2872393065922466, 0.03590491332403083, 0.6462884398325549, 0.7269794928934925, 0.1615509984207761, 0.5942299531219193, 0.1856968603505998, 0.11141811621035987, 0.07427874414023991, 0.7224367809923995, 0.13027548509699008, 0.11843225917908189, 0.011843225917908188, 0.07940271130120516, 0.7940271130120516, 0.6735790154544091, 0.22452633848480302, 0.5958135941557027, 0.23832543766228106, 0.8113758052951867, 0.12482704696849027, 0.031206761742122568, 0.031206761742122568, 0.0833552260505186, 0.8335522605051859, 0.337135308003518, 0.6068435544063324, 0.7324287379515985, 0.2441429126505328, 0.9806641412336742, 0.9288438184481004, 0.9222370717443278, 0.7012205252380105, 0.1402441050476021, 0.056097642019040835, 0.028048821009520417, 0.056097642019040835, 0.8418745745749823, 0.06013389818392731, 0.49954836814559817, 0.3330322454303988, 0.42810298198844815, 0.08562059639768964, 0.42810298198844815, 0.3980313882098919, 0.3980313882098919, 0.38140148353517855, 0.4576817802422143, 0.9752071092008596, 0.8558816712608781, 0.8005882054383586, 0.16011764108767174, 0.07954640427895482, 0.8750104470685031, 0.02583173688447417, 0.92994252784107, 0.02583173688447417, 0.05399687983882614, 0.8639500774212182, 0.12134235449267214, 0.7887253042023689, 0.8969444909946466, 0.698544921020759, 0.20545438853551737, 0.04109087770710347, 0.16355488176885122, 0.10903658784590081, 0.16355488176885122, 0.4906646453065537, 0.62246742976917, 0.06916304775213, 0.20748914325638998, 0.25709273015274026, 0.661095591821332, 0.07345506575792578, 0.7614463305284747, 0.08785919198405476, 0.029286397328018254, 0.08785919198405476, 0.5261236278916845, 0.08768727131528076, 0.26306181394584227, 0.6422113682046448, 0.0867853200276547, 0.01735706400553094, 0.19092770406084034, 0.05207119201659282, 0.8415712479590698, 0.023818054187520844, 0.09527221675008338, 0.031757405583361126, 0.23449962750935072, 0.7461351784388431, 0.8591789679587982, 0.07502628569933753, 0.9003154283920504, 0.2733729226358564, 0.6958583485276344, 0.07397454772466132, 0.8137200249712746, 0.8470618631923276, 0.2972280191061277, 0.6316095406005214, 0.9179085427333364, 0.05736928392083353, 0.887846848819447, 0.4545133851738292, 0.4066698709450051, 0.13156966412926635, 0.14841506705578483, 0.5751083848411662, 0.25972636734762344, 0.875704364438457, 0.18278595493532224, 0.731143819741289, 0.7724430980279975, 0.12874051633799957, 0.6725438672983084, 0.24456140629029396, 0.30648540894677634, 0.22986405671008223, 0.30648540894677634, 0.07662135223669408, 0.9496035973292644, 0.026377877703590676, 0.2601254101953467, 0.6503135254883666, 0.9533851399629529, 0.01743997207249304, 0.02325329609665739, 0.621537026516201, 0.1243074053032402, 0.1243074053032402, 0.1704824997789272, 0.1704824997789272, 0.3409649995578544, 0.2273099997052363, 0.8123241190603453, 0.09025823545114947, 0.3999644362766999, 0.2666429575178, 0.1333214787589, 0.8613660284801266, 0.06152614489143761, 0.06152614489143761, 0.5268928118557812, 0.1317232029639453, 0.1317232029639453, 0.9614349344840513, 0.017804350638593543, 0.5692495942693612, 0.1552498893461894, 0.05174996311539647, 0.1552498893461894, 0.8042802079999996, 0.8852053904719305, 0.036883557936330434, 0.055325336904495655, 0.4914202833059606, 0.36856521247947044, 0.466763229962245, 0.38896935830187085, 0.07403072482398573, 0.8883686978878288, 0.29913207551929927, 0.5982641510385985, 0.6382827954913403, 0.2553131181965361, 0.8907107688551068, 0.04453553844275534, 0.04453553844275534, 0.011133884610688835, 0.3888846706773615, 0.14583175150401056, 0.024305291917335093, 0.24305291917335092, 0.17013704342134567, 0.7802557764358002, 0.9813727658929527, 0.3209739980057809, 0.6419479960115618, 0.4524330761355186, 0.4872356204536354, 0.2767563871368104, 0.6572964194499247, 0.9308043033400915, 0.3644488868857373, 0.07288977737714745, 0.2915591095085898, 0.1457795547542949, 0.8502658787373811, 0.11189821605412988, 0.783287512378909, 0.8931322734267274, 0.6448759826459766, 0.09553718261421876, 0.23884295653554688, 0.8430432076580855, 0.467784361932302, 0.233892180966151, 0.233892180966151, 0.8989388757700292, 0.5878318991697338, 0.04054013097722302, 0.3445911133063957, 0.021802029912288176, 0.9592893161406797, 0.8224530791968865, 0.09138367546632072, 0.03046122515544024, 0.7304737553753351, 0.12174562589588918, 0.8987127858075475, 0.18869730406550186, 0.7757555833803965, 0.9497932128833264, 0.03653050818782025, 0.009132627046955062, 0.16643858311461826, 0.6182004515685822, 0.19021552355956375, 0.3871416842799986, 0.4424476391771413, 0.11061190979428533, 0.937663266607325, 0.1947255571869106, 0.681539450154187, 0.7644801314559448, 0.1176123279162992, 0.8521697573748618, 0.09468552859720686, 0.12819077412963434, 0.769144644777806, 0.6319600195440018, 0.030827318026536675, 0.3391004982919034, 0.9585712377512552, 0.5626048861384229, 0.2525981121437817, 0.18179409586105502, 0.09968192940914399, 0.7600747117447229, 0.11214217058528697, 0.9028886840109053, 0.08770918644677365, 0.005159363908633745, 0.750667818494676, 0.974148285350918, 0.8746624457089515, 0.1037735105078417, 0.9122723399724816, 0.3994302835210668, 0.0998575708802667, 0.3994302835210668, 0.2585059977746496, 0.5170119955492992, 0.6212007148688417, 0.19765477291281328, 0.05647279226080379, 0.09882738645640664, 0.09786417320101148, 0.7829133856080919, 0.22998600911011732, 0.7228131714889401, 0.8253038421870512, 0.45158782663373515, 0.30105855108915675, 0.8597929269243987, 0.05084796879660422, 0.004622542617873111, 0.013867627853619332, 0.06009305403235044, 0.004622542617873111, 0.004622542617873111, 0.5882805351192156, 0.23019673113360611, 0.012788707285200339, 0.07673224371120203, 0.051154829140801356, 0.012788707285200339, 0.504904323873963, 0.22950196539725592, 0.18360157231780475, 0.6377864672261182, 0.12755729344522365, 0.1560943531771981, 0.7804717658859907, 0.03885849877327191, 0.03885849877327191, 0.854886973011982, 0.3560394823304769, 0.2373596548869846, 0.2373596548869846, 0.8706911304442498, 0.04353455652221249, 0.8703884553573985, 0.266399360927404, 0.7103982958064108, 0.22012279899908102, 0.4842701577979783, 0.2788222120655026, 0.457758706319696, 0.0915517412639392, 0.3662069650557568, 0.940303467127313, 0.1464455467549356, 0.8298580982779684, 0.4378816361512096, 0.5174964790877932, 0.02653828097886119, 0.9196659215822796, 0.655753285333258, 0.09367904076189401, 0.23419760190473501, 0.6960212866604589, 0.09943161238006556, 0.2841425742315382, 0.69006053741945, 0.3206965395219767, 0.6413930790439534, 0.552656820169335, 0.36843788011289, 0.2882051515158414, 0.5764103030316828, 0.07205128787896035, 0.03602564393948018, 0.282117939377777, 0.564235878755554, 0.06409805324920721, 0.25639221299682885, 0.6409805324920721, 0.7881825056217027, 0.1390910304038299, 0.7811409173577839, 0.08389733439804747, 0.8389733439804747, 0.9713756420464731, 0.28624502174920596, 0.3434940260990471, 0.3549438269690154, 0.6589022170709146, 0.10403719216909177, 0.1387162562254557, 0.06935812811272785, 0.2702708424159718, 0.1351354212079859, 0.2702708424159718, 0.1351354212079859, 0.05193210984811255, 0.8828458674179133, 0.7976376211774566, 0.1752385682889867, 0.012085418502688738, 0.7180563279188087, 0.014959506831641848, 0.007479753415820924, 0.05235827391074647, 0.20195334222716496, 0.6942570084285646, 0.2082771025285694, 0.6447705013594653, 0.04959773087380503, 0.24798865436902512, 0.5623205223707033, 0.28116026118535165, 0.09372008706178389, 0.7047884732661605, 0.1761971183165401, 0.6803724897437774, 0.15119388660972832, 0.07559694330486416, 0.6054228924890926, 0.05765932309419929, 0.028829661547099646, 0.25946695392389685, 0.5981317417672654, 0.09968862362787756, 0.19937724725575512, 0.757506678346503, 0.17823686549329482, 0.20949220188535525, 0.6808496561274046, 0.0779498555509239, 0.779498555509239, 0.8535728785483581, 0.08873021337955006, 0.7985719204159505, 0.0856703916975091, 0.8567039169750911, 0.6831982329641595, 0.09413178168535123, 0.047065890842675616, 0.047065890842675616, 0.14119767252802684, 0.5647906901121074, 0.5299671192824812, 0.3765555847533419, 0.08367901883407598, 0.18194562380855817, 0.6757980312889303, 0.10396892789060468, 0.145167061038742, 0.741964978642459, 0.09677804069249465, 0.713162909444967, 0.0475441939629978, 0.1901767758519912, 0.6038304343660827, 0.05489367585146206, 0.21957470340584825, 0.31551114859270973, 0.21034076572847316, 0.31551114859270973, 0.34141630416238494, 0.6340588505872863, 0.2102133413789393, 0.5733091128516526, 0.07644121504688701, 0.11466182257033053, 0.220734320105066, 0.7677715481915339, 0.32249103919956323, 0.4031137989994541, 0.24186827939967245, 0.05236207917995987, 0.2094483167198395, 0.6807070293394784, 0.5122692569177418, 0.2561346284588709, 0.8385330962320049, 0.11979044231885784, 0.5299377235247681, 0.07570538907496686, 0.30282155629986746, 0.7269985743826746, 0.19827233846800213, 0.9221318386689397, 0.2955415574045534, 0.5910831148091068, 0.5578667918157152, 0.34866674488482197, 0.8858765902028799, 0.7624405884677825, 0.7893144790677918, 0.11275921129539883, 0.5062973571747789, 0.32316852585624184, 0.15081197873291285, 0.13014514349298015, 0.13014514349298015, 0.7027837748620928, 0.06114024528060317, 0.7948231886478412, 0.9612469476337854, 0.9580137729129581, 0.1339633205625517, 0.06698166028127585, 0.7367982630940344, 0.865924733647066, 0.29443726375817086, 0.654305030573713, 0.250119017412414, 0.125059508706207, 0.500238034824828, 0.22038817657207654, 0.7556166053899768, 0.8403727462144267, 0.6111294459461936, 0.24445177837847742, 0.9579336178925969, 0.6661837727039976, 0.24224864461963552, 0.8808643432511685, 0.06312501084562751, 0.883750151838785, 0.7741189202352444, 0.15973882481044727, 0.049150407633983775, 0.8298538399413258, 0.4583013167556478, 0.13094323335875652, 0.32735808339689126, 0.09672567200390247, 0.7738053760312198, 0.792330705875499, 0.8522799742830671, 0.8789263743841152, 0.41232603314563115, 0.13744201104854373, 0.13744201104854373, 0.5921474841624386, 0.2960737420812193, 0.13141535427465068, 0.788492125647904, 0.6909155783257552, 0.19740445095021578, 0.07402666910633092, 0.7662961999737938, 0.12771603332896564, 0.7506391289501435, 0.12510652149169058, 0.15279401340988635, 0.07639700670494318, 0.6875730603444886, 0.8589153466332118, 0.9471270417651306, 0.7774825623202216, 0.14577798043504156, 0.8088189136520911, 0.44474326012035675, 0.10673838242888561, 0.01778973040481427, 0.3913740689059139, 0.7953705294325176, 0.07953705294325175, 0.07953705294325175, 0.36057713927271073, 0.12019237975757024, 0.42067332915149586, 0.18667145265630547, 0.7466858106252219, 0.5817881411624257, 0.3102870086199604, 0.0775717521549901, 0.8038650170518854, 0.14615727582761553, 0.4529908080334085, 0.4529908080334085, 0.07223640257588797, 0.14447280515177593, 0.7657058673044125, 0.05104794785805645, 0.1020958957161129, 0.8167671657289032, 0.47861732559059555, 0.319078217060397, 0.7355539198706486, 0.12259231997844142, 0.9704207941015772, 0.30432134638264396, 0.06086426927652879, 0.030432134638264396, 0.030432134638264396, 0.5173462888504947, 0.19397134852672365, 0.7273925569752137, 0.5734725958207263, 0.12073107280436343, 0.09054830460327257, 0.1509138410054543, 0.7284268531088917, 0.2185280559326675, 0.844442035890793, 0.17754306171292925, 0.710172246851717, 0.3660269299242015, 0.6100448832070025, 0.9257726853046696, 0.8247787576564376, 0.2163764600330549, 0.05409411500826373, 0.7032234951074284, 0.8585695183069886, 0.9394270874984677, 0.035450078773527086, 0.017725039386763543, 0.5281233945851784, 0.048011217689561674, 0.3840897415164934, 0.308884025626757, 0.044126289375251, 0.617768051253514, 0.081822520127549, 0.81822520127549, 0.8265983224319805, 0.5017595247692557, 0.04561450225175052, 0.06081933633566736, 0.03040966816783368, 0.31930151576225363, 0.4264131948399634, 0.559667318227452, 0.11450426516988382, 0.6870255910193029, 0.1431303314623548, 0.028626066292470956, 0.7227900386444429, 0.19423814991995367, 0.041088839406144044, 0.02427976873999421, 0.014941396147688744, 0.9782075752409207, 0.8487799811648528, 0.07716181646953206, 0.6870089691864636, 0.022161579651176242, 0.11080789825588122, 0.044323159302352484, 0.11080789825588122, 0.10043258605955349, 0.86372024011216, 0.15381114952751132, 0.7690557476375567, 0.1164929014874324, 0.2329858029748648, 0.4659716059497296, 0.9492133223532901, 0.03390047579833179, 0.48957759010371044, 0.305985993814819, 0.12239439752592761, 0.8490836982095662, 0.02326256707423469, 0.11631283537117346, 0.05198063345187855, 0.6497579181484818, 0.18193221708157492, 0.07797095017781781, 0.39650563028825775, 0.356855067259432, 0.21807809665854178, 0.019825281514412887, 0.41270727438922217, 0.41270727438922217, 0.13756909146307406, 0.04585636382102468, 0.4671328858779478, 0.07575127879101856, 0.30300511516407425, 0.12625213131836427, 0.39463897464792186, 0.5740203267606137, 0.8160452841968765, 0.7972215328635667, 0.8410709229271369, 0.1066196809808027, 0.26654920245200675, 0.6130631656396155, 0.13333369653762778, 0.13333369653762778, 0.6933352219956644, 0.21755501976888425, 0.10877750988444213, 0.5438875494222106, 0.0692749456720705, 0.831299348064846, 0.46830055070868193, 0.26760031469067536, 0.20070023601800654, 0.578539172796988, 0.027549484418904188, 0.2617201019795898, 0.06887371104726048, 0.055098968837808376, 0.39128890817622414, 0.39128890817622414, 0.1304296360587414, 0.8782251025890473, 0.9444581552675115, 0.10659779245879034, 0.05329889622939517, 0.7994834434409276, 0.24736991323274518, 0.49473982646549036, 0.12368495661637259, 0.12368495661637259, 0.32310415228200484, 0.25848332182560385, 0.34464442910080517, 0.043080553637600646, 0.9733800583582092, 0.9283203193800553, 0.048858964177897646, 0.33643577767701577, 0.16821788883850788, 0.4205447220962697, 0.1196749626331685, 0.07978330842211233, 0.7579414300100672, 0.8776622126119915, 0.04619274803221008, 0.48453480660752224, 0.07178293431222552, 0.4127518722952967, 0.8822655395015763, 0.6365775781461064, 0.1591443945365266, 0.8963177802655924, 0.9641944697262065, 0.19856183661668045, 0.3309363943611341, 0.3971236732333609, 0.8112762828364068, 0.09000544898065274, 0.8100490408258747, 0.9599326693175521, 0.6410810129465778, 0.1068468354910963, 0.1068468354910963, 0.5129217137317817, 0.11398260305150705, 0.34194780915452117, 0.6995720616424049, 0.11659534360706748, 0.11659534360706748, 0.396571429343371, 0.4127580182961616, 0.048559766858371954, 0.1294927116223252, 0.668428545645813, 0.16710713641145325, 0.5286992178008851, 0.3209959536648231, 0.056646344764380546, 0.07552845968584072, 0.7825685974474508, 0.08695206638305009, 0.7281995149807732, 0.22406138922485327, 0.34235161464074254, 0.6276446268413614, 0.8715248468891589, 0.05447030293057243, 0.9718902685960851, 0.11138590214410381, 0.556929510720519, 0.22277180428820761, 0.6976402850267652, 0.27905611401070607, 0.9669091569693166, 0.014431479954765918, 0.26771540701019786, 0.5354308140203957, 0.49357189151507114, 0.3290479276767141, 0.35380105473340273, 0.08845026368335068, 0.4422513184167534, 0.15600962460172868, 0.2730168430530252, 0.5070312799556183, 0.9277972791316553, 0.04130552347213214, 0.9087215163869071, 0.06296171886831953, 0.8814640641564734, 0.4537045585370944, 0.15123485284569815, 0.15123485284569815, 0.1831689518996563, 0.7326758075986252, 0.7986326237723856, 0.9288022125474827, 0.8838037966178435, 0.029460126553928115, 0.4537365621182275, 0.30249104141215166, 0.15124552070607583, 0.07147031044369954, 0.07147031044369954, 0.21441093133109865, 0.07147031044369954, 0.5002921731058968, 0.3054150037290351, 0.010531551852725347, 0.5371091444889927, 0.010531551852725347, 0.11584707037997882, 0.1824362255655652, 0.6689328270737391, 0.12162415037704348, 0.9554946264630517, 0.28579832102480723, 0.5715966420496145, 0.8773228190077567, 0.882383406470777, 0.8239640387264868, 0.07973845536062775, 0.026579485120209252, 0.026579485120209252, 0.026579485120209252, 0.8090263579725955, 0.21336107243092067, 0.6934234854004921, 0.1079928201562017, 0.8099461511715127, 0.05399641007810085, 0.12019314978663394, 0.7211588987198037, 0.24050566540498577, 0.6012641635124645, 0.6277244563287346, 0.1141317193324972, 0.1711975789987458, 0.8401084875428985, 0.12601627313143476, 0.83504412315947, 0.6188095405660237, 0.24752381622640948, 0.1446163832158079, 0.7953901076869433, 0.22852420983929944, 0.6855726295178983, 0.7983024822446257, 0.06842592704953934, 0.09883745018266794, 0.02280864234984645, 0.8639387496141719, 0.03365995128366904, 0.022439967522446026, 0.022439967522446026, 0.03365995128366904, 0.6607872069369706, 0.1321574413873941, 0.32364507581125307, 0.16182253790562653, 0.4045563447640663, 0.11940180705426318, 0.7164108423255791, 0.03592990782905111, 0.8982476957262778, 0.7978277191173055, 0.5315376407867013, 0.22780184605144338, 0.07593394868381446, 0.8856387898746917, 0.6642411081593825, 0.16606027703984563, 0.11635809036779947, 0.7563275873906965, 0.04693025583345507, 0.02085789148153559, 0.9229616980579498, 0.13269789021292563, 0.7519547112065785, 0.04423263007097521, 0.16731794397226019, 0.16731794397226019, 0.5019538319167806, 0.8927411511942394, 0.07439509593285328, 0.11707829269897231, 0.11707829269897231, 0.5853914634948615, 0.7936710725339886, 0.09620255424654407, 0.048101277123272036, 0.024050638561636018, 0.6903200647524925, 0.276128025900997, 0.4312747352921925, 0.5390934191152407, 0.4998632871055013, 0.3980392841766029, 0.09256727538990765, 0.009256727538990766, 0.5811445491815345, 0.32285808287863027, 0.6297141542001407, 0.059406995679258556, 0.2970349783962928, 0.6416134705515554, 0.12832269411031108, 0.5902818766593184, 0.3541691259955911, 0.34868190285994305, 0.5230228542899146, 0.15791798213517658, 0.7895899106758828, 0.6530242416930215, 0.19590727250790646, 0.06530242416930215, 0.4978612861547101, 0.045260116923155465, 0.3620809353852437, 0.11119682152779085, 0.08339761614584314, 0.4725864914931111, 0.16679523229168627, 0.11119682152779085, 0.630610654597665, 0.09701702378425614, 0.09701702378425614, 0.09701702378425614, 0.8581128209345777, 0.07801025644859798, 0.03834647643315301, 0.8819689579625193, 0.24087986803761158, 0.4014664467293526, 0.3412464797199497, 0.09018219939090266, 0.18036439878180532, 0.7214575951272213, 0.17313583723314957, 0.23084778297753278, 0.5194075116994488, 0.773018943849756, 0.8909640147966769, 0.05399781907858647, 0.026998909539293237, 0.013499454769646618, 0.8335158450224924, 0.09715757203017368, 0.19431514406034736, 0.4857878601508684, 0.03285960797562848, 0.9200690233175974, 0.6540933339132117, 0.16352333347830292, 0.8820672203048399, 0.03392566231941692, 0.06785132463883384, 0.7212108706208061, 0.12020181177013435, 0.04370974973459431, 0.04370974973459431, 0.03278231230094573, 0.010927437433648577, 0.7447437479438133, 0.6561825422593459, 0.2684383127424597, 0.029826479193606634, 0.9224204569293122, 0.1623238309090127, 0.03607196242422504, 0.4689355115149256, 0.18035981212112523, 0.12625186848478764, 0.5604122676678155, 0.33624736060068927, 0.8389852055245971, 0.07402810636981738, 0.012338017728302899, 0.049352070913211595, 0.4752166850456376, 0.031681112336375834, 0.3326516795319463, 0.0792027808409396, 0.0792027808409396, 0.9585336707480029, 0.03092044099187106, 0.8368038774354517, 0.05977170553110369, 0.08965755829665555, 0.8731891761675058, 0.755379363754359, 0.6534830277534276, 0.13069660555068552, 0.3718892801370794, 0.478143360176245, 0.05312704001958277, 0.7603322358742372, 0.1629283362587651, 0.4228294670744309, 0.5285368338430386, 0.5943217464579776, 0.371451091536236, 0.020444629359369918, 0.9404529505310162, 0.8017204283130885, 0.10262021482407534, 0.08337892454456121, 0.012827526853009417, 0.8375318686674819, 0.10856894593837728, 0.04652954825930455, 0.7725177630028478, 0.17167061400063285, 0.2773463879714886, 0.6471415719334733, 0.5686261364601913, 0.34117568187611474, 0.7574872992959297, 0.022724618978877894, 0.022724618978877894, 0.15907233285214525, 0.015149745985918594, 0.015149745985918594, 0.7980293174858432], \"Term\": [\"000\", \"000\", \"17\", \"17\", \"17\", \"17\", \"17\", \"1950s\", \"1980\", \"1997\", \"19th\", \"212\", \"212\", \"48\", \"48\", \"48\", \"48\", \"49\", \"49\", \"49\", \"49\", \"52\", \"52\", \"52\", \"556\", \"698\", \"74\", \"74\", \"800\", \"800\", \"800\", \"844\", \"92\", \"92\", \"_____\", \"_____\", \"_____\", \"abuse\", \"abuse\", \"accounting\", \"acquire\", \"acre\", \"acre\", \"acres\", \"acres\", \"actress\", \"actress\", \"actress\", \"admitted\", \"admitted\", \"afghan\", \"afghanistan\", \"afghanistan\", \"aggressively\", \"aide\", \"aide\", \"aides\", \"aides\", \"aides\", \"airbnb\", \"airbnb\", \"airstrikes\", \"albany\", \"albany\", \"album\", \"album\", \"ali\", \"ali\", \"ambassador\", \"ambassador\", \"american\", \"american\", \"american\", \"american\", \"amusements\", \"am\\u00e9rica\", \"antidoping\", \"ap\", \"ap\", \"ap\", \"apple\", \"arbitration\", \"arbitration\", \"arbitration\", \"arrest\", \"arrest\", \"arrested\", \"arrested\", \"art\", \"article\", \"article\", \"article\", \"artist\", \"artistic\", \"artistic\", \"artists\", \"arts\", \"arts\", \"arts\", \"arts\", \"assad\", \"assist\", \"assist\", \"assist\", \"assist\", \"assists\", \"assists\", \"associate\", \"associate\", \"atl\\u00e9tico\", \"attached\", \"attached\", \"attack\", \"attack\", \"attack\", \"attack\", \"attacks\", \"attacks\", \"attacks\", \"aug\", \"aug\", \"aug\", \"authorities\", \"authorities\", \"awareness\", \"baby\", \"ball\", \"ball\", \"ball\", \"ballet\", \"ballet\", \"banking\", \"barrel\", \"barrel\", \"base\", \"base\", \"base\", \"baseball\", \"baseball\", \"baseball\", \"baseman\", \"basement\", \"basement\", \"bath\", \"bath\", \"batting\", \"bay\", \"bay\", \"bay\", \"bay\", \"bay\", \"bedroom\", \"bedroom\", \"behavior\", \"behavior\", \"behavior\", \"beijing\", \"beijing\", \"beijing\", \"beltran\", \"benchmark\", \"benchmark\", \"bernie\", \"bernie\", \"beyonc\\u00e9\", \"beyonc\\u00e9\", \"bid\", \"bid\", \"bid\", \"billion\", \"birthday\", \"black\", \"black\", \"blacks\", \"blues\", \"blues\", \"blues\", \"boards\", \"boko\", \"boko\", \"bond\", \"bond\", \"book\", \"book\", \"braves\", \"bride\", \"bride\", \"briefing\", \"briefing\", \"britain\", \"britain\", \"broadway\", \"brooklyn\", \"brooklyn\", \"brooklyn\", \"brooklyn\", \"buffalo\", \"buffalo\", \"building\", \"building\", \"building\", \"bullpen\", \"bulls\", \"bulls\", \"business\", \"calif\", \"calif\", \"calif\", \"calif\", \"calm\", \"calm\", \"calm\", \"campaign\", \"campaign\", \"campaign\", \"candidacy\", \"candidate\", \"candidate\", \"candidate\", \"candidates\", \"candidates\", \"candidates\", \"capitals\", \"capitals\", \"capitals\", \"car\", \"car\", \"car\", \"cards\", \"cards\", \"cars\", \"cars\", \"case\", \"case\", \"case\", \"casino\", \"casino\", \"catcher\", \"catholic\", \"catholic\", \"cavaliers\", \"ceiling\", \"ceiling\", \"central\", \"central\", \"central\", \"cents\", \"cents\", \"ceremony\", \"ceremony\", \"cespedes\", \"championship\", \"championship\", \"championship\", \"championships\", \"championships\", \"charges\", \"charges\", \"cheating\", \"cheating\", \"chicago\", \"chicago\", \"chicago\", \"chicago\", \"chicago\", \"childhood\", \"childhood\", \"china\", \"china\", \"china\", \"china\", \"chinese\", \"chinese\", \"chinese\", \"chrysler\", \"chrysler\", \"church\", \"church\", \"church\", \"city\", \"city\", \"city\", \"city\", \"civilian\", \"civilian\", \"civilians\", \"classical\", \"classical\", \"cleveland\", \"cleveland\", \"cleveland\", \"cleveland\", \"climbed\", \"climbed\", \"clinic\", \"clinical\", \"clinical\", \"clinton\", \"clinton\", \"clinton\", \"clouds\", \"clubs\", \"clubs\", \"coach\", \"coach\", \"coach\", \"coaches\", \"coaches\", \"collection\", \"college\", \"college\", \"college\", \"collins\", \"collins\", \"collins\", \"columbia\", \"columbia\", \"column\", \"column\", \"com\", \"com\", \"comfortable\", \"comfortable\", \"commanders\", \"comments\", \"comments\", \"comments\", \"comments\", \"committees\", \"committees\", \"common\", \"common\", \"common\", \"companies\", \"company\", \"company\", \"compensation\", \"compensation\", \"compensation\", \"complaints\", \"complaints\", \"complaints\", \"composer\", \"composer\", \"concert\", \"concert\", \"concerts\", \"concerts\", \"congress\", \"congress\", \"congress\", \"conn\", \"conn\", \"controls\", \"controls\", \"convention\", \"convention\", \"convention\", \"convicted\", \"convicted\", \"copa\", \"copies\", \"copies\", \"correction\", \"correction\", \"correction\", \"costly\", \"counted\", \"counted\", \"counted\", \"country\", \"country\", \"country\", \"country\", \"couple\", \"couple\", \"court\", \"court\", \"court\", \"couture\", \"couture\", \"coverage\", \"coverage\", \"coverage\", \"credits\", \"criminal\", \"criminal\", \"crosby\", \"crosby\", \"crude\", \"crude\", \"crude\", \"cruz\", \"cruz\", \"cubs\", \"cum\", \"cum\", \"cuomo\", \"cuomo\", \"cuomo\", \"cup\", \"cup\", \"curry\", \"curry\", \"dance\", \"dance\", \"dancer\", \"dancer\", \"dancers\", \"dancers\", \"dancing\", \"dancing\", \"daughter\", \"daughter\", \"day\", \"day\", \"day\", \"day\", \"dealers\", \"dealers\", \"deck\", \"deck\", \"defeat\", \"defeat\", \"defeat\", \"defeat\", \"defeat\", \"defendant\", \"defense\", \"defense\", \"defense\", \"defenseman\", \"defenseman\", \"degree\", \"degree\", \"degree\", \"degrom\", \"delegate\", \"delegate\", \"delegates\", \"delegates\", \"delivering\", \"delivery\", \"delivery\", \"delivery\", \"democracy\", \"democracy\", \"democracy\", \"democratic\", \"democratic\", \"democratic\", \"democrats\", \"democrats\", \"democrats\", \"derby\", \"derby\", \"design\", \"detained\", \"detention\", \"detroit\", \"detroit\", \"detroit\", \"deutsche\", \"diesel\", \"diesel\", \"dinner\", \"dinner\", \"directors\", \"disappointing\", \"disappointing\", \"disappointing\", \"disclose\", \"disclosed\", \"disclosed\", \"discuss\", \"discuss\", \"discuss\", \"discuss\", \"disputes\", \"disputes\", \"djokovic\", \"dollar\", \"dollar\", \"don\", \"don\", \"don\", \"don\", \"donald\", \"donald\", \"donald\", \"dr\", \"dr\", \"drivers\", \"drivers\", \"drug\", \"drug\", \"drugs\", \"durant\", \"duterte\", \"earnings\", \"earnings\", \"editing\", \"editing\", \"editions\", \"editions\", \"election\", \"election\", \"election\", \"elections\", \"elections\", \"elections\", \"electorate\", \"electorate\", \"elevator\", \"elevator\", \"emissions\", \"emissions\", \"energy\", \"energy\", \"energy\", \"engage\", \"engage\", \"enterprise\", \"episode\", \"episode\", \"episode\", \"equivalent\", \"era\", \"era\", \"era\", \"erdogan\", \"eric\", \"eric\", \"eric\", \"error\", \"error\", \"error\", \"errors\", \"errors\", \"errors\", \"escape\", \"escape\", \"espn\", \"espn\", \"essay\", \"essay\", \"essentially\", \"establish\", \"establish\", \"estimate\", \"estimated\", \"estimated\", \"estimates\", \"estimates\", \"ethics\", \"ethics\", \"ethics\", \"ethnic\", \"ethnic\", \"euro\", \"euro\", \"euro\", \"euro\", \"europe\", \"europe\", \"european\", \"european\", \"european\", \"europeans\", \"europeans\", \"euros\", \"euros\", \"evening\", \"evening\", \"event\", \"event\", \"event\", \"events\", \"events\", \"events\", \"events\", \"eventually\", \"eventually\", \"eventually\", \"everybody\", \"everybody\", \"examples\", \"facebook\", \"falluja\", \"fashion\", \"fastball\", \"father\", \"father\", \"father\", \"featured\", \"featured\", \"featured\", \"federer\", \"feed\", \"feed\", \"fell\", \"fell\", \"fell\", \"fell\", \"festival\", \"festival\", \"field\", \"field\", \"field\", \"field\", \"fielder\", \"fighter\", \"fighter\", \"fighters\", \"fighters\", \"fights\", \"file\", \"file\", \"file\", \"filings\", \"film\", \"final\", \"final\", \"final\", \"final\", \"finals\", \"finals\", \"financially\", \"firm\", \"firm\", \"fled\", \"fled\", \"floors\", \"floors\", \"follow\", \"follow\", \"follow\", \"food\", \"food\", \"forces\", \"forces\", \"forest\", \"frazier\", \"frazier\", \"friendly\", \"friendly\", \"gained\", \"gained\", \"gained\", \"gains\", \"gains\", \"gains\", \"gains\", \"game\", \"game\", \"game\", \"game\", \"games\", \"games\", \"games\", \"games\", \"gannett\", \"garage\", \"garage\", \"genetic\", \"german\", \"german\", \"german\", \"german\", \"getting\", \"getting\", \"getting\", \"girardi\", \"girl\", \"girl\", \"girls\", \"girls\", \"goal\", \"goal\", \"goal\", \"goal\", \"goals\", \"goals\", \"goals\", \"government\", \"government\", \"graduated\", \"graduated\", \"groom\", \"groom\", \"guaranteed\", \"guaranteed\", \"guests\", \"guests\", \"gun\", \"gun\", \"half\", \"half\", \"half\", \"half\", \"hannah\", \"hannah\", \"haram\", \"haram\", \"harvard\", \"harvard\", \"harvey\", \"harvey\", \"hastert\", \"hat\", \"hat\", \"hear\", \"hear\", \"hear\", \"hedge\", \"heights\", \"heights\", \"heights\", \"herzer\", \"highlights\", \"hillary\", \"hillary\", \"hillary\", \"hiroshima\", \"hit\", \"hit\", \"hit\", \"hit\", \"hits\", \"hits\", \"hits\", \"hitter\", \"hockey\", \"hockey\", \"hockey\", \"home\", \"home\", \"home\", \"home\", \"homer\", \"homer\", \"hometown\", \"hong\", \"hong\", \"hong\", \"hospitals\", \"hospitals\", \"host\", \"host\", \"host\", \"host\", \"house\", \"house\", \"house\", \"house\", \"howe\", \"howe\", \"ice\", \"ice\", \"illinois\", \"illinois\", \"included\", \"included\", \"included\", \"included\", \"incorrectly\", \"incorrectly\", \"index\", \"index\", \"industrial\", \"industrial\", \"industry\", \"inning\", \"innings\", \"inside\", \"inside\", \"inside\", \"inside\", \"inside\", \"instagram\", \"instagram\", \"integration\", \"integration\", \"integrity\", \"integrity\", \"integrity\", \"investigated\", \"investigated\", \"investigations\", \"investigations\", \"investment\", \"investor\", \"investors\", \"investors\", \"iran\", \"iran\", \"islamic\", \"islamic\", \"islamic\", \"islanders\", \"islanders\", \"israeli\", \"israeli\", \"jean\", \"jones\", \"jones\", \"jones\", \"jose\", \"jose\", \"jose\", \"jose\", \"joseph\", \"joseph\", \"joseph\", \"judge\", \"judge\", \"judge\", \"july\", \"july\", \"july\", \"july\", \"jumped\", \"jumped\", \"jumped\", \"june\", \"june\", \"june\", \"june\", \"june\", \"just\", \"just\", \"just\", \"just\", \"justice\", \"justice\", \"kasich\", \"kerr\", \"kerr\", \"killed\", \"killed\", \"killings\", \"killings\", \"knicks\", \"kong\", \"kong\", \"lake\", \"lake\", \"laude\", \"law\", \"law\", \"law\", \"league\", \"league\", \"league\", \"leicester\", \"lemonade\", \"lemonade\", \"lenders\", \"lenders\", \"letters\", \"letters\", \"liberal\", \"liberal\", \"liberal\", \"liberal\", \"life\", \"life\", \"lightning\", \"lightning\", \"like\", \"like\", \"like\", \"lin\", \"lin\", \"lin\", \"lineup\", \"lineup\", \"lineup\", \"lineup\", \"listen\", \"listen\", \"lobbying\", \"lobbying\", \"lobbying\", \"long\", \"long\", \"long\", \"longest\", \"longest\", \"longest\", \"look\", \"look\", \"louis\", \"louis\", \"louis\", \"louis\", \"louisville\", \"love\", \"love\", \"love\", \"ma\", \"ma\", \"mail\", \"mail\", \"mailed\", \"mailed\", \"mainland\", \"mainland\", \"maintained\", \"maintained\", \"make\", \"make\", \"make\", \"make\", \"manager\", \"manager\", \"manager\", \"manager\", \"manager\", \"mansour\", \"market\", \"married\", \"married\", \"master\", \"master\", \"match\", \"match\", \"mateen\", \"matt\", \"matt\", \"matt\", \"matt\", \"matz\", \"mcconnell\", \"mcconnell\", \"mcmurray\", \"medical\", \"medical\", \"medical\", \"merkel\", \"messages\", \"messages\", \"messages\", \"messi\", \"met\", \"met\", \"met\", \"mets\", \"mets\", \"middle\", \"middle\", \"middle\", \"midtown\", \"midtown\", \"militants\", \"military\", \"military\", \"million\", \"million\", \"million\", \"minister\", \"minister\", \"minister\", \"missed\", \"missed\", \"missed\", \"misstated\", \"mitsubishi\", \"mitsubishi\", \"models\", \"models\", \"modern\", \"modern\", \"mosque\", \"mosque\", \"mother\", \"mother\", \"mother\", \"movie\", \"mr\", \"mr\", \"mr\", \"mrs\", \"mrs\", \"mrs\", \"ms\", \"ms\", \"ms\", \"mullah\", \"museum\", \"music\", \"music\", \"nadal\", \"nashville\", \"nashville\", \"nashville\", \"nate\", \"nate\", \"national\", \"national\", \"national\", \"national\", \"nationals\", \"nationals\", \"nations\", \"nations\", \"nato\", \"negotiate\", \"negotiate\", \"new\", \"new\", \"new\", \"new\", \"new\", \"new\", \"new\", \"news\", \"news\", \"news\", \"news\", \"news\", \"news\", \"newspaper\", \"newspaper\", \"newspaper\", \"newspapers\", \"newspapers\", \"nomination\", \"nomination\", \"nominee\", \"nominee\", \"nominee\", \"nov\", \"nov\", \"nov\", \"novel\", \"novel\", \"nyquist\", \"nytimes\", \"nytimes\", \"obama\", \"obama\", \"obama\", \"oct\", \"oct\", \"oct\", \"offer\", \"officers\", \"officers\", \"officials\", \"officials\", \"officials\", \"officiated\", \"oil\", \"oil\", \"oil\", \"op\", \"op\", \"opera\", \"opera\", \"orchestra\", \"orchestra\", \"org\", \"org\", \"orlando\", \"orlando\", \"orlando\", \"orlando\", \"ounce\", \"ounce\", \"overtime\", \"overtime\", \"overtime\", \"owners\", \"owners\", \"pac\", \"palestinian\", \"palestinian\", \"park\", \"party\", \"party\", \"party\", \"paul\", \"paul\", \"paul\", \"paul\", \"penalties\", \"penalties\", \"penalties\", \"penalties\", \"penguins\", \"penguins\", \"people\", \"people\", \"people\", \"percent\", \"percent\", \"percent\", \"percent\", \"percent\", \"perform\", \"perform\", \"performances\", \"performances\", \"performances\", \"performed\", \"performed\", \"performed\", \"performers\", \"performers\", \"performing\", \"performing\", \"performing\", \"period\", \"period\", \"period\", \"period\", \"phillips\", \"phillips\", \"phillips\", \"picture\", \"picture\", \"pitch\", \"pitch\", \"pitcher\", \"pitcher\", \"pitchers\", \"pitches\", \"pitches\", \"pitching\", \"pitching\", \"pitsiladis\", \"pittsburgh\", \"pittsburgh\", \"pittsburgh\", \"pittsburgh\", \"pittsburgh\", \"play\", \"play\", \"play\", \"player\", \"player\", \"player\", \"players\", \"players\", \"players\", \"playoff\", \"playoff\", \"playoff\", \"playoffs\", \"playoffs\", \"playoffs\", \"pledged\", \"pledged\", \"pledged\", \"podcast\", \"podcast\", \"points\", \"points\", \"points\", \"points\", \"police\", \"police\", \"political\", \"political\", \"political\", \"polls\", \"polls\", \"polls\", \"pollution\", \"pollution\", \"pool\", \"pool\", \"postseason\", \"postseason\", \"postseason\", \"pound\", \"pound\", \"practices\", \"premier\", \"premier\", \"premiere\", \"premiere\", \"premium\", \"prescription\", \"presents\", \"presents\", \"president\", \"president\", \"president\", \"presidential\", \"presidential\", \"presidential\", \"presumptive\", \"presumptive\", \"price\", \"prices\", \"priest\", \"priest\", \"priest\", \"primaries\", \"primary\", \"primary\", \"priorities\", \"priorities\", \"priorities\", \"prison\", \"prison\", \"producing\", \"progressive\", \"progressive\", \"project\", \"properties\", \"properties\", \"prosecution\", \"prosecutors\", \"prosecutors\", \"public\", \"public\", \"public\", \"publisher\", \"publishing\", \"publishing\", \"publishing\", \"puck\", \"puck\", \"pulse\", \"putin\", \"qaeda\", \"qualified\", \"qualified\", \"qualified\", \"qualify\", \"qualify\", \"qualifying\", \"qualifying\", \"quarter\", \"quarter\", \"quarter\", \"quarters\", \"quarters\", \"quit\", \"quit\", \"rabbi\", \"rabbi\", \"rabbi\", \"raptors\", \"rates\", \"reading\", \"reading\", \"rebounds\", \"received\", \"received\", \"received\", \"received\", \"recorded\", \"recorded\", \"recorded\", \"referred\", \"referred\", \"referred\", \"refugee\", \"refugee\", \"region\", \"region\", \"region\", \"regulators\", \"regulators\", \"rejected\", \"rejected\", \"republican\", \"republican\", \"republican\", \"republicans\", \"republicans\", \"republicans\", \"requirement\", \"requirement\", \"requirements\", \"requirements\", \"restaurant\", \"retired\", \"retired\", \"retired\", \"retired\", \"retired\", \"rev\", \"rev\", \"review\", \"review\", \"review\", \"review\", \"reviews\", \"reviews\", \"reyes\", \"rhodes\", \"rhodes\", \"rights\", \"rights\", \"ring\", \"rodchenkov\", \"rodriguez\", \"rodriguez\", \"rodriguez\", \"romney\", \"room\", \"room\", \"room\", \"rose\", \"rose\", \"rose\", \"round\", \"round\", \"round\", \"rousseff\", \"rousseff\", \"rubio\", \"run\", \"run\", \"run\", \"run\", \"run\", \"runs\", \"runs\", \"russia\", \"russia\", \"russia\", \"russia\", \"said\", \"said\", \"said\", \"said\", \"said\", \"sales\", \"sam\", \"sam\", \"san\", \"san\", \"san\", \"san\", \"san\", \"sanders\", \"sanders\", \"saudi\", \"saudi\", \"saves\", \"saves\", \"saves\", \"says\", \"says\", \"scandal\", \"scandal\", \"scandal\", \"school\", \"school\", \"school\", \"scored\", \"scored\", \"scored\", \"scored\", \"season\", \"season\", \"season\", \"season\", \"seasons\", \"seasons\", \"seasons\", \"seasons\", \"second\", \"second\", \"second\", \"second\", \"security\", \"security\", \"seeded\", \"semifinal\", \"semifinals\", \"senate\", \"senate\", \"senate\", \"senator\", \"senator\", \"senator\", \"senators\", \"senators\", \"senators\", \"sentenced\", \"sentenced\", \"sept\", \"sept\", \"sept\", \"series\", \"series\", \"series\", \"series\", \"series\", \"settlement\", \"settlement\", \"settlement\", \"shareholder\", \"shareholders\", \"sharks\", \"sharks\", \"sharks\", \"sherman\", \"sherman\", \"sherman\", \"sherman\", \"shot\", \"shot\", \"shot\", \"shot\", \"shows\", \"singer\", \"singer\", \"slide\", \"slide\", \"slide\", \"soccer\", \"soccer\", \"soccer\", \"software\", \"software\", \"son\", \"son\", \"son\", \"sons\", \"sounded\", \"sounded\", \"sox\", \"space\", \"speaker\", \"speaker\", \"speaker\", \"spieth\", \"spurs\", \"spurs\", \"square\", \"staged\", \"staged\", \"staged\", \"stanley\", \"stanley\", \"stanley\", \"starting\", \"starting\", \"starting\", \"state\", \"state\", \"state\", \"state\", \"stated\", \"stated\", \"states\", \"states\", \"states\", \"states\", \"stick\", \"stick\", \"stock\", \"stock\", \"stocks\", \"stocks\", \"stone\", \"stone\", \"story\", \"strategist\", \"strategist\", \"strategist\", \"streaming\", \"streaming\", \"street\", \"street\", \"stroke\", \"stroke\", \"sue\", \"sue\", \"suggestions\", \"suggestions\", \"suggestions\", \"supporters\", \"supporters\", \"supporters\", \"syndergaard\", \"syria\", \"syria\", \"syrian\", \"syrian\", \"tactics\", \"tactics\", \"tactics\", \"taiwan\", \"taiwan\", \"takeover\", \"taliban\", \"talk\", \"talk\", \"talks\", \"talks\", \"talks\", \"tampa\", \"tampa\", \"tampa\", \"tampa\", \"tampa\", \"team\", \"team\", \"team\", \"team\", \"team\", \"teams\", \"teams\", \"teams\", \"technology\", \"ted\", \"ted\", \"teenage\", \"teixeira\", \"television\", \"television\", \"television\", \"television\", \"television\", \"temer\", \"tennis\", \"tennis\", \"terrorism\", \"terrorism\", \"terrorism\", \"terrorists\", \"terrorists\", \"testified\", \"testified\", \"tests\", \"tests\", \"tests\", \"theater\", \"theater\", \"theranos\", \"threatening\", \"threatening\", \"thunder\", \"thunder\", \"tigers\", \"tigers\", \"time\", \"time\", \"time\", \"time\", \"times\", \"times\", \"times\", \"times\", \"times\", \"todd\", \"todd\", \"toll\", \"toll\", \"toll\", \"toni\", \"toni\", \"tournament\", \"tournament\", \"tournaments\", \"trail\", \"trail\", \"trail\", \"transactions\", \"trauma\", \"trauma\", \"tribune\", \"tribune\", \"trump\", \"trump\", \"trump\", \"turkey\", \"turkey\", \"turkey\", \"turnout\", \"turnout\", \"turnout\", \"tv\", \"tv\", \"twins\", \"twins\", \"twins\", \"twitter\", \"twitter\", \"twitter\", \"twitter\", \"uber\", \"uber\", \"union\", \"union\", \"united\", \"united\", \"united\", \"united\", \"universal\", \"universal\", \"university\", \"university\", \"university\", \"updated\", \"updated\", \"usa\", \"usa\", \"va\", \"va\", \"valeant\", \"valeant\", \"vehicle\", \"vehicle\", \"vehicle\", \"vehicles\", \"vehicles\", \"vehicles\", \"victory\", \"victory\", \"victory\", \"victory\", \"victory\", \"views\", \"views\", \"views\", \"views\", \"village\", \"village\", \"volkswagen\", \"volkswagen\", \"vote\", \"vote\", \"vote\", \"voters\", \"voters\", \"voters\", \"votes\", \"votes\", \"votes\", \"wada\", \"want\", \"want\", \"want\", \"want\", \"warner\", \"warrant\", \"warrant\", \"warrant\", \"warriors\", \"warriors\", \"wary\", \"wary\", \"way\", \"way\", \"way\", \"week\", \"week\", \"week\", \"week\", \"week\", \"week\", \"westbrook\", \"williams\", \"williams\", \"williams\", \"wimbledon\", \"win\", \"win\", \"win\", \"win\", \"win\", \"wings\", \"wings\", \"women\", \"women\", \"women\", \"women\", \"won\", \"won\", \"won\", \"won\", \"won\", \"work\", \"work\", \"world\", \"world\", \"world\", \"worldwide\", \"wrapped\", \"wrestling\", \"wrestling\", \"wright\", \"wright\", \"wright\", \"writes\", \"writes\", \"yahoo\", \"yahoo\", \"yale\", \"yale\", \"yankees\", \"yankees\", \"year\", \"year\", \"year\", \"year\", \"years\", \"years\", \"years\", \"yellow\", \"yellow\", \"yen\", \"yen\", \"yield\", \"yield\", \"york\", \"york\", \"york\", \"york\", \"york\", \"york\", \"zuckerberg\"]}, \"R\": 30, \"lambda.step\": 0.01, \"plot.opts\": {\"xlab\": \"PC1\", \"ylab\": \"PC2\"}, \"topic.order\": [18, 15, 8, 10, 12, 23, 1, 6, 13, 9, 22, 2, 24, 14, 25, 20, 7, 11, 19, 3, 21, 16, 17, 5, 4]};\n",
              "\n",
              "function LDAvis_load_lib(url, callback){\n",
              "  var s = document.createElement('script');\n",
              "  s.src = url;\n",
              "  s.async = true;\n",
              "  s.onreadystatechange = s.onload = callback;\n",
              "  s.onerror = function(){console.warn(\"failed to load library \" + url);};\n",
              "  document.getElementsByTagName(\"head\")[0].appendChild(s);\n",
              "}\n",
              "\n",
              "if(typeof(LDAvis) !== \"undefined\"){\n",
              "   // already loaded: just create the visualization\n",
              "   !function(LDAvis){\n",
              "       new LDAvis(\"#\" + \"ldavis_el133140269258738808553384565\", ldavis_el133140269258738808553384565_data);\n",
              "   }(LDAvis);\n",
              "}else if(typeof define === \"function\" && define.amd){\n",
              "   // require.js is available: use it to load d3/LDAvis\n",
              "   require.config({paths: {d3: \"https://cdnjs.cloudflare.com/ajax/libs/d3/3.5.5/d3.min\"}});\n",
              "   require([\"d3\"], function(d3){\n",
              "      window.d3 = d3;\n",
              "      LDAvis_load_lib(\"https://cdn.rawgit.com/bmabey/pyLDAvis/files/ldavis.v1.0.0.js\", function(){\n",
              "        new LDAvis(\"#\" + \"ldavis_el133140269258738808553384565\", ldavis_el133140269258738808553384565_data);\n",
              "      });\n",
              "    });\n",
              "}else{\n",
              "    // require.js not available: dynamically load d3 & LDAvis\n",
              "    LDAvis_load_lib(\"https://cdnjs.cloudflare.com/ajax/libs/d3/3.5.5/d3.min.js\", function(){\n",
              "         LDAvis_load_lib(\"https://cdn.rawgit.com/bmabey/pyLDAvis/files/ldavis.v1.0.0.js\", function(){\n",
              "                 new LDAvis(\"#\" + \"ldavis_el133140269258738808553384565\", ldavis_el133140269258738808553384565_data);\n",
              "            })\n",
              "         });\n",
              "}\n",
              "</script>"
            ],
            "text/plain": [
              "<IPython.core.display.HTML object>"
            ]
          },
          "metadata": {
            "tags": []
          },
          "execution_count": 123
        }
      ]
    }
  ]
}
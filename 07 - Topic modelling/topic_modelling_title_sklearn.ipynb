{
  "nbformat": 4,
  "nbformat_minor": 0,
  "metadata": {
    "colab": {
      "name": "topic_modelling.ipynb",
      "version": "0.3.2",
      "provenance": [],
      "toc_visible": true,
      "include_colab_link": true
    },
    "kernelspec": {
      "name": "python3",
      "display_name": "Python 3"
    }
  },
  "cells": [
    {
      "cell_type": "markdown",
      "metadata": {
        "id": "view-in-github",
        "colab_type": "text"
      },
      "source": [
        "<a href=\"https://colab.research.google.com/github/ProfAI/nlp00/blob/master/7%20-%20Topic%20modelling/topic_modelling_sklearn.ipynb\" target=\"_parent\"><img src=\"https://colab.research.google.com/assets/colab-badge.svg\" alt=\"Open In Colab\"/></a>"
      ]
    },
    {
      "metadata": {
        "id": "Lwq8_X6pgJQw",
        "colab_type": "text"
      },
      "cell_type": "markdown",
      "source": [
        "# Topic modelling con Scikit-Learn\n",
        "Latent Dirichlet allocation (LDA) è un modello statistico che ci permette di associare ogni documento del nostro corpus di testo a degli argomenti (**topic**) quantificando quanto il documento è inerente a tale argomento.\n",
        "Ad esempio, prendiamo la frase: \"Il calciatore e la velina si sono spostati a Parigi\", l'analisi LDA potrebbe stabilire che la frase riguarda al 80% gossip e al 20% sport. I topic del LDA non contengono il nome specifico dell'argomento (come in questo caso sport o gossip) ma le parole chiave del topic, quindi sta a noi utilizzando queste risalire al topic.\n",
        "<br><br>\n",
        "In questo notebook cerchermo di identificare gli argomenti di oltre un milione di titoli di giornale presenti all'interno del dataset utilizzando LDA con scikit-learn."
      ]
    },
    {
      "metadata": {
        "id": "_dxOP_E6gZhV",
        "colab_type": "text"
      },
      "cell_type": "markdown",
      "source": [
        "## Otteniamo il dataset\n",
        "Il dataset contenente un milione di titoli di giornale è presente su Kaggle [a questo indirizzo](https://www.kaggle.com/therohk/million-headlines), per scaricare l'ultima versione aggiornata devi registrarti su Kaggle. Se non vuoi registrarti al momento puoi scaricare una versione più vecchia del dataset da [questo indirizzo ](https://raw.githubusercontent.com/franciscadias/data/master/abcnews-date-text.csv). Se utilizzi Google Colab o comunque hai wget installato sul tuo computer esegui pure la cella di codice qui sotto per scaricare il dataset."
      ]
    },
    {
      "metadata": {
        "id": "Sf1vg5aK5Zml",
        "colab_type": "code",
        "outputId": "cb2989c8-1229-46af-90f5-af40e33bf85c",
        "colab": {
          "base_uri": "https://localhost:8080/",
          "height": 226
        }
      },
      "cell_type": "code",
      "source": [
        "!wget https://raw.githubusercontent.com/franciscadias/data/master/abcnews-date-text.csv"
      ],
      "execution_count": 1,
      "outputs": [
        {
          "output_type": "stream",
          "text": [
            "--2019-04-17 09:00:04--  https://raw.githubusercontent.com/franciscadias/data/master/abcnews-date-text.csv\n",
            "Resolving raw.githubusercontent.com (raw.githubusercontent.com)... 151.101.0.133, 151.101.64.133, 151.101.128.133, ...\n",
            "Connecting to raw.githubusercontent.com (raw.githubusercontent.com)|151.101.0.133|:443... connected.\n",
            "HTTP request sent, awaiting response... 200 OK\n",
            "Length: 54096356 (52M) [text/plain]\n",
            "Saving to: ‘abcnews-date-text.csv’\n",
            "\n",
            "abcnews-date-text.c 100%[===================>]  51.59M  59.4MB/s    in 0.9s    \n",
            "\n",
            "2019-04-17 09:00:17 (59.4 MB/s) - ‘abcnews-date-text.csv’ saved [54096356/54096356]\n",
            "\n"
          ],
          "name": "stdout"
        }
      ]
    },
    {
      "metadata": {
        "id": "8sPVF4unhPdU",
        "colab_type": "text"
      },
      "cell_type": "markdown",
      "source": [
        "Il dataset è un file CSV, carichiamo all'interno di un DataFrame con pandas."
      ]
    },
    {
      "metadata": {
        "id": "dVd8XMRHgfqO",
        "colab_type": "code",
        "outputId": "69893f5f-2404-4de4-80ce-b5fc8096e6b7",
        "colab": {
          "base_uri": "https://localhost:8080/",
          "height": 203
        }
      },
      "cell_type": "code",
      "source": [
        "import pandas as pd\n",
        "\n",
        "headlines_df = pd.read_csv(\"abcnews-date-text.csv\")\n",
        "headlines_df.head()"
      ],
      "execution_count": 2,
      "outputs": [
        {
          "output_type": "execute_result",
          "data": {
            "text/html": [
              "<div>\n",
              "<style scoped>\n",
              "    .dataframe tbody tr th:only-of-type {\n",
              "        vertical-align: middle;\n",
              "    }\n",
              "\n",
              "    .dataframe tbody tr th {\n",
              "        vertical-align: top;\n",
              "    }\n",
              "\n",
              "    .dataframe thead th {\n",
              "        text-align: right;\n",
              "    }\n",
              "</style>\n",
              "<table border=\"1\" class=\"dataframe\">\n",
              "  <thead>\n",
              "    <tr style=\"text-align: right;\">\n",
              "      <th></th>\n",
              "      <th>publish_date</th>\n",
              "      <th>headline_text</th>\n",
              "    </tr>\n",
              "  </thead>\n",
              "  <tbody>\n",
              "    <tr>\n",
              "      <th>0</th>\n",
              "      <td>20030219</td>\n",
              "      <td>aba decides against community broadcasting lic...</td>\n",
              "    </tr>\n",
              "    <tr>\n",
              "      <th>1</th>\n",
              "      <td>20030219</td>\n",
              "      <td>act fire witnesses must be aware of defamation</td>\n",
              "    </tr>\n",
              "    <tr>\n",
              "      <th>2</th>\n",
              "      <td>20030219</td>\n",
              "      <td>a g calls for infrastructure protection summit</td>\n",
              "    </tr>\n",
              "    <tr>\n",
              "      <th>3</th>\n",
              "      <td>20030219</td>\n",
              "      <td>air nz staff in aust strike for pay rise</td>\n",
              "    </tr>\n",
              "    <tr>\n",
              "      <th>4</th>\n",
              "      <td>20030219</td>\n",
              "      <td>air nz strike to affect australian travellers</td>\n",
              "    </tr>\n",
              "  </tbody>\n",
              "</table>\n",
              "</div>"
            ],
            "text/plain": [
              "   publish_date                                      headline_text\n",
              "0      20030219  aba decides against community broadcasting lic...\n",
              "1      20030219     act fire witnesses must be aware of defamation\n",
              "2      20030219     a g calls for infrastructure protection summit\n",
              "3      20030219           air nz staff in aust strike for pay rise\n",
              "4      20030219      air nz strike to affect australian travellers"
            ]
          },
          "metadata": {
            "tags": []
          },
          "execution_count": 2
        }
      ]
    },
    {
      "metadata": {
        "id": "AIgorVirhWQm",
        "colab_type": "text"
      },
      "cell_type": "markdown",
      "source": [
        "Utilizziamo il metodo *.info()* per ottenere qualche informazione sul DafraFrame."
      ]
    },
    {
      "metadata": {
        "id": "7WrEWUCjhf3_",
        "colab_type": "code",
        "colab": {
          "base_uri": "https://localhost:8080/",
          "height": 137
        },
        "outputId": "f2e44d13-0237-4811-8576-51a34d2f6594"
      },
      "cell_type": "code",
      "source": [
        "headlines_df.info()"
      ],
      "execution_count": 3,
      "outputs": [
        {
          "output_type": "stream",
          "text": [
            "<class 'pandas.core.frame.DataFrame'>\n",
            "RangeIndex: 1082168 entries, 0 to 1082167\n",
            "Data columns (total 2 columns):\n",
            "publish_date     1082168 non-null int64\n",
            "headline_text    1082168 non-null object\n",
            "dtypes: int64(1), object(1)\n",
            "memory usage: 16.5+ MB\n"
          ],
          "name": "stdout"
        }
      ]
    },
    {
      "metadata": {
        "id": "TihvSZkyhs5K",
        "colab_type": "text"
      },
      "cell_type": "markdown",
      "source": [
        "Come vedi il dataset ha la bellezza di 1082168 di titoli di giornale, l'ideale sarebbe utilizzarli tutti per il nostro modello, ma questo richiederebbe molto tempo per la creazione del modello, quindi selezioniamone casulamente un 20% utilizzando il metodo *.sample()*."
      ]
    },
    {
      "metadata": {
        "id": "sSqKSb2TnVS6",
        "colab_type": "code",
        "outputId": "89295fd5-52d0-428c-c365-97f13cac4a89",
        "colab": {
          "base_uri": "https://localhost:8080/",
          "height": 34
        }
      },
      "cell_type": "code",
      "source": [
        "# impostiamo il random_state a 0\n",
        "# per ottenere gli stessi valori\n",
        "\n",
        "headlines_df = headlines_df.sample(frac=.2, random_state=0)\n",
        "headlines_df.shape"
      ],
      "execution_count": 4,
      "outputs": [
        {
          "output_type": "execute_result",
          "data": {
            "text/plain": [
              "(216434, 2)"
            ]
          },
          "metadata": {
            "tags": []
          },
          "execution_count": 4
        }
      ]
    },
    {
      "metadata": {
        "id": "7cNCMRP8iKte",
        "colab_type": "text"
      },
      "cell_type": "markdown",
      "source": [
        "Abbiamo ridotto il DataFrame a sole (si fa per dire) 216434 righe. Estraiamo l'array numpy."
      ]
    },
    {
      "metadata": {
        "colab_type": "code",
        "outputId": "186a9f55-b1da-4a7c-cb54-c31ed780513d",
        "id": "hHcbDHZ-iYxe",
        "colab": {
          "base_uri": "https://localhost:8080/",
          "height": 71
        }
      },
      "cell_type": "code",
      "source": [
        "headlines = headlines_df[\"headline_text\"].values\n",
        "headlines[:3]"
      ],
      "execution_count": 5,
      "outputs": [
        {
          "output_type": "execute_result",
          "data": {
            "text/plain": [
              "array(['labor attacks nationals mp over milk link',\n",
              "       'coraki public school hip hop video', 'dairy record'], dtype=object)"
            ]
          },
          "metadata": {
            "tags": []
          },
          "execution_count": 5
        }
      ]
    },
    {
      "metadata": {
        "id": "TI7IjSORt22c",
        "colab_type": "text"
      },
      "cell_type": "markdown",
      "source": [
        "## Modello Bag of Words\n",
        "Adesso dobbiamo codificare il testo in un formato comprensibile per un computer, utilizziamo il bag of words con la classe *CountVectorizer* di sklearn, limitiamo il numero di parole a 5000 e rimuoviamo le stop words."
      ]
    },
    {
      "metadata": {
        "id": "B46xSsuklAaK",
        "colab_type": "code",
        "outputId": "910c055e-666d-4c44-8b56-6ab3bd92eb9b",
        "colab": {
          "base_uri": "https://localhost:8080/",
          "height": 34
        }
      },
      "cell_type": "code",
      "source": [
        "from sklearn.feature_extraction.text import CountVectorizer\n",
        "\n",
        "bow = CountVectorizer(max_features=5000, stop_words=\"english\")\n",
        "X = bow.fit_transform(headlines)\n",
        "X.shape"
      ],
      "execution_count": 6,
      "outputs": [
        {
          "output_type": "execute_result",
          "data": {
            "text/plain": [
              "(216434, 5000)"
            ]
          },
          "metadata": {
            "tags": []
          },
          "execution_count": 6
        }
      ]
    },
    {
      "metadata": {
        "id": "rHeiAnD0jBV1",
        "colab_type": "text"
      },
      "cell_type": "markdown",
      "source": [
        "Adesso possiamo eseguire la LDA utilizzando la classe *LatentDirichletAllocation* di sklearn, trattandosi di un problema di **apprendimento non supervisionato** non conosciamo a priori il numero di topic da cercare, definiamolo arbitrariamente a 10 utilizzando il parametro *n_components*."
      ]
    },
    {
      "metadata": {
        "id": "nIZ4Kfx-lfSS",
        "colab_type": "code",
        "outputId": "9ba70a6b-533c-4766-c783-f3fc5b5a4fde",
        "colab": {
          "base_uri": "https://localhost:8080/",
          "height": 188
        }
      },
      "cell_type": "code",
      "source": [
        "from sklearn.decomposition import LatentDirichletAllocation as LDA\n",
        "\n",
        "lda = LDA(n_components=10, max_iter=10, verbose=True)\n",
        "lda.fit_transform(X)"
      ],
      "execution_count": 7,
      "outputs": [
        {
          "output_type": "stream",
          "text": [
            "iteration: 1 of max_iter: 10\n",
            "iteration: 2 of max_iter: 10\n",
            "iteration: 3 of max_iter: 10\n",
            "iteration: 4 of max_iter: 10\n",
            "iteration: 5 of max_iter: 10\n",
            "iteration: 6 of max_iter: 10\n",
            "iteration: 7 of max_iter: 10\n",
            "iteration: 8 of max_iter: 10\n",
            "iteration: 9 of max_iter: 10\n",
            "iteration: 10 of max_iter: 10\n"
          ],
          "name": "stdout"
        }
      ]
    },
    {
      "metadata": {
        "id": "iOPnw_8gj0F8",
        "colab_type": "text"
      },
      "cell_type": "markdown",
      "source": [
        "## Esplorazione dei topic\n",
        "All'interno dell'attributo *.components_* troviamo la probabilità di appartenenza di ogni parola ad un determianto topic."
      ]
    },
    {
      "metadata": {
        "id": "4Wn6X5qxkO7h",
        "colab_type": "code",
        "colab": {
          "base_uri": "https://localhost:8080/",
          "height": 34
        },
        "outputId": "679d53bf-5fd6-4a93-973a-ae32b197ec1d"
      },
      "cell_type": "code",
      "source": [
        "topic = lda.components_[0]\n",
        "lda.components_[0].shape"
      ],
      "execution_count": 11,
      "outputs": [
        {
          "output_type": "execute_result",
          "data": {
            "text/plain": [
              "(5000,)"
            ]
          },
          "metadata": {
            "tags": []
          },
          "execution_count": 11
        }
      ]
    },
    {
      "metadata": {
        "id": "xKOzfnD6kQUK",
        "colab_type": "text"
      },
      "cell_type": "markdown",
      "source": [
        "Ad esempio, stampiamo la probabilità di appartenenza al primo topic delle prime 10 parole del dizionario. Possiamo ottenere il nostro dizionario utilizzando il metodo .get_feature_names() del bag of words."
      ]
    },
    {
      "metadata": {
        "id": "VefPzHV0kSt6",
        "colab_type": "code",
        "colab": {
          "base_uri": "https://localhost:8080/",
          "height": 206
        },
        "outputId": "3c8ebdea-4144-4e15-908f-4324b9f843bb"
      },
      "cell_type": "code",
      "source": [
        "print(\"PAROLA\\t\\tPROBABILITA'\")\n",
        "for i in range(0,10):\n",
        "  print(\"%s\\t\\t%.4f\" % (bow.get_feature_names()[i], topic[i]))"
      ],
      "execution_count": 13,
      "outputs": [
        {
          "output_type": "stream",
          "text": [
            "PAROLA\t\tPROBABILITA'\n",
            "10\t\t1.2008\n",
            "100\t\t0.1000\n",
            "1000\t\t0.1000\n",
            "10000\t\t0.1000\n",
            "100k\t\t0.1000\n",
            "100m\t\t54.8004\n",
            "10m\t\t0.1000\n",
            "11\t\t0.7890\n",
            "12\t\t7.1969\n",
            "13\t\t0.1000\n"
          ],
          "name": "stdout"
        }
      ]
    },
    {
      "metadata": {
        "id": "z4gXOvOnkWxM",
        "colab_type": "text"
      },
      "cell_type": "markdown",
      "source": [
        "Il metodo *.argsort()* di un array numpy ci permette di ottenere gli indici dell'array ordinato, usiamolo per ottenere gli indici delle 10 parole più popolari del primo topic."
      ]
    },
    {
      "metadata": {
        "id": "-ucasleIp5s1",
        "colab_type": "code",
        "colab": {
          "base_uri": "https://localhost:8080/",
          "height": 34
        },
        "outputId": "a8aa6e6b-a39a-4444-8be7-4010f158e531"
      },
      "cell_type": "code",
      "source": [
        "top_words = topic.argsort()[-10:]\n",
        "top_words"
      ],
      "execution_count": 14,
      "outputs": [
        {
          "output_type": "execute_result",
          "data": {
            "text/plain": [
              "array([ 495, 3730,  358, 4927, 1708, 3953, 2705, 1149, 4963, 4916])"
            ]
          },
          "metadata": {
            "tags": []
          },
          "execution_count": 14
        }
      ]
    },
    {
      "metadata": {
        "id": "Wyj67xL1mOeL",
        "colab_type": "text"
      },
      "cell_type": "markdown",
      "source": [
        "Usiamo questa informazione per stampare le prime 10 parole più popolari del topic."
      ]
    },
    {
      "metadata": {
        "id": "f1qkKKYAqRdg",
        "colab_type": "code",
        "outputId": "b09095aa-3127-414b-88dc-a7b01d4d36b0",
        "colab": {
          "base_uri": "https://localhost:8080/",
          "height": 188
        }
      },
      "cell_type": "code",
      "source": [
        "for i in top_words:\n",
        "  print(bow.get_feature_names()[i])"
      ],
      "execution_count": 15,
      "outputs": [
        {
          "output_type": "stream",
          "text": [
            "big\n",
            "rise\n",
            "australian\n",
            "wins\n",
            "final\n",
            "set\n",
            "market\n",
            "cup\n",
            "world\n",
            "win\n"
          ],
          "name": "stdout"
        }
      ]
    },
    {
      "metadata": {
        "id": "AEzo_ifhmWuL",
        "colab_type": "text"
      },
      "cell_type": "markdown",
      "source": [
        "Adesso mettiamo tutto insieme per stampare le 10 parole più popolari di tutti i topic."
      ]
    },
    {
      "metadata": {
        "id": "Kx7-cLLPqeEA",
        "colab_type": "code",
        "outputId": "46de197a-ffe1-4725-9bf5-65f9a2b2df33",
        "colab": {
          "base_uri": "https://localhost:8080/",
          "height": 551
        }
      },
      "cell_type": "code",
      "source": [
        "n_words = 10\n",
        "\n",
        "for index, topic in enumerate(lda.components_):\n",
        "  print(\"\\nTOPIC %d - %d parole più popolari\" % (index+1, n_words))\n",
        "  print([bow.get_feature_names()[i] for i in topic.argsort()[-n_words:]])"
      ],
      "execution_count": 0,
      "outputs": [
        {
          "output_type": "stream",
          "text": [
            "\n",
            "TOPIC 1 - 15 parole più popolari\n",
            "['high', 'centre', 'action', 'anti', 'police', 'threat', 'warning', 'pay', 'port', 'open', 'deal', 'opposition', 'house', 'health', 'school']\n",
            "\n",
            "TOPIC 2 - 15 parole più popolari\n",
            "['says', 'report', 'risk', 'tasmanian', 'workers', 'climate', 'work', 'continue', 'debate', 'continues', 'final', 'study', 'missing', 'change', 'search']\n",
            "\n",
            "TOPIC 3 - 15 parole più popolari\n",
            "['residents', 'urges', 'rural', 'help', 'flood', 'guilty', 'public', 'calls', 'sa', 'farmers', 'urged', 'qld', 'home', 'govt', 'water']\n",
            "\n",
            "TOPIC 4 - 15 parole più popolari\n",
            "['mp', 'ban', 'government', 'industry', 'australian', 'iraq', 'talks', 'pm', 'claims', 'election', 'labor', 'says', 'minister', 'govt', 'australia']\n",
            "\n",
            "TOPIC 5 - 15 parole più popolari\n",
            "['bomb', 'pakistan', 'plane', 'gas', 'kills', 'china', 'bail', 'people', 'car', 'attack', 'crash', 'injured', 'woman', 'dead', 'killed']\n",
            "\n",
            "TOPIC 6 - 15 parole più popolari\n",
            "['race', 'long', 'nrl', 'media', 'return', 'man', 'face', 'told', 'drug', 'faces', 'charges', 'sydney', 'accused', 'court', 'interview']\n",
            "\n",
            "TOPIC 7 - 15 parole più popolari\n",
            "['lead', 'station', 'car', 'rate', 'cut', 'queensland', 'run', 'gets', 'weather', 'season', 'power', 'market', 'hit', 'dies', 'crash']\n",
            "\n",
            "TOPIC 8 - 15 parole più popolari\n",
            "['plans', 'community', 'green', 'farm', 'nsw', 'future', 'north', 'record', 'national', 'group', 'gold', 'plan', 'coast', 'council', 'new']\n",
            "\n",
            "TOPIC 9 - 15 parole più popolari\n",
            "['test', 'case', 'court', 'brisbane', 'assault', 'jailed', 'trial', 'probe', 'child', 'sex', 'murder', 'death', 'charged', 'man', 'police']\n",
            "\n",
            "TOPIC 10 - 15 parole più popolari\n",
            "['decision', 'tour', 'east', 'news', 'chief', 'hour', 'takes', 'country', 'year', 'abc', 'win', 'wins', 'cup', 'south', 'world']\n"
          ],
          "name": "stdout"
        }
      ]
    },
    {
      "metadata": {
        "id": "ouBjseLWmtRZ",
        "colab_type": "text"
      },
      "cell_type": "markdown",
      "source": [
        "Riesci a riconoscere il significato di ogni topic ?"
      ]
    },
    {
      "metadata": {
        "id": "sUThvCFLt51h",
        "colab_type": "text"
      },
      "cell_type": "markdown",
      "source": [
        "## Modello TF-IDF\n",
        "Ricreiamo il modello, questa volta codificando le frasi utilizzando un modello TF-IDF, possiamo farlo con la classe *TfidfVectorizer* di sklearn."
      ]
    },
    {
      "metadata": {
        "id": "8jGtCcr7saaU",
        "colab_type": "code",
        "outputId": "92978990-b0c2-4c2a-b30c-482d487c46ae",
        "colab": {
          "base_uri": "https://localhost:8080/",
          "height": 34
        }
      },
      "cell_type": "code",
      "source": [
        "from sklearn.feature_extraction.text import TfidfVectorizer\n",
        "\n",
        "tfidf = TfidfVectorizer(max_features=5000, stop_words=\"english\")\n",
        "X = tfidf.fit_transform(headlines)\n",
        "X.shape"
      ],
      "execution_count": 16,
      "outputs": [
        {
          "output_type": "execute_result",
          "data": {
            "text/plain": [
              "(216434, 5000)"
            ]
          },
          "metadata": {
            "tags": []
          },
          "execution_count": 16
        }
      ]
    },
    {
      "metadata": {
        "id": "DVilJs9HnNOC",
        "colab_type": "text"
      },
      "cell_type": "markdown",
      "source": [
        "E ricreiamo il modello utilizzando questo nuovo dataset."
      ]
    },
    {
      "metadata": {
        "id": "CfK7qK_nuS10",
        "colab_type": "code",
        "outputId": "18d546ac-de67-4d2a-c03a-1802d991014e",
        "colab": {
          "base_uri": "https://localhost:8080/",
          "height": 188
        }
      },
      "cell_type": "code",
      "source": [
        "lda = LDA(n_components=10, max_iter=10, verbose=True)\n",
        "data = lda.fit_transform(X)"
      ],
      "execution_count": 17,
      "outputs": [
        {
          "output_type": "stream",
          "text": [
            "iteration: 1 of max_iter: 10\n",
            "iteration: 2 of max_iter: 10\n",
            "iteration: 3 of max_iter: 10\n",
            "iteration: 4 of max_iter: 10\n",
            "iteration: 5 of max_iter: 10\n",
            "iteration: 6 of max_iter: 10\n",
            "iteration: 7 of max_iter: 10\n",
            "iteration: 8 of max_iter: 10\n",
            "iteration: 9 of max_iter: 10\n",
            "iteration: 10 of max_iter: 10\n"
          ],
          "name": "stdout"
        }
      ]
    },
    {
      "metadata": {
        "id": "cKXQYVzWnXtC",
        "colab_type": "text"
      },
      "cell_type": "markdown",
      "source": [
        "Esploriamo i topic generati con lo stesso metodo visto sopra."
      ]
    },
    {
      "metadata": {
        "id": "wmsJcGzIuakg",
        "colab_type": "code",
        "outputId": "5fbe6891-6a5f-4143-bcca-56a8d9710bce",
        "colab": {
          "base_uri": "https://localhost:8080/",
          "height": 551
        }
      },
      "cell_type": "code",
      "source": [
        "n_words = 10\n",
        "\n",
        "for index, topic in enumerate(lda.components_):\n",
        "  print(\"\\nTOPIC %d - %d parole più popolari\" % (index+1, n_words))\n",
        "  print([bow.get_feature_names()[i] for i in topic.argsort()[-n_words:]])"
      ],
      "execution_count": 18,
      "outputs": [
        {
          "output_type": "stream",
          "text": [
            "\n",
            "TOPIC 1 - 10 parole più popolari\n",
            "['obama', 'new', 'carbon', 'cattle', 'abbott', 'tax', 'pm', 'climate', 'says', 'change']\n",
            "\n",
            "TOPIC 2 - 10 parole più popolari\n",
            "['boost', 'greens', 'plan', 'funds', 'urged', 'government', 'rail', 'council', 'funding', 'govt']\n",
            "\n",
            "TOPIC 3 - 10 parole più popolari\n",
            "['study', 'care', 'safety', 'concerns', 'cancer', 'warning', 'death', 'new', 'indigenous', 'health']\n",
            "\n",
            "TOPIC 4 - 10 parole più popolari\n",
            "['dead', 'woman', 'missing', 'killed', 'dies', 'charged', 'car', 'crash', 'police', 'man']\n",
            "\n",
            "TOPIC 5 - 10 parole più popolari\n",
            "['sport', 'new', 'rejects', 'farm', 'national', 'weather', 'business', 'news', 'rural', 'abc']\n",
            "\n",
            "TOPIC 6 - 10 parole più popolari\n",
            "['cuts', 'budget', 'job', 'drought', 'toll', 'nrn', 'record', 'gold', 'rain', 'coast']\n",
            "\n",
            "TOPIC 7 - 10 parole più popolari\n",
            "['smith', 'team', 'michael', 'season', 'australia', 'cup', 'tour', 'world', 'asylum', 'interview']\n",
            "\n",
            "TOPIC 8 - 10 parole più popolari\n",
            "['cup', 'blues', 'test', 'share', 'open', 'tigers', 'day', 'final', 'win', 'market']\n",
            "\n",
            "TOPIC 9 - 10 parole più popolari\n",
            "['case', 'assault', 'trial', 'guilty', 'charges', 'sex', 'man', 'murder', 'accused', 'court']\n",
            "\n",
            "TOPIC 10 - 10 parole più popolari\n",
            "['murray', 'live', 'plan', 'port', 'new', 'interview', 'council', 'hour', 'water', 'country']\n"
          ],
          "name": "stdout"
        }
      ]
    },
    {
      "metadata": {
        "id": "U6WJ8DNpvU9F",
        "colab_type": "text"
      },
      "cell_type": "markdown",
      "source": [
        "## Visualizzare il modello\n",
        "[pyLDAvis](https://github.com/bmabey/pyLDAvis) è un fantastico modulo python che ci permette di esplorare i topic generati da un modello LDA in maniera visuale, installiamolo usando pip."
      ]
    },
    {
      "metadata": {
        "id": "rd0X4HYsvYh7",
        "colab_type": "code",
        "outputId": "2e8bdad3-513c-41c4-d7e8-481b66722abb",
        "colab": {
          "base_uri": "https://localhost:8080/",
          "height": 551
        }
      },
      "cell_type": "code",
      "source": [
        "!pip install pyldavis"
      ],
      "execution_count": 19,
      "outputs": [
        {
          "output_type": "stream",
          "text": [
            "Collecting pyldavis\n",
            "\u001b[?25l  Downloading https://files.pythonhosted.org/packages/a5/3a/af82e070a8a96e13217c8f362f9a73e82d61ac8fff3a2561946a97f96266/pyLDAvis-2.1.2.tar.gz (1.6MB)\n",
            "\u001b[K    100% |████████████████████████████████| 1.6MB 13.9MB/s \n",
            "\u001b[?25hRequirement already satisfied: wheel>=0.23.0 in /usr/local/lib/python3.6/dist-packages (from pyldavis) (0.33.1)\n",
            "Requirement already satisfied: numpy>=1.9.2 in /usr/local/lib/python3.6/dist-packages (from pyldavis) (1.16.2)\n",
            "Requirement already satisfied: scipy>=0.18.0 in /usr/local/lib/python3.6/dist-packages (from pyldavis) (1.2.1)\n",
            "Requirement already satisfied: pandas>=0.17.0 in /usr/local/lib/python3.6/dist-packages (from pyldavis) (0.23.4)\n",
            "Requirement already satisfied: joblib>=0.8.4 in /usr/local/lib/python3.6/dist-packages (from pyldavis) (0.12.5)\n",
            "Requirement already satisfied: jinja2>=2.7.2 in /usr/local/lib/python3.6/dist-packages (from pyldavis) (2.10.1)\n",
            "Requirement already satisfied: numexpr in /usr/local/lib/python3.6/dist-packages (from pyldavis) (2.6.9)\n",
            "Requirement already satisfied: pytest in /usr/local/lib/python3.6/dist-packages (from pyldavis) (3.6.4)\n",
            "Requirement already satisfied: future in /usr/local/lib/python3.6/dist-packages (from pyldavis) (0.16.0)\n",
            "Collecting funcy (from pyldavis)\n",
            "  Downloading https://files.pythonhosted.org/packages/47/a4/204fa23012e913839c2da4514b92f17da82bf5fc8c2c3d902fa3fa3c6eec/funcy-1.11-py2.py3-none-any.whl\n",
            "Requirement already satisfied: python-dateutil>=2.5.0 in /usr/local/lib/python3.6/dist-packages (from pandas>=0.17.0->pyldavis) (2.5.3)\n",
            "Requirement already satisfied: pytz>=2011k in /usr/local/lib/python3.6/dist-packages (from pandas>=0.17.0->pyldavis) (2018.9)\n",
            "Requirement already satisfied: MarkupSafe>=0.23 in /usr/local/lib/python3.6/dist-packages (from jinja2>=2.7.2->pyldavis) (1.1.1)\n",
            "Requirement already satisfied: pluggy<0.8,>=0.5 in /usr/local/lib/python3.6/dist-packages (from pytest->pyldavis) (0.7.1)\n",
            "Requirement already satisfied: six>=1.10.0 in /usr/local/lib/python3.6/dist-packages (from pytest->pyldavis) (1.11.0)\n",
            "Requirement already satisfied: attrs>=17.4.0 in /usr/local/lib/python3.6/dist-packages (from pytest->pyldavis) (19.1.0)\n",
            "Requirement already satisfied: setuptools in /usr/local/lib/python3.6/dist-packages (from pytest->pyldavis) (40.9.0)\n",
            "Requirement already satisfied: atomicwrites>=1.0 in /usr/local/lib/python3.6/dist-packages (from pytest->pyldavis) (1.3.0)\n",
            "Requirement already satisfied: more-itertools>=4.0.0 in /usr/local/lib/python3.6/dist-packages (from pytest->pyldavis) (7.0.0)\n",
            "Requirement already satisfied: py>=1.5.0 in /usr/local/lib/python3.6/dist-packages (from pytest->pyldavis) (1.8.0)\n",
            "Building wheels for collected packages: pyldavis\n",
            "  Building wheel for pyldavis (setup.py) ... \u001b[?25ldone\n",
            "\u001b[?25h  Stored in directory: /root/.cache/pip/wheels/98/71/24/513a99e58bb6b8465bae4d2d5e9dba8f0bef8179e3051ac414\n",
            "Successfully built pyldavis\n",
            "Installing collected packages: funcy, pyldavis\n",
            "Successfully installed funcy-1.11 pyldavis-2.1.2\n"
          ],
          "name": "stdout"
        }
      ]
    },
    {
      "metadata": {
        "id": "g5e29lTwn8gs",
        "colab_type": "text"
      },
      "cell_type": "markdown",
      "source": [
        "Utilizziamo per creare la visualizzazione per un modello sklearn, passando come argomenti il modello stesso, il dataset codificato e l'oggetto che abbiamo usato per la codifica. Per poter visualizzare il grafico dobbiamo proiettare i dati in uno spazio bi-dimensionale, all'interno del parametro mds possiamo definire la tecnica per farlo, utilizziamo il [t-distributed stochastic neighbor embedding](https://it.wikipedia.org/wiki/T-distributed_stochastic_neighbor_embedding)."
      ]
    },
    {
      "metadata": {
        "id": "Z6C5iN1WvSlB",
        "colab_type": "code",
        "outputId": "7dc63001-33a9-4d7b-9474-25a1f656e2b5",
        "colab": {
          "base_uri": "https://localhost:8080/",
          "height": 1018
        }
      },
      "cell_type": "code",
      "source": [
        "import pyLDAvis.sklearn\n",
        "\n",
        "lda_viz = pyLDAvis.sklearn.prepare(lda, X, tfidf, mds='tsne')\n",
        "pyLDAvis.display(lda_viz)"
      ],
      "execution_count": 25,
      "outputs": [
        {
          "output_type": "stream",
          "text": [
            "/usr/local/lib/python3.6/dist-packages/pyLDAvis/_prepare.py:257: FutureWarning: Sorting because non-concatenation axis is not aligned. A future version\n",
            "of pandas will change to not sort by default.\n",
            "\n",
            "To accept the future behavior, pass 'sort=False'.\n",
            "\n",
            "To retain the current behavior and silence the warning, pass 'sort=True'.\n",
            "\n",
            "  return pd.concat([default_term_info] + list(topic_dfs))\n"
          ],
          "name": "stderr"
        },
        {
          "output_type": "execute_result",
          "data": {
            "text/html": [
              "\n",
              "<link rel=\"stylesheet\" type=\"text/css\" href=\"https://cdn.rawgit.com/bmabey/pyLDAvis/files/ldavis.v1.0.0.css\">\n",
              "\n",
              "\n",
              "<div id=\"ldavis_el1381404933756346725252549369\"></div>\n",
              "<script type=\"text/javascript\">\n",
              "\n",
              "var ldavis_el1381404933756346725252549369_data = {\"mdsDat\": {\"x\": [54.106632232666016, 33.14713668823242, 38.145389556884766, 0.992603600025177, -4.294041633605957, 15.722042083740234, 10.42811107635498, -26.723058700561523, -21.718780517578125, -42.68440246582031], \"y\": [38.403106689453125, 11.057242393493652, 73.10625457763672, 81.97148132324219, 21.366724014282227, 45.76413345336914, -14.840862274169922, -5.97144889831543, 56.0698356628418, 28.729978561401367], \"topics\": [1, 2, 3, 4, 5, 6, 7, 8, 9, 10], \"cluster\": [1, 1, 1, 1, 1, 1, 1, 1, 1, 1], \"Freq\": [11.643515926292194, 11.328638778519219, 10.621974570947188, 10.568043234036269, 10.133415586720492, 9.702705104646531, 9.613025699728142, 9.225287164344815, 8.599256699653505, 8.56413723511165]}, \"tinfo\": {\"Category\": [\"Default\", \"Default\", \"Default\", \"Default\", \"Default\", \"Default\", \"Default\", \"Default\", \"Default\", \"Default\", \"Default\", \"Default\", \"Default\", \"Default\", \"Default\", \"Default\", \"Default\", \"Default\", \"Default\", \"Default\", \"Default\", \"Default\", \"Default\", \"Default\", \"Default\", \"Default\", \"Default\", \"Default\", \"Default\", \"Default\", \"Topic1\", \"Topic1\", \"Topic1\", \"Topic1\", \"Topic1\", \"Topic1\", \"Topic1\", \"Topic1\", \"Topic1\", \"Topic1\", \"Topic1\", \"Topic1\", \"Topic1\", \"Topic1\", \"Topic1\", \"Topic1\", \"Topic1\", \"Topic1\", \"Topic1\", \"Topic1\", \"Topic1\", \"Topic1\", \"Topic1\", \"Topic1\", \"Topic1\", \"Topic1\", \"Topic1\", \"Topic1\", \"Topic1\", \"Topic1\", \"Topic1\", \"Topic1\", \"Topic1\", \"Topic1\", \"Topic1\", \"Topic1\", \"Topic1\", \"Topic1\", \"Topic1\", \"Topic1\", \"Topic1\", \"Topic1\", \"Topic1\", \"Topic1\", \"Topic1\", \"Topic1\", \"Topic1\", \"Topic1\", \"Topic1\", \"Topic1\", \"Topic1\", \"Topic1\", \"Topic1\", \"Topic1\", \"Topic1\", \"Topic1\", \"Topic1\", \"Topic1\", \"Topic1\", \"Topic1\", \"Topic1\", \"Topic1\", \"Topic1\", \"Topic1\", \"Topic1\", \"Topic1\", \"Topic1\", \"Topic1\", \"Topic1\", \"Topic1\", \"Topic1\", \"Topic1\", \"Topic1\", \"Topic1\", \"Topic1\", \"Topic1\", \"Topic1\", \"Topic2\", \"Topic2\", \"Topic2\", \"Topic2\", \"Topic2\", \"Topic2\", \"Topic2\", \"Topic2\", \"Topic2\", \"Topic2\", \"Topic2\", \"Topic2\", \"Topic2\", \"Topic2\", \"Topic2\", \"Topic2\", \"Topic2\", \"Topic2\", \"Topic2\", \"Topic2\", \"Topic2\", \"Topic2\", \"Topic2\", \"Topic2\", \"Topic2\", \"Topic2\", \"Topic2\", \"Topic2\", \"Topic2\", \"Topic2\", \"Topic2\", \"Topic2\", \"Topic2\", \"Topic2\", \"Topic2\", \"Topic2\", \"Topic2\", \"Topic2\", \"Topic2\", \"Topic2\", \"Topic2\", \"Topic2\", \"Topic2\", \"Topic2\", \"Topic2\", \"Topic2\", \"Topic2\", \"Topic2\", \"Topic2\", \"Topic2\", \"Topic2\", \"Topic2\", \"Topic2\", \"Topic2\", \"Topic2\", \"Topic2\", \"Topic2\", \"Topic2\", \"Topic2\", \"Topic2\", \"Topic2\", \"Topic2\", \"Topic2\", \"Topic2\", \"Topic2\", \"Topic2\", \"Topic2\", \"Topic3\", \"Topic3\", \"Topic3\", \"Topic3\", \"Topic3\", \"Topic3\", \"Topic3\", \"Topic3\", \"Topic3\", \"Topic3\", \"Topic3\", \"Topic3\", \"Topic3\", \"Topic3\", \"Topic3\", \"Topic3\", \"Topic3\", \"Topic3\", \"Topic3\", \"Topic3\", \"Topic3\", \"Topic3\", \"Topic3\", \"Topic3\", \"Topic3\", \"Topic3\", \"Topic3\", \"Topic3\", \"Topic3\", \"Topic3\", \"Topic3\", \"Topic3\", \"Topic3\", \"Topic3\", \"Topic3\", \"Topic3\", \"Topic3\", \"Topic3\", \"Topic3\", \"Topic3\", \"Topic3\", \"Topic3\", \"Topic3\", \"Topic3\", \"Topic3\", \"Topic3\", \"Topic3\", \"Topic3\", \"Topic3\", \"Topic3\", \"Topic3\", \"Topic3\", \"Topic3\", \"Topic3\", \"Topic3\", \"Topic3\", \"Topic3\", \"Topic3\", \"Topic3\", \"Topic3\", \"Topic3\", \"Topic3\", \"Topic3\", \"Topic3\", \"Topic3\", \"Topic3\", \"Topic4\", \"Topic4\", \"Topic4\", \"Topic4\", \"Topic4\", \"Topic4\", \"Topic4\", \"Topic4\", \"Topic4\", \"Topic4\", \"Topic4\", \"Topic4\", \"Topic4\", \"Topic4\", \"Topic4\", \"Topic4\", \"Topic4\", \"Topic4\", \"Topic4\", \"Topic4\", \"Topic4\", \"Topic4\", \"Topic4\", \"Topic4\", \"Topic4\", \"Topic4\", \"Topic4\", \"Topic4\", \"Topic4\", \"Topic4\", \"Topic4\", \"Topic4\", \"Topic4\", \"Topic4\", \"Topic4\", \"Topic4\", \"Topic4\", \"Topic4\", \"Topic4\", \"Topic4\", \"Topic4\", \"Topic4\", \"Topic4\", \"Topic4\", \"Topic4\", \"Topic4\", \"Topic4\", \"Topic4\", \"Topic4\", \"Topic4\", \"Topic4\", \"Topic4\", \"Topic4\", \"Topic4\", \"Topic4\", \"Topic4\", \"Topic4\", \"Topic4\", \"Topic4\", \"Topic4\", \"Topic4\", \"Topic4\", \"Topic4\", \"Topic4\", \"Topic4\", \"Topic4\", \"Topic4\", \"Topic4\", \"Topic4\", \"Topic4\", \"Topic5\", \"Topic5\", \"Topic5\", \"Topic5\", \"Topic5\", \"Topic5\", \"Topic5\", \"Topic5\", \"Topic5\", \"Topic5\", \"Topic5\", \"Topic5\", \"Topic5\", \"Topic5\", \"Topic5\", \"Topic5\", \"Topic5\", \"Topic5\", \"Topic5\", \"Topic5\", \"Topic5\", \"Topic5\", \"Topic5\", \"Topic5\", \"Topic5\", \"Topic5\", \"Topic5\", \"Topic5\", \"Topic5\", \"Topic5\", \"Topic5\", \"Topic5\", \"Topic5\", \"Topic5\", \"Topic5\", \"Topic5\", \"Topic5\", \"Topic5\", \"Topic5\", \"Topic5\", \"Topic5\", \"Topic5\", \"Topic5\", \"Topic5\", \"Topic5\", \"Topic5\", \"Topic5\", \"Topic5\", \"Topic5\", \"Topic5\", \"Topic5\", \"Topic5\", \"Topic5\", \"Topic5\", \"Topic5\", \"Topic5\", \"Topic5\", \"Topic5\", \"Topic5\", \"Topic6\", \"Topic6\", \"Topic6\", \"Topic6\", \"Topic6\", \"Topic6\", \"Topic6\", \"Topic6\", \"Topic6\", \"Topic6\", \"Topic6\", \"Topic6\", \"Topic6\", \"Topic6\", \"Topic6\", \"Topic6\", \"Topic6\", \"Topic6\", \"Topic6\", \"Topic6\", \"Topic6\", \"Topic6\", \"Topic6\", \"Topic6\", \"Topic6\", \"Topic6\", \"Topic6\", \"Topic6\", \"Topic6\", \"Topic6\", \"Topic6\", \"Topic6\", \"Topic6\", \"Topic6\", \"Topic6\", \"Topic6\", \"Topic6\", \"Topic6\", \"Topic6\", \"Topic6\", \"Topic6\", \"Topic6\", \"Topic6\", \"Topic6\", \"Topic6\", \"Topic6\", \"Topic6\", \"Topic6\", \"Topic6\", \"Topic6\", \"Topic6\", \"Topic6\", \"Topic6\", \"Topic6\", \"Topic6\", \"Topic6\", \"Topic6\", \"Topic6\", \"Topic6\", \"Topic6\", \"Topic6\", \"Topic6\", \"Topic6\", \"Topic7\", \"Topic7\", \"Topic7\", \"Topic7\", \"Topic7\", \"Topic7\", \"Topic7\", \"Topic7\", \"Topic7\", \"Topic7\", \"Topic7\", \"Topic7\", \"Topic7\", \"Topic7\", \"Topic7\", \"Topic7\", \"Topic7\", \"Topic7\", \"Topic7\", \"Topic7\", \"Topic7\", \"Topic7\", \"Topic7\", \"Topic7\", \"Topic7\", \"Topic7\", \"Topic7\", \"Topic7\", \"Topic7\", \"Topic7\", \"Topic7\", \"Topic7\", \"Topic7\", \"Topic7\", \"Topic7\", \"Topic7\", \"Topic7\", \"Topic7\", \"Topic7\", \"Topic7\", \"Topic7\", \"Topic7\", \"Topic7\", \"Topic7\", \"Topic7\", \"Topic7\", \"Topic7\", \"Topic7\", \"Topic7\", \"Topic7\", \"Topic7\", \"Topic7\", \"Topic7\", \"Topic7\", \"Topic7\", \"Topic7\", \"Topic7\", \"Topic7\", \"Topic7\", \"Topic7\", \"Topic7\", \"Topic8\", \"Topic8\", \"Topic8\", \"Topic8\", \"Topic8\", \"Topic8\", \"Topic8\", \"Topic8\", \"Topic8\", \"Topic8\", \"Topic8\", \"Topic8\", \"Topic8\", \"Topic8\", \"Topic8\", \"Topic8\", \"Topic8\", \"Topic8\", \"Topic8\", \"Topic8\", \"Topic8\", \"Topic8\", \"Topic8\", \"Topic8\", \"Topic8\", \"Topic8\", \"Topic8\", \"Topic8\", \"Topic8\", \"Topic8\", \"Topic8\", \"Topic8\", \"Topic8\", \"Topic8\", \"Topic8\", \"Topic8\", \"Topic8\", \"Topic8\", \"Topic8\", \"Topic8\", \"Topic8\", \"Topic8\", \"Topic8\", \"Topic8\", \"Topic8\", \"Topic8\", \"Topic8\", \"Topic8\", \"Topic8\", \"Topic8\", \"Topic8\", \"Topic8\", \"Topic8\", \"Topic8\", \"Topic8\", \"Topic8\", \"Topic8\", \"Topic9\", \"Topic9\", \"Topic9\", \"Topic9\", \"Topic9\", \"Topic9\", \"Topic9\", \"Topic9\", \"Topic9\", \"Topic9\", \"Topic9\", \"Topic9\", \"Topic9\", \"Topic9\", \"Topic9\", \"Topic9\", \"Topic9\", \"Topic9\", \"Topic9\", \"Topic9\", \"Topic9\", \"Topic9\", \"Topic9\", \"Topic9\", \"Topic9\", \"Topic9\", \"Topic9\", \"Topic9\", \"Topic9\", \"Topic9\", \"Topic9\", \"Topic9\", \"Topic9\", \"Topic9\", \"Topic9\", \"Topic9\", \"Topic9\", \"Topic9\", \"Topic9\", \"Topic9\", \"Topic9\", \"Topic9\", \"Topic9\", \"Topic9\", \"Topic9\", \"Topic9\", \"Topic9\", \"Topic9\", \"Topic9\", \"Topic9\", \"Topic9\", \"Topic9\", \"Topic9\", \"Topic9\", \"Topic9\", \"Topic9\", \"Topic9\", \"Topic9\", \"Topic9\", \"Topic9\", \"Topic10\", \"Topic10\", \"Topic10\", \"Topic10\", \"Topic10\", \"Topic10\", \"Topic10\", \"Topic10\", \"Topic10\", \"Topic10\", \"Topic10\", \"Topic10\", \"Topic10\", \"Topic10\", \"Topic10\", \"Topic10\", \"Topic10\", \"Topic10\", \"Topic10\", \"Topic10\", \"Topic10\", \"Topic10\", \"Topic10\", \"Topic10\", \"Topic10\", \"Topic10\", \"Topic10\", \"Topic10\", \"Topic10\", \"Topic10\", \"Topic10\", \"Topic10\", \"Topic10\", \"Topic10\", \"Topic10\", \"Topic10\", \"Topic10\", \"Topic10\", \"Topic10\", \"Topic10\", \"Topic10\", \"Topic10\", \"Topic10\", \"Topic10\", \"Topic10\", \"Topic10\", \"Topic10\", \"Topic10\", \"Topic10\", \"Topic10\", \"Topic10\", \"Topic10\", \"Topic10\", \"Topic10\", \"Topic10\", \"Topic10\", \"Topic10\", \"Topic10\", \"Topic10\", \"Topic10\", \"Topic10\"], \"Freq\": [1720.0, 1699.0, 1067.0, 774.0, 623.0, 2016.0, 575.0, 626.0, 747.0, 474.0, 599.0, 460.0, 611.0, 597.0, 671.0, 483.0, 669.0, 613.0, 455.0, 456.0, 367.0, 474.0, 548.0, 403.0, 436.0, 374.0, 349.0, 345.0, 627.0, 454.0, 174.4967465223438, 131.0093494222435, 191.11579336585194, 118.39644389383135, 113.64326160640258, 104.26093796701664, 98.88910277199643, 92.19843093968294, 98.29812350696123, 90.37430120473427, 85.75933753212013, 77.2772753539372, 74.26698030121369, 72.90937740435356, 82.5357859765348, 70.03806321860189, 67.12346495667217, 79.48413616511337, 65.49487597486008, 63.88664819504484, 62.5756510966992, 73.38710280171733, 59.98916511379855, 57.92392494290405, 58.217429976314, 56.80473358205096, 54.74345345648407, 54.310154948769465, 52.87577545440534, 52.49838823232708, 294.33984798135845, 59.76464951179841, 62.53185425189934, 197.4939440366538, 184.78058988827144, 152.62670193391727, 148.83062096211827, 141.96305484427913, 69.39439495256161, 64.81234994461433, 239.21571492100247, 113.88344662292835, 119.62908802393973, 144.99392743476633, 103.24000717545427, 133.72077425615484, 273.09931410082737, 350.2335214617071, 106.22371169771365, 117.3702071349652, 120.92307658679266, 466.7710442822828, 180.82243928682016, 276.6300611733492, 274.55633611203723, 168.261440117059, 146.1340766833825, 239.0113074378172, 215.83290801292324, 160.1165138215802, 300.5668439126329, 192.42078266990367, 151.18735857348574, 249.01760386224132, 196.71685833137207, 215.49681575343976, 195.09801996075848, 186.61415050272268, 166.9480672481645, 174.82259706730275, 200.47061583754112, 214.79276998574164, 173.0856206335486, 190.5801264644991, 174.88591226848976, 176.59135163007724, 172.19456101817184, 773.3187561957081, 574.2583311679851, 344.80312262612915, 240.12958419801566, 150.96970979691253, 143.94601576352102, 143.77883316157397, 201.79247664647363, 118.77433753816314, 110.2348945265139, 103.10147704310953, 91.29632121389847, 87.60730728602252, 85.86677466552445, 83.00775166261869, 82.47056954240446, 79.26209062878694, 77.72675123990916, 75.53976076827168, 70.882052284038, 70.59267157067586, 68.77530249601332, 142.65649974315912, 62.83797733734461, 62.23319010076543, 61.35695889124832, 58.72249923759623, 59.7356123875064, 56.91634426208786, 55.42141831075512, 100.34924131423853, 66.65955807543607, 601.3135924706702, 86.38035953353486, 226.63831298728553, 556.9719990652728, 546.1934265342, 403.3079705969139, 267.6887848216574, 221.560228508505, 304.7132086877315, 422.6097535684046, 188.38356980203045, 180.38948385675874, 501.6812020527391, 589.7177147766819, 285.44440603630335, 1202.1156561133746, 136.28160617988465, 197.14588525294403, 175.807196836119, 289.8501408185067, 1093.4939475373112, 204.82411277251197, 357.40070252025964, 186.296791264172, 190.34371898603894, 199.82219078802152, 302.36406388234354, 227.00945098221382, 230.71025854638427, 254.1309450990272, 223.46047222647064, 220.89815433346018, 220.87006442538492, 213.68888886682768, 204.21022844070558, 349.0765279582186, 233.55446456375884, 187.86234409472777, 223.00015568305295, 161.14427656657182, 124.48138385084337, 124.34865734465339, 109.6115678898461, 104.17290753518262, 97.7938407435764, 90.63906772414278, 87.38798110014936, 87.17077823097276, 84.76516407975011, 82.04890492071515, 85.25314439100038, 85.7556194607341, 75.70226234599592, 73.81640150700912, 73.74601584269905, 72.22940377834452, 70.99917884902112, 70.31152955624944, 81.55567247514148, 63.446420827908796, 63.43077888786279, 62.28579767561727, 61.99967112876792, 61.37776752188477, 60.866541271274066, 147.64413515754103, 69.0293647969161, 389.51050186196073, 437.5138532340147, 434.87854565298323, 80.86213479470847, 978.455294889983, 146.34672948006133, 334.56983784184484, 124.66806690321461, 146.55117161767095, 156.36741896576842, 532.1404091765045, 122.01848480539293, 242.29877142239042, 241.44477699162903, 287.59506232907984, 383.9554161577449, 472.0770815339795, 147.58168257277592, 343.71642846883896, 144.38629073783522, 207.6641830195447, 154.99793521835036, 162.3066369432717, 175.7385545328619, 314.7411159317609, 200.59841646960746, 163.98102782498242, 250.60121029406992, 466.26404138698956, 230.1602430719199, 337.1924850956348, 219.02121207908414, 200.79500231393385, 191.7810208848883, 173.40544746533172, 112.01416643963064, 109.59290371524793, 100.9018833113559, 96.23707256604003, 95.05230603196492, 97.36197822070933, 93.43059332156193, 135.51252931567055, 87.42669475506891, 82.74784319202787, 81.5701391110823, 82.67273037746217, 79.3022196087909, 87.40265465616167, 78.02100816177813, 80.5337723324741, 75.76974283566176, 75.49011552468934, 74.03010360285418, 70.75280889443823, 74.88594904929762, 97.58226080874437, 61.67186664787896, 59.06665388551173, 58.72101835046907, 58.138791955904395, 57.983262938470936, 57.52234458427335, 56.784619715038936, 260.369777859354, 244.39646805456007, 119.2995998554553, 110.67657622541347, 96.356871486286, 95.67892714576409, 86.61113915743603, 196.93019214515843, 129.2403435883736, 270.73413207293083, 356.89859361562765, 84.57757778871105, 182.46134618702436, 137.30181971078096, 185.78936730756152, 154.71920501642808, 244.70909091814488, 259.21102345441153, 238.3159702605185, 225.88222842677808, 371.14906590644927, 127.48371816851798, 116.12593909948069, 190.78556188729837, 158.4740072261846, 192.51370964240692, 157.50012000006265, 139.5558199871496, 272.9745908307801, 151.41942024694902, 157.31088949865895, 198.3211493269021, 170.13975193077374, 283.80951333284804, 181.99054231898668, 148.46266802420482, 232.73992478580084, 187.79881160128298, 164.06530310290745, 153.53168144345793, 269.3372931566001, 161.39171337782332, 161.5556369826722, 145.42968065391398, 139.52596889444828, 138.37696809620934, 132.39890686288064, 131.89290496932992, 173.10227576761585, 119.22432166420137, 118.79207171771252, 109.1940740042005, 109.27013946717751, 108.31831091748973, 107.98878894343048, 178.34961555453813, 103.56058514334232, 254.84993815994073, 98.68027329091636, 97.49585872474115, 95.80812844211248, 95.23152087430928, 92.53105614007822, 119.51481390560873, 87.69157852822688, 91.25557180393926, 84.8154140720897, 82.21478065194174, 79.15558846970096, 79.02458411935072, 232.63451696922385, 134.98572039461757, 125.41043497970335, 135.62531686862766, 366.3515452520845, 402.11697927075943, 103.20687060166179, 111.75843800248377, 374.61496501088294, 165.09665162900455, 118.56770846873026, 199.90578999446618, 340.2786052496436, 253.8244831397965, 132.66241882151266, 171.59311025231702, 265.7888310936074, 197.15994484562881, 181.8280945149263, 209.52901222809243, 166.8857132922014, 157.90353826814896, 189.62036109003017, 179.3918161931553, 180.6863966615233, 151.88526647741654, 137.41508047565884, 142.25367034073628, 142.99890797901378, 261.8091167675318, 240.1658952903379, 169.81793506113468, 147.10536318675886, 133.5977705855633, 125.51902978467375, 117.68001792395306, 122.11557917627137, 105.39474197422054, 99.60101007900693, 110.11118976272616, 91.30601743059391, 89.74506477577202, 89.22044408742974, 87.78273899525914, 86.77159315780624, 94.56428360867392, 167.12523568507848, 78.72146913490374, 78.3369368048878, 77.95893239081218, 77.27080283259028, 73.92707748131087, 72.60393822518398, 72.20982707941444, 109.6052882640352, 66.16041785824645, 64.60786360051839, 62.91271208583317, 59.86674086382029, 136.85396277321226, 75.53441178632819, 355.53883051171886, 88.89579976509096, 129.27354101287918, 149.85100093776117, 111.7348190474643, 99.2262987306602, 125.1481697704858, 146.4561166363583, 184.32747623428523, 170.62438461721734, 402.55386769377225, 231.65259163705883, 271.612711463941, 158.55307126812698, 305.0016855013985, 231.97497805931943, 165.7541662698205, 135.04650480402285, 139.68584821106782, 209.35516793557403, 189.59614150426546, 209.76465506344562, 155.62630439642058, 138.11539111064576, 179.67097626162519, 157.5687508785949, 174.75679015488632, 150.63053339285008, 154.00102082657102, 140.73151983648765, 137.50150731135545, 276.03295448668825, 210.14324411078366, 197.57407344424192, 152.2182116994678, 141.87971703372358, 101.03722812028992, 117.33865452231167, 96.4178612797402, 95.85105438836086, 95.45865214484766, 92.1262110305517, 90.39242278762744, 90.09525043129163, 88.00025833944296, 85.35605981956824, 82.49758611495271, 81.24120343508876, 79.07630180485465, 78.0838632709931, 74.41092658058582, 72.42686818205978, 71.8683244331652, 71.65975632985706, 72.14710206282697, 97.88607967851138, 68.98718850397285, 68.68733484658036, 69.80804738657281, 67.9916355047717, 66.25163118931215, 91.70349252056336, 127.48933060290916, 156.9618065649106, 167.17246933707418, 128.75403384729984, 231.69344733896315, 103.01673494252177, 90.71882712578072, 225.53969477108168, 299.4513479021285, 181.39028547742686, 176.29634747665844, 173.5554624868266, 122.57484200993754, 148.7957505727061, 238.75117674775743, 129.356693365035, 164.1096312342071, 137.33870638506374, 273.0434861588445, 117.06532672132208, 139.74781960041392, 175.09825361414048, 153.9544768437529, 278.37340519198153, 191.89776508476865, 120.37230319066917, 205.6318726384491, 156.65827035055062, 125.1520703933434, 127.8777361519099, 622.493194932962, 459.7549325262535, 198.8842116863594, 170.57793099647452, 164.44335704496538, 161.64271514025899, 135.57046970474082, 118.98888083564451, 101.81652756438017, 100.08337888673677, 98.21458980779852, 97.82311513892053, 93.99406156775841, 99.49059991560141, 137.7502283957353, 86.33068367841182, 84.61755419541181, 98.2157684626274, 78.77891605523848, 77.45259434349738, 80.01197604639832, 75.1388275949356, 71.41023761929335, 69.3672072738767, 68.09400248659712, 70.7088523640254, 67.69816044180673, 67.03171512144975, 75.01020319916488, 65.62311470705475, 456.5813655468755, 75.72128825586411, 121.91064972980956, 79.34546787166153, 517.3878767725525, 154.8561259048073, 275.07984332925173, 307.54565504873733, 97.10805854062079, 186.74414692264062, 115.1646877351656, 234.16649232669812, 282.24000283610746, 96.73987154076887, 144.35775755877313, 120.29986453866441, 143.33233780263078, 146.4137677681288, 170.10085330125554, 214.36335895179954, 166.8472968846257, 160.44988370361236, 154.23187485273658, 113.87296661051342, 128.18752371096983, 130.1453351938016, 127.44511729747568, 473.1601718262906, 366.78090179017585, 193.15810699375223, 191.5973797854166, 176.49053975700798, 167.56714905223876, 136.94557589798652, 133.32592776717235, 128.08431154064013, 127.89013401357319, 117.51987392304768, 114.18424956025616, 108.54093205350672, 103.41770331791673, 102.13088153660752, 100.53690387697846, 99.21560864993822, 97.89409041465859, 97.20706615060605, 88.44208525042703, 88.1992570395848, 95.42805227886558, 86.56798565943306, 85.68585545509502, 79.969458251385, 78.71959258837984, 77.78068409952552, 77.47582484855563, 76.92564842819728, 76.23090035166923, 90.33787608857244, 83.3452586803044, 179.8144995262567, 118.93796616691515, 117.93792351048027, 164.67862880693534, 130.55125706953027, 169.39834997030246, 178.15165666047628, 210.2351817658091, 188.2272258102505, 122.91656407884143, 180.70878450217694, 121.25559502439539, 195.51729861340795, 197.60008482434753, 227.90434497478685, 172.43108108134433, 140.2342324908583, 375.37864768074303, 150.50915852594423, 290.78767487419117, 161.78714484449904, 170.9983227779939, 167.29009213060215, 220.49046468808018, 259.29302262056433, 240.27825779574772, 143.8832336907473, 139.9454314037925, 272.67327394583356, 171.65981222300408, 151.22029673469555, 134.54704668529965, 133.52721640289784, 126.58230674956745, 210.7631554176929, 110.65654076023792, 105.49906116555034, 102.39509123291592, 98.63728423380614, 108.74005263181469, 90.47371785988247, 87.21626837031259, 82.90355503753865, 82.66271926798846, 79.27873332535566, 78.81203088543192, 73.90754593638013, 74.08305163912028, 72.55619507642072, 72.33497292290245, 76.94048629519511, 70.59666292690127, 69.91028912403635, 68.03125209408569, 67.72477491642992, 64.91456495988467, 63.44549757344547, 71.18123272458904, 87.08587102729122, 77.64602013434569, 87.5422587322273, 1459.2625963110156, 162.0802520961377, 110.34864629003776, 112.24302371787553, 103.75283852045315, 81.7244421395573, 186.41831413785624, 143.04724200010338, 262.88820602974323, 155.5862812707789, 189.04260070434833, 165.91698893709366, 112.1624917018636, 211.0023378339117, 113.6293528770511, 266.24656053166103, 164.18856269800463, 121.23317747069487, 215.6675603838251, 127.84146413075332, 214.99845346301183, 123.58817500302328, 153.8506447188605, 161.90745034922097, 119.38494932916866, 126.676096619887, 127.99904058201325, 112.76975676637052], \"Term\": [\"interview\", \"man\", \"court\", \"crash\", \"abc\", \"police\", \"dies\", \"car\", \"charged\", \"country\", \"killed\", \"news\", \"accused\", \"missing\", \"rural\", \"business\", \"murder\", \"woman\", \"sex\", \"charges\", \"hour\", \"dead\", \"market\", \"guilty\", \"search\", \"rain\", \"assault\", \"fatal\", \"coast\", \"final\", \"illegal\", \"pledges\", \"councils\", \"gaza\", \"milk\", \"arrests\", \"looms\", \"deadline\", \"infrastructure\", \"emissions\", \"csg\", \"smash\", \"palmer\", \"exploration\", \"burns\", \"afp\", \"lights\", \"projects\", \"regions\", \"dubbo\", \"comment\", \"update\", \"cancelled\", \"saudi\", \"fishermen\", \"today\", \"democrats\", \"clues\", \"academic\", \"iemma\", \"rail\", \"wage\", \"irrigation\", \"dairy\", \"break\", \"closure\", \"fishing\", \"israel\", \"muslim\", \"fishers\", \"greens\", \"uranium\", \"domestic\", \"upgrade\", \"syria\", \"revamp\", \"funds\", \"funding\", \"racing\", \"fish\", \"roads\", \"govt\", \"federal\", \"government\", \"urged\", \"coal\", \"korea\", \"boost\", \"mp\", \"violence\", \"council\", \"industry\", \"scheme\", \"plan\", \"power\", \"calls\", \"help\", \"fears\", \"mining\", \"changes\", \"water\", \"new\", \"group\", \"nsw\", \"farmers\", \"police\", \"says\", \"crash\", \"dies\", \"fatal\", \"accident\", \"afghan\", \"crashes\", \"soldiers\", \"shot\", \"baghdad\", \"chase\", \"prize\", \"toddler\", \"arson\", \"roosters\", \"said\", \"korean\", \"attacked\", \"kings\", \"invasion\", \"taliban\", \"information\", \"collision\", \"rescued\", \"marathon\", \"pursuit\", \"helicopter\", \"flow\", \"assaulted\", \"pedestrian\", \"shoot\", \"pilot\", \"trees\", \"car\", \"incident\", \"plane\", \"killed\", \"missing\", \"search\", \"shooting\", \"kills\", \"driver\", \"dead\", \"truck\", \"boy\", \"woman\", \"charged\", \"injured\", \"man\", \"afghanistan\", \"bomb\", \"blast\", \"arrested\", \"police\", \"investigate\", \"attack\", \"hunt\", \"stabbing\", \"teen\", \"sydney\", \"jailed\", \"probe\", \"death\", \"hit\", \"road\", \"house\", \"home\", \"wins\", \"assault\", \"bail\", \"rape\", \"pleads\", \"detention\", \"human\", \"petrol\", \"sexual\", \"mount\", \"construction\", \"ruling\", \"refused\", \"granted\", \"springs\", \"lawyers\", \"female\", \"promise\", \"cop\", \"mobile\", \"isa\", \"dropped\", \"offences\", \"jails\", \"candidates\", \"scrutiny\", \"dpp\", \"disappointed\", \"denied\", \"priest\", \"nation\", \"fraud\", \"manslaughter\", \"guilty\", \"sex\", \"charges\", \"shopping\", \"court\", \"evidence\", \"faces\", \"judge\", \"liberals\", \"rights\", \"accused\", \"killer\", \"abuse\", \"alleged\", \"appeal\", \"trial\", \"murder\", \"alice\", \"case\", \"telstra\", \"charge\", \"loses\", \"hears\", \"legal\", \"face\", \"told\", \"ex\", \"child\", \"man\", \"inquiry\", \"police\", \"election\", \"labor\", \"jailed\", \"firefighters\", \"suspicious\", \"porn\", \"appeals\", \"disability\", \"mans\", \"unit\", \"pilbara\", \"crews\", \"blood\", \"criticised\", \"pole\", \"icac\", \"hicks\", \"ama\", \"pays\", \"avoids\", \"orange\", \"considered\", \"abattoir\", \"womans\", \"wagga\", \"funeral\", \"leading\", \"going\", \"birth\", \"brothers\", \"katherine\", \"hong\", \"ag\", \"cancer\", \"care\", \"term\", \"banned\", \"owners\", \"marine\", \"patient\", \"warned\", \"horse\", \"warning\", \"indigenous\", \"gp\", \"doctors\", \"issues\", \"sparks\", \"goes\", \"safety\", \"concerns\", \"study\", \"blaze\", \"health\", \"prompts\", \"creek\", \"threat\", \"risk\", \"jail\", \"research\", \"drivers\", \"death\", \"finds\", \"bushfire\", \"school\", \"service\", \"new\", \"child\", \"station\", \"police\", \"govt\", \"report\", \"hospital\", \"tigers\", \"round\", \"st\", \"james\", \"warriors\", \"bulls\", \"knights\", \"wall\", \"broken\", \"eagles\", \"bulldogs\", \"crows\", \"hawks\", \"hewitt\", \"summary\", \"shares\", \"redbacks\", \"share\", \"bangladesh\", \"stocks\", \"iron\", \"saints\", \"dragons\", \"sharks\", \"dockers\", \"brumbies\", \"ore\", \"blacks\", \"walk\", \"gains\", \"blues\", \"reds\", \"wrap\", \"finals\", \"final\", \"market\", \"chance\", \"federer\", \"win\", \"beat\", \"higher\", \"closer\", \"day\", \"test\", \"game\", \"clash\", \"open\", \"storm\", \"hill\", \"cup\", \"india\", \"afl\", \"australian\", \"set\", \"australia\", \"second\", \"wallabies\", \"lead\", \"new\", \"nrn\", \"toll\", \"sri\", \"quake\", \"lanka\", \"fruit\", \"fly\", \"storms\", \"chopper\", \"heavy\", \"wool\", \"easter\", \"spotlight\", \"winds\", \"donald\", \"dozens\", \"crops\", \"bali\", \"forecast\", \"pga\", \"crowd\", \"citrus\", \"posts\", \"brother\", \"haul\", \"holds\", \"apple\", \"clashes\", \"predicted\", \"mexico\", \"flooding\", \"stock\", \"rain\", \"bust\", \"crop\", \"rises\", \"turn\", \"whale\", \"harvest\", \"grain\", \"week\", \"growers\", \"coast\", \"job\", \"record\", \"floods\", \"gold\", \"drought\", \"stay\", \"wine\", \"united\", \"cuts\", \"hits\", \"budget\", \"expected\", \"profit\", \"farmers\", \"big\", \"qld\", \"north\", \"nsw\", \"year\", \"new\", \"climate\", \"carbon\", \"obama\", \"surgery\", \"origin\", \"seat\", \"anzac\", \"tourists\", \"unveils\", \"anger\", \"raiders\", \"farming\", \"matt\", \"islands\", \"unlikely\", \"burma\", \"love\", \"reserve\", \"meets\", \"extends\", \"fraser\", \"gather\", \"getting\", \"voters\", \"territory\", \"wrong\", \"ruled\", \"clinton\", \"destroys\", \"gallery\", \"ministers\", \"cabinet\", \"teachers\", \"gillard\", \"sheep\", \"abbott\", \"summit\", \"dont\", \"cattle\", \"change\", \"pacific\", \"howard\", \"nuclear\", \"politics\", \"visit\", \"tax\", \"turnbull\", \"bush\", \"qantas\", \"pm\", \"king\", \"energy\", \"state\", \"rudd\", \"says\", \"talks\", \"miss\", \"new\", \"china\", \"meeting\", \"australia\", \"abc\", \"news\", \"sport\", \"driving\", \"wind\", \"joins\", \"confidence\", \"celebrates\", \"jury\", \"analysis\", \"question\", \"prince\", \"entertainment\", \"al\", \"bird\", \"exchange\", \"pulp\", \"proposal\", \"swine\", \"base\", \"fair\", \"speak\", \"kangaroo\", \"does\", \"receives\", \"cap\", \"triple\", \"controversial\", \"options\", \"resignation\", \"business\", \"sells\", \"debt\", \"supports\", \"rural\", \"drink\", \"farm\", \"weather\", \"bhp\", \"flu\", \"heritage\", \"rejects\", \"national\", \"unions\", \"focus\", \"medical\", \"housing\", \"media\", \"minister\", \"new\", \"govt\", \"says\", \"council\", \"crisis\", \"claims\", \"plan\", \"report\", \"country\", \"hour\", \"2014\", \"2015\", \"drum\", \"extended\", \"2013\", \"capital\", \"october\", \"september\", \"august\", \"june\", \"darling\", \"november\", \"december\", \"april\", \"basin\", \"july\", \"tim\", \"decide\", \"votes\", \"irrigators\", \"february\", \"mission\", \"upper\", \"revealed\", \"kohler\", \"plus\", \"cameron\", \"resort\", \"press\", \"17\", \"march\", \"11\", \"hand\", \"expansion\", \"supply\", \"friday\", \"grandstand\", \"live\", \"david\", \"tuesday\", \"signs\", \"monday\", \"hobart\", \"murray\", \"port\", \"john\", \"dispute\", \"water\", \"markets\", \"council\", \"speaks\", \"green\", \"years\", \"plan\", \"interview\", \"new\", \"shire\", \"nsw\", \"asylum\", \"safe\", \"france\", \"quarter\", \"clarke\", \"seekers\", \"michael\", \"chris\", \"olympics\", \"seeker\", \"van\", \"ponting\", \"dangerous\", \"hands\", \"comes\", \"mitchell\", \"kim\", \"intervention\", \"resumes\", \"tight\", \"matthew\", \"cooper\", \"career\", \"canada\", \"ryan\", \"ferguson\", \"feature\", \"windies\", \"breakthrough\", \"spain\", \"steve\", \"sach\", \"ben\", \"interview\", \"scott\", \"johnson\", \"paul\", \"tiger\", \"malaysia\", \"smith\", \"squad\", \"tour\", \"mark\", \"team\", \"aussies\", \"andrew\", \"season\", \"timor\", \"world\", \"aussie\", \"stage\", \"cup\", \"games\", \"australia\", \"olympic\", \"lead\", \"wins\", \"podcast\", \"win\", \"says\", \"dogs\"], \"Total\": [1720.0, 1699.0, 1067.0, 774.0, 623.0, 2016.0, 575.0, 626.0, 747.0, 474.0, 599.0, 460.0, 611.0, 597.0, 671.0, 483.0, 669.0, 613.0, 455.0, 456.0, 367.0, 474.0, 548.0, 403.0, 436.0, 374.0, 349.0, 345.0, 627.0, 454.0, 175.39703400484362, 131.91464646712353, 192.45077150937868, 119.29495687601343, 114.56187880768873, 105.1594746453758, 99.78762332745455, 93.09695360796022, 99.27198609349415, 91.28093075165431, 86.67685113161032, 78.17582927224421, 75.16550053393608, 73.80787832924722, 83.56856706231135, 70.93684743989952, 68.02199008561243, 80.56390087170784, 66.39339235731093, 64.78516920336097, 63.47417082897249, 74.44933958348994, 60.895614229358166, 58.822460106352786, 59.13475729513701, 57.70326073254893, 55.64196487107943, 55.20868062189394, 53.774301023226556, 53.396897852237124, 300.48556577468213, 60.82376982637667, 63.703307970404374, 209.04575708636173, 195.50332675944162, 161.20942348012235, 157.1595228180976, 152.5153967361722, 71.23443741286445, 66.25324242653848, 285.3104855610302, 125.23529997037983, 133.26050037937588, 166.66157089359484, 112.74771271655729, 153.60237477035193, 374.029291343193, 528.6114967473379, 122.46972043358919, 140.23095071941734, 149.02037295709042, 1120.7160189477895, 288.1429856921961, 580.5016368525203, 577.2324235434455, 263.51977260271303, 211.1932074714316, 552.0560790104718, 481.0938451887091, 274.4216549651411, 1138.92815787, 432.59076161207923, 253.29458696522454, 883.453063292117, 491.9505828612598, 645.0370591525781, 501.09851803336994, 463.1122774955489, 353.1854837801003, 437.47575190249614, 899.7336632686308, 1727.7816815113044, 486.17202692448524, 900.1127548185855, 529.3322243922179, 2016.8356374831128, 1266.0990610397062, 774.2221339780243, 575.1592045912199, 345.7039829163747, 241.0304450878836, 151.87059979536374, 144.8468754533274, 144.68009998965326, 203.15329078670226, 119.68731763152694, 111.13576770186934, 104.00236629772301, 92.19717854871077, 88.50817231359201, 86.76769316512079, 83.90862086242562, 83.37146674119028, 80.16295655586327, 78.6280548919915, 76.47683354363566, 71.7829145849984, 71.49356456956451, 69.6761518121109, 144.6087963885531, 63.74008982292943, 63.13405658064805, 62.27360900668162, 59.6233990846061, 60.654508782901146, 57.81719585639381, 56.322341916291876, 102.42008863059273, 67.82034379672378, 626.3390513483286, 88.27273949055075, 236.56170414468608, 599.9159286231261, 597.3576525762575, 436.43014644566773, 286.5748724675385, 237.9940801554771, 333.36431647131263, 474.1077974893852, 204.55397454602468, 197.07630214240854, 613.203424975663, 747.8019336996795, 334.99576275177486, 1699.3796778509745, 146.0241551526939, 224.88517365593748, 197.4798123876106, 361.03255430358445, 2016.8356374831128, 247.18342102132354, 545.9475314054827, 233.00831602760502, 251.71271792640417, 301.89828481858126, 789.5210629428468, 428.5984491978135, 454.6750391931884, 811.4762154630494, 481.8198963986987, 491.2469217051404, 495.1276440225394, 605.2974658153113, 577.1561793754884, 349.97556918844623, 234.4526532006854, 188.76054173068127, 224.09277607633214, 162.19497296261764, 125.37959946355957, 125.24827387487885, 110.52228158616853, 105.07114276970705, 98.69208760184613, 91.53728223195533, 88.2870853606647, 88.06898345618777, 85.66336573936586, 82.94711245546522, 86.20185346966319, 86.76613711897116, 76.6004673211462, 74.71460960676723, 74.6442186819479, 73.12760320107041, 71.89736714611584, 71.20972934037587, 82.68035793701483, 64.3446404883718, 64.32897166452193, 63.18403516284478, 62.89786803279445, 62.2759545908276, 61.7647543702983, 150.3264486550244, 70.05726691209351, 403.3812563315322, 455.02412036291935, 456.41728630088147, 82.32810639981078, 1067.8782181219822, 150.91118623136606, 357.3447491195783, 129.28462065936472, 153.898507282452, 165.22566744270037, 611.8246888330257, 127.91129264810662, 282.23460831286536, 289.513722947194, 358.8474395816478, 513.7930030989088, 669.1566453625652, 165.86325670450918, 460.43556756985913, 163.15836045524887, 264.65316466517856, 180.55635131313508, 193.54949396745894, 223.35494921688, 550.5281274057686, 283.4906059917464, 208.27851871461615, 485.05076291176084, 1699.3796778509745, 423.6945002686145, 2016.8356374831128, 545.7279582442694, 502.73545725900993, 428.5984491978135, 174.55710880638713, 112.91111755252281, 110.48987797670691, 101.79885820166683, 97.13403127660149, 95.94934386272311, 98.29338322200205, 94.32756429110044, 136.8480966584263, 88.32366115407761, 83.64481433539581, 82.46711718158454, 83.60717944672888, 80.199183416041, 88.41790611745654, 78.92921964534932, 81.47546757141004, 76.66671712778863, 76.38707873382734, 74.92706658122844, 71.64978618441613, 75.92589006983805, 98.99475583211765, 62.56885787041323, 59.96364068549388, 59.61797786546238, 59.03578145233709, 58.88022929062058, 58.41928803537984, 57.68157800843342, 267.12365414073133, 251.3440919241702, 121.9427157101706, 113.28441868369568, 98.7419354243748, 99.35768638602175, 89.7017528373745, 223.85641171675397, 143.59114862892812, 343.39621450973976, 481.35360917678213, 87.61446650034577, 223.89521838179888, 158.58521965494805, 237.15369896099304, 190.88362970432198, 349.2903254405003, 379.50629483581577, 342.3819973423495, 326.24553986993527, 741.305489501259, 154.32172954758872, 134.35309187047153, 307.48641741366384, 246.19293630464045, 353.4636199379799, 256.28547047137005, 205.17429545935028, 811.4762154630494, 252.9321491265755, 287.4302379573082, 550.4329318705704, 365.6939221672744, 1727.7816815113044, 485.05076291176084, 278.66235787147525, 2016.8356374831128, 1120.7160189477895, 757.102879522417, 699.6080025258564, 270.2672151513144, 162.28897539760473, 162.45505341571933, 146.32768796214285, 140.4232124341628, 139.27420588884507, 133.29616270811923, 132.79016317813566, 174.3517553474474, 120.12156816863764, 119.68954685928821, 110.09132237286553, 110.16885303183987, 109.2155565453652, 108.88602340233199, 179.89096398209546, 104.4578235671832, 257.1251715116651, 99.5776281789712, 98.40021569924234, 96.70537913555238, 96.12876583878852, 93.42948144701163, 120.73498345375377, 88.59280694836491, 92.19839862879519, 85.71265781168186, 83.1120364458665, 80.05288669326796, 79.921837589611, 239.22837984910933, 139.13660297631228, 130.64625514216564, 142.8604274211956, 454.4562905996542, 548.4693049593853, 107.52084730517738, 119.348966938047, 648.3696917919499, 209.4022172203932, 131.4213860073101, 291.21364617207325, 667.0091371264841, 437.4140415177438, 157.4743385014877, 244.31930815089555, 533.4720220331701, 313.3089273859969, 275.0383914721611, 562.3734808702877, 301.4513634980009, 292.8557769237893, 770.0289757782242, 611.0780105334733, 885.690681313246, 339.6673349113207, 191.9602339919853, 405.89960118378474, 1727.7816815113044, 262.7020465473173, 241.0588153967778, 170.71084754732064, 148.0576753701772, 134.49067999300385, 126.41194610976083, 118.57294805237235, 123.07593255112847, 106.28769639881654, 100.49394022669112, 111.14790791786224, 92.1989612123962, 90.63800258335606, 90.11360915881146, 88.67566591566569, 87.66455584662597, 95.56541505843005, 168.9091061168906, 79.61446727602168, 79.22989488281652, 78.86620735193911, 78.20053096434508, 74.82510208872381, 73.49852454574355, 73.1027625849331, 111.02382881365858, 67.05333958061495, 65.50079516503564, 63.80562664829378, 60.759675942514804, 139.20675386893498, 76.85412581754335, 374.7894622238542, 90.81347397126595, 136.83705650819738, 161.05181374448068, 118.24360990712258, 103.77168174467766, 136.45491911089707, 164.80088477838362, 219.36802958982187, 205.47910688078926, 627.0231762180733, 327.47521190440756, 424.3225415126705, 203.53986975351316, 525.3987585891618, 369.0951634836852, 227.57192423718485, 166.6643474967693, 176.10423303939035, 359.5908934251039, 309.3748006519345, 475.522762156779, 242.967404411488, 187.02720876867812, 529.3322243922179, 420.13739897090284, 827.2863257039901, 486.1907212584225, 900.1127548185855, 491.3845847480412, 1727.7816815113044, 276.92650607397064, 211.03680087548167, 198.4688310454949, 153.1116777233326, 142.77319102020093, 101.93070956693806, 118.40535767534166, 97.31135086546931, 96.74452227907585, 96.3521445148121, 93.01969439655447, 91.28589356042673, 90.98873409006792, 88.89371971520225, 86.24964513858718, 83.40720049081922, 82.14134627662332, 79.96977162705986, 78.97733612169475, 75.30441794867507, 73.32034814826285, 72.7622455315106, 72.55326896515551, 73.04929678627983, 99.14830457830628, 69.88066350137815, 69.58081439082281, 70.72093178479005, 68.8851013418976, 67.14510965370481, 93.36468255710072, 130.81538160364943, 163.65207473747734, 175.291611240565, 138.65648360062616, 267.97985941055305, 108.92281587667173, 94.60426724746097, 268.9871012699063, 402.8084753101929, 220.5408815267282, 220.23822431626317, 221.88480079102473, 142.32169031960422, 185.77678531737547, 371.4895676085467, 157.860200136378, 229.67037137178116, 176.01770489023957, 530.4994657936825, 139.82732761898316, 200.52408421369492, 348.6988327639534, 269.11321644691924, 1266.0990610397062, 559.7683704303283, 174.08492650367964, 1727.7816815113044, 571.703809592658, 265.89342556527214, 885.690681313246, 623.3853660480579, 460.6471075333408, 199.7763758512421, 171.47065060654214, 165.33553619703628, 162.53492205307757, 136.46264253653436, 119.88107328515675, 102.70871657253126, 100.97554082523723, 99.10678959807214, 98.7153008408351, 94.88621227781562, 100.4954755281685, 139.15173249858992, 87.22287218064582, 85.50973030893627, 99.29801441043743, 79.67107476718859, 78.34480971392945, 80.95803284476217, 76.03101119980282, 72.3024205139522, 70.2593955947855, 68.9861995330306, 71.63918042814318, 68.59036137336123, 67.92390387450351, 76.01603859951909, 66.5152882186735, 483.39780709713557, 77.15546067228473, 128.86720358907317, 81.69558922350039, 671.6757932310928, 175.90172439884236, 343.7002355812797, 396.814937015452, 103.55178590013921, 227.12355450731638, 131.3495694067939, 332.4748348482595, 532.3534416590611, 108.58864739361795, 208.77132924828314, 157.8960521031078, 325.0416838039498, 348.9691558681697, 543.1270626535861, 1727.7816815113044, 1120.7160189477895, 1266.0990610397062, 1138.92815787, 242.25234705067118, 567.1349131211222, 883.453063292117, 757.102879522417, 474.04875831621365, 367.66945870334314, 194.0466829697311, 192.48596284556268, 177.37909524454574, 168.45573710636532, 137.834150420127, 134.21451191991665, 128.9728746345292, 128.77869732890264, 118.40843319734748, 115.07281995712762, 109.42949787407996, 104.30626602042474, 103.01945647692189, 101.4254727806877, 100.10418434058978, 98.78265803302224, 98.09565388166813, 89.33068147810393, 89.08784796082311, 96.406355001747, 87.45655166117342, 86.57446573017543, 80.85805705593553, 79.60957253506494, 78.66924888417013, 78.36438752634645, 77.81424199143063, 77.11949145030752, 91.41070079458028, 84.32209356653324, 183.93061772957554, 121.16325220711992, 121.34948447676076, 173.82636472581603, 136.17039417625668, 183.82042369978728, 199.09923045940639, 247.36572663143428, 218.0154628560087, 133.70694140269845, 218.61516261218944, 131.63638493770281, 254.28042501755533, 284.51963111504284, 368.8306336864028, 239.1989617156483, 171.70044579469885, 899.7336632686308, 224.88085793230664, 1138.92815787, 279.55089546193346, 334.40066612518063, 359.6220651952268, 883.453063292117, 1720.0566667777819, 1727.7816815113044, 245.3149974590352, 900.1127548185855, 273.5609479582519, 172.5504624824803, 152.1393965511387, 135.4347197569065, 134.41488118634155, 127.46996698021302, 212.26103515359708, 111.55558878684879, 106.38676367901562, 103.2827519706667, 99.52498605400625, 109.74481087935385, 91.36141497204571, 88.10396983223546, 83.79123903466069, 83.55038516633657, 80.16863438803618, 79.69973304445344, 74.79524110256529, 74.97591643490763, 73.44385960044409, 73.22264319983898, 77.8863067243144, 71.48452366886559, 70.79796939773043, 68.91893581334978, 68.6124529700237, 65.80222836010503, 64.33317871787229, 72.18400875401545, 88.69901719825658, 79.09854307389607, 89.52225541742699, 1720.0566667777819, 171.93174106025515, 114.82186454808125, 117.72877392824124, 109.50386756775377, 84.375479048013, 224.53638668334986, 163.940724702573, 355.9992639612334, 189.296802290502, 251.5330796942751, 223.40438777697662, 131.69348962139242, 344.9516584880377, 142.7445371080402, 641.2292612303162, 308.7964747629723, 171.8800718864823, 562.3734808702877, 201.62132859590568, 885.690681313246, 185.74670977340156, 405.89960118378474, 577.1561793754884, 206.60463568710233, 648.3696917919499, 1266.0990610397062, 159.29267637089725], \"loglift\": [30.0, 29.0, 28.0, 27.0, 26.0, 25.0, 24.0, 23.0, 22.0, 21.0, 20.0, 19.0, 18.0, 17.0, 16.0, 15.0, 14.0, 13.0, 12.0, 11.0, 10.0, 9.0, 8.0, 7.0, 6.0, 5.0, 4.0, 3.0, 2.0, 1.0, 2.1453, 2.1435, 2.1435, 2.1429, 2.1424, 2.1418, 2.1414, 2.1407, 2.1406, 2.1404, 2.1398, 2.1389, 2.1384, 2.1382, 2.138, 2.1377, 2.1371, 2.1369, 2.1368, 2.1365, 2.1362, 2.1361, 2.1354, 2.135, 2.1348, 2.1347, 2.1341, 2.134, 2.1336, 2.1335, 2.1298, 2.1329, 2.1319, 2.0936, 2.094, 2.0957, 2.096, 2.0787, 2.1243, 2.1284, 1.9742, 2.0554, 2.0425, 2.0111, 2.0623, 2.0118, 1.8359, 1.7388, 2.0081, 1.9725, 1.9415, 1.2745, 1.6845, 1.4092, 1.4073, 1.7018, 1.7822, 1.3133, 1.3489, 1.6117, 0.8182, 1.3403, 1.6344, 0.8841, 1.2338, 1.0541, 1.2071, 1.2415, 1.4011, 1.2332, 0.649, 0.0655, 1.1176, 0.598, 1.0429, -0.285, 0.1553, 2.1767, 2.1763, 2.1752, 2.1741, 2.1719, 2.1716, 2.1716, 2.1711, 2.1702, 2.1697, 2.1691, 2.168, 2.1676, 2.1674, 2.167, 2.167, 2.1665, 2.1663, 2.1655, 2.1652, 2.1652, 2.1648, 2.1642, 2.1636, 2.1635, 2.163, 2.1626, 2.1626, 2.1621, 2.1617, 2.1574, 2.1606, 2.1371, 2.1562, 2.135, 2.1036, 2.0883, 2.0989, 2.1097, 2.1063, 2.088, 2.0629, 2.0955, 2.0894, 1.9771, 1.9403, 2.0178, 1.8317, 2.1088, 2.0462, 2.0616, 1.9582, 1.5657, 1.9899, 1.7542, 1.9541, 1.8984, 1.7652, 1.218, 1.5423, 1.4994, 1.0168, 1.4095, 1.3786, 1.3706, 1.1366, 1.1389, 2.2397, 2.2384, 2.2375, 2.2374, 2.2357, 2.2351, 2.235, 2.234, 2.2337, 2.2331, 2.2324, 2.232, 2.232, 2.2317, 2.2314, 2.2312, 2.2305, 2.2305, 2.2302, 2.2301, 2.2299, 2.2297, 2.2296, 2.2285, 2.2282, 2.2282, 2.2279, 2.2279, 2.2277, 2.2276, 2.2242, 2.2275, 2.2073, 2.203, 2.1939, 2.2243, 2.1548, 2.2115, 2.1764, 2.2059, 2.1933, 2.1871, 2.1027, 2.1951, 2.0897, 2.0607, 2.0209, 1.951, 1.8934, 2.1255, 1.9499, 2.12, 1.9997, 2.0896, 2.0662, 2.0025, 1.6831, 1.8964, 2.0031, 1.5819, 0.949, 1.632, 0.4536, 1.3293, 1.3245, 1.4381, 2.2407, 2.2394, 2.2392, 2.2385, 2.2381, 2.2379, 2.2378, 2.2378, 2.2375, 2.2371, 2.2366, 2.2364, 2.2361, 2.2361, 2.2358, 2.2358, 2.2357, 2.2356, 2.2355, 2.2353, 2.2347, 2.2335, 2.233, 2.2329, 2.2323, 2.2322, 2.232, 2.232, 2.2319, 2.2317, 2.2217, 2.2193, 2.2254, 2.224, 2.2229, 2.2096, 2.2123, 2.1192, 2.142, 2.0096, 1.9482, 2.2121, 2.0427, 2.1032, 2.0032, 2.0373, 1.8915, 1.8661, 1.885, 1.8797, 1.5555, 2.0563, 2.1015, 1.7701, 1.8068, 1.6397, 1.7605, 1.8619, 1.1579, 1.7343, 1.6446, 1.2265, 1.4822, 0.441, 1.267, 1.6177, 0.088, 0.461, 0.7181, 0.7307, 2.2859, 2.2838, 2.2838, 2.2832, 2.2829, 2.2829, 2.2826, 2.2826, 2.2821, 2.2818, 2.2818, 2.2811, 2.2811, 2.2811, 2.2811, 2.2807, 2.2807, 2.2804, 2.2803, 2.2801, 2.28, 2.28, 2.2797, 2.2792, 2.2791, 2.2791, 2.2788, 2.2785, 2.2781, 2.278, 2.2614, 2.259, 2.2484, 2.2374, 2.0738, 1.9789, 2.2484, 2.2236, 1.7408, 2.0516, 2.1864, 1.9131, 1.6163, 1.7451, 2.1179, 1.936, 1.5926, 1.8262, 1.8755, 1.302, 1.698, 1.6716, 0.8879, 1.0637, 0.6997, 1.4845, 1.955, 1.2408, -0.2024, 2.3294, 2.3291, 2.3275, 2.3263, 2.3261, 2.3257, 2.3252, 2.3249, 2.3243, 2.3238, 2.3234, 2.323, 2.3229, 2.3228, 2.3226, 2.3225, 2.3222, 2.3221, 2.3215, 2.3214, 2.3212, 2.3208, 2.3207, 2.3205, 2.3205, 2.3199, 2.3194, 2.319, 2.3187, 2.318, 2.3157, 2.3154, 2.28, 2.3114, 2.2759, 2.2607, 2.2761, 2.288, 2.2463, 2.2148, 2.1587, 2.1469, 1.8896, 1.9866, 1.8866, 2.083, 1.7889, 1.8683, 2.0158, 2.1224, 2.1011, 1.7918, 1.8431, 1.5143, 1.8873, 2.0296, 1.2523, 1.352, 0.778, 1.161, 0.5672, 1.0824, -0.1982, 2.3388, 2.3378, 2.3375, 2.3362, 2.3358, 2.3332, 2.333, 2.3328, 2.3328, 2.3327, 2.3324, 2.3322, 2.3322, 2.3319, 2.3316, 2.3311, 2.331, 2.3308, 2.3307, 2.3301, 2.3298, 2.3297, 2.3297, 2.3296, 2.3292, 2.3292, 2.3291, 2.3291, 2.329, 2.3287, 2.3241, 2.3163, 2.3003, 2.2946, 2.268, 2.1966, 2.2863, 2.3001, 2.1659, 2.0455, 2.1466, 2.1195, 2.0964, 2.1927, 2.1201, 1.9, 2.1429, 2.0059, 2.0939, 1.6779, 2.1644, 1.981, 1.6532, 1.7836, 0.8273, 1.2715, 1.9731, 0.2135, 1.0475, 1.5885, 0.4068, 2.3818, 2.3813, 2.3787, 2.378, 2.3778, 2.3777, 2.3767, 2.3758, 2.3745, 2.3743, 2.3742, 2.3741, 2.3738, 2.3732, 2.3731, 2.3729, 2.3727, 2.3723, 2.372, 2.3718, 2.3715, 2.3714, 2.3708, 2.3704, 2.3702, 2.3702, 2.3701, 2.37, 2.3699, 2.3697, 2.3261, 2.3645, 2.3277, 2.354, 2.1222, 2.2558, 2.1605, 2.1284, 2.319, 2.1875, 2.2517, 2.0327, 1.7487, 2.2677, 2.0143, 2.1113, 1.5644, 1.5147, 1.2223, 0.2963, 0.4786, 0.3175, 0.3838, 1.6283, 0.8961, 0.468, 0.6014, 2.4516, 2.4511, 2.4489, 2.4489, 2.4485, 2.4482, 2.447, 2.4469, 2.4466, 2.4466, 2.446, 2.4457, 2.4453, 2.4449, 2.4448, 2.4447, 2.4446, 2.4445, 2.4444, 2.4435, 2.4435, 2.4433, 2.4433, 2.4432, 2.4424, 2.4423, 2.4421, 2.4421, 2.442, 2.4419, 2.4417, 2.4418, 2.4309, 2.435, 2.425, 2.3994, 2.4114, 2.3718, 2.3423, 2.2909, 2.3066, 2.3693, 2.2631, 2.3714, 2.1907, 2.0889, 1.9721, 2.1262, 2.2511, 1.5793, 2.0519, 1.0882, 1.9066, 1.7828, 1.6882, 1.0655, 0.5613, 0.4807, 1.92, 0.5922, 2.4543, 2.4524, 2.4515, 2.451, 2.451, 2.4506, 2.4505, 2.4495, 2.4492, 2.449, 2.4486, 2.4484, 2.4478, 2.4475, 2.4469, 2.4469, 2.4464, 2.4464, 2.4456, 2.4456, 2.4454, 2.4454, 2.4454, 2.4451, 2.445, 2.4446, 2.4446, 2.444, 2.4437, 2.4436, 2.4392, 2.4391, 2.4352, 2.2932, 2.3986, 2.4178, 2.4099, 2.4036, 2.4257, 2.2715, 2.3213, 2.1544, 2.2615, 2.172, 2.1601, 2.2971, 1.9661, 2.2295, 1.5786, 1.8259, 2.1085, 1.4992, 2.002, 1.0418, 2.0502, 1.4875, 1.1865, 1.9091, 0.8248, 0.1659, 2.1122], \"logprob\": [30.0, 29.0, 28.0, 27.0, 26.0, 25.0, 24.0, 23.0, 22.0, 21.0, 20.0, 19.0, 18.0, 17.0, 16.0, 15.0, 14.0, 13.0, 12.0, 11.0, 10.0, 9.0, 8.0, 7.0, 6.0, 5.0, 4.0, 3.0, 2.0, 1.0, -5.6473, -5.934, -5.5564, -6.0352, -6.0762, -6.1623, -6.2152, -6.2853, -6.2212, -6.3053, -6.3577, -6.4618, -6.5016, -6.52, -6.396, -6.5602, -6.6027, -6.4337, -6.6273, -6.6521, -6.6729, -6.5135, -6.7151, -6.7501, -6.745, -6.7696, -6.8066, -6.8145, -6.8413, -6.8484, -5.1245, -6.7188, -6.6736, -5.5235, -5.5901, -5.7812, -5.8064, -5.8537, -6.5694, -6.6377, -5.3319, -6.0741, -6.0248, -5.8325, -6.1722, -5.9135, -5.1994, -4.9506, -6.1437, -6.0439, -6.0141, -4.6634, -5.6117, -5.1865, -5.1941, -5.6837, -5.8247, -5.3327, -5.4347, -5.7333, -5.1036, -5.5495, -5.7907, -5.2917, -5.5275, -5.4363, -5.5357, -5.5802, -5.6915, -5.6455, -5.5086, -5.4396, -5.6554, -5.5592, -5.6451, -5.6354, -5.6606, -4.1311, -4.4287, -4.9388, -5.3006, -5.7647, -5.8124, -5.8135, -5.4746, -6.0046, -6.0792, -6.1461, -6.2677, -6.309, -6.329, -6.3629, -6.3694, -6.4091, -6.4286, -6.4572, -6.5208, -6.5249, -6.551, -5.8214, -6.6413, -6.6509, -6.6651, -6.709, -6.6919, -6.7402, -6.7668, -6.1732, -6.5822, -4.3827, -6.3231, -5.3585, -4.4593, -4.4788, -4.7821, -5.192, -5.3811, -5.0624, -4.7354, -5.5433, -5.5867, -4.5639, -4.4022, -5.1278, -3.69, -5.8671, -5.4979, -5.6124, -5.1125, -3.7847, -5.4597, -4.903, -5.5545, -5.533, -5.4844, -5.0702, -5.3568, -5.3407, -5.244, -5.3726, -5.3841, -5.3842, -5.4173, -5.4627, -4.8621, -5.264, -5.4817, -5.3102, -5.6351, -5.8932, -5.8943, -6.0205, -6.0714, -6.1345, -6.2105, -6.247, -6.2495, -6.2775, -6.3101, -6.2718, -6.2659, -6.3906, -6.4158, -6.4168, -6.4376, -6.4547, -6.4645, -6.3161, -6.5672, -6.5675, -6.5857, -6.5903, -6.6004, -6.6087, -5.7226, -6.4829, -4.7525, -4.6363, -4.6423, -6.3247, -3.8314, -5.7314, -4.9046, -5.8918, -5.73, -5.6652, -4.4405, -5.9132, -5.2272, -5.2308, -5.0559, -4.7669, -4.5603, -5.723, -4.8776, -5.7449, -5.3815, -5.674, -5.6279, -5.5484, -4.9657, -5.4161, -5.6177, -5.1935, -4.5727, -5.2786, -4.8968, -5.3282, -5.4151, -5.4611, -5.5567, -5.9937, -6.0155, -6.0982, -6.1455, -6.1579, -6.1339, -6.1751, -5.8033, -6.2415, -6.2965, -6.3109, -6.2974, -6.339, -6.2418, -6.3553, -6.3236, -6.3846, -6.3883, -6.4078, -6.4531, -6.3963, -6.1316, -6.5905, -6.6336, -6.6395, -6.6495, -6.6522, -6.6601, -6.6731, -5.1502, -5.2135, -5.9307, -6.0057, -6.1443, -6.1513, -6.2509, -5.4295, -5.8506, -5.1112, -4.8349, -6.2746, -5.5058, -5.7901, -5.4877, -5.6707, -5.2122, -5.1547, -5.2387, -5.2923, -4.7957, -5.8643, -5.9576, -5.4612, -5.6467, -5.4521, -5.6529, -5.7739, -5.1029, -5.6923, -5.6541, -5.4224, -5.5757, -5.064, -5.5084, -5.712, -5.2624, -5.4769, -5.6121, -5.6784, -5.0744, -5.5865, -5.5855, -5.6906, -5.7321, -5.7403, -5.7845, -5.7883, -5.5164, -5.8893, -5.8929, -5.9772, -5.9765, -5.9852, -5.9883, -5.4866, -6.0302, -5.1296, -6.0784, -6.0905, -6.108, -6.114, -6.1428, -5.8869, -6.1965, -6.1567, -6.2298, -6.261, -6.2989, -6.3006, -5.2209, -5.7652, -5.8387, -5.7604, -4.7667, -4.6736, -6.0336, -5.954, -4.7444, -5.5638, -5.8948, -5.3725, -4.8406, -5.1337, -5.7825, -5.5252, -5.0876, -5.3863, -5.4673, -5.3255, -5.553, -5.6083, -5.4253, -5.4807, -5.4736, -5.6472, -5.7473, -5.7127, -5.7075, -5.0593, -5.1456, -5.4922, -5.6357, -5.7321, -5.7944, -5.8589, -5.8219, -5.9692, -6.0257, -5.9254, -6.1127, -6.1299, -6.1358, -6.152, -6.1636, -6.0776, -5.5081, -6.261, -6.2659, -6.2707, -6.2796, -6.3238, -6.3419, -6.3473, -5.93, -6.4348, -6.4585, -6.4851, -6.5348, -5.708, -6.3023, -4.7533, -6.1394, -5.765, -5.6172, -5.9108, -6.0295, -5.7974, -5.6402, -5.4102, -5.4874, -4.6291, -5.1816, -5.0225, -5.5608, -4.9066, -5.1803, -5.5164, -5.7213, -5.6875, -5.2829, -5.382, -5.2809, -5.5794, -5.6988, -5.4358, -5.567, -5.4635, -5.6121, -5.5899, -5.68, -5.7033, -4.9971, -5.2698, -5.3315, -5.5923, -5.6626, -6.0021, -5.8525, -6.0489, -6.0548, -6.0589, -6.0944, -6.1134, -6.1167, -6.1403, -6.1708, -6.2048, -6.2202, -6.2472, -6.2598, -6.308, -6.335, -6.3428, -6.3457, -6.3389, -6.0338, -6.3837, -6.388, -6.3719, -6.3982, -6.4241, -6.099, -5.7696, -5.5616, -5.4986, -5.7597, -5.1722, -5.9827, -6.1098, -5.1991, -4.9156, -5.4169, -5.4454, -5.4611, -5.8089, -5.615, -5.1422, -5.755, -5.5171, -5.6952, -5.008, -5.8549, -5.6778, -5.4523, -5.5809, -4.9886, -5.3606, -5.827, -5.2915, -5.5635, -5.7881, -5.7665, -4.1427, -4.4457, -5.2837, -5.4372, -5.4739, -5.491, -5.6669, -5.7974, -5.9533, -5.9704, -5.9893, -5.9933, -6.0332, -5.9764, -5.651, -6.1182, -6.1383, -5.9893, -6.2098, -6.2268, -6.1943, -6.2571, -6.308, -6.337, -6.3555, -6.3179, -6.3614, -6.3713, -6.2588, -6.3925, -4.4527, -6.2494, -5.7731, -6.2026, -4.3276, -5.5339, -4.9594, -4.8478, -6.0006, -5.3467, -5.8301, -5.1204, -4.9337, -6.0044, -5.6041, -5.7864, -5.6113, -5.59, -5.44, -5.2088, -5.4594, -5.4984, -5.538, -5.8413, -5.7229, -5.7078, -5.7287, -4.3467, -4.6014, -5.2426, -5.2508, -5.3329, -5.3848, -5.5866, -5.6134, -5.6535, -5.655, -5.7395, -5.7683, -5.819, -5.8674, -5.8799, -5.8956, -5.9089, -5.9223, -5.9293, -6.0238, -6.0266, -5.9478, -6.0452, -6.0555, -6.1245, -6.1403, -6.1523, -6.1562, -6.1633, -6.1724, -6.0026, -6.0832, -5.3142, -5.7276, -5.736, -5.4022, -5.6344, -5.3739, -5.3235, -5.1579, -5.2685, -5.6947, -5.3093, -5.7083, -5.2305, -5.2199, -5.0772, -5.3562, -5.5628, -4.5782, -5.4921, -4.8336, -5.4199, -5.3645, -5.3864, -5.1103, -4.9482, -5.0244, -5.5372, -5.5649, -4.8938, -5.3565, -5.4833, -5.6002, -5.6078, -5.6612, -5.1513, -5.7956, -5.8434, -5.8732, -5.9106, -5.8131, -5.997, -6.0337, -6.0844, -6.0873, -6.1291, -6.135, -6.1992, -6.1969, -6.2177, -6.2208, -6.159, -6.2451, -6.2549, -6.2821, -6.2866, -6.329, -6.3519, -6.2368, -6.0352, -6.1499, -6.0299, -3.2164, -5.414, -5.7984, -5.7814, -5.8601, -6.0987, -5.2741, -5.5389, -4.9303, -5.4549, -5.2601, -5.3906, -5.7821, -5.1502, -5.7691, -4.9176, -5.401, -5.7043, -5.1283, -5.6513, -5.1314, -5.6851, -5.4661, -5.415, -5.7197, -5.6604, -5.65, -5.7767]}, \"token.table\": {\"Topic\": [2, 6, 9, 9, 9, 9, 9, 4, 3, 4, 6, 7, 8, 8, 3, 4, 1, 2, 1, 2, 3, 4, 8, 2, 2, 8, 1, 3, 5, 6, 7, 9, 10, 1, 4, 8, 1, 3, 4, 8, 1, 2, 3, 4, 8, 7, 8, 9, 10, 7, 7, 1, 2, 3, 4, 5, 6, 8, 10, 4, 6, 9, 2, 3, 6, 1, 2, 3, 2, 10, 1, 2, 3, 4, 6, 7, 8, 10, 2, 9, 1, 2, 5, 6, 7, 10, 5, 6, 7, 10, 1, 2, 3, 4, 5, 6, 7, 8, 9, 10, 1, 2, 3, 4, 5, 6, 7, 8, 9, 10, 4, 2, 3, 1, 6, 5, 4, 5, 8, 9, 5, 6, 7, 6, 10, 8, 9, 1, 2, 4, 5, 6, 7, 8, 9, 10, 4, 8, 4, 5, 2, 6, 2, 4, 7, 9, 4, 5, 7, 2, 3, 4, 1, 3, 4, 5, 6, 7, 8, 9, 2, 3, 1, 4, 10, 10, 5, 6, 4, 5, 1, 3, 6, 7, 8, 9, 5, 5, 7, 1, 1, 3, 4, 7, 8, 1, 2, 3, 4, 6, 7, 9, 10, 1, 8, 1, 6, 3, 6, 7, 1, 2, 3, 4, 5, 6, 7, 8, 9, 10, 9, 10, 1, 4, 8, 3, 8, 9, 1, 2, 4, 9, 7, 1, 4, 8, 10, 1, 2, 3, 4, 5, 6, 8, 10, 5, 6, 7, 10, 8, 5, 7, 1, 3, 4, 5, 7, 8, 9, 1, 3, 4, 5, 6, 7, 8, 9, 10, 2, 3, 5, 6, 10, 2, 3, 4, 2, 3, 4, 2, 1, 2, 3, 4, 1, 2, 3, 4, 5, 6, 7, 8, 9, 10, 6, 10, 6, 1, 2, 3, 4, 5, 6, 7, 8, 9, 10, 10, 2, 5, 7, 10, 6, 7, 7, 5, 7, 1, 4, 1, 1, 4, 5, 6, 8, 9, 1, 2, 4, 5, 6, 7, 2, 10, 1, 1, 3, 4, 5, 7, 8, 8, 4, 3, 8, 10, 3, 1, 3, 4, 5, 6, 7, 8, 9, 10, 1, 7, 9, 1, 2, 3, 4, 2, 2, 2, 4, 4, 6, 1, 4, 6, 7, 8, 10, 4, 6, 9, 10, 6, 6, 5, 1, 2, 5, 6, 7, 8, 10, 1, 4, 6, 7, 8, 9, 1, 6, 10, 9, 5, 7, 9, 10, 2, 4, 5, 6, 7, 8, 9, 10, 2, 6, 1, 1, 2, 3, 4, 6, 8, 9, 10, 7, 8, 9, 9, 1, 3, 7, 3, 2, 4, 3, 3, 7, 9, 5, 4, 7, 8, 9, 8, 1, 4, 5, 10, 1, 2, 4, 6, 6, 7, 6, 3, 5, 4, 8, 2, 3, 1, 2, 3, 4, 6, 8, 8, 3, 1, 6, 7, 8, 9, 10, 9, 1, 5, 6, 1, 3, 4, 5, 6, 7, 8, 9, 10, 1, 1, 4, 5, 7, 9, 8, 3, 4, 2, 3, 4, 5, 8, 10, 8, 8, 9, 1, 3, 5, 6, 7, 9, 10, 1, 9, 7, 1, 2, 3, 4, 5, 6, 7, 8, 9, 10, 1, 3, 6, 7, 8, 1, 4, 6, 8, 1, 3, 4, 5, 6, 7, 8, 9, 10, 7, 2, 1, 2, 3, 4, 5, 6, 7, 8, 9, 10, 10, 9, 1, 3, 4, 6, 7, 8, 9, 5, 10, 3, 10, 2, 5, 6, 7, 9, 10, 5, 10, 1, 2, 3, 4, 6, 7, 8, 9, 10, 4, 1, 4, 5, 1, 1, 9, 1, 7, 4, 6, 1, 2, 4, 5, 6, 7, 9, 2, 4, 8, 6, 4, 6, 7, 8, 6, 10, 7, 2, 3, 8, 9, 6, 1, 3, 4, 6, 7, 8, 9, 1, 3, 4, 5, 7, 8, 9, 4, 9, 5, 7, 5, 7, 5, 6, 7, 8, 10, 7, 1, 7, 4, 7, 8, 9, 4, 7, 10, 4, 2, 4, 5, 6, 10, 1, 3, 4, 5, 6, 7, 8, 9, 10, 1, 3, 4, 5, 6, 7, 8, 9, 10, 4, 8, 1, 6, 9, 5, 9, 3, 1, 3, 5, 6, 8, 9, 10, 1, 3, 7, 1, 2, 3, 4, 5, 6, 7, 8, 9, 10, 1, 6, 7, 2, 3, 4, 1, 9, 10, 1, 6, 10, 6, 5, 1, 3, 4, 6, 7, 8, 9, 10, 3, 4, 6, 2, 1, 2, 3, 4, 5, 6, 7, 8, 9, 10, 4, 8, 9, 5, 4, 1, 5, 6, 2, 5, 9, 1, 2, 3, 4, 5, 6, 7, 8, 9, 10, 1, 2, 3, 4, 5, 6, 7, 8, 9, 10, 2, 5, 9, 2, 6, 1, 2, 3, 4, 5, 6, 7, 8, 9, 10, 4, 4, 8, 1, 2, 3, 4, 5, 6, 7, 8, 9, 9, 1, 2, 3, 4, 6, 7, 8, 9, 1, 4, 5, 6, 7, 8, 9, 3, 4, 7, 8, 9, 3, 2, 7, 8, 10, 4, 1, 1, 2, 10, 2, 3, 4, 5, 6, 7, 9, 10, 1, 3, 4, 5, 7, 8, 9, 1, 3, 4, 5, 6, 7, 8, 9, 10, 2, 1, 2, 5, 6, 10, 1, 3, 4, 7, 8, 10, 7, 9, 10, 2, 1, 2, 3, 4, 5, 1, 9, 3, 7, 1, 7, 3, 4, 8, 1, 2, 3, 4, 9, 2, 3, 4, 3, 5, 3, 4, 5, 6, 7, 8, 3, 6, 7, 8, 9, 10, 5, 10, 8, 3, 4, 6, 9, 9, 8, 8, 4, 1, 2, 6, 2, 3, 1, 2, 6, 9, 10, 3, 7, 8, 10, 2, 5, 9, 1, 2, 6, 7, 10, 2, 1, 3, 4, 6, 7, 8, 9, 6, 3, 1, 2, 3, 4, 5, 6, 7, 9, 10, 4, 1, 3, 4, 8, 3, 7, 1, 5, 7, 9, 10, 1, 2, 3, 5, 8, 10, 7, 5, 10, 2, 3, 4, 9, 10, 4, 3, 2, 5, 9, 4, 7, 7, 9, 10, 5, 6, 8, 5, 6, 9, 7, 10, 3, 6, 7, 8, 9, 10, 3, 4, 8, 1, 4, 5, 6, 7, 8, 9, 7, 6, 9, 10, 1, 1, 4, 5, 6, 7, 8, 9, 1, 2, 3, 4, 6, 7, 8, 9, 10, 7, 10, 2, 6, 7, 10, 2, 4, 10, 9, 10, 3, 8, 9, 3, 1, 3, 4, 5, 6, 7, 8, 9, 10, 2, 3, 4, 8, 1, 5, 9, 10, 1, 8, 3, 1, 2, 3, 4, 5, 6, 7, 8, 9, 1, 2, 3, 4, 5, 6, 7, 8, 9, 10, 8, 1, 2, 3, 4, 5, 6, 7, 8, 9, 10, 9, 6, 1, 2, 3, 4, 5, 6, 7, 8, 9, 10, 1, 5, 7, 7, 9, 3, 1, 2, 3, 5, 6, 7, 8, 10, 10, 1, 2, 3, 4, 5, 6, 7, 8, 9, 10, 8, 4, 5, 7, 1, 4, 1, 2, 7, 1, 3, 4, 10, 7, 10, 4, 2, 3, 6, 4, 2, 8, 1, 3, 4, 5, 6, 7, 8, 9, 2, 9, 3, 1, 9, 1, 2, 3, 4, 6, 7, 8, 9, 10, 9, 10, 4, 1, 2, 3, 4, 5, 6, 7, 8, 9, 10, 6, 7, 9, 10, 4, 1, 3, 4, 5, 6, 7, 8, 9, 6, 1, 3, 4, 5, 6, 7, 8, 9, 10, 6, 9, 3, 8, 2, 1, 2, 3, 4, 5, 6, 8, 10, 5, 6, 1, 3, 1, 4, 6, 8, 8, 8, 2, 3, 5, 6, 7, 1, 2, 3, 4, 5, 6, 7, 8, 9, 10, 6, 10, 8, 1, 4, 7, 7, 1, 5, 9, 1, 5, 6, 3, 8, 1, 2, 3, 4, 5, 6, 7, 8, 9, 10, 5, 5, 10, 3, 1, 1, 3, 8, 1, 2, 3, 4, 5, 6, 7, 8, 9, 10, 2, 10, 1, 4, 5, 6, 7, 8, 9, 10, 7, 8, 9, 10, 1, 5, 9, 9, 1, 3, 4, 10, 5, 6, 1, 3, 4, 6, 7, 8, 9, 1, 2, 3, 4, 5, 6, 8, 9, 1, 6, 2, 5, 1, 3, 4, 6, 7, 8, 10, 7, 3, 1, 4, 6, 8, 9, 10, 10, 6, 10, 10, 1, 2, 4, 8, 2, 5, 1, 1, 2, 3, 4, 5, 6, 7, 8, 9, 10, 1, 4, 7, 8, 9, 1, 2, 3, 4, 5, 6, 7, 8, 9, 10, 6, 7, 10, 3, 1, 2, 10, 5, 6, 7, 9, 10, 7, 1, 2, 3, 4, 5, 6, 7, 8, 9, 10, 10, 10, 5, 8, 9, 1, 2, 3, 4, 6, 7, 8, 9, 1, 2, 3, 4, 5, 6, 7, 8, 9, 10, 3, 4, 3, 1, 5, 3, 5, 5, 2, 4, 5, 7, 8, 1, 3, 5, 8, 9, 2, 2, 3, 2, 3, 2, 5, 7, 9, 1, 3, 5, 7, 9, 10, 2, 10, 1, 2, 3, 4, 5, 10, 8, 7, 8, 9, 8, 6, 3, 2, 5, 6, 7, 10, 6, 5, 2, 3, 1, 2, 5, 6, 9, 10, 1, 3, 4, 5, 6, 7, 8, 9, 1, 2, 3, 4, 5, 9, 4, 5, 6, 10, 4, 10, 6, 9, 5, 1, 5, 6, 7, 9, 6, 1, 4, 6, 7, 8, 9, 5, 7, 8, 6, 7, 9, 3, 8, 7, 4, 8, 1, 2, 3, 4, 5, 6, 7, 8, 9, 10, 1, 6, 2, 1, 3, 4, 5, 6, 7, 8, 9, 10, 1, 3, 6, 7, 8, 3, 7, 2, 3, 5, 6, 7, 10, 2, 3, 4, 10, 1, 3, 6, 4, 5, 7, 1, 3, 4, 5, 6, 7, 8, 9, 10, 1, 3, 4, 5, 6, 7, 10, 6, 10, 5, 10, 9, 1, 2, 10, 1, 2, 1, 2, 3, 4, 6, 7, 8, 10, 6, 2, 5, 6, 7, 8, 10, 7, 2, 1, 2, 3, 4, 5, 6, 7, 8, 9, 10, 8, 1, 2, 8, 9, 6, 7, 1, 3, 4, 7, 9, 1, 8, 4, 1, 2, 6, 7, 7, 7, 1, 1, 4, 9, 9, 1, 5, 1, 3, 4, 5, 6, 7, 8, 9, 10, 10, 1, 2, 3, 4, 6, 7, 8, 10, 1, 2, 3, 5, 7, 8, 9, 7, 9, 1, 4, 5, 5, 1, 5, 7, 9, 10, 1, 3, 4, 6, 1, 4, 5, 6, 8, 5, 1, 2, 3, 4, 5, 6, 7, 8, 9, 10, 1, 6, 8, 4, 6, 7, 8, 4, 6, 2, 3, 4, 5, 6, 7, 8, 9, 10, 8, 10, 6, 4, 6, 7, 8, 9, 2, 3, 4, 5, 6, 10, 2, 3, 4, 4, 6, 2, 3, 4, 5, 6, 7, 8, 9, 10, 5, 8, 7, 1, 2, 3, 4, 5, 6, 7, 8, 9, 10, 1, 2, 3, 4, 5, 6, 8, 9, 10], \"Freq\": [0.008253327488193957, 0.008253327488193957, 0.9821459710950808, 0.9843209115118796, 0.9939481585834536, 0.9946060249332148, 0.9974753335859998, 0.9876270802591289, 0.04104786092580068, 0.011194871161582003, 0.03731623720527334, 0.8657367031623416, 0.04477948464632801, 0.997777673132046, 0.8574426837538502, 0.13818291184462875, 0.9856009095703148, 0.995724834314985, 0.006537820511345282, 0.10950849356503348, 0.8695301280089225, 0.009806730767017923, 0.003268910255672641, 0.9942674895829948, 0.931352760492181, 0.06163363856198256, 0.0034146500728248668, 0.06829300145649733, 0.5395147115063289, 0.07512230160214707, 0.037561150801073535, 0.11609810247604548, 0.15707390334994387, 0.9867932185639733, 0.988183783593199, 0.9851189765478614, 0.06631969140456985, 0.8923013025342125, 0.0060290628549608954, 0.030145314274804477, 0.010362203108925466, 0.15197897893090684, 0.8324303164170125, 0.9839635863399325, 0.9903388403046472, 0.04556033876275501, 0.08352728773171753, 0.007593389793792502, 0.8504596569047602, 0.9859666380896771, 0.9881309621208607, 0.019506896881194842, 0.08360098663369218, 0.802569471683445, 0.008360098663369219, 0.0027866995544564063, 0.019506896881194842, 0.04180049331684609, 0.02229359643565125, 0.9921525819073111, 0.9842910198477353, 0.9958050697815558, 0.8032516639930074, 0.17449949941917056, 0.022158666592910548, 0.9889741304881388, 0.9942584701467847, 0.9972124648851677, 0.9892092311678954, 0.9979494589325026, 0.027475167735229296, 0.6539089920984572, 0.15386093931728406, 0.02381181203719872, 0.009158389245076433, 0.05495033547045859, 0.010990067094091718, 0.06227704686651974, 0.9854925940131357, 0.9965506409778537, 0.0032383789379965737, 0.08743623132590748, 0.16839570477582183, 0.12953515751986294, 0.08095947344991435, 0.5310941458314381, 0.06714281733344654, 0.10742850773351448, 0.08057138080013586, 0.7430471784901418, 0.06774374086338562, 0.04403343156120065, 0.023710309302184967, 0.051936867995262315, 0.20436028493787997, 0.09822842425190915, 0.144519980508556, 0.07000186555883181, 0.05306593034298541, 0.24274840476046516, 0.020778438868264297, 0.15713694394124875, 0.05973801174625985, 0.032466310731662965, 0.24674396156063852, 0.140254462360784, 0.08700971276085674, 0.08700971276085674, 0.03376496316092948, 0.13635850507298444, 0.994164285452019, 0.9942573896288416, 0.9980693193508118, 0.005920343923364129, 0.9886974352018094, 0.9941992173389286, 0.9798346611984295, 0.017654678580151885, 0.9828347312497161, 0.9889696484930844, 0.7879572728035614, 0.06208148209967454, 0.14804045731460852, 0.011170406680854618, 0.9829957879152064, 0.9367293780287144, 0.048285019486016205, 0.0737853856284452, 0.002380173729949845, 0.040462953409147365, 0.20945528823558637, 0.37606744933207553, 0.08330608054824458, 0.06664486443859566, 0.06188451697869597, 0.08806642800814427, 0.00718639992506118, 0.9917231896584429, 0.9896343705776646, 0.9866200313044814, 0.8912303382917424, 0.1063399835461738, 0.28812654431222295, 0.6927297767506636, 0.0030651760033215208, 0.015325880016607603, 0.9850135157806861, 0.9739647116573802, 0.025080636351692196, 0.8760026141225284, 0.11116784443179295, 0.008893427554543436, 0.43292703239205976, 0.018114101773726347, 0.13766717348032026, 0.07426781727227803, 0.1304215327708297, 0.036228203547452695, 0.11774166152922126, 0.05434230532117905, 0.9133518238531333, 0.08118682878694518, 0.9462754576428998, 0.0051150024737454045, 0.040920019789963236, 0.9792769649434108, 0.9922469645071618, 0.9932172169601408, 0.9824550225836625, 0.9870019583136131, 0.2123978241165677, 0.002102948753629383, 0.4416192382621705, 0.126176925217763, 0.10514743768146916, 0.1135592326959867, 0.994238871502297, 0.9908510992346852, 0.9831285490636493, 0.9931964004852757, 0.052248794340889894, 0.09143539009655732, 0.09143539009655732, 0.7140668559921619, 0.04789472814581574, 0.14960151828697565, 0.01739552538220647, 0.038270155840854234, 0.5462194970012831, 0.12176867767544529, 0.07306120660526717, 0.01739552538220647, 0.031311945687971646, 0.05378592872841782, 0.9453911318802671, 0.011011581831088274, 0.9800307829668564, 0.007644360989824934, 0.007644360989824934, 0.9708338457077667, 0.33331418241683314, 0.026355074888772853, 0.14727835967255418, 0.15192925524116116, 0.012402388182951932, 0.01085208966008294, 0.09301791137213948, 0.13177537444386425, 0.04650895568606974, 0.04650895568606974, 0.9895360801494372, 0.9932219780730438, 0.9852926316502053, 0.9733319980080151, 0.022461507646338807, 0.9917712265163012, 0.9910777813994633, 0.9909509642247828, 0.004789738071643241, 0.9595441936858625, 0.03193158714428827, 0.0015965793572144135, 0.9950871086408601, 0.01591443812893278, 0.9707807258648997, 0.00795721906446639, 0.9886205064588368, 0.013031139257263517, 0.013031139257263517, 0.747118650749775, 0.08470240517221286, 0.006515569628631758, 0.008687426171509012, 0.10642097060098539, 0.021718565428772527, 0.022305902296703425, 0.13383541378022054, 0.8401889865091624, 0.0037176503827839043, 0.9926504387972823, 0.9579537604242848, 0.03720208778346737, 0.09682020709710008, 0.032273402365700025, 0.059581665905907744, 0.004965138825492312, 0.7422882544111007, 0.04965138825492312, 0.01241284706373078, 0.4000221709179523, 0.06857522930022039, 0.08457611613693848, 0.0525743424635023, 0.050288501486828285, 0.12800709469374472, 0.173723914227225, 0.034287614650110196, 0.009143363906696051, 0.10579884822244133, 0.7859343010809927, 0.045342363523903424, 0.011335590880975856, 0.052899424111220665, 0.78897897078312, 0.2086113888850283, 0.0026745049857054915, 0.0438195497854468, 0.9530752078334679, 0.00219097748927234, 0.9897803585168357, 0.02061639886920284, 0.08452723536373163, 0.5174716116169912, 0.37521845941949167, 0.12593933920311007, 0.04897640969009836, 0.03673230726757377, 0.0437289372233021, 0.0874578744466042, 0.14518007158136298, 0.27461772576233723, 0.09445450440233254, 0.08221040197980796, 0.06122051211262294, 0.9878848028281204, 0.995019623912251, 0.9846480458695037, 0.04055472422500627, 0.1322436659511074, 0.22393260767720854, 0.12871716819241122, 0.05289746638044296, 0.07405645293262014, 0.04760771974239866, 0.22569585655655663, 0.01410599103478479, 0.05642396413913916, 0.9969134281659902, 0.16372017546519638, 0.7039967545003444, 0.10641811405237764, 0.028651030706409363, 0.9923543651069603, 0.9966543250514157, 0.9898059631484507, 0.6867810029816507, 0.31248535635665103, 0.9490760322634948, 0.04962489057586901, 0.9781070547551789, 0.6375233188034042, 0.0037947816595440727, 0.04933216157407294, 0.041742598254984796, 0.07589563319088145, 0.18594430131765954, 0.07814703165446985, 0.15948373807034663, 0.043060609278993585, 0.04943995880180745, 0.6427194644234969, 0.027112235471958925, 0.9902957928283093, 0.9905570195192676, 0.992529704243792, 0.17654516120473293, 0.00790500721812237, 0.6824656231645646, 0.01844501684228553, 0.05533505052685659, 0.05533505052685659, 0.9966097495407177, 0.9818414480980396, 0.9929874053871652, 0.9863979568045659, 0.9833023891734944, 0.9921610488532825, 0.2642835704079211, 0.09219194316555387, 0.08165572108949057, 0.07638761005145892, 0.028096592202835464, 0.06146129544370258, 0.13521484997614566, 0.255503385344535, 0.00526811103803165, 0.9924615968125231, 0.005196134014725252, 0.9977876572866918, 0.0018728727359167306, 0.07959709127646106, 0.9158347678632813, 0.0018728727359167306, 0.9984214685625883, 0.994153305339332, 0.12653225737737045, 0.8633965797514689, 0.9938026419136603, 0.007307372367012207, 0.14447744439264054, 0.11970988249675929, 0.10319817456617181, 0.13209366344469992, 0.47058367602174345, 0.028895488878528105, 0.9922910423016751, 0.9427270893705033, 0.007307961933104677, 0.04384777159862806, 0.9940834761395182, 0.9890167489851049, 0.9900871172282829, 0.9921910968987258, 0.15647964029850356, 0.37341732343961076, 0.0657925760345981, 0.019559955037312945, 0.0017781777306648133, 0.38408638982359966, 0.14738971695076844, 0.01390469027837438, 0.5812160536360491, 0.11958033639401967, 0.10011377000429554, 0.03615219472377339, 0.9423774141400758, 0.052620058657567685, 0.9850985782951998, 0.9960751179305037, 0.06880245925449313, 0.009173661233932418, 0.8623241559896473, 0.05504196740359451, 0.034482286253356885, 0.02398767739363957, 0.5097381446148409, 0.0614684233212014, 0.1514222135473498, 0.02848536690494699, 0.06596611283250882, 0.1229368466424028, 0.8922021579058095, 0.10757047293899831, 0.9882170837449785, 0.0135555420977103, 0.31300979025621967, 0.18854526735906146, 0.336423908424992, 0.09981808271950313, 0.0271110841954206, 0.0012323220088827547, 0.019717152142124075, 0.046559557691129634, 0.9467110063863026, 0.9901042335905716, 0.9851038696214347, 0.9884625772550117, 0.9857249846318112, 0.9871510482723315, 0.9926324907560911, 0.9979845500481145, 0.988325087904854, 0.9812605326678938, 0.08736145052258866, 0.08736145052258866, 0.8153735382108275, 0.9933086334118477, 0.8128802451227128, 0.013399124919605156, 0.15185674908885843, 0.017865499892806877, 0.9820750579460013, 0.012555505033660165, 0.1067217927861114, 0.1757770704712423, 0.7093860344017993, 0.9004918911333448, 0.09004918911333448, 0.007504099092777873, 0.9923804810633362, 0.031711043140926765, 0.9619016419414453, 0.9924193325317401, 0.9793410087222819, 0.9954031485526845, 0.11369985182550958, 0.8811738516476992, 0.9149149591907402, 0.08399219297488762, 0.07798247808858672, 0.10722590737180673, 0.00974780976107334, 0.6823466832751338, 0.04386514392483003, 0.07798247808858672, 0.9972552118693356, 0.9845803342142915, 0.18152500121546986, 0.6285641833132687, 0.08398917966685918, 0.02980261213985326, 0.062314552656056815, 0.01354664188175148, 0.9922251534621686, 0.9878804174934496, 0.9906630575529694, 0.986995935782463, 0.08245866703398375, 0.40129884623205425, 0.038480711282525754, 0.06046968915825475, 0.08429108185696117, 0.16308491924499008, 0.065966933627187, 0.09345315597184825, 0.0109944889378645, 0.9859671593934629, 0.12966023558692463, 0.06483011779346232, 0.10472557489713144, 0.6981704993142096, 0.0049869321379586405, 0.9906602628923484, 0.9674564467087511, 0.026505656074212357, 0.05761515913430533, 0.7874071748355062, 0.08642273870145799, 0.019205053044768442, 0.028807579567152665, 0.014403789783576332, 0.9859799138680833, 0.046022937962366936, 0.9492230954738181, 0.14405224472301736, 0.05762089788920695, 0.016463113682630558, 0.6420614336225917, 0.06996823315117986, 0.06173667630986459, 0.008231556841315279, 0.9890543076493356, 0.997294618074791, 0.9826780687746087, 0.038145189963240296, 0.05630956613621187, 0.5721778494486045, 0.047227378049726085, 0.10353694418593795, 0.07810681754377775, 0.05267669090161756, 0.014531500938377255, 0.01816437617297157, 0.021797251407565884, 0.008395254183505884, 0.9374700504914903, 0.022387344489349023, 0.030782598672854905, 0.9881663028226092, 0.08437585138966819, 0.03782365751950643, 0.07564731503901286, 0.8001158321434052, 0.33060522661535663, 0.0018891727235163236, 0.06801021804658765, 0.02078089995867956, 0.3400510902329382, 0.10957201796394676, 0.08501277255823456, 0.03778345447032647, 0.005667518170548971, 0.9859135567361728, 0.9979636250920922, 0.40378976996954546, 0.03023025015814779, 0.010796517913624211, 0.19865592961068548, 0.06261980389902043, 0.08853144689171853, 0.053982589568121055, 0.10580587555351727, 0.03454885732359748, 0.010796517913624211, 0.9910737345261322, 0.9947796745640943, 0.6281603543643093, 0.1422904670106999, 0.0034704991953829244, 0.02429349436768047, 0.11105597425225358, 0.07288048310304142, 0.020822995172297548, 0.938424545041418, 0.05865153406508863, 0.9860576841298876, 0.9866664248003119, 0.0022004316381681105, 0.8053579795695285, 0.0418082011251941, 0.019803884743512995, 0.0022004316381681105, 0.1254246033755823, 0.9519781121683965, 0.04199903436037043, 0.051397183176956976, 0.0751189600278602, 0.07907258950301074, 0.596998050747731, 0.027675406326053757, 0.04348992422665591, 0.07116533055270967, 0.019768147375752686, 0.0316290358012043, 0.9910796597340861, 0.834337921833681, 0.12122858693309896, 0.035655466745029105, 0.9808106543927538, 0.9810840589737465, 0.015093600907288408, 0.9480812700892345, 0.04454073080956135, 0.014367119011215696, 0.9841476522682752, 0.07860867759901785, 0.05895650819926339, 0.014739127049815847, 0.009826084699877231, 0.7811737336402399, 0.009826084699877231, 0.04913042349938616, 0.9895443887101859, 0.17611559526165954, 0.8233404078482583, 0.9951679699140205, 0.20117704931624558, 0.004789929745624894, 0.10537845440374768, 0.6897498833699849, 0.9922819646096314, 0.9925108382380384, 0.9819920638457288, 0.013304378689805186, 0.9845240230455837, 0.0761612867505114, 0.9193755329168876, 0.9967412406624675, 0.6621119709912223, 0.03405147279383429, 0.12863889722115177, 0.02270098186255619, 0.043510215236566036, 0.10593791535859556, 0.0018917484885463494, 0.729889359786817, 0.0026735873984865093, 0.12565860772886595, 0.008020762195459528, 0.0026735873984865093, 0.0561453353682167, 0.07218685975913575, 0.9899514290049402, 0.01010154519392796, 0.988465760830669, 0.9829457475069947, 0.8445820523243126, 0.15240578387807147, 0.014879378193230102, 0.04463813457969031, 0.14879378193230103, 0.15375357466337775, 0.6348534695778177, 0.9895241615216438, 0.9891449151755902, 0.9923743068638131, 0.005704779555181507, 0.9526981857153116, 0.03422867733108904, 0.005704779555181507, 0.8120130586373195, 0.041910351413539076, 0.14144743602069437, 0.9839295834195905, 0.19033162596068387, 0.01903316259606839, 0.08755254794191458, 0.5805114591800858, 0.12181224061483768, 0.4771735037680409, 0.10680417773869508, 0.07924180928999958, 0.001722648028043469, 0.04651149675717366, 0.10508152971065161, 0.12403065801912977, 0.03962090464499979, 0.01894912830847816, 0.41669788965669813, 0.10707440419444063, 0.16774989990462366, 0.010707440419444063, 0.041937474976155915, 0.06335235581504405, 0.14901187917059655, 0.040152901572915234, 0.0035691468064813544, 0.9701594199590834, 0.022827280469625493, 0.09708685740077208, 0.8859175737820452, 0.01213585717509651, 0.10045242241193758, 0.8940265594662445, 0.9878619757576791, 0.38875520646043027, 0.005980849330160466, 0.008971273995240697, 0.008971273995240697, 0.005980849330160466, 0.5113626177287198, 0.07177019196192558, 0.8376838991039325, 0.11566346724029193, 0.04205944263283343, 0.35584112293418985, 0.03085327655498756, 0.09050294456129683, 0.1378113019456111, 0.05759278290264344, 0.03496704676231923, 0.03702393186598507, 0.19540408484825453, 0.05142212759164593, 0.010284425518329187, 0.04380007357741456, 0.8322013979708767, 0.12166687104837377, 0.029748531473999387, 0.96682727290498, 0.002479044289499949, 0.0247219838875749, 0.9723980329112794, 0.9874696925196719, 0.06595584870550317, 0.9160534542430996, 0.007328427633944797, 0.9849148986175197, 0.9893903494529251, 0.07689137718155693, 0.1241053807140919, 0.5004684374448706, 0.02563045906051898, 0.06340166188654695, 0.15378275436311387, 0.03372428823752497, 0.02158354447201598, 0.8369952133650977, 0.15499911358612922, 0.9950848755101361, 0.9795481741463713, 0.38914503432439657, 0.07583339130424138, 0.01796054004574138, 0.2514475606403793, 0.01995615560637931, 0.05986846681913793, 0.03791669565212069, 0.12572378032018966, 0.009978077803189656, 0.011973693363827587, 0.08374599208568885, 0.875526280895838, 0.03045308803115958, 0.9888701153588839, 0.9850474360839796, 0.07609111655118114, 0.9054842869590556, 0.015218223310236229, 0.039994416565344845, 0.6617258013538875, 0.29450434016299387, 0.09339589405988992, 0.4628285416745656, 0.02075464312441998, 0.014528250187093987, 0.08716950112256393, 0.20962189555664182, 0.06433939368570195, 0.012452785874651989, 0.031131964686629973, 0.0020754643124419984, 0.03232325315095915, 0.11636371134345294, 0.029090927835863235, 0.00646465063019183, 0.10020208476797336, 0.6141418098682239, 0.04202022909624689, 0.04202022909624689, 0.009696975945287744, 0.01292930126038366, 0.11011464998954167, 0.11797998213165178, 0.7708025499267916, 0.009007075424127113, 0.9907782966539825, 0.021477043493796102, 0.3535451775132589, 0.04956240806260639, 0.15033930445657273, 0.12721018069402307, 0.08590817397518441, 0.07599569236266313, 0.034693685643824475, 0.03304160537507093, 0.06938737128764895, 0.9928227808061284, 0.8983840663700313, 0.09749904596263906, 0.1286434684495676, 0.2572869368991352, 0.05574550299481262, 0.22012326823592676, 0.00714685935830931, 0.022869949946589793, 0.06289236235312193, 0.07432733732641683, 0.17152462459942344, 0.9981791832650334, 0.032314899386372456, 0.4463495477742696, 0.04039362423296557, 0.10704310421735877, 0.10300374179406221, 0.10098406058241394, 0.006059043634944836, 0.16359417814351057, 0.1415203104465367, 0.12921419649466395, 0.09844891161498207, 0.05230098429545922, 0.06768362673530016, 0.4399435737794511, 0.06768362673530016, 0.136216136382029, 0.03178376515580677, 0.7991346667745701, 0.0136216136382029, 0.0136216136382029, 0.9889966193107792, 0.7982547712072395, 0.04291692318318492, 0.017166769273273968, 0.13733415418619174, 0.9927377116325787, 0.9738393444483854, 0.9920350192192814, 0.9742532122185464, 0.01132852572347147, 0.07298026369731744, 0.043124701275687585, 0.0033172847135144296, 0.5539865471569098, 0.11942224968651946, 0.09620125669191845, 0.0033172847135144296, 0.1127876802594906, 0.07478909332697789, 0.0020774748146382745, 0.741658508825864, 0.008309899258553098, 0.010387374073191374, 0.09140889184408409, 0.06855666888306307, 0.44383749501376035, 0.03236315067808669, 0.0462330723972667, 0.00462330723972667, 0.1571924461507068, 0.1779973287294768, 0.10864772013357675, 0.027739843438360022, 0.002311653619863335, 0.9930963776594988, 0.987186857606574, 0.850757029458845, 0.11343427059451268, 0.002985112384066123, 0.029851123840661232, 0.20533662802996877, 0.5428439591596875, 0.1557726143675625, 0.023601911267812505, 0.06844554267665626, 0.9912203840875708, 0.000581376194932764, 0.15057643448758587, 0.8482278684069027, 0.9937649936387128, 0.004045578768463335, 0.8293436475349836, 0.0930483116746567, 0.06877483906387669, 0.9927058955576438, 0.9889596318807946, 0.9854122168427433, 0.9913694765204408, 0.9899461995958145, 0.9310535397658101, 0.06556715068773311, 0.11350364201130883, 0.8638888308638505, 0.018917273668551473, 0.0028291454723840146, 0.18389445570496096, 0.25745223798694533, 0.5460250761701149, 0.008487436417152045, 0.5296332742800741, 0.44797175621926977, 0.02099867607277827, 0.9830117407890503, 0.9909266114934698, 0.03664399491556903, 0.04885865988742537, 0.061073324859281714, 0.7084505683676678, 0.08855632104595848, 0.05496599237335354, 0.04598682168644374, 0.004180620153313067, 0.08779302321957441, 0.041806201533130666, 0.7190666663698475, 0.09615426352620055, 0.026127428010400935, 0.9580056937147009, 0.9967088792591731, 0.9668590073783508, 0.007734872059026806, 0.015469744118053613, 0.9920769692919115, 0.9906770342681502, 0.9930997426880437, 0.9819864880775205, 0.9850505118402995, 0.006667600923983542, 0.9284634286647082, 0.06500910900883954, 0.03908959010957201, 0.9537859986735571, 0.012605355553550558, 0.9327963109627413, 0.03361428147613482, 0.021008925922584264, 0.9854227978690556, 0.050061744862022736, 0.8367463069795229, 0.035758389187159095, 0.07151677837431819, 0.9920123308041356, 0.9902760688546042, 0.9914928781746027, 0.6913101124227663, 0.047350007700189475, 0.06155501001024632, 0.17519502849070107, 0.01894000308007579, 0.9835499266739817, 0.19891177070584037, 0.39981265911873914, 0.07160823745410254, 0.049727942676460093, 0.1511729457364387, 0.103434120767037, 0.023869412484700845, 0.9963515687999394, 0.9885817308471861, 0.034491287892793536, 0.03202762447187971, 0.05420059526010413, 0.019709307367310594, 0.34984020576976305, 0.07883722946924238, 0.049273268418276485, 0.0024636634209138242, 0.3794041668207289, 0.9909082906453016, 0.08954357210405842, 0.7879834345157141, 0.07163485768324673, 0.04477178605202921, 0.9551749565069461, 0.045484521738426, 0.9849755926822171, 0.024255583349021413, 0.12127791674510706, 0.8489454172157495, 0.004042597224836902, 0.9921070038428518, 0.038769059903409585, 0.8584577550040694, 0.08307655693587769, 0.005538437129058512, 0.011076874258117025, 0.9861050941047439, 0.011851784562087762, 0.9718463340911965, 0.70731692020705, 0.2742177078340144, 0.01647660047071331, 0.0005884500168111896, 0.0005884500168111896, 0.9901057805660312, 0.9849085332800643, 0.9883889428931556, 0.016310498148876754, 0.9786298889326053, 0.9662060731469072, 0.03019393978584085, 0.1690467013325011, 0.0052827094166406595, 0.8241026689959429, 0.7329489478536424, 0.09116280445940826, 0.17503258456206386, 0.31572273715432164, 0.008893598229699201, 0.6714666663422897, 0.9891334449263884, 0.9939564777387951, 0.05444607261272581, 0.01146233107636333, 0.1948596282981766, 0.4183750842872615, 0.07737073476545248, 0.2407089526036299, 0.03799968346315547, 0.19633169789296995, 0.7599936692631094, 0.13163168636303163, 0.1203489703890575, 0.026326337272606328, 0.03384814792192242, 0.47011316558225585, 0.11658806506439945, 0.09402263311645116, 0.9876251065218408, 0.9874970376202543, 0.004711180265734484, 0.994059036069976, 0.9950954120730515, 0.47283936534599263, 0.03963922823259818, 0.12458043158816573, 0.08777257680075312, 0.0934353236911243, 0.12174905814298013, 0.05945884234889728, 0.1657070806972534, 0.014729518284200303, 0.1565011317696282, 0.1215185258446525, 0.009205948927625189, 0.12335971563017753, 0.3130022635392564, 0.05707688335127618, 0.036823795710500755, 0.9853833106938901, 0.010710688159716196, 0.06318755001322583, 0.017232968185425225, 0.6893187274170091, 0.22977290913900303, 0.9140252872717635, 0.031806740765867224, 0.0518952086179939, 0.993364490033749, 0.9934125358579636, 0.9904354769364612, 0.07596683853580848, 0.9191987462832825, 0.9898055475416807, 0.44897685173102553, 0.20993825011497028, 0.10185123025379746, 0.012471579214750709, 0.006235789607375354, 0.06443649260954533, 0.10600842332538103, 0.049886316859002834, 0.002078596535791785, 0.2779618214793648, 0.7053654824637645, 0.014944183950503486, 0.0014944183950503487, 0.14761723061217416, 0.1159849669095654, 0.6959098014573925, 0.038661655636521804, 0.9686326235734273, 0.01403815396483228, 0.9876182722963105, 0.04132592799895829, 0.030055220362878755, 0.020662963999479145, 0.13712694290563432, 0.0037569025453598444, 0.0507181843623579, 0.07325959963451696, 0.529723258895738, 0.11270707636079533, 0.12443701788291782, 0.024308626749221154, 0.09202551555062294, 0.164372618970924, 0.0827650863128244, 0.07987120217601236, 0.11922802643665614, 0.1238582410555554, 0.138906438566978, 0.05035358398052953, 0.998595220673791, 0.2591575579103408, 0.14603322707646188, 0.00411361203032287, 0.06170418045484305, 0.06581779248516592, 0.3105777082893767, 0.0822722406064574, 0.010284030075807174, 0.022624866166775785, 0.03907931428806727, 0.9874766294465094, 0.99732759391659, 0.2121956376881865, 0.04777179277796868, 0.07221317512948755, 0.1077642767316968, 0.017775550801104628, 0.17108967646063203, 0.07332414705455659, 0.12553982753280143, 0.15553606950966548, 0.01555360695096655, 0.20280794285851894, 0.013520529523901263, 0.7841907123862732, 0.9976377598284567, 0.9924567500159546, 0.9875187759755912, 0.04845307898578334, 0.03768572810005371, 0.03230205265718889, 0.05383675442864815, 0.04845307898578334, 0.07537145620010742, 0.03230205265718889, 0.6675757549152371, 0.9869648851881642, 0.03186671333804827, 0.016870612943672612, 0.029992200788751307, 0.026243175690157394, 0.4986203381129905, 0.0562353764789087, 0.016870612943672612, 0.0562353764789087, 0.06373342667609654, 0.20244735532407132, 0.986633891764974, 0.9913036953613478, 0.9916855009531074, 0.9945844803588404, 0.010127409349454036, 0.9722312975475874, 0.131494894729916, 0.0408087604334222, 0.8207095153832688, 0.9844942091031527, 0.011148054172508288, 0.9698807130082211, 0.022296108345016576, 0.042470500907854786, 0.9513392203359471, 0.9882271781030579, 0.9858658683754993, 0.9900336041666662, 0.9844768835723489, 0.9859260195990697, 0.976370957465957, 0.00976370957465957, 0.28184858975090477, 0.0396172716517336, 0.12337950314397036, 0.021506518896655384, 0.01811075275507822, 0.11771989290800842, 0.14714986613501052, 0.2490228503823255, 0.9595805070002458, 0.038045042127763044, 0.9951235550941637, 0.9930663766941794, 0.9825891891787231, 0.11310096214749953, 0.0018850160357916587, 0.12252604232645782, 0.06597556125270805, 0.0018850160357916587, 0.5146093777711228, 0.12629607439804114, 0.0320452726084582, 0.020735176393708248, 0.4162539708462539, 0.5759793317523746, 0.9943357158883583, 0.08776124177421078, 0.5419380636113694, 0.16709343772829963, 0.11552751035814188, 0.0004958262247130553, 0.03173287838163554, 0.015370612966104714, 0.020328875213235266, 0.003470783572991387, 0.016362265415530826, 0.007026335885657017, 0.8642393139358131, 0.12647404594182632, 0.9932132474110995, 0.9955663090078697, 0.14640866313158074, 0.008133814618421152, 0.07049306002631665, 0.13285230543421214, 0.005422543078947435, 0.008133814618421152, 0.005422543078947435, 0.6181699110000075, 0.9889729239828441, 0.40044672547030613, 0.020327244947731277, 0.1260289186759339, 0.10976712271774888, 0.11586529620206827, 0.10366894923342951, 0.02642541843205066, 0.08740715327524448, 0.012196346968638765, 0.9873737366026586, 0.9845674436108915, 0.9795112800885828, 0.9927539010189674, 0.9903620818121235, 0.10117115749662894, 0.5080551604722019, 0.18694670406985783, 0.18914607705891498, 0.0021993729890571506, 0.008797491956228603, 0.004398745978114301, 0.0021993729890571506, 0.25664714944961886, 0.7378605546676542, 0.9805880691626608, 0.9911700907242113, 0.07127965732530163, 0.8229560436648462, 0.058319719629792245, 0.038879813086528166, 0.9869280929921496, 0.994038920400115, 0.9820373243528333, 0.07385620672708174, 0.03976872669919786, 0.10226244008365164, 0.7783307939700153, 0.1873595576091515, 0.053185938934210746, 0.0749438230436606, 0.1184595912625603, 0.014505256072966568, 0.2115349843974291, 0.06285610964952179, 0.12208590528080195, 0.05802102429186627, 0.09670170715311045, 0.9928563286737228, 0.9967901897114212, 0.9888323534385411, 0.8655200618138088, 0.05715698521411945, 0.07348755241815358, 0.9890378655491235, 0.9784163816389593, 0.0066558937526459815, 0.009983840628968973, 0.03735430531298685, 0.013340823326066733, 0.9498666208159513, 0.9959708648655693, 0.9857043939265214, 0.01649688459879046, 0.004713395599654418, 0.007070093399481626, 0.002356697799827209, 0.1319750767903237, 0.6410218015530007, 0.014140186798963252, 0.03299376919758092, 0.028280373597926504, 0.12254828559101485, 0.9956171443023725, 0.9702694841772403, 0.021561544092827564, 0.985421589631068, 0.9790130868775001, 0.09624788599294952, 0.1985112648604584, 0.7038126663234434, 0.15453646150943712, 0.03962473372036849, 0.06736204732462643, 0.2166152110046811, 0.026416489146912327, 0.05811627612320712, 0.08981606309950192, 0.1677447060828933, 0.13472409464925286, 0.04490803154975096, 0.9888748372939197, 0.006915208652405033, 0.08974367512016003, 0.6165000290863167, 0.0039018989182678272, 0.08974367512016003, 0.03511709026441045, 0.15217405781244528, 0.0039018989182678272, 0.011705696754803482, 0.9878732725212421, 0.9922530859825871, 0.9854836769634447, 0.9893677580171873, 0.8723823456527995, 0.013020632024668648, 0.11718568822201784, 0.9923429743980041, 0.006052328403193143, 0.9441632308981303, 0.012104656806386286, 0.030261642015965713, 0.06209181857377688, 0.9313772786066532, 0.05280411450925517, 0.02030927481125199, 0.6417730840355629, 0.06905153435825677, 0.10560822901851034, 0.08529895420725836, 0.02030927481125199, 0.20763488887819057, 0.4498755925694129, 0.0020356361654724564, 0.12417380609381984, 0.0020356361654724564, 0.19745670805082827, 0.004071272330944913, 0.014249453158307196, 0.8119695153013828, 0.18118328027386227, 0.9911523156013857, 0.992057529512114, 0.0371590817130025, 0.2155226739354145, 0.074318163426005, 0.026011357199101748, 0.5722498583802385, 0.06317043891210425, 0.014863632685201, 0.9916526646618351, 0.9941304546207319, 0.005955254067975297, 0.05657491364576532, 0.016376948686932066, 0.7697165882858071, 0.02382101627190119, 0.12506033542748124, 0.9887289225309899, 0.01264245789035295, 0.9861117154475301, 0.9968098463802368, 0.19754340436707507, 0.0200406352256453, 0.7014222328975854, 0.0772995930132033, 0.9891713050091078, 0.9882577724894387, 0.9860179240231409, 0.13585034954433625, 0.02527448363615558, 0.0995182793173626, 0.10188776215825218, 0.06713534715853826, 0.06792517477216813, 0.2195720765891016, 0.1263724181807779, 0.05528793295409033, 0.10109793454462232, 0.5961438095032452, 0.15002294543790276, 0.08685538946404897, 0.08685538946404897, 0.07501147271895138, 0.11990561643124821, 0.14170663760056607, 0.12353911995946786, 0.35971684929374464, 0.014534014112878572, 0.014534014112878572, 0.07448682232850268, 0.09447109173371071, 0.05268580115918482, 0.0018167517641098216, 0.023265046787365233, 0.02908130848420654, 0.9422343948882919, 0.979102525429219, 0.0022913174264979253, 0.9234009228786638, 0.07103084022143569, 0.18843220028250446, 0.16813950179054243, 0.02609061234680831, 0.0028989569274231455, 0.6116799116862837, 0.9908691936817445, 0.04121679820538256, 0.14720285073350914, 0.04416085522005274, 0.029440570146701827, 0.4474966662298678, 0.07360142536675457, 0.02355245611736146, 0.058881140293403654, 0.02060839910269128, 0.11187416655746694, 0.9875801917920332, 0.9963131160119781, 0.012960845431893239, 0.9850242528238862, 0.993953213186232, 0.12031919956239709, 0.043752436204508034, 0.08750487240901607, 0.4648696346728978, 0.04101790894172628, 0.0793012906206708, 0.1421954176646511, 0.019141690839472265, 0.09655068417286491, 0.027819688659978026, 0.0867319705281668, 0.031092593208210735, 0.2929249570668275, 0.10146004099521398, 0.07854970915758502, 0.08182261370581773, 0.11291520691402847, 0.08836842280228314, 0.9625863342159945, 0.037360656807470104, 0.9952744226894978, 0.003889156375165053, 0.9917348756670886, 0.00555892290454083, 0.9894882770082678, 0.9939124234523518, 0.007212068083886443, 0.007212068083886443, 0.007212068083886443, 0.9303567828213513, 0.050484476587205104, 0.2568126720850823, 0.040763916203981315, 0.02445834972238879, 0.0896806156487589, 0.5870003933373309, 0.9765218939536076, 0.9351831781076948, 0.0628108104699198, 0.012146520109957228, 0.9838681289065355, 0.9943230514148396, 0.12350469966210179, 0.045742481356334, 0.8279389125496454, 0.9849591710994272, 0.00890724229396494, 0.07125793835171952, 0.08016518064568445, 0.00445362114698247, 0.8283735333387394, 0.9952992844924637, 0.9835973538398199, 0.13915026476322356, 0.004216674689794654, 0.054816770967330494, 0.7843014923018056, 0.012650024069383961, 0.004216674689794654, 0.9864395963760969, 0.23609296579408467, 0.18243547356815634, 0.5795009160400261, 0.9961137754755336, 0.9929609814297341, 0.9922561326695454, 0.07319718771385707, 0.036598593856928534, 0.006099765642821422, 0.006099765642821422, 0.8722664869234634, 0.9958359556083652, 0.9971988965184427, 0.7548287649714713, 0.24233976138557764, 0.08145214187044475, 0.029090050668015982, 0.09308816213765114, 0.005818010133603196, 0.08145214187044475, 0.7039792261659867, 0.14339021327853646, 0.0774307151704097, 0.1347868004818243, 0.005735608531141459, 0.05162047678027313, 0.5018657464748776, 0.07169510663926823, 0.011471217062282917, 0.16148575051085629, 0.16507432274443087, 0.07894858913864085, 0.5311086905690384, 0.007177144467149168, 0.050240011270044176, 0.039547936460825585, 0.12303802454479071, 0.7294397169441164, 0.10546116389553489, 0.011274082076522212, 0.9808451406574324, 0.9888864025391285, 0.013011663191304323, 0.9857701968507665, 0.060643021437406984, 0.6287723801667987, 0.2329968718384584, 0.057451283467017146, 0.01915042782233905, 0.9912579776660924, 0.11098714387720451, 0.6951300063888073, 0.008762142937674041, 0.0438107146883702, 0.10514571525208849, 0.032127857438138153, 0.9918628362516451, 0.945623735220196, 0.04590406481651437, 0.029374960865740516, 0.007343740216435129, 0.9620299683530018, 0.02448112583567344, 0.9670044705091009, 0.9927394321591763, 0.9919306657105844, 0.9915769334209489, 0.06332953273422609, 0.3825103777147256, 0.06206294207954158, 0.07599543928107132, 0.11019338695755342, 0.07979521124512488, 0.04939703553269636, 0.021532041129636872, 0.12285929350439863, 0.03419794767648209, 0.9135440313448965, 0.07982423574858319, 0.9890933018041314, 0.14291625648390796, 0.02858325129678159, 0.037515517327025835, 0.050020689769367785, 0.03572906412097699, 0.3429990155613791, 0.1732859609867384, 0.10182783274478442, 0.08753620709639362, 0.14536074417277298, 0.08613970025053212, 0.013459328164145645, 0.6433558862461618, 0.11305835657882342, 0.036663146554205966, 0.9593523348350562, 0.0278293416059157, 0.003975620229416529, 0.04770744275299835, 0.0954148855059967, 0.07156116412949752, 0.7513922233597239, 0.6624747806042864, 0.2749270339507789, 0.03312373903021432, 0.02981136512719289, 0.1041932509775542, 0.8825781259275179, 0.006129014763385541, 0.9758680484272242, 0.016401143671045785, 0.9884183135234615, 0.006858490389541609, 0.016003144242263755, 0.05486792311633287, 0.5806855196478562, 0.013716980779083218, 0.10973584623266575, 0.03200628848452751, 0.0022861634631805364, 0.18517924051762344, 0.08130440430598698, 0.10081746133942385, 0.6211656488977405, 0.026017409377915832, 0.09756528516718438, 0.06504352344478959, 0.003252176172239479, 0.04566048771662179, 0.9497381445057331, 0.9953112509387979, 0.9869836011173682, 0.9888307601987157, 0.16112700679110267, 0.03502761017197884, 0.7986295119211176, 0.987812461139614, 0.9870150196832947, 0.02821962996626743, 0.02821962996626743, 0.7090182029024692, 0.13051578859398685, 0.03174708371205086, 0.010582361237350287, 0.05643925993253486, 0.0035274537457834288, 0.9956076470589346, 0.030898940288814323, 0.09831481000986377, 0.04494391314736629, 0.0814608425796014, 0.005617989143420786, 0.7387655723598334, 0.986524173656964, 0.987904163399959, 0.0038926182099349956, 0.02919463657451247, 0.7473826963075192, 0.03503356388941496, 0.0019463091049674978, 0.027248327469544968, 0.019463091049674978, 0.07590605509373241, 0.015570472839739983, 0.04476510941425245, 0.9913929397434184, 0.07333027888257922, 0.9190728286616595, 0.07479043268129221, 0.9199223219798941, 0.947197062809341, 0.050742699793357555, 0.09502078413077682, 0.06334718942051788, 0.019004156826155364, 0.8171787435246807, 0.006334718942051788, 0.10129972390324203, 0.8932793835104069, 0.9868416043928322, 0.045427641697917555, 0.005678455212239694, 0.7949837297135572, 0.15331829073047176, 0.9855113011006684, 0.9923042435733141, 0.9805325394207882, 0.8700266007487432, 0.04200128417407726, 0.08400256834815452, 0.989388106922456, 0.9102864769514892, 0.08783466005672265, 0.4764112145881599, 0.04331011041710544, 0.21135333883547455, 0.010394426500105306, 0.06236655900063184, 0.0589017501672634, 0.10567666941773728, 0.0294508750836317, 0.005197213250052653, 0.9947250828679205, 0.5830443665982711, 0.16762525539700296, 0.04372832749487034, 0.08016860040726229, 0.05830443665982711, 0.01822013645619597, 0.0036440272912391944, 0.04737235478610953, 0.0645936465070141, 0.021531215502338035, 0.05382803875584509, 0.005382803875584509, 0.8020377774620918, 0.04306243100467607, 0.005382803875584509, 0.9856357715619118, 0.9877890421003154, 0.986456449037471, 0.9878053445407569, 0.9868476111635771, 0.9940495353027342, 0.005209412278804328, 0.7136894821961929, 0.06772235962445626, 0.04167529823043462, 0.1667011929217385, 0.07147438787790826, 0.004467149242369266, 0.8800284007467454, 0.0402043431813234, 0.09901099244364459, 0.7891758515361084, 0.034945056156580445, 0.07280220032620925, 0.0029120880130483703, 0.9969861647029247, 0.22228800384485178, 0.013337280230691107, 0.001111440019224259, 0.06446352111500701, 0.058906321018885724, 0.07002072121112832, 0.06890928119190405, 0.0677978411726798, 0.4167900072090971, 0.013337280230691107, 0.03024079710873565, 0.19404511478105374, 0.776180459124215, 0.054702592818278065, 0.8387730898802637, 0.027351296409139032, 0.06837824102284758, 0.038546161464759685, 0.9540174962528022, 0.057066208473965235, 0.015423299587558172, 0.0015423299587558172, 0.5783737345334314, 0.07094717810276759, 0.05552387851520942, 0.02313494938133726, 0.0030846599175116344, 0.1958759047619888, 0.9919222677244373, 0.9878084925070499, 0.9876421644942787, 0.006000083491278088, 0.8100112713225419, 0.13200183680811794, 0.03000041745639044, 0.018000250473834266, 0.35345718765540746, 0.07623586400410749, 0.05544426473025999, 0.16460016091795937, 0.06757269764000437, 0.2806865901969412, 0.8186516571069764, 0.15818567876369863, 0.022830922708162688, 0.9909310799233416, 0.9896722489935614, 0.08421324987008715, 0.006238018508895344, 0.012476037017790688, 0.2120926293024417, 0.1216413609234592, 0.08265374524286331, 0.04678513881671508, 0.020273560153909867, 0.41482823084154036, 0.9567821126137788, 0.03061702760364092, 0.9873976081901286, 0.04680651512866101, 0.10989355725859541, 0.03663118575286514, 0.052911712754138536, 0.09971822788279955, 0.28694428839744357, 0.05087664687897936, 0.11803382075923212, 0.15262994063693808, 0.04884158100382018, 0.002780697006055881, 0.13347345629068227, 0.12791206227857052, 0.06673672814534114, 0.011122788024223524, 0.1306927592846264, 0.04171045509083821, 0.4643764000113321, 0.022245576048447048], \"Term\": [\"11\", \"11\", \"11\", \"17\", \"2013\", \"2014\", \"2015\", \"abattoir\", \"abbott\", \"abbott\", \"abbott\", \"abbott\", \"abbott\", \"abc\", \"abuse\", \"abuse\", \"academic\", \"accident\", \"accused\", \"accused\", \"accused\", \"accused\", \"accused\", \"afghan\", \"afghanistan\", \"afghanistan\", \"afl\", \"afl\", \"afl\", \"afl\", \"afl\", \"afl\", \"afl\", \"afp\", \"ag\", \"al\", \"alice\", \"alice\", \"alice\", \"alice\", \"alleged\", \"alleged\", \"alleged\", \"ama\", \"analysis\", \"andrew\", \"andrew\", \"andrew\", \"andrew\", \"anger\", \"anzac\", \"appeal\", \"appeal\", \"appeal\", \"appeal\", \"appeal\", \"appeal\", \"appeal\", \"appeal\", \"appeals\", \"apple\", \"april\", \"arrested\", \"arrested\", \"arrested\", \"arrests\", \"arson\", \"assault\", \"assaulted\", \"asylum\", \"attack\", \"attack\", \"attack\", \"attack\", \"attack\", \"attack\", \"attack\", \"attack\", \"attacked\", \"august\", \"aussie\", \"aussie\", \"aussie\", \"aussie\", \"aussie\", \"aussie\", \"aussies\", \"aussies\", \"aussies\", \"aussies\", \"australia\", \"australia\", \"australia\", \"australia\", \"australia\", \"australia\", \"australia\", \"australia\", \"australia\", \"australia\", \"australian\", \"australian\", \"australian\", \"australian\", \"australian\", \"australian\", \"australian\", \"australian\", \"australian\", \"australian\", \"avoids\", \"baghdad\", \"bail\", \"bali\", \"bali\", \"bangladesh\", \"banned\", \"banned\", \"base\", \"basin\", \"beat\", \"beat\", \"beat\", \"ben\", \"ben\", \"bhp\", \"bhp\", \"big\", \"big\", \"big\", \"big\", \"big\", \"big\", \"big\", \"big\", \"big\", \"bird\", \"bird\", \"birth\", \"blacks\", \"blast\", \"blast\", \"blaze\", \"blaze\", \"blaze\", \"blaze\", \"blood\", \"blues\", \"blues\", \"bomb\", \"bomb\", \"bomb\", \"boost\", \"boost\", \"boost\", \"boost\", \"boost\", \"boost\", \"boost\", \"boost\", \"boy\", \"boy\", \"break\", \"break\", \"break\", \"breakthrough\", \"broken\", \"brother\", \"brothers\", \"brumbies\", \"budget\", \"budget\", \"budget\", \"budget\", \"budget\", \"budget\", \"bulldogs\", \"bulls\", \"burma\", \"burns\", \"bush\", \"bush\", \"bush\", \"bush\", \"bush\", \"bushfire\", \"bushfire\", \"bushfire\", \"bushfire\", \"bushfire\", \"bushfire\", \"bushfire\", \"bushfire\", \"business\", \"business\", \"bust\", \"bust\", \"cabinet\", \"cabinet\", \"cabinet\", \"calls\", \"calls\", \"calls\", \"calls\", \"calls\", \"calls\", \"calls\", \"calls\", \"calls\", \"calls\", \"cameron\", \"canada\", \"cancelled\", \"cancer\", \"cancer\", \"candidates\", \"cap\", \"capital\", \"car\", \"car\", \"car\", \"car\", \"carbon\", \"care\", \"care\", \"care\", \"career\", \"case\", \"case\", \"case\", \"case\", \"case\", \"case\", \"case\", \"case\", \"cattle\", \"cattle\", \"cattle\", \"cattle\", \"celebrates\", \"chance\", \"chance\", \"change\", \"change\", \"change\", \"change\", \"change\", \"change\", \"change\", \"changes\", \"changes\", \"changes\", \"changes\", \"changes\", \"changes\", \"changes\", \"changes\", \"changes\", \"charge\", \"charge\", \"charge\", \"charge\", \"charge\", \"charged\", \"charged\", \"charged\", \"charges\", \"charges\", \"charges\", \"chase\", \"child\", \"child\", \"child\", \"child\", \"china\", \"china\", \"china\", \"china\", \"china\", \"china\", \"china\", \"china\", \"china\", \"china\", \"chopper\", \"chris\", \"citrus\", \"claims\", \"claims\", \"claims\", \"claims\", \"claims\", \"claims\", \"claims\", \"claims\", \"claims\", \"claims\", \"clarke\", \"clash\", \"clash\", \"clash\", \"clash\", \"clashes\", \"climate\", \"clinton\", \"closer\", \"closer\", \"closure\", \"closure\", \"clues\", \"coal\", \"coal\", \"coal\", \"coal\", \"coal\", \"coal\", \"coast\", \"coast\", \"coast\", \"coast\", \"coast\", \"coast\", \"collision\", \"comes\", \"comment\", \"concerns\", \"concerns\", \"concerns\", \"concerns\", \"concerns\", \"concerns\", \"confidence\", \"considered\", \"construction\", \"controversial\", \"cooper\", \"cop\", \"council\", \"council\", \"council\", \"council\", \"council\", \"council\", \"council\", \"council\", \"council\", \"councils\", \"councils\", \"country\", \"court\", \"court\", \"court\", \"court\", \"crash\", \"crashes\", \"creek\", \"creek\", \"crews\", \"crews\", \"crisis\", \"crisis\", \"crisis\", \"crisis\", \"crisis\", \"crisis\", \"criticised\", \"crop\", \"crop\", \"crop\", \"crops\", \"crowd\", \"crows\", \"csg\", \"cup\", \"cup\", \"cup\", \"cup\", \"cup\", \"cup\", \"cuts\", \"cuts\", \"cuts\", \"cuts\", \"cuts\", \"cuts\", \"dairy\", \"dairy\", \"dangerous\", \"darling\", \"david\", \"david\", \"david\", \"david\", \"day\", \"day\", \"day\", \"day\", \"day\", \"day\", \"day\", \"day\", \"dead\", \"dead\", \"deadline\", \"death\", \"death\", \"death\", \"death\", \"death\", \"death\", \"death\", \"death\", \"debt\", \"debt\", \"december\", \"decide\", \"democrats\", \"denied\", \"destroys\", \"detention\", \"dies\", \"disability\", \"disappointed\", \"dispute\", \"dispute\", \"dispute\", \"dockers\", \"doctors\", \"doctors\", \"doctors\", \"doctors\", \"does\", \"dogs\", \"dogs\", \"dogs\", \"dogs\", \"domestic\", \"domestic\", \"domestic\", \"donald\", \"dont\", \"dont\", \"dozens\", \"dpp\", \"dragons\", \"drink\", \"drink\", \"driver\", \"driver\", \"drivers\", \"drivers\", \"drivers\", \"drivers\", \"drivers\", \"drivers\", \"driving\", \"dropped\", \"drought\", \"drought\", \"drought\", \"drought\", \"drought\", \"drought\", \"drum\", \"dubbo\", \"eagles\", \"easter\", \"election\", \"election\", \"election\", \"election\", \"election\", \"election\", \"election\", \"election\", \"election\", \"emissions\", \"energy\", \"energy\", \"energy\", \"energy\", \"energy\", \"entertainment\", \"evidence\", \"evidence\", \"ex\", \"ex\", \"ex\", \"ex\", \"ex\", \"ex\", \"exchange\", \"expansion\", \"expansion\", \"expected\", \"expected\", \"expected\", \"expected\", \"expected\", \"expected\", \"expected\", \"exploration\", \"extended\", \"extends\", \"face\", \"face\", \"face\", \"face\", \"face\", \"face\", \"face\", \"face\", \"face\", \"face\", \"faces\", \"faces\", \"faces\", \"faces\", \"fair\", \"farm\", \"farm\", \"farm\", \"farm\", \"farmers\", \"farmers\", \"farmers\", \"farmers\", \"farmers\", \"farmers\", \"farmers\", \"farmers\", \"farmers\", \"farming\", \"fatal\", \"fears\", \"fears\", \"fears\", \"fears\", \"fears\", \"fears\", \"fears\", \"fears\", \"fears\", \"fears\", \"feature\", \"february\", \"federal\", \"federal\", \"federal\", \"federal\", \"federal\", \"federal\", \"federal\", \"federer\", \"federer\", \"female\", \"ferguson\", \"final\", \"final\", \"final\", \"final\", \"final\", \"final\", \"finals\", \"finals\", \"finds\", \"finds\", \"finds\", \"finds\", \"finds\", \"finds\", \"finds\", \"finds\", \"finds\", \"firefighters\", \"fish\", \"fish\", \"fish\", \"fishermen\", \"fishers\", \"fishers\", \"fishing\", \"fishing\", \"flooding\", \"flooding\", \"floods\", \"floods\", \"floods\", \"floods\", \"floods\", \"floods\", \"floods\", \"flow\", \"flu\", \"flu\", \"fly\", \"focus\", \"focus\", \"focus\", \"focus\", \"forecast\", \"france\", \"fraser\", \"fraud\", \"fraud\", \"friday\", \"friday\", \"fruit\", \"funding\", \"funding\", \"funding\", \"funding\", \"funding\", \"funding\", \"funding\", \"funds\", \"funds\", \"funds\", \"funds\", \"funds\", \"funds\", \"funds\", \"funeral\", \"funeral\", \"gains\", \"gallery\", \"game\", \"game\", \"games\", \"games\", \"games\", \"games\", \"games\", \"gather\", \"gaza\", \"getting\", \"gillard\", \"gillard\", \"gillard\", \"gillard\", \"goes\", \"goes\", \"goes\", \"going\", \"gold\", \"gold\", \"gold\", \"gold\", \"gold\", \"government\", \"government\", \"government\", \"government\", \"government\", \"government\", \"government\", \"government\", \"government\", \"govt\", \"govt\", \"govt\", \"govt\", \"govt\", \"govt\", \"govt\", \"govt\", \"govt\", \"gp\", \"gp\", \"grain\", \"grain\", \"grain\", \"grandstand\", \"grandstand\", \"granted\", \"green\", \"green\", \"green\", \"green\", \"green\", \"green\", \"green\", \"greens\", \"greens\", \"greens\", \"group\", \"group\", \"group\", \"group\", \"group\", \"group\", \"group\", \"group\", \"group\", \"group\", \"growers\", \"growers\", \"growers\", \"guilty\", \"guilty\", \"guilty\", \"hand\", \"hand\", \"hands\", \"harvest\", \"harvest\", \"harvest\", \"haul\", \"hawks\", \"health\", \"health\", \"health\", \"health\", \"health\", \"health\", \"health\", \"health\", \"hears\", \"hears\", \"heavy\", \"helicopter\", \"help\", \"help\", \"help\", \"help\", \"help\", \"help\", \"help\", \"help\", \"help\", \"help\", \"heritage\", \"heritage\", \"heritage\", \"hewitt\", \"hicks\", \"higher\", \"higher\", \"higher\", \"hill\", \"hill\", \"hill\", \"hit\", \"hit\", \"hit\", \"hit\", \"hit\", \"hit\", \"hit\", \"hit\", \"hit\", \"hit\", \"hits\", \"hits\", \"hits\", \"hits\", \"hits\", \"hits\", \"hits\", \"hits\", \"hits\", \"hits\", \"hobart\", \"hobart\", \"hobart\", \"holds\", \"holds\", \"home\", \"home\", \"home\", \"home\", \"home\", \"home\", \"home\", \"home\", \"home\", \"home\", \"hong\", \"horse\", \"horse\", \"hospital\", \"hospital\", \"hospital\", \"hospital\", \"hospital\", \"hospital\", \"hospital\", \"hospital\", \"hospital\", \"hour\", \"house\", \"house\", \"house\", \"house\", \"house\", \"house\", \"house\", \"house\", \"housing\", \"housing\", \"housing\", \"housing\", \"housing\", \"housing\", \"housing\", \"howard\", \"howard\", \"howard\", \"howard\", \"howard\", \"human\", \"hunt\", \"hunt\", \"hunt\", \"hunt\", \"icac\", \"iemma\", \"illegal\", \"incident\", \"incident\", \"india\", \"india\", \"india\", \"india\", \"india\", \"india\", \"india\", \"india\", \"indigenous\", \"indigenous\", \"indigenous\", \"indigenous\", \"indigenous\", \"indigenous\", \"indigenous\", \"industry\", \"industry\", \"industry\", \"industry\", \"industry\", \"industry\", \"industry\", \"industry\", \"industry\", \"information\", \"infrastructure\", \"injured\", \"injured\", \"injured\", \"injured\", \"inquiry\", \"inquiry\", \"inquiry\", \"inquiry\", \"inquiry\", \"intervention\", \"interview\", \"interview\", \"interview\", \"invasion\", \"investigate\", \"investigate\", \"investigate\", \"investigate\", \"iron\", \"irrigation\", \"irrigators\", \"isa\", \"islands\", \"israel\", \"israel\", \"issues\", \"issues\", \"issues\", \"jail\", \"jail\", \"jail\", \"jail\", \"jail\", \"jailed\", \"jailed\", \"jailed\", \"jails\", \"james\", \"job\", \"job\", \"job\", \"job\", \"job\", \"job\", \"john\", \"john\", \"john\", \"john\", \"john\", \"john\", \"johnson\", \"johnson\", \"joins\", \"judge\", \"judge\", \"judge\", \"july\", \"june\", \"jury\", \"kangaroo\", \"katherine\", \"killed\", \"killed\", \"killed\", \"killer\", \"killer\", \"kills\", \"kills\", \"kills\", \"kills\", \"kim\", \"king\", \"king\", \"king\", \"king\", \"kings\", \"knights\", \"kohler\", \"korea\", \"korea\", \"korea\", \"korea\", \"korea\", \"korean\", \"labor\", \"labor\", \"labor\", \"labor\", \"labor\", \"labor\", \"labor\", \"lanka\", \"lawyers\", \"lead\", \"lead\", \"lead\", \"lead\", \"lead\", \"lead\", \"lead\", \"lead\", \"lead\", \"leading\", \"legal\", \"legal\", \"legal\", \"legal\", \"liberals\", \"liberals\", \"lights\", \"live\", \"live\", \"live\", \"live\", \"looms\", \"loses\", \"loses\", \"loses\", \"loses\", \"loses\", \"love\", \"malaysia\", \"malaysia\", \"man\", \"man\", \"man\", \"man\", \"man\", \"mans\", \"manslaughter\", \"marathon\", \"march\", \"march\", \"marine\", \"marine\", \"mark\", \"mark\", \"mark\", \"market\", \"market\", \"market\", \"markets\", \"markets\", \"markets\", \"matt\", \"matthew\", \"media\", \"media\", \"media\", \"media\", \"media\", \"media\", \"medical\", \"medical\", \"medical\", \"meeting\", \"meeting\", \"meeting\", \"meeting\", \"meeting\", \"meeting\", \"meeting\", \"meets\", \"mexico\", \"michael\", \"michael\", \"milk\", \"mining\", \"mining\", \"mining\", \"mining\", \"mining\", \"mining\", \"mining\", \"minister\", \"minister\", \"minister\", \"minister\", \"minister\", \"minister\", \"minister\", \"minister\", \"minister\", \"ministers\", \"ministers\", \"miss\", \"miss\", \"miss\", \"miss\", \"missing\", \"missing\", \"missing\", \"mission\", \"mitchell\", \"mobile\", \"monday\", \"monday\", \"mount\", \"mp\", \"mp\", \"mp\", \"mp\", \"mp\", \"mp\", \"mp\", \"mp\", \"mp\", \"murder\", \"murder\", \"murder\", \"murder\", \"murray\", \"murray\", \"murray\", \"murray\", \"muslim\", \"muslim\", \"nation\", \"national\", \"national\", \"national\", \"national\", \"national\", \"national\", \"national\", \"national\", \"national\", \"new\", \"new\", \"new\", \"new\", \"new\", \"new\", \"new\", \"new\", \"new\", \"new\", \"news\", \"north\", \"north\", \"north\", \"north\", \"north\", \"north\", \"north\", \"north\", \"north\", \"north\", \"november\", \"nrn\", \"nsw\", \"nsw\", \"nsw\", \"nsw\", \"nsw\", \"nsw\", \"nsw\", \"nsw\", \"nsw\", \"nsw\", \"nuclear\", \"nuclear\", \"nuclear\", \"obama\", \"october\", \"offences\", \"olympic\", \"olympic\", \"olympic\", \"olympic\", \"olympic\", \"olympic\", \"olympic\", \"olympic\", \"olympics\", \"open\", \"open\", \"open\", \"open\", \"open\", \"open\", \"open\", \"open\", \"open\", \"open\", \"options\", \"orange\", \"ore\", \"origin\", \"owners\", \"owners\", \"pacific\", \"pacific\", \"pacific\", \"palmer\", \"patient\", \"patient\", \"patient\", \"paul\", \"paul\", \"pays\", \"pedestrian\", \"petrol\", \"pga\", \"pilbara\", \"pilot\", \"pilot\", \"plan\", \"plan\", \"plan\", \"plan\", \"plan\", \"plan\", \"plan\", \"plan\", \"plane\", \"plane\", \"pleads\", \"pledges\", \"plus\", \"pm\", \"pm\", \"pm\", \"pm\", \"pm\", \"pm\", \"pm\", \"pm\", \"pm\", \"podcast\", \"podcast\", \"pole\", \"police\", \"police\", \"police\", \"police\", \"police\", \"police\", \"police\", \"police\", \"police\", \"police\", \"politics\", \"politics\", \"politics\", \"ponting\", \"porn\", \"port\", \"port\", \"port\", \"port\", \"port\", \"port\", \"port\", \"port\", \"posts\", \"power\", \"power\", \"power\", \"power\", \"power\", \"power\", \"power\", \"power\", \"power\", \"predicted\", \"press\", \"priest\", \"prince\", \"prize\", \"probe\", \"probe\", \"probe\", \"probe\", \"probe\", \"probe\", \"probe\", \"probe\", \"profit\", \"profit\", \"projects\", \"promise\", \"prompts\", \"prompts\", \"prompts\", \"prompts\", \"proposal\", \"pulp\", \"pursuit\", \"qantas\", \"qantas\", \"qantas\", \"qantas\", \"qld\", \"qld\", \"qld\", \"qld\", \"qld\", \"qld\", \"qld\", \"qld\", \"qld\", \"qld\", \"quake\", \"quarter\", \"question\", \"racing\", \"racing\", \"racing\", \"raiders\", \"rail\", \"rail\", \"rail\", \"rain\", \"rain\", \"rain\", \"rape\", \"receives\", \"record\", \"record\", \"record\", \"record\", \"record\", \"record\", \"record\", \"record\", \"record\", \"record\", \"redbacks\", \"reds\", \"reds\", \"refused\", \"regions\", \"rejects\", \"rejects\", \"rejects\", \"report\", \"report\", \"report\", \"report\", \"report\", \"report\", \"report\", \"report\", \"report\", \"report\", \"rescued\", \"rescued\", \"research\", \"research\", \"research\", \"research\", \"research\", \"research\", \"research\", \"research\", \"reserve\", \"resignation\", \"resort\", \"resumes\", \"revamp\", \"revamp\", \"revamp\", \"revealed\", \"rights\", \"rights\", \"rights\", \"rights\", \"rises\", \"rises\", \"risk\", \"risk\", \"risk\", \"risk\", \"risk\", \"risk\", \"risk\", \"road\", \"road\", \"road\", \"road\", \"road\", \"road\", \"road\", \"road\", \"roads\", \"roads\", \"roosters\", \"round\", \"rudd\", \"rudd\", \"rudd\", \"rudd\", \"rudd\", \"rudd\", \"rudd\", \"ruled\", \"ruling\", \"rural\", \"rural\", \"rural\", \"rural\", \"rural\", \"rural\", \"ryan\", \"sach\", \"sach\", \"safe\", \"safety\", \"safety\", \"safety\", \"safety\", \"said\", \"saints\", \"saudi\", \"says\", \"says\", \"says\", \"says\", \"says\", \"says\", \"says\", \"says\", \"says\", \"says\", \"scheme\", \"scheme\", \"scheme\", \"scheme\", \"scheme\", \"school\", \"school\", \"school\", \"school\", \"school\", \"school\", \"school\", \"school\", \"school\", \"school\", \"scott\", \"scott\", \"scott\", \"scrutiny\", \"search\", \"search\", \"search\", \"season\", \"season\", \"season\", \"season\", \"season\", \"seat\", \"second\", \"second\", \"second\", \"second\", \"second\", \"second\", \"second\", \"second\", \"second\", \"second\", \"seeker\", \"seekers\", \"sells\", \"sells\", \"september\", \"service\", \"service\", \"service\", \"service\", \"service\", \"service\", \"service\", \"service\", \"set\", \"set\", \"set\", \"set\", \"set\", \"set\", \"set\", \"set\", \"set\", \"set\", \"sex\", \"sex\", \"sexual\", \"share\", \"share\", \"shares\", \"shares\", \"sharks\", \"sheep\", \"sheep\", \"sheep\", \"sheep\", \"sheep\", \"shire\", \"shire\", \"shire\", \"shire\", \"shire\", \"shoot\", \"shooting\", \"shooting\", \"shopping\", \"shopping\", \"shot\", \"signs\", \"signs\", \"signs\", \"smash\", \"smith\", \"smith\", \"smith\", \"smith\", \"smith\", \"soldiers\", \"spain\", \"sparks\", \"sparks\", \"sparks\", \"sparks\", \"sparks\", \"sparks\", \"speak\", \"speaks\", \"speaks\", \"speaks\", \"sport\", \"spotlight\", \"springs\", \"squad\", \"squad\", \"squad\", \"squad\", \"squad\", \"sri\", \"st\", \"stabbing\", \"stabbing\", \"stage\", \"stage\", \"stage\", \"stage\", \"stage\", \"stage\", \"state\", \"state\", \"state\", \"state\", \"state\", \"state\", \"state\", \"state\", \"station\", \"station\", \"station\", \"station\", \"station\", \"station\", \"stay\", \"stay\", \"stay\", \"stay\", \"steve\", \"steve\", \"stock\", \"stock\", \"stocks\", \"storm\", \"storm\", \"storm\", \"storm\", \"storm\", \"storms\", \"study\", \"study\", \"study\", \"study\", \"study\", \"study\", \"summary\", \"summit\", \"summit\", \"supply\", \"supply\", \"supply\", \"supports\", \"supports\", \"surgery\", \"suspicious\", \"swine\", \"sydney\", \"sydney\", \"sydney\", \"sydney\", \"sydney\", \"sydney\", \"sydney\", \"sydney\", \"sydney\", \"sydney\", \"syria\", \"syria\", \"taliban\", \"talks\", \"talks\", \"talks\", \"talks\", \"talks\", \"talks\", \"talks\", \"talks\", \"talks\", \"tax\", \"tax\", \"tax\", \"tax\", \"tax\", \"teachers\", \"teachers\", \"team\", \"team\", \"team\", \"team\", \"team\", \"team\", \"teen\", \"teen\", \"teen\", \"teen\", \"telstra\", \"telstra\", \"telstra\", \"term\", \"term\", \"territory\", \"test\", \"test\", \"test\", \"test\", \"test\", \"test\", \"test\", \"test\", \"test\", \"threat\", \"threat\", \"threat\", \"threat\", \"threat\", \"threat\", \"threat\", \"tiger\", \"tiger\", \"tigers\", \"tight\", \"tim\", \"timor\", \"timor\", \"timor\", \"today\", \"toddler\", \"told\", \"told\", \"told\", \"told\", \"told\", \"told\", \"told\", \"told\", \"toll\", \"tour\", \"tour\", \"tour\", \"tour\", \"tour\", \"tour\", \"tourists\", \"trees\", \"trial\", \"trial\", \"trial\", \"trial\", \"trial\", \"trial\", \"trial\", \"trial\", \"trial\", \"trial\", \"triple\", \"truck\", \"truck\", \"tuesday\", \"tuesday\", \"turn\", \"turn\", \"turnbull\", \"turnbull\", \"turnbull\", \"turnbull\", \"turnbull\", \"unions\", \"unions\", \"unit\", \"united\", \"united\", \"united\", \"united\", \"unlikely\", \"unveils\", \"update\", \"upgrade\", \"upgrade\", \"upgrade\", \"upper\", \"uranium\", \"uranium\", \"urged\", \"urged\", \"urged\", \"urged\", \"urged\", \"urged\", \"urged\", \"urged\", \"urged\", \"van\", \"violence\", \"violence\", \"violence\", \"violence\", \"violence\", \"violence\", \"violence\", \"violence\", \"visit\", \"visit\", \"visit\", \"visit\", \"visit\", \"visit\", \"visit\", \"voters\", \"votes\", \"wage\", \"wagga\", \"walk\", \"wall\", \"wallabies\", \"wallabies\", \"wallabies\", \"wallabies\", \"wallabies\", \"warned\", \"warned\", \"warned\", \"warned\", \"warning\", \"warning\", \"warning\", \"warning\", \"warning\", \"warriors\", \"water\", \"water\", \"water\", \"water\", \"water\", \"water\", \"water\", \"water\", \"water\", \"water\", \"weather\", \"weather\", \"weather\", \"week\", \"week\", \"week\", \"week\", \"whale\", \"whale\", \"win\", \"win\", \"win\", \"win\", \"win\", \"win\", \"win\", \"win\", \"win\", \"wind\", \"windies\", \"winds\", \"wine\", \"wine\", \"wine\", \"wine\", \"wine\", \"wins\", \"wins\", \"wins\", \"wins\", \"wins\", \"wins\", \"woman\", \"woman\", \"woman\", \"womans\", \"wool\", \"world\", \"world\", \"world\", \"world\", \"world\", \"world\", \"world\", \"world\", \"world\", \"wrap\", \"wrap\", \"wrong\", \"year\", \"year\", \"year\", \"year\", \"year\", \"year\", \"year\", \"year\", \"year\", \"year\", \"years\", \"years\", \"years\", \"years\", \"years\", \"years\", \"years\", \"years\", \"years\"]}, \"R\": 30, \"lambda.step\": 0.01, \"plot.opts\": {\"xlab\": \"PC1\", \"ylab\": \"PC2\"}, \"topic.order\": [2, 4, 9, 3, 8, 6, 1, 5, 10, 7]};\n",
              "\n",
              "function LDAvis_load_lib(url, callback){\n",
              "  var s = document.createElement('script');\n",
              "  s.src = url;\n",
              "  s.async = true;\n",
              "  s.onreadystatechange = s.onload = callback;\n",
              "  s.onerror = function(){console.warn(\"failed to load library \" + url);};\n",
              "  document.getElementsByTagName(\"head\")[0].appendChild(s);\n",
              "}\n",
              "\n",
              "if(typeof(LDAvis) !== \"undefined\"){\n",
              "   // already loaded: just create the visualization\n",
              "   !function(LDAvis){\n",
              "       new LDAvis(\"#\" + \"ldavis_el1381404933756346725252549369\", ldavis_el1381404933756346725252549369_data);\n",
              "   }(LDAvis);\n",
              "}else if(typeof define === \"function\" && define.amd){\n",
              "   // require.js is available: use it to load d3/LDAvis\n",
              "   require.config({paths: {d3: \"https://cdnjs.cloudflare.com/ajax/libs/d3/3.5.5/d3.min\"}});\n",
              "   require([\"d3\"], function(d3){\n",
              "      window.d3 = d3;\n",
              "      LDAvis_load_lib(\"https://cdn.rawgit.com/bmabey/pyLDAvis/files/ldavis.v1.0.0.js\", function(){\n",
              "        new LDAvis(\"#\" + \"ldavis_el1381404933756346725252549369\", ldavis_el1381404933756346725252549369_data);\n",
              "      });\n",
              "    });\n",
              "}else{\n",
              "    // require.js not available: dynamically load d3 & LDAvis\n",
              "    LDAvis_load_lib(\"https://cdnjs.cloudflare.com/ajax/libs/d3/3.5.5/d3.min.js\", function(){\n",
              "         LDAvis_load_lib(\"https://cdn.rawgit.com/bmabey/pyLDAvis/files/ldavis.v1.0.0.js\", function(){\n",
              "                 new LDAvis(\"#\" + \"ldavis_el1381404933756346725252549369\", ldavis_el1381404933756346725252549369_data);\n",
              "            })\n",
              "         });\n",
              "}\n",
              "</script>"
            ],
            "text/plain": [
              "<IPython.core.display.HTML object>"
            ]
          },
          "metadata": {
            "tags": []
          },
          "execution_count": 25
        }
      ]
    }
  ]
}
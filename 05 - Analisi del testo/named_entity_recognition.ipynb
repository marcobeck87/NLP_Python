{
  "nbformat": 4,
  "nbformat_minor": 0,
  "metadata": {
    "colab": {
      "name": "named_entity_recognition.ipynb",
      "version": "0.3.2",
      "provenance": [],
      "include_colab_link": true
    },
    "kernelspec": {
      "name": "python3",
      "display_name": "Python 3"
    }
  },
  "cells": [
    {
      "cell_type": "markdown",
      "metadata": {
        "id": "view-in-github",
        "colab_type": "text"
      },
      "source": [
        "<a href=\"https://colab.research.google.com/github/ProfAI/nlp00/blob/master/5%20-%20Analisi%20del%20testo/named_entity_recognition.ipynb\" target=\"_parent\"><img src=\"https://colab.research.google.com/assets/colab-badge.svg\" alt=\"Open In Colab\"/></a>"
      ]
    },
    {
      "metadata": {
        "id": "qqrTWU73GRdu",
        "colab_type": "text"
      },
      "cell_type": "markdown",
      "source": [
        "# Named Entity Recognition\n",
        "La Named Entity Recognition (NER) è l'operazione di livello superiore al POS Tagging e consiste nell'identificare la classe di appartenenza di una determinata parola. Esempi di classi possono essere: persone, organizzazioni, luoghi e quantità.\n",
        "<br><br>\n",
        "Entità è un'altra delle informazioni che Spacy ci restituisce, vediamo come ottenerla.\n",
        "Importiamo Spacy e carichiamo il modulo per la lingua inglese."
      ]
    },
    {
      "metadata": {
        "id": "AKKRF1qFGOjm",
        "colab_type": "code",
        "colab": {}
      },
      "cell_type": "code",
      "source": [
        "import spacy\n",
        "\n",
        "nlp = spacy.load(\"en_core_web_sm\")"
      ],
      "execution_count": 0,
      "outputs": []
    },
    {
      "metadata": {
        "id": "jBBpaOhwJ9O5",
        "colab_type": "text"
      },
      "cell_type": "markdown",
      "source": [
        "Creiamo un documento con una che contiene diverse entità, come una persona, un'organizzazione, una cifra e una data."
      ]
    },
    {
      "metadata": {
        "id": "cWZtxeGeJqiY",
        "colab_type": "code",
        "colab": {}
      },
      "cell_type": "code",
      "source": [
        "doc = nlp(\"Mark Zuckerberg acquired Whatsapp for 15 billions USD on 15 August 2014.\")"
      ],
      "execution_count": 0,
      "outputs": []
    },
    {
      "metadata": {
        "id": "egG6KwnIGUY4",
        "colab_type": "text"
      },
      "cell_type": "markdown",
      "source": [
        "Adesso possiamo accedere alle entità usando l'attributò *.ents*"
      ]
    },
    {
      "metadata": {
        "id": "qsHiXBuoL3NW",
        "colab_type": "code",
        "colab": {
          "base_uri": "https://localhost:8080/",
          "height": 34
        },
        "outputId": "800647c6-e63a-4b3c-efda-ec2e0a52af63"
      },
      "cell_type": "code",
      "source": [
        "doc.ents"
      ],
      "execution_count": 14,
      "outputs": [
        {
          "output_type": "execute_result",
          "data": {
            "text/plain": [
              "(Mark Zuckerberg, Whatsapp, 15 billions USD, 15 August 2014)"
            ]
          },
          "metadata": {
            "tags": []
          },
          "execution_count": 14
        }
      ]
    },
    {
      "metadata": {
        "id": "LdnLdZnTL7zR",
        "colab_type": "text"
      },
      "cell_type": "markdown",
      "source": [
        "Se l'attributo è vuoto, vuol dire che nel nostro testo non è presente (o non è stata rilevata) nessuna entità, possiamo stampare il tipo di entità usando l'attributo *.label_* di ogni entità."
      ]
    },
    {
      "metadata": {
        "id": "VHuhsw-8KPHw",
        "colab_type": "code",
        "colab": {
          "base_uri": "https://localhost:8080/",
          "height": 103
        },
        "outputId": "4612d122-2a65-42b8-b7b2-7966499c40ed"
      },
      "cell_type": "code",
      "source": [
        "print(\"TOKEN\\t\\tENTITA'\")\n",
        "\n",
        "for ent in doc.ents:\n",
        "  print(ent.text+\"\\t\\t\"+ent.label_)"
      ],
      "execution_count": 15,
      "outputs": [
        {
          "output_type": "stream",
          "text": [
            "TOKEN\t\tENTITA'\n",
            "Mark Zuckerberg\t\tPERSON\n",
            "Whatsapp\t\tORG\n",
            "15 billions USD\t\tMONEY\n",
            "15 August 2014\t\tDATE\n"
          ],
          "name": "stdout"
        }
      ]
    },
    {
      "metadata": {
        "id": "jawpZz32jwfs",
        "colab_type": "text"
      },
      "cell_type": "markdown",
      "source": [
        "Anche in questo caso possiamo usare la funzione *explain* per ottenere una descrizione dell'entità."
      ]
    },
    {
      "metadata": {
        "id": "fYoH16dhj2uy",
        "colab_type": "code",
        "colab": {
          "base_uri": "https://localhost:8080/",
          "height": 123
        },
        "outputId": "0a6a92f9-b835-47e6-d592-f3494735b170"
      },
      "cell_type": "code",
      "source": [
        "print(\"TOKEN\\t\\tENTITA'\\t\\tDESCRIZIONE\")\n",
        "\n",
        "for ent in doc.ents:\n",
        "  print(ent.text+\"\\t\\t\"+ent.label_+\"\\t\\t\"+spacy.explain(ent.))"
      ],
      "execution_count": 16,
      "outputs": [
        {
          "output_type": "stream",
          "text": [
            "TOKEN\t\tENTITA'\t\tDESCRIZIONE\n",
            "Mark Zuckerberg\t\tPERSON\t\tPeople, including fictional\n",
            "Whatsapp\t\tORG\t\tCompanies, agencies, institutions, etc.\n",
            "15 billions USD\t\tMONEY\t\tMonetary values, including unit\n",
            "15 August 2014\t\tDATE\t\tAbsolute or relative dates or periods\n"
          ],
          "name": "stdout"
        }
      ]
    },
    {
      "metadata": {
        "id": "GaIgY28JMKfg",
        "colab_type": "text"
      },
      "cell_type": "markdown",
      "source": [
        "Come vedi Spacy ha fatto un'ottimo lavoro, vediamo se fa lo stesso con un'esempio in Italiano."
      ]
    },
    {
      "metadata": {
        "id": "tba5af0YOgKA",
        "colab_type": "code",
        "colab": {
          "base_uri": "https://localhost:8080/",
          "height": 174
        },
        "outputId": "8b648b0d-4ddd-4dda-9350-d0a589faab6b"
      },
      "cell_type": "code",
      "source": [
        "!python -m spacy download it_core_news_sm"
      ],
      "execution_count": 4,
      "outputs": [
        {
          "output_type": "stream",
          "text": [
            "Requirement already satisfied: it_core_news_sm==2.0.0 from https://github.com/explosion/spacy-models/releases/download/it_core_news_sm-2.0.0/it_core_news_sm-2.0.0.tar.gz#egg=it_core_news_sm==2.0.0 in /usr/local/lib/python3.6/dist-packages (2.0.0)\n",
            "\n",
            "\u001b[93m    Linking successful\u001b[0m\n",
            "    /usr/local/lib/python3.6/dist-packages/it_core_news_sm -->\n",
            "    /usr/local/lib/python3.6/dist-packages/spacy/data/it_core_news_sm\n",
            "\n",
            "    You can now load the model via spacy.load('it_core_news_sm')\n",
            "\n"
          ],
          "name": "stdout"
        }
      ]
    },
    {
      "metadata": {
        "id": "Anls_NgoOIRd",
        "colab_type": "code",
        "colab": {
          "base_uri": "https://localhost:8080/",
          "height": 140
        },
        "outputId": "9f9ff6cd-99ae-44aa-eb30-57bca0f55b34"
      },
      "cell_type": "code",
      "source": [
        "nlp = spacy.load(\"it_core_news_sm\")\n",
        "\n",
        "doc = nlp(\"Il 15 gennaio 2020 Giuseppe Gullo ha venduto la sua azienda NIGMATICA a Mediaset per 10 milioni di euro ed è andato a vivere ad Helsinki con il suo gatto Elon.\")\n",
        "\n",
        "print(\"TOKEN\\t\\tENTITA'\\t\\tDESCRIZIONE\")\n",
        "\n",
        "for ent in doc.ents:\n",
        "  print(ent.text+\"\\t\\t\"+ent.label_+\"\\t\\t\"+spacy.explain(ent.label_))"
      ],
      "execution_count": 34,
      "outputs": [
        {
          "output_type": "stream",
          "text": [
            "TOKEN\t\tENTITA'\t\tDESCRIZIONE\n",
            "Giuseppe Gullo\t\tPER\t\tNamed person or family.\n",
            "NIGMATICA\t\tORG\t\tCompanies, agencies, institutions, etc.\n",
            "Mediaset\t\tORG\t\tCompanies, agencies, institutions, etc.\n",
            "Helsinki\t\tLOC\t\tNon-GPE locations, mountain ranges, bodies of water\n",
            "Elon\t\tPER\t\tNamed person or family.\n"
          ],
          "name": "stdout"
        }
      ]
    },
    {
      "metadata": {
        "id": "r1Sk5wM0PQNq",
        "colab_type": "text"
      },
      "cell_type": "markdown",
      "source": [
        "Come vedi anche in italiano il risultato è buono ma non eccellente come per l'inglese, infatti non è riuscito a riconoscere la data, se certe parole sono importanti per il nostro corpus di testo possiamo assegnargli una entità manualmente. Per farlo dobbiamo ottenere l'hash dell'entità corretta, in questo caso un'organizzazione."
      ]
    },
    {
      "metadata": {
        "id": "xfT-us0rkjh6",
        "colab_type": "code",
        "colab": {
          "base_uri": "https://localhost:8080/",
          "height": 34
        },
        "outputId": "98273a68-62bb-4e9d-de74-045b934a80f0"
      },
      "cell_type": "code",
      "source": [
        "org = doc.vocab.strings[\"DATE\"]\n",
        "org"
      ],
      "execution_count": 37,
      "outputs": [
        {
          "output_type": "execute_result",
          "data": {
            "text/plain": [
              "388"
            ]
          },
          "metadata": {
            "tags": []
          },
          "execution_count": 37
        }
      ]
    },
    {
      "metadata": {
        "id": "f_a-tbbnlDTJ",
        "colab_type": "text"
      },
      "cell_type": "markdown",
      "source": [
        "E ci serve l'indice del token"
      ]
    },
    {
      "metadata": {
        "id": "-KXcpOyElFWz",
        "colab_type": "code",
        "colab": {
          "base_uri": "https://localhost:8080/",
          "height": 34
        },
        "outputId": "e0b3f836-7a9f-4d04-bb16-70b2c3f766be"
      },
      "cell_type": "code",
      "source": [
        "index = doc.text.split().index(\"15\")\n",
        "index"
      ],
      "execution_count": 38,
      "outputs": [
        {
          "output_type": "execute_result",
          "data": {
            "text/plain": [
              "1"
            ]
          },
          "metadata": {
            "tags": []
          },
          "execution_count": 38
        }
      ]
    },
    {
      "metadata": {
        "id": "8-6SL3xDlUMN",
        "colab_type": "text"
      },
      "cell_type": "markdown",
      "source": [
        "Ora dobbiamo creare un'oggetto span che rappresenterà il nostro token, all'oggetto passeremo gli indici di inizio e fine del token all'interno della frase e il label corretto."
      ]
    },
    {
      "metadata": {
        "id": "sX4hg6u8igxG",
        "colab_type": "code",
        "colab": {}
      },
      "cell_type": "code",
      "source": [
        "from spacy.tokens import Span\n",
        "\n",
        "                        \n",
        "nigma = Span(doc,index, index+3, label = org)"
      ],
      "execution_count": 0,
      "outputs": []
    },
    {
      "metadata": {
        "id": "uKHf7Ghdlreg",
        "colab_type": "text"
      },
      "cell_type": "markdown",
      "source": [
        "Adesso aggiungiamo lo span alle entità del nostro documento."
      ]
    },
    {
      "metadata": {
        "id": "MNez_QE3kxz9",
        "colab_type": "code",
        "colab": {}
      },
      "cell_type": "code",
      "source": [
        "doc.ents = list(doc.ents) + [nigma]"
      ],
      "execution_count": 0,
      "outputs": []
    },
    {
      "metadata": {
        "id": "xAFRKQOlnQxI",
        "colab_type": "text"
      },
      "cell_type": "markdown",
      "source": [
        "Verifichiamo"
      ]
    },
    {
      "metadata": {
        "id": "WMP0tlUJic-X",
        "colab_type": "code",
        "colab": {
          "base_uri": "https://localhost:8080/",
          "height": 157
        },
        "outputId": "dd555f97-0a6f-4fe8-9913-d6e2aa424bb0"
      },
      "cell_type": "code",
      "source": [
        "print(\"TOKEN\\t\\tENTITA'\\t\\tDESCRIZIONE\")\n",
        "\n",
        "for ent in doc.ents:\n",
        "  print(ent.text+\"\\t\\t\"+ent.label_+\"\\t\\t\"+spacy.explain(ent.label_))"
      ],
      "execution_count": 43,
      "outputs": [
        {
          "output_type": "stream",
          "text": [
            "TOKEN\t\tENTITA'\t\tDESCRIZIONE\n",
            "15 gennaio 2020\t\tDATE\t\tAbsolute or relative dates or periods\n",
            "Giuseppe Gullo\t\tPER\t\tNamed person or family.\n",
            "NIGMATICA\t\tORG\t\tCompanies, agencies, institutions, etc.\n",
            "Mediaset\t\tORG\t\tCompanies, agencies, institutions, etc.\n",
            "Helsinki\t\tLOC\t\tNon-GPE locations, mountain ranges, bodies of water\n",
            "Elon\t\tPER\t\tNamed person or family.\n"
          ],
          "name": "stdout"
        }
      ]
    },
    {
      "metadata": {
        "id": "iDQosQ19nSPa",
        "colab_type": "text"
      },
      "cell_type": "markdown",
      "source": [
        "Adesso abbiamo anche la data !"
      ]
    },
    {
      "metadata": {
        "id": "cCJi0QgzM1ZB",
        "colab_type": "text"
      },
      "cell_type": "markdown",
      "source": [
        "## Visualizzazione delle entità\n",
        "Spacy contiene un fantastico modulo per creare diversi tipi di visualizzazioni del testo chiamato Displacy. Importiamo displacy e utilizziamo per creare una rappresentazione visiva delle entità presenti nel testo."
      ]
    },
    {
      "metadata": {
        "id": "mJ0HBr2qKb2V",
        "colab_type": "code",
        "colab": {
          "base_uri": "https://localhost:8080/",
          "height": 122
        },
        "outputId": "bbeff476-2e01-41c4-905d-92552ec118d6"
      },
      "cell_type": "code",
      "source": [
        "from spacy import displacy\n",
        "\n",
        "nlp = spacy.load(\"en_core_web_sm\")\n",
        "doc = nlp(\"Jeff Bezos, founder and CEO of Amazon, an ecommerce company with headquarter in Seattle, became the world richest man on October 2017 with a net worth of 90 billions USD\")\n",
        "\n",
        "displacy.render(doc, style='ent', jupyter=True)"
      ],
      "execution_count": 33,
      "outputs": [
        {
          "output_type": "display_data",
          "data": {
            "text/html": [
              "<div class=\"entities\" style=\"line-height: 2.5\">\n",
              "<mark class=\"entity\" style=\"background: #aa9cfc; padding: 0.45em 0.6em; margin: 0 0.25em; line-height: 1; border-radius: 0.35em; box-decoration-break: clone; -webkit-box-decoration-break: clone\">\n",
              "    Jeff Bezos\n",
              "    <span style=\"font-size: 0.8em; font-weight: bold; line-height: 1; border-radius: 0.35em; text-transform: uppercase; vertical-align: middle; margin-left: 0.5rem\">PERSON</span>\n",
              "</mark>\n",
              ", founder and CEO of \n",
              "<mark class=\"entity\" style=\"background: #7aecec; padding: 0.45em 0.6em; margin: 0 0.25em; line-height: 1; border-radius: 0.35em; box-decoration-break: clone; -webkit-box-decoration-break: clone\">\n",
              "    Amazon\n",
              "    <span style=\"font-size: 0.8em; font-weight: bold; line-height: 1; border-radius: 0.35em; text-transform: uppercase; vertical-align: middle; margin-left: 0.5rem\">ORG</span>\n",
              "</mark>\n",
              ", an ecommerce company with headquarter in \n",
              "<mark class=\"entity\" style=\"background: #feca74; padding: 0.45em 0.6em; margin: 0 0.25em; line-height: 1; border-radius: 0.35em; box-decoration-break: clone; -webkit-box-decoration-break: clone\">\n",
              "    Seattle\n",
              "    <span style=\"font-size: 0.8em; font-weight: bold; line-height: 1; border-radius: 0.35em; text-transform: uppercase; vertical-align: middle; margin-left: 0.5rem\">GPE</span>\n",
              "</mark>\n",
              ", became the world richest man on \n",
              "<mark class=\"entity\" style=\"background: #bfe1d9; padding: 0.45em 0.6em; margin: 0 0.25em; line-height: 1; border-radius: 0.35em; box-decoration-break: clone; -webkit-box-decoration-break: clone\">\n",
              "    October 2017\n",
              "    <span style=\"font-size: 0.8em; font-weight: bold; line-height: 1; border-radius: 0.35em; text-transform: uppercase; vertical-align: middle; margin-left: 0.5rem\">DATE</span>\n",
              "</mark>\n",
              " with a net worth of \n",
              "<mark class=\"entity\" style=\"background: #e4e7d2; padding: 0.45em 0.6em; margin: 0 0.25em; line-height: 1; border-radius: 0.35em; box-decoration-break: clone; -webkit-box-decoration-break: clone\">\n",
              "    90 billions USD\n",
              "    <span style=\"font-size: 0.8em; font-weight: bold; line-height: 1; border-radius: 0.35em; text-transform: uppercase; vertical-align: middle; margin-left: 0.5rem\">MONEY</span>\n",
              "</mark>\n",
              "</div>"
            ],
            "text/plain": [
              "<IPython.core.display.HTML object>"
            ]
          },
          "metadata": {
            "tags": []
          }
        }
      ]
    },
    {
      "metadata": {
        "id": "zAM9_XZ0f8oq",
        "colab_type": "text"
      },
      "cell_type": "markdown",
      "source": [
        "Se lavoriamo su Jupyter Notebook o Colaboratory utilizziamo il parametro jupyter=True per visualizzare il grafico direttamente all'interno del notebook, altrimenti l'ouput del rendering sarà del codice HTML che possiamo salvare e visualizzare dentro al browser."
      ]
    }
  ]
}
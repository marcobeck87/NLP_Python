{
  "nbformat": 4,
  "nbformat_minor": 0,
  "metadata": {
    "colab": {
      "name": "espressioni_regolari.ipynb",
      "version": "0.3.2",
      "provenance": [],
      "include_colab_link": true
    },
    "kernelspec": {
      "name": "python3",
      "display_name": "Python 3"
    }
  },
  "cells": [
    {
      "cell_type": "markdown",
      "metadata": {
        "id": "view-in-github",
        "colab_type": "text"
      },
      "source": [
        "<a href=\"https://colab.research.google.com/github/ProfAI/nlp00/blob/master/3%20-%20Le%20espressioni%20regolari/espressioni_regolari.ipynb\" target=\"_parent\"><img src=\"https://colab.research.google.com/assets/colab-badge.svg\" alt=\"Open In Colab\"/></a>"
      ]
    },
    {
      "metadata": {
        "id": "4oE6IaJ-6eYO",
        "colab_type": "text"
      },
      "cell_type": "markdown",
      "source": [
        "# Usare le espressioni regolari con Python\n",
        "In questo notebook vederemo come possiamo utilizzare le espressioni regolari (regex) con Python, per pulire il testo o/e estrarre informazioni da esso. \n",
        "<br>\n",
        "Possiamo usare le espressioni regolari in Python con il modulo **re**, incluso nella Standard Library, importiamolo."
      ]
    },
    {
      "metadata": {
        "id": "0xXhkz1X6cB4",
        "colab_type": "code",
        "colab": {}
      },
      "cell_type": "code",
      "source": [
        "import re"
      ],
      "execution_count": 0,
      "outputs": []
    },
    {
      "metadata": {
        "id": "YfEG6UZWCra3",
        "colab_type": "text"
      },
      "cell_type": "markdown",
      "source": [
        "### Ricerca di una sotto-stringa.\n",
        "Possiamo effettuare una ricerca utilizzando la funzione *search* a cui dovremo passare il pattern da cercare e il testo in cui effettuare la ricerca."
      ]
    },
    {
      "metadata": {
        "id": "J5jenoB5_jRk",
        "colab_type": "code",
        "colab": {
          "base_uri": "https://localhost:8080/",
          "height": 34
        },
        "outputId": "68f58d8e-a62c-40f6-c13a-2820428a8eda"
      },
      "cell_type": "code",
      "source": [
        "text = \"Questo corso di Natural Language Processing spacca !\"\n",
        "\n",
        "pattern = \"corso\"\n",
        "search_pattern = re.search(pattern, text)\n",
        "\n",
        "print(type(search_pattern))"
      ],
      "execution_count": 36,
      "outputs": [
        {
          "output_type": "stream",
          "text": [
            "<class '_sre.SRE_Match'>\n"
          ],
          "name": "stdout"
        }
      ]
    },
    {
      "metadata": {
        "id": "JQNHLqMEYUGJ",
        "colab_type": "text"
      },
      "cell_type": "markdown",
      "source": [
        "Il risultato è un'oggetto di tipo *SRE_Match* che contiene al suo interno gli indici di inizio e fine della sotto-stringa all'interno della stringa, possiamo accedervi con il metodo *span()*."
      ]
    },
    {
      "metadata": {
        "id": "bjyuZMf1_vQd",
        "colab_type": "code",
        "colab": {
          "base_uri": "https://localhost:8080/",
          "height": 34
        },
        "outputId": "90dcb968-8b8f-412e-f2ef-1d308704b49b"
      },
      "cell_type": "code",
      "source": [
        "span = search_pattern.span()\n",
        "print(span)"
      ],
      "execution_count": 37,
      "outputs": [
        {
          "output_type": "stream",
          "text": [
            "(7, 12)\n"
          ],
          "name": "stdout"
        }
      ]
    },
    {
      "metadata": {
        "id": "HEgJSACFYhAf",
        "colab_type": "text"
      },
      "cell_type": "markdown",
      "source": [
        "Come vedi in questo caso la parola *corso* inzia all'indice 7 della stringa che abbiamo definito e termina all'indice 12. L'ouput del metodo *span* è una tupla che contiene entrambi gli, possiamo anche accedere ai singoli indici usando i metodi *start()* ed *end*, quindi possiamo usare questi valori per estrarre la sottostringa dalla nostra stringa."
      ]
    },
    {
      "metadata": {
        "id": "OjH8pULWARBg",
        "colab_type": "code",
        "colab": {
          "base_uri": "https://localhost:8080/",
          "height": 34
        },
        "outputId": "a56b1906-6df6-4ceb-e860-e0e8fd2250bd"
      },
      "cell_type": "code",
      "source": [
        "text[search_pattern.start():search_pattern.end()]"
      ],
      "execution_count": 38,
      "outputs": [
        {
          "output_type": "execute_result",
          "data": {
            "text/plain": [
              "'corso'"
            ]
          },
          "metadata": {
            "tags": []
          },
          "execution_count": 38
        }
      ]
    },
    {
      "metadata": {
        "id": "5MGGbQzkY70_",
        "colab_type": "text"
      },
      "cell_type": "markdown",
      "source": [
        "Piuttosto che usare lo slicing come sopra è più conveniente usare il metodo *group()* che fa esattamente la stessa cosa."
      ]
    },
    {
      "metadata": {
        "id": "gnubPWuGD_cq",
        "colab_type": "code",
        "colab": {
          "base_uri": "https://localhost:8080/",
          "height": 34
        },
        "outputId": "a9022f7c-f8f6-42a4-f0b8-bbb01c79ab7c"
      },
      "cell_type": "code",
      "source": [
        "search_pattern.group()"
      ],
      "execution_count": 39,
      "outputs": [
        {
          "output_type": "execute_result",
          "data": {
            "text/plain": [
              "'corso'"
            ]
          },
          "metadata": {
            "tags": []
          },
          "execution_count": 39
        }
      ]
    },
    {
      "metadata": {
        "id": "QU_yqHLBZC4C",
        "colab_type": "text"
      },
      "cell_type": "markdown",
      "source": [
        "Come abbiamo visto in precedenza possiamo fare questa stessa cosa con il metodo *find(pattern)* della classe *string* di Python, quindi perché utilizzare le espressioni regolari ? Perché con le espressioni regolari possiamo effettuare ricerche con pattern più generici, vediamo cosa vuol dire."
      ]
    },
    {
      "metadata": {
        "id": "W0oizddYCuX_",
        "colab_type": "text"
      },
      "cell_type": "markdown",
      "source": [
        "### Cercare un numero di telefono\n",
        "\n",
        "Sappiamo che all'interno del nostro testo è presente un numero telefonico, ma non sappiamo qual è il numero esatto, possiamo inserire come termine della ricerca un numero generico utilizzando il carattere \\d."
      ]
    },
    {
      "metadata": {
        "id": "IYhOgZr3CIe8",
        "colab_type": "code",
        "colab": {
          "base_uri": "https://localhost:8080/",
          "height": 34
        },
        "outputId": "78b04e66-4f0b-4dc6-8298-956a035ff796"
      },
      "cell_type": "code",
      "source": [
        "text = \"Questo corso di Natural Language Processing spacca, è il miglior corso di sempre e per qualsiasi problema posso chiamare Giuseppe all 333 123 9876 (non è il mio vero numero)!\"\n",
        "\n",
        "# il pattern di un'espressione regolare\n",
        "# si definisce con il carattere 'r' \n",
        "# prima della stringa\n",
        "\n",
        "pattern = r'\\d\\d\\d \\d\\d\\d \\d\\d\\d\\d'\n",
        "\n",
        "search_pattern = re.search(pattern, text)\n",
        "\n",
        "search_pattern.group()"
      ],
      "execution_count": 98,
      "outputs": [
        {
          "output_type": "execute_result",
          "data": {
            "text/plain": [
              "'333 123 9876'"
            ]
          },
          "metadata": {
            "tags": []
          },
          "execution_count": 98
        }
      ]
    },
    {
      "metadata": {
        "id": "13FWRHR1eBA0",
        "colab_type": "text"
      },
      "cell_type": "markdown",
      "source": [
        "Con il pattern definito nell'esempio abbiamo cercato tutte le sottostringhe che contengono 3 numeri, uno spazio, altri tre numeri, un'altro spazio e infine altri 4 numeri. Avremmo potuto utilizzare qualsiasi altro carattere al posto degli spazi."
      ]
    },
    {
      "metadata": {
        "id": "ua8TwaGzDP_O",
        "colab_type": "code",
        "colab": {
          "base_uri": "https://localhost:8080/",
          "height": 34
        },
        "outputId": "bcd4dc32-466b-4ce0-eb3b-4d23a45c379c"
      },
      "cell_type": "code",
      "source": [
        "text = \"Questo corso di Natural Language Processing spacca, è il miglior corso di sempre e per qualsiasi problema posso chiamare Giuseppe all 333-1234-9876 (non è il mio vero numero)!\"\n",
        "\n",
        "pattern = r'\\d\\d\\d-\\d\\d\\d\\d-\\d\\d\\d\\d'\n",
        "\n",
        "search_pattern = re.search(pattern, text)\n",
        "\n",
        "search_pattern.group()"
      ],
      "execution_count": 41,
      "outputs": [
        {
          "output_type": "execute_result",
          "data": {
            "text/plain": [
              "'333-1234-9876'"
            ]
          },
          "metadata": {
            "tags": []
          },
          "execution_count": 41
        }
      ]
    },
    {
      "metadata": {
        "id": "jHUhn6wceQ49",
        "colab_type": "text"
      },
      "cell_type": "markdown",
      "source": [
        "Un modo più elegante per indicate questo pattern è utilizzando un quantificatore, per farlo basta inserire il numero di caratteri tra parentesi graffe."
      ]
    },
    {
      "metadata": {
        "id": "TthQTLmZErX8",
        "colab_type": "code",
        "colab": {
          "base_uri": "https://localhost:8080/",
          "height": 34
        },
        "outputId": "2403b064-e0bb-494c-d2c3-7a0f546beac8"
      },
      "cell_type": "code",
      "source": [
        " text = \"Questo corso di Natural Language Processing spacca, è il miglior corso di sempre e per qualsiasi problema posso chiamare Giuseppe all 333-123-9876 (non è il mio vero numero)!\"\n",
        "  \n",
        "pattern = r'\\d{3}-\\d{3}-\\d{4}'\n",
        "\n",
        "search_pattern = re.search(pattern, text)\n",
        "\n",
        "search_pattern.group()"
      ],
      "execution_count": 99,
      "outputs": [
        {
          "output_type": "execute_result",
          "data": {
            "text/plain": [
              "'333-123-9876'"
            ]
          },
          "metadata": {
            "tags": []
          },
          "execution_count": 99
        }
      ]
    },
    {
      "metadata": {
        "id": "kdyZdjUneo59",
        "colab_type": "text"
      },
      "cell_type": "markdown",
      "source": [
        "Il risultato è lo stesso.\n",
        "<br><br>\n",
        "Possiamo anche dividere il nostro pattern in gruppi, per sapare le sue componenti, semplicemente inserendole tra parentesi tonde.\n",
        "<br>\n",
        "Ad esempio nel nostro caso potremmo separare prefisso internazionale, prefisso nazionale e la restante parte del numero."
      ]
    },
    {
      "metadata": {
        "id": "4-r34vA-EY3R",
        "colab_type": "code",
        "colab": {
          "base_uri": "https://localhost:8080/",
          "height": 34
        },
        "outputId": "db51e0f9-db12-43b9-ab65-a09c68d73c1c"
      },
      "cell_type": "code",
      "source": [
        "text = \"Questo corso di Natural Language Processing spacca, è il miglior corso di sempre e per qualsiasi problema posso chiamare Giuseppe al +39 333-123-9876 (non è il mio vero numero)!\"\n",
        "\n",
        "pattern = r'(\\d{2}) (\\d{3})-(\\d{3}-\\d{4})'\n",
        "\n",
        "search_pattern = re.search(pattern, text)\n",
        "\n",
        "search_pattern.group()"
      ],
      "execution_count": 58,
      "outputs": [
        {
          "output_type": "execute_result",
          "data": {
            "text/plain": [
              "'39 333-123-9876'"
            ]
          },
          "metadata": {
            "tags": []
          },
          "execution_count": 58
        }
      ]
    },
    {
      "metadata": {
        "id": "RbAM59Vme8Wp",
        "colab_type": "text"
      },
      "cell_type": "markdown",
      "source": [
        "Per ottenere il singolo gruppo dobbiamo passarne l'indice al metodo *group*\n",
        "<br>\n",
        "**NOTA BENE**\n",
        "<br>\n",
        "L'indice 0 rappresenta l'intera stringa."
      ]
    },
    {
      "metadata": {
        "id": "dren5vhNE0J6",
        "colab_type": "code",
        "colab": {
          "base_uri": "https://localhost:8080/",
          "height": 86
        },
        "outputId": "ac9a22ed-0801-42c0-a0c9-a1a930aaaab8"
      },
      "cell_type": "code",
      "source": [
        "print(search_pattern.group(0)) # numero intero\n",
        "print(search_pattern.group(1)) # prefisso internazionale\n",
        "print(search_pattern.group(2)) # prefisso nazionale\n",
        "print(search_pattern.group(3)) # numero"
      ],
      "execution_count": 51,
      "outputs": [
        {
          "output_type": "stream",
          "text": [
            "39 333-1234-9876\n",
            "39\n",
            "333\n",
            "1234-9876\n"
          ],
          "name": "stdout"
        }
      ]
    },
    {
      "metadata": {
        "id": "SAPhjSQjPU7W",
        "colab_type": "text"
      },
      "cell_type": "markdown",
      "source": [
        "### Ricerca multipla\n",
        "Effettuando una ricerca con il metodo *search* otterremo sempre e solo la prima occorrenza trovata, in caso volessimo cercare occorrenze multiple dobbiamo usare il metodo *findall*."
      ]
    },
    {
      "metadata": {
        "id": "K_7_MzNuPXhR",
        "colab_type": "code",
        "colab": {
          "base_uri": "https://localhost:8080/",
          "height": 34
        },
        "outputId": "49741d06-b78c-4138-b0df-365fcee1381a"
      },
      "cell_type": "code",
      "source": [
        "text = \"Questo corso di Natural Language Processing spacca, è il miglior corso di sempre e per qualsiasi problema posso chiamare Giuseppe al +39 333-123-9876 oppure al numero di Elon: +39 380-432-9876.\"\n",
        "\n",
        "pattern = r'(\\d{2}) (\\d{3})-(\\d{3}-\\d{4})'\n",
        "\n",
        "search_pattern = re.findall(pattern, text)\n",
        "\n",
        "type(search_pattern)\n",
        "print(search_pattern)"
      ],
      "execution_count": 65,
      "outputs": [
        {
          "output_type": "stream",
          "text": [
            "[('39', '333', '123-9876'), ('39', '380', '432-9876')]\n"
          ],
          "name": "stdout"
        }
      ]
    },
    {
      "metadata": {
        "id": "4eUmCvltfeee",
        "colab_type": "text"
      },
      "cell_type": "markdown",
      "source": [
        "L'output è una lista di tutte le occorrenze trovate."
      ]
    },
    {
      "metadata": {
        "id": "FGAuIPbhQQIr",
        "colab_type": "code",
        "colab": {
          "base_uri": "https://localhost:8080/",
          "height": 51
        },
        "outputId": "392108eb-9871-4cfb-bd72-5af2d39af380"
      },
      "cell_type": "code",
      "source": [
        "first_number = search_pattern[0]\n",
        "print(type(first_number))\n",
        "\n",
        "first_number = \" \".join(first_number)\n",
        "print(first_number)"
      ],
      "execution_count": 66,
      "outputs": [
        {
          "output_type": "stream",
          "text": [
            "<class 'tuple'>\n",
            "39 333 123-9876\n"
          ],
          "name": "stdout"
        }
      ]
    },
    {
      "metadata": {
        "id": "6BaXMVEQ0GW0",
        "colab_type": "text"
      },
      "cell_type": "markdown",
      "source": [
        "Se non siamo sicuri del numero di cifre possiamo specificare un limite del tipo \\d{2,5} che cercherà qualsiasi stringa composta da  2 a 5 numeri."
      ]
    },
    {
      "metadata": {
        "id": "ZoWsTTvU0OY3",
        "colab_type": "code",
        "colab": {
          "base_uri": "https://localhost:8080/",
          "height": 34
        },
        "outputId": "61cf8d39-27ea-4ee1-bd91-6c3a0cf6ef41"
      },
      "cell_type": "code",
      "source": [
        "text = \"Questo corso di Natural Language Processing spacca, è il miglior corso di sempre e per qualsiasi problema posso chiamare Giuseppe al +39 333-1234-987 oppure al numero di Elon: +39 380-432-9876.\"\n",
        "\n",
        "pattern = r'(\\d{2}) (\\d{3})-(\\d{3,5}-\\d{3,5})'\n",
        "\n",
        "search_pattern = re.findall(pattern, text)\n",
        "\n",
        "type(search_pattern)\n",
        "print(search_pattern)"
      ],
      "execution_count": 207,
      "outputs": [
        {
          "output_type": "stream",
          "text": [
            "[('39', '333', '1234-987'), ('39', '380', '432-9876')]\n"
          ],
          "name": "stdout"
        }
      ]
    },
    {
      "metadata": {
        "id": "KSGTsoTaVnfG",
        "colab_type": "text"
      },
      "cell_type": "markdown",
      "source": [
        "Vediamo come possiamo creare un'espressione regolare per tirare fuori tutti gli indirizzi email presenti nel testo.\n",
        "<br>\n",
        "Per farlo possiamo semplicemente cercare la presenta di una @ e poi prendere tutti i caratteri che la precedono e che la seguono fino allo spazio.\n",
        "<br>\n",
        "Per cercare tutti i caratteri che non siano uno spazio possiamo usare il carattere \\S seguito da un'altro quantificatore, il +.\n",
        "<br>\n",
        "Per comprendere il funzionamento del quantificatore + facciamo un esempio."
      ]
    },
    {
      "metadata": {
        "id": "20cL6Dpfg8tE",
        "colab_type": "code",
        "colab": {
          "base_uri": "https://localhost:8080/",
          "height": 71
        },
        "outputId": "5985371b-1508-428f-d014-0f9c45eb10bd"
      },
      "cell_type": "code",
      "source": [
        "text = \"Tanto va la gatta al lardo che ci lascia lo zampino\"\n",
        "\n",
        "print(re.findall(r'\\S', text))\n",
        "print(re.findall(r'\\S+', text))"
      ],
      "execution_count": 208,
      "outputs": [
        {
          "output_type": "stream",
          "text": [
            "['T', 'a', 'n', 't', 'o', 'v', 'a', 'l', 'a', 'g', 'a', 't', 't', 'a', 'a', 'l', 'l', 'a', 'r', 'd', 'o', 'c', 'h', 'e', 'c', 'i', 'l', 'a', 's', 'c', 'i', 'a', 'l', 'o', 'z', 'a', 'm', 'p', 'i', 'n', 'o']\n",
            "['Tanto', 'va', 'la', 'gatta', 'al', 'lardo', 'che', 'ci', 'lascia', 'lo', 'zampino']\n"
          ],
          "name": "stdout"
        }
      ]
    },
    {
      "metadata": {
        "id": "Uyq_FJMuk0v3",
        "colab_type": "text"
      },
      "cell_type": "markdown",
      "source": [
        "Per cercare tutti i caratteri che non siano uno spazio possiamo usare il carattere \\S, come vedi senza utilizzare il quntificatore + abbiamo ottenuto la lista di caratteri, mentre con il + la lista delle stringhe (ovvero tutti i caratteri fino al primo spazio).\n",
        "<br><br>\n",
        "**NOTA BENE**\n",
        "<br>\n",
        "Solitamente il maiuscolo e minuscolo nei caratteri delle espressioni regolari è utilizzato per indicare operazioni inverse, quindi ad esempio \\s selezionerà uno spazio mentre \\S selezionerà tutto ciò che non è uno spazio, possiamo anche esprimere una negazione con il carattere ^, quindi ^\\s=\\S\n",
        "<br><br>\n",
        "Adesso utilizziamo queste informazioni per estrarre gli indirizzi email da del testo."
      ]
    },
    {
      "metadata": {
        "id": "oI6FqyBVVqWT",
        "colab_type": "code",
        "colab": {
          "base_uri": "https://localhost:8080/",
          "height": 34
        },
        "outputId": "5523195f-e9ab-40b0-8d76-217cc57723af"
      },
      "cell_type": "code",
      "source": [
        "text = \"Per assistenza scrivi pure a support@profession.ai oppure se vuoi parlare direttamente con Giuseppe scrivi a giuseppe@profession.ai.\"\n",
        "\n",
        "pattern = r'\\S+@\\S+'\n",
        "\n",
        "search_pattern = re.findall(pattern, text)\n",
        "\n",
        "type(search_pattern)\n",
        "print(search_pattern)"
      ],
      "execution_count": 100,
      "outputs": [
        {
          "output_type": "stream",
          "text": [
            "['support@profession.ai', 'giuseppe@profession.ai.']\n"
          ],
          "name": "stdout"
        }
      ]
    },
    {
      "metadata": {
        "id": "C2FiWKPORRIM",
        "colab_type": "text"
      },
      "cell_type": "markdown",
      "source": [
        "### Rimozione e sostituzione\n",
        "Possiamo anche utilizzare le espressioni regolari per \"pulire\" del testo, rimuovendo caratteri e pattern che non ci servono.\n",
        "In tal caso dobbiamo racchiudere i caratteri da eliminare tra parentesi quadre e utilizzare il metodo *sub* che prende come input il pattern, una stringa con la quale sostituire i pattern trovati e il testo nella quale effettuare la ricerca.\n",
        "<br>\n",
        "Possiamo rimuovere i pattern semplicemente utilizzando una stringa vuota come secondo parametro.\n",
        "<br>\n",
        "Ad esempio, proviamo a rimuovere la punteggiatura."
      ]
    },
    {
      "metadata": {
        "id": "WgtMVltrRcx6",
        "colab_type": "code",
        "colab": {
          "base_uri": "https://localhost:8080/",
          "height": 54
        },
        "outputId": "f3d39781-b6bd-4ec9-acea-f9e8afb92853"
      },
      "cell_type": "code",
      "source": [
        "text = \"Questo corso di Natural Language Processing spacca, è il miglior corso di sempre (o almeno spero che lo sia...)\"\n",
        "\n",
        "pattern = r'[!.,]'\n",
        "\n",
        "text = re.sub(pattern, '', text)\n",
        "\n",
        "print(text)"
      ],
      "execution_count": 72,
      "outputs": [
        {
          "output_type": "stream",
          "text": [
            "Questo corso di Natural Language Processing spacca è il miglior corso di sempre (o almeno spero che lo sia)\n"
          ],
          "name": "stdout"
        }
      ]
    },
    {
      "metadata": {
        "id": "CapbYv2nmNfA",
        "colab_type": "text"
      },
      "cell_type": "markdown",
      "source": [
        "Come vedi abbiamo rimosso tutti i caratteri di punteggiatura definit da noi, ma le parentesi tonde sono rimaste, perché ? Perché non avevamo specificato di rimuovere anche le parentesi tonde dal testo.\n",
        "<br>\n",
        "Un modo migliore per rimuovere la punteggiatura dal testo è usando questa espressione regolare **[^\\w\\s]**.\n",
        "<br>\n",
        "Il carattere \\w rappresenta tutti i caratteri alfanumerici, mentre il \\s rappresneta gli spazi, il ^ effettua una negazione, quindi la nostra espressione regolare selezionerà tutti i caratteri che non sono alfanumerici e che non sono spazi.\n"
      ]
    },
    {
      "metadata": {
        "id": "qACuhlEDS-V0",
        "colab_type": "code",
        "colab": {
          "base_uri": "https://localhost:8080/",
          "height": 54
        },
        "outputId": "391e202c-5f7b-4a6b-ea88-bfd93eb54209"
      },
      "cell_type": "code",
      "source": [
        "text = \"Questo corso di Natural Language Processing spacca è il miglior corso di sempre (o almeno spero che lo sia...)\"\n",
        "\n",
        "pattern = r'[^\\w\\s]'\n",
        "\n",
        "text = re.sub(pattern, '', text)\n",
        "\n",
        "print(text)"
      ],
      "execution_count": 166,
      "outputs": [
        {
          "output_type": "stream",
          "text": [
            "Questo corso di Natural Language Processing spacca è il miglior corso di sempre o almeno spero che lo sia\n"
          ],
          "name": "stdout"
        }
      ]
    },
    {
      "metadata": {
        "id": "FPhS0Shz3uu2",
        "colab_type": "text"
      },
      "cell_type": "markdown",
      "source": [
        "In un notebook precedente abbiamo detto che avremmo potuto usare un'espressione regolare per rimuovere gli spazi multipli, l'espressione è la seguente"
      ]
    },
    {
      "metadata": {
        "id": "epauC47S3WYX",
        "colab_type": "code",
        "colab": {
          "base_uri": "https://localhost:8080/",
          "height": 54
        },
        "outputId": "5642d400-4acb-4757-e1f4-2b47f01ca8c9"
      },
      "cell_type": "code",
      "source": [
        "text = \"   Questo        corso   di        Natural Language Processing spacca è     il miglior corso di sempre  (o     almeno spero che lo sia...)\"\n",
        "\n",
        "text = re.sub(r' +', ' ', text)\n",
        "\n",
        "print(text)"
      ],
      "execution_count": 228,
      "outputs": [
        {
          "output_type": "stream",
          "text": [
            " Questo corso di Natural Language Processing spacca è il miglior corso di sempre (o almeno spero che lo sia...)\n"
          ],
          "name": "stdout"
        }
      ]
    },
    {
      "metadata": {
        "id": "4_i2m2_B35FO",
        "colab_type": "text"
      },
      "cell_type": "markdown",
      "source": [
        "Come vedi abbiamo selezionato uno o più spazi e li abbiamo sostituiti con un unico spazio."
      ]
    },
    {
      "metadata": {
        "id": "rDqT3nIkwijE",
        "colab_type": "text"
      },
      "cell_type": "markdown",
      "source": [
        "## Altri caratteri utili"
      ]
    },
    {
      "metadata": {
        "id": "_nILikGKwp48",
        "colab_type": "code",
        "colab": {}
      },
      "cell_type": "code",
      "source": [
        "text = \"Questo corso di Natural Language Processing spacca è il miglior corso di sempre - Feedback di BestStudent95\""
      ],
      "execution_count": 0,
      "outputs": []
    },
    {
      "metadata": {
        "id": "QPv2ed8vzE6Y",
        "colab_type": "text"
      },
      "cell_type": "markdown",
      "source": [
        "#### Matching per inizio-fine (\\b)"
      ]
    },
    {
      "metadata": {
        "id": "w8frs8_Dw3OX",
        "colab_type": "code",
        "colab": {
          "base_uri": "https://localhost:8080/",
          "height": 34
        },
        "outputId": "ae615e98-b0d5-47d0-8b8f-338dbfe3c5bc"
      },
      "cell_type": "code",
      "source": [
        "# Selezioniamo tutte le stringhe che cominciano con il carattere 'c'\n",
        "re.findall(r\"\\bc\\w+\", text)"
      ],
      "execution_count": 194,
      "outputs": [
        {
          "output_type": "execute_result",
          "data": {
            "text/plain": [
              "['corso', 'corso', 'che']"
            ]
          },
          "metadata": {
            "tags": []
          },
          "execution_count": 194
        }
      ]
    },
    {
      "metadata": {
        "id": "SwcEvWnWxu0k",
        "colab_type": "code",
        "colab": {
          "base_uri": "https://localhost:8080/",
          "height": 34
        },
        "outputId": "9949ba24-abea-4aaa-c8e6-34087b457cfa"
      },
      "cell_type": "code",
      "source": [
        "# Selezioniamo tutte le stringhe che  con il terminano con il carattere 'o'\n",
        "re.findall(r\"\\w+o\\b\", text)"
      ],
      "execution_count": 196,
      "outputs": [
        {
          "output_type": "execute_result",
          "data": {
            "text/plain": [
              "['Questo', 'corso', 'corso', 'almeno', 'spero', 'lo']"
            ]
          },
          "metadata": {
            "tags": []
          },
          "execution_count": 196
        }
      ]
    },
    {
      "metadata": {
        "id": "VU6FFklGzRdR",
        "colab_type": "text"
      },
      "cell_type": "markdown",
      "source": [
        "### Ricerca per sets [ ] ( )"
      ]
    },
    {
      "metadata": {
        "id": "g4B_3Gc_ytro",
        "colab_type": "code",
        "colab": {
          "base_uri": "https://localhost:8080/",
          "height": 34
        },
        "outputId": "0d530f5b-a24e-4fbc-fcf7-113fa0117a94"
      },
      "cell_type": "code",
      "source": [
        "# Selezioniamo tutte le stringhe che contengono a,b o c al suo interno.\n",
        "re.findall(r\"\\w+[abc]\\w+\", text)"
      ],
      "execution_count": 202,
      "outputs": [
        {
          "output_type": "execute_result",
          "data": {
            "text/plain": [
              "['Natural', 'Language', 'Processing', 'spacca']"
            ]
          },
          "metadata": {
            "tags": []
          },
          "execution_count": 202
        }
      ]
    },
    {
      "metadata": {
        "id": "bv2kFx86zX5O",
        "colab_type": "code",
        "colab": {
          "base_uri": "https://localhost:8080/",
          "height": 34
        },
        "outputId": "f51857a4-8b95-4745-9065-785df471387a"
      },
      "cell_type": "code",
      "source": [
        "# Selezioniamo tutte le parole uguali a 'corso' e 'spacca'\n",
        "re.findall(r\"(corso|spacca)\", text)"
      ],
      "execution_count": 204,
      "outputs": [
        {
          "output_type": "execute_result",
          "data": {
            "text/plain": [
              "['corso', 'spacca', 'corso']"
            ]
          },
          "metadata": {
            "tags": []
          },
          "execution_count": 204
        }
      ]
    },
    {
      "metadata": {
        "id": "uMauKISw1eFK",
        "colab_type": "code",
        "colab": {
          "base_uri": "https://localhost:8080/",
          "height": 34
        },
        "outputId": "81d40ea7-7560-473a-d2f5-6612abd03dae"
      },
      "cell_type": "code",
      "source": [
        "# Selezioniamo tutte le parole che iniziano con una lettera da a a e.\n",
        "re.findall(r\"\\b[a-e]\\w+\", text)"
      ],
      "execution_count": 211,
      "outputs": [
        {
          "output_type": "execute_result",
          "data": {
            "text/plain": [
              "['corso', 'di', 'corso', 'di', 'almeno', 'che']"
            ]
          },
          "metadata": {
            "tags": []
          },
          "execution_count": 211
        }
      ]
    },
    {
      "metadata": {
        "id": "dPpeBbwt19Nu",
        "colab_type": "code",
        "colab": {
          "base_uri": "https://localhost:8080/",
          "height": 34
        },
        "outputId": "767c8f86-47fc-4227-8448-e9edc9538515"
      },
      "cell_type": "code",
      "source": [
        "# Selezioniamo tutte le parole che hanno contengono un numero tra 1 e 5\n",
        "re.findall(r\"\\w*[0-5]\\w*\", text)"
      ],
      "execution_count": 223,
      "outputs": [
        {
          "output_type": "execute_result",
          "data": {
            "text/plain": [
              "['BestStudent95']"
            ]
          },
          "metadata": {
            "tags": []
          },
          "execution_count": 223
        }
      ]
    },
    {
      "metadata": {
        "id": "-LqHeN0c2j45",
        "colab_type": "text"
      },
      "cell_type": "markdown",
      "source": [
        "L'operatore * è un'altro quantificatore che funziona in maniera simile al +, piuttosto che selezionare 1 o più occorrenze ne seleziona 0 o più, permettendoci di selezionare anche pattern che si trovano all'inizio o alla fine della parola."
      ]
    },
    {
      "metadata": {
        "id": "JQi3bvOv6sAQ",
        "colab_type": "text"
      },
      "cell_type": "markdown",
      "source": [
        "## LINK UTILI\n",
        "\n",
        "- https://medium.com/factory-mind/regex-tutorial-a-simple-cheatsheet-by-examples-649dc1c3f285\n",
        "- https://docs.python.org/3/library/re.html\n",
        "- https://www.w3schools.com/python/python_regex.asp"
      ]
    }
  ]
}
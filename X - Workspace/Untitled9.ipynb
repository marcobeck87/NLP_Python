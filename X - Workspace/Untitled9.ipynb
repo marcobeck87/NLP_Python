{
  "nbformat": 4,
  "nbformat_minor": 0,
  "metadata": {
    "colab": {
      "name": "Untitled9.ipynb",
      "version": "0.3.2",
      "provenance": [],
      "include_colab_link": true
    },
    "kernelspec": {
      "name": "python3",
      "display_name": "Python 3"
    }
  },
  "cells": [
    {
      "cell_type": "markdown",
      "metadata": {
        "id": "view-in-github",
        "colab_type": "text"
      },
      "source": [
        "<a href=\"https://colab.research.google.com/github/ProfAI/nlp00/blob/master/X%20-%20Workspace/Untitled9.ipynb\" target=\"_parent\"><img src=\"https://colab.research.google.com/assets/colab-badge.svg\" alt=\"Open In Colab\"/></a>"
      ]
    },
    {
      "metadata": {
        "id": "q3cb6BFDHJ44",
        "colab_type": "code",
        "colab": {
          "base_uri": "https://localhost:8080/",
          "height": 226
        },
        "outputId": "9454e099-ad14-452b-d9a4-85a3c4abc95c"
      },
      "cell_type": "code",
      "source": [
        "!wget https://clarin.eurac.edu/repository/xmlui/bitstream/handle/20.500.12124/3/paisa.raw.utf8.gz"
      ],
      "execution_count": 2,
      "outputs": [
        {
          "output_type": "stream",
          "text": [
            "--2019-04-20 14:26:47--  https://clarin.eurac.edu/repository/xmlui/bitstream/handle/20.500.12124/3/paisa.raw.utf8.gz\n",
            "Resolving clarin.eurac.edu (clarin.eurac.edu)... 46.18.24.111\n",
            "Connecting to clarin.eurac.edu (clarin.eurac.edu)|46.18.24.111|:443... connected.\n",
            "HTTP request sent, awaiting response... 200 OK\n",
            "Length: 546911754 (522M) [application/gzip]\n",
            "Saving to: ‘paisa.raw.utf8.gz’\n",
            "\n",
            "paisa.raw.utf8.gz   100%[===================>] 521.58M  5.14MB/s    in 1m 48s  \n",
            "\n",
            "2019-04-20 14:28:36 (4.84 MB/s) - ‘paisa.raw.utf8.gz’ saved [546911754/546911754]\n",
            "\n"
          ],
          "name": "stdout"
        }
      ]
    },
    {
      "metadata": {
        "id": "_kJMMCZmIgvK",
        "colab_type": "code",
        "colab": {}
      },
      "cell_type": "code",
      "source": [
        "!zcat paisa.raw.utf8.gz > paisa.raw"
      ],
      "execution_count": 0,
      "outputs": []
    },
    {
      "metadata": {
        "id": "A8S_sktYJwaO",
        "colab_type": "code",
        "colab": {
          "base_uri": "https://localhost:8080/",
          "height": 34
        },
        "outputId": "cf2719e2-52c1-4e77-952e-58041d9df31a"
      },
      "cell_type": "code",
      "source": [
        "!ls -sh paisa.raw"
      ],
      "execution_count": 6,
      "outputs": [
        {
          "output_type": "stream",
          "text": [
            "1.4G paisa.raw\n"
          ],
          "name": "stdout"
        }
      ]
    },
    {
      "metadata": {
        "id": "r6Jb2lDdJ4rJ",
        "colab_type": "code",
        "colab": {}
      },
      "cell_type": "code",
      "source": [
        "max_lines = 10000\n",
        "\n",
        "corpus = \"\"\n",
        "\n",
        "with open(\"paisa.raw\") as text_file:\n",
        "  for i,text in enumerate(text_file.readlines()):\n",
        "    corpus+=text\n",
        "    if(i>10000):\n",
        "      break"
      ],
      "execution_count": 0,
      "outputs": []
    },
    {
      "metadata": {
        "id": "l8fKWhRlKLPR",
        "colab_type": "code",
        "colab": {
          "base_uri": "https://localhost:8080/",
          "height": 34
        },
        "outputId": "e761f185-125a-4c8f-ca6d-87fad16c09de"
      },
      "cell_type": "code",
      "source": [
        "len(corpus)"
      ],
      "execution_count": 5,
      "outputs": [
        {
          "output_type": "execute_result",
          "data": {
            "text/plain": [
              "3213481"
            ]
          },
          "metadata": {
            "tags": []
          },
          "execution_count": 5
        }
      ]
    },
    {
      "metadata": {
        "id": "_YDbdrpcLuaY",
        "colab_type": "code",
        "colab": {}
      },
      "cell_type": "code",
      "source": [
        "X = corpus.split(\"<text\")"
      ],
      "execution_count": 0,
      "outputs": []
    },
    {
      "metadata": {
        "id": "qDPd6FWTLyVY",
        "colab_type": "code",
        "colab": {}
      },
      "cell_type": "code",
      "source": [
        "X = X[1:]"
      ],
      "execution_count": 0,
      "outputs": []
    },
    {
      "metadata": {
        "id": "Sus3W_ukLzcB",
        "colab_type": "code",
        "colab": {
          "base_uri": "https://localhost:8080/",
          "height": 157
        },
        "outputId": "8d3e0f31-9eb7-4f86-df8f-01326d12ba0e"
      },
      "cell_type": "code",
      "source": [
        "print(X[10])"
      ],
      "execution_count": 12,
      "outputs": [
        {
          "output_type": "stream",
          "text": [
            " id=\"7000019\" url=\"http://65.181.169.161/it/2008/06/integratori_non_detraibili_nella_dichiarazione_dei_redditi.html\">\n",
            "In risposta alla richiesta di un contribuente, l'Agenzia delle Entrate, con la risoluzione 256/E del 20 giugno chiarisce che gli integratori alimentari, ancorché prescritti da uno specialista, non possono beneficiare \"della detrazione d'imposta del 19%, di cui all'art. 15, comma 1, lett. c), del TUIR, riconosciuta esclusivamente per spese mediche e di assistenza specifica (diverse da quelle indicate nell'art. 10, comma 1, lett. b)), per spese chirurgiche, per l'acquisto di medicinali, per prestazioni specialistiche e per protesi dentarie e sanitarie in genere\". La ragione discenderebbe dalla natura stessa degli integratori che \"vengono somministrati, sostanzialmente, per cure dirette ad ottimizzare gli apporti nutrizionali e a migliorare le condizioni fisiologiche, senza per questo essere considerati dei medicinali. In ragione della loro composizione, gli integratori si qualificano, infatti, come prodotti appartenenti all'area alimentare\".\n",
            "Rating: 0/5 (0 votes cast)\n",
            "Apprendo con vivo stupore quanto riportato nella newletter del 27.06.2008 in merito alla non dertraibilità degli integratori per uso curativo. L'Agenzia delle Entrate del 20.06.08 motiva tale non detraibilità per la natura stessa degli integratori che \"vengono somministrati, sostanzialmente, per cure dirette ad ottimizzare gli apporti nutrizionali e a migliorare le condizioni fisiologiche, senza per questo essere considerati dei medicinali. In ragione della loro composizione, gli integratori si qualificano, infatti, come prodotti appartenenti all'area alimentare\".Tale risposta è in assoluto contrasto con quanto indicato sul settimanale Fisco Oggi del 29.11.2006 che riporto fedelmente:\n",
            "R: i prodotti integratori alimentari prescritti da un medico specialista a scopo curativo possono essere detratti ai sensi dell'articolo 15 del Tuir.Mi permetto quindi dissentire da quest'ultima risoluzione anche in considerazione che non tutti \"\" gli integratori servono per ottimizzare gli apporti nutrizionali ecc.Così ad es.nel mio caso che soffro di colesterolemia faccio uso del prodotto denominato Equisterol prescrittomi dal medico di base in luogo delle statine che hanno effetti collaterali sul sistema muscolare,sulle funzionalità renali ed epatiche,memtre a mia moglie che soffre di diverticolsi è stato prescritto l'integratore biologico Enterolactis dopo la cura con antibiotici.E' proprio vero che siamo in un Paese dove non esiste la certezza del diritto!\n",
            "</text>\n",
            "\n"
          ],
          "name": "stdout"
        }
      ]
    },
    {
      "metadata": {
        "id": "MWmfqpvsL-Vg",
        "colab_type": "code",
        "colab": {}
      },
      "cell_type": "code",
      "source": [
        ""
      ],
      "execution_count": 0,
      "outputs": []
    }
  ]
}
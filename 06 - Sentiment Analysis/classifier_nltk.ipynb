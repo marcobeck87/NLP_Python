{
  "nbformat": 4,
  "nbformat_minor": 0,
  "metadata": {
    "colab": {
      "name": "classifier_nltk.ipynb",
      "version": "0.3.2",
      "provenance": [],
      "include_colab_link": true
    },
    "kernelspec": {
      "name": "python3",
      "display_name": "Python 3"
    }
  },
  "cells": [
    {
      "cell_type": "markdown",
      "metadata": {
        "id": "view-in-github",
        "colab_type": "text"
      },
      "source": [
        "<a href=\"https://colab.research.google.com/github/ProfAI/nlp00/blob/master/6%20-%20Sentiment%20Analysis/classifier_nltk.ipynb\" target=\"_parent\"><img src=\"https://colab.research.google.com/assets/colab-badge.svg\" alt=\"Open In Colab\"/></a>"
      ]
    },
    {
      "metadata": {
        "id": "qwn3tv38gggz",
        "colab_type": "text"
      },
      "cell_type": "markdown",
      "source": [
        "# Creare un classificatore con NLTK\n",
        "In questo notebook vedremo come creare un classificatore usando NLTK per eseguire la sentimet analisys sull'IMDB Movies Review Dataset, in modo tale da classificare recensioni positive e negative. Il modello che creeremò sarà un classificatore bayesiano, che si presta molto bene a problemi di classificazione di documenti di testo.\n",
        "<br><br>\n",
        "Cominciamo importando nltk e, se non lo abbiamo già fatto, scarichiamo i moduli per le stopwords e la creazione dei tokens."
      ]
    },
    {
      "metadata": {
        "id": "Lc6EJH71QKEj",
        "colab_type": "code",
        "colab": {
          "base_uri": "https://localhost:8080/",
          "height": 137
        },
        "outputId": "7fff0a31-7179-4842-9da8-c39c18a24992"
      },
      "cell_type": "code",
      "source": [
        "import nltk\n",
        "\n",
        "nltk.download(\"stopwords\")\n",
        "nltk.download(\"punkt\")"
      ],
      "execution_count": 28,
      "outputs": [
        {
          "output_type": "stream",
          "text": [
            "[nltk_data] Downloading package stopwords to /root/nltk_data...\n",
            "[nltk_data]   Package stopwords is already up-to-date!\n",
            "[nltk_data] Downloading package punkt to /root/nltk_data...\n",
            "[nltk_data]   Package punkt is already up-to-date!\n",
            "[nltk_data] Downloading package movie_reviews to /root/nltk_data...\n",
            "[nltk_data]   Unzipping corpora/movie_reviews.zip.\n"
          ],
          "name": "stdout"
        },
        {
          "output_type": "execute_result",
          "data": {
            "text/plain": [
              "True"
            ]
          },
          "metadata": {
            "tags": []
          },
          "execution_count": 28
        }
      ]
    },
    {
      "metadata": {
        "id": "z-tUDouLeulP",
        "colab_type": "text"
      },
      "cell_type": "markdown",
      "source": [
        "## Procuriamoci il dataset\n",
        "Cominciamo scaricando il dataset, esegui la cella di codice qui sotto se sei su Google Colab o se hai wget installato sul tuo computer, altrimenti puoi scaricare il dataset da questo [link](http://ai.stanford.edu/~amaas/data/sentiment/aclImdb_v1.tar.gz).\n"
      ]
    },
    {
      "metadata": {
        "id": "dQx5m7I7hYNq",
        "colab_type": "code",
        "colab": {}
      },
      "cell_type": "code",
      "source": [
        "!wget http://ai.stanford.edu/~amaas/data/sentiment/aclImdb_v1.tar.gz"
      ],
      "execution_count": 0,
      "outputs": []
    },
    {
      "metadata": {
        "id": "d5ARe_sZhgT2",
        "colab_type": "text"
      },
      "cell_type": "markdown",
      "source": [
        "L'archivio è compresso in formato tar.gz, esegui la cella di codice qui sotto se sei su Colab o hai l'utility tar installata sul tuo PC (solitamente è installata di base su Linux/OsX) se sei su Windows puoi usare 7-zip (può essere che anche winrar vada bene per estrarlo)."
      ]
    },
    {
      "metadata": {
        "id": "snFAFzBpheFo",
        "colab_type": "code",
        "colab": {}
      },
      "cell_type": "code",
      "source": [
        "!tar -xzf aclImdb_v1.tar.gz"
      ],
      "execution_count": 0,
      "outputs": []
    },
    {
      "metadata": {
        "id": "FXIQXCbUhl0G",
        "colab_type": "text"
      },
      "cell_type": "markdown",
      "source": [
        "Se abbiamo estratto il dataset adesso avremo una cartella aclImdb con dentro diversi file e altre due cartelle, una con le recensioni per l'addestramento e una con le recensioni per il test. Il dataset ci fornisce il testo di ogni recensione, ognuna in un file txt differente, organizzate in cartelle corrispondenti al sentiment positivo/negativo. "
      ]
    },
    {
      "metadata": {
        "id": "fx5howoghuEW",
        "colab_type": "text"
      },
      "cell_type": "markdown",
      "source": [
        "## Estrazione delle features\n",
        "Il classificatore bayesiano di NLTK richiede che gli esempi gli vengano forniti all'interno di un array i cui valori sono un dizionario con dentro la frase e il label. La frase deve a sua volta essere codificata in un dizionario con ogni parola come chiave e il valore True come valore (non chiedermi perché).\n",
        "<br>\n",
        "Realizziamo una funzione che ci permetta di creare questo dataset."
      ]
    },
    {
      "metadata": {
        "id": "aGABqZh5QLCm",
        "colab_type": "code",
        "colab": {}
      },
      "cell_type": "code",
      "source": [
        "from os import listdir\n",
        "from nltk.corpus import stopwords\n",
        "import string\n",
        "\n",
        "\n",
        "def get_dataset(files_path, labels=[\"pos\",\"neg\"], samples_per_class=None):\n",
        "     \n",
        "    dataset = []\n",
        "        \n",
        "    for label in labels:\n",
        "      count = 0\n",
        "      path = files_path+label\n",
        "      for file in listdir(path):\n",
        "        review_file = open(path+\"/\"+file)\n",
        "        review = review_file.read()    \n",
        "        review = review.translate(string.punctuation)\n",
        "        words = nltk.word_tokenize(review)\n",
        "        \n",
        "        #words_filtered = [word for word in words if word not in stopwords.words(\"english\")]\n",
        "        #words_dict = dict([(word, True) for word in words_filtered])      \n",
        "  \n",
        "        words_dict = dict([(word, True) for word in words if word not in stopwords.words(\"english\")])\n",
        "  \n",
        "        dataset.append((words_dict,label))\n",
        "                  \n",
        "        count+=1\n",
        "        \n",
        "        if(samples_per_class!=None):\n",
        "          if(count>=samples_per_class):\n",
        "            break\n",
        "    \n",
        "    return dataset"
      ],
      "execution_count": 0,
      "outputs": []
    },
    {
      "metadata": {
        "id": "rDiWUzkpi1eB",
        "colab_type": "text"
      },
      "cell_type": "markdown",
      "source": [
        "Nella funzione abbiamo definito un parametro che ci permette di controllare gli esempi massimi per classe, infatti se cerchiamo di caricare tutte le 50.000 recensioni tra set di addestramento e di test, questo richiederebbe molto tempo, limitiamoci a 1000 per il momento per il set di addestramento e 500 per il set di test."
      ]
    },
    {
      "metadata": {
        "id": "N8NrzsdqToFq",
        "colab_type": "code",
        "colab": {
          "base_uri": "https://localhost:8080/",
          "height": 88
        },
        "outputId": "0d9ab627-dde5-4dab-e292-dd44efb05c26"
      },
      "cell_type": "code",
      "source": [
        "train_set = get_dataset(\"aclImdb/train/\", samples_per_class=1000)\n",
        "\n",
        "print(\"Prima recensione del train set\")\n",
        "print(train_set[0][0])\n",
        "print(\"Sentiment: %s\" % train_set[0][1])"
      ],
      "execution_count": 60,
      "outputs": [
        {
          "output_type": "stream",
          "text": [
            "Prima recensione del train set\n",
            "{'Just': True, 'finished': True, 'watching': True, 'movie': True, 'wanted': True, 'give': True, 'opinion': True, '(': True, 'justice': True, ')': True, 'movie.': True, '<': True, 'br': True, '/': True, '>': True, 'First': True, ',': True, 'get': True, 'things': True, 'straight': True, 'pretending': True, 'anything': True, 'solid': True, 'action': True, 'comedy': True, '.': True, 'It': True, \"n't\": True, 'aim': True, 'revolutionize': True, 'industry': True, 'garner': True, 'critical': True, 'acclaims': True, 'want': True, 'regarded': True, 'one': True, 'If': True, 'really': True, 'enjoy': True, 'fullest': True, 'I': True, 'suggest': True, 'discard': True, 'critical-mindedness': True, 'longing': True, 'good': True, 'plot': True, 'wo': True, 'find': True, 'With': True, 'established': True, 'let': True, 'us': True, 'low': True, 'expectations': True, 'simply': True, 'strong': True, 'Yes': True, 'moviegoers': True, 'underrated': True, 'well': True, 'never': True, 'expected': True, 'much': True, 'even': True, 'enjoyed': True, 'Stephen': True, 'Chow': True, 'flicks': True, 'Kung': True, 'Fu': True, 'Hustle': True, 'best': True, 'effort': True, 'would': True, \"'ve\": True, 'rated': True, '9': True, 'Action': True, 'tight': True, 'epic': True, 'chokes': True, 'right': True, 'places.': True, 'SPOILERS': True, 'alert': True, 'think': True, 'The': True, 'might': True, 'unreal': True, 'watch': True, 'serious': True, 'basketball': True, 'anyways': True, '?': True, 'There': True, 'lot': True, 'sports': True, 'movies': True, 'drama': True, 'already': True, 'create': True, 'another': True, 'end': True, \"'m\": True, 'sure': True, \"'re\": True, 'reading': True, 'Go': True, 'ahead': True, 'remember': True, 'thinking': True, '-': True, 'smile': True, 'laugh': True, 'Every': True, 'creates': True, 'masterpieces': True, 'Pulp': True, 'Fiction': True, 'Godfather': True, 'sometimes': True, 'better': True, 'pile': True, 'dump': True, 'saying': True, 'Dunk': True, 'deserves': True, 'recognition': True, 'previous': True, 'examples': True, 'talking': True, 'Chow-ish': True, \"'s\": True, 'top': True, 'ten.': True, 'Highly': True, 'recommended': True, 'love': True, ':': True, '-no': True, 'brainer': True, '-Kung': True, '-Death': True, 'Trance': True, '-what': True, 'heck': True, \"'ll\": True, 'great': True, 'time.': True, '9/10': True, 'cast': True, '^_^': True}\n",
            "Sentiment: pos\n"
          ],
          "name": "stdout"
        }
      ]
    },
    {
      "metadata": {
        "id": "gI5xOfnwWo3t",
        "colab_type": "code",
        "colab": {
          "base_uri": "https://localhost:8080/",
          "height": 88
        },
        "outputId": "d656d5f7-125d-4521-f93f-8497f7a2eb5d"
      },
      "cell_type": "code",
      "source": [
        "test_set = get_dataset(\"aclImdb/test/\", samples_per_class=500)\n",
        "\n",
        "print(\"Prima recensione del test set\")\n",
        "print(test_set[0][0])\n",
        "print(\"Sentiment: %s\" % test_set[0][1])"
      ],
      "execution_count": 61,
      "outputs": [
        {
          "output_type": "stream",
          "text": [
            "Prima recensione del test set\n",
            "{'Although': True, 'little': True, 'pleasant': True, '11-minute': True, 'musical': True, 'diversion': True, '(': True, \"'s\": True, 'rightly': True, 'billed': True, '``': True, 'Tabloid': True, 'Musical': True, \"''\": True, ')': True, 'EVERY': True, 'Sunday': True, 'one': True, 'famous': True, 'precious': True, 'documents': True, 'cinematic': True, 'history': True, ',': True, 'since': True, 'provides': True, 'invaluable': True, 'look': True, 'burgeoning': True, 'talents': True, 'two': True, 'screen': True, 'talented': True, 'beloved': True, 'performers': True, ':': True, 'Deanna': True, 'Durbin': True, 'Judy': True, 'Garland.': True, '<': True, 'br': True, '/': True, '>': True, 'often': True, 'cited': True, 'test': True, 'sorts': True, 'produced': True, 'MGM': True, 'adolescent': True, 'appeal': True, 'studio': True, 'contractees': True, 'Garland': True, 'whose': True, 'options': True, 'reportedly': True, 'coming': True, 'renewal': True, 'assertion': True, 'entirely': True, 'accurate': True, '.': True, 'By': True, 'time': True, 'July': True, '1936': True, 'contract': True, 'already': True, 'lapsed': True, 'immediately': True, 'signed': True, 'Universal': True, 'month': True, 'earlier': True, 'June': True, '1936.': True, 'However': True, 'provision': True, 'permitted': True, 'exercise': True, 'option': True, 'services': True, 'sixty': True, 'days': True, 'providing': True, 'yet': True, 'begun': True, 'work': True, 'picture': True, 'new': True, 'As': True, 'debut': True, 'vehicle': True, 'THREE': True, 'SMART': True, 'GIRLS': True, 'still': True, 'ready': True, 'begin': True, 'filming': True, 'chose': True, \"'\": True, 'although': True, 'officially': True, 'found': True, 'back': True, 'lot': True, 'agreeable': True, 'short': True, 'subject': True, 'fellow': True, 'singing': True, 'hopeful': True, 'This': True, 'along': True, 'far': True, 'extensive': True, 'prior': True, 'professional': True, 'performing': True, 'experience/training': True, 'included': True, 'appearances': True, 'several': True, 'movie': True, 'shorts': True, 'may': True, 'explain': True, 'seems': True, 'favor': True, 'giving': True, 'lines': True, 'speak': True, 'original': True, 'song': True, 'Americana': True, 'sing': True, 'offers': True, 'popular': True, 'classical': True, 'art': True, 'Il': True, 'Bacio': True, 'Luigi': True, 'Ardiiti': True, 'Certainly': True, 'would': True, 'make': True, 'perfect': True, 'sense': True, 'want': True, 'players': True, 'another': True, 'rival': True, 'studio.': True, 'Ironically': True, 'character': True, 'overtly': True, 'pro-active': True, 'girls': True, 'feisty': True, 'impulsive': True, 'Little': True, 'Miss': True, 'Fixit': True, 'persona': True, 'propel': True, 'instantaneous': True, 'worldwide': True, 'super': True, 'stardom': True, 'world': True, 'first': True, 'Teen': True, 'Idol': True, 'passive': True, 'wistful': True, 'wallflower': True, 'image': True, 'see': True, 'generally': True, 'cast': True, 'supporting': True, 'roles': True, 'opposite': True, 'frequent': True, 'partner': True, 'Mickey': True, 'Rooney': True, 'ZIEGFELD': True, 'GIRL': True, 'up-and-coming': True, 'Lana': True, 'Turner': True, 'Not': True, 'fifteenth': True, 'feature': True, '1942': True, 'FOR': True, 'ME': True, 'AND': True, 'MY': True, 'GAL': True, 'also': True, 'fully': True, 'adult': True, 'role': True, 'achieve': True, 'solo': True, 'above-the': True, 'title': True, 'billing': True, 'attraction': True, 'status': True, 'true': True, 'superstar': True, 'attained': True, 'instantaneously': True, 'six': True, 'years': True, 'earlier.': True, 'It': True, 'inaccurate': True, 'therefore': True, 'assert': True, 'press': True, \"'n\": True, 'public': True, 'almost': True, 'decade': True, 'Literally': True, 'foreclosure': True, 'signing': True, 'evidence': True, 'strongly': True, 'suggests': True, 'much': True, 'quicker': True, 'realize': True, 'full': True, 'potential': True, 'worth': True, 'noting': True, 'every': True, 'notable': True, 'accomplishment': True, 'achieved': True, 'starring': True, 'vehicles': True, 'specially': True, 'written': True, 'showcase': True, 'invited': True, 'plant': True, 'footprints': True, 'forecourt': True, 'Graumann': True, 'Chinese': True, 'Theater': True, 'receiving': True, 'Honorary': True, 'Oscar': True, 'recognition': True, 'talent': True, 'received': True, 'well': True, 'gifted': True, 'contemporary.': True, 'In': True, 'case': True, 'delightful': True, 'utterly': True, 'unpretentious': True, 'Its': True, 'plot': True, 'line': True, 'use': True, 'save': True, 'grandfather': True, 'forcibly': True, 'retired': True, 'town': True, 'council': True, 'conducting': True, 'concerts': True, 'park': True, 'presages': True, 'Let': True, 'Put': True, 'On': True, 'Show': True, 'musicals': True, '100': True, 'MEN': True, 'A': True, 'Unlike': True, 'later': True, 'BABES': True, 'films': True, 'never': True, 'treats': True, 'insubstantial': True, 'storyline': True, 'seriously': True, 'consequently': True, 'eleven': True, 'minute': True, 'running': True, 'flies': True, 'by.': True, 'Of': True, 'course': True, 'magic': True, 'observing': True, 'remarkable': True, 'talents/screen': True, 'presences': True, 'beginning': True, 'legendary': True, 'careers': True, 'Both': True, 'even': True, 'early': True, 'stage': True, 'possessed': True, 'natural': True, 'unaffected': True, 'presentation': True, 'singers': True, 'actresses': True, 'fairly': True, 'explodes': True, 'vitality': True, 'literally': True, 'punches': True, 'lyrics': True, 'jaunty': True, 'socks': True, 'across': True, 'number': True, 'appropriate': True, 'hand': True, 'gestures': True, 'chewing': True, 'words': True, 'screws': True, 'mouth': True, 'bugs': True, 'eyes': True, 'intense': True, 'eagerness': True, 'show': True, 'do.': True, 'contrast': True, 'demure': True, 'subdued': True, 'selection': True, 'delivery': True, 'Arditi': True, 'waltz': True, 'traditional': True, 'stand': True, 'variety': True, 'physically': True, 'emotive': True, 'turn': True, 'Nevertheless': True, 'though': True, 'miniature': True, 'diva': True, 'nothing': True, 'call': True, 'attention': True, 'candid': True, 'dazzling': True, 'smile': True, 'artless': True, 'easily': True, 'holds': True, 'jazz': True, 'baby': True, 'duetting': True, 'finale': True, 'makes': True, 'regret': True, 'producer': True, 'Joe': True, 'Pasternak': True, 'able': True, 'dream': True, 'pairing': True, 'film': True, 'refused': True, 'loan': True, 'Number': True, 'One': True, 'Asset': True, 'priceless': True, 'document': True, 'nascent': True, 'unique': True, 'See': True, 'get': True, 'chance': True, '!': True}\n",
            "Sentiment: pos\n"
          ],
          "name": "stdout"
        }
      ]
    },
    {
      "metadata": {
        "id": "eKWAvuFqjJlw",
        "colab_type": "text"
      },
      "cell_type": "markdown",
      "source": [
        "Adesso possiamo addestrare il nostro classificatore utilizzando la funzione *train(train_set)* del modulo *NaiveBayesClassifier* di NLTK."
      ]
    },
    {
      "metadata": {
        "id": "4wPCUiMZV1qI",
        "colab_type": "code",
        "colab": {}
      },
      "cell_type": "code",
      "source": [
        "from nltk.classify import NaiveBayesClassifier\n",
        "\n",
        "classifier = NaiveBayesClassifier.train(train_set)"
      ],
      "execution_count": 0,
      "outputs": []
    },
    {
      "metadata": {
        "id": "MEJb2ZdQjWac",
        "colab_type": "text"
      },
      "cell_type": "markdown",
      "source": [
        "Utilizziamo la funzione *accuracy* di NLTK per calcolare l'accuratezza delle predizioni del modello sul set di addestramento e sul set di test."
      ]
    },
    {
      "metadata": {
        "id": "Jsq4xMDETzdj",
        "colab_type": "code",
        "colab": {
          "base_uri": "https://localhost:8080/",
          "height": 51
        },
        "outputId": "be017a84-9a89-497c-b016-4882a508b39f"
      },
      "cell_type": "code",
      "source": [
        "from nltk.classify.util import accuracy\n",
        "\n",
        "accuracy_train = nltk.classify.util.accuracy(classifier, train_set)\n",
        "accuracy_test = nltk.classify.util.accuracy(classifier, test_set)\n",
        "\n",
        "print(\"Accuracy sul set di addestramento: %.3f \" % accuracy_train)\n",
        "print(\"Accuracy sul set di test: %.3f \" % accuracy_test)"
      ],
      "execution_count": 63,
      "outputs": [
        {
          "output_type": "stream",
          "text": [
            "Accuracy sul set di addestramento: 0.992 \n",
            "Accuracy sul set di test: 0.792 \n"
          ],
          "name": "stdout"
        }
      ]
    },
    {
      "metadata": {
        "id": "nIf3pRpMjg5Q",
        "colab_type": "text"
      },
      "cell_type": "markdown",
      "source": [
        "Il modello soffre di overfitting ed è normale dato che abbiamo usato soltanto pochi esempi, ma va bene così.<br>  L'oggetto *classifier* ritornato dalla funzione *train* ci permette di ottenere le parole più informative, cioè quelle che se trovate all'interno di una recensione, aumentano di molto la probabilità che questa appartenga all'una o all'altra classe.\n"
      ]
    },
    {
      "metadata": {
        "id": "pjFKsgu2eYhu",
        "colab_type": "code",
        "colab": {
          "base_uri": "https://localhost:8080/",
          "height": 206
        },
        "outputId": "d849478e-9dcc-4146-e0d4-d2693feede2f"
      },
      "cell_type": "code",
      "source": [
        "classifier.show_most_informative_features()"
      ],
      "execution_count": 51,
      "outputs": [
        {
          "output_type": "stream",
          "text": [
            "Most Informative Features\n",
            "                   waste = True              neg : pos    =     14.6 : 1.0\n",
            "                 wasting = True              neg : pos    =     13.7 : 1.0\n",
            "                  wasted = True              neg : pos    =     11.9 : 1.0\n",
            "                terrific = True              pos : neg    =     11.8 : 1.0\n",
            "                  deeply = True              pos : neg    =     11.7 : 1.0\n",
            "                   Davis = True              pos : neg    =     11.7 : 1.0\n",
            "              underrated = True              pos : neg    =     11.7 : 1.0\n",
            "                    8/10 = True              pos : neg    =     11.0 : 1.0\n",
            "              uninspired = True              neg : pos    =     10.3 : 1.0\n",
            "               stupidity = True              neg : pos    =     10.3 : 1.0\n"
          ],
          "name": "stdout"
        }
      ]
    },
    {
      "metadata": {
        "id": "Kjl19EBwkBte",
        "colab_type": "text"
      },
      "cell_type": "markdown",
      "source": [
        "Fatta eccezione per Davis (che non ho idea di chi sia), le parole sono tutte forti indicatori di una recensione negativa (es. waste, unispired, stupidity) o positiva (deeply, terrific, 8/10).\n",
        "<br>\n",
        "Probiamo ora ad utilizzare il modello per classificare recensioni scritte da noi, definiamo una funzione che crea il dizionario parola:True partendo dalla recensione"
      ]
    },
    {
      "metadata": {
        "id": "HIYR8uJ2kX_X",
        "colab_type": "code",
        "colab": {}
      },
      "cell_type": "code",
      "source": [
        "def create_word_features(review):\n",
        "  review = review.translate(string.punctuation)\n",
        "  words = nltk.word_tokenize(review)\n",
        "  words_dict = dict([(word, True) for word in words if word not in stopwords.words(\"english\")])\n",
        "  return words_dict"
      ],
      "execution_count": 0,
      "outputs": []
    },
    {
      "metadata": {
        "id": "4B3fhIM2lrFH",
        "colab_type": "text"
      },
      "cell_type": "markdown",
      "source": [
        "Ora utilizziamo il metodo *classify* insieme alla funzione definita sopra per classificare le recensioni."
      ]
    },
    {
      "metadata": {
        "id": "Hc2tSHock3qT",
        "colab_type": "code",
        "colab": {
          "base_uri": "https://localhost:8080/",
          "height": 34
        },
        "outputId": "b9677a66-97bb-4856-ca50-b1f625f6a906"
      },
      "cell_type": "code",
      "source": [
        "review = \"This movie was just great\"\n",
        "classifier.classify(create_word_features(review))"
      ],
      "execution_count": 74,
      "outputs": [
        {
          "output_type": "execute_result",
          "data": {
            "text/plain": [
              "'pos'"
            ]
          },
          "metadata": {
            "tags": []
          },
          "execution_count": 74
        }
      ]
    },
    {
      "metadata": {
        "id": "LdlUCtNClU_T",
        "colab_type": "code",
        "colab": {
          "base_uri": "https://localhost:8080/",
          "height": 34
        },
        "outputId": "e1093f6d-b8d0-4077-9a7b-a231d43ca0fb"
      },
      "cell_type": "code",
      "source": [
        "review = \"This movie was just terrible\"\n",
        "classifier.classify(create_word_features(review))"
      ],
      "execution_count": 75,
      "outputs": [
        {
          "output_type": "execute_result",
          "data": {
            "text/plain": [
              "'neg'"
            ]
          },
          "metadata": {
            "tags": []
          },
          "execution_count": 75
        }
      ]
    }
  ]
}